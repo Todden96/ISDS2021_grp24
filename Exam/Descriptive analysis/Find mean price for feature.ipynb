{
 "cells": [
  {
   "cell_type": "markdown",
   "id": "5e6b5cd9",
   "metadata": {},
   "source": [
    "Functions intended for descriptive characteristics"
   ]
  },
  {
   "cell_type": "code",
   "execution_count": 1,
   "id": "9f61ab98",
   "metadata": {},
   "outputs": [],
   "source": [
    "import pandas as pd\n",
    "import matplotlib.pyplot as plt\n",
    "import seaborn as sns"
   ]
  },
  {
   "cell_type": "markdown",
   "id": "6f5b6ec2",
   "metadata": {},
   "source": [
    "Function: For a given feature in a dataframe, output the mean price"
   ]
  },
  {
   "cell_type": "code",
   "execution_count": 2,
   "id": "822ad71f",
   "metadata": {},
   "outputs": [],
   "source": [
    "def meanPriceOfFeat(df, feature, def_value=1, price=\"price\"):\n",
    "    return df[df[feature]==def_value][price].mean()"
   ]
  },
  {
   "cell_type": "markdown",
   "id": "2c02ecc8",
   "metadata": {},
   "source": [
    "Function: For a list of features, output a dictionary of mean prices"
   ]
  },
  {
   "cell_type": "code",
   "execution_count": 3,
   "id": "bb3b2d49",
   "metadata": {},
   "outputs": [],
   "source": [
    "def meanPricesOfFeats(df, feature_list, def_value=1, price=\"price\"):\n",
    "    feats, means = [], []\n",
    "    for f in feature_list:\n",
    "        feats.append(f)\n",
    "        mean = meanPriceOfFeat(df, f, def_value, price)\n",
    "        means.append(mean)\n",
    "    return dict(zip(feats, means))"
   ]
  },
  {
   "cell_type": "markdown",
   "id": "4209523e",
   "metadata": {},
   "source": [
    "Function: From dictionary, barplot the values of the keys against each other "
   ]
  },
  {
   "cell_type": "code",
   "execution_count": 4,
   "id": "b51e936b",
   "metadata": {},
   "outputs": [],
   "source": [
    "def PlotDict(d):\n",
    "    plt.bar(range(len(d)), list(d.values()), align=\"center\")\n",
    "    plt.xticks(range(len(d)), list(d.values()))\n",
    "    plt.show"
   ]
  },
  {
   "cell_type": "markdown",
   "id": "fb449c62",
   "metadata": {},
   "source": [
    "Function: Independent compact version of the above functions, returns a barplot of mean price from a list of features"
   ]
  },
  {
   "cell_type": "code",
   "execution_count": 5,
   "id": "479c30cc",
   "metadata": {},
   "outputs": [],
   "source": [
    "def meanPricesBarplot(df, feature_list, def_value=1, price=\"price\"):\n",
    "    feats, means = [], []\n",
    "    for f in feature_list:\n",
    "        if df[df[f]==def_value][price].mean() > 0:\n",
    "            feats.append(f)\n",
    "            mean = df[df[f]==def_value][price].mean()\n",
    "            means.append(mean)\n",
    "        else:\n",
    "            continue\n",
    "    d = (dict(zip(feats, means)))\n",
    "    print(sorted(d.items(), key=lambda x: x[1], reverse=True))\n",
    "    plt.bar(range(len(d)), list(d.values()), align=\"center\")\n",
    "    plt.xticks(range(len(d)), list(d.keys()))\n",
    "    plt.show\n",
    "    #print(d)"
   ]
  },
  {
   "cell_type": "markdown",
   "id": "ecb3d5c9",
   "metadata": {},
   "source": [
    "Applying to clean data"
   ]
  },
  {
   "cell_type": "code",
   "execution_count": 6,
   "id": "7a81e8df",
   "metadata": {},
   "outputs": [],
   "source": [
    "import os"
   ]
  },
  {
   "cell_type": "code",
   "execution_count": 7,
   "id": "e51d0440",
   "metadata": {},
   "outputs": [],
   "source": [
    "file_name = \"final_data_endelig_endelig.csv\""
   ]
  },
  {
   "cell_type": "code",
   "execution_count": 8,
   "id": "11f2eaf0",
   "metadata": {},
   "outputs": [
    {
     "data": {
      "text/plain": [
       "'C:\\\\Users\\\\danib\\\\Coding\\\\IntroToSDS\\\\ISDS2021_grp24\\\\Exam\\\\final data\\\\final_data_endelig_endelig.csv'"
      ]
     },
     "execution_count": 8,
     "metadata": {},
     "output_type": "execute_result"
    }
   ],
   "source": [
    "path = os.getcwd()[:-20] + \"final data\\\\\" + file_name\n",
    "path"
   ]
  },
  {
   "cell_type": "code",
   "execution_count": 9,
   "id": "50762ea3",
   "metadata": {},
   "outputs": [
    {
     "name": "stderr",
     "output_type": "stream",
     "text": [
      "C:\\Users\\danib\\anaconda3\\lib\\site-packages\\IPython\\core\\interactiveshell.py:3165: DtypeWarning: Columns (1) have mixed types.Specify dtype option on import or set low_memory=False.\n",
      "  has_raised = await self.run_ast_nodes(code_ast.body, cell_name,\n"
     ]
    }
   ],
   "source": [
    "df = pd.read_csv(path)"
   ]
  },
  {
   "cell_type": "code",
   "execution_count": 10,
   "id": "1bc39645",
   "metadata": {},
   "outputs": [
    {
     "data": {
      "text/plain": [
       "15.887326687811278"
      ]
     },
     "execution_count": 10,
     "metadata": {},
     "output_type": "execute_result"
    }
   ],
   "source": [
    "df[df[\"Action\"]==1][\"price\"].mean()"
   ]
  },
  {
   "cell_type": "code",
   "execution_count": 11,
   "id": "d3113378",
   "metadata": {},
   "outputs": [
    {
     "name": "stdout",
     "output_type": "stream",
     "text": [
      "['Indie', 'Low Confidence Metric', 'Action', 'Casual']\n"
     ]
    }
   ],
   "source": [
    "tags = list(df.columns[35:39])\n",
    "print(tags)"
   ]
  },
  {
   "cell_type": "code",
   "execution_count": 12,
   "id": "667037d3",
   "metadata": {},
   "outputs": [
    {
     "name": "stdout",
     "output_type": "stream",
     "text": [
      "[('Action', 15.887326687811278), ('Indie', 12.358757333332973), ('Casual', 10.787715273413577)]\n"
     ]
    },
    {
     "data": {
      "image/png": "[encoded data removed]",
      "text/plain": [
       "<Figure size 432x288 with 1 Axes>"
      ]
     },
     "metadata": {
      "needs_background": "light"
     },
     "output_type": "display_data"
    }
   ],
   "source": [
    "meanPricesBarplot(df, tags, def_value=1, price=\"price\")\n",
    "#plt.xticks(rotation=70)"
   ]
  },
  {
   "cell_type": "code",
   "execution_count": null,
   "id": "c13203ab",
   "metadata": {},
   "outputs": [],
   "source": []
  }
 ],
 "metadata": {
  "kernelspec": {
   "display_name": "Python 3",
   "language": "python",
   "name": "python3"
  },
  "language_info": {
   "codemirror_mode": {
    "name": "ipython",
    "version": 3
   },
   "file_extension": ".py",
   "mimetype": "text/x-python",
   "name": "python",
   "nbconvert_exporter": "python",
   "pygments_lexer": "ipython3",
   "version": "3.8.8"
  }
 },
 "nbformat": 4,
 "nbformat_minor": 5
}
