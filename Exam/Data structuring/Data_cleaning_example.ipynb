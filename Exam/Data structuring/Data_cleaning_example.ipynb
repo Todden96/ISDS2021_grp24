{
    "cells": [
        {
            "cell_type": "markdown",
            "source": [
                "Test data for *dataframe_id_1038*\r\n"
            ],
            "metadata": {}
        },
        {
            "cell_type": "code",
            "execution_count": 1,
            "source": [
                "import pandas as pd\r\n",
                "import numpy as np\r\n",
                "import os\r\n",
                "from datetime import datetime\r\n",
                "\r\n",
                "clocation = os.getcwd()\r\n",
                "dlocation = clocation[:-16] + 'data\\\\'\r\n",
                "filelist = os.listdir(dlocation)\r\n",
                "filelist\r\n",
                "\r\n",
                "\r\n",
                "\r\n"
            ],
            "outputs": [
                {
                    "output_type": "execute_result",
                    "data": {
                        "text/plain": [
                            "['dataframe_id_1003823.xlsx',\n",
                            " 'dataframe_id_10235.xlsx',\n",
                            " 'dataframe_id_1027.xlsx',\n",
                            " 'dataframe_id_1036.xlsx',\n",
                            " 'dataframe_id_1038.xlsx',\n",
                            " 'dataframe_id_10383.xlsx',\n",
                            " 'dataframe_id_10397.xlsx',\n",
                            " 'dataframe_id_10437.xlsx',\n",
                            " 'dataframe_id_10679.xlsx',\n",
                            " 'dataframe_id_10695.xlsx']"
                        ]
                    },
                    "metadata": {},
                    "execution_count": 1
                }
            ],
            "metadata": {}
        },
        {
            "cell_type": "code",
            "execution_count": 2,
            "source": [
                "\r\n",
                "dfs = []\r\n",
                "\r\n",
                "for i in filelist:\r\n",
                "    df = pd.read_excel(dlocation+i)\r\n",
                "    dfs.append(df)\r\n"
            ],
            "outputs": [],
            "metadata": {}
        },
        {
            "cell_type": "code",
            "execution_count": 3,
            "source": [
                "\r\n",
                "df = pd.concat(dfs)\r\n",
                "\r\n"
            ],
            "outputs": [],
            "metadata": {}
        },
        {
            "cell_type": "code",
            "execution_count": 4,
            "source": [
                "\r\n",
                "\r\n",
                "# Deleting games with no price\r\n",
                "df = df[df[\"price\"] != 0]\r\n",
                "\r\n",
                "# Deleting duplicates\r\n",
                "df = df.drop_duplicates([\"id\", \"name\"])\r\n",
                "\r\n",
                "# Converting timestring\r\n",
                "\r\n",
                "def try_parsing_date(text):\r\n",
                "    for fmt in ('%b %d, %Y', '%b %Y'):\r\n",
                "        try:\r\n",
                "            return datetime.strptime(text, fmt)\r\n",
                "        except ValueError:\r\n",
                "            pass\r\n",
                "    raise ValueError('no valid date format found')\r\n",
                "\r\n",
                "df['release_date'] = df['release_date'].apply(lambda x: try_parsing_date(x))\r\n",
                "\r\n"
            ],
            "outputs": [],
            "metadata": {}
        },
        {
            "cell_type": "code",
            "execution_count": 5,
            "source": [
                "from datetime import datetime\r\n",
                "\r\n",
                "def getDuration(then, now = datetime.now(), interval = \"default\"):\r\n",
                "\r\n",
                "    # Returns a duration as specified by variable interval\r\n",
                "    # Functions, except totalDuration, returns [quotient, remainder]\r\n",
                "\r\n",
                "    duration = now - then # For build-in functions\r\n",
                "    duration_in_s = duration.total_seconds() \r\n",
                "    \r\n",
                "    def years():\r\n",
                "      return divmod(duration_in_s, 31536000) # Seconds in a year=31536000.\r\n",
                "\r\n",
                "    def days(seconds = None):\r\n",
                "      return divmod(seconds if seconds != None else duration_in_s, 86400) # Seconds in a day = 86400\r\n",
                "\r\n",
                "    def hours(seconds = None):\r\n",
                "      return divmod(seconds if seconds != None else duration_in_s, 3600) # Seconds in an hour = 3600\r\n",
                "\r\n",
                "    def minutes(seconds = None):\r\n",
                "      return divmod(seconds if seconds != None else duration_in_s, 60) # Seconds in a minute = 60\r\n",
                "\r\n",
                "    def seconds(seconds = None):\r\n",
                "      if seconds != None:\r\n",
                "        return divmod(seconds, 1)   \r\n",
                "      return duration_in_s\r\n",
                "\r\n",
                "    def totalDuration():\r\n",
                "        y = years()\r\n",
                "        d = days(y[1]) # Use remainder to calculate next variable\r\n",
                "        h = hours(d[1])\r\n",
                "        m = minutes(h[1])\r\n",
                "        s = seconds(m[1])\r\n",
                "\r\n",
                "        return \"Time between dates: {} years, {} days, {} hours, {} minutes and {} seconds\".format(int(y[0]), int(d[0]), int(h[0]), int(m[0]), int(s[0]))\r\n",
                "\r\n",
                "    return {\r\n",
                "        'years': int(years()[0]),\r\n",
                "        'days': int(days()[0]),\r\n",
                "        'hours': int(hours()[0]),\r\n",
                "        'minutes': int(minutes()[0]),\r\n",
                "        'seconds': int(seconds()),\r\n",
                "        'default': totalDuration()\r\n",
                "    }[interval]\r\n",
                "\r\n",
                "\r\n",
                "df['time_delta'] = df['release_date'].apply(lambda x: getDuration(x, interval='days'))\r\n",
                "\r\n",
                "# Reset index\r\n",
                "df = df.reset_index(drop= True)\r\n",
                "\r\n"
            ],
            "outputs": [],
            "metadata": {}
        },
        {
            "cell_type": "code",
            "execution_count": null,
            "source": [
                "\r\n",
                "\r\n"
            ],
            "outputs": [],
            "metadata": {}
        },
        {
            "cell_type": "code",
            "execution_count": 10,
            "source": [
                "df.to_csv('clean_data.csv', index=False, header=True)"
            ],
            "outputs": [],
            "metadata": {}
        },
        {
            "cell_type": "code",
            "execution_count": null,
            "source": [],
            "outputs": [],
            "metadata": {}
        }
    ],
    "metadata": {
        "orig_nbformat": 4,
        "language_info": {
            "name": "python",
            "version": "3.8.3",
            "mimetype": "text/x-python",
            "codemirror_mode": {
                "name": "ipython",
                "version": 3
            },
            "pygments_lexer": "ipython3",
            "nbconvert_exporter": "python",
            "file_extension": ".py"
        },
        "kernelspec": {
            "name": "python3",
            "display_name": "Python 3.8.3 64-bit ('base': conda)"
        },
        "interpreter": {
            "hash": "5eb2e0c23f8e38f19a3cfe8ad2d7bbb895a86b1e106b247f2b169180d03d2047"
        }
    },
    "nbformat": 4,
    "nbformat_minor": 2
}