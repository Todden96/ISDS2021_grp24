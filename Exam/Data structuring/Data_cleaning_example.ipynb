{
    "cells": [
        {
            "cell_type": "markdown",
            "source": [
                "Test data for *dataframe_id_1038*\r\n"
            ],
            "metadata": {}
        },
        {
            "cell_type": "code",
            "execution_count": 6,
            "source": [
                "import pandas as pd\r\n",
                "import numpy as np\r\n",
                "import os\r\n",
                "from datetime import datetime\r\n",
                "from tqdm import tqdm\r\n",
                "\r\n",
                "clocation = os.getcwd()\r\n",
                "dlocation = clocation[:-16] + 'Tags_DataFrames_Output\\\\'\r\n",
                "filelist = os.listdir(dlocation)\r\n",
                "filelist\r\n",
                "\r\n",
                "len(filelist)"
            ],
            "outputs": [
                {
                    "output_type": "execute_result",
                    "data": {
                        "text/plain": [
                            "427"
                        ]
                    },
                    "metadata": {},
                    "execution_count": 6
                }
            ],
            "metadata": {}
        },
        {
            "cell_type": "code",
            "execution_count": 7,
            "source": [
                "\r\n",
                "dfs = []\r\n",
                "\r\n",
                "for i in tqdm(filelist):\r\n",
                "    df = pd.read_excel(dlocation+i)\r\n",
                "    dfs.append(df)\r\n"
            ],
            "outputs": [
                {
                    "output_type": "stream",
                    "name": "stderr",
                    "text": [
                        "100%|██████████| 427/427 [04:11<00:00,  1.69it/s]\n"
                    ]
                }
            ],
            "metadata": {}
        },
        {
            "cell_type": "code",
            "execution_count": 34,
            "source": [
                "\r\n",
                "df = pd.concat(dfs)\r\n",
                "\r\n"
            ],
            "outputs": [],
            "metadata": {}
        },
        {
            "cell_type": "code",
            "execution_count": 35,
            "source": [
                "\r\n",
                "\r\n",
                "# Deleting games with no price\r\n",
                "df = df[df[\"price\"] != 0]\r\n",
                "\r\n",
                "# Deleting duplicates\r\n",
                "df = df.drop_duplicates([\"id\", \"name\"])\r\n",
                "\r\n",
                "# Converting timestring\r\n",
                "\r\n",
                "def try_parsing_date(text):\r\n",
                "    for fmt in ('%b %d, %Y', '%b %Y'):\r\n",
                "        try:\r\n",
                "            return datetime.strptime(text, fmt)\r\n",
                "        except ValueError:\r\n",
                "            pass\r\n",
                "    raise ValueError('no valid date format found')\r\n",
                "\r\n",
                "# convert string to datetime if necessary \r\n",
                "\r\n",
                "# df['release_date'] = df['release_date'].apply(lambda x: try_parsing_date(x))\r\n",
                "\r\n",
                "df.shape\r\n",
                "\r\n",
                "# Removing the last 2 columns\r\n",
                "df = df.iloc[:,:-2]"
            ],
            "outputs": [],
            "metadata": {}
        },
        {
            "cell_type": "code",
            "execution_count": 39,
            "source": [
                "from datetime import datetime\r\n",
                "\r\n",
                "def getDuration(then, now = datetime.now(), interval = \"default\"):\r\n",
                "\r\n",
                "    # Returns a duration as specified by variable interval\r\n",
                "    # Functions, except totalDuration, returns [quotient, remainder]\r\n",
                "\r\n",
                "    duration = now - then # For build-in functions\r\n",
                "    duration_in_s = duration.total_seconds() \r\n",
                "    \r\n",
                "    def years():\r\n",
                "      return divmod(duration_in_s, 31536000) # Seconds in a year=31536000.\r\n",
                "\r\n",
                "    def days(seconds = None):\r\n",
                "      return divmod(seconds if seconds != None else duration_in_s, 86400) # Seconds in a day = 86400\r\n",
                "\r\n",
                "    def hours(seconds = None):\r\n",
                "      return divmod(seconds if seconds != None else duration_in_s, 3600) # Seconds in an hour = 3600\r\n",
                "\r\n",
                "    def minutes(seconds = None):\r\n",
                "      return divmod(seconds if seconds != None else duration_in_s, 60) # Seconds in a minute = 60\r\n",
                "\r\n",
                "    def seconds(seconds = None):\r\n",
                "      if seconds != None:\r\n",
                "        return divmod(seconds, 1)   \r\n",
                "      return duration_in_s\r\n",
                "\r\n",
                "    def totalDuration():\r\n",
                "        y = years()\r\n",
                "        d = days(y[1]) # Use remainder to calculate next variable\r\n",
                "        h = hours(d[1])\r\n",
                "        m = minutes(h[1])\r\n",
                "        s = seconds(m[1])\r\n",
                "\r\n",
                "        return \"Time between dates: {} years, {} days, {} hours, {} minutes and {} seconds\".format(int(y[0]), int(d[0]), int(h[0]), int(m[0]), int(s[0]))\r\n",
                "\r\n",
                "    return {\r\n",
                "        'years': int(years()[0]),\r\n",
                "        'days': int(days()[0]),\r\n",
                "        'hours': int(hours()[0]),\r\n",
                "        'minutes': int(minutes()[0]),\r\n",
                "        'seconds': int(seconds()),\r\n",
                "        'default': totalDuration()\r\n",
                "    }[interval]\r\n",
                "\r\n",
                "\r\n",
                "df['time_delta'] = df['release_date'].apply(lambda x: getDuration(x, interval='days'))\r\n",
                "\r\n",
                "# Reset index\r\n",
                "df = df.reset_index(drop= True)\r\n",
                "\r\n"
            ],
            "outputs": [
                {
                    "output_type": "error",
                    "ename": "TypeError",
                    "evalue": "unsupported operand type(s) for -: 'datetime.datetime' and 'int'",
                    "traceback": [
                        "\u001b[1;31m---------------------------------------------------------------------------\u001b[0m",
                        "\u001b[1;31mTypeError\u001b[0m                                 Traceback (most recent call last)",
                        "\u001b[1;32m~\\AppData\\Local\\Temp/ipykernel_24084/83831193.py\u001b[0m in \u001b[0;36m<module>\u001b[1;34m\u001b[0m\n\u001b[0;32m     45\u001b[0m \u001b[1;33m\u001b[0m\u001b[0m\n\u001b[0;32m     46\u001b[0m \u001b[1;33m\u001b[0m\u001b[0m\n\u001b[1;32m---> 47\u001b[1;33m \u001b[0mdf\u001b[0m\u001b[1;33m[\u001b[0m\u001b[1;34m'time_delta'\u001b[0m\u001b[1;33m]\u001b[0m \u001b[1;33m=\u001b[0m \u001b[0mdf\u001b[0m\u001b[1;33m[\u001b[0m\u001b[1;34m'release_date'\u001b[0m\u001b[1;33m]\u001b[0m\u001b[1;33m.\u001b[0m\u001b[0mapply\u001b[0m\u001b[1;33m(\u001b[0m\u001b[1;32mlambda\u001b[0m \u001b[0mx\u001b[0m\u001b[1;33m:\u001b[0m \u001b[0mgetDuration\u001b[0m\u001b[1;33m(\u001b[0m\u001b[0mx\u001b[0m\u001b[1;33m,\u001b[0m \u001b[0minterval\u001b[0m\u001b[1;33m=\u001b[0m\u001b[1;34m'days'\u001b[0m\u001b[1;33m)\u001b[0m\u001b[1;33m)\u001b[0m\u001b[1;33m\u001b[0m\u001b[1;33m\u001b[0m\u001b[0m\n\u001b[0m\u001b[0;32m     48\u001b[0m \u001b[1;33m\u001b[0m\u001b[0m\n\u001b[0;32m     49\u001b[0m \u001b[1;31m# Reset index\u001b[0m\u001b[1;33m\u001b[0m\u001b[1;33m\u001b[0m\u001b[1;33m\u001b[0m\u001b[0m\n",
                        "\u001b[1;32m~\\anaconda3\\lib\\site-packages\\pandas\\core\\series.py\u001b[0m in \u001b[0;36mapply\u001b[1;34m(self, func, convert_dtype, args, **kwds)\u001b[0m\n\u001b[0;32m   4106\u001b[0m             \u001b[1;32melse\u001b[0m\u001b[1;33m:\u001b[0m\u001b[1;33m\u001b[0m\u001b[1;33m\u001b[0m\u001b[0m\n\u001b[0;32m   4107\u001b[0m                 \u001b[0mvalues\u001b[0m \u001b[1;33m=\u001b[0m \u001b[0mself\u001b[0m\u001b[1;33m.\u001b[0m\u001b[0mastype\u001b[0m\u001b[1;33m(\u001b[0m\u001b[0mobject\u001b[0m\u001b[1;33m)\u001b[0m\u001b[1;33m.\u001b[0m\u001b[0m_values\u001b[0m\u001b[1;33m\u001b[0m\u001b[1;33m\u001b[0m\u001b[0m\n\u001b[1;32m-> 4108\u001b[1;33m                 \u001b[0mmapped\u001b[0m \u001b[1;33m=\u001b[0m \u001b[0mlib\u001b[0m\u001b[1;33m.\u001b[0m\u001b[0mmap_infer\u001b[0m\u001b[1;33m(\u001b[0m\u001b[0mvalues\u001b[0m\u001b[1;33m,\u001b[0m \u001b[0mf\u001b[0m\u001b[1;33m,\u001b[0m \u001b[0mconvert\u001b[0m\u001b[1;33m=\u001b[0m\u001b[0mconvert_dtype\u001b[0m\u001b[1;33m)\u001b[0m\u001b[1;33m\u001b[0m\u001b[1;33m\u001b[0m\u001b[0m\n\u001b[0m\u001b[0;32m   4109\u001b[0m \u001b[1;33m\u001b[0m\u001b[0m\n\u001b[0;32m   4110\u001b[0m         \u001b[1;32mif\u001b[0m \u001b[0mlen\u001b[0m\u001b[1;33m(\u001b[0m\u001b[0mmapped\u001b[0m\u001b[1;33m)\u001b[0m \u001b[1;32mand\u001b[0m \u001b[0misinstance\u001b[0m\u001b[1;33m(\u001b[0m\u001b[0mmapped\u001b[0m\u001b[1;33m[\u001b[0m\u001b[1;36m0\u001b[0m\u001b[1;33m]\u001b[0m\u001b[1;33m,\u001b[0m \u001b[0mSeries\u001b[0m\u001b[1;33m)\u001b[0m\u001b[1;33m:\u001b[0m\u001b[1;33m\u001b[0m\u001b[1;33m\u001b[0m\u001b[0m\n",
                        "\u001b[1;32mpandas\\_libs\\lib.pyx\u001b[0m in \u001b[0;36mpandas._libs.lib.map_infer\u001b[1;34m()\u001b[0m\n",
                        "\u001b[1;32m~\\AppData\\Local\\Temp/ipykernel_24084/83831193.py\u001b[0m in \u001b[0;36m<lambda>\u001b[1;34m(x)\u001b[0m\n\u001b[0;32m     45\u001b[0m \u001b[1;33m\u001b[0m\u001b[0m\n\u001b[0;32m     46\u001b[0m \u001b[1;33m\u001b[0m\u001b[0m\n\u001b[1;32m---> 47\u001b[1;33m \u001b[0mdf\u001b[0m\u001b[1;33m[\u001b[0m\u001b[1;34m'time_delta'\u001b[0m\u001b[1;33m]\u001b[0m \u001b[1;33m=\u001b[0m \u001b[0mdf\u001b[0m\u001b[1;33m[\u001b[0m\u001b[1;34m'release_date'\u001b[0m\u001b[1;33m]\u001b[0m\u001b[1;33m.\u001b[0m\u001b[0mapply\u001b[0m\u001b[1;33m(\u001b[0m\u001b[1;32mlambda\u001b[0m \u001b[0mx\u001b[0m\u001b[1;33m:\u001b[0m \u001b[0mgetDuration\u001b[0m\u001b[1;33m(\u001b[0m\u001b[0mx\u001b[0m\u001b[1;33m,\u001b[0m \u001b[0minterval\u001b[0m\u001b[1;33m=\u001b[0m\u001b[1;34m'days'\u001b[0m\u001b[1;33m)\u001b[0m\u001b[1;33m)\u001b[0m\u001b[1;33m\u001b[0m\u001b[1;33m\u001b[0m\u001b[0m\n\u001b[0m\u001b[0;32m     48\u001b[0m \u001b[1;33m\u001b[0m\u001b[0m\n\u001b[0;32m     49\u001b[0m \u001b[1;31m# Reset index\u001b[0m\u001b[1;33m\u001b[0m\u001b[1;33m\u001b[0m\u001b[1;33m\u001b[0m\u001b[0m\n",
                        "\u001b[1;32m~\\AppData\\Local\\Temp/ipykernel_24084/83831193.py\u001b[0m in \u001b[0;36mgetDuration\u001b[1;34m(then, now, interval)\u001b[0m\n\u001b[0;32m      6\u001b[0m     \u001b[1;31m# Functions, except totalDuration, returns [quotient, remainder]\u001b[0m\u001b[1;33m\u001b[0m\u001b[1;33m\u001b[0m\u001b[1;33m\u001b[0m\u001b[0m\n\u001b[0;32m      7\u001b[0m \u001b[1;33m\u001b[0m\u001b[0m\n\u001b[1;32m----> 8\u001b[1;33m     \u001b[0mduration\u001b[0m \u001b[1;33m=\u001b[0m \u001b[0mnow\u001b[0m \u001b[1;33m-\u001b[0m \u001b[0mthen\u001b[0m \u001b[1;31m# For build-in functions\u001b[0m\u001b[1;33m\u001b[0m\u001b[1;33m\u001b[0m\u001b[0m\n\u001b[0m\u001b[0;32m      9\u001b[0m     \u001b[0mduration_in_s\u001b[0m \u001b[1;33m=\u001b[0m \u001b[0mduration\u001b[0m\u001b[1;33m.\u001b[0m\u001b[0mtotal_seconds\u001b[0m\u001b[1;33m(\u001b[0m\u001b[1;33m)\u001b[0m\u001b[1;33m\u001b[0m\u001b[1;33m\u001b[0m\u001b[0m\n\u001b[0;32m     10\u001b[0m \u001b[1;33m\u001b[0m\u001b[0m\n",
                        "\u001b[1;31mTypeError\u001b[0m: unsupported operand type(s) for -: 'datetime.datetime' and 'int'"
                    ]
                }
            ],
            "metadata": {}
        },
        {
            "cell_type": "code",
            "execution_count": 6,
            "source": [
                "df.to_csv('clean_data.csv', index=False, header=True)"
            ],
            "outputs": [],
            "metadata": {}
        },
        {
            "cell_type": "code",
            "execution_count": null,
            "source": [],
            "outputs": [],
            "metadata": {}
        }
    ],
    "metadata": {
        "orig_nbformat": 4,
        "language_info": {
            "name": "python",
            "version": "3.8.5",
            "mimetype": "text/x-python",
            "codemirror_mode": {
                "name": "ipython",
                "version": 3
            },
            "pygments_lexer": "ipython3",
            "nbconvert_exporter": "python",
            "file_extension": ".py"
        },
        "kernelspec": {
            "name": "python3",
            "display_name": "Python 3.8.5 64-bit ('base': conda)"
        },
        "interpreter": {
            "hash": "8fac594bfae6525c0c41b4041d2d72effa188cc8ead05f81b1fab2bb098927fb"
        }
    },
    "nbformat": 4,
    "nbformat_minor": 2
}