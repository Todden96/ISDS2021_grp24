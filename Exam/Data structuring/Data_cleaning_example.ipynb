{
    "cells": [
        {
            "cell_type": "markdown",
            "source": [
                "Test data for *dataframe_id_1038*\r\n"
            ],
            "metadata": {}
        },
        {
            "cell_type": "code",
            "execution_count": 1,
            "source": [
                "import pandas as pd\r\n",
                "import numpy as np\r\n",
                "import os\r\n",
                "from datetime import datetime\r\n",
                "from tqdm import tqdm\r\n",
                "\r\n",
                "clocation = os.getcwd()\r\n",
                "dlocation = clocation[:-16] + 'Tags_DataFrames_Output\\\\'\r\n",
                "filelist = os.listdir(dlocation)\r\n",
                "filelist\r\n",
                "\r\n",
                "len(filelist)"
            ],
            "outputs": [
                {
                    "output_type": "execute_result",
                    "data": {
                        "text/plain": [
                            "427"
                        ]
                    },
                    "metadata": {},
                    "execution_count": 1
                }
            ],
            "metadata": {}
        },
        {
            "cell_type": "code",
            "execution_count": 12,
            "source": [
                "\r\n",
                "dfs = []\r\n",
                "\r\n",
                "for i in tqdm(filelist):\r\n",
                "    df = pd.read_excel(dlocation+i)\r\n",
                "    dfs.append(df)\r\n"
            ],
            "outputs": [
                {
                    "output_type": "stream",
                    "name": "stderr",
                    "text": [
                        "100%|██████████| 427/427 [04:34<00:00,  1.56it/s]\n"
                    ]
                }
            ],
            "metadata": {}
        },
        {
            "cell_type": "code",
            "execution_count": 13,
            "source": [
                "\r\n",
                "\r\n",
                "df = pd.concat(dfs)\r\n",
                "\r\n",
                "\r\n",
                "\r\n"
            ],
            "outputs": [
                {
                    "output_type": "execute_result",
                    "data": {
                        "text/plain": [
                            "(37215, 466)"
                        ]
                    },
                    "metadata": {},
                    "execution_count": 13
                }
            ],
            "metadata": {}
        },
        {
            "cell_type": "code",
            "execution_count": 14,
            "source": [
                "df.to_csv('raw_data.csv', index=False, header=True)"
            ],
            "outputs": [],
            "metadata": {}
        },
        {
            "cell_type": "code",
            "execution_count": 17,
            "source": [
                "df = df.drop_duplicates([\"id\", \"name\"])\r\n",
                "\r\n",
                "df.shape"
            ],
            "outputs": [
                {
                    "output_type": "execute_result",
                    "data": {
                        "text/plain": [
                            "(11993, 466)"
                        ]
                    },
                    "metadata": {},
                    "execution_count": 17
                }
            ],
            "metadata": {}
        },
        {
            "cell_type": "markdown",
            "source": [
                "shape of raw dataframe is (37215, 466)"
            ],
            "metadata": {}
        },
        {
            "cell_type": "code",
            "execution_count": 4,
            "source": [
                "df = pd.read_csv(r\"C:\\Users\\peter\\OneDrive\\Dokumenter\\GitHub\\ISDS2021_grp24\\Exam\\final data\\clean_data.csv\")"
            ],
            "outputs": [
                {
                    "output_type": "stream",
                    "name": "stderr",
                    "text": [
                        "C:\\Users\\peter\\anaconda3\\lib\\site-packages\\IPython\\core\\interactiveshell.py:3071: DtypeWarning: Columns (1) have mixed types.Specify dtype option on import or set low_memory=False.\n",
                        "  has_raised = await self.run_ast_nodes(code_ast.body, cell_name,\n"
                    ]
                }
            ],
            "metadata": {}
        },
        {
            "cell_type": "code",
            "execution_count": 7,
            "source": [],
            "outputs": [
                {
                    "output_type": "execute_result",
                    "data": {
                        "text/plain": [
                            "0       2021-05-10\n",
                            "1       2020-02-28\n",
                            "2       2018-08-21\n",
                            "3       2018-06-20\n",
                            "4       2018-07-24\n",
                            "           ...    \n",
                            "9982    2017-11-24\n",
                            "9983    2019-04-25\n",
                            "9984    2020-05-13\n",
                            "9985    2017-07-27\n",
                            "9986    2016-10-28\n",
                            "Name: release_date, Length: 9987, dtype: object"
                        ]
                    },
                    "metadata": {},
                    "execution_count": 7
                }
            ],
            "metadata": {}
        },
        {
            "cell_type": "code",
            "execution_count": 8,
            "source": [
                "\r\n",
                "\r\n",
                "# Deleting games with no price\r\n",
                "df = df[df[\"price\"] != 0]\r\n",
                "\r\n",
                "# Deleting duplicates\r\n",
                "df = df.drop_duplicates([\"id\", \"name\"])\r\n",
                "\r\n",
                "# Converting timestring\r\n",
                "\r\n",
                "def try_parsing_date(text):\r\n",
                "    for fmt in ('%Y-%m-%d %H:%M:%S'):\r\n",
                "        try:\r\n",
                "            return datetime.strptime(text, fmt)\r\n",
                "        except ValueError:\r\n",
                "            pass\r\n",
                "    raise ValueError('no valid date format found')\r\n",
                "\r\n",
                "# convert string to datetime if necessary \r\n",
                "\r\n",
                "df['release_date'] = pd.to_datetime(df['release_date'], format='%Y-%m-%d')\r\n",
                "\r\n"
            ],
            "outputs": [],
            "metadata": {}
        },
        {
            "cell_type": "code",
            "execution_count": 9,
            "source": [
                "from datetime import datetime\r\n",
                "\r\n",
                "def getDuration(then, now = datetime.now(), interval = \"default\"):\r\n",
                "\r\n",
                "    # Returns a duration as specified by variable interval\r\n",
                "    # Functions, except totalDuration, returns [quotient, remainder]\r\n",
                "\r\n",
                "    duration = now - then # For build-in functions\r\n",
                "    duration_in_s = duration.total_seconds() \r\n",
                "    \r\n",
                "    def years():\r\n",
                "      return divmod(duration_in_s, 31536000) # Seconds in a year=31536000.\r\n",
                "\r\n",
                "    def days(seconds = None):\r\n",
                "      return divmod(seconds if seconds != None else duration_in_s, 86400) # Seconds in a day = 86400\r\n",
                "\r\n",
                "    def hours(seconds = None):\r\n",
                "      return divmod(seconds if seconds != None else duration_in_s, 3600) # Seconds in an hour = 3600\r\n",
                "\r\n",
                "    def minutes(seconds = None):\r\n",
                "      return divmod(seconds if seconds != None else duration_in_s, 60) # Seconds in a minute = 60\r\n",
                "\r\n",
                "    def seconds(seconds = None):\r\n",
                "      if seconds != None:\r\n",
                "        return divmod(seconds, 1)   \r\n",
                "      return duration_in_s\r\n",
                "\r\n",
                "    def totalDuration():\r\n",
                "        y = years()\r\n",
                "        d = days(y[1]) # Use remainder to calculate next variable\r\n",
                "        h = hours(d[1])\r\n",
                "        m = minutes(h[1])\r\n",
                "        s = seconds(m[1])\r\n",
                "\r\n",
                "        return \"Time between dates: {} years, {} days, {} hours, {} minutes and {} seconds\".format(int(y[0]), int(d[0]), int(h[0]), int(m[0]), int(s[0]))\r\n",
                "\r\n",
                "    return {\r\n",
                "        'years': int(years()[0]),\r\n",
                "        'days': int(days()[0]),\r\n",
                "        'hours': int(hours()[0]),\r\n",
                "        'minutes': int(minutes()[0]),\r\n",
                "        'seconds': int(seconds()),\r\n",
                "        'default': totalDuration()\r\n",
                "    }[interval]\r\n",
                "\r\n",
                "\r\n",
                "df['time_delta'] = df['release_date'].apply(lambda x: getDuration(x, interval='days'))\r\n",
                "\r\n",
                "# Reset index\r\n",
                "df = df.reset_index(drop= True)\r\n",
                "\r\n"
            ],
            "outputs": [],
            "metadata": {}
        },
        {
            "cell_type": "code",
            "execution_count": 10,
            "source": [
                "df.to_csv('clean_data.csv', index=False, header=True)"
            ],
            "outputs": [],
            "metadata": {}
        },
        {
            "cell_type": "code",
            "execution_count": 11,
            "source": [
                "df.shape"
            ],
            "outputs": [
                {
                    "output_type": "execute_result",
                    "data": {
                        "text/plain": [
                            "(9987, 465)"
                        ]
                    },
                    "metadata": {},
                    "execution_count": 11
                }
            ],
            "metadata": {}
        },
        {
            "cell_type": "code",
            "execution_count": null,
            "source": [],
            "outputs": [],
            "metadata": {}
        }
    ],
    "metadata": {
        "orig_nbformat": 4,
        "language_info": {
            "name": "python",
            "version": "3.8.3",
            "mimetype": "text/x-python",
            "codemirror_mode": {
                "name": "ipython",
                "version": 3
            },
            "pygments_lexer": "ipython3",
            "nbconvert_exporter": "python",
            "file_extension": ".py"
        },
        "kernelspec": {
            "name": "python3",
            "display_name": "Python 3.8.3 64-bit ('base': conda)"
        },
        "interpreter": {
            "hash": "5eb2e0c23f8e38f19a3cfe8ad2d7bbb895a86b1e106b247f2b169180d03d2047"
        }
    },
    "nbformat": 4,
    "nbformat_minor": 2
}