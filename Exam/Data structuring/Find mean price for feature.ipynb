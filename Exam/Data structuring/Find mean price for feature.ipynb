{
 "cells": [
  {
   "cell_type": "markdown",
   "id": "5e6b5cd9",
   "metadata": {},
   "source": [
    "Functions intended for descriptive characteristics"
   ]
  },
  {
   "cell_type": "code",
   "execution_count": 2,
   "id": "9f61ab98",
   "metadata": {},
   "outputs": [],
   "source": [
    "import pandas as pd\n",
    "import matplotlib.pyplot as plt"
   ]
  },
  {
   "cell_type": "markdown",
   "id": "6f5b6ec2",
   "metadata": {},
   "source": [
    "Function: For a given feature in a dataframe, output the mean price"
   ]
  },
  {
   "cell_type": "code",
   "execution_count": 43,
   "id": "822ad71f",
   "metadata": {},
   "outputs": [],
   "source": [
    "def meanPriceOfFeat(df, feature, def_value=1, price=\"price\"):\n",
    "    return df[df[feature]==def_value][price].mean()"
   ]
  },
  {
   "cell_type": "code",
   "execution_count": 44,
   "id": "98161b28",
   "metadata": {},
   "outputs": [
    {
     "data": {
      "text/plain": [
       "nan"
      ]
     },
     "execution_count": 44,
     "metadata": {},
     "output_type": "execute_result"
    }
   ],
   "source": [
    "meanPriceOfFeat(df, \"Low Confidence Metric\")"
   ]
  },
  {
   "cell_type": "markdown",
   "id": "2c02ecc8",
   "metadata": {},
   "source": [
    "Function: For a list of features, output a dictionary of mean prices"
   ]
  },
  {
   "cell_type": "code",
   "execution_count": 4,
   "id": "bb3b2d49",
   "metadata": {},
   "outputs": [],
   "source": [
    "def meanPricesOfFeats(df, feature_list, def_value=1, price=\"price\"):\n",
    "    feats, means = [], []\n",
    "    for f in feature_list:\n",
    "        feats.append(f)\n",
    "        mean = meanPriceOfFeat(df, f, def_value, price)\n",
    "        means.append(mean)\n",
    "    return dict(zip(feats, means))"
   ]
  },
  {
   "cell_type": "markdown",
   "id": "4209523e",
   "metadata": {},
   "source": [
    "Function: From dictionary, barplot the values of the keys against each other "
   ]
  },
  {
   "cell_type": "code",
   "execution_count": 5,
   "id": "b51e936b",
   "metadata": {},
   "outputs": [],
   "source": [
    "def PlotDict(d):\n",
    "    plt.bar(range(len(d)), list(d.values()), align=\"center\")\n",
    "    plt.xticks(range(len(d)), list(d.values()))\n",
    "    plt.show"
   ]
  },
  {
   "cell_type": "markdown",
   "id": "fb449c62",
   "metadata": {},
   "source": [
    "Function: Independent compact version of the above functions, returns a barplot of mean price from a list of features"
   ]
  },
  {
   "cell_type": "code",
   "execution_count": 59,
   "id": "479c30cc",
   "metadata": {},
   "outputs": [],
   "source": [
    "def meanPricesBarplot(df, feature_list, def_value=1, price=\"price\"):\n",
    "    feats, means = [], []\n",
    "    for f in feature_list:\n",
    "        if df[df[f]==def_value][price].mean() > 0:\n",
    "            feats.append(f)\n",
    "            mean = df[df[f]==def_value][price].mean()\n",
    "            means.append(mean)\n",
    "        else:\n",
    "            continue\n",
    "    d = (dict(zip(feats, means)))\n",
    "    print(sorted(d.items(), key=lambda x: x[1], reverse=True))\n",
    "    plt.bar(range(len(d)), list(d.values()), align=\"center\")\n",
    "    plt.xticks(range(len(d)), list(d.keys()))\n",
    "    plt.show\n",
    "    #print(d)"
   ]
  },
  {
   "cell_type": "markdown",
   "id": "ecb3d5c9",
   "metadata": {},
   "source": [
    "Applying to clean data"
   ]
  },
  {
   "cell_type": "code",
   "execution_count": 31,
   "id": "50762ea3",
   "metadata": {},
   "outputs": [],
   "source": [
    "df = pd.read_csv(\"clean_data.csv\")"
   ]
  },
  {
   "cell_type": "code",
   "execution_count": 66,
   "id": "d3113378",
   "metadata": {},
   "outputs": [
    {
     "name": "stdout",
     "output_type": "stream",
     "text": [
      "['Indie', 'Low Confidence Metric', 'Action', 'Casual', 'Adventure', 'Singleplayer', 'Simulation', 'Strategy', 'RPG', '2D', 'Atmospheric', 'Puzzle', 'Free to Play', 'Early Access', 'Story Rich', 'Multiplayer', 'Pixel Graphics', 'Fantasy', '3D', 'Colorful']\n"
     ]
    }
   ],
   "source": [
    "tags = list(df.columns[37:57])\n",
    "print(tags)"
   ]
  },
  {
   "cell_type": "code",
   "execution_count": 67,
   "id": "667037d3",
   "metadata": {},
   "outputs": [
    {
     "name": "stdout",
     "output_type": "stream",
     "text": [
      "[('Multiplayer', 25.70614285714276), ('Fantasy', 23.087196261682205), ('RPG', 22.23756906077339), ('Adventure', 20.952083333333203), ('Atmospheric', 20.268150684931438), ('Singleplayer', 20.118333333333165), ('3D', 19.902638888888895), ('Story Rich', 19.838421052631503), ('Action', 19.06434285714278), ('Early Access', 19.034), ('Colorful', 18.501730769230775), ('Strategy', 17.847788461538368), ('Simulation', 17.568069498069377), ('Pixel Graphics', 15.555217391304355), ('Indie', 14.900450450450325), ('2D', 14.52993506493506), ('Casual', 14.286885245901539), ('Puzzle', 13.397889908256888), ('Free to Play', 11.656666666666666)]\n"
     ]
    },
    {
     "data": {
      "text/plain": [
       "(array([ 0,  1,  2,  3,  4,  5,  6,  7,  8,  9, 10, 11, 12, 13, 14, 15, 16,\n",
       "        17, 18]),\n",
       " [Text(0, 0, 'Indie'),\n",
       "  Text(1, 0, 'Action'),\n",
       "  Text(2, 0, 'Casual'),\n",
       "  Text(3, 0, 'Adventure'),\n",
       "  Text(4, 0, 'Singleplayer'),\n",
       "  Text(5, 0, 'Simulation'),\n",
       "  Text(6, 0, 'Strategy'),\n",
       "  Text(7, 0, 'RPG'),\n",
       "  Text(8, 0, '2D'),\n",
       "  Text(9, 0, 'Atmospheric'),\n",
       "  Text(10, 0, 'Puzzle'),\n",
       "  Text(11, 0, 'Free to Play'),\n",
       "  Text(12, 0, 'Early Access'),\n",
       "  Text(13, 0, 'Story Rich'),\n",
       "  Text(14, 0, 'Multiplayer'),\n",
       "  Text(15, 0, 'Pixel Graphics'),\n",
       "  Text(16, 0, 'Fantasy'),\n",
       "  Text(17, 0, '3D'),\n",
       "  Text(18, 0, 'Colorful')])"
      ]
     },
     "execution_count": 67,
     "metadata": {},
     "output_type": "execute_result"
    },
    {
     "data": {
      "image/png": "[encoded data removed]",
      "text/plain": [
       "<Figure size 432x288 with 1 Axes>"
      ]
     },
     "metadata": {
      "needs_background": "light"
     },
     "output_type": "display_data"
    }
   ],
   "source": [
    "meanPricesBarplot(df, tags, def_value=1, price=\"price\")\n",
    "plt.xticks(rotation=70)"
   ]
  },
  {
   "cell_type": "code",
   "execution_count": null,
   "id": "c13203ab",
   "metadata": {},
   "outputs": [],
   "source": []
  }
 ],
 "metadata": {
  "kernelspec": {
   "display_name": "Python 3",
   "language": "python",
   "name": "python3"
  },
  "language_info": {
   "codemirror_mode": {
    "name": "ipython",
    "version": 3
   },
   "file_extension": ".py",
   "mimetype": "text/x-python",
   "name": "python",
   "nbconvert_exporter": "python",
   "pygments_lexer": "ipython3",
   "version": "3.8.8"
  }
 },
 "nbformat": 4,
 "nbformat_minor": 5
}
