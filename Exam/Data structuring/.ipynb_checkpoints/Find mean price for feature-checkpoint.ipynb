{
 "cells": [
  {
   "cell_type": "markdown",
   "id": "5e6b5cd9",
   "metadata": {},
   "source": [
    "Functions intended for descriptive characteristics"
   ]
  },
  {
   "cell_type": "code",
   "execution_count": 2,
   "id": "9f61ab98",
   "metadata": {},
   "outputs": [],
   "source": [
    "import pandas as pd\n",
    "import matplotlib.pyplot as plt"
   ]
  },
  {
   "cell_type": "markdown",
   "id": "6f5b6ec2",
   "metadata": {},
   "source": [
    "Function: For a given feature in a dataframe, output the mean price"
   ]
  },
  {
   "cell_type": "code",
   "execution_count": 3,
   "id": "822ad71f",
   "metadata": {},
   "outputs": [],
   "source": [
    "def meanPriceOfFeat(df, feature, def_value=1, price=\"price\"):\n",
    "    return df[df[feature]==def_value][price].mean()"
   ]
  },
  {
   "cell_type": "markdown",
   "id": "2c02ecc8",
   "metadata": {},
   "source": [
    "Function: For a list of features, output a dictionary of mean prices"
   ]
  },
  {
   "cell_type": "code",
   "execution_count": 4,
   "id": "bb3b2d49",
   "metadata": {},
   "outputs": [],
   "source": [
    "def meanPricesOfFeats(df, feature_list, def_value=1, price=\"price\"):\n",
    "    feats, means = [], []\n",
    "    for f in feature_list:\n",
    "        feats.append(f)\n",
    "        mean = meanPriceOfFeat(df, f, def_value, price)\n",
    "        means.append(mean)\n",
    "    return dict(zip(feats, means))"
   ]
  },
  {
   "cell_type": "markdown",
   "id": "4209523e",
   "metadata": {},
   "source": [
    "Function: From dictionary, barplot the values of the keys against each other "
   ]
  },
  {
   "cell_type": "code",
   "execution_count": 5,
   "id": "b51e936b",
   "metadata": {},
   "outputs": [],
   "source": [
    "def PlotDict(d):\n",
    "    plt.bar(range(len(d)), list(d.values()), align=\"center\")\n",
    "    plt.xticks(range(len(d)), list(d.values()))\n",
    "    plt.show"
   ]
  },
  {
   "cell_type": "markdown",
   "id": "fb449c62",
   "metadata": {},
   "source": [
    "Function: Independent compact version of the above functions, returns a barplot of mean price from a list of features"
   ]
  },
  {
   "cell_type": "code",
   "execution_count": 6,
   "id": "479c30cc",
   "metadata": {},
   "outputs": [],
   "source": [
    "def meanPricesBarplot(df, feature_list, def_value=1, price=\"price\"):\n",
    "    feats, means = [], []\n",
    "    for f in feature_list:\n",
    "        feats.append(f)\n",
    "        mean = df[df[feature]==def_value][price].mean()\n",
    "        means.append(mean)\n",
    "    d = dict(zip(feats, means))\n",
    "    plt.bar(range(len(d)), list(d.values()), align=\"center\")\n",
    "    plt.xticks(range(len(d)), list(d.values()))\n",
    "    plt.show"
   ]
  },
  {
   "cell_type": "code",
   "execution_count": null,
   "id": "49f6eee3",
   "metadata": {},
   "outputs": [],
   "source": []
  }
 ],
 "metadata": {
  "kernelspec": {
   "display_name": "Python 3",
   "language": "python",
   "name": "python3"
  },
  "language_info": {
   "codemirror_mode": {
    "name": "ipython",
    "version": 3
   },
   "file_extension": ".py",
   "mimetype": "text/x-python",
   "name": "python",
   "nbconvert_exporter": "python",
   "pygments_lexer": "ipython3",
   "version": "3.8.8"
  }
 },
 "nbformat": 4,
 "nbformat_minor": 5
}
