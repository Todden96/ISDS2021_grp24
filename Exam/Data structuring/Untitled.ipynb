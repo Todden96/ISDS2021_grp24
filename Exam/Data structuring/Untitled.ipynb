{
 "cells": [
  {
   "cell_type": "markdown",
   "id": "80d234b2",
   "metadata": {},
   "source": []
  },
  {
   "cell_type": "code",
   "execution_count": 91,
   "id": "b7b1c70a",
   "metadata": {},
   "outputs": [],
   "source": [
    "import os\n",
    "import pandas as pd\n",
    "import numpy as np\n",
    "import re"
   ]
  },
  {
   "cell_type": "markdown",
   "id": "88ecfbd8",
   "metadata": {},
   "source": [
    "Loading the excel sheets into a dataframe"
   ]
  },
  {
   "cell_type": "code",
   "execution_count": 35,
   "id": "e74655f4",
   "metadata": {},
   "outputs": [
    {
     "data": {
      "text/plain": [
       "['dataframe_id_1003823.xlsx',\n",
       " 'dataframe_id_10235.xlsx',\n",
       " 'dataframe_id_1027.xlsx',\n",
       " 'dataframe_id_1036.xlsx',\n",
       " 'dataframe_id_1038.xlsx',\n",
       " 'dataframe_id_10383.xlsx',\n",
       " 'dataframe_id_10397.xlsx',\n",
       " 'dataframe_id_10437.xlsx',\n",
       " 'dataframe_id_10679.xlsx',\n",
       " 'dataframe_id_10695.xlsx']"
      ]
     },
     "execution_count": 35,
     "metadata": {},
     "output_type": "execute_result"
    }
   ],
   "source": [
    "clocation = os.getcwd()\n",
    "dlocation = clocation[:-16] + \"data\\\\\" \n",
    "filelist = os.listdir(dlocation)\n",
    "filelist"
   ]
  },
  {
   "cell_type": "code",
   "execution_count": 158,
   "id": "0f42b377",
   "metadata": {},
   "outputs": [],
   "source": [
    "dfs = []\n",
    "for f in filelist:\n",
    "    df = pd.read_excel(dlocation+f)\n",
    "    dfs.append(df)\n",
    "df = pd.concat(dfs)"
   ]
  },
  {
   "cell_type": "code",
   "execution_count": 159,
   "id": "e5848bec",
   "metadata": {},
   "outputs": [
    {
     "data": {
      "text/plain": [
       "866"
      ]
     },
     "execution_count": 159,
     "metadata": {},
     "output_type": "execute_result"
    }
   ],
   "source": [
    "len(df)"
   ]
  },
  {
   "cell_type": "markdown",
   "id": "fa12ffd9",
   "metadata": {},
   "source": [
    "Cleaning duplicates by id or name, and removing games with a price of 0$"
   ]
  },
  {
   "cell_type": "code",
   "execution_count": 160,
   "id": "cdcf0243",
   "metadata": {},
   "outputs": [],
   "source": [
    "df_c = df.drop_duplicates([\"id\", \"name\"], ignore_index=True)"
   ]
  },
  {
   "cell_type": "code",
   "execution_count": 161,
   "id": "0788f3ed",
   "metadata": {},
   "outputs": [
    {
     "data": {
      "text/plain": [
       "815"
      ]
     },
     "execution_count": 161,
     "metadata": {},
     "output_type": "execute_result"
    }
   ],
   "source": [
    "len(df_c)"
   ]
  },
  {
   "cell_type": "code",
   "execution_count": 162,
   "id": "1ca09d38",
   "metadata": {},
   "outputs": [],
   "source": [
    "df_c = df_c[df_c[\"price\"]>0]"
   ]
  },
  {
   "cell_type": "code",
   "execution_count": 163,
   "id": "15a89201",
   "metadata": {
    "scrolled": true
   },
   "outputs": [
    {
     "data": {
      "text/plain": [
       "636"
      ]
     },
     "execution_count": 163,
     "metadata": {},
     "output_type": "execute_result"
    }
   ],
   "source": [
    "len(df_c)"
   ]
  },
  {
   "cell_type": "markdown",
   "id": "8a13ecbc",
   "metadata": {},
   "source": [
    "Dropping games with no year listed under release_date"
   ]
  },
  {
   "cell_type": "code",
   "execution_count": 164,
   "id": "0c21520c",
   "metadata": {},
   "outputs": [
    {
     "data": {
      "text/plain": [
       "True"
      ]
     },
     "execution_count": 164,
     "metadata": {},
     "output_type": "execute_result"
    }
   ],
   "source": [
    "def check_date(string):\n",
    "    match = r\".*[1-2][0|9][0-9]{2}$\" #\".[1-2][0\\9][0-9]{2}\"\n",
    "    search = re.search(match, string)\n",
    "    return search != None\n",
    "check_date(\"1955\")"
   ]
  },
  {
   "cell_type": "code",
   "execution_count": 169,
   "id": "30deb4ee",
   "metadata": {
    "scrolled": true
   },
   "outputs": [],
   "source": [
    "df_rd = df_c[df_c.release_date.str.contains(\".*[1-2][0|9][0-9]{2}$\", regex=True)] #Appears to make no changes beyond previous filtering."
   ]
  },
  {
   "cell_type": "code",
   "execution_count": 190,
   "id": "61ad109e",
   "metadata": {},
   "outputs": [
    {
     "data": {
      "text/plain": [
       "'Indie'"
      ]
     },
     "execution_count": 190,
     "metadata": {},
     "output_type": "execute_result"
    }
   ],
   "source": [
    "df_rd.columns[37]"
   ]
  },
  {
   "cell_type": "code",
   "execution_count": 188,
   "id": "e2ddfdb5",
   "metadata": {},
   "outputs": [
    {
     "data": {
      "text/plain": [
       "'Reboot'"
      ]
     },
     "execution_count": 188,
     "metadata": {},
     "output_type": "execute_result"
    }
   ],
   "source": [
    "df_rd.columns[463]"
   ]
  },
  {
   "cell_type": "code",
   "execution_count": 181,
   "id": "322078ea",
   "metadata": {},
   "outputs": [],
   "source": [
    "#df_rd[\"release_date\"] = pd.to_datetime(df_rd[\"release_date\"].str.replace(\",\",\"\"), format =\"%b%d%y\") "
   ]
  },
  {
   "cell_type": "code",
   "execution_count": null,
   "id": "7b1a3211",
   "metadata": {},
   "outputs": [],
   "source": []
  }
 ],
 "metadata": {
  "kernelspec": {
   "display_name": "Python 3",
   "language": "python",
   "name": "python3"
  },
  "language_info": {
   "codemirror_mode": {
    "name": "ipython",
    "version": 3
   },
   "file_extension": ".py",
   "mimetype": "text/x-python",
   "name": "python",
   "nbconvert_exporter": "python",
   "pygments_lexer": "ipython3",
   "version": "3.8.8"
  }
 },
 "nbformat": 4,
 "nbformat_minor": 5
}
