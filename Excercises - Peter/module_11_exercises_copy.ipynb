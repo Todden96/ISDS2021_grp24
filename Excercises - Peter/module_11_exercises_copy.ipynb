{
 "cells": [
  {
   "cell_type": "markdown",
   "source": [
    "# Videos and Exercises for Session 11: Regression and Regularization\n",
    "\n",
    "In this combined teaching module and exercise set, you will learn about linear regression models in a machine learning perspective. We will see how overfitting can arise and how we can tackle it with a modification of the linear regression model.\n",
    "\n",
    "The structure of this notebook is as follows:\n",
    "1. Linear Regression Mechanics\n",
    "2. Overfitting and Underfitting in Linear Regression\n",
    "    - Exploring Overfitting in Linear Regression\n",
    "    - A Cure for Overfitting in Linear Regression\n",
    "3. Modelling Houseprices (Exercise)"
   ],
   "metadata": {
    "ExecuteTime": {
     "end_time": "2017-08-23T15:30:03.634114Z",
     "start_time": "2017-08-23T15:30:03.629294Z"
    }
   }
  },
  {
   "cell_type": "markdown",
   "source": [
    "## Packages\n",
    "First, we need to import our standard stuff. Notice that we are not interested in seeing the convergence warning in scikit-learn, so we suppress them for now."
   ],
   "metadata": {}
  },
  {
   "cell_type": "code",
   "execution_count": 1,
   "source": [
    "import warnings\r\n",
    "from sklearn.exceptions import ConvergenceWarning\r\n",
    "warnings.filterwarnings(action='ignore', category=ConvergenceWarning)\r\n",
    "\r\n",
    "import matplotlib.pyplot as plt\r\n",
    "import numpy as np \r\n",
    "import pandas as pd \r\n",
    "import seaborn as sns\r\n",
    "\r\n",
    "%matplotlib inline"
   ],
   "outputs": [],
   "metadata": {}
  },
  {
   "cell_type": "markdown",
   "source": [
    "# Part 1: Linear Regression Mechanics\n",
    "## Implementing and evaluating the gradient decent \n",
    " \n",
    "Normally we use OLS to estimate linear regression models, but this is only way of solving the problem of minimizing the least squares problem (that minimizes the sum of squared errors). In the video below we show how to implement gradient descent below and compare it along with other approximate solutions to OLS.\n",
    "\n",
    "You may find PML pp. 310-312, 319-324 useful as background reading."
   ],
   "metadata": {}
  },
  {
   "cell_type": "code",
   "execution_count": 2,
   "source": [
    "from IPython.display import YouTubeVideo\r\n",
    "YouTubeVideo('zyk0U7-JaH0', width=640, height=360)"
   ],
   "outputs": [
    {
     "output_type": "execute_result",
     "data": {
      "text/plain": [
       "<IPython.lib.display.YouTubeVideo at 0x22194df1730>"
      ],
      "image/jpeg": "[encoded data removed]",
      "text/html": [
       "\n",
       "        <iframe\n",
       "            width=\"640\"\n",
       "            height=\"360\"\n",
       "            src=\"https://www.youtube.com/embed/zyk0U7-JaH0\"\n",
       "            frameborder=\"0\"\n",
       "            allowfullscreen\n",
       "        ></iframe>\n",
       "        "
      ]
     },
     "metadata": {},
     "execution_count": 2
    }
   ],
   "metadata": {}
  },
  {
   "cell_type": "markdown",
   "source": [
    "We continue straight to an exercise where you are to implement a new estimator that we code up from scratch. We solve the numerical optimization using the gradient decent algorithm. This will be very similar to what we just saw in the video, but we will pay a bit more attention to each step in the process.\n",
    "\n",
    "Using our algorithm, we will fit it to some data, and compare our own solution to the standard solution from `sklearn`"
   ],
   "metadata": {}
  },
  {
   "cell_type": "markdown",
   "source": [
    "> **Ex. 11.1.0**: Import the dataset `tips` from the `seaborn`.\n",
    "\n",
    "\n",
    "*Hint*: use the `load_dataset` method in seaborn"
   ],
   "metadata": {}
  },
  {
   "cell_type": "code",
   "execution_count": 3,
   "source": [
    "# YOUR CODE HERE\r\n",
    "\r\n",
    "tips = sns.load_dataset('tips')"
   ],
   "outputs": [],
   "metadata": {
    "deletable": false,
    "nbgrader": {
     "cell_type": "code",
     "checksum": "6e812556b5b6774ba76a4a1ccb89a169",
     "grade": false,
     "grade_id": "cell-2dd56f36f76bce57",
     "locked": false,
     "schema_version": 3,
     "solution": true,
     "task": false
    }
   }
  },
  {
   "cell_type": "markdown",
   "source": [
    "> **Ex. 11.1.1**: Convert non-numeric variables to dummy variables for each category (remember to leave one column out for each catagorical variable, so you have a reference). Restructure the data so we get a dataset `y` containing the variable tip, and a dataset `X` containing the \n",
    "features. \n",
    "\n",
    "> *Hint*: You might want to use the `get_dummies` method in pandas, with the `drop_first = True` parameter. "
   ],
   "metadata": {}
  },
  {
   "cell_type": "code",
   "execution_count": 4,
   "source": [
    "# YOUR CODE HERE\r\n",
    "\r\n",
    "tips_num = pd.get_dummies(tips, drop_first=True)\r\n",
    "\r\n",
    "X = tips_num.drop('tip', axis = 1)\r\n",
    "y = tips_num['tip']\r\n"
   ],
   "outputs": [],
   "metadata": {
    "deletable": false,
    "nbgrader": {
     "cell_type": "code",
     "checksum": "2ce55b897e3acd6727916dffe21150f6",
     "grade": false,
     "grade_id": "cell-2e42eb4f59160bed",
     "locked": false,
     "schema_version": 3,
     "solution": true,
     "task": false
    }
   }
  },
  {
   "cell_type": "markdown",
   "source": [
    "> **Ex. 11.1.2**: Divide the features and target into test and train data. Make the split 50 pct. of each. The split data should be called `X_train`, `X_test`, `y_train`, `y_test`.\r\n",
    "\r\n",
    "> *Hint*: You may use `train_test_split` in `sklearn.model_selection`."
   ],
   "metadata": {}
  },
  {
   "cell_type": "code",
   "execution_count": 5,
   "source": [
    "# YOUR CODE HERE\r\n",
    "\r\n",
    "from sklearn.model_selection import train_test_split\r\n",
    "\r\n",
    "X_train, X_test, y_train, y_test = train_test_split(X,y, test_size= 0.5)\r\n",
    "\r\n",
    "\r\n"
   ],
   "outputs": [],
   "metadata": {
    "deletable": false,
    "nbgrader": {
     "cell_type": "code",
     "checksum": "eb3675bb8e21477c6f5c76f67a3a5ed0",
     "grade": false,
     "grade_id": "cell-ba197171f1b2bfef",
     "locked": false,
     "schema_version": 3,
     "solution": true,
     "task": false
    }
   }
  },
  {
   "cell_type": "markdown",
   "source": [
    "> **Ex. 11.1.3**: Normalize your features by converting to zero mean and one std. deviation.\n",
    "\n",
    "> *Hint*: Take a look at `StandardScaler` in `sklearn.preprocessing`. If in doubt about which distribution to scale, you may read [this post](https://stats.stackexchange.com/questions/174823/how-to-apply-standardization-normalization-to-train-and-testset-if-prediction-i)."
   ],
   "metadata": {}
  },
  {
   "cell_type": "code",
   "execution_count": 6,
   "source": [
    "# YOUR CODE HERE\r\n",
    "\r\n",
    "from sklearn.preprocessing import StandardScaler\r\n",
    "\r\n",
    "X_train = StandardScaler().fit_transform(X_train)\r\n",
    "X_test = StandardScaler().fit_transform(X_test)\r\n",
    "\r\n"
   ],
   "outputs": [],
   "metadata": {
    "deletable": false,
    "nbgrader": {
     "cell_type": "code",
     "checksum": "5a4d5e2ed6417f454e18385a2804a19b",
     "grade": false,
     "grade_id": "cell-8ab591d5927be1d5",
     "locked": false,
     "schema_version": 3,
     "solution": true,
     "task": false
    }
   }
  },
  {
   "cell_type": "markdown",
   "source": [
    "> **Ex. 11.1.4**: Make a function called `compute_error` to compute the prediction errors given input target `y_`, input features `X_` and input weights `w_`. You should use matrix multiplication.\n",
    ">\n",
    "> *Hint:* You can use the net-input fct. from yesterday.\n",
    "\n"
   ],
   "metadata": {}
  },
  {
   "cell_type": "code",
   "execution_count": 7,
   "source": [
    "# YOUR CODE HERE\r\n",
    "\r\n",
    "def net_input(X_, w_):\r\n",
    "    return X_.dot(w_[1:]) + w_[0]\r\n",
    "\r\n",
    "def compute_error(y_, X_, w_):\r\n",
    "    return y_ - net_input(X_, w_)\r\n"
   ],
   "outputs": [],
   "metadata": {
    "deletable": false,
    "nbgrader": {
     "cell_type": "code",
     "checksum": "b03c6de7d3488e832c4d3eb123587e17",
     "grade": false,
     "grade_id": "cell-a70101715bbbb443",
     "locked": false,
     "schema_version": 3,
     "solution": true,
     "task": false
    }
   }
  },
  {
   "cell_type": "markdown",
   "source": [
    "> **Ex. 11.1.5**: Make a function to update the weights given input target `y_`, input features `X_` and input weights `w_` as well as learning rate, $\\eta$, i.e. greek `eta`. You should use matrix multiplication."
   ],
   "metadata": {}
  },
  {
   "cell_type": "code",
   "execution_count": 8,
   "source": [
    "# INCLUDED IN ASSIGNMENT 2"
   ],
   "outputs": [],
   "metadata": {}
  },
  {
   "cell_type": "code",
   "execution_count": 18,
   "source": [
    "# YOUR CODE HERE\r\n",
    "\r\n",
    "def update_weights(y_, X_, w_, eta= 0.001):\r\n",
    "\r\n",
    "    \r\n",
    "    error = compute_error(y_, X_, w_)\r\n",
    "    w_[0] = w_[0] + eta*error.sum()\r\n",
    "    w_[1:] = w_[1:] + eta*X_.T.dot(error)\r\n",
    "\r\n",
    "    return w_\r\n",
    "    \r\n",
    "\r\n"
   ],
   "outputs": [],
   "metadata": {
    "deletable": false,
    "nbgrader": {
     "cell_type": "code",
     "checksum": "6cd45bb01781e944c41227e59873a6df",
     "grade": false,
     "grade_id": "cell-049443f1aafb8903",
     "locked": false,
     "schema_version": 3,
     "solution": true,
     "task": false
    }
   }
  },
  {
   "cell_type": "markdown",
   "source": [
    "> **Ex. 11.1.6**: Use the code below to initialize weights `w` at zero given feature set `X`. Notice how we include an extra weight that includes the bias term. Set the learning rate `eta` to 0.001. Make a loop with 50 iterations where you iteratively apply your weight updating function. \r\n",
    "\r\n",
    ">```python\r\n",
    "w = np.zeros(1+X_train.shape[1])\r\n",
    "```"
   ],
   "metadata": {}
  },
  {
   "cell_type": "code",
   "execution_count": 19,
   "source": [
    "# INCLUDED IN ASSIGNMENT 2"
   ],
   "outputs": [],
   "metadata": {}
  },
  {
   "cell_type": "code",
   "execution_count": 22,
   "source": [
    "# YOUR CODE HERE\r\n",
    "\r\n",
    "w = np.zeros(1+X_train.shape[1])\r\n",
    "\r\n",
    "\r\n",
    "for i in range(50):\r\n",
    "    update_weights(y_train, X_train, w_= w)\r\n",
    "        \r\n",
    "\r\n"
   ],
   "outputs": [],
   "metadata": {
    "deletable": false,
    "nbgrader": {
     "cell_type": "code",
     "checksum": "6308f5593a6e65ab57b86368ceef6669",
     "grade": false,
     "grade_id": "cell-74c4170d3d5fe322",
     "locked": false,
     "schema_version": 3,
     "solution": true,
     "task": false
    }
   }
  },
  {
   "cell_type": "code",
   "execution_count": null,
   "source": [
    "\r\n",
    "\r\n"
   ],
   "outputs": [],
   "metadata": {}
  },
  {
   "cell_type": "markdown",
   "source": [
    "> **Ex. 11.1.7**: Make a function to compute the mean squared error. Alter the loop so it makes 100 iterations and computes the MSE for test and train after each iteration, plot these in one figure. \r\n",
    "\r\n",
    "> Hint: You can use the following code to check that your model works:\r\n",
    ">```python\r\n",
    "from sklearn.linear_model import LinearRegression\r\n",
    "reg = LinearRegression()\r\n",
    "reg.fit(X_train, y_train)\r\n",
    "assert((w[1:] - reg.coef_).sum() < 0.01)\r\n",
    "```"
   ],
   "metadata": {}
  },
  {
   "cell_type": "code",
   "execution_count": 24,
   "source": [
    "# YOUR CODE HERE\r\n",
    "\r\n",
    "w = np.zeros(1+X_train.shape[1])\r\n",
    "\r\n",
    "def MSE(y_, X_, w_):\r\n",
    "    error_squared = compute_error(y_, X_, w_)**2\r\n",
    "    return error_squared.sum() / len(y_)\r\n",
    "\r\n",
    "MSE_train = []\r\n",
    "MSE_test = []\r\n",
    "\r\n",
    "for i in range(100):\r\n",
    "    w = update_weights(y_train, X_train, w)\r\n",
    "    \r\n",
    "    MSE_train.append(MSE(y_train, X_train, w))\r\n",
    "    MSE_test.append(MSE(y_test, X_test, w))\r\n",
    "\r\n"
   ],
   "outputs": [],
   "metadata": {
    "deletable": false,
    "nbgrader": {
     "cell_type": "code",
     "checksum": "863ac125b673cb711cfc5269a05d1bf5",
     "grade": false,
     "grade_id": "cell-5cabc75ac6152434",
     "locked": false,
     "schema_version": 3,
     "solution": true,
     "task": false
    }
   }
  },
  {
   "cell_type": "code",
   "execution_count": 25,
   "source": [
    "pd.Series(MSE_train).plot()\r\n",
    "pd.Series(MSE_test).plot()"
   ],
   "outputs": [
    {
     "output_type": "execute_result",
     "data": {
      "text/plain": [
       "<AxesSubplot:>"
      ]
     },
     "metadata": {},
     "execution_count": 25
    },
    {
     "output_type": "display_data",
     "data": {
      "text/plain": [
       "<Figure size 432x288 with 1 Axes>"
      ],
      "image/svg+xml": "<?xml version=\"1.0\" encoding=\"utf-8\" standalone=\"no\"?>\r\n<!DOCTYPE svg PUBLIC \"-//W3C//DTD SVG 1.1//EN\"\r\n  \"http://www.w3.org/Graphics/SVG/1.1/DTD/svg11.dtd\">\r\n<!-- Created with matplotlib (https://matplotlib.org/) -->\r\n<svg height=\"248.590995pt\" version=\"1.1\" viewBox=\"0 0 368.925 248.590995\" width=\"368.925pt\" xmlns=\"http://www.w3.org/2000/svg\" xmlns:xlink=\"http://www.w3.org/1999/xlink\">\r\n <metadata>\r\n  <rdf:RDF xmlns:cc=\"http://creativecommons.org/ns#\" xmlns:dc=\"http://purl.org/dc/elements/1.1/\" xmlns:rdf=\"http://www.w3.org/1999/02/22-rdf-syntax-ns#\">\r\n   <cc:Work>\r\n    <dc:type rdf:resource=\"http://purl.org/dc/dcmitype/StillImage\"/>\r\n    <dc:date>2021-08-11T12:17:35.184466</dc:date>\r\n    <dc:format>image/svg+xml</dc:format>\r\n    <dc:creator>\r\n     <cc:Agent>\r\n      <dc:title>Matplotlib v3.3.2, https://matplotlib.org/</dc:title>\r\n     </cc:Agent>\r\n    </dc:creator>\r\n   </cc:Work>\r\n  </rdf:RDF>\r\n </metadata>\r\n <defs>\r\n  <style type=\"text/css\">*{stroke-linecap:butt;stroke-linejoin:round;}</style>\r\n </defs>\r\n <g id=\"figure_1\">\r\n  <g id=\"patch_1\">\r\n   <path d=\"M -0 248.590995 \r\nL 368.925 248.590995 \r\nL 368.925 0 \r\nL -0 0 \r\nz\r\n\" style=\"fill:none;\"/>\r\n  </g>\r\n  <g id=\"axes_1\">\r\n   <g id=\"patch_2\">\r\n    <path d=\"M 26.925 224.71287 \r\nL 361.725 224.71287 \r\nL 361.725 7.27287 \r\nL 26.925 7.27287 \r\nz\r\n\" style=\"fill:#ffffff;\"/>\r\n   </g>\r\n   <g id=\"matplotlib.axis_1\">\r\n    <g id=\"xtick_1\">\r\n     <g id=\"line2d_1\">\r\n      <defs>\r\n       <path d=\"M 0 0 \r\nL 0 3.5 \r\n\" id=\"mbf29e3e780\" style=\"stroke:#000000;stroke-width:0.8;\"/>\r\n      </defs>\r\n      <g>\r\n       <use style=\"stroke:#000000;stroke-width:0.8;\" x=\"42.143182\" xlink:href=\"#mbf29e3e780\" y=\"224.71287\"/>\r\n      </g>\r\n     </g>\r\n     <g id=\"text_1\">\r\n      <!-- 0 -->\r\n      <g transform=\"translate(38.961932 239.311307)scale(0.1 -0.1)\">\r\n       <defs>\r\n        <path d=\"M 31.78125 66.40625 \r\nQ 24.171875 66.40625 20.328125 58.90625 \r\nQ 16.5 51.421875 16.5 36.375 \r\nQ 16.5 21.390625 20.328125 13.890625 \r\nQ 24.171875 6.390625 31.78125 6.390625 \r\nQ 39.453125 6.390625 43.28125 13.890625 \r\nQ 47.125 21.390625 47.125 36.375 \r\nQ 47.125 51.421875 43.28125 58.90625 \r\nQ 39.453125 66.40625 31.78125 66.40625 \r\nz\r\nM 31.78125 74.21875 \r\nQ 44.046875 74.21875 50.515625 64.515625 \r\nQ 56.984375 54.828125 56.984375 36.375 \r\nQ 56.984375 17.96875 50.515625 8.265625 \r\nQ 44.046875 -1.421875 31.78125 -1.421875 \r\nQ 19.53125 -1.421875 13.0625 8.265625 \r\nQ 6.59375 17.96875 6.59375 36.375 \r\nQ 6.59375 54.828125 13.0625 64.515625 \r\nQ 19.53125 74.21875 31.78125 74.21875 \r\nz\r\n\" id=\"DejaVuSans-48\"/>\r\n       </defs>\r\n       <use xlink:href=\"#DejaVuSans-48\"/>\r\n      </g>\r\n     </g>\r\n    </g>\r\n    <g id=\"xtick_2\">\r\n     <g id=\"line2d_2\">\r\n      <g>\r\n       <use style=\"stroke:#000000;stroke-width:0.8;\" x=\"103.630785\" xlink:href=\"#mbf29e3e780\" y=\"224.71287\"/>\r\n      </g>\r\n     </g>\r\n     <g id=\"text_2\">\r\n      <!-- 20 -->\r\n      <g transform=\"translate(97.268285 239.311307)scale(0.1 -0.1)\">\r\n       <defs>\r\n        <path d=\"M 19.1875 8.296875 \r\nL 53.609375 8.296875 \r\nL 53.609375 0 \r\nL 7.328125 0 \r\nL 7.328125 8.296875 \r\nQ 12.9375 14.109375 22.625 23.890625 \r\nQ 32.328125 33.6875 34.8125 36.53125 \r\nQ 39.546875 41.84375 41.421875 45.53125 \r\nQ 43.3125 49.21875 43.3125 52.78125 \r\nQ 43.3125 58.59375 39.234375 62.25 \r\nQ 35.15625 65.921875 28.609375 65.921875 \r\nQ 23.96875 65.921875 18.8125 64.3125 \r\nQ 13.671875 62.703125 7.8125 59.421875 \r\nL 7.8125 69.390625 \r\nQ 13.765625 71.78125 18.9375 73 \r\nQ 24.125 74.21875 28.421875 74.21875 \r\nQ 39.75 74.21875 46.484375 68.546875 \r\nQ 53.21875 62.890625 53.21875 53.421875 \r\nQ 53.21875 48.921875 51.53125 44.890625 \r\nQ 49.859375 40.875 45.40625 35.40625 \r\nQ 44.1875 33.984375 37.640625 27.21875 \r\nQ 31.109375 20.453125 19.1875 8.296875 \r\nz\r\n\" id=\"DejaVuSans-50\"/>\r\n       </defs>\r\n       <use xlink:href=\"#DejaVuSans-50\"/>\r\n       <use x=\"63.623047\" xlink:href=\"#DejaVuSans-48\"/>\r\n      </g>\r\n     </g>\r\n    </g>\r\n    <g id=\"xtick_3\">\r\n     <g id=\"line2d_3\">\r\n      <g>\r\n       <use style=\"stroke:#000000;stroke-width:0.8;\" x=\"165.118388\" xlink:href=\"#mbf29e3e780\" y=\"224.71287\"/>\r\n      </g>\r\n     </g>\r\n     <g id=\"text_3\">\r\n      <!-- 40 -->\r\n      <g transform=\"translate(158.755888 239.311307)scale(0.1 -0.1)\">\r\n       <defs>\r\n        <path d=\"M 37.796875 64.3125 \r\nL 12.890625 25.390625 \r\nL 37.796875 25.390625 \r\nz\r\nM 35.203125 72.90625 \r\nL 47.609375 72.90625 \r\nL 47.609375 25.390625 \r\nL 58.015625 25.390625 \r\nL 58.015625 17.1875 \r\nL 47.609375 17.1875 \r\nL 47.609375 0 \r\nL 37.796875 0 \r\nL 37.796875 17.1875 \r\nL 4.890625 17.1875 \r\nL 4.890625 26.703125 \r\nz\r\n\" id=\"DejaVuSans-52\"/>\r\n       </defs>\r\n       <use xlink:href=\"#DejaVuSans-52\"/>\r\n       <use x=\"63.623047\" xlink:href=\"#DejaVuSans-48\"/>\r\n      </g>\r\n     </g>\r\n    </g>\r\n    <g id=\"xtick_4\">\r\n     <g id=\"line2d_4\">\r\n      <g>\r\n       <use style=\"stroke:#000000;stroke-width:0.8;\" x=\"226.605992\" xlink:href=\"#mbf29e3e780\" y=\"224.71287\"/>\r\n      </g>\r\n     </g>\r\n     <g id=\"text_4\">\r\n      <!-- 60 -->\r\n      <g transform=\"translate(220.243492 239.311307)scale(0.1 -0.1)\">\r\n       <defs>\r\n        <path d=\"M 33.015625 40.375 \r\nQ 26.375 40.375 22.484375 35.828125 \r\nQ 18.609375 31.296875 18.609375 23.390625 \r\nQ 18.609375 15.53125 22.484375 10.953125 \r\nQ 26.375 6.390625 33.015625 6.390625 \r\nQ 39.65625 6.390625 43.53125 10.953125 \r\nQ 47.40625 15.53125 47.40625 23.390625 \r\nQ 47.40625 31.296875 43.53125 35.828125 \r\nQ 39.65625 40.375 33.015625 40.375 \r\nz\r\nM 52.59375 71.296875 \r\nL 52.59375 62.3125 \r\nQ 48.875 64.0625 45.09375 64.984375 \r\nQ 41.3125 65.921875 37.59375 65.921875 \r\nQ 27.828125 65.921875 22.671875 59.328125 \r\nQ 17.53125 52.734375 16.796875 39.40625 \r\nQ 19.671875 43.65625 24.015625 45.921875 \r\nQ 28.375 48.1875 33.59375 48.1875 \r\nQ 44.578125 48.1875 50.953125 41.515625 \r\nQ 57.328125 34.859375 57.328125 23.390625 \r\nQ 57.328125 12.15625 50.6875 5.359375 \r\nQ 44.046875 -1.421875 33.015625 -1.421875 \r\nQ 20.359375 -1.421875 13.671875 8.265625 \r\nQ 6.984375 17.96875 6.984375 36.375 \r\nQ 6.984375 53.65625 15.1875 63.9375 \r\nQ 23.390625 74.21875 37.203125 74.21875 \r\nQ 40.921875 74.21875 44.703125 73.484375 \r\nQ 48.484375 72.75 52.59375 71.296875 \r\nz\r\n\" id=\"DejaVuSans-54\"/>\r\n       </defs>\r\n       <use xlink:href=\"#DejaVuSans-54\"/>\r\n       <use x=\"63.623047\" xlink:href=\"#DejaVuSans-48\"/>\r\n      </g>\r\n     </g>\r\n    </g>\r\n    <g id=\"xtick_5\">\r\n     <g id=\"line2d_5\">\r\n      <g>\r\n       <use style=\"stroke:#000000;stroke-width:0.8;\" x=\"288.093595\" xlink:href=\"#mbf29e3e780\" y=\"224.71287\"/>\r\n      </g>\r\n     </g>\r\n     <g id=\"text_5\">\r\n      <!-- 80 -->\r\n      <g transform=\"translate(281.731095 239.311307)scale(0.1 -0.1)\">\r\n       <defs>\r\n        <path d=\"M 31.78125 34.625 \r\nQ 24.75 34.625 20.71875 30.859375 \r\nQ 16.703125 27.09375 16.703125 20.515625 \r\nQ 16.703125 13.921875 20.71875 10.15625 \r\nQ 24.75 6.390625 31.78125 6.390625 \r\nQ 38.8125 6.390625 42.859375 10.171875 \r\nQ 46.921875 13.96875 46.921875 20.515625 \r\nQ 46.921875 27.09375 42.890625 30.859375 \r\nQ 38.875 34.625 31.78125 34.625 \r\nz\r\nM 21.921875 38.8125 \r\nQ 15.578125 40.375 12.03125 44.71875 \r\nQ 8.5 49.078125 8.5 55.328125 \r\nQ 8.5 64.0625 14.71875 69.140625 \r\nQ 20.953125 74.21875 31.78125 74.21875 \r\nQ 42.671875 74.21875 48.875 69.140625 \r\nQ 55.078125 64.0625 55.078125 55.328125 \r\nQ 55.078125 49.078125 51.53125 44.71875 \r\nQ 48 40.375 41.703125 38.8125 \r\nQ 48.828125 37.15625 52.796875 32.3125 \r\nQ 56.78125 27.484375 56.78125 20.515625 \r\nQ 56.78125 9.90625 50.3125 4.234375 \r\nQ 43.84375 -1.421875 31.78125 -1.421875 \r\nQ 19.734375 -1.421875 13.25 4.234375 \r\nQ 6.78125 9.90625 6.78125 20.515625 \r\nQ 6.78125 27.484375 10.78125 32.3125 \r\nQ 14.796875 37.15625 21.921875 38.8125 \r\nz\r\nM 18.3125 54.390625 \r\nQ 18.3125 48.734375 21.84375 45.5625 \r\nQ 25.390625 42.390625 31.78125 42.390625 \r\nQ 38.140625 42.390625 41.71875 45.5625 \r\nQ 45.3125 48.734375 45.3125 54.390625 \r\nQ 45.3125 60.0625 41.71875 63.234375 \r\nQ 38.140625 66.40625 31.78125 66.40625 \r\nQ 25.390625 66.40625 21.84375 63.234375 \r\nQ 18.3125 60.0625 18.3125 54.390625 \r\nz\r\n\" id=\"DejaVuSans-56\"/>\r\n       </defs>\r\n       <use xlink:href=\"#DejaVuSans-56\"/>\r\n       <use x=\"63.623047\" xlink:href=\"#DejaVuSans-48\"/>\r\n      </g>\r\n     </g>\r\n    </g>\r\n    <g id=\"xtick_6\">\r\n     <g id=\"line2d_6\">\r\n      <g>\r\n       <use style=\"stroke:#000000;stroke-width:0.8;\" x=\"349.581198\" xlink:href=\"#mbf29e3e780\" y=\"224.71287\"/>\r\n      </g>\r\n     </g>\r\n     <g id=\"text_6\">\r\n      <!-- 100 -->\r\n      <g transform=\"translate(340.037448 239.311307)scale(0.1 -0.1)\">\r\n       <defs>\r\n        <path d=\"M 12.40625 8.296875 \r\nL 28.515625 8.296875 \r\nL 28.515625 63.921875 \r\nL 10.984375 60.40625 \r\nL 10.984375 69.390625 \r\nL 28.421875 72.90625 \r\nL 38.28125 72.90625 \r\nL 38.28125 8.296875 \r\nL 54.390625 8.296875 \r\nL 54.390625 0 \r\nL 12.40625 0 \r\nz\r\n\" id=\"DejaVuSans-49\"/>\r\n       </defs>\r\n       <use xlink:href=\"#DejaVuSans-49\"/>\r\n       <use x=\"63.623047\" xlink:href=\"#DejaVuSans-48\"/>\r\n       <use x=\"127.246094\" xlink:href=\"#DejaVuSans-48\"/>\r\n      </g>\r\n     </g>\r\n    </g>\r\n   </g>\r\n   <g id=\"matplotlib.axis_2\">\r\n    <g id=\"ytick_1\">\r\n     <g id=\"line2d_7\">\r\n      <defs>\r\n       <path d=\"M 0 0 \r\nL -3.5 0 \r\n\" id=\"md2cd93341a\" style=\"stroke:#000000;stroke-width:0.8;\"/>\r\n      </defs>\r\n      <g>\r\n       <use style=\"stroke:#000000;stroke-width:0.8;\" x=\"26.925\" xlink:href=\"#md2cd93341a\" y=\"189.502521\"/>\r\n      </g>\r\n     </g>\r\n     <g id=\"text_7\">\r\n      <!-- 2 -->\r\n      <g transform=\"translate(13.5625 193.301739)scale(0.1 -0.1)\">\r\n       <use xlink:href=\"#DejaVuSans-50\"/>\r\n      </g>\r\n     </g>\r\n    </g>\r\n    <g id=\"ytick_2\">\r\n     <g id=\"line2d_8\">\r\n      <g>\r\n       <use style=\"stroke:#000000;stroke-width:0.8;\" x=\"26.925\" xlink:href=\"#md2cd93341a\" y=\"144.876695\"/>\r\n      </g>\r\n     </g>\r\n     <g id=\"text_8\">\r\n      <!-- 4 -->\r\n      <g transform=\"translate(13.5625 148.675914)scale(0.1 -0.1)\">\r\n       <use xlink:href=\"#DejaVuSans-52\"/>\r\n      </g>\r\n     </g>\r\n    </g>\r\n    <g id=\"ytick_3\">\r\n     <g id=\"line2d_9\">\r\n      <g>\r\n       <use style=\"stroke:#000000;stroke-width:0.8;\" x=\"26.925\" xlink:href=\"#md2cd93341a\" y=\"100.25087\"/>\r\n      </g>\r\n     </g>\r\n     <g id=\"text_9\">\r\n      <!-- 6 -->\r\n      <g transform=\"translate(13.5625 104.050088)scale(0.1 -0.1)\">\r\n       <use xlink:href=\"#DejaVuSans-54\"/>\r\n      </g>\r\n     </g>\r\n    </g>\r\n    <g id=\"ytick_4\">\r\n     <g id=\"line2d_10\">\r\n      <g>\r\n       <use style=\"stroke:#000000;stroke-width:0.8;\" x=\"26.925\" xlink:href=\"#md2cd93341a\" y=\"55.625044\"/>\r\n      </g>\r\n     </g>\r\n     <g id=\"text_10\">\r\n      <!-- 8 -->\r\n      <g transform=\"translate(13.5625 59.424263)scale(0.1 -0.1)\">\r\n       <use xlink:href=\"#DejaVuSans-56\"/>\r\n      </g>\r\n     </g>\r\n    </g>\r\n    <g id=\"ytick_5\">\r\n     <g id=\"line2d_11\">\r\n      <g>\r\n       <use style=\"stroke:#000000;stroke-width:0.8;\" x=\"26.925\" xlink:href=\"#md2cd93341a\" y=\"10.999219\"/>\r\n      </g>\r\n     </g>\r\n     <g id=\"text_11\">\r\n      <!-- 10 -->\r\n      <g transform=\"translate(7.2 14.798437)scale(0.1 -0.1)\">\r\n       <use xlink:href=\"#DejaVuSans-49\"/>\r\n       <use x=\"63.623047\" xlink:href=\"#DejaVuSans-48\"/>\r\n      </g>\r\n     </g>\r\n    </g>\r\n   </g>\r\n   <g id=\"line2d_12\">\r\n    <path clip-path=\"url(#pc068467787)\" d=\"M 42.143182 17.156506 \r\nL 45.217562 62.777998 \r\nL 48.291942 96.926552 \r\nL 51.366322 122.717899 \r\nL 54.440702 142.3242 \r\nL 57.515083 157.298451 \r\nL 60.589463 168.773551 \r\nL 63.663843 177.588811 \r\nL 66.738223 184.373229 \r\nL 69.812603 189.602154 \r\nL 72.886983 193.636977 \r\nL 75.961364 196.753624 \r\nL 79.035744 199.163404 \r\nL 82.110124 201.028479 \r\nL 85.184504 202.473491 \r\nL 88.258884 203.594341 \r\nL 91.333264 204.46488 \r\nL 94.407645 205.142011 \r\nL 97.482025 205.669603 \r\nL 100.556405 206.08149 \r\nL 103.630785 206.403779 \r\nL 106.705165 206.65662 \r\nL 109.779545 206.855573 \r\nL 112.853926 207.01266 \r\nL 115.928306 207.137174 \r\nL 119.002686 207.236301 \r\nL 122.077066 207.315604 \r\nL 125.151446 207.379393 \r\nL 128.225826 207.431007 \r\nL 131.300207 207.473041 \r\nL 134.374587 207.507508 \r\nL 137.448967 207.535978 \r\nL 140.523347 207.559673 \r\nL 143.597727 207.579548 \r\nL 146.672107 207.596352 \r\nL 149.746488 207.610673 \r\nL 152.820868 207.622971 \r\nL 155.895248 207.633614 \r\nL 158.969628 207.64289 \r\nL 162.044008 207.651032 \r\nL 165.118388 207.658223 \r\nL 168.192769 207.664613 \r\nL 171.267149 207.670322 \r\nL 174.341529 207.675449 \r\nL 177.415909 207.680074 \r\nL 180.490289 207.684263 \r\nL 183.564669 207.688072 \r\nL 186.63905 207.691548 \r\nL 189.71343 207.694728 \r\nL 192.78781 207.697648 \r\nL 195.86219 207.700334 \r\nL 198.93657 207.702812 \r\nL 202.01095 207.705104 \r\nL 205.085331 207.707227 \r\nL 208.159711 207.709198 \r\nL 211.234091 207.711031 \r\nL 214.308471 207.71274 \r\nL 217.382851 207.714335 \r\nL 220.457231 207.715828 \r\nL 223.531612 207.717226 \r\nL 226.605992 207.718539 \r\nL 229.680372 207.719774 \r\nL 232.754752 207.720937 \r\nL 235.829132 207.722035 \r\nL 238.903512 207.723072 \r\nL 241.977893 207.724055 \r\nL 245.052273 207.724988 \r\nL 248.126653 207.725874 \r\nL 251.201033 207.726718 \r\nL 254.275413 207.727523 \r\nL 257.349793 207.728292 \r\nL 260.424174 207.729029 \r\nL 263.498554 207.729735 \r\nL 266.572934 207.730413 \r\nL 269.647314 207.731065 \r\nL 272.721694 207.731694 \r\nL 275.796074 207.732301 \r\nL 278.870455 207.732888 \r\nL 281.944835 207.733456 \r\nL 285.019215 207.734007 \r\nL 288.093595 207.734542 \r\nL 291.167975 207.735062 \r\nL 294.242355 207.735569 \r\nL 297.316736 207.736063 \r\nL 300.391116 207.736546 \r\nL 303.465496 207.737017 \r\nL 306.539876 207.737478 \r\nL 309.614256 207.73793 \r\nL 312.688636 207.738373 \r\nL 315.763017 207.738808 \r\nL 318.837397 207.739235 \r\nL 321.911777 207.739655 \r\nL 324.986157 207.740069 \r\nL 328.060537 207.740476 \r\nL 331.134917 207.740877 \r\nL 334.209298 207.741272 \r\nL 337.283678 207.741662 \r\nL 340.358058 207.742048 \r\nL 343.432438 207.742428 \r\nL 346.506818 207.742804 \r\n\" style=\"fill:none;stroke:#1f77b4;stroke-linecap:square;stroke-width:1.5;\"/>\r\n   </g>\r\n   <g id=\"line2d_13\">\r\n    <path clip-path=\"url(#pc068467787)\" d=\"M 42.143182 77.503591 \r\nL 45.217562 114.739147 \r\nL 48.291942 142.129109 \r\nL 51.366322 162.342215 \r\nL 54.440702 177.264084 \r\nL 57.515083 188.255433 \r\nL 60.589463 196.314028 \r\nL 63.663843 202.179994 \r\nL 66.738223 206.406699 \r\nL 69.812603 209.409963 \r\nL 72.886983 211.503127 \r\nL 75.961364 212.922569 \r\nL 79.035744 213.846551 \r\nL 82.110124 214.409319 \r\nL 85.184504 214.711717 \r\nL 88.258884 214.829233 \r\nL 91.333264 214.818117 \r\nL 94.407645 214.720036 \r\nL 97.482025 214.565632 \r\nL 100.556405 214.377221 \r\nL 103.630785 214.17087 \r\nL 106.705165 213.957956 \r\nL 109.779545 213.74637 \r\nL 112.853926 213.541419 \r\nL 115.928306 213.346512 \r\nL 119.002686 213.163681 \r\nL 122.077066 212.993964 \r\nL 125.151446 212.837701 \r\nL 128.225826 212.694748 \r\nL 131.300207 212.56464 \r\nL 134.374587 212.446705 \r\nL 137.448967 212.34015 \r\nL 140.523347 212.244125 \r\nL 143.597727 212.157763 \r\nL 146.672107 212.080209 \r\nL 149.746488 212.010644 \r\nL 152.820868 211.948291 \r\nL 155.895248 211.892428 \r\nL 158.969628 211.842387 \r\nL 162.044008 211.797558 \r\nL 165.118388 211.757384 \r\nL 168.192769 211.721363 \r\nL 171.267149 211.689041 \r\nL 174.341529 211.660012 \r\nL 177.415909 211.633913 \r\nL 180.490289 211.610417 \r\nL 183.564669 211.589236 \r\nL 186.63905 211.570112 \r\nL 189.71343 211.552817 \r\nL 192.78781 211.537148 \r\nL 195.86219 211.522924 \r\nL 198.93657 211.509988 \r\nL 202.01095 211.498198 \r\nL 205.085331 211.487429 \r\nL 208.159711 211.477571 \r\nL 211.234091 211.468527 \r\nL 214.308471 211.460211 \r\nL 217.382851 211.452547 \r\nL 220.457231 211.445466 \r\nL 223.531612 211.43891 \r\nL 226.605992 211.432826 \r\nL 229.680372 211.427167 \r\nL 232.754752 211.421892 \r\nL 235.829132 211.416963 \r\nL 238.903512 211.412349 \r\nL 241.977893 211.40802 \r\nL 245.052273 211.40395 \r\nL 248.126653 211.400118 \r\nL 251.201033 211.396501 \r\nL 254.275413 211.393083 \r\nL 257.349793 211.389846 \r\nL 260.424174 211.386776 \r\nL 263.498554 211.38386 \r\nL 266.572934 211.381086 \r\nL 269.647314 211.378444 \r\nL 272.721694 211.375924 \r\nL 275.796074 211.373517 \r\nL 278.870455 211.371216 \r\nL 281.944835 211.369014 \r\nL 285.019215 211.366903 \r\nL 288.093595 211.364879 \r\nL 291.167975 211.362936 \r\nL 294.242355 211.361068 \r\nL 297.316736 211.359272 \r\nL 300.391116 211.357543 \r\nL 303.465496 211.355877 \r\nL 306.539876 211.354272 \r\nL 309.614256 211.352723 \r\nL 312.688636 211.351227 \r\nL 315.763017 211.349782 \r\nL 318.837397 211.348386 \r\nL 321.911777 211.347034 \r\nL 324.986157 211.345727 \r\nL 328.060537 211.34446 \r\nL 331.134917 211.343233 \r\nL 334.209298 211.342043 \r\nL 337.283678 211.340888 \r\nL 340.358058 211.339767 \r\nL 343.432438 211.338678 \r\nL 346.506818 211.33762 \r\n\" style=\"fill:none;stroke:#ff7f0e;stroke-linecap:square;stroke-width:1.5;\"/>\r\n   </g>\r\n   <g id=\"patch_3\">\r\n    <path d=\"M 26.925 224.71287 \r\nL 26.925 7.27287 \r\n\" style=\"fill:none;stroke:#000000;stroke-linecap:square;stroke-linejoin:miter;stroke-width:0.8;\"/>\r\n   </g>\r\n   <g id=\"patch_4\">\r\n    <path d=\"M 361.725 224.71287 \r\nL 361.725 7.27287 \r\n\" style=\"fill:none;stroke:#000000;stroke-linecap:square;stroke-linejoin:miter;stroke-width:0.8;\"/>\r\n   </g>\r\n   <g id=\"patch_5\">\r\n    <path d=\"M 26.925 224.71287 \r\nL 361.725 224.71287 \r\n\" style=\"fill:none;stroke:#000000;stroke-linecap:square;stroke-linejoin:miter;stroke-width:0.8;\"/>\r\n   </g>\r\n   <g id=\"patch_6\">\r\n    <path d=\"M 26.925 7.27287 \r\nL 361.725 7.27287 \r\n\" style=\"fill:none;stroke:#000000;stroke-linecap:square;stroke-linejoin:miter;stroke-width:0.8;\"/>\r\n   </g>\r\n  </g>\r\n </g>\r\n <defs>\r\n  <clipPath id=\"pc068467787\">\r\n   <rect height=\"217.44\" width=\"334.8\" x=\"26.925\" y=\"7.27287\"/>\r\n  </clipPath>\r\n </defs>\r\n</svg>\r\n",
      "image/png": "[encoded data removed]"
     },
     "metadata": {
      "needs_background": "light"
     }
    }
   ],
   "metadata": {}
  },
  {
   "cell_type": "markdown",
   "source": [
    "The following bonus exercises are for those who have completed all other exercises until now and have a deep motivation for learning more."
   ],
   "metadata": {}
  },
  {
   "cell_type": "markdown",
   "source": [
    "> **Ex. 11.1.8 (BONUS)**: Implement your linear regression model as a class."
   ],
   "metadata": {}
  },
  {
   "cell_type": "markdown",
   "source": [
    "> A solution is found on p. 320 in Python for Machine Learning."
   ],
   "metadata": {}
  },
  {
   "cell_type": "markdown",
   "source": [
    "# Part 2: Overfitting and Underfitting in Linear Regression \n",
    "\n",
    "## Exploring Overfitting in Linear Regression\n",
    "How does overfitting manifest itself in linear regression? In the video below we simulate what happens as make a better and better taylor approximation, i.e. we estimate a polynomial of higher and higher order. Two issues arise simultaneously - one is related to the number of parameters and the to the size of the parameters. \n",
    "\n",
    "You may find PML pp. 334-339 useful as background reading."
   ],
   "metadata": {}
  },
  {
   "cell_type": "code",
   "execution_count": null,
   "source": [
    "YouTubeVideo('HbeTpK-2oeU', width=640, height=360)"
   ],
   "outputs": [],
   "metadata": {}
  },
  {
   "cell_type": "markdown",
   "source": [
    "## A Cure for Overfitting in Linear Regression\n",
    "\n",
    "How do we fix the two issues of excessively large weights/coefficients and too many spurious solutions? The video below provides a solution by directly incorporating these issues into the optimization problem.\n",
    "\n",
    "You may find PML pp. 73-76, 123-136, 332-334 useful as background reading."
   ],
   "metadata": {}
  },
  {
   "cell_type": "code",
   "execution_count": null,
   "source": [
    "YouTubeVideo('r6a8WFm9jAI', width=640, height=360)"
   ],
   "outputs": [],
   "metadata": {}
  },
  {
   "cell_type": "markdown",
   "source": [
    "Above we tackled overfitting, but what about ***underfitting***? The video below shows how to address underfitting and also zooms in on some important details about regularization.\n",
    "\n",
    "You may find PML pp. 73-76, 123-136, 332-334 useful as background reading."
   ],
   "metadata": {}
  },
  {
   "cell_type": "code",
   "execution_count": null,
   "source": [
    "YouTubeVideo('IWBtYT1KI_Q', width=640, height=360)"
   ],
   "outputs": [],
   "metadata": {}
  },
  {
   "cell_type": "markdown",
   "source": [
    "> **Ex. 11.2.1 (BONUS)**: Is it possible to add a penalty to our linear model above and solve this Lasso model with gradient descent? Is there a simple fix?\n",
    ">\n",
    "> *Hint:* Gradient descent essentially relies on a differentiable loss function (read more [here](https://stats.stackexchange.com/questions/177800/why-proximal-gradient-descent-instead-of-plain-subgradient-methods-for-lasso))"
   ],
   "metadata": {}
  },
  {
   "cell_type": "code",
   "execution_count": null,
   "source": [
    "# YOUR CODE HERE\r\n",
    "raise NotImplementedError()"
   ],
   "outputs": [],
   "metadata": {
    "deletable": false,
    "nbgrader": {
     "cell_type": "code",
     "checksum": "04b4c075a4bad7561c1e03bf809f7faf",
     "grade": false,
     "grade_id": "cell-6aa146e9c530b2b4",
     "locked": false,
     "schema_version": 3,
     "solution": true,
     "task": false
    }
   }
  },
  {
   "cell_type": "markdown",
   "source": [
    "# Part 3: Modelling Houseprices\n",
    "In this example, we will try to predict houseprices using a lot of variable (or features as they are called in Machine Learning). We are going to work with Kaggle's dataset on house prices, see information [here](https://www.kaggle.com/c/house-prices-advanced-regression-techniques). Kaggle is an organization that hosts competitions in building predictive models."
   ],
   "metadata": {}
  },
  {
   "cell_type": "markdown",
   "source": [
    "> **Ex. 11.3.0:** Load the california housing data with scikit-learn using the code below. Now:\n",
    "> 1. Inspect *cal_house*. How are the data stored?\n",
    "> 2. Create a pandas DataFrame called *X*, using `data`. Name the columns using `feature_names`.\n",
    "> 3. Crate a pandas Series called *y* using `target`.\n",
    "> 4. Make a train test split of equal size."
   ],
   "metadata": {}
  },
  {
   "cell_type": "code",
   "execution_count": null,
   "source": [
    "from sklearn.datasets import fetch_california_housing\r\n",
    "from sklearn.model_selection import train_test_split\r\n",
    "\r\n",
    "cal_house = fetch_california_housing()    \r\n",
    "\r\n",
    "# YOUR CODE HERE\r\n",
    "raise NotImplementedError()"
   ],
   "outputs": [],
   "metadata": {
    "deletable": false,
    "nbgrader": {
     "cell_type": "code",
     "checksum": "08ca919735b17dfbf96058bf07f4eeab",
     "grade": false,
     "grade_id": "cell-5f14e576643ac94c",
     "locked": false,
     "schema_version": 3,
     "solution": true,
     "task": false
    }
   }
  },
  {
   "cell_type": "markdown",
   "source": [
    "\n",
    "\n",
    "> **Ex.11.3.1**: Generate interactions between all features to third degree (make sure you **exclude** the bias/intercept term). How many variables are there? Will OLS fail? After making interactions, rescale the features to have zero mean, unit std. deviation. Should you use the distribution of the training data to rescale the test data?  \n",
    "\n",
    "> *Hint 1*: Try importing `PolynomialFeatures` from `sklearn.preprocessing`\n",
    "\n",
    "> *Hint 2*: If in doubt about which distribution to scale, you may read [this post](https://stats.stackexchange.com/questions/174823/how-to-apply-standardization-normalization-to-train-and-testset-if-prediction-i)."
   ],
   "metadata": {}
  },
  {
   "cell_type": "code",
   "execution_count": null,
   "source": [
    "# INCLUDED IN ASSIGNMENT 2"
   ],
   "outputs": [],
   "metadata": {}
  },
  {
   "cell_type": "code",
   "execution_count": null,
   "source": [
    "# YOUR CODE HERE\r\n",
    "raise NotImplementedError()"
   ],
   "outputs": [],
   "metadata": {
    "deletable": false,
    "nbgrader": {
     "cell_type": "code",
     "checksum": "ed00cd67cc7a2e431594d4cfe29da085",
     "grade": false,
     "grade_id": "cell-4aacfe9c22772c42",
     "locked": false,
     "schema_version": 3,
     "solution": true,
     "task": false
    }
   }
  },
  {
   "cell_type": "markdown",
   "source": [
    "> **Ex.11.3.2**: Estimate the Lasso model on the rescaled train data set, using values of $\\lambda$ in the range from $10^{-4}$ to $10^4$. For each $\\lambda$  calculate and save the Root Mean Squared Error (RMSE) for the rescaled test and train data. Take a look at the fitted coefficients for different sizes of $\\lambda$. What happens when $\\lambda$ increases? Why?\n",
    "\n",
    "> *Hint 1*: use `logspace` in numpy to create the range.\n",
    "\n",
    "> *Hint 2*: read about the `coef_` feature [here](https://scikit-learn.org/stable/modules/generated/sklearn.linear_model.Lasso.html#sklearn.linear_model.Lasso).\n"
   ],
   "metadata": {}
  },
  {
   "cell_type": "code",
   "execution_count": null,
   "source": [
    "# INCLUDED IN ASSIGNMENT 2"
   ],
   "outputs": [],
   "metadata": {}
  },
  {
   "cell_type": "code",
   "execution_count": null,
   "source": [
    "# YOUR CODE HERE\r\n",
    "raise NotImplementedError()"
   ],
   "outputs": [],
   "metadata": {
    "deletable": false,
    "nbgrader": {
     "cell_type": "code",
     "checksum": "a5cb040dc44fd9a9f591f1193a1311ab",
     "grade": false,
     "grade_id": "cell-d981c29cec05057b",
     "locked": false,
     "schema_version": 3,
     "solution": true,
     "task": false
    }
   }
  },
  {
   "cell_type": "markdown",
   "source": [
    "> **Ex.11.3.3**: Make a plot with on the x-axis and the RMSE measures on the y-axis. What happens to RMSE for train and test data as $\\lambda$ increases? The x-axis should be log scaled. Which one are we interested in minimizing? \n",
    "\n",
    "> Bonus: Can you find the lambda that gives the lowest MSE-test score?"
   ],
   "metadata": {}
  },
  {
   "cell_type": "code",
   "execution_count": null,
   "source": [
    "# INCLUDED IN ASSIGNMENT 2"
   ],
   "outputs": [],
   "metadata": {}
  },
  {
   "cell_type": "code",
   "execution_count": null,
   "source": [
    "# INCLUDED IN ASSIGNMENT 2# YOUR CODE HERE\r\n",
    "raise NotImplementedError()"
   ],
   "outputs": [],
   "metadata": {
    "deletable": false,
    "nbgrader": {
     "cell_type": "code",
     "checksum": "3469299a7668bf4275e2824d1d454144",
     "grade": false,
     "grade_id": "cell-5a2846b33750acbc",
     "locked": false,
     "schema_version": 3,
     "solution": true,
     "task": false
    }
   }
  }
 ],
 "metadata": {
  "kernelspec": {
   "name": "python3",
   "display_name": "Python 3.8.5 64-bit ('base': conda)"
  },
  "language_info": {
   "codemirror_mode": {
    "name": "ipython",
    "version": 3
   },
   "file_extension": ".py",
   "mimetype": "text/x-python",
   "name": "python",
   "nbconvert_exporter": "python",
   "pygments_lexer": "ipython3",
   "version": "3.8.5"
  },
  "nav_menu": {},
  "toc": {
   "navigate_menu": true,
   "number_sections": false,
   "sideBar": true,
   "threshold": 6,
   "toc_cell": false,
   "toc_section_display": "block",
   "toc_window_display": true
  },
  "varInspector": {
   "cols": {
    "lenName": 16,
    "lenType": 16,
    "lenVar": 40
   },
   "kernels_config": {
    "python": {
     "delete_cmd_postfix": "",
     "delete_cmd_prefix": "del ",
     "library": "var_list.py",
     "varRefreshCmd": "print(var_dic_list())"
    },
    "r": {
     "delete_cmd_postfix": ") ",
     "delete_cmd_prefix": "rm(",
     "library": "var_list.r",
     "varRefreshCmd": "cat(var_dic_list()) "
    }
   },
   "types_to_exclude": [
    "module",
    "function",
    "builtin_function_or_method",
    "instance",
    "_Feature"
   ],
   "window_display": false
  },
  "interpreter": {
   "hash": "8fac594bfae6525c0c41b4041d2d72effa188cc8ead05f81b1fab2bb098927fb"
  }
 },
 "nbformat": 4,
 "nbformat_minor": 4
}