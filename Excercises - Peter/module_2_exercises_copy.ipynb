{
 "cells": [
  {
   "cell_type": "markdown",
   "source": [
    "# Videos and Exercises for Session 2: Data Structuring in Pandas I\n",
    "\n",
    "In this combined teaching module and exercise set, you will be working with structuring data. \n",
    "\n",
    "We will start out with a recap of some basic function and methods that become available in pandas. Then there will be a short intermezzo, where you will be required to think a bit about how to write readible code and make use of the method chaining opportunities that come with python. Then finally, you will get to work with some more advanced data types that are handled natively with pandas. The structure is as follows:\n",
    "1. Welcome (Back to) Pandas\n",
    "    - DataFrames and Series\n",
    "    - Operations with Elementary Data Types in the Context of Pandas\n",
    "        - Boolean Series\n",
    "        - String Operations\n",
    "        - Numeric Operations and Methods\n",
    "2. Readible Code and Method Chaining\n",
    "3. More Advanced Data Types\n",
    "    - Categorical Data\n",
    "    - Time Series Data\n",
    "    \n",
    "**NOTE:** I might be speaking quite slowly in some of the videos. A good advice is to turn up the speed to x1.25 or x1.5 if you want to get through without spending too much time:)"
   ],
   "metadata": {
    "ExecuteTime": {
     "end_time": "2017-08-23T15:30:03.634114Z",
     "start_time": "2017-08-23T15:30:03.629294Z"
    }
   }
  },
  {
   "cell_type": "markdown",
   "source": [
    "## Packages\n",
    "Load in the required modules and set up the plotting library:"
   ],
   "metadata": {
    "ExecuteTime": {
     "end_time": "2017-08-23T15:30:03.634114Z",
     "start_time": "2017-08-23T15:30:03.629294Z"
    }
   }
  },
  {
   "cell_type": "code",
   "execution_count": 35,
   "source": [
    "%matplotlib inline\r\n",
    "import numpy as np\r\n",
    "import pandas as pd\r\n",
    "import matplotlib.pyplot as plt\r\n",
    "from IPython.display import YouTubeVideo"
   ],
   "outputs": [],
   "metadata": {}
  },
  {
   "cell_type": "markdown",
   "source": [
    "Wonder what `%matplotlib inline` does? It's not too important for now. However, if you are interested, you can read more about it [here](https://stackoverflow.com/questions/43027980/purpose-of-matplotlib-inline)."
   ],
   "metadata": {}
  },
  {
   "cell_type": "markdown",
   "source": [
    "# Part 1: Welcome (Back to) Pandas\n",
    "\n",
    "As mentioned during the lecture, data structuring skills are necessary to become a great data scientist. There is no way around it.\n",
    "\n",
    "Let's start with the basics. In the first video, we start out by talking about the fundamentals of Pandas: \n",
    "- The Pandas DataFrame and the Pandas Series. \n",
    "- We then proceed and discuss how indices and colums can be named and selected. \n",
    "- Finally, we make some simple operations.\n",
    "\n",
    "**NOTE:** This is mainly repitition of what you already worked with in assignment 0. If you feel comfortable with this, you should proceed to the associated exercises that will get you warmed up for the rest of this notebook."
   ],
   "metadata": {}
  },
  {
   "cell_type": "code",
   "execution_count": 2,
   "source": [
    "YouTubeVideo('uSiqryfDYo0', width=640, height=360)"
   ],
   "outputs": [
    {
     "output_type": "execute_result",
     "data": {
      "text/plain": [
       "<IPython.lib.display.YouTubeVideo at 0x11dff6c01c0>"
      ],
      "image/jpeg": "[encoded data removed]",
      "text/html": [
       "\n",
       "        <iframe\n",
       "            width=\"640\"\n",
       "            height=\"360\"\n",
       "            src=\"https://www.youtube.com/embed/uSiqryfDYo0\"\n",
       "            frameborder=\"0\"\n",
       "            allowfullscreen\n",
       "        ></iframe>\n",
       "        "
      ]
     },
     "metadata": {},
     "execution_count": 2
    }
   ],
   "metadata": {}
  },
  {
   "cell_type": "markdown",
   "source": [
    "In this set of introductory exercises, we are going to briefly touch upon some of the tools from the video. Again, be aware that there is going to be some repition of the content from assignment 0 here - but these things are all very useful to get under your skin!\n",
    "\n",
    "> **Ex. 2.1.1**: Run the following two lines below. Explain to yourself what the second line did, and how each entry affected it. In relation to this, what did the first line ensure? When can this be useful? Try and play around with the seed."
   ],
   "metadata": {}
  },
  {
   "cell_type": "code",
   "execution_count": 3,
   "source": [
    "np.random.seed(seed=161193)\r\n",
    "np_arr=np.round(np.random.exponential(10, size=(10**5,3)),0)"
   ],
   "outputs": [],
   "metadata": {}
  },
  {
   "cell_type": "markdown",
   "source": [
    "Now, we want you to investigate how easy it is to go from a numpy `array` to a pandas `DataFrame`. You are going to do something similar to this repeatedly in this course!\n",
    "\n",
    "> **Ex. 2.1.2**: Create a Pandas DataFrame called `my_df` from `np_arr`:"
   ],
   "metadata": {}
  },
  {
   "cell_type": "code",
   "execution_count": 5,
   "source": [
    "# YOUR CODE HERE\r\n",
    "\r\n",
    "my_df = pd.DataFrame(np_arr)\r\n",
    "\r\n",
    "my_df.head()"
   ],
   "outputs": [
    {
     "output_type": "execute_result",
     "data": {
      "text/plain": [
       "     0    1     2\n",
       "0  5.0  0.0   2.0\n",
       "1  4.0  7.0  20.0\n",
       "2  1.0  4.0   2.0\n",
       "3  3.0  9.0   4.0\n",
       "4  5.0  2.0  13.0"
      ],
      "text/html": [
       "<div>\n",
       "<style scoped>\n",
       "    .dataframe tbody tr th:only-of-type {\n",
       "        vertical-align: middle;\n",
       "    }\n",
       "\n",
       "    .dataframe tbody tr th {\n",
       "        vertical-align: top;\n",
       "    }\n",
       "\n",
       "    .dataframe thead th {\n",
       "        text-align: right;\n",
       "    }\n",
       "</style>\n",
       "<table border=\"1\" class=\"dataframe\">\n",
       "  <thead>\n",
       "    <tr style=\"text-align: right;\">\n",
       "      <th></th>\n",
       "      <th>0</th>\n",
       "      <th>1</th>\n",
       "      <th>2</th>\n",
       "    </tr>\n",
       "  </thead>\n",
       "  <tbody>\n",
       "    <tr>\n",
       "      <th>0</th>\n",
       "      <td>5.0</td>\n",
       "      <td>0.0</td>\n",
       "      <td>2.0</td>\n",
       "    </tr>\n",
       "    <tr>\n",
       "      <th>1</th>\n",
       "      <td>4.0</td>\n",
       "      <td>7.0</td>\n",
       "      <td>20.0</td>\n",
       "    </tr>\n",
       "    <tr>\n",
       "      <th>2</th>\n",
       "      <td>1.0</td>\n",
       "      <td>4.0</td>\n",
       "      <td>2.0</td>\n",
       "    </tr>\n",
       "    <tr>\n",
       "      <th>3</th>\n",
       "      <td>3.0</td>\n",
       "      <td>9.0</td>\n",
       "      <td>4.0</td>\n",
       "    </tr>\n",
       "    <tr>\n",
       "      <th>4</th>\n",
       "      <td>5.0</td>\n",
       "      <td>2.0</td>\n",
       "      <td>13.0</td>\n",
       "    </tr>\n",
       "  </tbody>\n",
       "</table>\n",
       "</div>"
      ]
     },
     "metadata": {},
     "execution_count": 5
    }
   ],
   "metadata": {
    "deletable": false,
    "nbgrader": {
     "cell_type": "code",
     "checksum": "92d26aa1467a0f03e0fa95ac8128729e",
     "grade": false,
     "grade_id": "cell-6ed6b4feaaf73052",
     "locked": false,
     "schema_version": 3,
     "solution": true,
     "task": false
    }
   }
  },
  {
   "cell_type": "markdown",
   "source": [
    "Before we continue working with this DataFrame, we want to make sure that you are capable of transforming it back to different types of containers. This is another very fundamental tool in your data science toolbox.\n",
    "\n",
    "> **Ex. 2.1.3**: In the following cell, generate an `array`, a `list` and a `dict` from `my_df` (you should be able to do each of these things in one line). Verify that you did this properly by printing your output. Inspect the dictionary: How do you access the value associated with the column index 2 and row index 8543?"
   ],
   "metadata": {}
  },
  {
   "cell_type": "code",
   "execution_count": 8,
   "source": [
    "# YOUR CODE HERE\r\n",
    "\r\n",
    "df_dict, df_list, df_array = my_df.to_dict, my_df.values.tolist(), my_df.values\r\n",
    "\r\n"
   ],
   "outputs": [],
   "metadata": {
    "deletable": false,
    "nbgrader": {
     "cell_type": "code",
     "checksum": "52ac1a88b3adbe1389af1ee57e42c8ee",
     "grade": false,
     "grade_id": "cell-5481f267f2cf0cb9",
     "locked": false,
     "schema_version": 3,
     "solution": true,
     "task": false
    }
   }
  },
  {
   "cell_type": "markdown",
   "source": [
    "A noticeable distiction between pandas dataframes and, say, numpy arrays is the option to label indices and (in particular) columns. This is helpful when working with large sets of data.\n",
    "\n",
    "> **Ex. 2.1.4**: Going back to the DataFrame `my_df`, we now want you to try the following: \n",
    "> 1. Label the columns 'apples', 'bananas' and 'oranges'\n",
    "> 2. Change the indices to 'cust**x**' where **x** is a sequential numbering of the lines starting from 1 (*hint:* There are many ways to do this, e.g. with a list comprehension!)\n",
    "> 3. Print the first 10 observations using the `head()` method."
   ],
   "metadata": {}
  },
  {
   "cell_type": "code",
   "execution_count": 42,
   "source": [
    "# YOUR CODE HERE\r\n",
    "\r\n",
    "column_names = [\"apples\", \"bananas\", \"oranges\"]\r\n",
    "\r\n",
    "my_df.columns = column_names\r\n",
    "\r\n",
    "indecies = []\r\n",
    "\r\n",
    "for i in range(len(my_df[\"apples\"])):\r\n",
    "    i = i+1\r\n",
    "    index = f\"cust{i}\"\r\n",
    "    indecies.append(index)\r\n",
    "\r\n",
    "my_df.index = indecies\r\n",
    "\r\n",
    "\r\n",
    "my_df.head()\r\n"
   ],
   "outputs": [
    {
     "output_type": "execute_result",
     "data": {
      "text/plain": [
       "       apples  bananas  oranges\n",
       "cust1     4.0      7.0     20.0\n",
       "cust2     1.0      4.0      2.0\n",
       "cust3     3.0      9.0      4.0\n",
       "cust4     2.0      6.0      0.0\n",
       "cust5     4.0      2.0     10.0"
      ],
      "text/html": [
       "<div>\n",
       "<style scoped>\n",
       "    .dataframe tbody tr th:only-of-type {\n",
       "        vertical-align: middle;\n",
       "    }\n",
       "\n",
       "    .dataframe tbody tr th {\n",
       "        vertical-align: top;\n",
       "    }\n",
       "\n",
       "    .dataframe thead th {\n",
       "        text-align: right;\n",
       "    }\n",
       "</style>\n",
       "<table border=\"1\" class=\"dataframe\">\n",
       "  <thead>\n",
       "    <tr style=\"text-align: right;\">\n",
       "      <th></th>\n",
       "      <th>apples</th>\n",
       "      <th>bananas</th>\n",
       "      <th>oranges</th>\n",
       "    </tr>\n",
       "  </thead>\n",
       "  <tbody>\n",
       "    <tr>\n",
       "      <th>cust1</th>\n",
       "      <td>4.0</td>\n",
       "      <td>7.0</td>\n",
       "      <td>20.0</td>\n",
       "    </tr>\n",
       "    <tr>\n",
       "      <th>cust2</th>\n",
       "      <td>1.0</td>\n",
       "      <td>4.0</td>\n",
       "      <td>2.0</td>\n",
       "    </tr>\n",
       "    <tr>\n",
       "      <th>cust3</th>\n",
       "      <td>3.0</td>\n",
       "      <td>9.0</td>\n",
       "      <td>4.0</td>\n",
       "    </tr>\n",
       "    <tr>\n",
       "      <th>cust4</th>\n",
       "      <td>2.0</td>\n",
       "      <td>6.0</td>\n",
       "      <td>0.0</td>\n",
       "    </tr>\n",
       "    <tr>\n",
       "      <th>cust5</th>\n",
       "      <td>4.0</td>\n",
       "      <td>2.0</td>\n",
       "      <td>10.0</td>\n",
       "    </tr>\n",
       "  </tbody>\n",
       "</table>\n",
       "</div>"
      ]
     },
     "metadata": {},
     "execution_count": 42
    }
   ],
   "metadata": {
    "deletable": false,
    "nbgrader": {
     "cell_type": "code",
     "checksum": "97092b03bc68cc7447ca5c227ceecdd3",
     "grade": false,
     "grade_id": "cell-9453d49738b2ecdb",
     "locked": false,
     "schema_version": 3,
     "solution": true,
     "task": false
    }
   }
  },
  {
   "cell_type": "markdown",
   "source": [
    "As we saw in the video, we can basically extract a series from a pandas dataframe by simply selecting one column from the dataframe and storing it as a new object.\n",
    "\n",
    "> **Ex. 2.1.5**: Now, we want you to select only a single column and inspect the output a bit:\n",
    "> 1. Select 'apples' and store it as 'apples_ser'. Try using the key-based method and the object-based method, respectively. \n",
    "> 2. Check the data type. Thinking about our first lines of code, why is it not an `integer`? Convert the data in both 'apples_ser' and 'my_df' to intergers."
   ],
   "metadata": {}
  },
  {
   "cell_type": "code",
   "execution_count": 43,
   "source": [
    "# YOUR CODE HERE\r\n",
    "\r\n",
    "apples_ser = my_df.loc[:, \"apples\"]\r\n",
    "apples_ser_iloc = my_df.iloc[:, 0]\r\n",
    "\r\n",
    "apples_ser = apples_ser.astype(int)\r\n",
    "apples_ser_iloc = apples_ser_iloc.astype(int)\r\n"
   ],
   "outputs": [],
   "metadata": {
    "deletable": false,
    "nbgrader": {
     "cell_type": "code",
     "checksum": "06f452e0ab4267c6ebdab3d943acbf47",
     "grade": false,
     "grade_id": "cell-26cb4b96a8d3b0fb",
     "locked": false,
     "schema_version": 3,
     "solution": true,
     "task": false
    }
   }
  },
  {
   "cell_type": "markdown",
   "source": [
    "## Boolean Series"
   ],
   "metadata": {}
  },
  {
   "cell_type": "code",
   "execution_count": 44,
   "source": [
    "YouTubeVideo('CfiV8QmfGVk', width=640, height=360)"
   ],
   "outputs": [
    {
     "output_type": "execute_result",
     "data": {
      "text/plain": [
       "<IPython.lib.display.YouTubeVideo at 0x1c336d057c0>"
      ],
      "image/jpeg": "[encoded data removed]",
      "text/html": [
       "\n",
       "        <iframe\n",
       "            width=\"640\"\n",
       "            height=\"360\"\n",
       "            src=\"https://www.youtube.com/embed/CfiV8QmfGVk\"\n",
       "            frameborder=\"0\"\n",
       "            allowfullscreen\n",
       "        ></iframe>\n",
       "        "
      ]
     },
     "metadata": {},
     "execution_count": 44
    }
   ],
   "metadata": {}
  },
  {
   "cell_type": "markdown",
   "source": [
    "Boolean 'data' is the simplest data type that we work with. These variables are binary, and basically represent a True or False value. As seen in the video, they become extraordinarily useful when working with pandas series. In particular, boolean series can be applied when we only want to work with certain rows in a dataframe.\n",
    "\n",
    "> **Ex. 2.1.6**: Drop all rows for which 'Apples' is strictly smaller than 5."
   ],
   "metadata": {}
  },
  {
   "cell_type": "code",
   "execution_count": 45,
   "source": [
    "# YOUR CODE HERE\r\n",
    "\r\n",
    "my_df = my_df[my_df[\"apples\"] < 5]\r\n",
    "\r\n",
    "my_df.head(10)"
   ],
   "outputs": [
    {
     "output_type": "execute_result",
     "data": {
      "text/plain": [
       "        apples  bananas  oranges\n",
       "cust1      4.0      7.0     20.0\n",
       "cust2      1.0      4.0      2.0\n",
       "cust3      3.0      9.0      4.0\n",
       "cust4      2.0      6.0      0.0\n",
       "cust5      4.0      2.0     10.0\n",
       "cust6      1.0     20.0      2.0\n",
       "cust7      2.0      6.0      3.0\n",
       "cust8      4.0      1.0     22.0\n",
       "cust9      2.0      7.0      5.0\n",
       "cust10     3.0      5.0     23.0"
      ],
      "text/html": [
       "<div>\n",
       "<style scoped>\n",
       "    .dataframe tbody tr th:only-of-type {\n",
       "        vertical-align: middle;\n",
       "    }\n",
       "\n",
       "    .dataframe tbody tr th {\n",
       "        vertical-align: top;\n",
       "    }\n",
       "\n",
       "    .dataframe thead th {\n",
       "        text-align: right;\n",
       "    }\n",
       "</style>\n",
       "<table border=\"1\" class=\"dataframe\">\n",
       "  <thead>\n",
       "    <tr style=\"text-align: right;\">\n",
       "      <th></th>\n",
       "      <th>apples</th>\n",
       "      <th>bananas</th>\n",
       "      <th>oranges</th>\n",
       "    </tr>\n",
       "  </thead>\n",
       "  <tbody>\n",
       "    <tr>\n",
       "      <th>cust1</th>\n",
       "      <td>4.0</td>\n",
       "      <td>7.0</td>\n",
       "      <td>20.0</td>\n",
       "    </tr>\n",
       "    <tr>\n",
       "      <th>cust2</th>\n",
       "      <td>1.0</td>\n",
       "      <td>4.0</td>\n",
       "      <td>2.0</td>\n",
       "    </tr>\n",
       "    <tr>\n",
       "      <th>cust3</th>\n",
       "      <td>3.0</td>\n",
       "      <td>9.0</td>\n",
       "      <td>4.0</td>\n",
       "    </tr>\n",
       "    <tr>\n",
       "      <th>cust4</th>\n",
       "      <td>2.0</td>\n",
       "      <td>6.0</td>\n",
       "      <td>0.0</td>\n",
       "    </tr>\n",
       "    <tr>\n",
       "      <th>cust5</th>\n",
       "      <td>4.0</td>\n",
       "      <td>2.0</td>\n",
       "      <td>10.0</td>\n",
       "    </tr>\n",
       "    <tr>\n",
       "      <th>cust6</th>\n",
       "      <td>1.0</td>\n",
       "      <td>20.0</td>\n",
       "      <td>2.0</td>\n",
       "    </tr>\n",
       "    <tr>\n",
       "      <th>cust7</th>\n",
       "      <td>2.0</td>\n",
       "      <td>6.0</td>\n",
       "      <td>3.0</td>\n",
       "    </tr>\n",
       "    <tr>\n",
       "      <th>cust8</th>\n",
       "      <td>4.0</td>\n",
       "      <td>1.0</td>\n",
       "      <td>22.0</td>\n",
       "    </tr>\n",
       "    <tr>\n",
       "      <th>cust9</th>\n",
       "      <td>2.0</td>\n",
       "      <td>7.0</td>\n",
       "      <td>5.0</td>\n",
       "    </tr>\n",
       "    <tr>\n",
       "      <th>cust10</th>\n",
       "      <td>3.0</td>\n",
       "      <td>5.0</td>\n",
       "      <td>23.0</td>\n",
       "    </tr>\n",
       "  </tbody>\n",
       "</table>\n",
       "</div>"
      ]
     },
     "metadata": {},
     "execution_count": 45
    }
   ],
   "metadata": {
    "deletable": false,
    "nbgrader": {
     "cell_type": "code",
     "checksum": "9f7221f260ea18c24561b3c1d872f75d",
     "grade": false,
     "grade_id": "cell-63fd4d48def27a6e",
     "locked": false,
     "schema_version": 3,
     "solution": true,
     "task": false
    }
   }
  },
  {
   "cell_type": "markdown",
   "source": [
    "## Numeric Operications and Methods"
   ],
   "metadata": {}
  },
  {
   "cell_type": "code",
   "execution_count": 46,
   "source": [
    "YouTubeVideo('ClB-n1f9sBM', width=640, height=360)"
   ],
   "outputs": [
    {
     "output_type": "execute_result",
     "data": {
      "text/plain": [
       "<IPython.lib.display.YouTubeVideo at 0x1c33ffd31f0>"
      ],
      "image/jpeg": "[encoded data removed]",
      "text/html": [
       "\n",
       "        <iframe\n",
       "            width=\"640\"\n",
       "            height=\"360\"\n",
       "            src=\"https://www.youtube.com/embed/ClB-n1f9sBM\"\n",
       "            frameborder=\"0\"\n",
       "            allowfullscreen\n",
       "        ></iframe>\n",
       "        "
      ]
     },
     "metadata": {},
     "execution_count": 46
    }
   ],
   "metadata": {}
  },
  {
   "cell_type": "markdown",
   "source": [
    "As we saw in the video, we can easily make vectorized operations with multiple numpy arrays as well as pandas series and dataframes. This feature can become useful in many cases - in particular, when you have a large set of data and you do not want to make a (computationally exhaustive) loop through all you observation.\n",
    "\n",
    "> **Ex. 2.1.7**: In this exercise, we want you to make operations on multiple vectors and matrices using a combination of numpy arrays and pandas dataframes.\n",
    "> 1. Create a numpy array (with 3 elements) of costs associated with different types of fruits. Call this 'price'. Entries should be 1, 4 and 3, respectively.\n",
    "> 2. Create a new dataframe with information on each costumer's expenses associated with each type of fruit. This should involve multiplying your cost array with the 'my_df'.\n",
    "> 3. Create a new column called 'Total expenditure' by summing over fruit-specific prices for each customer (*hint:* Learn more about such sum [here](https://pandas.pydata.org/docs/reference/api/pandas.DataFrame.sum.html)).\n",
    "> 4. Sort the dataframe by total expenditure, starting with the customer with highest expenditure."
   ],
   "metadata": {}
  },
  {
   "cell_type": "code",
   "execution_count": 51,
   "source": [
    "# YOUR CODE HERE\r\n",
    "\r\n",
    "price = np.array([1,4,3])\r\n",
    "\r\n",
    "my_df_2 = my_df.copy()\r\n",
    "\r\n",
    "my_df_2 = my_df_2*price\r\n",
    "\r\n",
    "my_df_2[\"Total expenditure\"] = my_df_2[list(my_df_2.columns)].sum(axis=1)\r\n",
    "\r\n",
    "my_df_2.sort_values(\"Total expenditure\")\r\n",
    "\r\n"
   ],
   "outputs": [
    {
     "output_type": "execute_result",
     "data": {
      "text/plain": [
       "           apples  bananas  oranges  Total expenditure\n",
       "cust34118     0.0      0.0      0.0                0.0\n",
       "cust30324     0.0      0.0      0.0                0.0\n",
       "cust1899      0.0      0.0      0.0                0.0\n",
       "cust23275     0.0      0.0      0.0                0.0\n",
       "cust15913     0.0      0.0      0.0                0.0\n",
       "...           ...      ...      ...                ...\n",
       "cust19186     1.0    332.0     75.0              408.0\n",
       "cust11930     4.0    344.0     84.0              432.0\n",
       "cust31406     2.0    404.0     33.0              439.0\n",
       "cust5367      0.0    392.0     63.0              455.0\n",
       "cust23457     2.0    460.0     24.0              486.0\n",
       "\n",
       "[36163 rows x 4 columns]"
      ],
      "text/html": [
       "<div>\n",
       "<style scoped>\n",
       "    .dataframe tbody tr th:only-of-type {\n",
       "        vertical-align: middle;\n",
       "    }\n",
       "\n",
       "    .dataframe tbody tr th {\n",
       "        vertical-align: top;\n",
       "    }\n",
       "\n",
       "    .dataframe thead th {\n",
       "        text-align: right;\n",
       "    }\n",
       "</style>\n",
       "<table border=\"1\" class=\"dataframe\">\n",
       "  <thead>\n",
       "    <tr style=\"text-align: right;\">\n",
       "      <th></th>\n",
       "      <th>apples</th>\n",
       "      <th>bananas</th>\n",
       "      <th>oranges</th>\n",
       "      <th>Total expenditure</th>\n",
       "    </tr>\n",
       "  </thead>\n",
       "  <tbody>\n",
       "    <tr>\n",
       "      <th>cust34118</th>\n",
       "      <td>0.0</td>\n",
       "      <td>0.0</td>\n",
       "      <td>0.0</td>\n",
       "      <td>0.0</td>\n",
       "    </tr>\n",
       "    <tr>\n",
       "      <th>cust30324</th>\n",
       "      <td>0.0</td>\n",
       "      <td>0.0</td>\n",
       "      <td>0.0</td>\n",
       "      <td>0.0</td>\n",
       "    </tr>\n",
       "    <tr>\n",
       "      <th>cust1899</th>\n",
       "      <td>0.0</td>\n",
       "      <td>0.0</td>\n",
       "      <td>0.0</td>\n",
       "      <td>0.0</td>\n",
       "    </tr>\n",
       "    <tr>\n",
       "      <th>cust23275</th>\n",
       "      <td>0.0</td>\n",
       "      <td>0.0</td>\n",
       "      <td>0.0</td>\n",
       "      <td>0.0</td>\n",
       "    </tr>\n",
       "    <tr>\n",
       "      <th>cust15913</th>\n",
       "      <td>0.0</td>\n",
       "      <td>0.0</td>\n",
       "      <td>0.0</td>\n",
       "      <td>0.0</td>\n",
       "    </tr>\n",
       "    <tr>\n",
       "      <th>...</th>\n",
       "      <td>...</td>\n",
       "      <td>...</td>\n",
       "      <td>...</td>\n",
       "      <td>...</td>\n",
       "    </tr>\n",
       "    <tr>\n",
       "      <th>cust19186</th>\n",
       "      <td>1.0</td>\n",
       "      <td>332.0</td>\n",
       "      <td>75.0</td>\n",
       "      <td>408.0</td>\n",
       "    </tr>\n",
       "    <tr>\n",
       "      <th>cust11930</th>\n",
       "      <td>4.0</td>\n",
       "      <td>344.0</td>\n",
       "      <td>84.0</td>\n",
       "      <td>432.0</td>\n",
       "    </tr>\n",
       "    <tr>\n",
       "      <th>cust31406</th>\n",
       "      <td>2.0</td>\n",
       "      <td>404.0</td>\n",
       "      <td>33.0</td>\n",
       "      <td>439.0</td>\n",
       "    </tr>\n",
       "    <tr>\n",
       "      <th>cust5367</th>\n",
       "      <td>0.0</td>\n",
       "      <td>392.0</td>\n",
       "      <td>63.0</td>\n",
       "      <td>455.0</td>\n",
       "    </tr>\n",
       "    <tr>\n",
       "      <th>cust23457</th>\n",
       "      <td>2.0</td>\n",
       "      <td>460.0</td>\n",
       "      <td>24.0</td>\n",
       "      <td>486.0</td>\n",
       "    </tr>\n",
       "  </tbody>\n",
       "</table>\n",
       "<p>36163 rows × 4 columns</p>\n",
       "</div>"
      ]
     },
     "metadata": {},
     "execution_count": 51
    }
   ],
   "metadata": {
    "deletable": false,
    "nbgrader": {
     "cell_type": "code",
     "checksum": "80c0972023fd5a1e6f592de4cdc51a59",
     "grade": false,
     "grade_id": "cell-815c7a5459d9da6a",
     "locked": false,
     "schema_version": 3,
     "solution": true,
     "task": false
    }
   }
  },
  {
   "cell_type": "markdown",
   "source": [
    "When we have a large data set, it is difficult to get an idea of it's characteristics by simply sorting and printing. In such cases, we much rather want to look at some kinds of descriptive statistics for our data. \n",
    "\n",
    "> **Ex. 2.1.8**: In this exercise, we will ask you to use two methods from the video in order to shed some light on the distribution of total expenditure:\n",
    "> 1. Use `describe()` to get an idea about the distribution of total expenditure in the data set. What does the distance between `mean` and the `50%` quantile tell you about the skewness?\n",
    "> 2. Use the `cut` method to split the sample into 6 equal sized bins of expenditures from 0 to 600. Find the *share* of observations within each of these bins (we will work more with *categorical data* later in this session)."
   ],
   "metadata": {}
  },
  {
   "cell_type": "code",
   "execution_count": 59,
   "source": [
    "# YOUR CODE HERE\r\n",
    "\r\n",
    "my_df_2[\"Total expenditure\"].describe()\r\n",
    "\r\n",
    "# Given that the median is lower than the mean the distribution is left-skewed\r\n",
    "\r\n",
    "my_df_2[\"Total expenditure groupped\"] = pd.cut(my_df_2[\"Total expenditure\"], bins= [0, 100, 200, 300, 400, 500, 600])\r\n",
    "\r\n",
    "my_df_2[\"Total expenditure groupped\"].value_counts().sort_index()"
   ],
   "outputs": [
    {
     "output_type": "execute_result",
     "data": {
      "text/plain": [
       "(0, 100]      27937\n",
       "(100, 200]     7392\n",
       "(200, 300]      745\n",
       "(300, 400]       75\n",
       "(400, 500]        6\n",
       "(500, 600]        0\n",
       "Name: Total expenditure groupped, dtype: int64"
      ]
     },
     "metadata": {},
     "execution_count": 59
    }
   ],
   "metadata": {
    "deletable": false,
    "nbgrader": {
     "cell_type": "code",
     "checksum": "464113e102297fdfc5dd2c83e36d8ca4",
     "grade": false,
     "grade_id": "cell-43666d5bd6421188",
     "locked": false,
     "schema_version": 3,
     "solution": true,
     "task": false
    }
   }
  },
  {
   "cell_type": "markdown",
   "source": [
    "## String Operations"
   ],
   "metadata": {}
  },
  {
   "cell_type": "code",
   "execution_count": null,
   "source": [
    "YouTubeVideo('Yjdd8rKj_WI', width=640, height=360)"
   ],
   "outputs": [],
   "metadata": {}
  },
  {
   "cell_type": "markdown",
   "source": [
    "Finally, we saw that pandas handles string variable natively. In particular, there is a set of string-specific operations (`.str`) that can be applied to a whole pandas series without having to loop through each row.\n",
    "\n",
    "> **Ex. 2.1.9**: In this final introductory exercise, we want you to \n",
    "> 1. Create a new variable (column) based on the index called 'Customer'. This should capitalize the customer id and write out 'Cust' to 'Customer' (i.e. you should get something similar to 'Customer **x**'). \n",
    "> 2. Reset the index."
   ],
   "metadata": {}
  },
  {
   "cell_type": "code",
   "execution_count": 62,
   "source": [
    "# YOUR CODE HERE\r\n",
    "\r\n",
    "my_df_2[\"Costumer\"] = my_df_2.index.str.replace(\"cust\", \"Customer\")\r\n",
    "\r\n",
    "my_df_2.reset_index()"
   ],
   "outputs": [
    {
     "output_type": "execute_result",
     "data": {
      "text/plain": [
       "           index  apples  bananas  oranges  Total expenditure  \\\n",
       "0          cust1     4.0     28.0     60.0               92.0   \n",
       "1          cust2     1.0     16.0      6.0               23.0   \n",
       "2          cust3     3.0     36.0     12.0               51.0   \n",
       "3          cust4     2.0     24.0      0.0               26.0   \n",
       "4          cust5     4.0      8.0     30.0               42.0   \n",
       "...          ...     ...      ...      ...                ...   \n",
       "36158  cust36159     2.0     72.0     18.0               92.0   \n",
       "36159  cust36160     2.0     28.0     42.0               72.0   \n",
       "36160  cust36161     1.0    100.0     15.0              116.0   \n",
       "36161  cust36162     1.0    188.0     18.0              207.0   \n",
       "36162  cust36163     4.0      4.0      9.0               17.0   \n",
       "\n",
       "      Total expenditure groupped       Costumer  \n",
       "0                       (0, 100]      Customer1  \n",
       "1                       (0, 100]      Customer2  \n",
       "2                       (0, 100]      Customer3  \n",
       "3                       (0, 100]      Customer4  \n",
       "4                       (0, 100]      Customer5  \n",
       "...                          ...            ...  \n",
       "36158                   (0, 100]  Customer36159  \n",
       "36159                   (0, 100]  Customer36160  \n",
       "36160                 (100, 200]  Customer36161  \n",
       "36161                 (200, 300]  Customer36162  \n",
       "36162                   (0, 100]  Customer36163  \n",
       "\n",
       "[36163 rows x 7 columns]"
      ],
      "text/html": [
       "<div>\n",
       "<style scoped>\n",
       "    .dataframe tbody tr th:only-of-type {\n",
       "        vertical-align: middle;\n",
       "    }\n",
       "\n",
       "    .dataframe tbody tr th {\n",
       "        vertical-align: top;\n",
       "    }\n",
       "\n",
       "    .dataframe thead th {\n",
       "        text-align: right;\n",
       "    }\n",
       "</style>\n",
       "<table border=\"1\" class=\"dataframe\">\n",
       "  <thead>\n",
       "    <tr style=\"text-align: right;\">\n",
       "      <th></th>\n",
       "      <th>index</th>\n",
       "      <th>apples</th>\n",
       "      <th>bananas</th>\n",
       "      <th>oranges</th>\n",
       "      <th>Total expenditure</th>\n",
       "      <th>Total expenditure groupped</th>\n",
       "      <th>Costumer</th>\n",
       "    </tr>\n",
       "  </thead>\n",
       "  <tbody>\n",
       "    <tr>\n",
       "      <th>0</th>\n",
       "      <td>cust1</td>\n",
       "      <td>4.0</td>\n",
       "      <td>28.0</td>\n",
       "      <td>60.0</td>\n",
       "      <td>92.0</td>\n",
       "      <td>(0, 100]</td>\n",
       "      <td>Customer1</td>\n",
       "    </tr>\n",
       "    <tr>\n",
       "      <th>1</th>\n",
       "      <td>cust2</td>\n",
       "      <td>1.0</td>\n",
       "      <td>16.0</td>\n",
       "      <td>6.0</td>\n",
       "      <td>23.0</td>\n",
       "      <td>(0, 100]</td>\n",
       "      <td>Customer2</td>\n",
       "    </tr>\n",
       "    <tr>\n",
       "      <th>2</th>\n",
       "      <td>cust3</td>\n",
       "      <td>3.0</td>\n",
       "      <td>36.0</td>\n",
       "      <td>12.0</td>\n",
       "      <td>51.0</td>\n",
       "      <td>(0, 100]</td>\n",
       "      <td>Customer3</td>\n",
       "    </tr>\n",
       "    <tr>\n",
       "      <th>3</th>\n",
       "      <td>cust4</td>\n",
       "      <td>2.0</td>\n",
       "      <td>24.0</td>\n",
       "      <td>0.0</td>\n",
       "      <td>26.0</td>\n",
       "      <td>(0, 100]</td>\n",
       "      <td>Customer4</td>\n",
       "    </tr>\n",
       "    <tr>\n",
       "      <th>4</th>\n",
       "      <td>cust5</td>\n",
       "      <td>4.0</td>\n",
       "      <td>8.0</td>\n",
       "      <td>30.0</td>\n",
       "      <td>42.0</td>\n",
       "      <td>(0, 100]</td>\n",
       "      <td>Customer5</td>\n",
       "    </tr>\n",
       "    <tr>\n",
       "      <th>...</th>\n",
       "      <td>...</td>\n",
       "      <td>...</td>\n",
       "      <td>...</td>\n",
       "      <td>...</td>\n",
       "      <td>...</td>\n",
       "      <td>...</td>\n",
       "      <td>...</td>\n",
       "    </tr>\n",
       "    <tr>\n",
       "      <th>36158</th>\n",
       "      <td>cust36159</td>\n",
       "      <td>2.0</td>\n",
       "      <td>72.0</td>\n",
       "      <td>18.0</td>\n",
       "      <td>92.0</td>\n",
       "      <td>(0, 100]</td>\n",
       "      <td>Customer36159</td>\n",
       "    </tr>\n",
       "    <tr>\n",
       "      <th>36159</th>\n",
       "      <td>cust36160</td>\n",
       "      <td>2.0</td>\n",
       "      <td>28.0</td>\n",
       "      <td>42.0</td>\n",
       "      <td>72.0</td>\n",
       "      <td>(0, 100]</td>\n",
       "      <td>Customer36160</td>\n",
       "    </tr>\n",
       "    <tr>\n",
       "      <th>36160</th>\n",
       "      <td>cust36161</td>\n",
       "      <td>1.0</td>\n",
       "      <td>100.0</td>\n",
       "      <td>15.0</td>\n",
       "      <td>116.0</td>\n",
       "      <td>(100, 200]</td>\n",
       "      <td>Customer36161</td>\n",
       "    </tr>\n",
       "    <tr>\n",
       "      <th>36161</th>\n",
       "      <td>cust36162</td>\n",
       "      <td>1.0</td>\n",
       "      <td>188.0</td>\n",
       "      <td>18.0</td>\n",
       "      <td>207.0</td>\n",
       "      <td>(200, 300]</td>\n",
       "      <td>Customer36162</td>\n",
       "    </tr>\n",
       "    <tr>\n",
       "      <th>36162</th>\n",
       "      <td>cust36163</td>\n",
       "      <td>4.0</td>\n",
       "      <td>4.0</td>\n",
       "      <td>9.0</td>\n",
       "      <td>17.0</td>\n",
       "      <td>(0, 100]</td>\n",
       "      <td>Customer36163</td>\n",
       "    </tr>\n",
       "  </tbody>\n",
       "</table>\n",
       "<p>36163 rows × 7 columns</p>\n",
       "</div>"
      ]
     },
     "metadata": {},
     "execution_count": 62
    }
   ],
   "metadata": {
    "deletable": false,
    "nbgrader": {
     "cell_type": "code",
     "checksum": "d8b2f7083fae44c880facd79d2cf6d04",
     "grade": false,
     "grade_id": "cell-efe56b530ff9005c",
     "locked": false,
     "schema_version": 3,
     "solution": true,
     "task": false
    }
   }
  },
  {
   "cell_type": "markdown",
   "source": [
    "# Part 2: Readible Code\n",
    "\n",
    "Before proceeding to part 3 on advanced data types that are handled natively in pandas, we want you to think a bit about writing readable code. In particular, if we have lots of code, it may be very difficult for others or ourselves to read. Therefore, providing some structure and meta text can help reading the code.\n",
    "\n",
    "In the following, you will learn about readible code. Then we ask you to use what you learned in order to process the NOAA data from assignment 0. Don't spend too long on this exercise - we are going to use the data for the following exercises."
   ],
   "metadata": {}
  },
  {
   "cell_type": "markdown",
   "source": [
    "## Commenting\n",
    "\n",
    "When making code it's good practice to document different parts of the code. In particular describing functions and complex code. The example below shows how to make multi-line comments (as a string, which is not assigned) and in-line comments using the `#` character.\n",
    "\n",
    "```python\n",
    "def my_fct(x,y):\n",
    "    ''' \n",
    "    Computes the sum of input values (multi-line comment as string)\n",
    "    '''\n",
    "    z = x+y # Here we perform the summation (in-line comment)\n",
    "    return z\n",
    "```\n",
    "\n",
    "\n",
    "## Method chaining\n",
    "\n",
    "We can write multiple operations together by putting them one after the other, which is known as `method chaining`. Using this, we only need to assign them once to a new object and therefore we save a lot of code. We change the example below into one using a method chain:\n",
    "\n",
    "Example without method chain\n",
    "```python\n",
    "df_temp1 = df.loc[selection]\n",
    "df_temp2 = df_temp1.sort_values(by=X)\n",
    "df_out = df_temp2.reset_index()\n",
    "```\n",
    "\n",
    "Example with method chain - one line\n",
    "\n",
    "```python\n",
    "df_out = df.loc[selection].sort_values(by=X).reset_index()\n",
    "```\n",
    "As seen in the example, although using less code, our method chain will get more and more difficult to read if we include two or more operations. We can overcome this problem of long chains by splitting into multiple lines with line breaks:\n",
    "\n",
    "Example with method chain - line break\n",
    "```python\n",
    "df_out = df\\\n",
    "        .loc[selection]\\\n",
    "        .sort_values(by=X)\\\n",
    "        .reset_index()\n",
    "```\n",
    "\n",
    "Note that the backslash allows us to make a visual line break, but the code is read as one line.\n"
   ],
   "metadata": {}
  },
  {
   "cell_type": "markdown",
   "source": [
    "## Exercises for Part 2\n",
    "\n",
    "We continue with the exercise of analyzing NOAA data. We start out reviewing what we did in Assignment 0. "
   ],
   "metadata": {}
  },
  {
   "cell_type": "markdown",
   "source": [
    "> **Ex. 2.2.1:** The code below runs through all the steps we completed in Assignment 0.4 step by step. Your task is to document this code in your own words. You should also make your own annotation of parts. In addition, you should make the code more readable by applying method chaining.\r\n",
    "> \r\n",
    ">*Hint:* After loading the data and selecting the first four columns, everything can be stated in one method chain! It's OK if you use more, though.\r\n",
    "\r\n",
    "```python\r\n",
    "import pandas as pd\r\n",
    "\r\n",
    "def load_weather(year):\r\n",
    "    \r\n",
    "    url = f\"ftp://ftp.ncdc.noaa.gov/pub/data/ghcn/daily/by_year/{year}.csv.gz\"\r\n",
    "\r\n",
    "    df_weather = pd.read_csv(url, \r\n",
    "                             header=None)        \r\n",
    "\r\n",
    "    df_weather = df_weather.iloc[:,:4] \r\n",
    "    \r\n",
    "    column_names = ['station', 'datetime', 'obs_type', 'obs_value']\r\n",
    "    df_weather.columns = column_names \r\n",
    "    \r\n",
    "    df_weather['obs_value'] = df_weather['obs_value'] / 10 \r\n",
    "    \r\n",
    "    selection_tmax = df_weather.obs_type == 'TMAX'\r\n",
    "    df_select = df_weather.loc[selection_tmax]\r\n",
    "    \r\n",
    "    df_sorted = df_select.sort_values(by=['station', 'datetime'])\r\n",
    "    df_reset = df_sorted.reset_index(drop=True)\r\n",
    "    df_out = df_reset.copy()\r\n",
    "            \r\n",
    "    return df_out\r\n",
    "```"
   ],
   "metadata": {}
  },
  {
   "cell_type": "code",
   "execution_count": 63,
   "source": [
    "# importing pandas\r\n",
    "import pandas as pd\r\n",
    "\r\n",
    "def load_weather(year):\r\n",
    "    \r\n",
    "    # Inititalising the url object as an f-string\r\n",
    "    url = f\"ftp://ftp.ncdc.noaa.gov/pub/data/ghcn/daily/by_year/{year}.csv.gz\"\r\n",
    "\r\n",
    "    # Reading the url as a csv\r\n",
    "    df_weather = pd.read_csv(url, \r\n",
    "                             header=None)        \r\n",
    "\r\n",
    "    # selecting the first 4 columns only into our dataframe\r\n",
    "    df_weather = df_weather.iloc[:,:4] \r\n",
    "    \r\n",
    "    # Making a list of column names and renaming the first 4 columns\r\n",
    "    column_names = ['station', 'datetime', 'obs_type', 'obs_value']\r\n",
    "    df_weather.columns = column_names \r\n",
    "    \r\n",
    "    # dividing the \"obs_value\" column with 10\r\n",
    "    df_weather['obs_value'] = df_weather['obs_value'] / 10 \r\n",
    "    \r\n",
    "    # selecting the observation where the type of observation is equal to \"TMAX\"\r\n",
    "    selection_tmax = df_weather.obs_type == 'TMAX'\r\n",
    "    df_select = df_weather.loc[selection_tmax]\r\n",
    "    \r\n",
    "    # sorting the dataframe by station and datetime\r\n",
    "    df_sorted = df_select.sort_values(by=['station', 'datetime'])\r\n",
    "\r\n",
    "    # reseting indecies and making a copy of the dataframe to make a final dataframe.\r\n",
    "    df_reset = df_sorted.reset_index(drop=True)\r\n",
    "    df_out = df_reset.copy()\r\n",
    "            \r\n",
    "    return df_out\r\n",
    "\r\n",
    "load_weather(1863)"
   ],
   "outputs": [
    {
     "output_type": "execute_result",
     "data": {
      "text/plain": [
       "          station  datetime obs_type  obs_value\n",
       "0     AGE00135039  18630102     TMAX       11.5\n",
       "1     AGE00135039  18630103     TMAX       11.0\n",
       "2     AGE00135039  18630105     TMAX       15.5\n",
       "3     AGE00135039  18630106     TMAX       16.5\n",
       "4     AGE00135039  18630107     TMAX       15.0\n",
       "...           ...       ...      ...        ...\n",
       "5875  USW00014838  18630727     TMAX       20.6\n",
       "5876  USW00014838  18630728     TMAX       19.9\n",
       "5877  USW00014838  18630729     TMAX       25.1\n",
       "5878  USW00014838  18630730     TMAX       29.4\n",
       "5879  USW00014838  18630731     TMAX       25.6\n",
       "\n",
       "[5880 rows x 4 columns]"
      ],
      "text/html": [
       "<div>\n",
       "<style scoped>\n",
       "    .dataframe tbody tr th:only-of-type {\n",
       "        vertical-align: middle;\n",
       "    }\n",
       "\n",
       "    .dataframe tbody tr th {\n",
       "        vertical-align: top;\n",
       "    }\n",
       "\n",
       "    .dataframe thead th {\n",
       "        text-align: right;\n",
       "    }\n",
       "</style>\n",
       "<table border=\"1\" class=\"dataframe\">\n",
       "  <thead>\n",
       "    <tr style=\"text-align: right;\">\n",
       "      <th></th>\n",
       "      <th>station</th>\n",
       "      <th>datetime</th>\n",
       "      <th>obs_type</th>\n",
       "      <th>obs_value</th>\n",
       "    </tr>\n",
       "  </thead>\n",
       "  <tbody>\n",
       "    <tr>\n",
       "      <th>0</th>\n",
       "      <td>AGE00135039</td>\n",
       "      <td>18630102</td>\n",
       "      <td>TMAX</td>\n",
       "      <td>11.5</td>\n",
       "    </tr>\n",
       "    <tr>\n",
       "      <th>1</th>\n",
       "      <td>AGE00135039</td>\n",
       "      <td>18630103</td>\n",
       "      <td>TMAX</td>\n",
       "      <td>11.0</td>\n",
       "    </tr>\n",
       "    <tr>\n",
       "      <th>2</th>\n",
       "      <td>AGE00135039</td>\n",
       "      <td>18630105</td>\n",
       "      <td>TMAX</td>\n",
       "      <td>15.5</td>\n",
       "    </tr>\n",
       "    <tr>\n",
       "      <th>3</th>\n",
       "      <td>AGE00135039</td>\n",
       "      <td>18630106</td>\n",
       "      <td>TMAX</td>\n",
       "      <td>16.5</td>\n",
       "    </tr>\n",
       "    <tr>\n",
       "      <th>4</th>\n",
       "      <td>AGE00135039</td>\n",
       "      <td>18630107</td>\n",
       "      <td>TMAX</td>\n",
       "      <td>15.0</td>\n",
       "    </tr>\n",
       "    <tr>\n",
       "      <th>...</th>\n",
       "      <td>...</td>\n",
       "      <td>...</td>\n",
       "      <td>...</td>\n",
       "      <td>...</td>\n",
       "    </tr>\n",
       "    <tr>\n",
       "      <th>5875</th>\n",
       "      <td>USW00014838</td>\n",
       "      <td>18630727</td>\n",
       "      <td>TMAX</td>\n",
       "      <td>20.6</td>\n",
       "    </tr>\n",
       "    <tr>\n",
       "      <th>5876</th>\n",
       "      <td>USW00014838</td>\n",
       "      <td>18630728</td>\n",
       "      <td>TMAX</td>\n",
       "      <td>19.9</td>\n",
       "    </tr>\n",
       "    <tr>\n",
       "      <th>5877</th>\n",
       "      <td>USW00014838</td>\n",
       "      <td>18630729</td>\n",
       "      <td>TMAX</td>\n",
       "      <td>25.1</td>\n",
       "    </tr>\n",
       "    <tr>\n",
       "      <th>5878</th>\n",
       "      <td>USW00014838</td>\n",
       "      <td>18630730</td>\n",
       "      <td>TMAX</td>\n",
       "      <td>29.4</td>\n",
       "    </tr>\n",
       "    <tr>\n",
       "      <th>5879</th>\n",
       "      <td>USW00014838</td>\n",
       "      <td>18630731</td>\n",
       "      <td>TMAX</td>\n",
       "      <td>25.6</td>\n",
       "    </tr>\n",
       "  </tbody>\n",
       "</table>\n",
       "<p>5880 rows × 4 columns</p>\n",
       "</div>"
      ]
     },
     "metadata": {},
     "execution_count": 63
    }
   ],
   "metadata": {
    "deletable": false,
    "nbgrader": {
     "cell_type": "code",
     "checksum": "45437bcbd759fa81948734724d4c5668",
     "grade": false,
     "grade_id": "cell-25487430558396f5",
     "locked": false,
     "schema_version": 3,
     "solution": true,
     "task": false
    }
   }
  },
  {
   "cell_type": "markdown",
   "source": [
    "# Part 3: Advanced Data Types\n",
    "\n",
    "When you start working with data, you quickly realize that data comes in many different types. \n",
    "\n",
    "Some distinctions between data types are obvious to make. For instance, numeric variables should consists of meaningful values that represent something that can be measured (a length, weight, economic value, etc.) with a number. String variables, on the other hand, are variables that *may* also consist of letters and other characters in addition to numbers. And boolean variables are simply binary with only two possible values.\n",
    "\n",
    "However, we also encounter lots of other data types in applied work within social sciences. Categorical variables can only take a (often quite strictly) limited number of values. And time series data are characterized by being indexed in some time order. In this part, we will explore different these two data types and how you work with them in Pandas."
   ],
   "metadata": {}
  },
  {
   "cell_type": "markdown",
   "source": [
    "> **Ex. 2.3.1:** Load the data for year 1863. Extract the area code (country and state) from the station name into a separate column.\n",
    ">\n",
    "> _Hint:_ The station column contains a GHCND ID, given to each weather station by NOAA. The format of these ID's is a 2 letter country/state code, followed by possible additional information on the third character and then an integer identifying the specific station. A simple approach is to assume a fixed length of the country ID. A more complex way would be to use the [`re`](https://docs.python.org/3.8/library/re.html) module. "
   ],
   "metadata": {}
  },
  {
   "cell_type": "code",
   "execution_count": 67,
   "source": [
    "# YOUR CODE HERE\r\n",
    "\r\n",
    "\r\n",
    "weather_df = load_weather(1863)\r\n",
    "\r\n",
    "weather_df[\"area\"] = weather_df[\"station\"].str[0:3]\r\n"
   ],
   "outputs": [],
   "metadata": {
    "deletable": false,
    "nbgrader": {
     "cell_type": "code",
     "checksum": "b791aa50dbe353387d9dba1c3c2f7f45",
     "grade": false,
     "grade_id": "cell-06b389c7710d2f21",
     "locked": false,
     "schema_version": 3,
     "solution": true,
     "task": false
    }
   }
  },
  {
   "cell_type": "markdown",
   "source": [
    "## Categorical Data"
   ],
   "metadata": {}
  },
  {
   "cell_type": "markdown",
   "source": [
    "Pandas has built-in features for working specifically with categorical data. In the video below, we will discuss how you can think about categorical data, and how you can efficiently work with it in pandas."
   ],
   "metadata": {}
  },
  {
   "cell_type": "code",
   "execution_count": 3,
   "source": [
    "YouTubeVideo('x2TCnT46cl4', width=640, height=360)"
   ],
   "outputs": [
    {
     "output_type": "execute_result",
     "data": {
      "text/plain": [
       "<IPython.lib.display.YouTubeVideo at 0x11dff6b5cd0>"
      ],
      "image/jpeg": "[encoded data removed]",
      "text/html": [
       "\n",
       "        <iframe\n",
       "            width=\"640\"\n",
       "            height=\"360\"\n",
       "            src=\"https://www.youtube.com/embed/x2TCnT46cl4\"\n",
       "            frameborder=\"0\"\n",
       "            allowfullscreen\n",
       "        ></iframe>\n",
       "        "
      ]
     },
     "metadata": {},
     "execution_count": 3
    }
   ],
   "metadata": {}
  },
  {
   "cell_type": "markdown",
   "source": [
    "Having watched the video introducing categorical data, we now want you to try and work with it.\n",
    "\n",
    "> **Ex. 2.3.2:** Do the following:\n",
    "> 1. Convert the `area` column to a categorical variable. \n",
    "> 2. Transform the `obs_value` column from a continuous to a categorical variable by partitioning it into `3` intervals. The first interval should contain observations with values of `obs_value` up to the 10% quantile. The second interval should contain observations with values of `obs_value` up to the 90% quantile. The third interval should contain the rest of the observations. Call this new column for `obs_value_cat`.  This can be done using the `pd.qcut()` method.\n",
    "> 3. Make another column with  `obs_value` as a categorical variable but this time label the 3 intervals as `[\"cold\", \"medium\", \"hot\"]`. This can be done by specifying the `labels` parameter in the `pd.qcut()` method of pandas. Call this new column for `obs_value_cat_labeled`."
   ],
   "metadata": {}
  },
  {
   "cell_type": "code",
   "execution_count": null,
   "source": [
    "# INCLUDED IN ASSIGNMENT 1\r\n",
    "\r\n",
    "weather_df[\"area\"] = "
   ],
   "outputs": [],
   "metadata": {
    "deletable": false,
    "nbgrader": {
     "cell_type": "code",
     "checksum": "90d110a6f710157d53bd4d11241debb1",
     "grade": false,
     "grade_id": "cell-4471027effe9de1e",
     "locked": false,
     "schema_version": 3,
     "solution": true,
     "task": false
    }
   }
  },
  {
   "cell_type": "code",
   "execution_count": null,
   "source": [
    "# INCLUDED IN ASSIGNMENT 1"
   ],
   "outputs": [],
   "metadata": {
    "nbgrader": {
     "grade": false,
     "grade_id": "cell-4471027effe9de1e",
     "locked": false,
     "schema_version": 3,
     "solution": true,
     "task": false
    }
   }
  },
  {
   "cell_type": "markdown",
   "source": [
    "## Time Series Data\n",
    "\n",
    "Our coverage of basic Python did not include time. This is another elementary datatypes, that has its own native structure or maybe converted to an integer using a smart method. See more below."
   ],
   "metadata": {}
  },
  {
   "cell_type": "code",
   "execution_count": null,
   "source": [
    "YouTubeVideo('DmkT7PdqgAA', width=640, height=360)"
   ],
   "outputs": [],
   "metadata": {}
  },
  {
   "cell_type": "markdown",
   "source": [
    "> **Ex. 2.3.3:** Convert the date formated as string to datetime. Call this column `datetime_dt`. Make a new column named `month` with the month for each observation. Set the datetime variable as temporal index. \n",
    ">\n",
    "> *Hint:* Look up `.set_index()` setting the index."
   ],
   "metadata": {}
  },
  {
   "cell_type": "code",
   "execution_count": null,
   "source": [
    "# YOUR CODE HERE\r\n",
    "raise NotImplementedError()"
   ],
   "outputs": [],
   "metadata": {
    "deletable": false,
    "nbgrader": {
     "cell_type": "code",
     "checksum": "3711d48d26ae9023456a798ed11e5ffa",
     "grade": false,
     "grade_id": "cell-fbac9fd2ad284d24",
     "locked": false,
     "schema_version": 3,
     "solution": true,
     "task": false
    }
   }
  },
  {
   "cell_type": "markdown",
   "source": [
    "> **Ex. 2.3.4:** Update your annotated function above with processing of area and temporal data.          "
   ],
   "metadata": {}
  },
  {
   "cell_type": "code",
   "execution_count": null,
   "source": [
    "# INCLUDED IN ASSIGNMENT 1"
   ],
   "outputs": [],
   "metadata": {
    "nbgrader": {
     "grade": false,
     "grade_id": "cell-4471027effe9de1e",
     "locked": false,
     "schema_version": 3,
     "solution": true,
     "task": false
    }
   }
  },
  {
   "cell_type": "code",
   "execution_count": null,
   "source": [
    "# INCLUDED IN ASSIGNMENT 1# YOUR CODE HERE\r\n",
    "raise NotImplementedError()"
   ],
   "outputs": [],
   "metadata": {
    "deletable": false,
    "nbgrader": {
     "cell_type": "code",
     "checksum": "198a9946d9652436432a5eed2d7cd443",
     "grade": false,
     "grade_id": "cell-1ee57534437b4ebb",
     "locked": false,
     "schema_version": 3,
     "solution": true,
     "task": false
    }
   }
  },
  {
   "cell_type": "markdown",
   "source": [
    "> **Ex. 2.3.5:** Make a timeseries plot for the station called `AGE00135039`.\n",
    ">\n",
    "> _Hint:_ for this you need to know a few methods of the pandas Series objects, for instance `.plot()`. "
   ],
   "metadata": {}
  },
  {
   "cell_type": "code",
   "execution_count": null,
   "source": [
    "# YOUR CODE HERE\r\n",
    "raise NotImplementedError()"
   ],
   "outputs": [],
   "metadata": {
    "deletable": false,
    "nbgrader": {
     "cell_type": "code",
     "checksum": "e18712eff9f69bfeb4cb4ed31f343f77",
     "grade": false,
     "grade_id": "cell-46e6efb8f7619f0e",
     "locked": false,
     "schema_version": 3,
     "solution": true,
     "task": false
    }
   }
  }
 ],
 "metadata": {
  "kernelspec": {
   "name": "python3",
   "display_name": "Python 3.8.3 64-bit ('base': conda)"
  },
  "language_info": {
   "codemirror_mode": {
    "name": "ipython",
    "version": 3
   },
   "file_extension": ".py",
   "mimetype": "text/x-python",
   "name": "python",
   "nbconvert_exporter": "python",
   "pygments_lexer": "ipython3",
   "version": "3.8.3"
  },
  "nav_menu": {},
  "toc": {
   "navigate_menu": true,
   "number_sections": false,
   "sideBar": true,
   "threshold": 6,
   "toc_cell": false,
   "toc_section_display": "block",
   "toc_window_display": true
  },
  "varInspector": {
   "cols": {
    "lenName": 16,
    "lenType": 16,
    "lenVar": 40
   },
   "kernels_config": {
    "python": {
     "delete_cmd_postfix": "",
     "delete_cmd_prefix": "del ",
     "library": "var_list.py",
     "varRefreshCmd": "print(var_dic_list())"
    },
    "r": {
     "delete_cmd_postfix": ") ",
     "delete_cmd_prefix": "rm(",
     "library": "var_list.r",
     "varRefreshCmd": "cat(var_dic_list()) "
    }
   },
   "types_to_exclude": [
    "module",
    "function",
    "builtin_function_or_method",
    "instance",
    "_Feature"
   ],
   "window_display": false
  },
  "interpreter": {
   "hash": "5eb2e0c23f8e38f19a3cfe8ad2d7bbb895a86b1e106b247f2b169180d03d2047"
  }
 },
 "nbformat": 4,
 "nbformat_minor": 4
}