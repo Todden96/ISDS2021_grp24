{
 "cells": [
  {
   "cell_type": "markdown",
   "source": [
    "# Videos and Exercises for Session 3: Data Structuring in Pandas II\r\n",
    "\r\n",
    "In this combined teaching module and exercise set, you will continue working with structuring data. \r\n",
    "\r\n",
    "In the last session, you were working with making operations on relatively clean data. However, before it is meaningful to make such operations, you will (as a data scientist) often have to do some very preliminary cleaning, involving for instance dealing with missings and duplicates as well as combining and restructuring larger sets of data. These are among the topics that we will be focusing on today.\r\n",
    "\r\n",
    "The notebook is structured as follows:\r\n",
    "1. Missings and Duplicated Data:\r\n",
    "    - Handling Missings: Delete or Interpolate?\r\n",
    "    - Spotting and Interpreting Duplicates\r\n",
    "2. Combining Data Sets:\r\n",
    "    - Intro to `merge`, `concat` and `join`\r\n",
    "    - Horizontal and Vertical Merging\r\n",
    "3. Split-Apply-Combine\r\n",
    "    - Finding Means and Other Characteristics from Data Subsets (aggregation)\r\n",
    "4. Reshaping Data\r\n",
    "    - Wide and Long Data\r\n",
    "    - Intro to `stack`"
   ],
   "metadata": {
    "ExecuteTime": {
     "end_time": "2017-08-23T15:30:03.634114Z",
     "start_time": "2017-08-23T15:30:03.629294Z"
    }
   }
  },
  {
   "cell_type": "markdown",
   "source": [
    "## Loading\n",
    "Before we get started.... load in the required modules and set up the plotting library!"
   ],
   "metadata": {
    "ExecuteTime": {
     "end_time": "2017-08-23T15:30:03.634114Z",
     "start_time": "2017-08-23T15:30:03.629294Z"
    }
   }
  },
  {
   "cell_type": "code",
   "execution_count": 2,
   "source": [
    "%matplotlib inline\r\n",
    "import numpy as np\r\n",
    "import pandas as pd\r\n",
    "import matplotlib.pyplot as plt\r\n",
    "from IPython.display import YouTubeVideo"
   ],
   "outputs": [],
   "metadata": {}
  },
  {
   "cell_type": "markdown",
   "source": [
    "#  Part 1: Duplicates and Missings\n",
    "\n",
    "In this section we will use [this dataset](https://archive.ics.uci.edu/ml/datasets/Adult) from the [UCI Machine Learning Repository](https://archive.ics.uci.edu/ml/datasets.html) to practice some basic operations on pandas dataframes. This is an extract from the US Census containing almost 50,000 rows of individual-level micro data from 1994.\n"
   ],
   "metadata": {}
  },
  {
   "cell_type": "markdown",
   "source": [
    "> **Ex. 3.1.1:** This link `'https://archive.ics.uci.edu/ml/machine-learning-databases/adult/adult.data'` leads to a comma-separated file with income data from a US census. Load the data into a pandas dataframe and show the 25th to 35th row.\r\n",
    ">\r\n",
    "> _Hint 1:_ There are no column names in the dataset. Use the list `['age','workclass', 'fnlwgt', 'educ', 'educ_num', 'marital_status', 'occupation','relationship', 'race', 'sex','capital_gain', 'capital_loss', 'hours_per_week', 'native_country', 'wage']` as names. \r\n",
    ">\r\n",
    "> _Hint 2:_ When you read in the csv, you might find that pandas includes whitespace in all of the cells. To get around this include the argument `skipinitialspace = True` to `read_csv()`. "
   ],
   "metadata": {}
  },
  {
   "cell_type": "code",
   "execution_count": 3,
   "source": [
    "# YOUR CODE HERE\r\n",
    "\r\n",
    "income_df = pd.read_csv('https://archive.ics.uci.edu/ml/machine-learning-databases/adult/adult.data', names= ['age','workclass', 'fnlwgt', 'educ', 'educ_num', 'marital_status', 'occupation','relationship', 'race', 'sex','capital_gain', 'capital_loss', 'hours_per_week', 'native_country', 'wage'], header= None, skipinitialspace= True)\r\n",
    "\r\n",
    "print(income_df.iloc[25:36,:])\r\n",
    "\r\n",
    "\r\n",
    "\r\n"
   ],
   "outputs": [
    {
     "output_type": "stream",
     "name": "stdout",
     "text": [
      "    age    workclass  fnlwgt          educ  educ_num      marital_status  \\\n",
      "25   56    Local-gov  216851     Bachelors        13  Married-civ-spouse   \n",
      "26   19      Private  168294       HS-grad         9       Never-married   \n",
      "27   54            ?  180211  Some-college        10  Married-civ-spouse   \n",
      "28   39      Private  367260       HS-grad         9            Divorced   \n",
      "29   49      Private  193366       HS-grad         9  Married-civ-spouse   \n",
      "30   23    Local-gov  190709    Assoc-acdm        12       Never-married   \n",
      "31   20      Private  266015  Some-college        10       Never-married   \n",
      "32   45      Private  386940     Bachelors        13            Divorced   \n",
      "33   30  Federal-gov   59951  Some-college        10  Married-civ-spouse   \n",
      "34   22    State-gov  311512  Some-college        10  Married-civ-spouse   \n",
      "35   48      Private  242406          11th         7       Never-married   \n",
      "\n",
      "           occupation   relationship                race   sex  capital_gain  \\\n",
      "25       Tech-support        Husband               White  Male             0   \n",
      "26       Craft-repair      Own-child               White  Male             0   \n",
      "27                  ?        Husband  Asian-Pac-Islander  Male             0   \n",
      "28    Exec-managerial  Not-in-family               White  Male             0   \n",
      "29       Craft-repair        Husband               White  Male             0   \n",
      "30    Protective-serv  Not-in-family               White  Male             0   \n",
      "31              Sales      Own-child               Black  Male             0   \n",
      "32    Exec-managerial      Own-child               White  Male             0   \n",
      "33       Adm-clerical      Own-child               White  Male             0   \n",
      "34      Other-service        Husband               Black  Male             0   \n",
      "35  Machine-op-inspct      Unmarried               White  Male             0   \n",
      "\n",
      "    capital_loss  hours_per_week native_country   wage  \n",
      "25             0              40  United-States   >50K  \n",
      "26             0              40  United-States  <=50K  \n",
      "27             0              60          South   >50K  \n",
      "28             0              80  United-States  <=50K  \n",
      "29             0              40  United-States  <=50K  \n",
      "30             0              52  United-States  <=50K  \n",
      "31             0              44  United-States  <=50K  \n",
      "32          1408              40  United-States  <=50K  \n",
      "33             0              40  United-States  <=50K  \n",
      "34             0              15  United-States  <=50K  \n",
      "35             0              40    Puerto-Rico  <=50K  \n"
     ]
    }
   ],
   "metadata": {
    "deletable": false,
    "nbgrader": {
     "cell_type": "code",
     "checksum": "85a3e6585253444281c7c88d89254794",
     "grade": false,
     "grade_id": "cell-5162c9a337cb8792",
     "locked": false,
     "schema_version": 3,
     "solution": true,
     "task": false
    }
   }
  },
  {
   "cell_type": "markdown",
   "source": [
    "##  Missing data\n",
    "\n",
    "Often our data having information missing, e.g. one row lacks data on education for a specific person. Watch the video below about missing data type and get some simple tools to deal with the problem."
   ],
   "metadata": {}
  },
  {
   "cell_type": "code",
   "execution_count": 4,
   "source": [
    "YouTubeVideo('SGvtwBsAuqw', width=640, height=360)"
   ],
   "outputs": [
    {
     "output_type": "execute_result",
     "data": {
      "text/plain": [
       "<IPython.lib.display.YouTubeVideo at 0x1e050c0f640>"
      ],
      "image/jpeg": "[encoded data removed]",
      "text/html": [
       "\n",
       "        <iframe\n",
       "            width=\"640\"\n",
       "            height=\"360\"\n",
       "            src=\"https://www.youtube.com/embed/SGvtwBsAuqw\"\n",
       "            frameborder=\"0\"\n",
       "            allowfullscreen\n",
       "        ></iframe>\n",
       "        "
      ]
     },
     "metadata": {},
     "execution_count": 4
    }
   ],
   "metadata": {}
  },
  {
   "cell_type": "markdown",
   "source": [
    "> **Ex. 3.1.2:** What is the missing value sign in this dataset? Replace all missing values with NA's understood by pandas. Then proceed to drop all rows containing any missing values with the `dropna` method. Store this new dataframe as `df_census_new`. How many rows are removed in this operation?\n",
    "> \n",
    "> _Hint:_ NaN from NumPy might be useful. What you should discover here is that pandas indeed has native methods for dealing with missings."
   ],
   "metadata": {}
  },
  {
   "cell_type": "code",
   "execution_count": 5,
   "source": [
    "from numpy import NaN\r\n",
    "\r\n",
    "# YOUR CODE HERE\r\n",
    "\r\n",
    "# The missing value sign in our dataframe is '?'\r\n",
    "\r\n",
    "\r\n",
    "df_census_new = income_df.replace('?', NaN).dropna()\r\n",
    "\r\n",
    "# The number of rows went form 32561 to 30162"
   ],
   "outputs": [],
   "metadata": {
    "deletable": false,
    "nbgrader": {
     "cell_type": "code",
     "checksum": "c7938d5025bfb5bed9ec0e0077258cec",
     "grade": false,
     "grade_id": "cell-9fc9645db3d798e9",
     "locked": false,
     "schema_version": 3,
     "solution": true,
     "task": false
    }
   }
  },
  {
   "cell_type": "markdown",
   "source": [
    "##  Duplicated Data\n",
    "\n",
    "Watch the video below about duplicated data and how to handle such observations."
   ],
   "metadata": {}
  },
  {
   "cell_type": "code",
   "execution_count": 6,
   "source": [
    "YouTubeVideo('FljpLkFU3KA', width=640, height=360)"
   ],
   "outputs": [
    {
     "output_type": "execute_result",
     "data": {
      "text/plain": [
       "<IPython.lib.display.YouTubeVideo at 0x1e0510c0580>"
      ],
      "image/jpeg": "[encoded data removed]",
      "text/html": [
       "\n",
       "        <iframe\n",
       "            width=\"640\"\n",
       "            height=\"360\"\n",
       "            src=\"https://www.youtube.com/embed/FljpLkFU3KA\"\n",
       "            frameborder=\"0\"\n",
       "            allowfullscreen\n",
       "        ></iframe>\n",
       "        "
      ]
     },
     "metadata": {},
     "execution_count": 6
    }
   ],
   "metadata": {}
  },
  {
   "cell_type": "markdown",
   "source": [
    "> **Ex. 3.1.3:** Determine whether or not duplicated rows is a problem in the NOAA weather data and the US census data. You should come up with arguments from the structure of the rows.\n",
    ">\n",
    "> *Hint:* Just use the `load_weather()` function from the last module (provided below) to load weather data from 1863 only."
   ],
   "metadata": {}
  },
  {
   "cell_type": "code",
   "execution_count": 7,
   "source": [
    "def load_weather(year):\r\n",
    "    \r\n",
    "    url = f\"ftp://ftp.ncdc.noaa.gov/pub/data/ghcn/daily/by_year/{year}.csv.gz\"\r\n",
    "\r\n",
    "    df_weather = pd.read_csv(url, \r\n",
    "                             header=None)        \r\n",
    "\r\n",
    "    df_weather = df_weather.iloc[:,:4] \r\n",
    "    \r\n",
    "    column_names = ['station', 'datetime', 'obs_type', 'obs_value']\r\n",
    "    df_weather.columns = column_names \r\n",
    "    \r\n",
    "    df_weather['obs_value'] = df_weather['obs_value'] / 10 \r\n",
    "    \r\n",
    "    selection_tmax = df_weather.obs_type == 'TMAX'\r\n",
    "    df_select = df_weather.loc[selection_tmax]\r\n",
    "    \r\n",
    "    df_sorted = df_select.sort_values(by=['station', 'datetime'])\r\n",
    "    df_reset = df_sorted.reset_index(drop=True)\r\n",
    "    df_out = df_reset.copy()\r\n",
    "            \r\n",
    "    return df_out"
   ],
   "outputs": [],
   "metadata": {}
  },
  {
   "cell_type": "code",
   "execution_count": 8,
   "source": [
    "# YOUR CODE HERE\r\n",
    "\r\n",
    "weather_df = load_weather(1863)\r\n",
    "\r\n",
    "\r\n"
   ],
   "outputs": [],
   "metadata": {
    "deletable": false,
    "nbgrader": {
     "cell_type": "code",
     "checksum": "6185914cc7355abcbfec0ebbd415ec7b",
     "grade": false,
     "grade_id": "cell-2ad5ad96bbccbae8",
     "locked": false,
     "schema_version": 3,
     "solution": true,
     "task": false
    }
   }
  },
  {
   "cell_type": "code",
   "execution_count": 9,
   "source": [
    "\r\n",
    "print(f\"No. of duplicates in census_df {df_census_new.duplicated().sum(axis=0)}\")\r\n",
    "\r\n",
    "print(f\"No. of duplicates in weather_df {weather_df.duplicated().sum(axis=0)}\")\r\n"
   ],
   "outputs": [
    {
     "output_type": "stream",
     "name": "stdout",
     "text": [
      "No. of duplicates in census_df 23\n",
      "No. of duplicates in weather_df 0\n"
     ]
    }
   ],
   "metadata": {}
  },
  {
   "cell_type": "markdown",
   "source": [
    "# Part 2: Combining Data Sets\n",
    "\n",
    "Below we hear about how different datasets can be combined into one, by merging on overlapping information that exists in both datasets. If you want to know more then you can look up Chapter 8, section 8.2 in Python for Data Analysis, 2ed.\n",
    "\n",
    "**Note:** In the video, we are only dealing with one-to-one joins. This is a type of merge where there is only one row with a given merge key in each data frame. However, you may encounter situations where there are multiple rows that share the value of a merge key. In this situation, you may perform a one-to-many join or a many-to-many join that forms a Cartesian product of your rows. You can read more about these types of merges by visiting the Jake van der Plass [link](https://jakevdp.github.io/PythonDataScienceHandbook/03.07-merge-and-join.html) or looking into PDA, section 8.2."
   ],
   "metadata": {}
  },
  {
   "cell_type": "code",
   "execution_count": 10,
   "source": [
    "YouTubeVideo('bGpYXW2D0Mk', width=640, height=360)"
   ],
   "outputs": [
    {
     "output_type": "execute_result",
     "data": {
      "text/plain": [
       "<IPython.lib.display.YouTubeVideo at 0x1e050ce8700>"
      ],
      "image/jpeg": "[encoded data removed]",
      "text/html": [
       "\n",
       "        <iframe\n",
       "            width=\"640\"\n",
       "            height=\"360\"\n",
       "            src=\"https://www.youtube.com/embed/bGpYXW2D0Mk\"\n",
       "            frameborder=\"0\"\n",
       "            allowfullscreen\n",
       "        ></iframe>\n",
       "        "
      ]
     },
     "metadata": {},
     "execution_count": 10
    }
   ],
   "metadata": {}
  },
  {
   "cell_type": "markdown",
   "source": [
    "We now continue with structuring weather data. Use the function `load_weather()` for fetching and structuring weather data that you also used above."
   ],
   "metadata": {}
  },
  {
   "cell_type": "markdown",
   "source": [
    "> **Ex. 3.2.1:** Get the processed data from years 1870-1875 as a list of DataFrames. Generate a variable that denotes the year that the observations belong to. Convert the list into a single DataFrame by concatenating vertically. "
   ],
   "metadata": {}
  },
  {
   "cell_type": "code",
   "execution_count": 11,
   "source": [
    "# YOUR CODE HERE\r\n",
    "\r\n",
    "years = ['1870', '1871', '1872', '1873', '1874', '1875']\r\n",
    "\r\n",
    "weather_dfs = [load_weather(year) for year in years]\r\n",
    "\r\n",
    "\r\n"
   ],
   "outputs": [],
   "metadata": {
    "deletable": false,
    "nbgrader": {
     "cell_type": "code",
     "checksum": "09f387f440027d3137c359e5872f963a",
     "grade": false,
     "grade_id": "cell-cff6fafb47a33d1c",
     "locked": false,
     "schema_version": 3,
     "solution": true,
     "task": false
    }
   }
  },
  {
   "cell_type": "code",
   "execution_count": 12,
   "source": [
    "new_weather_df = pd.concat(weather_dfs, axis=0)\r\n",
    "new_weather_df[\"year\"] = new_weather_df[\"datetime\"].astype(str).str[0:4].astype(int)\r\n"
   ],
   "outputs": [],
   "metadata": {}
  },
  {
   "cell_type": "markdown",
   "source": [
    "# Part 3: Split-Apply-Combine\n",
    "\n",
    "Often we need to process information for a given individual, point in time etc. Instead of writing a loop over all the subsets of the data, we can use a more clever approach. Below we introduce the split-apply-combine framework and show how we can leverage it in pandas. If you want to know more then you can look up Chapter 10 in Python for Data Analysis, 2ed."
   ],
   "metadata": {}
  },
  {
   "cell_type": "code",
   "execution_count": 13,
   "source": [
    "YouTubeVideo('ZDgbVD5Y2us', width=640, height=360)"
   ],
   "outputs": [
    {
     "output_type": "execute_result",
     "data": {
      "text/plain": [
       "<IPython.lib.display.YouTubeVideo at 0x1e050d92760>"
      ],
      "image/jpeg": "[encoded data removed]",
      "text/html": [
       "\n",
       "        <iframe\n",
       "            width=\"640\"\n",
       "            height=\"360\"\n",
       "            src=\"https://www.youtube.com/embed/ZDgbVD5Y2us\"\n",
       "            frameborder=\"0\"\n",
       "            allowfullscreen\n",
       "        ></iframe>\n",
       "        "
      ]
     },
     "metadata": {},
     "execution_count": 13
    }
   ],
   "metadata": {}
  },
  {
   "cell_type": "markdown",
   "source": [
    "*Note:* The Split-Apply-Combine method uses `.groupby()`. As indicated in the video, `.groupby()` is a method of pandas dataframes, meaning we can call it like so: `data.groupby('colname')`. The method groups your dataset by a specified column, and applies any following changes within each of these groups. For a more detailed explanation see [this link](https://www.tutorialspoint.com/python_pandas/python_pandas_groupby.htm). The [documentation](https://pandas.pydata.org/pandas-docs/stable/generated/pandas.DataFrame.groupby.html) might also be useful.\n",
    "\n",
    "> **Ex. 3.3.1:** Compute the mean and median maximum daily temperature for each month-year-station pair on the dataframe `df_weather_period` from last exercise by using the _split-apply-combine_ procedure. Store the results in new columns `tmax_mean` and `tmax_median`. "
   ],
   "metadata": {}
  },
  {
   "cell_type": "code",
   "execution_count": 14,
   "source": [
    "# INCLUDED IN ASSIGNMENT 1\r\n",
    "new_weather_df[\"month\"] = new_weather_df[\"datetime\"].astype(str).str[4:6].astype(int)\r\n",
    "\r\n",
    "split_vars = ['station', 'year', 'month']\r\n",
    "\r\n",
    "new_weather_df[\"tmax_mean\"], new_weather_df[\"tmax_median\"]= new_weather_df.groupby(split_vars)[\"obs_value\"].transform('mean'),\\\r\n",
    "                                                             new_weather_df.groupby(split_vars)[\"obs_value\"].transform('median')\r\n",
    "\r\n"
   ],
   "outputs": [],
   "metadata": {
    "deletable": false,
    "nbgrader": {
     "cell_type": "code",
     "checksum": "f21e38a07bebf830e4c3c85ed1127d85",
     "grade": false,
     "grade_id": "cell-90339eeae9752f90",
     "locked": false,
     "schema_version": 3,
     "solution": true,
     "task": false
    }
   }
  },
  {
   "cell_type": "markdown",
   "source": [
    "> **Ex. 3.3.2:** Plot the monthly max, min, mean, first and third quartiles for maximum temperature for our station with the ID _'CA006110549'_ for the years 1870-1875. \r\n",
    "\r\n",
    "> *Hint*: the method `describe` computes all these measures."
   ],
   "metadata": {}
  },
  {
   "cell_type": "code",
   "execution_count": 15,
   "source": [
    "# INCLUDED IN ASSIGNMENT 1\r\n",
    "\r\n",
    "new_weather_df.loc[new_weather_df['station'] == 'CA006110549'].groupby(['month'])['obs_value'].describe()[['max', 'min', 'mean', '25%', '75%']].plot(legend=True)"
   ],
   "outputs": [
    {
     "output_type": "execute_result",
     "data": {
      "text/plain": [
       "<AxesSubplot:xlabel='month'>"
      ]
     },
     "metadata": {},
     "execution_count": 15
    },
    {
     "output_type": "display_data",
     "data": {
      "text/plain": [
       "<Figure size 432x288 with 1 Axes>"
      ],
      "image/png": "[encoded data removed]"
     },
     "metadata": {
      "needs_background": "light"
     }
    }
   ],
   "metadata": {
    "deletable": false,
    "nbgrader": {
     "cell_type": "code",
     "checksum": "6eb1be7117139270d256f62188cf0399",
     "grade": false,
     "grade_id": "cell-8e0b67c4d87ae877",
     "locked": false,
     "schema_version": 3,
     "solution": true,
     "task": false
    }
   }
  },
  {
   "cell_type": "markdown",
   "source": [
    "> **Ex. 3.3.3:** Parse the station location data which you can find at https://www1.ncdc.noaa.gov/pub/data/ghcn/daily/ghcnd-stations.txt. Merge station locations onto the weather data spanning 1870-1875.  \r\n",
    "\r\n",
    "> _Hint:_ The location data have the folllowing format, \r\n",
    "\r\n",
    "```\r\n",
    "------------------------------\r\n",
    "Variable   Columns   Type\r\n",
    "------------------------------\r\n",
    "ID            1-11   Character\r\n",
    "LATITUDE     13-20   Real\r\n",
    "LONGITUDE    22-30   Real\r\n",
    "ELEVATION    32-37   Real\r\n",
    "STATE        39-40   Character\r\n",
    "NAME         42-71   Character\r\n",
    "GSN FLAG     73-75   Character\r\n",
    "HCN/CRN FLAG 77-79   Character\r\n",
    "WMO ID       81-85   Character\r\n",
    "------------------------------\r\n",
    "```\r\n",
    "\r\n",
    "> *Hint*: The station information has *fixed width format* - does there exist a pandas reader for that? Here Google might be helpful!"
   ],
   "metadata": {}
  },
  {
   "cell_type": "code",
   "execution_count": 16,
   "source": [
    "# INCLUDED IN ASSIGNMENT 1\r\n",
    "\r\n",
    "url = \"https://www1.ncdc.noaa.gov/pub/data/ghcn/daily/ghcnd-stations.txt\"\r\n",
    "\r\n",
    "station_df = pd.read_fwf(url, skipinitialspace = True, header=None).iloc[:,:5]\r\n",
    "\r\n",
    "\r\n"
   ],
   "outputs": [],
   "metadata": {
    "deletable": false,
    "nbgrader": {
     "cell_type": "code",
     "checksum": "9f9034d4e659e597d47b5e4cbad4b98c",
     "grade": false,
     "grade_id": "cell-10b2b71e38e06588",
     "locked": false,
     "schema_version": 3,
     "solution": true,
     "task": false
    }
   }
  },
  {
   "cell_type": "code",
   "execution_count": 17,
   "source": [
    "station_df.columns = ['station', 'LATITUDE', 'LONGITUDE', 'ELEVATION', 'NAME']\r\n",
    "combined_df = new_weather_df.merge(station_df, how='inner')\r\n",
    "\r\n"
   ],
   "outputs": [],
   "metadata": {}
  },
  {
   "cell_type": "code",
   "execution_count": 18,
   "source": [
    "combined_df.head()"
   ],
   "outputs": [
    {
     "output_type": "execute_result",
     "data": {
      "text/plain": [
       "       station  datetime obs_type  obs_value  year  month  tmax_mean  \\\n",
       "0  ASN00063004  18700809     TMAX       10.0  1870      8  15.047826   \n",
       "1  ASN00063004  18700810     TMAX        8.9  1870      8  15.047826   \n",
       "2  ASN00063004  18700811     TMAX       15.6  1870      8  15.047826   \n",
       "3  ASN00063004  18700812     TMAX       16.7  1870      8  15.047826   \n",
       "4  ASN00063004  18700813     TMAX       16.7  1870      8  15.047826   \n",
       "\n",
       "   tmax_median  LATITUDE  LONGITUDE  ELEVATION           NAME  \n",
       "0         15.6   33.4167     149.55      704.0  BATHURST GAOL  \n",
       "1         15.6   33.4167     149.55      704.0  BATHURST GAOL  \n",
       "2         15.6   33.4167     149.55      704.0  BATHURST GAOL  \n",
       "3         15.6   33.4167     149.55      704.0  BATHURST GAOL  \n",
       "4         15.6   33.4167     149.55      704.0  BATHURST GAOL  "
      ],
      "text/html": [
       "<div>\n",
       "<style scoped>\n",
       "    .dataframe tbody tr th:only-of-type {\n",
       "        vertical-align: middle;\n",
       "    }\n",
       "\n",
       "    .dataframe tbody tr th {\n",
       "        vertical-align: top;\n",
       "    }\n",
       "\n",
       "    .dataframe thead th {\n",
       "        text-align: right;\n",
       "    }\n",
       "</style>\n",
       "<table border=\"1\" class=\"dataframe\">\n",
       "  <thead>\n",
       "    <tr style=\"text-align: right;\">\n",
       "      <th></th>\n",
       "      <th>station</th>\n",
       "      <th>datetime</th>\n",
       "      <th>obs_type</th>\n",
       "      <th>obs_value</th>\n",
       "      <th>year</th>\n",
       "      <th>month</th>\n",
       "      <th>tmax_mean</th>\n",
       "      <th>tmax_median</th>\n",
       "      <th>LATITUDE</th>\n",
       "      <th>LONGITUDE</th>\n",
       "      <th>ELEVATION</th>\n",
       "      <th>NAME</th>\n",
       "    </tr>\n",
       "  </thead>\n",
       "  <tbody>\n",
       "    <tr>\n",
       "      <th>0</th>\n",
       "      <td>ASN00063004</td>\n",
       "      <td>18700809</td>\n",
       "      <td>TMAX</td>\n",
       "      <td>10.0</td>\n",
       "      <td>1870</td>\n",
       "      <td>8</td>\n",
       "      <td>15.047826</td>\n",
       "      <td>15.6</td>\n",
       "      <td>33.4167</td>\n",
       "      <td>149.55</td>\n",
       "      <td>704.0</td>\n",
       "      <td>BATHURST GAOL</td>\n",
       "    </tr>\n",
       "    <tr>\n",
       "      <th>1</th>\n",
       "      <td>ASN00063004</td>\n",
       "      <td>18700810</td>\n",
       "      <td>TMAX</td>\n",
       "      <td>8.9</td>\n",
       "      <td>1870</td>\n",
       "      <td>8</td>\n",
       "      <td>15.047826</td>\n",
       "      <td>15.6</td>\n",
       "      <td>33.4167</td>\n",
       "      <td>149.55</td>\n",
       "      <td>704.0</td>\n",
       "      <td>BATHURST GAOL</td>\n",
       "    </tr>\n",
       "    <tr>\n",
       "      <th>2</th>\n",
       "      <td>ASN00063004</td>\n",
       "      <td>18700811</td>\n",
       "      <td>TMAX</td>\n",
       "      <td>15.6</td>\n",
       "      <td>1870</td>\n",
       "      <td>8</td>\n",
       "      <td>15.047826</td>\n",
       "      <td>15.6</td>\n",
       "      <td>33.4167</td>\n",
       "      <td>149.55</td>\n",
       "      <td>704.0</td>\n",
       "      <td>BATHURST GAOL</td>\n",
       "    </tr>\n",
       "    <tr>\n",
       "      <th>3</th>\n",
       "      <td>ASN00063004</td>\n",
       "      <td>18700812</td>\n",
       "      <td>TMAX</td>\n",
       "      <td>16.7</td>\n",
       "      <td>1870</td>\n",
       "      <td>8</td>\n",
       "      <td>15.047826</td>\n",
       "      <td>15.6</td>\n",
       "      <td>33.4167</td>\n",
       "      <td>149.55</td>\n",
       "      <td>704.0</td>\n",
       "      <td>BATHURST GAOL</td>\n",
       "    </tr>\n",
       "    <tr>\n",
       "      <th>4</th>\n",
       "      <td>ASN00063004</td>\n",
       "      <td>18700813</td>\n",
       "      <td>TMAX</td>\n",
       "      <td>16.7</td>\n",
       "      <td>1870</td>\n",
       "      <td>8</td>\n",
       "      <td>15.047826</td>\n",
       "      <td>15.6</td>\n",
       "      <td>33.4167</td>\n",
       "      <td>149.55</td>\n",
       "      <td>704.0</td>\n",
       "      <td>BATHURST GAOL</td>\n",
       "    </tr>\n",
       "  </tbody>\n",
       "</table>\n",
       "</div>"
      ]
     },
     "metadata": {},
     "execution_count": 18
    }
   ],
   "metadata": {}
  },
  {
   "cell_type": "markdown",
   "source": [
    "##  Bonus Exercises"
   ],
   "metadata": {}
  },
  {
   "cell_type": "markdown",
   "source": [
    "If you want to practice *split-apply-combine* a bit more before proceeding, we have generated two additional exercises that use the US census data from Part 1. In order to solve this exercise, you should use `df_census_new` which you generated in a previous exercise.\n",
    "> **Ex. 3.3.4:** (_Bonus_) Is there any evidence of a gender-wage-gap in the data? Create a table showing the percentage of men and women earning more than 50K a year."
   ],
   "metadata": {}
  },
  {
   "cell_type": "code",
   "execution_count": 17,
   "source": [
    "# YOUR CODE HERE\r\n",
    "raise NotImplementedError()"
   ],
   "outputs": [
    {
     "output_type": "error",
     "ename": "NotImplementedError",
     "evalue": "",
     "traceback": [
      "\u001b[1;31m---------------------------------------------------------------------------\u001b[0m",
      "\u001b[1;31mNotImplementedError\u001b[0m                       Traceback (most recent call last)",
      "\u001b[1;32m<ipython-input-17-bb478912488c>\u001b[0m in \u001b[0;36m<module>\u001b[1;34m\u001b[0m\n\u001b[0;32m      1\u001b[0m \u001b[1;31m# YOUR CODE HERE\u001b[0m\u001b[1;33m\u001b[0m\u001b[1;33m\u001b[0m\u001b[1;33m\u001b[0m\u001b[0m\n\u001b[1;32m----> 2\u001b[1;33m \u001b[1;32mraise\u001b[0m \u001b[0mNotImplementedError\u001b[0m\u001b[1;33m(\u001b[0m\u001b[1;33m)\u001b[0m\u001b[1;33m\u001b[0m\u001b[1;33m\u001b[0m\u001b[0m\n\u001b[0m",
      "\u001b[1;31mNotImplementedError\u001b[0m: "
     ]
    }
   ],
   "metadata": {
    "deletable": false,
    "nbgrader": {
     "cell_type": "code",
     "checksum": "7890fcb19c0fe6ee81a94be4014a79f3",
     "grade": false,
     "grade_id": "cell-67b5c30978741779",
     "locked": false,
     "schema_version": 3,
     "solution": true,
     "task": false
    }
   }
  },
  {
   "cell_type": "markdown",
   "source": [
    "> **Ex. 3.3.5:** (_Bonus_) Group the data by years of education (`educ_num`) and marital status. Now plot the share of individuals who earn more than 50K for the two groups 'Divorced' and 'Married-civ-spouse' (normal marriage). Your final result should look like this: \n",
    "\n",
    "![](examplefig.png)\n",
    "\n",
    "> _Hint:_ remember the `.query()` method is extremely useful for filtering data."
   ],
   "metadata": {}
  },
  {
   "cell_type": "code",
   "execution_count": null,
   "source": [
    "# YOUR CODE HERE\r\n",
    "raise NotImplementedError()"
   ],
   "outputs": [],
   "metadata": {
    "deletable": false,
    "nbgrader": {
     "cell_type": "code",
     "checksum": "1232340258600774bd10822553abacd5",
     "grade": false,
     "grade_id": "cell-2f83377644343c11",
     "locked": false,
     "schema_version": 3,
     "solution": true,
     "task": false
    }
   }
  },
  {
   "cell_type": "markdown",
   "source": [
    "# Part 4: Reshaping  Dataframes\n",
    "\n",
    "Often we have data that comes in a format that does not fit our purpose. If you want to know more, then you can look up Chapter 8, section 8.3 in Python for Data Analysis, 2ed."
   ],
   "metadata": {}
  },
  {
   "cell_type": "code",
   "execution_count": null,
   "source": [
    "YouTubeVideo('pOYQVpFCEu0', width=640, height=360)"
   ],
   "outputs": [],
   "metadata": {}
  },
  {
   "cell_type": "markdown",
   "source": [
    "In this exercise, we continue working with the NOAA data that you worked with in the main section of part 3.\n",
    "\n",
    "> **Ex. 3.4.1:** For which months was the temperature in general (i.e. use the mean) lower in 1870 vs. 1875?\n",
    ">\n",
    "> *Hint:* you may use `unstack`."
   ],
   "metadata": {}
  },
  {
   "cell_type": "code",
   "execution_count": null,
   "source": [
    "# YOUR CODE HERE\r\n",
    "\r\n"
   ],
   "outputs": [],
   "metadata": {
    "deletable": false,
    "nbgrader": {
     "cell_type": "code",
     "checksum": "4925e38e10f2593052255355147dae7d",
     "grade": false,
     "grade_id": "cell-93d420b54bc3cff9",
     "locked": false,
     "schema_version": 3,
     "solution": true,
     "task": false
    }
   }
  }
 ],
 "metadata": {
  "kernelspec": {
   "name": "python3",
   "display_name": "Python 3.8.5 64-bit ('base': conda)"
  },
  "language_info": {
   "codemirror_mode": {
    "name": "ipython",
    "version": 3
   },
   "file_extension": ".py",
   "mimetype": "text/x-python",
   "name": "python",
   "nbconvert_exporter": "python",
   "pygments_lexer": "ipython3",
   "version": "3.8.5"
  },
  "nav_menu": {},
  "toc": {
   "navigate_menu": true,
   "number_sections": false,
   "sideBar": true,
   "threshold": 6,
   "toc_cell": false,
   "toc_section_display": "block",
   "toc_window_display": true
  },
  "varInspector": {
   "cols": {
    "lenName": 16,
    "lenType": 16,
    "lenVar": 40
   },
   "kernels_config": {
    "python": {
     "delete_cmd_postfix": "",
     "delete_cmd_prefix": "del ",
     "library": "var_list.py",
     "varRefreshCmd": "print(var_dic_list())"
    },
    "r": {
     "delete_cmd_postfix": ") ",
     "delete_cmd_prefix": "rm(",
     "library": "var_list.r",
     "varRefreshCmd": "cat(var_dic_list()) "
    }
   },
   "types_to_exclude": [
    "module",
    "function",
    "builtin_function_or_method",
    "instance",
    "_Feature"
   ],
   "window_display": false
  },
  "interpreter": {
   "hash": "8fac594bfae6525c0c41b4041d2d72effa188cc8ead05f81b1fab2bb098927fb"
  }
 },
 "nbformat": 4,
 "nbformat_minor": 4
}