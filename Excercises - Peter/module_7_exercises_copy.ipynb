{
 "cells": [
  {
   "cell_type": "markdown",
   "source": [
    "> **DO YOU USE GITHUB?**  \n",
    "If True: print('Remember to make your edits in a personal copy of this notebook')  \n",
    "Else: print('You don't have to understand. Continue your life.')"
   ],
   "metadata": {}
  },
  {
   "cell_type": "markdown",
   "source": [
    "# Module 7: Web Scraping 2\n",
    "\n",
    "In module_6 your learned some powerful tricks. Tricks that will work when the data is already shipped in a neat format. However this is often not the case. In this session we shall learn the art of parsing unstructured text and a more principled and advanced method of parsing HTML.\n",
    "\n",
    "This will help you build ***custom datasets*** within just a few hours or days work, that would have taken ***months*** to curate and clean manually.\n",
    "\n",
    "\n",
    "\n",
    "Readings for `module 6+7+8`:\n",
    "- [Python for Data Analysis, chapter 6](https://bedford-computing.co.uk/learning/wp-content/uploads/2015/10/Python-for-Data-Analysis.pdf)\n",
    "- [A Practical Introduction to Web Scraping in Python](https://realpython.com/python-web-scraping-practical-introduction/)\n",
    "- [An introduction to web scraping with Python](https://towardsdatascience.com/an-introduction-to-web-scraping-with-python-a2601e8619e5)\n",
    "- [Introduction to Web Scraping using Selenium](https://medium.com/the-andela-way/introduction-to-web-scraping-using-selenium-7ec377a8cf72)\n",
    "\n",
    "Video materiale from `ISDS 2020`:\n",
    "- [Web Scraping 1](https://bit.ly/ISDS2021_6)\n",
    "- [Web Scraping 2](https://bit.ly/ISDS2021_7)\n",
    "- [Web Scraping 3](https://bit.ly/ISDS2021_8)\n",
    "\n",
    "Other ressources:\n",
    "- [Nicklas Webpage](https://nicklasjohansen.netlify.app/)\n",
    "- [Data Driven Organizational Analysis, Fall 2021](https://efteruddannelse.kurser.ku.dk/course/2021-2022/ASTK18379U)\n",
    "- [Master of Science (MSc) in Social Data Science](https://www.socialdatascience.dk/education)\n"
   ],
   "metadata": {}
  },
  {
   "cell_type": "markdown",
   "source": [
    "## Introduction to HTML\n",
    "[What is HTML?](https://www.w3schools.com/whatis/whatis_html.asp)  \n",
    "\n",
    "HTML has a Tree structure. \n",
    "\n",
    "Each node in the tree has:\n",
    "- Children, siblings, parents, descendants. \n",
    "- Ids and attributes\n",
    "\n",
    "<img src=\"http://www.openbookproject.net/tutorials/getdown/css/images/lesson4/HTMLDOMTree.png\"/>\n"
   ],
   "metadata": {
    "slideshow": {
     "slide_type": "slide"
    }
   }
  },
  {
   "cell_type": "markdown",
   "source": [
    "## Important syntax and patterns\n",
    "_______________\n",
    "```html \n",
    "<p>The p tag indicates a paragraph <p/>\n",
    "```\n",
    "_______________\n",
    "```html \n",
    "<b>The b tag makes the text bold, giving us a clue to its importance </b>\n",
    "```\n",
    "output: <b>The b tag makes the text bold, giving us a clue to its importance </b>\n",
    "```html \n",
    "\n",
    "<em>The em tag emphasize the text</em>, giving us a clue to its importance\n",
    "```\n",
    "output: <em>The em tag makes emphasize the text</em>, giving us a clue to its importance\n",
    "___________\n",
    "```html \n",
    "<h1>h1</h1><h2>h2</h2><h3>h3</h3><b>Headers give similar clues</b>\n",
    "```\n",
    "output:\n",
    "<h1>h1</h1><h2>h2</h2><h3>h3</h3><b>Headers give similar clues</b>  \n",
    "  \n",
    "```html \n",
    "<a href=\"www.google.com\">The a tag creates a hyperlink <a/>\n",
    "```\n",
    "output: <a href=\"www.google.com\">The a tag creates a hyperlink <a/>"
   ],
   "metadata": {}
  },
  {
   "cell_type": "markdown",
   "source": [
    "## How do we find our way around this tree?\n",
    "1. Regex: Extracting string patterns using .split and regular expresssions\n",
    "2. CSS-selectors: Specifying paths using css-selectors, xpath syntax.\n",
    "3. ```BeautifulSoup```: A more powerful, principled and readable way to parse data and navigate HTML"
   ],
   "metadata": {
    "slideshow": {
     "slide_type": "subslide"
    }
   }
  },
  {
   "cell_type": "code",
   "execution_count": 1,
   "source": [
    "import requests\r\n",
    "from bs4 import BeautifulSoup\r\n",
    "import re\r\n",
    "import selenium\r\n",
    "import time\r\n",
    "import pandas as pd"
   ],
   "outputs": [],
   "metadata": {}
  },
  {
   "cell_type": "markdown",
   "source": [
    "### Regex\n",
    "- [What is regex?](https://en.wikipedia.org/wiki/Regular_expression)\n",
    "- The brute force way is to parse by convering your downloded matriale into a large string\n",
    "- Now you can create standard string operations\n",
    "- And apply smart regex to identify the data you are looking for e.g. links."
   ],
   "metadata": {}
  },
  {
   "cell_type": "code",
   "execution_count": 2,
   "source": [
    "url = 'https://www.theguardian.com/us-news/2019/aug/14/taco-eating-contest-death-fresno-california'\r\n",
    "response = requests.get(url)\r\n",
    "html = response.text\r\n",
    "#html.split('\\n')\r\n",
    "#re.findall(\"(?P<url>https?://[^\\s]+)\", html)[0]"
   ],
   "outputs": [],
   "metadata": {}
  },
  {
   "cell_type": "markdown",
   "source": [
    "### CSS Selectors \n",
    "- [What is a CSS Selector?](https://www.w3schools.com/css/css_selectors.asp)\n",
    "- Another way to browse through the HTML tree\n",
    "- Define a unique path to an element in the HTML tree.\n",
    "- It is quick but has to be hardcoded and also more likely to break.\n",
    "- [Nicklas recommend using this free Google Chrome CSS Selector](https://chrome.google.com/webstore/detail/selectorgadget/mhjhnkcfbdhnjickkkdbjoemdmbfginb)"
   ],
   "metadata": {}
  },
  {
   "cell_type": "code",
   "execution_count": 3,
   "source": [
    "url = 'https://www.theguardian.com/us-news/2019/aug/14/taco-eating-contest-death-fresno-california'\r\n",
    "response = requests.get(url)\r\n",
    "soup = BeautifulSoup(response.content, 'html.parser')\r\n",
    "soup.select('.dcr-125vfar')[0].text"
   ],
   "outputs": [
    {
     "output_type": "execute_result",
     "data": {
      "text/plain": [
       "'Man dies after taco-eating contest in California'"
      ]
     },
     "metadata": {},
     "execution_count": 3
    }
   ],
   "metadata": {}
  },
  {
   "cell_type": "markdown",
   "source": [
    "## Parsing HTML with BeautifulSoup\n",
    "BeautifulSoup makes the html tree navigable. \n",
    "It allows you to:\n",
    "    * Search for elements by tag name and/or by attribute.\n",
    "    * Iterate through them, go up, sideways or down the tree.\n",
    "    * Furthermore it helps you with standard tasks such as extracting raw text from html,\n",
    "    which would be a very tedious task if you had to hardcode it using `.split` commands and using your own regular expressions will be unstable."
   ],
   "metadata": {}
  },
  {
   "cell_type": "code",
   "execution_count": 4,
   "source": [
    "url = 'https://www.theguardian.com/us-news/2019/aug/14/taco-eating-contest-death-fresno-california'\r\n",
    "response = requests.get(url)\r\n",
    "html = response.text\r\n",
    "soup = BeautifulSoup(html,'lxml') # parse the raw html using BeautifoulSoup"
   ],
   "outputs": [],
   "metadata": {}
  },
  {
   "cell_type": "code",
   "execution_count": 5,
   "source": [
    "# example: finding hyperlinks\r\n",
    "links = soup.find_all('a') # find all a tags -connoting a hyperlink.\r\n",
    "[link['href'] for link in links if link.has_attr('href')][0:5] # unpack the hyperlink from the a nodes."
   ],
   "outputs": [
    {
     "output_type": "execute_result",
     "data": {
      "text/plain": [
       "['#maincontent',\n",
       " '#navigation',\n",
       " '/preference/edition/int',\n",
       " '/preference/edition/uk',\n",
       " '/preference/edition/us']"
      ]
     },
     "metadata": {},
     "execution_count": 5
    }
   ],
   "metadata": {}
  },
  {
   "cell_type": "code",
   "execution_count": 6,
   "source": [
    "# example: finding headline\r\n",
    "headline = soup.find('h1') # search for the first headline: h1 tag. \r\n",
    "name = headline['class'][0].strip() # use the class attribute name as column name.\r\n",
    "value = headline.text.strip() # extract text using build in method.\r\n",
    "print(name,':',value)"
   ],
   "outputs": [
    {
     "output_type": "stream",
     "name": "stdout",
     "text": [
      "dcr-125vfar : Man dies after taco-eating contest in California\n"
     ]
    }
   ],
   "metadata": {}
  },
  {
   "cell_type": "code",
   "execution_count": 7,
   "source": [
    "# example: finding article_text\r\n",
    "article_text = soup.findAll('div', {'class':'dcr-185kcx9'})[0]\r\n",
    "article_text.text"
   ],
   "outputs": [
    {
     "output_type": "execute_result",
     "data": {
      "text/plain": [
       "'A man died shortly after competing in a taco-eating contest at a minor league baseball game in California, authorities said Wednesday.Dana Hutchings, 41, of Fresno, died Tuesday night shortly after arriving at a hospital, said Tony Botti, a Fresno sheriff spokesman.An autopsy on Hutchings will be done Thursday to determine a cause of death, Botti said. It was not immediately known how many tacos the man had eaten or whether he had won the contest.Paul Braverman, a spokesman for the Fresno Grizzlies, said in a statement that the team was “devastated to learn” of the fan’s death and that the team would “work closely with local authorities and provide any helpful information that is requested”.Tuesday night’s competition came before Saturday’s World Taco Eating Championship, to be held at Fresno’s annual Taco Truck Throwdown. The team on Wednesday announced that it was canceling that contest.Matthew Boylan, who watched Tuesday’s taco eating contest from his seat in the stadium, told the Fresno Bee he quickly noticed Hutchings because “he was eating so fast compared to the other two [contestants]”.“It was like he’d never eaten before,” Boylan said. “He was just shoving the tacos down his mouth without chewing.”He said Hutchings collapsed and hit his face on a table about seven minutes into the contest, then fell to the ground. The eating contest ended immediately.During the 2018 Taco Eating Championship in Fresno, the professional eater Geoffrey Esper downed 73 tacos in eight minutes, KFSN-TV reported.Competitive-eating contests have become major attractions at festivals and other events. Among the most popular is the annual Nathan’s Famous July Fourth hot dog eating contest on New York’s Coney Island, where Joey Chestnut, this year’s champion, ate 71. Esper finished third. TopicsCalifornianewsReuse this content'"
      ]
     },
     "metadata": {},
     "execution_count": 7
    }
   ],
   "metadata": {}
  },
  {
   "cell_type": "markdown",
   "source": [
    "Say we are interested in how articles cite sources to back up their story i.e. their hyperlink behaviour within the article, and we want to see if the media has changed their behaviour.\n",
    "\n",
    "We know how to search for links. But the cool part is that we can search from anywhere in the HTML tree. This means that once we have located the article content node - as above - we can search from there. This results in hyperlinks used within the article text.\n"
   ],
   "metadata": {}
  },
  {
   "cell_type": "code",
   "execution_count": 8,
   "source": [
    "# example: finding citation links\r\n",
    "citations = article_text.findAll('a')\r\n",
    "\r\n",
    "citation_links = [] # define container to the hyperlinks\r\n",
    "for citation in citations: # iterate through each citation node\r\n",
    "    if citation.has_attr('data-link-name'): # check if it has the right attribute\r\n",
    "        if citation['data-link-name'] =='in body link': # and if the value of that attribute is correct\r\n",
    "            print(citation['href'])\r\n",
    "            citation_links.append(citation['href']) #  add link to the container\r\n",
    "\r\n",
    "citation_links"
   ],
   "outputs": [
    {
     "output_type": "stream",
     "name": "stdout",
     "text": [
      "https://www.theguardian.com/us-news/california\n",
      "https://www.theguardian.com/us-news/gallery/2016/jul/04/nathans-famous-hotdog-eating-contest-in-pictures\n"
     ]
    },
    {
     "output_type": "execute_result",
     "data": {
      "text/plain": [
       "['https://www.theguardian.com/us-news/california',\n",
       " 'https://www.theguardian.com/us-news/gallery/2016/jul/04/nathans-famous-hotdog-eating-contest-in-pictures']"
      ]
     },
     "metadata": {},
     "execution_count": 8
    }
   ],
   "metadata": {}
  },
  {
   "cell_type": "markdown",
   "source": [
    "## Creating a dataset from www.bold.dk\n",
    "\n",
    "### Let's put together some of the stuff we have learned so far\n",
    "1. **Investigate:** In this example we will try to investigate the website to uderstand its structure. \n",
    "2. **Mapping:** Then we will try to collect all the urls and save them into a list\n",
    "3. **Parsing:** At last, we will try to collect the information in each url in a simpel loop.\n",
    "\n",
    "#### First, we pay around with the site trying to understand its structure"
   ],
   "metadata": {}
  },
  {
   "cell_type": "code",
   "execution_count": 9,
   "source": [
    "# define our URL\r\n",
    "url = 'https://www.bold.dk/' \r\n",
    "\r\n",
    "# connects to site\r\n",
    "response = requests.get(url)\r\n",
    "\r\n",
    "# parse data with BeautifulSoup\r\n",
    "soup = BeautifulSoup(response.text,'lxml') # parse the HTML\r\n",
    "\r\n",
    "#identify articles to scrape by inspecting site\r\n",
    "articles = soup.find_all('div',{'class':'news_list_item'}) # search for the ul node\r\n",
    "\r\n",
    "# checking if articles match website\r\n",
    "for i in range(1):\r\n",
    "    print(articles[i].text.strip())\r\n",
    "\r\n",
    "# identifying how to find an url from an article\r\n",
    "article_url = articles[0].attrs['data-vr-contentbox-url']\r\n",
    "print(article_url)"
   ],
   "outputs": [
    {
     "output_type": "stream",
     "name": "stdout",
     "text": [
      "Officielt: Tottenham skriver med Romero\n",
      "\n",
      "21:18\n",
      "https://www.bold.dk/fodbold/nyheder/officielt-tottenham-skriver-med-romero/\n"
     ]
    }
   ],
   "metadata": {}
  },
  {
   "cell_type": "code",
   "execution_count": 10,
   "source": [
    "articles[0]"
   ],
   "outputs": [
    {
     "output_type": "execute_result",
     "data": {
      "text/plain": [
       "<div article_id=\"389341\" class=\"news_list_item\" data-vr-contentbox=\"#1\" data-vr-contentbox-url=\"https://www.bold.dk/fodbold/nyheder/officielt-tottenham-skriver-med-romero/\" id=\"news_list_item_389341\" position=\"1\" tag_ids=\"10549,8190\">\n",
       "<div class=\"checkbox ball no_text_select\" style=\"margin:7px 6px 3px 2px\">\n",
       "<img class=\"unchecked\" src=\"https://s3.eu-central-1.amazonaws.com/static.bold.dk/img/sprites/newslist_checkbox_20x40.png\"/>\n",
       "</div>\n",
       "<a class=\"title\" href=\"/fodbold/nyheder/officielt-tottenham-skriver-med-romero/\"><span data-vr-headline=\"\">Officielt: Tottenham skriver med Romero</span>\n",
       "<img src=\"https://s3.eu-central-1.amazonaws.com/static.bold.dk/img/tag/180x180/8206.png\" style=\"position: absolute;width: 12px;right: 28px;top: 7px;\"/>\n",
       "<span class=\"font9 note-grey\" style=\"right:2px;\">21:18</span>\n",
       "</a>\n",
       "</div>"
      ]
     },
     "metadata": {},
     "execution_count": 10
    }
   ],
   "metadata": {}
  },
  {
   "cell_type": "markdown",
   "source": [
    "#### Second, we create a list of urls that we want to scrape"
   ],
   "metadata": {}
  },
  {
   "cell_type": "code",
   "execution_count": 11,
   "source": [
    "url = 'https://www.bold.dk/' \r\n",
    "response = requests.get(url)\r\n",
    "soup = BeautifulSoup(response.text,'lxml')\r\n",
    "articles = soup.find_all('div',{'class':'news_list_item'})\r\n",
    "\r\n",
    "# create an empty list\r\n",
    "list_of_article_urls = []\r\n",
    "\r\n",
    "# creating a loop that appends the article url to the list above\r\n",
    "for i in range(len(articles)):\r\n",
    "    list_of_article_urls.append(articles[i].attrs['data-vr-contentbox-url'])\r\n",
    "\r\n",
    "#printing the list\r\n",
    "#list_of_article_urls\r\n",
    "\r\n",
    "#printing one example\r\n",
    "print(list_of_article_urls[0])"
   ],
   "outputs": [
    {
     "output_type": "stream",
     "name": "stdout",
     "text": [
      "https://www.bold.dk/fodbold/nyheder/officielt-tottenham-skriver-med-romero/\n"
     ]
    }
   ],
   "metadata": {}
  },
  {
   "cell_type": "markdown",
   "source": [
    "#### Third, we scrape each site from the url list"
   ],
   "metadata": {}
  },
  {
   "cell_type": "code",
   "execution_count": 12,
   "source": [
    "# this step usually reuqiere a new step of investigation\r\n",
    "# to figure out what information you want to download\r\n",
    "# in this example we want the title, the lead and time posted\r\n",
    "\r\n",
    "# creatig empty list for the infomation we want to extract for every article\r\n",
    "h1_list = []\r\n",
    "lead = []\r\n",
    "time_posted = []\r\n",
    "\r\n",
    "for i in range(10): # 10 #len(list_of_article_urls)\r\n",
    "    \r\n",
    "    # this time we scrape for each news article in the url list we created before\r\n",
    "    url = list_of_article_urls[i]\r\n",
    "    response = requests.get(url)\r\n",
    "    soup = BeautifulSoup(response.text,'lxml')\r\n",
    "    \r\n",
    "    # pedagogical way of append title to list\r\n",
    "    temp_1 = soup.find_all('h1')\r\n",
    "    temp_1 = temp_1[1]\r\n",
    "    temp_1 = temp_1.text.strip()\r\n",
    "    h1_list.append(temp_1)\r\n",
    "    \r\n",
    "    # how I would actually do it\r\n",
    "    lead.append(soup.find_all('div',{'class':'lead'})[0].text.strip())\r\n",
    "    \r\n",
    "    # sometimes you make wierd things - that works\r\n",
    "    temp_3 = soup.find_all('time')\r\n",
    "    temp_3 = temp_3[0]\r\n",
    "    temp_3 = str(temp_3)[16:32]\r\n",
    "    time_posted.append(temp_3)"
   ],
   "outputs": [],
   "metadata": {}
  },
  {
   "cell_type": "code",
   "execution_count": 13,
   "source": [
    "# h1 \r\n",
    "soup.find_all('h1')"
   ],
   "outputs": [
    {
     "output_type": "execute_result",
     "data": {
      "text/plain": [
       "[<h1 class=\"break_new_headline\"></h1>,\n",
       " <h1>Medie: Rostov dropper Andreas Maxsø</h1>,\n",
       " <h1 class=\"title\">Fodbold - Seneste nyheder</h1>]"
      ]
     },
     "metadata": {},
     "execution_count": 13
    }
   ],
   "metadata": {}
  },
  {
   "cell_type": "code",
   "execution_count": 14,
   "source": [
    "soup.find_all('h1')[1]"
   ],
   "outputs": [
    {
     "output_type": "execute_result",
     "data": {
      "text/plain": [
       "<h1>Medie: Rostov dropper Andreas Maxsø</h1>"
      ]
     },
     "metadata": {},
     "execution_count": 14
    }
   ],
   "metadata": {}
  },
  {
   "cell_type": "code",
   "execution_count": 15,
   "source": [
    "soup.find_all('h1')[1].text.strip()"
   ],
   "outputs": [
    {
     "output_type": "execute_result",
     "data": {
      "text/plain": [
       "'Medie: Rostov dropper Andreas Maxsø'"
      ]
     },
     "metadata": {},
     "execution_count": 15
    }
   ],
   "metadata": {}
  },
  {
   "cell_type": "code",
   "execution_count": 16,
   "source": [
    "# lead\r\n",
    "soup.find_all('div',{'class':'lead'})[0].text.strip()"
   ],
   "outputs": [
    {
     "output_type": "execute_result",
     "data": {
      "text/plain": [
       "'Det russiske medie Eurostavka skriver, at FK Rostov har droppet at hente danske Andreas Maxsø, da klubbens nye cheftræner har foretrukket Bastos til forsvaret.'"
      ]
     },
     "metadata": {},
     "execution_count": 16
    }
   ],
   "metadata": {}
  },
  {
   "cell_type": "code",
   "execution_count": 17,
   "source": [
    "# time_posted\r\n",
    "soup.find_all('time')[0]"
   ],
   "outputs": [
    {
     "output_type": "execute_result",
     "data": {
      "text/plain": [
       "<time datetime=\"2021-08-06 18:49\">06.08.2021 18:49</time>"
      ]
     },
     "metadata": {},
     "execution_count": 17
    }
   ],
   "metadata": {}
  },
  {
   "cell_type": "markdown",
   "source": [
    "#### Lastly, we put our collected information into a dataframe"
   ],
   "metadata": {}
  },
  {
   "cell_type": "code",
   "execution_count": 18,
   "source": [
    "import pandas as pd\r\n",
    "df = pd.DataFrame({'title':h1_list, 'lead':lead, 'time':time_posted})\r\n",
    "df"
   ],
   "outputs": [
    {
     "output_type": "execute_result",
     "data": {
      "text/plain": [
       "                                           title  \\\n",
       "0        Officielt: Tottenham skriver med Romero   \n",
       "1      LIVE: FC Midtjylland foran 1-0 ved pausen   \n",
       "2       McCowatt sørgede for smal Helsingør-sejr   \n",
       "3   Hvidovre tildelte Fremad Amager nyt nederlag   \n",
       "4    Silkeborg tog sikker sejr i oprykkerduellen   \n",
       "5       SLUT: Silkeborg - Viborg minut for minut   \n",
       "6  Ansu Fati forventes klar til kamp i september   \n",
       "7         FCM skifter tre - Vejle uden ændringer   \n",
       "8    West Bromwich sender kant til Saudi-Arabien   \n",
       "9            Medie: Rostov dropper Andreas Maxsø   \n",
       "\n",
       "                                                lead              time  \n",
       "0  Tidligere fredag købte Atalanta 23-årige Crist...  2021-08-06 21:18  \n",
       "1  FC Midtjylland er ramt af adskillige afbud, nå...  2021-08-06 21:17  \n",
       "2  På et mål af Callum McCowatt i anden halvleg s...  2021-08-06 20:54  \n",
       "3  På en hæsblæsende første halvleg fik Hvidovre ...  2021-08-06 20:36  \n",
       "4  Sebastian Jørgensen, Nicolai Vallys og Alexand...  2021-08-06 20:25  \n",
       "5  Silkeborg har spillet 0-0 i alle Superliga-kam...  2021-08-06 20:23  \n",
       "6  FC Barcelonas Ansu Fati er på vej tilbage efte...  2021-08-06 19:59  \n",
       "7  Bo Henriksen har fundet plads til blandt andre...  2021-08-06 19:34  \n",
       "8  Championship-klubben West Bromwich har solgt b...  2021-08-06 19:11  \n",
       "9  Det russiske medie Eurostavka skriver, at FK R...  2021-08-06 18:49  "
      ],
      "text/html": [
       "<div>\n",
       "<style scoped>\n",
       "    .dataframe tbody tr th:only-of-type {\n",
       "        vertical-align: middle;\n",
       "    }\n",
       "\n",
       "    .dataframe tbody tr th {\n",
       "        vertical-align: top;\n",
       "    }\n",
       "\n",
       "    .dataframe thead th {\n",
       "        text-align: right;\n",
       "    }\n",
       "</style>\n",
       "<table border=\"1\" class=\"dataframe\">\n",
       "  <thead>\n",
       "    <tr style=\"text-align: right;\">\n",
       "      <th></th>\n",
       "      <th>title</th>\n",
       "      <th>lead</th>\n",
       "      <th>time</th>\n",
       "    </tr>\n",
       "  </thead>\n",
       "  <tbody>\n",
       "    <tr>\n",
       "      <th>0</th>\n",
       "      <td>Officielt: Tottenham skriver med Romero</td>\n",
       "      <td>Tidligere fredag købte Atalanta 23-årige Crist...</td>\n",
       "      <td>2021-08-06 21:18</td>\n",
       "    </tr>\n",
       "    <tr>\n",
       "      <th>1</th>\n",
       "      <td>LIVE: FC Midtjylland foran 1-0 ved pausen</td>\n",
       "      <td>FC Midtjylland er ramt af adskillige afbud, nå...</td>\n",
       "      <td>2021-08-06 21:17</td>\n",
       "    </tr>\n",
       "    <tr>\n",
       "      <th>2</th>\n",
       "      <td>McCowatt sørgede for smal Helsingør-sejr</td>\n",
       "      <td>På et mål af Callum McCowatt i anden halvleg s...</td>\n",
       "      <td>2021-08-06 20:54</td>\n",
       "    </tr>\n",
       "    <tr>\n",
       "      <th>3</th>\n",
       "      <td>Hvidovre tildelte Fremad Amager nyt nederlag</td>\n",
       "      <td>På en hæsblæsende første halvleg fik Hvidovre ...</td>\n",
       "      <td>2021-08-06 20:36</td>\n",
       "    </tr>\n",
       "    <tr>\n",
       "      <th>4</th>\n",
       "      <td>Silkeborg tog sikker sejr i oprykkerduellen</td>\n",
       "      <td>Sebastian Jørgensen, Nicolai Vallys og Alexand...</td>\n",
       "      <td>2021-08-06 20:25</td>\n",
       "    </tr>\n",
       "    <tr>\n",
       "      <th>5</th>\n",
       "      <td>SLUT: Silkeborg - Viborg minut for minut</td>\n",
       "      <td>Silkeborg har spillet 0-0 i alle Superliga-kam...</td>\n",
       "      <td>2021-08-06 20:23</td>\n",
       "    </tr>\n",
       "    <tr>\n",
       "      <th>6</th>\n",
       "      <td>Ansu Fati forventes klar til kamp i september</td>\n",
       "      <td>FC Barcelonas Ansu Fati er på vej tilbage efte...</td>\n",
       "      <td>2021-08-06 19:59</td>\n",
       "    </tr>\n",
       "    <tr>\n",
       "      <th>7</th>\n",
       "      <td>FCM skifter tre - Vejle uden ændringer</td>\n",
       "      <td>Bo Henriksen har fundet plads til blandt andre...</td>\n",
       "      <td>2021-08-06 19:34</td>\n",
       "    </tr>\n",
       "    <tr>\n",
       "      <th>8</th>\n",
       "      <td>West Bromwich sender kant til Saudi-Arabien</td>\n",
       "      <td>Championship-klubben West Bromwich har solgt b...</td>\n",
       "      <td>2021-08-06 19:11</td>\n",
       "    </tr>\n",
       "    <tr>\n",
       "      <th>9</th>\n",
       "      <td>Medie: Rostov dropper Andreas Maxsø</td>\n",
       "      <td>Det russiske medie Eurostavka skriver, at FK R...</td>\n",
       "      <td>2021-08-06 18:49</td>\n",
       "    </tr>\n",
       "  </tbody>\n",
       "</table>\n",
       "</div>"
      ]
     },
     "metadata": {},
     "execution_count": 18
    }
   ],
   "metadata": {
    "scrolled": true
   }
  },
  {
   "cell_type": "code",
   "execution_count": 19,
   "source": [
    "# saving df\r\n",
    "df.to_csv('df_bold.dk.csv')\r\n",
    "\r\n",
    "# loading df\r\n",
    "pd.read_csv('df_bold.dk.csv', index_col=0)"
   ],
   "outputs": [
    {
     "output_type": "execute_result",
     "data": {
      "text/plain": [
       "                                           title  \\\n",
       "0        Officielt: Tottenham skriver med Romero   \n",
       "1      LIVE: FC Midtjylland foran 1-0 ved pausen   \n",
       "2       McCowatt sørgede for smal Helsingør-sejr   \n",
       "3   Hvidovre tildelte Fremad Amager nyt nederlag   \n",
       "4    Silkeborg tog sikker sejr i oprykkerduellen   \n",
       "5       SLUT: Silkeborg - Viborg minut for minut   \n",
       "6  Ansu Fati forventes klar til kamp i september   \n",
       "7         FCM skifter tre - Vejle uden ændringer   \n",
       "8    West Bromwich sender kant til Saudi-Arabien   \n",
       "9            Medie: Rostov dropper Andreas Maxsø   \n",
       "\n",
       "                                                lead              time  \n",
       "0  Tidligere fredag købte Atalanta 23-årige Crist...  2021-08-06 21:18  \n",
       "1  FC Midtjylland er ramt af adskillige afbud, nå...  2021-08-06 21:17  \n",
       "2  På et mål af Callum McCowatt i anden halvleg s...  2021-08-06 20:54  \n",
       "3  På en hæsblæsende første halvleg fik Hvidovre ...  2021-08-06 20:36  \n",
       "4  Sebastian Jørgensen, Nicolai Vallys og Alexand...  2021-08-06 20:25  \n",
       "5  Silkeborg har spillet 0-0 i alle Superliga-kam...  2021-08-06 20:23  \n",
       "6  FC Barcelonas Ansu Fati er på vej tilbage efte...  2021-08-06 19:59  \n",
       "7  Bo Henriksen har fundet plads til blandt andre...  2021-08-06 19:34  \n",
       "8  Championship-klubben West Bromwich har solgt b...  2021-08-06 19:11  \n",
       "9  Det russiske medie Eurostavka skriver, at FK R...  2021-08-06 18:49  "
      ],
      "text/html": [
       "<div>\n",
       "<style scoped>\n",
       "    .dataframe tbody tr th:only-of-type {\n",
       "        vertical-align: middle;\n",
       "    }\n",
       "\n",
       "    .dataframe tbody tr th {\n",
       "        vertical-align: top;\n",
       "    }\n",
       "\n",
       "    .dataframe thead th {\n",
       "        text-align: right;\n",
       "    }\n",
       "</style>\n",
       "<table border=\"1\" class=\"dataframe\">\n",
       "  <thead>\n",
       "    <tr style=\"text-align: right;\">\n",
       "      <th></th>\n",
       "      <th>title</th>\n",
       "      <th>lead</th>\n",
       "      <th>time</th>\n",
       "    </tr>\n",
       "  </thead>\n",
       "  <tbody>\n",
       "    <tr>\n",
       "      <th>0</th>\n",
       "      <td>Officielt: Tottenham skriver med Romero</td>\n",
       "      <td>Tidligere fredag købte Atalanta 23-årige Crist...</td>\n",
       "      <td>2021-08-06 21:18</td>\n",
       "    </tr>\n",
       "    <tr>\n",
       "      <th>1</th>\n",
       "      <td>LIVE: FC Midtjylland foran 1-0 ved pausen</td>\n",
       "      <td>FC Midtjylland er ramt af adskillige afbud, nå...</td>\n",
       "      <td>2021-08-06 21:17</td>\n",
       "    </tr>\n",
       "    <tr>\n",
       "      <th>2</th>\n",
       "      <td>McCowatt sørgede for smal Helsingør-sejr</td>\n",
       "      <td>På et mål af Callum McCowatt i anden halvleg s...</td>\n",
       "      <td>2021-08-06 20:54</td>\n",
       "    </tr>\n",
       "    <tr>\n",
       "      <th>3</th>\n",
       "      <td>Hvidovre tildelte Fremad Amager nyt nederlag</td>\n",
       "      <td>På en hæsblæsende første halvleg fik Hvidovre ...</td>\n",
       "      <td>2021-08-06 20:36</td>\n",
       "    </tr>\n",
       "    <tr>\n",
       "      <th>4</th>\n",
       "      <td>Silkeborg tog sikker sejr i oprykkerduellen</td>\n",
       "      <td>Sebastian Jørgensen, Nicolai Vallys og Alexand...</td>\n",
       "      <td>2021-08-06 20:25</td>\n",
       "    </tr>\n",
       "    <tr>\n",
       "      <th>5</th>\n",
       "      <td>SLUT: Silkeborg - Viborg minut for minut</td>\n",
       "      <td>Silkeborg har spillet 0-0 i alle Superliga-kam...</td>\n",
       "      <td>2021-08-06 20:23</td>\n",
       "    </tr>\n",
       "    <tr>\n",
       "      <th>6</th>\n",
       "      <td>Ansu Fati forventes klar til kamp i september</td>\n",
       "      <td>FC Barcelonas Ansu Fati er på vej tilbage efte...</td>\n",
       "      <td>2021-08-06 19:59</td>\n",
       "    </tr>\n",
       "    <tr>\n",
       "      <th>7</th>\n",
       "      <td>FCM skifter tre - Vejle uden ændringer</td>\n",
       "      <td>Bo Henriksen har fundet plads til blandt andre...</td>\n",
       "      <td>2021-08-06 19:34</td>\n",
       "    </tr>\n",
       "    <tr>\n",
       "      <th>8</th>\n",
       "      <td>West Bromwich sender kant til Saudi-Arabien</td>\n",
       "      <td>Championship-klubben West Bromwich har solgt b...</td>\n",
       "      <td>2021-08-06 19:11</td>\n",
       "    </tr>\n",
       "    <tr>\n",
       "      <th>9</th>\n",
       "      <td>Medie: Rostov dropper Andreas Maxsø</td>\n",
       "      <td>Det russiske medie Eurostavka skriver, at FK R...</td>\n",
       "      <td>2021-08-06 18:49</td>\n",
       "    </tr>\n",
       "  </tbody>\n",
       "</table>\n",
       "</div>"
      ]
     },
     "metadata": {},
     "execution_count": 19
    }
   ],
   "metadata": {}
  },
  {
   "cell_type": "markdown",
   "source": [
    "# Exercise Set 7: Web Scraping 2\n",
    "\n",
    "In this Exercise Set we shall develop our webscraping skills even further by practicing **parsing** and navigating html trees using `BeautifoulSoup` and furthermore train extracting information from raw text with no html tags to help, using regular expressions. \n",
    "\n",
    "But just as importantly you will get a chance to think about **data quality issues** and how to ensure reliability when curating your own webdata. "
   ],
   "metadata": {
    "ExecuteTime": {
     "end_time": "2017-08-23T15:30:03.634114Z",
     "start_time": "2017-08-23T15:30:03.629294Z"
    }
   }
  },
  {
   "cell_type": "markdown",
   "source": [
    "## Exercise Section 7.1: Logging and data quality\n",
    "\n",
    "> **Ex. 7.1.1:** *`Why` is it important to log processes in your data collection?*\n",
    "\n"
   ],
   "metadata": {}
  },
  {
   "cell_type": "markdown",
   "source": [
    "> **Ex. 7.1.2:**\n",
    "*`How` does logging help with both ensuring and documenting the quality of your data?*\n"
   ],
   "metadata": {}
  },
  {
   "cell_type": "markdown",
   "source": [
    "**Logging is important in order to keep track of the scraping to make sure that everything runs smooth. With a log we can check for any errors and locate them, which would make things a lot less tideous than trying to find the error manually. With scraping we are also responsible for the data that we collect and a log helps us document our job.**"
   ],
   "metadata": {}
  },
  {
   "cell_type": "markdown",
   "source": [
    "## Exercise Section 7.2: Parsing a Table from HTML using BeautifulSoup.\r\n",
    "\r\n",
    "In module_6 I showed you a neat little prepackaged function in pandas that did all the work. However today we should learn the mechanics of it. *(It is not just for educational purposes, sometimes the package will not do exactly as you want.)*\r\n",
    "\r\n",
    "We hit the Basketball stats page from yesterday again: https://www.basketball-reference.com/leagues/NBA_2018.html.\r\n"
   ],
   "metadata": {}
  },
  {
   "cell_type": "markdown",
   "source": [
    "> **Ex. 7.2.1:** Here we practice simply locating the table node of interest using the `find` method build into BeautifoulSoup. But first we have to fetch the HTML using the `requests` module. Parse the tree using `BeautifulSoup`. And then use the **>Inspector<** tool (* right click on the table < press inspect element *) in your browser to see how to locate the Eastern Conference table node - i.e. the *tag* name of the node, and maybe some defining *attributes*."
   ],
   "metadata": {}
  },
  {
   "cell_type": "code",
   "execution_count": 20,
   "source": [
    "url = \"https://www.basketball-reference.com/leagues/NBA_2018.html\"\r\n",
    "response = requests.get(url)\r\n",
    "html = response.text\r\n",
    "soup = BeautifulSoup(html, 'lxml')\r\n",
    "EC_table = soup.find('table', {'id':'confs_standings_E'})\r\n",
    "\r\n"
   ],
   "outputs": [],
   "metadata": {}
  },
  {
   "cell_type": "markdown",
   "source": [
    "You have located the table should now build a function that starts at a \"table node\" and parses the information, and outputs a pandas DataFrame. \n",
    "\n",
    "Inspect the element either within the notebook or through the **>Inspector<** tool and start to see how a table is written in html. Which tag names can be used to locate rows? How will you iterate through columns. Were is the header located?\n",
    "\n",
    "> **Ex. 7.2.2:** First you parse the header which can be found in the canonical tag name: thead. \n",
    "Next you use the `find_all` method to search for the tag, and iterate through each of the elements extracting the text, using the `.text` method builtin to the the node object. Store the header values in a list container. \n",
    "\n",
    "> **Ex. 7.2.3:** Next you locate the rows, using the canonical tag name: tbody. And from here you search for all rows tags. Fiugre out the tag name yourself, inspecting the tbody node in python or using the **Inspector**. \n",
    "\n",
    "> **Ex. 7.2.4:** Next run through all the rows and extract each value, similar to how you extracted the header. However here is a slight variation: Since each value node can have a different tag depending on whether it is a digit or a string, you should use the `.children` method instead of the `.find_all` - (or write compile a regex that matches both the td tag and the th tag.) \n",
    ">Once the value nodes of each row has been located using the `.children` method you should extract the value. Store the extracted rows as a list of lists: ```[[val1,val2,...valk],...]```"
   ],
   "metadata": {}
  },
  {
   "cell_type": "code",
   "execution_count": 27,
   "source": [
    "# 7.2.2\r\n",
    "\r\n",
    "header_container = EC_table.find_all('thead')[0].text.split('\\n')[2:-2]\r\n",
    "\r\n",
    "# 7.2.3-4\r\n",
    "\r\n",
    "row_container = EC_table.find('tbody').find_all('tr')\r\n",
    "\r\n",
    "row_list = []\r\n",
    "\r\n",
    "import numpy as np\r\n",
    "\r\n",
    "def convert_value_type(value_node):\r\n",
    "    if value_node.name == 'th':\r\n",
    "        return value_node.text\r\n",
    "    else: \r\n",
    "        try: \r\n",
    "            return float(value_node.text)\r\n",
    "        except:\r\n",
    "            return np.nan \r\n",
    "\r\n",
    "for row_node in row_container:\r\n",
    "    row = []\r\n",
    "    for child in row_node.children:\r\n",
    "        row.append(convert_value_type(child))\r\n",
    "    row_list.append(row)\r\n",
    "\r\n",
    "df = pd.DataFrame(row_list, columns=header_container)\r\n",
    "\r\n",
    "df.head()"
   ],
   "outputs": [
    {
     "output_type": "execute_result",
     "data": {
      "text/plain": [
       "     Eastern Conference     W     L   W/L%    GB   PS/G   PA/G   SRS\n",
       "0      Toronto Raptors*  59.0  23.0  0.720   NaN  111.7  103.9  7.29\n",
       "1       Boston Celtics*  55.0  27.0  0.671   4.0  104.0  100.4  3.23\n",
       "2   Philadelphia 76ers*  52.0  30.0  0.634   7.0  109.8  105.3  4.30\n",
       "3  Cleveland Cavaliers*  50.0  32.0  0.610   9.0  110.9  109.9  0.59\n",
       "4       Indiana Pacers*  48.0  34.0  0.585  11.0  105.6  104.2  1.18"
      ],
      "text/html": [
       "<div>\n",
       "<style scoped>\n",
       "    .dataframe tbody tr th:only-of-type {\n",
       "        vertical-align: middle;\n",
       "    }\n",
       "\n",
       "    .dataframe tbody tr th {\n",
       "        vertical-align: top;\n",
       "    }\n",
       "\n",
       "    .dataframe thead th {\n",
       "        text-align: right;\n",
       "    }\n",
       "</style>\n",
       "<table border=\"1\" class=\"dataframe\">\n",
       "  <thead>\n",
       "    <tr style=\"text-align: right;\">\n",
       "      <th></th>\n",
       "      <th>Eastern Conference</th>\n",
       "      <th>W</th>\n",
       "      <th>L</th>\n",
       "      <th>W/L%</th>\n",
       "      <th>GB</th>\n",
       "      <th>PS/G</th>\n",
       "      <th>PA/G</th>\n",
       "      <th>SRS</th>\n",
       "    </tr>\n",
       "  </thead>\n",
       "  <tbody>\n",
       "    <tr>\n",
       "      <th>0</th>\n",
       "      <td>Toronto Raptors*</td>\n",
       "      <td>59.0</td>\n",
       "      <td>23.0</td>\n",
       "      <td>0.720</td>\n",
       "      <td>NaN</td>\n",
       "      <td>111.7</td>\n",
       "      <td>103.9</td>\n",
       "      <td>7.29</td>\n",
       "    </tr>\n",
       "    <tr>\n",
       "      <th>1</th>\n",
       "      <td>Boston Celtics*</td>\n",
       "      <td>55.0</td>\n",
       "      <td>27.0</td>\n",
       "      <td>0.671</td>\n",
       "      <td>4.0</td>\n",
       "      <td>104.0</td>\n",
       "      <td>100.4</td>\n",
       "      <td>3.23</td>\n",
       "    </tr>\n",
       "    <tr>\n",
       "      <th>2</th>\n",
       "      <td>Philadelphia 76ers*</td>\n",
       "      <td>52.0</td>\n",
       "      <td>30.0</td>\n",
       "      <td>0.634</td>\n",
       "      <td>7.0</td>\n",
       "      <td>109.8</td>\n",
       "      <td>105.3</td>\n",
       "      <td>4.30</td>\n",
       "    </tr>\n",
       "    <tr>\n",
       "      <th>3</th>\n",
       "      <td>Cleveland Cavaliers*</td>\n",
       "      <td>50.0</td>\n",
       "      <td>32.0</td>\n",
       "      <td>0.610</td>\n",
       "      <td>9.0</td>\n",
       "      <td>110.9</td>\n",
       "      <td>109.9</td>\n",
       "      <td>0.59</td>\n",
       "    </tr>\n",
       "    <tr>\n",
       "      <th>4</th>\n",
       "      <td>Indiana Pacers*</td>\n",
       "      <td>48.0</td>\n",
       "      <td>34.0</td>\n",
       "      <td>0.585</td>\n",
       "      <td>11.0</td>\n",
       "      <td>105.6</td>\n",
       "      <td>104.2</td>\n",
       "      <td>1.18</td>\n",
       "    </tr>\n",
       "  </tbody>\n",
       "</table>\n",
       "</div>"
      ]
     },
     "metadata": {},
     "execution_count": 27
    }
   ],
   "metadata": {}
  },
  {
   "cell_type": "markdown",
   "source": [
    "> **Ex. 7.2.5:** Now locate all tables from the page, using the `.find_all` method searching for the table tag name. Iterate through the table nodes and apply the function created for parsing html tables. Store each table in a dictionary using the table name as key. The name is found by accessing the id attribute of each table node, using dictionary-style syntax - i.e. `table_node['id']`."
   ],
   "metadata": {}
  },
  {
   "cell_type": "code",
   "execution_count": 33,
   "source": [
    "\r\n",
    "def parse_html(table_node):\r\n",
    "\r\n",
    "    header_container = table_node.find_all('thead')[0].text.split('\\n')[2:-2]\r\n",
    "\r\n",
    "    row_container = table_node.find('tbody').find_all('tr')\r\n",
    "\r\n",
    "    row_list = []\r\n",
    "\r\n",
    "    for row_node in row_container:\r\n",
    "        row = []\r\n",
    "        for child in row_node.children:\r\n",
    "            row.append(convert_value_type(child))\r\n",
    "\r\n",
    "        row_list.append(row)\r\n",
    "\r\n",
    "    df = pd.DataFrame(row_list, columns=header_container)\r\n",
    "\r\n",
    "    return df\r\n",
    "\r\n",
    "df = parse_html(EC_table)\r\n",
    "df.head()"
   ],
   "outputs": [
    {
     "output_type": "execute_result",
     "data": {
      "text/plain": [
       "     Eastern Conference     W     L   W/L%    GB   PS/G   PA/G   SRS\n",
       "0      Toronto Raptors*  59.0  23.0  0.720   NaN  111.7  103.9  7.29\n",
       "1       Boston Celtics*  55.0  27.0  0.671   4.0  104.0  100.4  3.23\n",
       "2   Philadelphia 76ers*  52.0  30.0  0.634   7.0  109.8  105.3  4.30\n",
       "3  Cleveland Cavaliers*  50.0  32.0  0.610   9.0  110.9  109.9  0.59\n",
       "4       Indiana Pacers*  48.0  34.0  0.585  11.0  105.6  104.2  1.18"
      ],
      "text/html": [
       "<div>\n",
       "<style scoped>\n",
       "    .dataframe tbody tr th:only-of-type {\n",
       "        vertical-align: middle;\n",
       "    }\n",
       "\n",
       "    .dataframe tbody tr th {\n",
       "        vertical-align: top;\n",
       "    }\n",
       "\n",
       "    .dataframe thead th {\n",
       "        text-align: right;\n",
       "    }\n",
       "</style>\n",
       "<table border=\"1\" class=\"dataframe\">\n",
       "  <thead>\n",
       "    <tr style=\"text-align: right;\">\n",
       "      <th></th>\n",
       "      <th>Eastern Conference</th>\n",
       "      <th>W</th>\n",
       "      <th>L</th>\n",
       "      <th>W/L%</th>\n",
       "      <th>GB</th>\n",
       "      <th>PS/G</th>\n",
       "      <th>PA/G</th>\n",
       "      <th>SRS</th>\n",
       "    </tr>\n",
       "  </thead>\n",
       "  <tbody>\n",
       "    <tr>\n",
       "      <th>0</th>\n",
       "      <td>Toronto Raptors*</td>\n",
       "      <td>59.0</td>\n",
       "      <td>23.0</td>\n",
       "      <td>0.720</td>\n",
       "      <td>NaN</td>\n",
       "      <td>111.7</td>\n",
       "      <td>103.9</td>\n",
       "      <td>7.29</td>\n",
       "    </tr>\n",
       "    <tr>\n",
       "      <th>1</th>\n",
       "      <td>Boston Celtics*</td>\n",
       "      <td>55.0</td>\n",
       "      <td>27.0</td>\n",
       "      <td>0.671</td>\n",
       "      <td>4.0</td>\n",
       "      <td>104.0</td>\n",
       "      <td>100.4</td>\n",
       "      <td>3.23</td>\n",
       "    </tr>\n",
       "    <tr>\n",
       "      <th>2</th>\n",
       "      <td>Philadelphia 76ers*</td>\n",
       "      <td>52.0</td>\n",
       "      <td>30.0</td>\n",
       "      <td>0.634</td>\n",
       "      <td>7.0</td>\n",
       "      <td>109.8</td>\n",
       "      <td>105.3</td>\n",
       "      <td>4.30</td>\n",
       "    </tr>\n",
       "    <tr>\n",
       "      <th>3</th>\n",
       "      <td>Cleveland Cavaliers*</td>\n",
       "      <td>50.0</td>\n",
       "      <td>32.0</td>\n",
       "      <td>0.610</td>\n",
       "      <td>9.0</td>\n",
       "      <td>110.9</td>\n",
       "      <td>109.9</td>\n",
       "      <td>0.59</td>\n",
       "    </tr>\n",
       "    <tr>\n",
       "      <th>4</th>\n",
       "      <td>Indiana Pacers*</td>\n",
       "      <td>48.0</td>\n",
       "      <td>34.0</td>\n",
       "      <td>0.585</td>\n",
       "      <td>11.0</td>\n",
       "      <td>105.6</td>\n",
       "      <td>104.2</td>\n",
       "      <td>1.18</td>\n",
       "    </tr>\n",
       "  </tbody>\n",
       "</table>\n",
       "</div>"
      ]
     },
     "metadata": {},
     "execution_count": 33
    }
   ],
   "metadata": {}
  },
  {
   "cell_type": "markdown",
   "source": [
    "> **Ex. 7.2.6. (extra) :** Compare your results to the pandas implementation [pd.read_html](https://pandas.pydata.org/pandas-docs/stable/reference/api/pandas.read_html.html)"
   ],
   "metadata": {}
  },
  {
   "cell_type": "markdown",
   "source": [
    "## Exercise Section 7.3: The European Research Counsel (optional)\n",
    "**NOTE** Exercise 7.3 is difficult and therefore also optional. I expect less than 10% of you being able to solve this one.\n",
    "\n",
    "Imagine we wanted to analyze whether the European funding behaviour was biased towards certain countries and gender. We might decide to scrape who has received funding from the ERC.\n",
    "https://erc.europa.eu/\n",
    "\n",
    "* First we figure find navigate the grant listings.\n",
    "* Next we figure out how to page these results. \n",
    "* And finally we want to grab the information."
   ],
   "metadata": {}
  },
  {
   "cell_type": "markdown",
   "source": [
    "### Data Storage and operating system interactions\n",
    "\n",
    "> **Ex. 7.3.1:** *Import the python library `os`. Write pyhon code in this jupyter notebook creating a new folder in your directory called \"erc_funding\". Inside your new folder create 3 subfolders called 'mapping', 'raw_data' and 'parsed_data'.*\n",
    "\n"
   ],
   "metadata": {}
  },
  {
   "cell_type": "markdown",
   "source": [
    "### Mapping\n",
    "\n",
    "> **Ex. 7.3.2:** *Investigate [https://erc.europa.eu/projects-figures/erc-funded-projects/results?items_per_page=100&search_api_views_fulltext=&](https://erc.europa.eu/projects-figures/erc-funded-projects/results?items_per_page=100&search_api_views_fulltext=&). Figure out how many sites you need to loop thorugh. Save the response for each site using in `condecs` in your \"mapping\" subfolder. Use the `tqdm` to track your loop.\n",
    "Use the Snorre Ralund Connector class to log your activity.*\n",
    "\n"
   ],
   "metadata": {}
  },
  {
   "cell_type": "markdown",
   "source": [
    "### Parsing\n",
    "\n",
    "> **Ex. 7.3.3:** *Write a function that takes a filename (from our mapping subfolder) as and input and returns (in our parsed_data subfolder) a `pandas`dataframe of parsed information. Use `os` library to navigate your operating system (paths) and `condecs` library to read files inside your function. Last, concatenate all your dataframes into one dataframe you call \"df\" consisting of all parsed data.*"
   ],
   "metadata": {}
  },
  {
   "cell_type": "markdown",
   "source": [
    "### Reliability and Data Quality\n",
    "\n",
    "##### Inspect the data\n",
    "> **Ex. 7.3.4:** *Investigate your dataframe \"df\". Check for dublicates. Count NaN values. Create a `matplotlib` histrogram plot for every column of \"df\" illustrating the lenght of the string (x-axis) and row count( y-axis).*\n",
    "\n",
    "##### Do simple descriptives\n",
    "> **Ex. 7.3.5:** *Create a value_counts() for each of the three columns (Host Institution (HI), Researcher (PI) and Project acronym) in your \"df\". What can counting do for us in this exercise in terms of Reliability and Data Quality?*\n",
    "\n",
    "##### Visualize the Log\n",
    "> **Ex. 7.3.6:** *Load your \"erc_log.csv\". Convert the time column 't' to datetime. Use `matplotlib` to create three plots: (1) time it took to make the call, (2) the response size over time, and (3) the delta_t against the response_size .)*"
   ],
   "metadata": {}
  }
 ],
 "metadata": {
  "kernelspec": {
   "name": "python3",
   "display_name": "Python 3.8.5 64-bit ('base': conda)"
  },
  "language_info": {
   "codemirror_mode": {
    "name": "ipython",
    "version": 3
   },
   "file_extension": ".py",
   "mimetype": "text/x-python",
   "name": "python",
   "nbconvert_exporter": "python",
   "pygments_lexer": "ipython3",
   "version": "3.8.5"
  },
  "latex_envs": {
   "bibliofile": "biblio.bib",
   "cite_by": "apalike",
   "current_citInitial": 1,
   "eqLabelWithNumbers": true,
   "eqNumInitial": 0
  },
  "toc": {
   "nav_menu": {
    "height": "328px",
    "width": "252px"
   },
   "navigate_menu": true,
   "number_sections": true,
   "sideBar": true,
   "threshold": 4,
   "toc_cell": false,
   "toc_section_display": "block",
   "toc_window_display": false
  },
  "interpreter": {
   "hash": "8fac594bfae6525c0c41b4041d2d72effa188cc8ead05f81b1fab2bb098927fb"
  }
 },
 "nbformat": 4,
 "nbformat_minor": 4
}