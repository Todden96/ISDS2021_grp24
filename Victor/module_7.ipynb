{
 "cells": [
  {
   "cell_type": "markdown",
   "metadata": {},
   "source": [
    "> **DO YOU USE GITHUB?**  \n",
    "If True: print('Remember to make your edits in a personal copy of this notebook')  \n",
    "Else: print('You don't have to understand. Continue your life.')"
   ]
  },
  {
   "cell_type": "markdown",
   "metadata": {},
   "source": [
    "# Module 7: Web Scraping 2\n",
    "\n",
    "In module_6 your learned some powerful tricks. Tricks that will work when the data is already shipped in a neat format. However this is often not the case. In this session we shall learn the art of parsing unstructured text and a more principled and advanced method of parsing HTML.\n",
    "\n",
    "This will help you build ***custom datasets*** within just a few hours or days work, that would have taken ***months*** to curate and clean manually.\n",
    "\n",
    "\n",
    "\n",
    "Readings for `module 6+7+8`:\n",
    "- [Python for Data Analysis, chapter 6](https://bedford-computing.co.uk/learning/wp-content/uploads/2015/10/Python-for-Data-Analysis.pdf)\n",
    "- [A Practical Introduction to Web Scraping in Python](https://realpython.com/python-web-scraping-practical-introduction/)\n",
    "- [An introduction to web scraping with Python](https://towardsdatascience.com/an-introduction-to-web-scraping-with-python-a2601e8619e5)\n",
    "- [Introduction to Web Scraping using Selenium](https://medium.com/the-andela-way/introduction-to-web-scraping-using-selenium-7ec377a8cf72)\n",
    "\n",
    "Video materiale from `ISDS 2020`:\n",
    "- [Web Scraping 1](https://bit.ly/ISDS2021_6)\n",
    "- [Web Scraping 2](https://bit.ly/ISDS2021_7)\n",
    "- [Web Scraping 3](https://bit.ly/ISDS2021_8)\n",
    "\n",
    "Other ressources:\n",
    "- [Nicklas Webpage](https://nicklasjohansen.netlify.app/)\n",
    "- [Data Driven Organizational Analysis, Fall 2021](https://efteruddannelse.kurser.ku.dk/course/2021-2022/ASTK18379U)\n",
    "- [Master of Science (MSc) in Social Data Science](https://www.socialdatascience.dk/education)\n"
   ]
  },
  {
   "cell_type": "markdown",
   "metadata": {
    "slideshow": {
     "slide_type": "slide"
    }
   },
   "source": [
    "## Introduction to HTML\n",
    "[What is HTML?](https://www.w3schools.com/whatis/whatis_html.asp)  \n",
    "\n",
    "HTML has a Tree structure. \n",
    "\n",
    "Each node in the tree has:\n",
    "- Children, siblings, parents, descendants. \n",
    "- Ids and attributes\n",
    "\n",
    "<img src=\"http://www.openbookproject.net/tutorials/getdown/css/images/lesson4/HTMLDOMTree.png\"/>\n"
   ]
  },
  {
   "cell_type": "markdown",
   "metadata": {},
   "source": [
    "## Important syntax and patterns\n",
    "_______________\n",
    "```html \n",
    "<p>The p tag indicates a paragraph <p/>\n",
    "```\n",
    "_______________\n",
    "```html \n",
    "<b>The b tag makes the text bold, giving us a clue to its importance </b>\n",
    "```\n",
    "output: <b>The b tag makes the text bold, giving us a clue to its importance </b>\n",
    "```html \n",
    "\n",
    "<em>The em tag emphasize the text</em>, giving us a clue to its importance\n",
    "```\n",
    "output: <em>The em tag makes emphasize the text</em>, giving us a clue to its importance\n",
    "___________\n",
    "```html \n",
    "<h1>h1</h1><h2>h2</h2><h3>h3</h3><b>Headers give similar clues</b>\n",
    "```\n",
    "output:\n",
    "<h1>h1</h1><h2>h2</h2><h3>h3</h3><b>Headers give similar clues</b>  \n",
    "  \n",
    "```html \n",
    "<a href=\"www.google.com\">The a tag creates a hyperlink <a/>\n",
    "```\n",
    "output: <a href=\"www.google.com\">The a tag creates a hyperlink <a/>"
   ]
  },
  {
   "cell_type": "markdown",
   "metadata": {
    "slideshow": {
     "slide_type": "subslide"
    }
   },
   "source": [
    "## How do we find our way around this tree?\n",
    "1. Regex: Extracting string patterns using .split and regular expresssions\n",
    "2. CSS-selectors: Specifying paths using css-selectors, xpath syntax.\n",
    "3. ```BeautifulSoup```: A more powerful, principled and readable way to parse data and navigate HTML"
   ]
  },
  {
   "cell_type": "code",
   "execution_count": 2,
   "metadata": {},
   "outputs": [],
   "source": [
    "import requests\n",
    "from bs4 import BeautifulSoup\n",
    "import re\n",
    "import selenium\n",
    "import time\n",
    "import pandas as pd"
   ]
  },
  {
   "cell_type": "markdown",
   "metadata": {},
   "source": [
    "### Regex\n",
    "- [What is regex?](https://en.wikipedia.org/wiki/Regular_expression)\n",
    "- The brute force way is to parse by convering your downloded matriale into a large string\n",
    "- Now you can create standard string operations\n",
    "- And apply smart regex to identify the data you are looking for e.g. links."
   ]
  },
  {
   "cell_type": "code",
   "execution_count": 3,
   "metadata": {},
   "outputs": [],
   "source": [
    "url = 'https://www.theguardian.com/us-news/2019/aug/14/taco-eating-contest-death-fresno-california'\n",
    "response = requests.get(url)\n",
    "html = response.text\n",
    "#html.split('\\n')\n",
    "#re.findall(\"(?P<url>https?://[^\\s]+)\", html)[0]"
   ]
  },
  {
   "cell_type": "markdown",
   "metadata": {},
   "source": [
    "### CSS Selectors \n",
    "- [What is a CSS Selector?](https://www.w3schools.com/css/css_selectors.asp)\n",
    "- Another way to browse through the HTML tree\n",
    "- Define a unique path to an element in the HTML tree.\n",
    "- It is quick but has to be hardcoded and also more likely to break.\n",
    "- [Nicklas recommend using this free Google Chrome CSS Selector](https://chrome.google.com/webstore/detail/selectorgadget/mhjhnkcfbdhnjickkkdbjoemdmbfginb)"
   ]
  },
  {
   "cell_type": "code",
   "execution_count": 4,
   "metadata": {},
   "outputs": [
    {
     "data": {
      "text/plain": [
       "'Man dies after taco-eating contest in California'"
      ]
     },
     "execution_count": 4,
     "metadata": {},
     "output_type": "execute_result"
    }
   ],
   "source": [
    "url = 'https://www.theguardian.com/us-news/2019/aug/14/taco-eating-contest-death-fresno-california'\n",
    "response = requests.get(url)\n",
    "soup = BeautifulSoup(response.content, 'html.parser')\n",
    "soup.select('.dcr-125vfar')[0].text"
   ]
  },
  {
   "cell_type": "markdown",
   "metadata": {},
   "source": [
    "## Parsing HTML with BeautifulSoup\n",
    "BeautifulSoup makes the html tree navigable. \n",
    "It allows you to:\n",
    "    * Search for elements by tag name and/or by attribute.\n",
    "    * Iterate through them, go up, sideways or down the tree.\n",
    "    * Furthermore it helps you with standard tasks such as extracting raw text from html,\n",
    "    which would be a very tedious task if you had to hardcode it using `.split` commands and using your own regular expressions will be unstable."
   ]
  },
  {
   "cell_type": "code",
   "execution_count": 5,
   "metadata": {},
   "outputs": [],
   "source": [
    "url = 'https://www.theguardian.com/us-news/2019/aug/14/taco-eating-contest-death-fresno-california'\n",
    "response = requests.get(url)\n",
    "html = response.text\n",
    "soup = BeautifulSoup(html,'lxml') # parse the raw html using BeautifoulSoup"
   ]
  },
  {
   "cell_type": "markdown",
   "metadata": {},
   "source": [
    "The HTML is just a long string\n",
    "The BeautifulSoup makes the string into a 'nicer' look and not a string anymore.\n",
    "The soup takes the "
   ]
  },
  {
   "cell_type": "code",
   "execution_count": 6,
   "metadata": {},
   "outputs": [
    {
     "data": {
      "text/plain": [
       "['#maincontent',\n",
       " '#navigation',\n",
       " '/preference/edition/int',\n",
       " '/preference/edition/uk',\n",
       " '/preference/edition/us']"
      ]
     },
     "execution_count": 6,
     "metadata": {},
     "output_type": "execute_result"
    }
   ],
   "source": [
    "# example: finding hyperlinks\n",
    "links = soup.find_all('a') # find all a tags -connoting a hyperlink.\n",
    "[link['href'] for link in links if link.has_attr('href')][0:5] # unpack the hyperlink from the a nodes."
   ]
  },
  {
   "cell_type": "code",
   "execution_count": 33,
   "metadata": {},
   "outputs": [
    {
     "name": "stdout",
     "output_type": "stream",
     "text": [
      "dcr-125vfar : Man dies after taco-eating contest in California\n"
     ]
    }
   ],
   "source": [
    "# example: finding headline\n",
    "headline = soup.find('h1') # search for the first headline: h1 tag. \n",
    "name = headline['class'][0].strip() # use the class attribute name as column name.\n",
    "value = headline.text.strip() # extract text using build in method.\n",
    "print(name,':',value)"
   ]
  },
  {
   "cell_type": "code",
   "execution_count": 8,
   "metadata": {},
   "outputs": [
    {
     "data": {
      "text/plain": [
       "'A man died shortly after competing in a taco-eating contest at a minor league baseball game in California, authorities said Wednesday.Dana Hutchings, 41, of Fresno, died Tuesday night shortly after arriving at a hospital, said Tony Botti, a Fresno sheriff spokesman.An autopsy on Hutchings will be done Thursday to determine a cause of death, Botti said. It was not immediately known how many tacos the man had eaten or whether he had won the contest.Paul Braverman, a spokesman for the Fresno Grizzlies, said in a statement that the team was “devastated to learn” of the fan’s death and that the team would “work closely with local authorities and provide any helpful information that is requested”.Tuesday night’s competition came before Saturday’s World Taco Eating Championship, to be held at Fresno’s annual Taco Truck Throwdown. The team on Wednesday announced that it was canceling that contest.Matthew Boylan, who watched Tuesday’s taco eating contest from his seat in the stadium, told the Fresno Bee he quickly noticed Hutchings because “he was eating so fast compared to the other two [contestants]”.“It was like he’d never eaten before,” Boylan said. “He was just shoving the tacos down his mouth without chewing.”He said Hutchings collapsed and hit his face on a table about seven minutes into the contest, then fell to the ground. The eating contest ended immediately.During the 2018 Taco Eating Championship in Fresno, the professional eater Geoffrey Esper downed 73 tacos in eight minutes, KFSN-TV reported.Competitive-eating contests have become major attractions at festivals and other events. Among the most popular is the annual Nathan’s Famous July Fourth hot dog eating contest on New York’s Coney Island, where Joey Chestnut, this year’s champion, ate 71. Esper finished third. TopicsCalifornianewsReuse this content'"
      ]
     },
     "execution_count": 8,
     "metadata": {},
     "output_type": "execute_result"
    }
   ],
   "source": [
    "# example: finding article_text\n",
    "article_text = soup.findAll('div', {'class':'dcr-185kcx9'})[0]\n",
    "article_text.text"
   ]
  },
  {
   "cell_type": "markdown",
   "metadata": {},
   "source": [
    "Say we are interested in how articles cite sources to back up their story i.e. their hyperlink behaviour within the article, and we want to see if the media has changed their behaviour.\n",
    "\n",
    "We know how to search for links. But the cool part is that we can search from anywhere in the HTML tree. This means that once we have located the article content node - as above - we can search from there. This results in hyperlinks used within the article text.\n"
   ]
  },
  {
   "cell_type": "code",
   "execution_count": 9,
   "metadata": {},
   "outputs": [
    {
     "name": "stdout",
     "output_type": "stream",
     "text": [
      "https://www.theguardian.com/us-news/california\n",
      "https://www.theguardian.com/us-news/gallery/2016/jul/04/nathans-famous-hotdog-eating-contest-in-pictures\n"
     ]
    },
    {
     "data": {
      "text/plain": [
       "['https://www.theguardian.com/us-news/california',\n",
       " 'https://www.theguardian.com/us-news/gallery/2016/jul/04/nathans-famous-hotdog-eating-contest-in-pictures']"
      ]
     },
     "execution_count": 9,
     "metadata": {},
     "output_type": "execute_result"
    }
   ],
   "source": [
    "# example: finding citation links\n",
    "citations = article_text.findAll('a')\n",
    "\n",
    "citation_links = [] # define container to the hyperlinks\n",
    "for citation in citations: # iterate through each citation node\n",
    "    if citation.has_attr('data-link-name'): # check if it has the right attribute\n",
    "        if citation['data-link-name'] =='in body link': # and if the value of that attribute is correct\n",
    "            print(citation['href'])\n",
    "            citation_links.append(citation['href']) #  add link to the container\n",
    "\n",
    "citation_links"
   ]
  },
  {
   "cell_type": "markdown",
   "metadata": {},
   "source": [
    "## Creating a dataset from www.bold.dk\n",
    "\n",
    "### Let's put together some of the stuff we have learned so far\n",
    "1. **Investigate:** In this example we will try to investigate the website to uderstand its structure. \n",
    "2. **Mapping:** Then we will try to collect all the urls and save them into a list\n",
    "3. **Parsing:** At last, we will try to collect the information in each url in a simpel loop.\n",
    "\n",
    "#### First, we pay around with the site trying to understand its structure"
   ]
  },
  {
   "cell_type": "code",
   "execution_count": 25,
   "metadata": {},
   "outputs": [
    {
     "name": "stdout",
     "output_type": "stream",
     "text": [
      "Saints om Ings-skifte: Vi får en masse penge\n",
      "\n",
      "09:54\n",
      "https://www.bold.dk/fodbold/nyheder/saints-om-ings-skifte-vi-faar-en-masse-penge/\n"
     ]
    }
   ],
   "source": [
    "# define our URL\n",
    "url = 'https://www.bold.dk/' \n",
    "\n",
    "# connects to site\n",
    "response = requests.get(url)\n",
    "\n",
    "# parse data with BeautifulSoup\n",
    "soup = BeautifulSoup(response.text,'lxml') # parse the HTML\n",
    "\n",
    "#identify articles to scrape by inspecting site\n",
    "articles = soup.find_all('div',{'class':'news_list_item'}) # search for the ul node\n",
    "\n",
    "# checking if articles match website\n",
    "for i in range(1):\n",
    "    print(articles[i].text.strip())\n",
    "\n",
    "# identifying how to find an url from an article\n",
    "article_url = articles[0].attrs['data-vr-contentbox-url']\n",
    "print(article_url)"
   ]
  },
  {
   "cell_type": "code",
   "execution_count": 26,
   "metadata": {},
   "outputs": [
    {
     "data": {
      "text/plain": [
       "<div article_id=\"389211\" class=\"news_list_item\" data-vr-contentbox=\"#1\" data-vr-contentbox-url=\"https://www.bold.dk/fodbold/nyheder/saints-om-ings-skifte-vi-faar-en-masse-penge/\" id=\"news_list_item_389211\" position=\"1\" tag_ids=\"6331,8202,8212\">\n",
       "<div class=\"checkbox ball no_text_select\" style=\"margin:7px 6px 3px 2px\">\n",
       "<img class=\"unchecked\" src=\"https://s3.eu-central-1.amazonaws.com/static.bold.dk/img/sprites/newslist_checkbox_20x40.png\"/>\n",
       "</div>\n",
       "<a class=\"title\" href=\"/fodbold/nyheder/saints-om-ings-skifte-vi-faar-en-masse-penge/\"><span data-vr-headline=\"\">Saints om Ings-skifte: Vi får en masse penge</span>\n",
       "<img src=\"https://s3.eu-central-1.amazonaws.com/static.bold.dk/img/tag/180x180/8206.png\" style=\"position: absolute;width: 12px;right: 28px;top: 7px;\"/>\n",
       "<span class=\"font9 note-grey\" style=\"right:2px;\">09:54</span>\n",
       "</a>\n",
       "</div>"
      ]
     },
     "execution_count": 26,
     "metadata": {},
     "output_type": "execute_result"
    }
   ],
   "source": [
    "articles[0]"
   ]
  },
  {
   "cell_type": "code",
   "execution_count": 27,
   "metadata": {},
   "outputs": [
    {
     "data": {
      "text/plain": [
       "<a class=\"title\" href=\"/fodbold/nyheder/saints-om-ings-skifte-vi-faar-en-masse-penge/\"><span data-vr-headline=\"\">Saints om Ings-skifte: Vi får en masse penge</span>\n",
       "<img src=\"https://s3.eu-central-1.amazonaws.com/static.bold.dk/img/tag/180x180/8206.png\" style=\"position: absolute;width: 12px;right: 28px;top: 7px;\"/>\n",
       "<span class=\"font9 note-grey\" style=\"right:2px;\">09:54</span>\n",
       "</a>"
      ]
     },
     "execution_count": 27,
     "metadata": {},
     "output_type": "execute_result"
    }
   ],
   "source": [
    "articles[0].a"
   ]
  },
  {
   "cell_type": "code",
   "execution_count": 28,
   "metadata": {},
   "outputs": [
    {
     "data": {
      "text/plain": [
       "'/fodbold/nyheder/saints-om-ings-skifte-vi-faar-en-masse-penge/'"
      ]
     },
     "execution_count": 28,
     "metadata": {},
     "output_type": "execute_result"
    }
   ],
   "source": [
    "articles[0].a['href']"
   ]
  },
  {
   "cell_type": "markdown",
   "metadata": {},
   "source": [
    "#### Second, we create a list of urls that we want to scrape"
   ]
  },
  {
   "cell_type": "code",
   "execution_count": 30,
   "metadata": {},
   "outputs": [
    {
     "name": "stdout",
     "output_type": "stream",
     "text": [
      "https://www.bold.dk/fodbold/nyheder/saints-om-ings-skifte-vi-faar-en-masse-penge/\n"
     ]
    }
   ],
   "source": [
    "url = 'https://www.bold.dk/' \n",
    "response = requests.get(url)\n",
    "soup = BeautifulSoup(response.text,'lxml')\n",
    "articles = soup.find_all('div',{'class':'news_list_item'})\n",
    "\n",
    "#create an empty list\n",
    "list_of_article_urls = []\n",
    "\n",
    "# creating a loop that appends the article url to the list above\n",
    "for i in range(len(articles)):\n",
    "    list_of_article_urls.append(articles[i].attrs['data-vr-contentbox-url'])\n",
    "\n",
    "#printing the list\n",
    "#list_of_article_urls\n",
    "\n",
    "#printing one example\n",
    "print(list_of_article_urls[0])"
   ]
  },
  {
   "cell_type": "markdown",
   "metadata": {},
   "source": [
    "#### Third, we scrape each site from the url list"
   ]
  },
  {
   "cell_type": "code",
   "execution_count": 31,
   "metadata": {},
   "outputs": [],
   "source": [
    "# this step usually reuqiere a new step of investigation\n",
    "# to figure out what information you want to download\n",
    "# in this example we want the title, the lead and time posted\n",
    "\n",
    "# creatig empty list for the infomation we want to extract for every article\n",
    "h1_list = []\n",
    "lead = []\n",
    "time_posted = []\n",
    "\n",
    "for i in range(10): # 10 #len(list_of_article_urls)\n",
    "    \n",
    "    # this time we scrape for each news article in the url list we created before\n",
    "    url = list_of_article_urls[i]\n",
    "    response = requests.get(url)\n",
    "    soup = BeautifulSoup(response.text,'lxml')\n",
    "    \n",
    "    # pedagogical way of append title to list\n",
    "    temp_1 = soup.find_all('h1')\n",
    "    temp_1 = temp_1[1]\n",
    "    temp_1 = temp_1.text.strip()\n",
    "    h1_list.append(temp_1)\n",
    "    \n",
    "    # how I would actually do it\n",
    "    lead.append(soup.find_all('div',{'class':'lead'})[0].text.strip())\n",
    "    \n",
    "    # sometimes you make wierd things - that works\n",
    "    temp_3 = soup.find_all('time')\n",
    "    temp_3 = temp_3[0]\n",
    "    temp_3 = str(temp_3)[16:32]\n",
    "    time_posted.append(temp_3)"
   ]
  },
  {
   "cell_type": "code",
   "execution_count": 130,
   "metadata": {},
   "outputs": [
    {
     "data": {
      "text/plain": [
       "[<h1 class=\"break_new_headline\"></h1>,\n",
       " <h1>PL-klubber fortsætter knælen i ny sæson</h1>,\n",
       " <h1 class=\"title\">Fodbold - Seneste nyheder</h1>]"
      ]
     },
     "execution_count": 130,
     "metadata": {},
     "output_type": "execute_result"
    }
   ],
   "source": [
    "# h1 \n",
    "soup.find_all('h1')"
   ]
  },
  {
   "cell_type": "code",
   "execution_count": 145,
   "metadata": {},
   "outputs": [
    {
     "data": {
      "text/plain": [
       "<h1>PL-klubber fortsætter knælen i ny sæson</h1>"
      ]
     },
     "execution_count": 145,
     "metadata": {},
     "output_type": "execute_result"
    }
   ],
   "source": [
    "soup.find_all('h1')[1]"
   ]
  },
  {
   "cell_type": "code",
   "execution_count": 146,
   "metadata": {},
   "outputs": [
    {
     "data": {
      "text/plain": [
       "'PL-klubber fortsætter knælen i ny sæson'"
      ]
     },
     "execution_count": 146,
     "metadata": {},
     "output_type": "execute_result"
    }
   ],
   "source": [
    "soup.find_all('h1')[1].text.strip()"
   ]
  },
  {
   "cell_type": "code",
   "execution_count": 144,
   "metadata": {},
   "outputs": [
    {
     "data": {
      "text/plain": [
       "'De 20 Premier League-klubber er blevet enige om at knæle før kickoff i næste sæson også med budskabet om at få racisme ud af fodbolden.'"
      ]
     },
     "execution_count": 144,
     "metadata": {},
     "output_type": "execute_result"
    }
   ],
   "source": [
    "# lead\n",
    "soup.find_all('div',{'class':'lead'})[0].text.strip()"
   ]
  },
  {
   "cell_type": "code",
   "execution_count": 129,
   "metadata": {},
   "outputs": [
    {
     "data": {
      "text/plain": [
       "<time datetime=\"2021-08-03 20:28\">03.08.2021 20:28</time>"
      ]
     },
     "execution_count": 129,
     "metadata": {},
     "output_type": "execute_result"
    }
   ],
   "source": [
    "# time_posted\n",
    "soup.find_all('time')[0]"
   ]
  },
  {
   "cell_type": "markdown",
   "metadata": {},
   "source": [
    "#### Lastly, we put our collected information into a dataframe"
   ]
  },
  {
   "cell_type": "code",
   "execution_count": 32,
   "metadata": {
    "scrolled": true
   },
   "outputs": [
    {
     "data": {
      "text/html": [
       "<div>\n",
       "<style scoped>\n",
       "    .dataframe tbody tr th:only-of-type {\n",
       "        vertical-align: middle;\n",
       "    }\n",
       "\n",
       "    .dataframe tbody tr th {\n",
       "        vertical-align: top;\n",
       "    }\n",
       "\n",
       "    .dataframe thead th {\n",
       "        text-align: right;\n",
       "    }\n",
       "</style>\n",
       "<table border=\"1\" class=\"dataframe\">\n",
       "  <thead>\n",
       "    <tr style=\"text-align: right;\">\n",
       "      <th></th>\n",
       "      <th>title</th>\n",
       "      <th>lead</th>\n",
       "      <th>time</th>\n",
       "    </tr>\n",
       "  </thead>\n",
       "  <tbody>\n",
       "    <tr>\n",
       "      <th>0</th>\n",
       "      <td>Saints om Ings-skifte: Vi får en masse penge</td>\n",
       "      <td>Selv om Southampton gerne ville have forlænget...</td>\n",
       "      <td>2021-08-05 09:54</td>\n",
       "    </tr>\n",
       "    <tr>\n",
       "      <th>1</th>\n",
       "      <td>Emil Nielsen lavede fire: Slet ingen arrogance</td>\n",
       "      <td>Emil Nielsen scorede fire mål i Lyngbys 9-0-po...</td>\n",
       "      <td>2021-08-05 09:35</td>\n",
       "    </tr>\n",
       "    <tr>\n",
       "      <th>2</th>\n",
       "      <td>Tårnby-træner hylder vildt mål: Helt vanvittigt</td>\n",
       "      <td>Tårnby FF-træner Timos Adraktas storroser Patr...</td>\n",
       "      <td>2021-08-05 09:12</td>\n",
       "    </tr>\n",
       "    <tr>\n",
       "      <th>3</th>\n",
       "      <td>Officielt: Frederik Sørensen på plads i Serie B</td>\n",
       "      <td>Ternana bekræfter, at Serie B-klubben henter d...</td>\n",
       "      <td>2021-08-05 08:50</td>\n",
       "    </tr>\n",
       "    <tr>\n",
       "      <th>4</th>\n",
       "      <td>Avis: Brasiliansk spids er nu enig med FCM</td>\n",
       "      <td>Den brasilianske angriber Marrony er nu angive...</td>\n",
       "      <td>2021-08-05 08:43</td>\n",
       "    </tr>\n",
       "    <tr>\n",
       "      <th>5</th>\n",
       "      <td>Strandby tror på mirakel: Skagen slog jo BIF</td>\n",
       "      <td>Serie 3-klubben Strandby-Elling-Nielstrup tror...</td>\n",
       "      <td>2021-08-05 08:25</td>\n",
       "    </tr>\n",
       "    <tr>\n",
       "      <th>6</th>\n",
       "      <td>Klubløs siden januar: Izunna tager til Finland</td>\n",
       "      <td>Den tidligere Superliga-spiller Izunna Uzochuk...</td>\n",
       "      <td>2021-08-05 08:11</td>\n",
       "    </tr>\n",
       "    <tr>\n",
       "      <th>7</th>\n",
       "      <td>Klitten var ombejlet: Frosinone er det rigtige</td>\n",
       "      <td>Lukas Klitten fortæller, at han havde flere ti...</td>\n",
       "      <td>2021-08-05 07:40</td>\n",
       "    </tr>\n",
       "    <tr>\n",
       "      <th>8</th>\n",
       "      <td>Medie: Lyngby henter islandsk angriber</td>\n",
       "      <td>Lyngby henter angiveligt den islandske angribe...</td>\n",
       "      <td>2021-08-05 07:17</td>\n",
       "    </tr>\n",
       "    <tr>\n",
       "      <th>9</th>\n",
       "      <td>Skuffet Zagreb-dansker: Var bedre end Legia</td>\n",
       "      <td>Dinamo Zagreb-danskeren Rasmus Lauritsen er sk...</td>\n",
       "      <td>2021-08-05 07:05</td>\n",
       "    </tr>\n",
       "  </tbody>\n",
       "</table>\n",
       "</div>"
      ],
      "text/plain": [
       "                                             title  \\\n",
       "0     Saints om Ings-skifte: Vi får en masse penge   \n",
       "1   Emil Nielsen lavede fire: Slet ingen arrogance   \n",
       "2  Tårnby-træner hylder vildt mål: Helt vanvittigt   \n",
       "3  Officielt: Frederik Sørensen på plads i Serie B   \n",
       "4       Avis: Brasiliansk spids er nu enig med FCM   \n",
       "5     Strandby tror på mirakel: Skagen slog jo BIF   \n",
       "6   Klubløs siden januar: Izunna tager til Finland   \n",
       "7   Klitten var ombejlet: Frosinone er det rigtige   \n",
       "8           Medie: Lyngby henter islandsk angriber   \n",
       "9      Skuffet Zagreb-dansker: Var bedre end Legia   \n",
       "\n",
       "                                                lead              time  \n",
       "0  Selv om Southampton gerne ville have forlænget...  2021-08-05 09:54  \n",
       "1  Emil Nielsen scorede fire mål i Lyngbys 9-0-po...  2021-08-05 09:35  \n",
       "2  Tårnby FF-træner Timos Adraktas storroser Patr...  2021-08-05 09:12  \n",
       "3  Ternana bekræfter, at Serie B-klubben henter d...  2021-08-05 08:50  \n",
       "4  Den brasilianske angriber Marrony er nu angive...  2021-08-05 08:43  \n",
       "5  Serie 3-klubben Strandby-Elling-Nielstrup tror...  2021-08-05 08:25  \n",
       "6  Den tidligere Superliga-spiller Izunna Uzochuk...  2021-08-05 08:11  \n",
       "7  Lukas Klitten fortæller, at han havde flere ti...  2021-08-05 07:40  \n",
       "8  Lyngby henter angiveligt den islandske angribe...  2021-08-05 07:17  \n",
       "9  Dinamo Zagreb-danskeren Rasmus Lauritsen er sk...  2021-08-05 07:05  "
      ]
     },
     "execution_count": 32,
     "metadata": {},
     "output_type": "execute_result"
    }
   ],
   "source": [
    "import pandas as pd\n",
    "df = pd.DataFrame({'title':h1_list, 'lead':lead, 'time':time_posted})\n",
    "df"
   ]
  },
  {
   "cell_type": "code",
   "execution_count": 147,
   "metadata": {
    "scrolled": false
   },
   "outputs": [
    {
     "data": {
      "text/html": [
       "<div>\n",
       "<style scoped>\n",
       "    .dataframe tbody tr th:only-of-type {\n",
       "        vertical-align: middle;\n",
       "    }\n",
       "\n",
       "    .dataframe tbody tr th {\n",
       "        vertical-align: top;\n",
       "    }\n",
       "\n",
       "    .dataframe thead th {\n",
       "        text-align: right;\n",
       "    }\n",
       "</style>\n",
       "<table border=\"1\" class=\"dataframe\">\n",
       "  <thead>\n",
       "    <tr style=\"text-align: right;\">\n",
       "      <th></th>\n",
       "      <th>title</th>\n",
       "      <th>lead</th>\n",
       "      <th>time</th>\n",
       "    </tr>\n",
       "  </thead>\n",
       "  <tbody>\n",
       "    <tr>\n",
       "      <th>0</th>\n",
       "      <td>PSV-anfører vil ikke kalde FCM en walkover</td>\n",
       "      <td>PSV-anfører Marco van Ginkel vil ikke kalde ka...</td>\n",
       "      <td>2021-08-03 22:30</td>\n",
       "    </tr>\n",
       "    <tr>\n",
       "      <th>1</th>\n",
       "      <td>Gerrard om overtidsmål: Et kæmpe øjeblik</td>\n",
       "      <td>Rangers-manager Steven Gerrard nød at se holde...</td>\n",
       "      <td>2021-08-03 22:06</td>\n",
       "    </tr>\n",
       "    <tr>\n",
       "      <th>2</th>\n",
       "      <td>Onuachu scorede forgæves i Shakhtar-triumf</td>\n",
       "      <td>Paul Onuachu bragte Genk foran, men det var ik...</td>\n",
       "      <td>2021-08-03 21:55</td>\n",
       "    </tr>\n",
       "    <tr>\n",
       "      <th>3</th>\n",
       "      <td>PSV blæste decimerede FCM omkuld</td>\n",
       "      <td>PSV satte et afbudsramt FC Midtjylland-hold på...</td>\n",
       "      <td>2021-08-03 21:52</td>\n",
       "    </tr>\n",
       "    <tr>\n",
       "      <th>4</th>\n",
       "      <td>SLUT: PSV - FCM minut for minut</td>\n",
       "      <td>FC Midtjylland er uden flere profiler, når hol...</td>\n",
       "      <td>2021-08-03 21:47</td>\n",
       "    </tr>\n",
       "    <tr>\n",
       "      <th>5</th>\n",
       "      <td>Ajax belønner 18-årig dansker med ny aftale</td>\n",
       "      <td>Ajax har forlænget kontrakten med deres unge d...</td>\n",
       "      <td>2021-08-03 21:22</td>\n",
       "    </tr>\n",
       "    <tr>\n",
       "      <th>6</th>\n",
       "      <td>Overblik: Disse hold er videre i pokalen</td>\n",
       "      <td>Her får du overblikket over alle tirsdagens re...</td>\n",
       "      <td>2021-08-03 21:10</td>\n",
       "    </tr>\n",
       "    <tr>\n",
       "      <th>7</th>\n",
       "      <td>Fredericia er videre efter vildt pokal-drama</td>\n",
       "      <td>FC Fredericia er videre til anden runde i Sydb...</td>\n",
       "      <td>2021-08-03 20:59</td>\n",
       "    </tr>\n",
       "    <tr>\n",
       "      <th>8</th>\n",
       "      <td>Malmö-triumf: Rieks og AC dukkede Rangers</td>\n",
       "      <td>Søren Rieks scorede, og Anders Christiansen as...</td>\n",
       "      <td>2021-08-03 20:53</td>\n",
       "    </tr>\n",
       "    <tr>\n",
       "      <th>9</th>\n",
       "      <td>PL-klubber fortsætter knælen i ny sæson</td>\n",
       "      <td>De 20 Premier League-klubber er blevet enige o...</td>\n",
       "      <td>2021-08-03 20:28</td>\n",
       "    </tr>\n",
       "  </tbody>\n",
       "</table>\n",
       "</div>"
      ],
      "text/plain": [
       "                                          title  \\\n",
       "0    PSV-anfører vil ikke kalde FCM en walkover   \n",
       "1      Gerrard om overtidsmål: Et kæmpe øjeblik   \n",
       "2    Onuachu scorede forgæves i Shakhtar-triumf   \n",
       "3              PSV blæste decimerede FCM omkuld   \n",
       "4               SLUT: PSV - FCM minut for minut   \n",
       "5   Ajax belønner 18-årig dansker med ny aftale   \n",
       "6      Overblik: Disse hold er videre i pokalen   \n",
       "7  Fredericia er videre efter vildt pokal-drama   \n",
       "8     Malmö-triumf: Rieks og AC dukkede Rangers   \n",
       "9       PL-klubber fortsætter knælen i ny sæson   \n",
       "\n",
       "                                                lead              time  \n",
       "0  PSV-anfører Marco van Ginkel vil ikke kalde ka...  2021-08-03 22:30  \n",
       "1  Rangers-manager Steven Gerrard nød at se holde...  2021-08-03 22:06  \n",
       "2  Paul Onuachu bragte Genk foran, men det var ik...  2021-08-03 21:55  \n",
       "3  PSV satte et afbudsramt FC Midtjylland-hold på...  2021-08-03 21:52  \n",
       "4  FC Midtjylland er uden flere profiler, når hol...  2021-08-03 21:47  \n",
       "5  Ajax har forlænget kontrakten med deres unge d...  2021-08-03 21:22  \n",
       "6  Her får du overblikket over alle tirsdagens re...  2021-08-03 21:10  \n",
       "7  FC Fredericia er videre til anden runde i Sydb...  2021-08-03 20:59  \n",
       "8  Søren Rieks scorede, og Anders Christiansen as...  2021-08-03 20:53  \n",
       "9  De 20 Premier League-klubber er blevet enige o...  2021-08-03 20:28  "
      ]
     },
     "execution_count": 147,
     "metadata": {},
     "output_type": "execute_result"
    }
   ],
   "source": [
    "# saving df\n",
    "df.to_csv('df_bold.dk.csv')\n",
    "\n",
    "# loading df\n",
    "pd.read_csv('df_bold.dk.csv', index_col=0)"
   ]
  },
  {
   "cell_type": "markdown",
   "metadata": {
    "ExecuteTime": {
     "end_time": "2017-08-23T15:30:03.634114Z",
     "start_time": "2017-08-23T15:30:03.629294Z"
    }
   },
   "source": [
    "# Exercise Set 7: Web Scraping 2\n",
    "\n",
    "In this Exercise Set we shall develop our webscraping skills even further by practicing **parsing** and navigating html trees using `BeautifoulSoup` and furthermore train extracting information from raw text with no html tags to help, using regular expressions. \n",
    "\n",
    "But just as importantly you will get a chance to think about **data quality issues** and how to ensure reliability when curating your own webdata. "
   ]
  },
  {
   "cell_type": "markdown",
   "metadata": {},
   "source": [
    "## Exercise Section 7.1: Logging and data quality\n",
    "\n",
    "> **Ex. 7.1.1:** *`Why` is it important to log processes in your data collection?*\n",
    "\n"
   ]
  },
  {
   "cell_type": "markdown",
   "metadata": {},
   "source": [
    "> **Ex. 7.1.2:**\n",
    "*`How` does logging help with both ensuring and documenting the quality of your data?*\n"
   ]
  },
  {
   "cell_type": "markdown",
   "metadata": {},
   "source": [
    "## Exercise Section 7.2: Parsing a Table from HTML using BeautifulSoup.\n",
    "\n",
    "In module_6 I showed you a neat little prepackaged function in pandas that did all the work. However today we should learn the mechanics of it. *(It is not just for educational purposes, sometimes the package will not do exactly as you want.)*\n",
    "\n",
    "We hit the Basketball stats page from yesterday again: https://www.basketball-reference.com/leagues/NBA_2018.html.\n"
   ]
  },
  {
   "cell_type": "markdown",
   "metadata": {},
   "source": [
    "> **Ex. 7.2.1:** Here we practice simply locating the table node of interest using the `find` method build into BeautifoulSoup. But first we have to fetch the HTML using the `requests` module. Parse the tree using `BeautifulSoup`. And then use the **>Inspector<** tool (* right click on the table < press inspect element *) in your browser to see how to locate the Eastern Conference table node - i.e. the *tag* name of the node, and maybe some defining *attributes*."
   ]
  },
  {
   "cell_type": "code",
   "execution_count": 166,
   "metadata": {},
   "outputs": [],
   "source": [
    "url = 'https://www.basketball-reference.com/leagues/NBA_2018.html'\n",
    "response = requests.get(url)\n",
    "soup = BeautifulSoup(response.text,'lxml')"
   ]
  },
  {
   "cell_type": "code",
   "execution_count": 248,
   "metadata": {},
   "outputs": [
    {
     "data": {
      "text/plain": [
       "<caption>Conference Standings Table</caption>"
      ]
     },
     "execution_count": 248,
     "metadata": {},
     "output_type": "execute_result"
    }
   ],
   "source": [
    "#soup.find_all('table')[0].find('caption')"
   ]
  },
  {
   "cell_type": "code",
   "execution_count": 231,
   "metadata": {},
   "outputs": [
    {
     "data": {
      "text/plain": [
       "'Conference Standings Table'"
      ]
     },
     "execution_count": 231,
     "metadata": {},
     "output_type": "execute_result"
    }
   ],
   "source": [
    "#conf_E = soup.find('div',{'id':'div_confs_standings_E'})\n",
    "conf_E=soup.find_all('table')[0]"
   ]
  },
  {
   "cell_type": "code",
   "execution_count": 240,
   "metadata": {},
   "outputs": [
    {
     "data": {
      "text/plain": [
       "'Atlanta Hawks'"
      ]
     },
     "execution_count": 240,
     "metadata": {},
     "output_type": "execute_result"
    }
   ],
   "source": [
    "conf_E.find_all('th',{'data-stat':'team_name'})[15].text"
   ]
  },
  {
   "cell_type": "code",
   "execution_count": 108,
   "metadata": {},
   "outputs": [],
   "source": [
    "#conf_E.find_all('th')"
   ]
  },
  {
   "cell_type": "code",
   "execution_count": 315,
   "metadata": {},
   "outputs": [
    {
     "data": {
      "text/plain": [
       "['Eastern Conference', 'W', 'L', 'W/L%', 'GB', 'PS/G', 'PA/G', 'SRS']"
      ]
     },
     "execution_count": 315,
     "metadata": {},
     "output_type": "execute_result"
    }
   ],
   "source": [
    "COLS = []\n",
    "for i in range(len(conf_E.find_all('th',{'scope' : 'col'}))):\n",
    "    COLS.append(conf_E.find_all('th',{'scope' : 'col'})[i].text)\n",
    "COLS"
   ]
  },
  {
   "cell_type": "code",
   "execution_count": 202,
   "metadata": {},
   "outputs": [
    {
     "data": {
      "text/plain": [
       "<tr class=\"full_table\"><th class=\"left\" data-stat=\"team_name\" scope=\"row\"><a href=\"/teams/TOR/2018.html\">Toronto Raptors</a>*</th><td class=\"right\" data-stat=\"wins\">59</td><td class=\"right\" data-stat=\"losses\">23</td><td class=\"right\" data-stat=\"win_loss_pct\">.720</td><td class=\"right\" data-stat=\"gb\">—</td><td class=\"right\" data-stat=\"pts_per_g\">111.7</td><td class=\"right\" data-stat=\"opp_pts_per_g\">103.9</td><td class=\"right\" data-stat=\"srs\">7.29</td></tr>"
      ]
     },
     "execution_count": 202,
     "metadata": {},
     "output_type": "execute_result"
    }
   ],
   "source": [
    "conf_E.find_all('tr',{'class':'full_table'})[0]"
   ]
  },
  {
   "cell_type": "code",
   "execution_count": 219,
   "metadata": {},
   "outputs": [],
   "source": [
    "wins =[]\n",
    "losses = []\n",
    "winLossPerc = []\n",
    "gamesBehind = []\n",
    "PPG = []\n",
    "opponentPPG = []\n",
    "SimpeRS = []\n",
    "table = conf_E.find_all('tr',{'class':'full_table'})\n",
    "for i in range(len(table)):\n",
    "    wins.append(table[i].find_all('td')[0].text)\n",
    "    losses.append(table[i].find_all('td')[1].text)\n",
    "    winLossPerc.append(table[i].find_all('td')[2].text)\n",
    "    gamesBehind.append(table[i].find_all('td')[3].text)\n",
    "    PPG.append(table[i].find_all('td')[4].text)\n",
    "    opponentPPG.append(table[i].find_all('td')[5].text)\n",
    "    SimpeRS.append(table[i].find_all('td')[6].text)\n",
    "#conf_E.find_all('tr',{'class':'full_table'})[0]#.find_all('td')#[0]"
   ]
  },
  {
   "cell_type": "code",
   "execution_count": 155,
   "metadata": {},
   "outputs": [
    {
     "data": {
      "text/plain": [
       "'23'"
      ]
     },
     "execution_count": 155,
     "metadata": {},
     "output_type": "execute_result"
    }
   ],
   "source": [
    "conf_E.find_all('tr',{'class':'full_table'})[0].find_all('td')[1].text\n",
    "table[0].find_all('td')[1].text"
   ]
  },
  {
   "cell_type": "code",
   "execution_count": 220,
   "metadata": {},
   "outputs": [
    {
     "data": {
      "text/html": [
       "<div>\n",
       "<style scoped>\n",
       "    .dataframe tbody tr th:only-of-type {\n",
       "        vertical-align: middle;\n",
       "    }\n",
       "\n",
       "    .dataframe tbody tr th {\n",
       "        vertical-align: top;\n",
       "    }\n",
       "\n",
       "    .dataframe thead th {\n",
       "        text-align: right;\n",
       "    }\n",
       "</style>\n",
       "<table border=\"1\" class=\"dataframe\">\n",
       "  <thead>\n",
       "    <tr style=\"text-align: right;\">\n",
       "      <th></th>\n",
       "      <th>Wins</th>\n",
       "      <th>Losses</th>\n",
       "      <th>Win-Loss Percentage</th>\n",
       "      <th>Games Behind</th>\n",
       "      <th>Points Per Game</th>\n",
       "      <th>Opponent Points Per Game</th>\n",
       "      <th>Simple Rating System</th>\n",
       "    </tr>\n",
       "  </thead>\n",
       "  <tbody>\n",
       "    <tr>\n",
       "      <th>0</th>\n",
       "      <td>59</td>\n",
       "      <td>23</td>\n",
       "      <td>.720</td>\n",
       "      <td>—</td>\n",
       "      <td>111.7</td>\n",
       "      <td>103.9</td>\n",
       "      <td>7.29</td>\n",
       "    </tr>\n",
       "    <tr>\n",
       "      <th>1</th>\n",
       "      <td>55</td>\n",
       "      <td>27</td>\n",
       "      <td>.671</td>\n",
       "      <td>4.0</td>\n",
       "      <td>104.0</td>\n",
       "      <td>100.4</td>\n",
       "      <td>3.23</td>\n",
       "    </tr>\n",
       "    <tr>\n",
       "      <th>2</th>\n",
       "      <td>52</td>\n",
       "      <td>30</td>\n",
       "      <td>.634</td>\n",
       "      <td>7.0</td>\n",
       "      <td>109.8</td>\n",
       "      <td>105.3</td>\n",
       "      <td>4.30</td>\n",
       "    </tr>\n",
       "    <tr>\n",
       "      <th>3</th>\n",
       "      <td>29</td>\n",
       "      <td>53</td>\n",
       "      <td>.354</td>\n",
       "      <td>30.0</td>\n",
       "      <td>104.5</td>\n",
       "      <td>108.0</td>\n",
       "      <td>-3.53</td>\n",
       "    </tr>\n",
       "    <tr>\n",
       "      <th>4</th>\n",
       "      <td>28</td>\n",
       "      <td>54</td>\n",
       "      <td>.341</td>\n",
       "      <td>31.0</td>\n",
       "      <td>106.6</td>\n",
       "      <td>110.3</td>\n",
       "      <td>-3.67</td>\n",
       "    </tr>\n",
       "    <tr>\n",
       "      <th>5</th>\n",
       "      <td>50</td>\n",
       "      <td>32</td>\n",
       "      <td>.610</td>\n",
       "      <td>—</td>\n",
       "      <td>110.9</td>\n",
       "      <td>109.9</td>\n",
       "      <td>0.59</td>\n",
       "    </tr>\n",
       "    <tr>\n",
       "      <th>6</th>\n",
       "      <td>48</td>\n",
       "      <td>34</td>\n",
       "      <td>.585</td>\n",
       "      <td>2.0</td>\n",
       "      <td>105.6</td>\n",
       "      <td>104.2</td>\n",
       "      <td>1.18</td>\n",
       "    </tr>\n",
       "    <tr>\n",
       "      <th>7</th>\n",
       "      <td>44</td>\n",
       "      <td>38</td>\n",
       "      <td>.537</td>\n",
       "      <td>6.0</td>\n",
       "      <td>106.5</td>\n",
       "      <td>106.8</td>\n",
       "      <td>-0.45</td>\n",
       "    </tr>\n",
       "    <tr>\n",
       "      <th>8</th>\n",
       "      <td>39</td>\n",
       "      <td>43</td>\n",
       "      <td>.476</td>\n",
       "      <td>11.0</td>\n",
       "      <td>103.8</td>\n",
       "      <td>103.9</td>\n",
       "      <td>-0.26</td>\n",
       "    </tr>\n",
       "    <tr>\n",
       "      <th>9</th>\n",
       "      <td>27</td>\n",
       "      <td>55</td>\n",
       "      <td>.329</td>\n",
       "      <td>23.0</td>\n",
       "      <td>102.9</td>\n",
       "      <td>110.0</td>\n",
       "      <td>-6.84</td>\n",
       "    </tr>\n",
       "    <tr>\n",
       "      <th>10</th>\n",
       "      <td>44</td>\n",
       "      <td>38</td>\n",
       "      <td>.537</td>\n",
       "      <td>—</td>\n",
       "      <td>103.4</td>\n",
       "      <td>102.9</td>\n",
       "      <td>0.15</td>\n",
       "    </tr>\n",
       "    <tr>\n",
       "      <th>11</th>\n",
       "      <td>43</td>\n",
       "      <td>39</td>\n",
       "      <td>.524</td>\n",
       "      <td>1.0</td>\n",
       "      <td>106.6</td>\n",
       "      <td>106.0</td>\n",
       "      <td>0.53</td>\n",
       "    </tr>\n",
       "    <tr>\n",
       "      <th>12</th>\n",
       "      <td>36</td>\n",
       "      <td>46</td>\n",
       "      <td>.439</td>\n",
       "      <td>8.0</td>\n",
       "      <td>108.2</td>\n",
       "      <td>108.0</td>\n",
       "      <td>0.07</td>\n",
       "    </tr>\n",
       "    <tr>\n",
       "      <th>13</th>\n",
       "      <td>25</td>\n",
       "      <td>57</td>\n",
       "      <td>.305</td>\n",
       "      <td>19.0</td>\n",
       "      <td>103.4</td>\n",
       "      <td>108.2</td>\n",
       "      <td>-4.92</td>\n",
       "    </tr>\n",
       "    <tr>\n",
       "      <th>14</th>\n",
       "      <td>24</td>\n",
       "      <td>58</td>\n",
       "      <td>.293</td>\n",
       "      <td>20.0</td>\n",
       "      <td>103.4</td>\n",
       "      <td>108.8</td>\n",
       "      <td>-5.30</td>\n",
       "    </tr>\n",
       "  </tbody>\n",
       "</table>\n",
       "</div>"
      ],
      "text/plain": [
       "   Wins Losses Win-Loss Percentage Games Behind Points Per Game  \\\n",
       "0    59     23                .720            —           111.7   \n",
       "1    55     27                .671          4.0           104.0   \n",
       "2    52     30                .634          7.0           109.8   \n",
       "3    29     53                .354         30.0           104.5   \n",
       "4    28     54                .341         31.0           106.6   \n",
       "5    50     32                .610            —           110.9   \n",
       "6    48     34                .585          2.0           105.6   \n",
       "7    44     38                .537          6.0           106.5   \n",
       "8    39     43                .476         11.0           103.8   \n",
       "9    27     55                .329         23.0           102.9   \n",
       "10   44     38                .537            —           103.4   \n",
       "11   43     39                .524          1.0           106.6   \n",
       "12   36     46                .439          8.0           108.2   \n",
       "13   25     57                .305         19.0           103.4   \n",
       "14   24     58                .293         20.0           103.4   \n",
       "\n",
       "   Opponent Points Per Game Simple Rating System  \n",
       "0                     103.9                 7.29  \n",
       "1                     100.4                 3.23  \n",
       "2                     105.3                 4.30  \n",
       "3                     108.0                -3.53  \n",
       "4                     110.3                -3.67  \n",
       "5                     109.9                 0.59  \n",
       "6                     104.2                 1.18  \n",
       "7                     106.8                -0.45  \n",
       "8                     103.9                -0.26  \n",
       "9                     110.0                -6.84  \n",
       "10                    102.9                 0.15  \n",
       "11                    106.0                 0.53  \n",
       "12                    108.0                 0.07  \n",
       "13                    108.2                -4.92  \n",
       "14                    108.8                -5.30  "
      ]
     },
     "execution_count": 220,
     "metadata": {},
     "output_type": "execute_result"
    }
   ],
   "source": [
    "import pandas as pd\n",
    "df = pd.DataFrame({COLS[1]:wins, COLS[2]:losses, COLS[3]:winLossPerc,\\\n",
    "                   COLS[4]:gamesBehind, COLS[5]:PPG, COLS[6]:opponentPPG, COLS[7]:SimpeRS})\n",
    "df"
   ]
  },
  {
   "cell_type": "markdown",
   "metadata": {},
   "source": [
    "You have located the table should now build a function that starts at a \"table node\" and parses the information, and outputs a pandas DataFrame. \n",
    "\n",
    "Inspect the element either within the notebook or through the **>Inspector<** tool and start to see how a table is written in html. Which tag names can be used to locate rows? How will you iterate through columns. Were is the header located?\n",
    "\n",
    "> **Ex. 7.2.2:** First you parse the header which can be found in the canonical tag name: thead. \n",
    "Next you use the `find_all` method to search for the tag, and iterate through each of the elements extracting the text, using the `.text` method builtin to the the node object. Store the header values in a list container. \n",
    "\n",
    "> **Ex. 7.2.3:** Next you locate the rows, using the canonical tag name: tbody. And from here you search for all rows tags. Fiugre out the tag name yourself, inspecting the tbody node in python or using the **Inspector**. \n",
    "\n",
    "> **Ex. 7.2.4:** Next run through all the rows and extract each value, similar to how you extracted the header. However here is a slight variation: Since each value node can have a different tag depending on whether it is a digit or a string, you should use the `.children` method instead of the `.find_all` - (or write compile a regex that matches both the td tag and the th tag.) \n",
    ">Once the value nodes of each row has been located using the `.children` method you should extract the value. Store the extracted rows as a list of lists: ```[[val1,val2,...valk],...]```"
   ]
  },
  {
   "cell_type": "code",
   "execution_count": 320,
   "metadata": {},
   "outputs": [
    {
     "ename": "SyntaxError",
     "evalue": "invalid syntax (<ipython-input-320-f40999d0368c>, line 13)",
     "output_type": "error",
     "traceback": [
      "\u001b[1;36m  File \u001b[1;32m\"<ipython-input-320-f40999d0368c>\"\u001b[1;36m, line \u001b[1;32m13\u001b[0m\n\u001b[1;33m    '%s_values'colNames[%i] = []\u001b[0m\n\u001b[1;37m               ^\u001b[0m\n\u001b[1;31mSyntaxError\u001b[0m\u001b[1;31m:\u001b[0m invalid syntax\n"
     ]
    }
   ],
   "source": [
    "tables = soup.find_all('table')\n",
    "def create_table(arg):\n",
    "    if arg < 0 or arg >12:\n",
    "        print('index out of range')\n",
    "    else:\n",
    "        table = soup.find_all('table')[arg]\n",
    "        header = table.find('caption').text\n",
    "        nr_col = len(table.find_all('col'))\n",
    "        colNames = []\n",
    "        for i in range(nr_col):\n",
    "            colNames.append(table.find_all('th',{'scope':'col'})[i].text)\n",
    "            if i > 0:\n",
    "                '%s_values'colNames[%i] = []\n",
    "        \n",
    "    return('hej')\n"
   ]
  },
  {
   "cell_type": "code",
   "execution_count": 311,
   "metadata": {},
   "outputs": [],
   "source": [
    "#tables[0].find_all('tr',{'class':'full_table'})"
   ]
  },
  {
   "cell_type": "code",
   "execution_count": 313,
   "metadata": {},
   "outputs": [
    {
     "data": {
      "text/plain": [
       "<table class=\"stats_table sortable\" data-cols-to-freeze=\",2\" id=\"totals-team\"> <caption>Total Stats Table</caption> <colgroup><col/><col/><col/><col/><col/><col/><col/><col/><col/><col/><col/><col/><col/><col/><col/><col/><col/><col/><col/><col/><col/><col/><col/><col/><col/></colgroup> <thead> <tr> <th aria-label=\"Rank\" class=\"ranker poptip sort_default_asc show_partial_when_sorting center\" data-stat=\"ranker\" data-tip=\"Rank\" scope=\"col\">Rk</th> <th aria-label=\"team\" class=\"poptip center\" data-stat=\"team\" scope=\"col\">Team</th> <th aria-label=\"Games\" class=\"poptip center\" data-stat=\"g\" data-tip=\"Games\" scope=\"col\">G</th> <th aria-label=\"Minutes Played\" class=\"poptip center\" data-stat=\"mp\" data-tip=\"Minutes Played\" scope=\"col\">MP</th> <th aria-label=\"Field Goals\" class=\"poptip center\" data-stat=\"fg\" data-tip=\"Field Goals\" scope=\"col\">FG</th> <th aria-label=\"Field Goal Attempts\" class=\"poptip center\" data-stat=\"fga\" data-tip=\"Field Goal Attempts\" scope=\"col\">FGA</th> <th aria-label=\"Field Goal Percentage\" class=\"poptip center\" data-stat=\"fg_pct\" data-tip=\"Field Goal Percentage\" scope=\"col\">FG%</th> <th aria-label=\"3-Point Field Goals\" class=\"poptip center\" data-stat=\"fg3\" data-tip=\"3-Point Field Goals\" scope=\"col\">3P</th> <th aria-label=\"3-Point Field Goal Attempts\" class=\"poptip center\" data-stat=\"fg3a\" data-tip=\"3-Point Field Goal Attempts\" scope=\"col\">3PA</th> <th aria-label=\"3-Point Field Goal Percentage\" class=\"poptip center\" data-stat=\"fg3_pct\" data-tip=\"3-Point Field Goal Percentage\" scope=\"col\">3P%</th> <th aria-label=\"2-Point Field Goals\" class=\"poptip center\" data-stat=\"fg2\" data-tip=\"2-Point Field Goals\" scope=\"col\">2P</th> <th aria-label=\"2-point Field Goal Attempts\" class=\"poptip center\" data-stat=\"fg2a\" data-tip=\"2-point Field Goal Attempts\" scope=\"col\">2PA</th> <th aria-label=\"2-Point Field Goal Percentage\" class=\"poptip center\" data-stat=\"fg2_pct\" data-tip=\"2-Point Field Goal Percentage\" scope=\"col\">2P%</th> <th aria-label=\"Free Throws\" class=\"poptip center\" data-stat=\"ft\" data-tip=\"Free Throws\" scope=\"col\">FT</th> <th aria-label=\"Free Throw Attempts\" class=\"poptip center\" data-stat=\"fta\" data-tip=\"Free Throw Attempts\" scope=\"col\">FTA</th> <th aria-label=\"Free Throw Percentage\" class=\"poptip center\" data-stat=\"ft_pct\" data-tip=\"Free Throw Percentage\" scope=\"col\">FT%</th> <th aria-label=\"Offensive Rebounds\" class=\"poptip center\" data-stat=\"orb\" data-tip=\"Offensive Rebounds\" scope=\"col\">ORB</th> <th aria-label=\"Defensive Rebounds\" class=\"poptip center\" data-stat=\"drb\" data-tip=\"Defensive Rebounds\" scope=\"col\">DRB</th> <th aria-label=\"Total Rebounds\" class=\"poptip center\" data-stat=\"trb\" data-tip=\"Total Rebounds\" scope=\"col\">TRB</th> <th aria-label=\"Assists\" class=\"poptip center\" data-stat=\"ast\" data-tip=\"Assists\" scope=\"col\">AST</th> <th aria-label=\"Steals\" class=\"poptip center\" data-stat=\"stl\" data-tip=\"Steals\" scope=\"col\">STL</th> <th aria-label=\"Blocks\" class=\"poptip center\" data-stat=\"blk\" data-tip=\"Blocks\" scope=\"col\">BLK</th> <th aria-label=\"Turnovers\" class=\"poptip center\" data-stat=\"tov\" data-tip=\"Turnovers\" scope=\"col\">TOV</th> <th aria-label=\"Personal Fouls\" class=\"poptip center\" data-stat=\"pf\" data-tip=\"Personal Fouls\" scope=\"col\">PF</th> <th aria-label=\"Points\" class=\"poptip center\" data-stat=\"pts\" data-tip=\"Points\" scope=\"col\">PTS</th> </tr> </thead> <tbody> <tr><th class=\"right\" data-stat=\"ranker\" scope=\"row\">1</th><td class=\"left\" data-stat=\"team\"><a href=\"/teams/GSW/2018.html\">Golden State Warriors</a>*</td><td class=\"right\" data-stat=\"g\">82</td><td class=\"right\" data-stat=\"mp\">19730</td><td class=\"right\" data-stat=\"fg\">3509</td><td class=\"right\" data-stat=\"fga\">6981</td><td class=\"right\" data-stat=\"fg_pct\">.503</td><td class=\"right\" data-stat=\"fg3\">926</td><td class=\"right\" data-stat=\"fg3a\">2370</td><td class=\"right\" data-stat=\"fg3_pct\">.391</td><td class=\"right\" data-stat=\"fg2\">2583</td><td class=\"right\" data-stat=\"fg2a\">4611</td><td class=\"right\" data-stat=\"fg2_pct\">.560</td><td class=\"right\" data-stat=\"ft\">1360</td><td class=\"right\" data-stat=\"fta\">1668</td><td class=\"right\" data-stat=\"ft_pct\">.815</td><td class=\"right\" data-stat=\"orb\">691</td><td class=\"right\" data-stat=\"drb\">2877</td><td class=\"right\" data-stat=\"trb\">3568</td><td class=\"right\" data-stat=\"ast\">2402</td><td class=\"right\" data-stat=\"stl\">656</td><td class=\"right\" data-stat=\"blk\">612</td><td class=\"right\" data-stat=\"tov\">1267</td><td class=\"right\" data-stat=\"pf\">1607</td><td class=\"right\" data-stat=\"pts\">9304</td></tr> <tr><th class=\"right\" data-stat=\"ranker\" scope=\"row\">2</th><td class=\"left\" data-stat=\"team\"><a href=\"/teams/HOU/2018.html\">Houston Rockets</a>*</td><td class=\"right\" data-stat=\"g\">82</td><td class=\"right\" data-stat=\"mp\">19755</td><td class=\"right\" data-stat=\"fg\">3174</td><td class=\"right\" data-stat=\"fga\">6906</td><td class=\"right\" data-stat=\"fg_pct\">.460</td><td class=\"right\" data-stat=\"fg3\">1256</td><td class=\"right\" data-stat=\"fg3a\">3470</td><td class=\"right\" data-stat=\"fg3_pct\">.362</td><td class=\"right\" data-stat=\"fg2\">1918</td><td class=\"right\" data-stat=\"fg2a\">3436</td><td class=\"right\" data-stat=\"fg2_pct\">.558</td><td class=\"right\" data-stat=\"ft\">1609</td><td class=\"right\" data-stat=\"fta\">2061</td><td class=\"right\" data-stat=\"ft_pct\">.781</td><td class=\"right\" data-stat=\"orb\">739</td><td class=\"right\" data-stat=\"drb\">2825</td><td class=\"right\" data-stat=\"trb\">3564</td><td class=\"right\" data-stat=\"ast\">1767</td><td class=\"right\" data-stat=\"stl\">699</td><td class=\"right\" data-stat=\"blk\">392</td><td class=\"right\" data-stat=\"tov\">1135</td><td class=\"right\" data-stat=\"pf\">1597</td><td class=\"right\" data-stat=\"pts\">9213</td></tr> <tr><th class=\"right\" data-stat=\"ranker\" scope=\"row\">3</th><td class=\"left\" data-stat=\"team\"><a href=\"/teams/NOP/2018.html\">New Orleans Pelicans</a>*</td><td class=\"right\" data-stat=\"g\">82</td><td class=\"right\" data-stat=\"mp\">19955</td><td class=\"right\" data-stat=\"fg\">3500</td><td class=\"right\" data-stat=\"fga\">7241</td><td class=\"right\" data-stat=\"fg_pct\">.483</td><td class=\"right\" data-stat=\"fg3\">837</td><td class=\"right\" data-stat=\"fg3a\">2312</td><td class=\"right\" data-stat=\"fg3_pct\">.362</td><td class=\"right\" data-stat=\"fg2\">2663</td><td class=\"right\" data-stat=\"fg2a\">4929</td><td class=\"right\" data-stat=\"fg2_pct\">.540</td><td class=\"right\" data-stat=\"ft\">1324</td><td class=\"right\" data-stat=\"fta\">1716</td><td class=\"right\" data-stat=\"ft_pct\">.772</td><td class=\"right\" data-stat=\"orb\">712</td><td class=\"right\" data-stat=\"drb\">2924</td><td class=\"right\" data-stat=\"trb\">3636</td><td class=\"right\" data-stat=\"ast\">2195</td><td class=\"right\" data-stat=\"stl\">657</td><td class=\"right\" data-stat=\"blk\">485</td><td class=\"right\" data-stat=\"tov\">1223</td><td class=\"right\" data-stat=\"pf\">1570</td><td class=\"right\" data-stat=\"pts\">9161</td></tr> <tr><th class=\"right\" data-stat=\"ranker\" scope=\"row\">4</th><td class=\"left\" data-stat=\"team\"><a href=\"/teams/TOR/2018.html\">Toronto Raptors</a>*</td><td class=\"right\" data-stat=\"g\">82</td><td class=\"right\" data-stat=\"mp\">19830</td><td class=\"right\" data-stat=\"fg\">3383</td><td class=\"right\" data-stat=\"fga\">7169</td><td class=\"right\" data-stat=\"fg_pct\">.472</td><td class=\"right\" data-stat=\"fg3\">968</td><td class=\"right\" data-stat=\"fg3a\">2705</td><td class=\"right\" data-stat=\"fg3_pct\">.358</td><td class=\"right\" data-stat=\"fg2\">2415</td><td class=\"right\" data-stat=\"fg2a\">4464</td><td class=\"right\" data-stat=\"fg2_pct\">.541</td><td class=\"right\" data-stat=\"ft\">1422</td><td class=\"right\" data-stat=\"fta\">1790</td><td class=\"right\" data-stat=\"ft_pct\">.794</td><td class=\"right\" data-stat=\"orb\">800</td><td class=\"right\" data-stat=\"drb\">2807</td><td class=\"right\" data-stat=\"trb\">3607</td><td class=\"right\" data-stat=\"ast\">1995</td><td class=\"right\" data-stat=\"stl\">626</td><td class=\"right\" data-stat=\"blk\">500</td><td class=\"right\" data-stat=\"tov\">1095</td><td class=\"right\" data-stat=\"pf\">1783</td><td class=\"right\" data-stat=\"pts\">9156</td></tr> <tr><th class=\"right\" data-stat=\"ranker\" scope=\"row\">5</th><td class=\"left\" data-stat=\"team\"><a href=\"/teams/CLE/2018.html\">Cleveland Cavaliers</a>*</td><td class=\"right\" data-stat=\"g\">82</td><td class=\"right\" data-stat=\"mp\">19730</td><td class=\"right\" data-stat=\"fg\">3311</td><td class=\"right\" data-stat=\"fga\">6950</td><td class=\"right\" data-stat=\"fg_pct\">.476</td><td class=\"right\" data-stat=\"fg3\">981</td><td class=\"right\" data-stat=\"fg3a\">2636</td><td class=\"right\" data-stat=\"fg3_pct\">.372</td><td class=\"right\" data-stat=\"fg2\">2330</td><td class=\"right\" data-stat=\"fg2a\">4314</td><td class=\"right\" data-stat=\"fg2_pct\">.540</td><td class=\"right\" data-stat=\"ft\">1488</td><td class=\"right\" data-stat=\"fta\">1909</td><td class=\"right\" data-stat=\"ft_pct\">.779</td><td class=\"right\" data-stat=\"orb\">694</td><td class=\"right\" data-stat=\"drb\">2761</td><td class=\"right\" data-stat=\"trb\">3455</td><td class=\"right\" data-stat=\"ast\">1916</td><td class=\"right\" data-stat=\"stl\">582</td><td class=\"right\" data-stat=\"blk\">312</td><td class=\"right\" data-stat=\"tov\">1126</td><td class=\"right\" data-stat=\"pf\">1524</td><td class=\"right\" data-stat=\"pts\">9091</td></tr> <tr><th class=\"right\" data-stat=\"ranker\" scope=\"row\">6</th><td class=\"left\" data-stat=\"team\"><a href=\"/teams/DEN/2018.html\">Denver Nuggets</a></td><td class=\"right\" data-stat=\"g\">82</td><td class=\"right\" data-stat=\"mp\">19880</td><td class=\"right\" data-stat=\"fg\">3338</td><td class=\"right\" data-stat=\"fga\">7102</td><td class=\"right\" data-stat=\"fg_pct\">.470</td><td class=\"right\" data-stat=\"fg3\">940</td><td class=\"right\" data-stat=\"fg3a\">2536</td><td class=\"right\" data-stat=\"fg3_pct\">.371</td><td class=\"right\" data-stat=\"fg2\">2398</td><td class=\"right\" data-stat=\"fg2a\">4566</td><td class=\"right\" data-stat=\"fg2_pct\">.525</td><td class=\"right\" data-stat=\"ft\">1404</td><td class=\"right\" data-stat=\"fta\">1830</td><td class=\"right\" data-stat=\"ft_pct\">.767</td><td class=\"right\" data-stat=\"orb\">902</td><td class=\"right\" data-stat=\"drb\">2748</td><td class=\"right\" data-stat=\"trb\">3650</td><td class=\"right\" data-stat=\"ast\">2059</td><td class=\"right\" data-stat=\"stl\">627</td><td class=\"right\" data-stat=\"blk\">404</td><td class=\"right\" data-stat=\"tov\">1227</td><td class=\"right\" data-stat=\"pf\">1533</td><td class=\"right\" data-stat=\"pts\">9020</td></tr> <tr><th class=\"right\" data-stat=\"ranker\" scope=\"row\">7</th><td class=\"left\" data-stat=\"team\"><a href=\"/teams/PHI/2018.html\">Philadelphia 76ers</a>*</td><td class=\"right\" data-stat=\"g\">82</td><td class=\"right\" data-stat=\"mp\">19780</td><td class=\"right\" data-stat=\"fg\">3349</td><td class=\"right\" data-stat=\"fga\">7098</td><td class=\"right\" data-stat=\"fg_pct\">.472</td><td class=\"right\" data-stat=\"fg3\">901</td><td class=\"right\" data-stat=\"fg3a\">2445</td><td class=\"right\" data-stat=\"fg3_pct\">.369</td><td class=\"right\" data-stat=\"fg2\">2448</td><td class=\"right\" data-stat=\"fg2a\">4653</td><td class=\"right\" data-stat=\"fg2_pct\">.526</td><td class=\"right\" data-stat=\"ft\">1405</td><td class=\"right\" data-stat=\"fta\">1868</td><td class=\"right\" data-stat=\"ft_pct\">.752</td><td class=\"right\" data-stat=\"orb\">893</td><td class=\"right\" data-stat=\"drb\">2996</td><td class=\"right\" data-stat=\"trb\">3889</td><td class=\"right\" data-stat=\"ast\">2221</td><td class=\"right\" data-stat=\"stl\">682</td><td class=\"right\" data-stat=\"blk\">420</td><td class=\"right\" data-stat=\"tov\">1353</td><td class=\"right\" data-stat=\"pf\">1811</td><td class=\"right\" data-stat=\"pts\">9004</td></tr> <tr><th class=\"right\" data-stat=\"ranker\" scope=\"row\">8</th><td class=\"left\" data-stat=\"team\"><a href=\"/teams/MIN/2018.html\">Minnesota Timberwolves</a>*</td><td class=\"right\" data-stat=\"g\">82</td><td class=\"right\" data-stat=\"mp\">19805</td><td class=\"right\" data-stat=\"fg\">3365</td><td class=\"right\" data-stat=\"fga\">7063</td><td class=\"right\" data-stat=\"fg_pct\">.476</td><td class=\"right\" data-stat=\"fg3\">658</td><td class=\"right\" data-stat=\"fg3a\">1845</td><td class=\"right\" data-stat=\"fg3_pct\">.357</td><td class=\"right\" data-stat=\"fg2\">2707</td><td class=\"right\" data-stat=\"fg2a\">5218</td><td class=\"right\" data-stat=\"fg2_pct\">.519</td><td class=\"right\" data-stat=\"ft\">1592</td><td class=\"right\" data-stat=\"fta\">1980</td><td class=\"right\" data-stat=\"ft_pct\">.804</td><td class=\"right\" data-stat=\"orb\">848</td><td class=\"right\" data-stat=\"drb\">2593</td><td class=\"right\" data-stat=\"trb\">3441</td><td class=\"right\" data-stat=\"ast\">1861</td><td class=\"right\" data-stat=\"stl\">689</td><td class=\"right\" data-stat=\"blk\">345</td><td class=\"right\" data-stat=\"tov\">1021</td><td class=\"right\" data-stat=\"pf\">1495</td><td class=\"right\" data-stat=\"pts\">8980</td></tr> <tr><th class=\"right\" data-stat=\"ranker\" scope=\"row\">9</th><td class=\"left\" data-stat=\"team\"><a href=\"/teams/LAC/2018.html\">Los Angeles Clippers</a></td><td class=\"right\" data-stat=\"g\">82</td><td class=\"right\" data-stat=\"mp\">19705</td><td class=\"right\" data-stat=\"fg\">3302</td><td class=\"right\" data-stat=\"fga\">7004</td><td class=\"right\" data-stat=\"fg_pct\">.471</td><td class=\"right\" data-stat=\"fg3\">777</td><td class=\"right\" data-stat=\"fg3a\">2196</td><td class=\"right\" data-stat=\"fg3_pct\">.354</td><td class=\"right\" data-stat=\"fg2\">2525</td><td class=\"right\" data-stat=\"fg2a\">4808</td><td class=\"right\" data-stat=\"fg2_pct\">.525</td><td class=\"right\" data-stat=\"ft\">1556</td><td class=\"right\" data-stat=\"fta\">2095</td><td class=\"right\" data-stat=\"ft_pct\">.743</td><td class=\"right\" data-stat=\"orb\">832</td><td class=\"right\" data-stat=\"drb\">2766</td><td class=\"right\" data-stat=\"trb\">3598</td><td class=\"right\" data-stat=\"ast\">1832</td><td class=\"right\" data-stat=\"stl\">628</td><td class=\"right\" data-stat=\"blk\">373</td><td class=\"right\" data-stat=\"tov\">1204</td><td class=\"right\" data-stat=\"pf\">1638</td><td class=\"right\" data-stat=\"pts\">8937</td></tr> <tr><th class=\"right\" data-stat=\"ranker\" scope=\"row\">10</th><td class=\"left\" data-stat=\"team\"><a href=\"/teams/CHO/2018.html\">Charlotte Hornets</a></td><td class=\"right\" data-stat=\"g\">82</td><td class=\"right\" data-stat=\"mp\">19780</td><td class=\"right\" data-stat=\"fg\">3197</td><td class=\"right\" data-stat=\"fga\">7106</td><td class=\"right\" data-stat=\"fg_pct\">.450</td><td class=\"right\" data-stat=\"fg3\">824</td><td class=\"right\" data-stat=\"fg3a\">2233</td><td class=\"right\" data-stat=\"fg3_pct\">.369</td><td class=\"right\" data-stat=\"fg2\">2373</td><td class=\"right\" data-stat=\"fg2a\">4873</td><td class=\"right\" data-stat=\"fg2_pct\">.487</td><td class=\"right\" data-stat=\"ft\">1656</td><td class=\"right\" data-stat=\"fta\">2216</td><td class=\"right\" data-stat=\"ft_pct\">.747</td><td class=\"right\" data-stat=\"orb\">827</td><td class=\"right\" data-stat=\"drb\">2901</td><td class=\"right\" data-stat=\"trb\">3728</td><td class=\"right\" data-stat=\"ast\">1770</td><td class=\"right\" data-stat=\"stl\">559</td><td class=\"right\" data-stat=\"blk\">373</td><td class=\"right\" data-stat=\"tov\">1041</td><td class=\"right\" data-stat=\"pf\">1409</td><td class=\"right\" data-stat=\"pts\">8874</td></tr> <tr><th class=\"right\" data-stat=\"ranker\" scope=\"row\">11</th><td class=\"left\" data-stat=\"team\"><a href=\"/teams/LAL/2018.html\">Los Angeles Lakers</a></td><td class=\"right\" data-stat=\"g\">82</td><td class=\"right\" data-stat=\"mp\">19905</td><td class=\"right\" data-stat=\"fg\">3338</td><td class=\"right\" data-stat=\"fga\">7248</td><td class=\"right\" data-stat=\"fg_pct\">.461</td><td class=\"right\" data-stat=\"fg3\">822</td><td class=\"right\" data-stat=\"fg3a\">2384</td><td class=\"right\" data-stat=\"fg3_pct\">.345</td><td class=\"right\" data-stat=\"fg2\">2516</td><td class=\"right\" data-stat=\"fg2a\">4864</td><td class=\"right\" data-stat=\"fg2_pct\">.517</td><td class=\"right\" data-stat=\"ft\">1364</td><td class=\"right\" data-stat=\"fta\">1910</td><td class=\"right\" data-stat=\"ft_pct\">.714</td><td class=\"right\" data-stat=\"orb\">876</td><td class=\"right\" data-stat=\"drb\">2927</td><td class=\"right\" data-stat=\"trb\">3803</td><td class=\"right\" data-stat=\"ast\">1949</td><td class=\"right\" data-stat=\"stl\">633</td><td class=\"right\" data-stat=\"blk\">388</td><td class=\"right\" data-stat=\"tov\">1295</td><td class=\"right\" data-stat=\"pf\">1736</td><td class=\"right\" data-stat=\"pts\">8862</td></tr> <tr><th class=\"right\" data-stat=\"ranker\" scope=\"row\">12</th><td class=\"left\" data-stat=\"team\"><a href=\"/teams/OKC/2018.html\">Oklahoma City Thunder</a>*</td><td class=\"right\" data-stat=\"g\">82</td><td class=\"right\" data-stat=\"mp\">19830</td><td class=\"right\" data-stat=\"fg\">3271</td><td class=\"right\" data-stat=\"fga\">7221</td><td class=\"right\" data-stat=\"fg_pct\">.453</td><td class=\"right\" data-stat=\"fg3\">881</td><td class=\"right\" data-stat=\"fg3a\">2491</td><td class=\"right\" data-stat=\"fg3_pct\">.354</td><td class=\"right\" data-stat=\"fg2\">2390</td><td class=\"right\" data-stat=\"fg2a\">4730</td><td class=\"right\" data-stat=\"fg2_pct\">.505</td><td class=\"right\" data-stat=\"ft\">1421</td><td class=\"right\" data-stat=\"fta\">1985</td><td class=\"right\" data-stat=\"ft_pct\">.716</td><td class=\"right\" data-stat=\"orb\">1024</td><td class=\"right\" data-stat=\"drb\">2671</td><td class=\"right\" data-stat=\"trb\">3695</td><td class=\"right\" data-stat=\"ast\">1750</td><td class=\"right\" data-stat=\"stl\">743</td><td class=\"right\" data-stat=\"blk\">412</td><td class=\"right\" data-stat=\"tov\">1147</td><td class=\"right\" data-stat=\"pf\">1653</td><td class=\"right\" data-stat=\"pts\">8844</td></tr> <tr><th class=\"right\" data-stat=\"ranker\" scope=\"row\">13</th><td class=\"left\" data-stat=\"team\"><a href=\"/teams/WAS/2018.html\">Washington Wizards</a>*</td><td class=\"right\" data-stat=\"g\">82</td><td class=\"right\" data-stat=\"mp\">19855</td><td class=\"right\" data-stat=\"fg\">3275</td><td class=\"right\" data-stat=\"fga\">7018</td><td class=\"right\" data-stat=\"fg_pct\">.467</td><td class=\"right\" data-stat=\"fg3\">814</td><td class=\"right\" data-stat=\"fg3a\">2173</td><td class=\"right\" data-stat=\"fg3_pct\">.375</td><td class=\"right\" data-stat=\"fg2\">2461</td><td class=\"right\" data-stat=\"fg2a\">4845</td><td class=\"right\" data-stat=\"fg2_pct\">.508</td><td class=\"right\" data-stat=\"ft\">1378</td><td class=\"right\" data-stat=\"fta\">1786</td><td class=\"right\" data-stat=\"ft_pct\">.772</td><td class=\"right\" data-stat=\"orb\">823</td><td class=\"right\" data-stat=\"drb\">2713</td><td class=\"right\" data-stat=\"trb\">3536</td><td class=\"right\" data-stat=\"ast\">2065</td><td class=\"right\" data-stat=\"stl\">645</td><td class=\"right\" data-stat=\"blk\">353</td><td class=\"right\" data-stat=\"tov\">1196</td><td class=\"right\" data-stat=\"pf\">1746</td><td class=\"right\" data-stat=\"pts\">8742</td></tr> <tr><th class=\"right\" data-stat=\"ranker\" scope=\"row\">14</th><td class=\"left\" data-stat=\"team\"><a href=\"/teams/BRK/2018.html\">Brooklyn Nets</a></td><td class=\"right\" data-stat=\"g\">82</td><td class=\"right\" data-stat=\"mp\">19855</td><td class=\"right\" data-stat=\"fg\">3136</td><td class=\"right\" data-stat=\"fga\">7114</td><td class=\"right\" data-stat=\"fg_pct\">.441</td><td class=\"right\" data-stat=\"fg3\">1041</td><td class=\"right\" data-stat=\"fg3a\">2924</td><td class=\"right\" data-stat=\"fg3_pct\">.356</td><td class=\"right\" data-stat=\"fg2\">2095</td><td class=\"right\" data-stat=\"fg2a\">4190</td><td class=\"right\" data-stat=\"fg2_pct\">.500</td><td class=\"right\" data-stat=\"ft\">1428</td><td class=\"right\" data-stat=\"fta\">1850</td><td class=\"right\" data-stat=\"ft_pct\">.772</td><td class=\"right\" data-stat=\"orb\">792</td><td class=\"right\" data-stat=\"drb\">2852</td><td class=\"right\" data-stat=\"trb\">3644</td><td class=\"right\" data-stat=\"ast\">1941</td><td class=\"right\" data-stat=\"stl\">512</td><td class=\"right\" data-stat=\"blk\">390</td><td class=\"right\" data-stat=\"tov\">1245</td><td class=\"right\" data-stat=\"pf\">1688</td><td class=\"right\" data-stat=\"pts\">8741</td></tr> <tr><th class=\"right\" data-stat=\"ranker\" scope=\"row\">15</th><td class=\"left\" data-stat=\"team\"><a href=\"/teams/MIL/2018.html\">Milwaukee Bucks</a>*</td><td class=\"right\" data-stat=\"g\">82</td><td class=\"right\" data-stat=\"mp\">19830</td><td class=\"right\" data-stat=\"fg\">3257</td><td class=\"right\" data-stat=\"fga\">6807</td><td class=\"right\" data-stat=\"fg_pct\">.478</td><td class=\"right\" data-stat=\"fg3\">718</td><td class=\"right\" data-stat=\"fg3a\">2024</td><td class=\"right\" data-stat=\"fg3_pct\">.355</td><td class=\"right\" data-stat=\"fg2\">2539</td><td class=\"right\" data-stat=\"fg2a\">4783</td><td class=\"right\" data-stat=\"fg2_pct\">.531</td><td class=\"right\" data-stat=\"ft\">1499</td><td class=\"right\" data-stat=\"fta\">1915</td><td class=\"right\" data-stat=\"ft_pct\">.783</td><td class=\"right\" data-stat=\"orb\">688</td><td class=\"right\" data-stat=\"drb\">2579</td><td class=\"right\" data-stat=\"trb\">3267</td><td class=\"right\" data-stat=\"ast\">1905</td><td class=\"right\" data-stat=\"stl\">722</td><td class=\"right\" data-stat=\"blk\">443</td><td class=\"right\" data-stat=\"tov\">1134</td><td class=\"right\" data-stat=\"pf\">1752</td><td class=\"right\" data-stat=\"pts\">8731</td></tr> <tr><th class=\"right\" data-stat=\"ranker\" scope=\"row\">16</th><td class=\"left\" data-stat=\"team\"><a href=\"/teams/POR/2018.html\">Portland Trail Blazers</a>*</td><td class=\"right\" data-stat=\"g\">82</td><td class=\"right\" data-stat=\"mp\">19755</td><td class=\"right\" data-stat=\"fg\">3222</td><td class=\"right\" data-stat=\"fga\">7132</td><td class=\"right\" data-stat=\"fg_pct\">.452</td><td class=\"right\" data-stat=\"fg3\">845</td><td class=\"right\" data-stat=\"fg3a\">2308</td><td class=\"right\" data-stat=\"fg3_pct\">.366</td><td class=\"right\" data-stat=\"fg2\">2377</td><td class=\"right\" data-stat=\"fg2a\">4824</td><td class=\"right\" data-stat=\"fg2_pct\">.493</td><td class=\"right\" data-stat=\"ft\">1372</td><td class=\"right\" data-stat=\"fta\">1715</td><td class=\"right\" data-stat=\"ft_pct\">.800</td><td class=\"right\" data-stat=\"orb\">835</td><td class=\"right\" data-stat=\"drb\">2893</td><td class=\"right\" data-stat=\"trb\">3728</td><td class=\"right\" data-stat=\"ast\">1599</td><td class=\"right\" data-stat=\"stl\">573</td><td class=\"right\" data-stat=\"blk\">423</td><td class=\"right\" data-stat=\"tov\">1109</td><td class=\"right\" data-stat=\"pf\">1599</td><td class=\"right\" data-stat=\"pts\">8661</td></tr> <tr><th class=\"right\" data-stat=\"ranker\" scope=\"row\">17</th><td class=\"left\" data-stat=\"team\"><a href=\"/teams/IND/2018.html\">Indiana Pacers</a>*</td><td class=\"right\" data-stat=\"g\">82</td><td class=\"right\" data-stat=\"mp\">19755</td><td class=\"right\" data-stat=\"fg\">3345</td><td class=\"right\" data-stat=\"fga\">7083</td><td class=\"right\" data-stat=\"fg_pct\">.472</td><td class=\"right\" data-stat=\"fg3\">741</td><td class=\"right\" data-stat=\"fg3a\">2010</td><td class=\"right\" data-stat=\"fg3_pct\">.369</td><td class=\"right\" data-stat=\"fg2\">2604</td><td class=\"right\" data-stat=\"fg2a\">5073</td><td class=\"right\" data-stat=\"fg2_pct\">.513</td><td class=\"right\" data-stat=\"ft\">1225</td><td class=\"right\" data-stat=\"fta\">1573</td><td class=\"right\" data-stat=\"ft_pct\">.779</td><td class=\"right\" data-stat=\"orb\">788</td><td class=\"right\" data-stat=\"drb\">2684</td><td class=\"right\" data-stat=\"trb\">3472</td><td class=\"right\" data-stat=\"ast\">1819</td><td class=\"right\" data-stat=\"stl\">721</td><td class=\"right\" data-stat=\"blk\">340</td><td class=\"right\" data-stat=\"tov\">1089</td><td class=\"right\" data-stat=\"pf\">1544</td><td class=\"right\" data-stat=\"pts\">8656</td></tr> <tr><th class=\"right\" data-stat=\"ranker\" scope=\"row\">18</th><td class=\"left\" data-stat=\"team\"><a href=\"/teams/NYK/2018.html\">New York Knicks</a></td><td class=\"right\" data-stat=\"g\">82</td><td class=\"right\" data-stat=\"mp\">19830</td><td class=\"right\" data-stat=\"fg\">3334</td><td class=\"right\" data-stat=\"fga\">7193</td><td class=\"right\" data-stat=\"fg_pct\">.464</td><td class=\"right\" data-stat=\"fg3\">673</td><td class=\"right\" data-stat=\"fg3a\">1914</td><td class=\"right\" data-stat=\"fg3_pct\">.352</td><td class=\"right\" data-stat=\"fg2\">2661</td><td class=\"right\" data-stat=\"fg2a\">5279</td><td class=\"right\" data-stat=\"fg2_pct\">.504</td><td class=\"right\" data-stat=\"ft\">1225</td><td class=\"right\" data-stat=\"fta\">1557</td><td class=\"right\" data-stat=\"ft_pct\">.787</td><td class=\"right\" data-stat=\"orb\">859</td><td class=\"right\" data-stat=\"drb\">2752</td><td class=\"right\" data-stat=\"trb\">3611</td><td class=\"right\" data-stat=\"ast\">1912</td><td class=\"right\" data-stat=\"stl\">552</td><td class=\"right\" data-stat=\"blk\">421</td><td class=\"right\" data-stat=\"tov\">1207</td><td class=\"right\" data-stat=\"pf\">1682</td><td class=\"right\" data-stat=\"pts\">8566</td></tr> <tr><th class=\"right\" data-stat=\"ranker\" scope=\"row\">19</th><td class=\"left\" data-stat=\"team\"><a href=\"/teams/UTA/2018.html\">Utah Jazz</a>*</td><td class=\"right\" data-stat=\"g\">82</td><td class=\"right\" data-stat=\"mp\">19755</td><td class=\"right\" data-stat=\"fg\">3139</td><td class=\"right\" data-stat=\"fga\">6797</td><td class=\"right\" data-stat=\"fg_pct\">.462</td><td class=\"right\" data-stat=\"fg3\">887</td><td class=\"right\" data-stat=\"fg3a\">2425</td><td class=\"right\" data-stat=\"fg3_pct\">.366</td><td class=\"right\" data-stat=\"fg2\">2252</td><td class=\"right\" data-stat=\"fg2a\">4372</td><td class=\"right\" data-stat=\"fg2_pct\">.515</td><td class=\"right\" data-stat=\"ft\">1375</td><td class=\"right\" data-stat=\"fta\">1766</td><td class=\"right\" data-stat=\"ft_pct\">.779</td><td class=\"right\" data-stat=\"orb\">740</td><td class=\"right\" data-stat=\"drb\">2807</td><td class=\"right\" data-stat=\"trb\">3547</td><td class=\"right\" data-stat=\"ast\">1839</td><td class=\"right\" data-stat=\"stl\">708</td><td class=\"right\" data-stat=\"blk\">420</td><td class=\"right\" data-stat=\"tov\">1205</td><td class=\"right\" data-stat=\"pf\">1608</td><td class=\"right\" data-stat=\"pts\">8540</td></tr> <tr><th class=\"right\" data-stat=\"ranker\" scope=\"row\">20</th><td class=\"left\" data-stat=\"team\"><a href=\"/teams/BOS/2018.html\">Boston Celtics</a>*</td><td class=\"right\" data-stat=\"g\">82</td><td class=\"right\" data-stat=\"mp\">19805</td><td class=\"right\" data-stat=\"fg\">3141</td><td class=\"right\" data-stat=\"fga\">6975</td><td class=\"right\" data-stat=\"fg_pct\">.450</td><td class=\"right\" data-stat=\"fg3\">939</td><td class=\"right\" data-stat=\"fg3a\">2492</td><td class=\"right\" data-stat=\"fg3_pct\">.377</td><td class=\"right\" data-stat=\"fg2\">2202</td><td class=\"right\" data-stat=\"fg2a\">4483</td><td class=\"right\" data-stat=\"fg2_pct\">.491</td><td class=\"right\" data-stat=\"ft\">1308</td><td class=\"right\" data-stat=\"fta\">1697</td><td class=\"right\" data-stat=\"ft_pct\">.771</td><td class=\"right\" data-stat=\"orb\">767</td><td class=\"right\" data-stat=\"drb\">2878</td><td class=\"right\" data-stat=\"trb\">3645</td><td class=\"right\" data-stat=\"ast\">1842</td><td class=\"right\" data-stat=\"stl\">604</td><td class=\"right\" data-stat=\"blk\">373</td><td class=\"right\" data-stat=\"tov\">1149</td><td class=\"right\" data-stat=\"pf\">1618</td><td class=\"right\" data-stat=\"pts\">8529</td></tr> <tr><th class=\"right\" data-stat=\"ranker\" scope=\"row\">21</th><td class=\"left\" data-stat=\"team\"><a href=\"/teams/PHO/2018.html\">Phoenix Suns</a></td><td class=\"right\" data-stat=\"g\">82</td><td class=\"right\" data-stat=\"mp\">19705</td><td class=\"right\" data-stat=\"fg\">3153</td><td class=\"right\" data-stat=\"fga\">7141</td><td class=\"right\" data-stat=\"fg_pct\">.442</td><td class=\"right\" data-stat=\"fg3\">763</td><td class=\"right\" data-stat=\"fg3a\">2286</td><td class=\"right\" data-stat=\"fg3_pct\">.334</td><td class=\"right\" data-stat=\"fg2\">2390</td><td class=\"right\" data-stat=\"fg2a\">4855</td><td class=\"right\" data-stat=\"fg2_pct\">.492</td><td class=\"right\" data-stat=\"ft\">1453</td><td class=\"right\" data-stat=\"fta\">1962</td><td class=\"right\" data-stat=\"ft_pct\">.741</td><td class=\"right\" data-stat=\"orb\">842</td><td class=\"right\" data-stat=\"drb\">2776</td><td class=\"right\" data-stat=\"trb\">3618</td><td class=\"right\" data-stat=\"ast\">1743</td><td class=\"right\" data-stat=\"stl\">569</td><td class=\"right\" data-stat=\"blk\">370</td><td class=\"right\" data-stat=\"tov\">1289</td><td class=\"right\" data-stat=\"pf\">1807</td><td class=\"right\" data-stat=\"pts\">8522</td></tr> <tr><th class=\"right\" data-stat=\"ranker\" scope=\"row\">22</th><td class=\"left\" data-stat=\"team\"><a href=\"/teams/DET/2018.html\">Detroit Pistons</a></td><td class=\"right\" data-stat=\"g\">82</td><td class=\"right\" data-stat=\"mp\">19805</td><td class=\"right\" data-stat=\"fg\">3208</td><td class=\"right\" data-stat=\"fga\">7129</td><td class=\"right\" data-stat=\"fg_pct\">.450</td><td class=\"right\" data-stat=\"fg3\">886</td><td class=\"right\" data-stat=\"fg3a\">2373</td><td class=\"right\" data-stat=\"fg3_pct\">.373</td><td class=\"right\" data-stat=\"fg2\">2322</td><td class=\"right\" data-stat=\"fg2a\">4756</td><td class=\"right\" data-stat=\"fg2_pct\">.488</td><td class=\"right\" data-stat=\"ft\">1207</td><td class=\"right\" data-stat=\"fta\">1621</td><td class=\"right\" data-stat=\"ft_pct\">.745</td><td class=\"right\" data-stat=\"orb\">830</td><td class=\"right\" data-stat=\"drb\">2756</td><td class=\"right\" data-stat=\"trb\">3586</td><td class=\"right\" data-stat=\"ast\">1868</td><td class=\"right\" data-stat=\"stl\">628</td><td class=\"right\" data-stat=\"blk\">317</td><td class=\"right\" data-stat=\"tov\">1103</td><td class=\"right\" data-stat=\"pf\">1508</td><td class=\"right\" data-stat=\"pts\">8509</td></tr> <tr><th class=\"right\" data-stat=\"ranker\" scope=\"row\">23</th><td class=\"left\" data-stat=\"team\"><a href=\"/teams/MIA/2018.html\">Miami Heat</a>*</td><td class=\"right\" data-stat=\"g\">82</td><td class=\"right\" data-stat=\"mp\">19930</td><td class=\"right\" data-stat=\"fg\">3184</td><td class=\"right\" data-stat=\"fga\">6997</td><td class=\"right\" data-stat=\"fg_pct\">.455</td><td class=\"right\" data-stat=\"fg3\">903</td><td class=\"right\" data-stat=\"fg3a\">2506</td><td class=\"right\" data-stat=\"fg3_pct\">.360</td><td class=\"right\" data-stat=\"fg2\">2281</td><td class=\"right\" data-stat=\"fg2a\">4491</td><td class=\"right\" data-stat=\"fg2_pct\">.508</td><td class=\"right\" data-stat=\"ft\">1209</td><td class=\"right\" data-stat=\"fta\">1601</td><td class=\"right\" data-stat=\"ft_pct\">.755</td><td class=\"right\" data-stat=\"orb\">763</td><td class=\"right\" data-stat=\"drb\">2801</td><td class=\"right\" data-stat=\"trb\">3564</td><td class=\"right\" data-stat=\"ast\">1862</td><td class=\"right\" data-stat=\"stl\">620</td><td class=\"right\" data-stat=\"blk\">437</td><td class=\"right\" data-stat=\"tov\">1179</td><td class=\"right\" data-stat=\"pf\">1648</td><td class=\"right\" data-stat=\"pts\">8480</td></tr> <tr><th class=\"right\" data-stat=\"ranker\" scope=\"row\">24</th><td class=\"left\" data-stat=\"team\"><a href=\"/teams/ORL/2018.html\">Orlando Magic</a></td><td class=\"right\" data-stat=\"g\">82</td><td class=\"right\" data-stat=\"mp\">19730</td><td class=\"right\" data-stat=\"fg\">3182</td><td class=\"right\" data-stat=\"fga\">7042</td><td class=\"right\" data-stat=\"fg_pct\">.452</td><td class=\"right\" data-stat=\"fg3\">844</td><td class=\"right\" data-stat=\"fg3a\">2405</td><td class=\"right\" data-stat=\"fg3_pct\">.351</td><td class=\"right\" data-stat=\"fg2\">2338</td><td class=\"right\" data-stat=\"fg2a\">4637</td><td class=\"right\" data-stat=\"fg2_pct\">.504</td><td class=\"right\" data-stat=\"ft\">1271</td><td class=\"right\" data-stat=\"fta\">1678</td><td class=\"right\" data-stat=\"ft_pct\">.757</td><td class=\"right\" data-stat=\"orb\">722</td><td class=\"right\" data-stat=\"drb\">2692</td><td class=\"right\" data-stat=\"trb\">3414</td><td class=\"right\" data-stat=\"ast\">1921</td><td class=\"right\" data-stat=\"stl\">622</td><td class=\"right\" data-stat=\"blk\">400</td><td class=\"right\" data-stat=\"tov\">1192</td><td class=\"right\" data-stat=\"pf\">1579</td><td class=\"right\" data-stat=\"pts\">8479</td></tr> <tr><th class=\"right\" data-stat=\"ranker\" scope=\"row\">25</th><td class=\"left\" data-stat=\"team\"><a href=\"/teams/ATL/2018.html\">Atlanta Hawks</a></td><td class=\"right\" data-stat=\"g\">82</td><td class=\"right\" data-stat=\"mp\">19705</td><td class=\"right\" data-stat=\"fg\">3130</td><td class=\"right\" data-stat=\"fga\">7015</td><td class=\"right\" data-stat=\"fg_pct\">.446</td><td class=\"right\" data-stat=\"fg3\">917</td><td class=\"right\" data-stat=\"fg3a\">2544</td><td class=\"right\" data-stat=\"fg3_pct\">.360</td><td class=\"right\" data-stat=\"fg2\">2213</td><td class=\"right\" data-stat=\"fg2a\">4471</td><td class=\"right\" data-stat=\"fg2_pct\">.495</td><td class=\"right\" data-stat=\"ft\">1298</td><td class=\"right\" data-stat=\"fta\">1654</td><td class=\"right\" data-stat=\"ft_pct\">.785</td><td class=\"right\" data-stat=\"orb\">743</td><td class=\"right\" data-stat=\"drb\">2693</td><td class=\"right\" data-stat=\"trb\">3436</td><td class=\"right\" data-stat=\"ast\">1946</td><td class=\"right\" data-stat=\"stl\">638</td><td class=\"right\" data-stat=\"blk\">348</td><td class=\"right\" data-stat=\"tov\">1276</td><td class=\"right\" data-stat=\"pf\">1606</td><td class=\"right\" data-stat=\"pts\">8475</td></tr> <tr><th class=\"right\" data-stat=\"ranker\" scope=\"row\">26</th><td class=\"left\" data-stat=\"team\"><a href=\"/teams/CHI/2018.html\">Chicago Bulls</a></td><td class=\"right\" data-stat=\"g\">82</td><td class=\"right\" data-stat=\"mp\">19855</td><td class=\"right\" data-stat=\"fg\">3170</td><td class=\"right\" data-stat=\"fga\">7285</td><td class=\"right\" data-stat=\"fg_pct\">.435</td><td class=\"right\" data-stat=\"fg3\">906</td><td class=\"right\" data-stat=\"fg3a\">2549</td><td class=\"right\" data-stat=\"fg3_pct\">.355</td><td class=\"right\" data-stat=\"fg2\">2264</td><td class=\"right\" data-stat=\"fg2a\">4736</td><td class=\"right\" data-stat=\"fg2_pct\">.478</td><td class=\"right\" data-stat=\"ft\">1194</td><td class=\"right\" data-stat=\"fta\">1574</td><td class=\"right\" data-stat=\"ft_pct\">.759</td><td class=\"right\" data-stat=\"orb\">790</td><td class=\"right\" data-stat=\"drb\">2873</td><td class=\"right\" data-stat=\"trb\">3663</td><td class=\"right\" data-stat=\"ast\">1923</td><td class=\"right\" data-stat=\"stl\">626</td><td class=\"right\" data-stat=\"blk\">289</td><td class=\"right\" data-stat=\"tov\">1147</td><td class=\"right\" data-stat=\"pf\">1571</td><td class=\"right\" data-stat=\"pts\">8440</td></tr> <tr><th class=\"right\" data-stat=\"ranker\" scope=\"row\">27</th><td class=\"left\" data-stat=\"team\"><a href=\"/teams/SAS/2018.html\">San Antonio Spurs</a>*</td><td class=\"right\" data-stat=\"g\">82</td><td class=\"right\" data-stat=\"mp\">19730</td><td class=\"right\" data-stat=\"fg\">3202</td><td class=\"right\" data-stat=\"fga\">6999</td><td class=\"right\" data-stat=\"fg_pct\">.457</td><td class=\"right\" data-stat=\"fg3\">696</td><td class=\"right\" data-stat=\"fg3a\">1977</td><td class=\"right\" data-stat=\"fg3_pct\">.352</td><td class=\"right\" data-stat=\"fg2\">2506</td><td class=\"right\" data-stat=\"fg2a\">5022</td><td class=\"right\" data-stat=\"fg2_pct\">.499</td><td class=\"right\" data-stat=\"ft\">1324</td><td class=\"right\" data-stat=\"fta\">1715</td><td class=\"right\" data-stat=\"ft_pct\">.772</td><td class=\"right\" data-stat=\"orb\">849</td><td class=\"right\" data-stat=\"drb\">2777</td><td class=\"right\" data-stat=\"trb\">3626</td><td class=\"right\" data-stat=\"ast\">1868</td><td class=\"right\" data-stat=\"stl\">628</td><td class=\"right\" data-stat=\"blk\">460</td><td class=\"right\" data-stat=\"tov\">1078</td><td class=\"right\" data-stat=\"pf\">1408</td><td class=\"right\" data-stat=\"pts\">8424</td></tr> <tr><th class=\"right\" data-stat=\"ranker\" scope=\"row\">28</th><td class=\"left\" data-stat=\"team\"><a href=\"/teams/DAL/2018.html\">Dallas Mavericks</a></td><td class=\"right\" data-stat=\"g\">82</td><td class=\"right\" data-stat=\"mp\">19805</td><td class=\"right\" data-stat=\"fg\">3128</td><td class=\"right\" data-stat=\"fga\">7042</td><td class=\"right\" data-stat=\"fg_pct\">.444</td><td class=\"right\" data-stat=\"fg3\">967</td><td class=\"right\" data-stat=\"fg3a\">2688</td><td class=\"right\" data-stat=\"fg3_pct\">.360</td><td class=\"right\" data-stat=\"fg2\">2161</td><td class=\"right\" data-stat=\"fg2a\">4354</td><td class=\"right\" data-stat=\"fg2_pct\">.496</td><td class=\"right\" data-stat=\"ft\">1167</td><td class=\"right\" data-stat=\"fta\">1530</td><td class=\"right\" data-stat=\"ft_pct\">.763</td><td class=\"right\" data-stat=\"orb\">666</td><td class=\"right\" data-stat=\"drb\">2717</td><td class=\"right\" data-stat=\"trb\">3383</td><td class=\"right\" data-stat=\"ast\">1858</td><td class=\"right\" data-stat=\"stl\">578</td><td class=\"right\" data-stat=\"blk\">310</td><td class=\"right\" data-stat=\"tov\">1008</td><td class=\"right\" data-stat=\"pf\">1578</td><td class=\"right\" data-stat=\"pts\">8390</td></tr> <tr><th class=\"right\" data-stat=\"ranker\" scope=\"row\">29</th><td class=\"left\" data-stat=\"team\"><a href=\"/teams/MEM/2018.html\">Memphis Grizzlies</a></td><td class=\"right\" data-stat=\"g\">82</td><td class=\"right\" data-stat=\"mp\">19705</td><td class=\"right\" data-stat=\"fg\">3013</td><td class=\"right\" data-stat=\"fga\">6788</td><td class=\"right\" data-stat=\"fg_pct\">.444</td><td class=\"right\" data-stat=\"fg3\">758</td><td class=\"right\" data-stat=\"fg3a\">2152</td><td class=\"right\" data-stat=\"fg3_pct\">.352</td><td class=\"right\" data-stat=\"fg2\">2255</td><td class=\"right\" data-stat=\"fg2a\">4636</td><td class=\"right\" data-stat=\"fg2_pct\">.486</td><td class=\"right\" data-stat=\"ft\">1361</td><td class=\"right\" data-stat=\"fta\">1732</td><td class=\"right\" data-stat=\"ft_pct\">.786</td><td class=\"right\" data-stat=\"orb\">779</td><td class=\"right\" data-stat=\"drb\">2544</td><td class=\"right\" data-stat=\"trb\">3323</td><td class=\"right\" data-stat=\"ast\">1767</td><td class=\"right\" data-stat=\"stl\">613</td><td class=\"right\" data-stat=\"blk\">396</td><td class=\"right\" data-stat=\"tov\">1227</td><td class=\"right\" data-stat=\"pf\">1900</td><td class=\"right\" data-stat=\"pts\">8145</td></tr> <tr><th class=\"right\" data-stat=\"ranker\" scope=\"row\">30</th><td class=\"left\" data-stat=\"team\"><a href=\"/teams/SAC/2018.html\">Sacramento Kings</a></td><td class=\"right\" data-stat=\"g\">82</td><td class=\"right\" data-stat=\"mp\">19755</td><td class=\"right\" data-stat=\"fg\">3179</td><td class=\"right\" data-stat=\"fga\">7063</td><td class=\"right\" data-stat=\"fg_pct\">.450</td><td class=\"right\" data-stat=\"fg3\">738</td><td class=\"right\" data-stat=\"fg3a\">1967</td><td class=\"right\" data-stat=\"fg3_pct\">.375</td><td class=\"right\" data-stat=\"fg2\">2441</td><td class=\"right\" data-stat=\"fg2a\">5096</td><td class=\"right\" data-stat=\"fg2_pct\">.479</td><td class=\"right\" data-stat=\"ft\">1008</td><td class=\"right\" data-stat=\"fta\">1371</td><td class=\"right\" data-stat=\"ft_pct\">.735</td><td class=\"right\" data-stat=\"orb\">777</td><td class=\"right\" data-stat=\"drb\">2578</td><td class=\"right\" data-stat=\"trb\">3355</td><td class=\"right\" data-stat=\"ast\">1768</td><td class=\"right\" data-stat=\"stl\">643</td><td class=\"right\" data-stat=\"blk\">340</td><td class=\"right\" data-stat=\"tov\">1125</td><td class=\"right\" data-stat=\"pf\">1639</td><td class=\"right\" data-stat=\"pts\">8104</td></tr> </tbody><tfoot><tr><th class=\"right iz\" data-stat=\"ranker\" scope=\"row\"></th><td class=\"left\" data-stat=\"team\">League Average</td><td class=\"right\" data-stat=\"g\">82</td><td class=\"right\" data-stat=\"mp\">19795</td><td class=\"right\" data-stat=\"fg\">3248</td><td class=\"right\" data-stat=\"fga\">7057</td><td class=\"right\" data-stat=\"fg_pct\">.460</td><td class=\"right\" data-stat=\"fg3\">860</td><td class=\"right\" data-stat=\"fg3a\">2378</td><td class=\"right\" data-stat=\"fg3_pct\">.362</td><td class=\"right\" data-stat=\"fg2\">2388</td><td class=\"right\" data-stat=\"fg2a\">4679</td><td class=\"right\" data-stat=\"fg2_pct\">.510</td><td class=\"right\" data-stat=\"ft\">1363</td><td class=\"right\" data-stat=\"fta\">1778</td><td class=\"right\" data-stat=\"ft_pct\">.767</td><td class=\"right\" data-stat=\"orb\">796</td><td class=\"right\" data-stat=\"drb\">2772</td><td class=\"right\" data-stat=\"trb\">3568</td><td class=\"right\" data-stat=\"ast\">1905</td><td class=\"right\" data-stat=\"stl\">633</td><td class=\"right\" data-stat=\"blk\">395</td><td class=\"right\" data-stat=\"tov\">1170</td><td class=\"right\" data-stat=\"pf\">1628</td><td class=\"right\" data-stat=\"pts\">8719</td></tr> </tfoot> </table>"
      ]
     },
     "execution_count": 313,
     "metadata": {},
     "output_type": "execute_result"
    }
   ],
   "source": [
    "tables[6]"
   ]
  },
  {
   "cell_type": "markdown",
   "metadata": {},
   "source": [
    "> **Ex. 7.2.5:** Now locate all tables from the page, using the `.find_all` method searching for the table tag name. Iterate through the table nodes and apply the function created for parsing html tables. Store each table in a dictionary using the table name as key. The name is found by accessing the id attribute of each table node, using dictionary-style syntax - i.e. `table_node['id']`."
   ]
  },
  {
   "cell_type": "markdown",
   "metadata": {},
   "source": [
    "> **Ex. 7.2.6. (extra) :** Compare your results to the pandas implementation [pd.read_html](https://pandas.pydata.org/pandas-docs/stable/reference/api/pandas.read_html.html)"
   ]
  },
  {
   "cell_type": "markdown",
   "metadata": {},
   "source": [
    "## Exercise Section 7.3: The European Research Counsel (optional)\n",
    "**NOTE** Exercise 7.3 is difficult and therefore also optional. I expect less than 10% of you being able to solve this one.\n",
    "\n",
    "Imagine we wanted to analyze whether the European funding behaviour was biased towards certain countries and gender. We might decide to scrape who has received funding from the ERC.\n",
    "https://erc.europa.eu/\n",
    "\n",
    "* First we figure find navigate the grant listings.\n",
    "* Next we figure out how to page these results. \n",
    "* And finally we want to grab the information."
   ]
  },
  {
   "cell_type": "markdown",
   "metadata": {},
   "source": [
    "### Data Storage and operating system interactions\n",
    "\n",
    "> **Ex. 7.3.1:** *Import the python library `os`. Write pyhon code in this jupyter notebook creating a new folder in your directory called \"erc_funding\". Inside your new folder create 3 subfolders called 'mapping', 'raw_data' and 'parsed_data'.*\n",
    "\n"
   ]
  },
  {
   "cell_type": "markdown",
   "metadata": {},
   "source": [
    "### Mapping\n",
    "\n",
    "> **Ex. 7.3.2:** *Investigate [https://erc.europa.eu/projects-figures/erc-funded-projects/results?items_per_page=100&search_api_views_fulltext=&](https://erc.europa.eu/projects-figures/erc-funded-projects/results?items_per_page=100&search_api_views_fulltext=&). Figure out how many sites you need to loop thorugh. Save the response for each site using in `condecs` in your \"mapping\" subfolder. Use the `tqdm` to track your loop.\n",
    "Use the Snorre Ralund Connector class to log your activity.*\n",
    "\n"
   ]
  },
  {
   "cell_type": "markdown",
   "metadata": {},
   "source": [
    "### Parsing\n",
    "\n",
    "> **Ex. 7.3.3:** *Write a function that takes a filename (from our mapping subfolder) as and input and returns (in our parsed_data subfolder) a `pandas`dataframe of parsed information. Use `os` library to navigate your operating system (paths) and `condecs` library to read files inside your function. Last, concatenate all your dataframes into one dataframe you call \"df\" consisting of all parsed data.*"
   ]
  },
  {
   "cell_type": "markdown",
   "metadata": {},
   "source": [
    "### Reliability and Data Quality\n",
    "\n",
    "##### Inspect the data\n",
    "> **Ex. 7.3.4:** *Investigate your dataframe \"df\". Check for dublicates. Count NaN values. Create a `matplotlib` histrogram plot for every column of \"df\" illustrating the lenght of the string (x-axis) and row count( y-axis).*\n",
    "\n",
    "##### Do simple descriptives\n",
    "> **Ex. 7.3.5:** *Create a value_counts() for each of the three columns (Host Institution (HI), Researcher (PI) and Project acronym) in your \"df\". What can counting do for us in this exercise in terms of Reliability and Data Quality?*\n",
    "\n",
    "##### Visualize the Log\n",
    "> **Ex. 7.3.6:** *Load your \"erc_log.csv\". Convert the time column 't' to datetime. Use `matplotlib` to create three plots: (1) time it took to make the call, (2) the response size over time, and (3) the delta_t against the response_size .)*"
   ]
  }
 ],
 "metadata": {
  "kernelspec": {
   "display_name": "Python 3",
   "language": "python",
   "name": "python3"
  },
  "language_info": {
   "codemirror_mode": {
    "name": "ipython",
    "version": 3
   },
   "file_extension": ".py",
   "mimetype": "text/x-python",
   "name": "python",
   "nbconvert_exporter": "python",
   "pygments_lexer": "ipython3",
   "version": "3.8.8"
  },
  "latex_envs": {
   "bibliofile": "biblio.bib",
   "cite_by": "apalike",
   "current_citInitial": 1,
   "eqLabelWithNumbers": true,
   "eqNumInitial": 0
  },
  "toc": {
   "nav_menu": {
    "height": "328px",
    "width": "252px"
   },
   "navigate_menu": true,
   "number_sections": true,
   "sideBar": true,
   "threshold": 4,
   "toc_cell": false,
   "toc_section_display": "block",
   "toc_window_display": false
  }
 },
 "nbformat": 4,
 "nbformat_minor": 2
}
