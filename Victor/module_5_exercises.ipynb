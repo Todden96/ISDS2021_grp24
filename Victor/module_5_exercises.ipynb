{
 "cells": [
  {
   "cell_type": "markdown",
   "metadata": {},
   "source": [
    "# Videos and Exercises for Session 5: Strings, Requests and APIs"
   ]
  },
  {
   "cell_type": "markdown",
   "metadata": {},
   "source": [
    "In Assignment 0 we covered a lot about basic Python, and in the first sessions, we talked a bit about how to deal with different data types in pandas - strings among other. However, we only scratched the surface on string-related topics and in this session, we will be taking a deeper looking at. \n",
    "\n",
    "We will start out with a recap of some basic string operations and build on that to make a query for fetching data. After having finished this combined teaching module and exercise set, you will know the basics of collecting from the web. This notebook is structured as follows:\n",
    "1. String Operations (recap and warm-up):\n",
    "    - Common string operations\n",
    "    - More string operations\n",
    "    - Warm-up exercises\n",
    "2. Saving as Text File\n",
    "3. Python Containers and Dictionaries\n",
    "4. Python and the Web\n",
    "    - Application Programming Interface (API)\n",
    "    - The Punk API\n",
    "    - The API for Statistics Denmark\n",
    "5. Bonus Exercises $-$ Traffic Data in Copenhagen\n",
    "\n",
    "*Alternative sources*: If you get lost, you might find [this page](https://pythonprogramming.net/string-concatenation-formatting-intermediate-python-tutorial/) on pythonprogramming.net useful. [This page](https://www.python-course.eu/python3_sequential_data_types.php) also gives an introduction to the basics of strings and their related data types. "
   ]
  },
  {
   "cell_type": "markdown",
   "metadata": {},
   "source": [
    "# Part 1: String Operations\n",
    "\n",
    "As we have already learned, strings are sequential containers of characters. In Python we use two kinds of characters:\n",
    "-  American Standard Code (`ascii`)\n",
    "    - Characters from English alphabet, numbers, symbols for writing \n",
    "    - 8 bit information\n",
    "\n",
    "- Unicode (`UTF`)  \n",
    "    - Characters from European and Asian language and much more\n",
    "    - 16 bit information\n",
    "    - Available in URLs recently, e.g. [møn.dk](https://møn.dk)        \n",
    "    \n",
    "    \n",
    "Note that while unicode is a little more heavy and costs more space, it is way more flexible and we get less errors when importing data from non-ascii languages. This reason is also why Python adopted unicode as standard since the release of Python 3.\n",
    "\n",
    "To see that strings are sequential containers, see the example below where we slice them like a list or dataframe/array:"
   ]
  },
  {
   "cell_type": "code",
   "execution_count": 1,
   "metadata": {},
   "outputs": [
    {
     "data": {
      "text/plain": [
       "'lice'"
      ]
     },
     "execution_count": 1,
     "metadata": {},
     "output_type": "execute_result"
    }
   ],
   "source": [
    "str1 = 'police'\n",
    "str1[2:]"
   ]
  },
  {
   "cell_type": "markdown",
   "metadata": {},
   "source": [
    "## Common string operations \n",
    "\n",
    "Strings have multiple operations and functions associated. In this exercise, we investigate a few of these. We also explore the sequence form of a string and how it can be sliced and accessed via indices. In the following, we provide a small tour of some of the most important technical features of strings."
   ]
  },
  {
   "cell_type": "markdown",
   "metadata": {},
   "source": [
    "One thing that can be helpful when working with strings is that you can alter the sentence-case of strings by using the string methods `upper`, `lower`, `capitalize`. Consider the example below and try switching `upper()` with one of the other operations:"
   ]
  },
  {
   "cell_type": "code",
   "execution_count": 2,
   "metadata": {},
   "outputs": [
    {
     "data": {
      "text/plain": [
       "'POLICE'"
      ]
     },
     "execution_count": 2,
     "metadata": {},
     "output_type": "execute_result"
    }
   ],
   "source": [
    "str1.upper()"
   ]
  },
  {
   "cell_type": "markdown",
   "metadata": {},
   "source": [
    "We can also use the `replace` method to substitute parts of the strings:"
   ]
  },
  {
   "cell_type": "code",
   "execution_count": 3,
   "metadata": {},
   "outputs": [
    {
     "data": {
      "text/plain": [
       "'malice'"
      ]
     },
     "execution_count": 3,
     "metadata": {},
     "output_type": "execute_result"
    }
   ],
   "source": [
    "str1.replace('po', 'ma')"
   ]
  },
  {
   "cell_type": "markdown",
   "metadata": {},
   "source": [
    "We can also check whether a substring is within a given string and much more. The general syntax is \n",
    "```python \n",
    "T in S\n",
    "``` \n",
    "which checks whether a string `S` contains the substring `T`. We should always get a boolean True/False outcome in return. See two applications below: "
   ]
  },
  {
   "cell_type": "code",
   "execution_count": 4,
   "metadata": {},
   "outputs": [
    {
     "name": "stdout",
     "output_type": "stream",
     "text": [
      "True False\n"
     ]
    }
   ],
   "source": [
    "print('ice' in str1, 'mice' in str1)"
   ]
  },
  {
   "cell_type": "markdown",
   "metadata": {},
   "source": [
    "Another procedure is to add strings together like below:"
   ]
  },
  {
   "cell_type": "code",
   "execution_count": 18,
   "metadata": {},
   "outputs": [
    {
     "data": {
      "text/plain": [
       "'police officer'"
      ]
     },
     "execution_count": 18,
     "metadata": {},
     "output_type": "execute_result"
    }
   ],
   "source": [
    "str2 = 'officer'\n",
    "str1 + ' ' + str2"
   ]
  },
  {
   "cell_type": "markdown",
   "metadata": {},
   "source": [
    "This can be helpful when we want to combine strings of words into sentences or long text files."
   ]
  },
  {
   "cell_type": "markdown",
   "metadata": {},
   "source": [
    "## More string operations \n",
    "In addition to the techniques above, strings are equipped with an array of _methods_, for solving more complex tasks. For example:\n",
    "- `str.join(list)` will insert a string in between each element of a list\n",
    "- `str.strip()` removes spaces in the beginning and end of a word \n",
    "- the f-string fills in specified blanks in a string\n",
    "- `str1.split(str2)` splits `str1` into a list through all places where `str2` shows up\n",
    "\n",
    "Below we illustrate the use of each function:\n",
    "\n",
    "```python\n",
    ">>> \" \".join(['Hello', 'World!']) \n",
    "'Hello World!'\n",
    "\n",
    ">>> ' Hello World!   '.strip() \n",
    "'Hello World!'\n",
    "\n",
    ">>> w = 'World'\n",
    ">>> f'Hello {w}' \n",
    "'Hello World!'\n",
    "\n",
    ">>> 'a,b,c'.split(',') \n",
    "['a','b','c']\n",
    "```"
   ]
  },
  {
   "cell_type": "markdown",
   "metadata": {},
   "source": [
    "## Warm-up String Exercises\n",
    "\n",
    "In the first couple of exercises, you should use the examples above to solve a set of tasks.\n",
    "\n",
    "> **Ex. 5.1.1**: Let `s1='Chameleon'` and `s2='ham'`. Check whether the string `s2` is a substring of `s1`. Is `'hello'` a substring `'goodbye'`?\n",
    "\n"
   ]
  },
  {
   "cell_type": "code",
   "execution_count": 23,
   "metadata": {
    "deletable": false,
    "nbgrader": {
     "cell_type": "code",
     "checksum": "7e90feaaa9a8b2638f9987ed46dae18f",
     "grade": false,
     "grade_id": "cell-993caea0991d84c4",
     "locked": false,
     "schema_version": 3,
     "solution": true,
     "task": false
    }
   },
   "outputs": [
    {
     "name": "stdout",
     "output_type": "stream",
     "text": [
      "True\n"
     ]
    }
   ],
   "source": [
    "s1 = 'Chameleon'\n",
    "s2 = 'ham'\n",
    "print(s2 in s1)"
   ]
  },
  {
   "cell_type": "code",
   "execution_count": 24,
   "metadata": {},
   "outputs": [
    {
     "name": "stdout",
     "output_type": "stream",
     "text": [
      "False\n"
     ]
    }
   ],
   "source": [
    "print('hello' in 'goodbye')"
   ]
  },
  {
   "cell_type": "markdown",
   "metadata": {},
   "source": [
    "> **Ex. 5.1.2**: From the string `s1` select the last four characters. What is the index of the character `a` in `s1`?\n",
    "\n",
    "> *Hint*: We can selecti a substring by slicing it with the `[]` notation, from the start to end where start is included and end is excluded. Recall that Python has zero-based indexing, see explanation [here](https://softwareengineering.stackexchange.com/questions/110804/why-are-zero-based-arrays-the-norm).\n"
   ]
  },
  {
   "cell_type": "code",
   "execution_count": 28,
   "metadata": {
    "deletable": false,
    "nbgrader": {
     "cell_type": "code",
     "checksum": "70e7605f0214aacf9c2cc140eafe6362",
     "grade": false,
     "grade_id": "cell-ace323777447ea4a",
     "locked": false,
     "schema_version": 3,
     "solution": true,
     "task": false
    }
   },
   "outputs": [
    {
     "data": {
      "text/plain": [
       "'leon'"
      ]
     },
     "execution_count": 28,
     "metadata": {},
     "output_type": "execute_result"
    }
   ],
   "source": [
    "s1[-4:]"
   ]
  },
  {
   "cell_type": "code",
   "execution_count": 29,
   "metadata": {},
   "outputs": [
    {
     "data": {
      "text/plain": [
       "'a'"
      ]
     },
     "execution_count": 29,
     "metadata": {},
     "output_type": "execute_result"
    }
   ],
   "source": [
    "s1[2]"
   ]
  },
  {
   "cell_type": "markdown",
   "metadata": {},
   "source": [
    "> **Ex. 5.1.3:** Use the `join()` and `strip()` functions to retrieve the sentence `The quick brown fox jumps over the lazy dog` from the list  `list_of_words` in the code cell below. \n",
    "\n",
    "> *Hint:* If you want to challenge yourself, see if you can do this in one line with a list comprehension!"
   ]
  },
  {
   "cell_type": "code",
   "execution_count": 40,
   "metadata": {},
   "outputs": [],
   "source": [
    "list_of_words = ['       The        ', '   quick   ', '     brown      ',\n",
    "                 ' fox          ', '          jumps     ', '   over ',\n",
    "                 '          the   ', '  lazy     ', '          dog     ']"
   ]
  },
  {
   "cell_type": "code",
   "execution_count": 43,
   "metadata": {
    "deletable": false,
    "nbgrader": {
     "cell_type": "code",
     "checksum": "5816e1d6d7ca20a08b2e7710b5ec3f09",
     "grade": false,
     "grade_id": "cell-c07cac510187b734",
     "locked": false,
     "schema_version": 3,
     "solution": true,
     "task": false
    }
   },
   "outputs": [
    {
     "data": {
      "text/plain": [
       "'The quick brown fox jumps over the lazy dog'"
      ]
     },
     "execution_count": 43,
     "metadata": {},
     "output_type": "execute_result"
    }
   ],
   "source": [
    "for i in range(len(list_of_words)):\n",
    "    list_of_words[i] = list_of_words[i].strip()\n",
    "\" \".join(list_of_words)"
   ]
  },
  {
   "cell_type": "markdown",
   "metadata": {},
   "source": [
    "> **Ex. 5.1.4:** Let `l1 = ['r ', 'Is', '>', ' < ', 'g ', '?']`. Create from `l1` the sentence \"Is r > g?\" using your knowledge about string formatting. Make sure there is only one space in between worlds.\n",
    ">\n",
    "> _Hint:_ You should be able to combine the above information to solve this exercise."
   ]
  },
  {
   "cell_type": "code",
   "execution_count": 47,
   "metadata": {
    "deletable": false,
    "nbgrader": {
     "cell_type": "code",
     "checksum": "880f9a61c0db3d7605addf9b06426330",
     "grade": false,
     "grade_id": "cell-9dafd1e8c334c195",
     "locked": false,
     "schema_version": 3,
     "solution": true,
     "task": false
    }
   },
   "outputs": [
    {
     "data": {
      "text/plain": [
       "'Is r > g?'"
      ]
     },
     "execution_count": 47,
     "metadata": {},
     "output_type": "execute_result"
    }
   ],
   "source": [
    "l1 = ['r ', 'Is', '>', ' < ', 'g ', '?']\n",
    "l1[1] + ' ' + l1[0] + l1[2] + ' ' + l1[4].strip() + l1[5]"
   ]
  },
  {
   "cell_type": "markdown",
   "metadata": {
    "slideshow": {
     "slide_type": "slide"
    }
   },
   "source": [
    "# Part 2: Saving as Text File\n",
    "In this course, we have already seen that we can output tabular data as CSV files. These files are essentially text files with specific structure that allows a computer to identify rows and columns. \n",
    "\n",
    "In the example below, we will learn how to actually save a string directly as a text file. Note how we make a line break using `\\n` - this is a string escape sequence, read more [here](https://docs.python.org/3/reference/lexical_analysis.html#literals)."
   ]
  },
  {
   "cell_type": "code",
   "execution_count": 48,
   "metadata": {
    "slideshow": {
     "slide_type": "fragment"
    }
   },
   "outputs": [],
   "source": [
    "my_str = 'This is important...'\n",
    "my_str2 = 'Written in Python!'\n",
    "escape_seq = '\\n'\n",
    "\n",
    "with open('my_file.txt', 'w') as f:\n",
    "    f.write(my_str+escape_seq+my_str2)"
   ]
  },
  {
   "cell_type": "markdown",
   "metadata": {
    "slideshow": {
     "slide_type": "fragment"
    }
   },
   "source": [
    "The code below opens the text file and prints the string."
   ]
  },
  {
   "cell_type": "code",
   "execution_count": 49,
   "metadata": {
    "slideshow": {
     "slide_type": "fragment"
    }
   },
   "outputs": [
    {
     "name": "stdout",
     "output_type": "stream",
     "text": [
      "This is important...\n",
      "Written in Python!\n"
     ]
    }
   ],
   "source": [
    "with open('my_file.txt', 'r') as f:    \n",
    "    print(f.read())"
   ]
  },
  {
   "cell_type": "markdown",
   "metadata": {},
   "source": [
    "> **Ex. 5.2.1:** Create a .txt file called `to_do_list.txt` with a to-do list by looping over the list `to_do = ['1. Hit the gym', '2. Pay bills', '3. Meet George', '4. Buy eggs', '5. Read a book']` and writing each element on a seperate line."
   ]
  },
  {
   "cell_type": "code",
   "execution_count": 50,
   "metadata": {},
   "outputs": [],
   "source": [
    "to_do = ['1. Hit the gym', '2. Pay bills', '3. Meet George', '4. Buy eggs', '5. Read a book']"
   ]
  },
  {
   "cell_type": "code",
   "execution_count": 55,
   "metadata": {
    "deletable": false,
    "nbgrader": {
     "cell_type": "code",
     "checksum": "5182aae859c995048f1044d657065482",
     "grade": false,
     "grade_id": "cell-e5321552aeca36ad",
     "locked": false,
     "schema_version": 3,
     "solution": true,
     "task": false
    }
   },
   "outputs": [],
   "source": [
    "text_to_file = \"\"\n",
    "escape_seq = '\\n'\n",
    "for i in to_do:\n",
    "    text_to_file += i + escape_seq\n",
    "with open('to_do_list.txt', 'w') as f:\n",
    "    f.write(text_to_file)"
   ]
  },
  {
   "cell_type": "markdown",
   "metadata": {
    "slideshow": {
     "slide_type": "slide"
    }
   },
   "source": [
    "Does the file look like you expected?"
   ]
  },
  {
   "cell_type": "code",
   "execution_count": 56,
   "metadata": {
    "slideshow": {
     "slide_type": "fragment"
    }
   },
   "outputs": [
    {
     "name": "stdout",
     "output_type": "stream",
     "text": [
      "1. Hit the gym\n",
      "2. Pay bills\n",
      "3. Meet George\n",
      "4. Buy eggs\n",
      "5. Read a book\n",
      "\n"
     ]
    }
   ],
   "source": [
    "with open('to_do_list.txt', 'r') as f:    \n",
    "    print(f.read())"
   ]
  },
  {
   "cell_type": "markdown",
   "metadata": {},
   "source": [
    "# Part 3: Python Containers and Dictionaries\n",
    "\n",
    "Dictionaries (or simply `dict`) are a central building block of python. Python dicts are constructed from pairs of keys and values, making them extremely versatile for data storage. Like list, they can contain deep nested structures, e.g. a dict of dicts of lists. You can learn more about this in the following video:"
   ]
  },
  {
   "cell_type": "code",
   "execution_count": 57,
   "metadata": {},
   "outputs": [
    {
     "data": {
      "image/jpeg": "[encoded data removed]",
      "text/html": [
       "\n",
       "        <iframe\n",
       "            width=\"640\"\n",
       "            height=\"360\"\n",
       "            src=\"https://www.youtube.com/embed/iRju871QsNc\"\n",
       "            frameborder=\"0\"\n",
       "            allowfullscreen\n",
       "        ></iframe>\n",
       "        "
      ],
      "text/plain": [
       "<IPython.lib.display.YouTubeVideo at 0x26c0cf89190>"
      ]
     },
     "execution_count": 57,
     "metadata": {},
     "output_type": "execute_result"
    }
   ],
   "source": [
    "from IPython.display import YouTubeVideo\n",
    "YouTubeVideo('iRju871QsNc', width=640, height=360)"
   ]
  },
  {
   "cell_type": "markdown",
   "metadata": {},
   "source": [
    "Try running the code below, where the keys are strings (names from recent Danish prime ministers) and values are also strings (e.g. political affiliation):"
   ]
  },
  {
   "cell_type": "code",
   "execution_count": 58,
   "metadata": {
    "slideshow": {
     "slide_type": "-"
    }
   },
   "outputs": [],
   "source": [
    "my_dict1 = {'Anders': \"Venstre\",\n",
    "            'Helle': \"Socialdemokratiet\",\n",
    "            'Lars': \"Venstre\",\n",
    "            'Mette': \"Socialdemokratiet\"}"
   ]
  },
  {
   "cell_type": "markdown",
   "metadata": {
    "slideshow": {
     "slide_type": "slide"
    }
   },
   "source": [
    "Now,  print the party of some (former) Danish prime minister by replacing `'Name'` below."
   ]
  },
  {
   "cell_type": "code",
   "execution_count": 59,
   "metadata": {},
   "outputs": [
    {
     "name": "stdout",
     "output_type": "stream",
     "text": [
      "Venstre\n"
     ]
    }
   ],
   "source": [
    "print(my_dict1['Anders'])"
   ]
  },
  {
   "cell_type": "markdown",
   "metadata": {},
   "source": [
    "> **Ex. 5.3.1**: Create an empty dictionary `words` using the `dict()`function. Then add each of the words in `['animal', 'coffee', 'python', 'unit', 'knowledge', 'tread', 'arise']` as a key, with the value being a boolean indicator for whether the word begins with a vowel. The results should look like `{'bacon': False, 'asynchronous': True ...}`.\n",
    "\n",
    "> _Hint:_ One approach is to first construct a function that asseses whether a given word begins with a vowel or not."
   ]
  },
  {
   "cell_type": "code",
   "execution_count": 67,
   "metadata": {
    "deletable": false,
    "nbgrader": {
     "cell_type": "code",
     "checksum": "9833bc08d5bd7e7938c8d329c9c577ce",
     "grade": false,
     "grade_id": "cell-81e592c15ce8ee6d",
     "locked": false,
     "schema_version": 3,
     "solution": true,
     "task": false
    }
   },
   "outputs": [],
   "source": [
    "words = {}\n",
    "words_to_dict = ['animal', 'coffee', 'python', 'unit', 'knowledge', 'tread', 'arise']\n",
    "for i in words_to_dict:\n",
    "    words[i] = i[0] in 'aeiuoy'"
   ]
  },
  {
   "cell_type": "code",
   "execution_count": 79,
   "metadata": {},
   "outputs": [
    {
     "name": "stdout",
     "output_type": "stream",
     "text": [
      "{'animal': True, 'coffee': False, 'python': False, 'unit': True, 'knowledge': False, 'tread': False, 'arise': True}\n"
     ]
    }
   ],
   "source": [
    "print(words)"
   ]
  },
  {
   "cell_type": "markdown",
   "metadata": {},
   "source": [
    "> **Ex. 5.3.2:** Loop through the dictionary `words`. In each iteration, you should print a proper sentence stating whether the current word begins with a vowel or not. \n",
    "\n",
    "> _Hint:_ You can loop through both keys and values simultaneously with the `.items()` method. [This](https://www.tutorialspoint.com/python/python_dictionary.htm) and [this](https://stackoverflow.com/questions/3294889/iterating-over-dictionaries-using-for-loops) might help you."
   ]
  },
  {
   "cell_type": "code",
   "execution_count": 78,
   "metadata": {
    "deletable": false,
    "nbgrader": {
     "cell_type": "code",
     "checksum": "8915800d348370e9f3e558b4f842cea1",
     "grade": false,
     "grade_id": "cell-333a6d7713f78839",
     "locked": false,
     "schema_version": 3,
     "solution": true,
     "task": false
    }
   },
   "outputs": [
    {
     "name": "stdout",
     "output_type": "stream",
     "text": [
      "Animal starts with a vowel\n",
      "Coffee does not start with a vowel\n",
      "Python does not start with a vowel\n",
      "Unit starts with a vowel\n",
      "Knowledge does not start with a vowel\n",
      "Tread does not start with a vowel\n",
      "Arise starts with a vowel\n"
     ]
    }
   ],
   "source": [
    "for i in words:\n",
    "    if words[i]:\n",
    "        print(i.capitalize() + ' starts with a vowel')\n",
    "    else:\n",
    "        print(i.capitalize() + ' does not start with a vowel')\n"
   ]
  },
  {
   "cell_type": "markdown",
   "metadata": {
    "slideshow": {
     "slide_type": "slide"
    }
   },
   "source": [
    "In the video, we also introduced the popular JSON file format which can store lists and dictionaries and hold the three fundamental data types `float`, `int` and `str`. The code example below uses the JSON module to save our dictionary. We use a trick by first converting the JSON file to a string. This can be done with the function `dumps` in the module `json`:"
   ]
  },
  {
   "cell_type": "code",
   "execution_count": 80,
   "metadata": {},
   "outputs": [
    {
     "name": "stdout",
     "output_type": "stream",
     "text": [
      "{\"animal\": true, \"coffee\": false, \"python\": false, \"unit\": true, \"knowledge\": false, \"tread\": false, \"arise\": true}\n"
     ]
    }
   ],
   "source": [
    "import json\n",
    "\n",
    "with open('my_file.JSON', 'w') as f:\n",
    "    my_json_str = json.dumps(words) # convert dictonary to string with JSON formatting\n",
    "    f.write(my_json_str) # write the string to file\n",
    "\n",
    "with open('my_file.JSON', 'r') as f:\n",
    "    print(f.read()) # read the string from file"
   ]
  },
  {
   "cell_type": "markdown",
   "metadata": {},
   "source": [
    "> **Ex. 5.3.3:** Install `https://pypi.org/project/Random-Word/` (documentation [here](https://pypi.org/project/Random-Word/)) by typing `pip install random-word` in your *Anaconda prompt*, and then run the line below. Doing so, you should get a list of 500 randomly drawn words. Now, create a dictionary that contains the length of each of these words (i.e. like `{'livering': 8, 'reiterate': 9,...}`) and save it as a json-file called `r_words.JSON`. Then read it and make sure that you got everything right."
   ]
  },
  {
   "cell_type": "code",
   "execution_count": 81,
   "metadata": {},
   "outputs": [],
   "source": [
    "from random_word import RandomWords\n",
    "r = RandomWords()\n",
    "r_words = r.get_random_words(limit=500)"
   ]
  },
  {
   "cell_type": "code",
   "execution_count": 84,
   "metadata": {
    "deletable": false,
    "nbgrader": {
     "cell_type": "code",
     "checksum": "a798d05c406177a1b63e6aa07331d54b",
     "grade": false,
     "grade_id": "cell-c4a946f4ae699bfc",
     "locked": false,
     "schema_version": 3,
     "solution": true,
     "task": false
    }
   },
   "outputs": [],
   "source": [
    "word_len_dict = {}\n",
    "for i in r_words:\n",
    "    word_len_dict[i] = len(i)"
   ]
  },
  {
   "cell_type": "code",
   "execution_count": 86,
   "metadata": {},
   "outputs": [
    {
     "name": "stdout",
     "output_type": "stream",
     "text": [
      "{\"morphodites\": 11, \"guttifer\": 8, \"brassiest\": 9, \"crowflower\": 10, \"unstandardised\": 14, \"draggingly\": 10, \"lobbied\": 7, \"shakes\": 6, \"defines\": 7, \"unifiers\": 8, \"mulled\": 6, \"weblogging\": 10, \"fecklessness\": 12, \"unstuff\": 7, \"arm-wrestler\": 12, \"fly-by\": 6, \"geochronometers\": 15, \"mated\": 5, \"zoster\": 6, \"metagastrula\": 12, \"cannibalized\": 12, \"midlatitudes\": 12, \"guardable\": 9, \"masher\": 6, \"defaces\": 7, \"foreshot\": 8, \"counter-penalty\": 15, \"ungain\": 6, \"photoreceptive\": 14, \"unbitten\": 8, \"deregulated\": 11, \"gillian\": 7, \"incontinent\": 11, \"eegrass\": 7, \"Nazirite\": 8, \"preparational\": 13, \"feather-spring\": 14, \"instroke\": 8, \"wheedled\": 8, \"part-time\": 9, \"two-four\": 8, \"score\": 5, \"lernean\": 7, \"mataco\": 6, \"hausfrauen\": 10, \"Brisbanian\": 10, \"kuvasz\": 6, \"ultraslow\": 9, \"platemaker\": 10, \"bonefire\": 8, \"unled\": 5, \"homogenise\": 10, \"remembering\": 11, \"solifuge\": 8, \"excretive\": 9, \"girlhood\": 8, \"ti-plant\": 8, \"distinguishable\": 15, \"clears\": 6, \"reoccuring\": 10, \"blackjacks\": 10, \"gouaches\": 8, \"temporarily\": 11, \"profaner\": 8, \"quarer\": 6, \"geospatial\": 10, \"word-catcher\": 12, \"ultraclear\": 10, \"on-ramps\": 8, \"oncomirs\": 8, \"circumvallating\": 15, \"journalise\": 10, \"na\\u00effs\": 5, \"dsRNA\": 5, \"SplitPath\": 9, \"simlin\": 6, \"enemie\": 6, \"kideo\": 5, \"Cancer\": 6, \"last-gasp\": 9, \"theropods\": 9, \"outbursts\": 9, \"squabby\": 7, \"pruriency\": 9, \"bonnet\": 6, \"topfree\": 7, \"kiss-and-tell\": 13, \"propugnation\": 12, \"vernaculous\": 11, \"overhandle\": 10, \"amfepramone\": 11, \"drudges\": 7, \"Marah\": 5, \"shutting\": 8, \"wholesome\": 9, \"raft-up\": 7, \"detracts\": 8, \"rampage\": 7, \"participants\": 12, \"life-support\": 12, \"pinfall\": 7, \"huddling\": 8, \"ollav\": 5, \"chronologies\": 12, \"Onsager\": 7, \"peireskia\": 9, \"rampant\": 7, \"oohed\": 5, \"uninhibitedly\": 13, \"involucellate\": 13, \"wheelbarrow\": 11, \"spooky\": 6, \"constructivisms\": 15, \"uncurbed\": 8, \"cohoes\": 6, \"pancreata\": 9, \"bullate\": 7, \"bicycled\": 8, \"world-wearied\": 13, \"flittermice\": 11, \"Sutter\": 6, \"underprop\": 9, \"trenchcoats\": 11, \"trainability\": 12, \"adits\": 5, \"unfamiliar\": 10, \"posied\": 6, \"paranatellon\": 12, \"evince\": 6, \"cyathiform\": 10, \"ozaena\": 6, \"doofuses\": 8, \"short-breathed\": 14, \"turkey-trot\": 11, \"detonation\": 10, \"mojibake\": 8, \"drugge\": 6, \"cross-bit\": 9, \"driving-band\": 12, \"wishfully\": 9, \"unctorium\": 9, \"ducklike\": 8, \"longinquity\": 11, \"vernacular\": 10, \"Marseilles\": 10, \"stonking\": 8, \"yeeres\": 6, \"thermotherapy\": 13, \"thriftiness\": 11, \"solve\": 5, \"pine-needle\": 11, \"Forro\": 5, \"in-going\": 8, \"berceuses\": 9, \"journey-bated\": 13, \"whisk\": 5, \"transports\": 10, \"mountains\": 9, \"renowm\": 6, \"zonohedron\": 10, \"harps\": 5, \"makunouchi\": 10, \"rakish\": 6, \"Babism\": 6, \"emblematize\": 11, \"claik\": 5, \"ultratough\": 10, \"unraked\": 7, \"laden\": 5, \"noncanal\": 8, \"permaculture\": 12, \"tangent\": 7, \"ununified\": 9, \"filmer\": 6, \"moonling\": 8, \"cogredient\": 10, \"peyotl\": 6, \"Yeoman Warder\": 13, \"dissolutive\": 11, \"welcomeness\": 11, \"yard-master\": 11, \"agitable\": 8, \"leotard\": 7, \"gymnura\": 7, \"consents\": 8, \"unbelt\": 6, \"Lateran Council\": 15, \"happified\": 9, \"ulyie\": 5, \"unstringing\": 11, \"dollars\": 7, \"amenorrhoea\": 11, \"ampere-second\": 13, \"disorganised\": 12, \"auricularis\": 11, \"yarak\": 5, \"ice-crusher\": 11, \"monopolizing\": 12, \"blaud\": 5, \"pollsters\": 9, \"lucullian\": 9, \"placent\": 7, \"thunder-plump\": 13, \"thumpings\": 9, \"Cuzco\": 5, \"winterish\": 9, \"Severn\": 6, \"debone\": 6, \"orthopedics\": 11, \"competitions\": 12, \"true-hearted\": 12, \"humous\": 6, \"fasciated\": 9, \"submergences\": 12, \"dangal\": 6, \"wimmin\": 6, \"generalization\": 14, \"pallidity\": 9, \"pilaws\": 6, \"right-winger\": 12, \"sagamore\": 8, \"auto-changer\": 12, \"thirstless\": 10, \"voyagers\": 8, \"osculator\": 9, \"napoleons\": 9, \"raceme\": 6, \"culasse\": 7, \"bobar\": 5, \"commonised\": 10, \"Hafidh\": 6, \"black-fisher\": 12, \"untrellised\": 11, \"righthanded\": 11, \"lepidopterology\": 15, \"mammary\": 7, \"smooth-chinned\": 14, \"beauteous\": 9, \"zendik\": 6, \"physostigmine\": 13, \"uninjured\": 9, \"Tuchman\": 7, \"copula\": 6, \"morays\": 6, \"galactocele\": 11, \"instinctivity\": 13, \"deglutitory\": 11, \"sea-furbelow\": 12, \"flavorings\": 10, \"toothmugs\": 9, \"smallcap\": 8, \"multi-orgasmic\": 14, \"unificatory\": 11, \"boot-rack\": 9, \"coal-hewer\": 10, \"encrypts\": 8, \"specus\": 6, \"zanyism\": 7, \"display\": 7, \"remittiturs\": 11, \"levomethadone\": 13, \"weatherproofs\": 13, \"transfixing\": 11, \"mineshafts\": 10, \"demonstrator\": 12, \"prosciutti\": 10, \"unjewish\": 8, \"negers\": 6, \"tram-car\": 8, \"lined\": 5, \"liquidated\": 10, \"Creator\": 7, \"arty-farty\": 10, \"celsitude\": 9, \"torgoch\": 7, \"endeavouring\": 12, \"foresign\": 8, \"kgotlas\": 7, \"parceyve\": 8, \"aneal\": 5, \"merino\": 6, \"paragraphing\": 12, \"whirlpools\": 10, \"overhappy\": 9, \"forgotten\": 9, \"Disciple\": 8, \"remitted\": 8, \"Komati\": 6, \"nonprogrammer\": 13, \"columbid\\u00e6\": 9, \"embarass\": 8, \"tunnelled\": 9, \"federate\": 8, \"ngultrums\": 9, \"competition\": 11, \"wobbliness\": 10, \"designs\": 7, \"disappear\": 9, \"mop-headed\": 10, \"remnants\": 8, \"argun\": 5, \"zooplastic\": 10, \"kamseen\": 7, \"probole\": 7, \"molesters\": 9, \"wolf-tooth\": 10, \"neurosurgeon\": 12, \"hierurgy\": 8, \"blatant\": 7, \"forths\": 6, \"albinic\": 7, \"nervus\": 6, \"spellers\": 8, \"stairlift\": 9, \"Mi'Kmaq\": 7, \"creat\": 5, \"Feldenkrais\": 11, \"electrofusion\": 13, \"oxyfluorfen\": 11, \"cut-out\": 7, \"berated\": 7, \"unshunned\": 9, \"sorts\": 5, \"untroubled\": 10, \"scarcity\": 8, \"liquidate\": 9, \"jackeens\": 8, \"replicating\": 11, \"sorries\": 7, \"whiskeys\": 8, \"type-holder\": 11, \"maggoty-pie\": 11, \"weakish\": 7, \"hypnotize\": 9, \"inhalent\": 8, \"untelegenic\": 11, \"opercula\": 8, \"low-level\": 9, \"trinitite\": 9, \"intrado\": 7, \"priesthood\": 10, \"quotableness\": 12, \"chronograph\": 11, \"tie-tie\": 7, \"tonneau\": 7, \"kebbuck\": 7, \"avgas\": 5, \"sternutatory\": 12, \"willful\": 7, \"arblast\": 7, \"wastebasket\": 11, \"paysanne\": 8, \"grutten\": 7, \"stylometry\": 10, \"epileptically\": 13, \"tusks\": 5, \"purposeless\": 11, \"gauntness\": 9, \"chapewe\": 7, \"regionwide\": 10, \"upbearing\": 9, \"diplomat\": 8, \"clonal\": 6, \"squir\": 5, \"coalite\": 7, \"solves\": 6, \"consentaneously\": 15, \"pacifist\": 8, \"reticulating\": 12, \"tirolean\": 8, \"irrationally\": 12, \"catechumenism\": 13, \"orienteers\": 10, \"bushwacks\": 9, \"chronicity\": 10, \"cheddars\": 8, \"quaintness\": 10, \"thugocracies\": 12, \"tusked\": 6, \"instruction\": 11, \"accessions\": 10, \"outsold\": 7, \"factualness\": 11, \"macaw\": 5, \"postulation\": 11, \"caste-ridden\": 12, \"aquaplane\": 9, \"indomitable\": 11, \"neuronaut\": 9, \"peastone\": 8, \"undersigned\": 11, \"Abigail\": 7, \"fustigated\": 10, \"upgradability\": 13, \"inebriacy\": 9, \"encroaches\": 10, \"destined\": 8, \"nilgai\": 6, \"mortalitie\": 10, \"exercycle\": 9, \"opening\": 7, \"hostessing\": 10, \"shipway\": 7, \"flesh\": 5, \"basely\": 6, \"crystallise\": 11, \"multihulled\": 11, \"medicinable\": 11, \"yobbishly\": 9, \"stertorous\": 10, \"monokinis\": 9, \"intermedia\": 10, \"premature\": 9, \"toddlers\": 8, \"baby-snatcher\": 13, \"privatizations\": 14, \"toges\": 5, \"niddering\": 9, \"commonise\": 9, \"pedicure\": 8, \"plitt\": 5, \"amicable\": 8, \"correlational\": 13, \"germanes\": 8, \"maritally\": 9, \"blubbering\": 10, \"obsessively\": 11, \"straphangers\": 12, \"probiotic\": 9, \"algaecides\": 10, \"triple-turned\": 13, \"tunesmith\": 9, \"theologists\": 11, \"grandiloquous\": 13, \"faintness\": 9, \"kindship\": 8, \"Patton\": 6, \"learning\": 8, \"movement-cure\": 13, \"snorts\": 6, \"digression\": 10, \"bottel\": 6, \"sublessees\": 10, \"Abednego\": 8, \"manifolds\": 9, \"pheasant-tailed\": 15, \"Aachen\": 6, \"pollutions\": 10, \"Awadhi\": 6, \"decrials\": 8, \"ophiopogon\": 10, \"dreamier\": 8, \"inaccurate\": 10, \"Alvarez\": 7, \"plater\": 6, \"pokeweed\": 8, \"unthoughtful\": 12, \"mud-walled\": 10, \"cholesteatomas\": 14, \"retroposon\": 10, \"Keene\": 5, \"catenins\": 8, \"bandishes\": 9, \"upgradeable\": 11, \"unsnarled\": 9, \"photosculpture\": 14, \"discolored\": 10, \"decapitation\": 12, \"perfectitude\": 12, \"Asimovian\": 9, \"queans\": 6, \"unfried\": 7, \"wuerzburg\": 9, \"vibronic\": 8, \"nonwriter\": 9, \"mesorhinian\": 11, \"praya\": 5, \"tulgey\": 6, \"haberdepoise\": 12, \"trifoliolate\": 12, \"technics\": 8, \"multiprotein\": 12, \"whetten\": 7, \"corseted\": 8, \"payne\": 5, \"crenellations\": 13, \"teetotums\": 9, \"fumbling\": 8, \"girlishness\": 11, \"Uthappa\": 7, \"mudslingings\": 12, \"reprobating\": 11, \"futons\": 6, \"ition\": 5, \"pyromorphite\": 12, \"unslacked\": 9, \"bodings\": 7, \"hyperuricemia\": 13, \"welthy\": 6, \"noncosmetic\": 11}\n"
     ]
    }
   ],
   "source": [
    "with open('r_words.JSON', 'w') as f:\n",
    "    my_json_str = json.dumps(word_len_dict) # convert dictonary to string with JSON formatting\n",
    "    f.write(my_json_str) # write the string to file\n",
    "\n",
    "with open('r_words.JSON', 'r') as f:\n",
    "    print(f.read()) # read the string from file"
   ]
  },
  {
   "cell_type": "code",
   "execution_count": null,
   "metadata": {},
   "outputs": [],
   "source": []
  },
  {
   "cell_type": "markdown",
   "metadata": {},
   "source": [
    "<br>\n",
    "\n",
    "# Part 4: Python and the Web\n",
    "\n",
    "The internet is a massive source for collecting data. Watch the video below to get an overview of the most fundamental protocols and how we work with them."
   ]
  },
  {
   "cell_type": "code",
   "execution_count": 89,
   "metadata": {},
   "outputs": [
    {
     "data": {
      "image/jpeg": "[encoded data removed]",
      "text/html": [
       "\n",
       "        <iframe\n",
       "            width=\"640\"\n",
       "            height=\"360\"\n",
       "            src=\"https://www.youtube.com/embed/cOfo3fRt05w\"\n",
       "            frameborder=\"0\"\n",
       "            allowfullscreen\n",
       "        ></iframe>\n",
       "        "
      ],
      "text/plain": [
       "<IPython.lib.display.YouTubeVideo at 0x26c0d28bd30>"
      ]
     },
     "execution_count": 89,
     "metadata": {},
     "output_type": "execute_result"
    }
   ],
   "source": [
    "YouTubeVideo('cOfo3fRt05w', width=640, height=360)"
   ]
  },
  {
   "cell_type": "markdown",
   "metadata": {
    "slideshow": {
     "slide_type": "slide"
    }
   },
   "source": [
    "## Application Programming Interface (API)\n",
    "\n",
    "APIs are protocols that allow us to request information and/or services from the provider of the API. In this course, we are mainly interested in APIs that provide data as a response to our requests. Watch the video below to get a sense of what APIs exist and how they work."
   ]
  },
  {
   "cell_type": "code",
   "execution_count": 90,
   "metadata": {},
   "outputs": [
    {
     "data": {
      "image/jpeg": "[encoded data removed]",
      "text/html": [
       "\n",
       "        <iframe\n",
       "            width=\"640\"\n",
       "            height=\"360\"\n",
       "            src=\"https://www.youtube.com/embed/llFtQKWBApU\"\n",
       "            frameborder=\"0\"\n",
       "            allowfullscreen\n",
       "        ></iframe>\n",
       "        "
      ],
      "text/plain": [
       "<IPython.lib.display.YouTubeVideo at 0x26c0cf89ee0>"
      ]
     },
     "execution_count": 90,
     "metadata": {},
     "output_type": "execute_result"
    }
   ],
   "source": [
    "YouTubeVideo('llFtQKWBApU', width=640, height=360)"
   ]
  },
  {
   "cell_type": "markdown",
   "metadata": {},
   "source": [
    "## Building the Queries\n",
    "We will now move on to understanding how we can interact with a web API in Python. First we will see how to build a query, which is simply a web address. By typing in a specific web address, the web server will receive information from us.\n",
    "\n",
    "In the example below we build a URL that allows us to check out which repositories ISDSUCPH has publicly available."
   ]
  },
  {
   "cell_type": "code",
   "execution_count": 91,
   "metadata": {
    "slideshow": {
     "slide_type": "fragment"
    }
   },
   "outputs": [
    {
     "name": "stdout",
     "output_type": "stream",
     "text": [
      "https://api.github.com/users/isdsucph/repos\n"
     ]
    }
   ],
   "source": [
    "server_url = 'https://api.github.com'\n",
    "endpoint_path = '/users/isdsucph/repos'\n",
    "\n",
    "url = server_url + endpoint_path\n",
    "\n",
    "print(url)"
   ]
  },
  {
   "cell_type": "markdown",
   "metadata": {
    "slideshow": {
     "slide_type": "slide"
    }
   },
   "source": [
    "## Sending the Query\n",
    "Python has a smart module, named `requests` (get it with `pip install requests`), that allows us to interact with the web. When we request a URL, we get a response in return. Among other things, it allows us to inspect the HTML code. In the example below, we query the URL for the GitHub API we made above. "
   ]
  },
  {
   "cell_type": "code",
   "execution_count": 92,
   "metadata": {
    "slideshow": {
     "slide_type": "fragment"
    }
   },
   "outputs": [],
   "source": [
    "import requests # import the module requests\n",
    "response = requests.get(url) # submit query with `get` and save response as object"
   ]
  },
  {
   "cell_type": "markdown",
   "metadata": {},
   "source": [
    "When we examine the response, we can see the HTML string is pretty long, so we limit the initial output to the first 1,000 characters. "
   ]
  },
  {
   "cell_type": "code",
   "execution_count": 96,
   "metadata": {
    "slideshow": {
     "slide_type": "fragment"
    }
   },
   "outputs": [
    {
     "name": "stdout",
     "output_type": "stream",
     "text": [
      "10077 \n",
      "\n",
      "[{\"id\":381957904,\"node_id\":\"MDEwOlJlcG9zaXRvcnkzODE5NTc5MDQ=\",\"name\":\"isds2021\",\"full_name\":\"isdsucph/isds2021\",\"private\":false,\"owner\":{\"login\":\"isdsucph\",\"id\":86770179,\"node_id\":\"MDQ6VXNlcjg2NzcwMTc5\",\"avatar_url\":\"https://avatars.githubusercontent.com/u/86770179?v=4\",\"gravatar_id\":\"\",\"url\":\"https://api.github.com/users/isdsucph\",\"html_url\":\"https://github.com/isdsucph\",\"followers_url\":\"https://api.github.com/users/isdsucph/followers\",\"following_url\":\"https://api.github.com/users/isdsucph/following{/other_user}\",\"gists_url\":\"https://api.github.com/users/isdsucph/gists{/gist_id}\",\"starred_url\":\"https://api.github.com/users/isdsucph/starred{/owner}{/repo}\",\"subscriptions_url\":\"https://api.github.com/users/isdsucph/subscriptions\",\"organizations_url\":\"https://api.github.com/users/isdsucph/orgs\",\"repos_url\":\"https://api.github.com/users/isdsucph/repos\",\"events_url\":\"https://api.github.com/users/isdsucph/events{/privacy}\",\"received_events_url\":\"https://api.github.com/users/isdsucph/receive\n"
     ]
    }
   ],
   "source": [
    "print(len(response.text),'\\n') # print length of HTML\n",
    "print(response.text[:1000]) # print first 1,000 characters of HTML "
   ]
  },
  {
   "cell_type": "markdown",
   "metadata": {},
   "source": [
    "Looking closely, we notice how the structure resembles lists and dictionaries (note that depending on the context, these responses can be VERY difficult to make sense of from simply printing - just as in this case). Therefore, we try to convert it by assuming that it is structured as JSON."
   ]
  },
  {
   "cell_type": "code",
   "execution_count": 104,
   "metadata": {},
   "outputs": [
    {
     "data": {
      "text/plain": [
       "{'id': 381957904,\n",
       " 'node_id': 'MDEwOlJlcG9zaXRvcnkzODE5NTc5MDQ=',\n",
       " 'name': 'isds2021',\n",
       " 'full_name': 'isdsucph/isds2021',\n",
       " 'private': False,\n",
       " 'owner': {'login': 'isdsucph',\n",
       "  'id': 86770179,\n",
       "  'node_id': 'MDQ6VXNlcjg2NzcwMTc5',\n",
       "  'avatar_url': 'https://avatars.githubusercontent.com/u/86770179?v=4',\n",
       "  'gravatar_id': '',\n",
       "  'url': 'https://api.github.com/users/isdsucph',\n",
       "  'html_url': 'https://github.com/isdsucph',\n",
       "  'followers_url': 'https://api.github.com/users/isdsucph/followers',\n",
       "  'following_url': 'https://api.github.com/users/isdsucph/following{/other_user}',\n",
       "  'gists_url': 'https://api.github.com/users/isdsucph/gists{/gist_id}',\n",
       "  'starred_url': 'https://api.github.com/users/isdsucph/starred{/owner}{/repo}',\n",
       "  'subscriptions_url': 'https://api.github.com/users/isdsucph/subscriptions',\n",
       "  'organizations_url': 'https://api.github.com/users/isdsucph/orgs',\n",
       "  'repos_url': 'https://api.github.com/users/isdsucph/repos',\n",
       "  'events_url': 'https://api.github.com/users/isdsucph/events{/privacy}',\n",
       "  'received_events_url': 'https://api.github.com/users/isdsucph/received_events',\n",
       "  'type': 'User',\n",
       "  'site_admin': False},\n",
       " 'html_url': 'https://github.com/isdsucph/isds2021',\n",
       " 'description': 'Introduction to Social Data Science 2021 - a summer school course https://isdsucph.github.io/isds2021/',\n",
       " 'fork': False,\n",
       " 'url': 'https://api.github.com/repos/isdsucph/isds2021',\n",
       " 'forks_url': 'https://api.github.com/repos/isdsucph/isds2021/forks',\n",
       " 'keys_url': 'https://api.github.com/repos/isdsucph/isds2021/keys{/key_id}',\n",
       " 'collaborators_url': 'https://api.github.com/repos/isdsucph/isds2021/collaborators{/collaborator}',\n",
       " 'teams_url': 'https://api.github.com/repos/isdsucph/isds2021/teams',\n",
       " 'hooks_url': 'https://api.github.com/repos/isdsucph/isds2021/hooks',\n",
       " 'issue_events_url': 'https://api.github.com/repos/isdsucph/isds2021/issues/events{/number}',\n",
       " 'events_url': 'https://api.github.com/repos/isdsucph/isds2021/events',\n",
       " 'assignees_url': 'https://api.github.com/repos/isdsucph/isds2021/assignees{/user}',\n",
       " 'branches_url': 'https://api.github.com/repos/isdsucph/isds2021/branches{/branch}',\n",
       " 'tags_url': 'https://api.github.com/repos/isdsucph/isds2021/tags',\n",
       " 'blobs_url': 'https://api.github.com/repos/isdsucph/isds2021/git/blobs{/sha}',\n",
       " 'git_tags_url': 'https://api.github.com/repos/isdsucph/isds2021/git/tags{/sha}',\n",
       " 'git_refs_url': 'https://api.github.com/repos/isdsucph/isds2021/git/refs{/sha}',\n",
       " 'trees_url': 'https://api.github.com/repos/isdsucph/isds2021/git/trees{/sha}',\n",
       " 'statuses_url': 'https://api.github.com/repos/isdsucph/isds2021/statuses/{sha}',\n",
       " 'languages_url': 'https://api.github.com/repos/isdsucph/isds2021/languages',\n",
       " 'stargazers_url': 'https://api.github.com/repos/isdsucph/isds2021/stargazers',\n",
       " 'contributors_url': 'https://api.github.com/repos/isdsucph/isds2021/contributors',\n",
       " 'subscribers_url': 'https://api.github.com/repos/isdsucph/isds2021/subscribers',\n",
       " 'subscription_url': 'https://api.github.com/repos/isdsucph/isds2021/subscription',\n",
       " 'commits_url': 'https://api.github.com/repos/isdsucph/isds2021/commits{/sha}',\n",
       " 'git_commits_url': 'https://api.github.com/repos/isdsucph/isds2021/git/commits{/sha}',\n",
       " 'comments_url': 'https://api.github.com/repos/isdsucph/isds2021/comments{/number}',\n",
       " 'issue_comment_url': 'https://api.github.com/repos/isdsucph/isds2021/issues/comments{/number}',\n",
       " 'contents_url': 'https://api.github.com/repos/isdsucph/isds2021/contents/{+path}',\n",
       " 'compare_url': 'https://api.github.com/repos/isdsucph/isds2021/compare/{base}...{head}',\n",
       " 'merges_url': 'https://api.github.com/repos/isdsucph/isds2021/merges',\n",
       " 'archive_url': 'https://api.github.com/repos/isdsucph/isds2021/{archive_format}{/ref}',\n",
       " 'downloads_url': 'https://api.github.com/repos/isdsucph/isds2021/downloads',\n",
       " 'issues_url': 'https://api.github.com/repos/isdsucph/isds2021/issues{/number}',\n",
       " 'pulls_url': 'https://api.github.com/repos/isdsucph/isds2021/pulls{/number}',\n",
       " 'milestones_url': 'https://api.github.com/repos/isdsucph/isds2021/milestones{/number}',\n",
       " 'notifications_url': 'https://api.github.com/repos/isdsucph/isds2021/notifications{?since,all,participating}',\n",
       " 'labels_url': 'https://api.github.com/repos/isdsucph/isds2021/labels{/name}',\n",
       " 'releases_url': 'https://api.github.com/repos/isdsucph/isds2021/releases{/id}',\n",
       " 'deployments_url': 'https://api.github.com/repos/isdsucph/isds2021/deployments',\n",
       " 'created_at': '2021-07-01T08:09:57Z',\n",
       " 'updated_at': '2021-08-04T07:12:53Z',\n",
       " 'pushed_at': '2021-08-04T07:12:50Z',\n",
       " 'git_url': 'git://github.com/isdsucph/isds2021.git',\n",
       " 'ssh_url': 'git@github.com:isdsucph/isds2021.git',\n",
       " 'clone_url': 'https://github.com/isdsucph/isds2021.git',\n",
       " 'svn_url': 'https://github.com/isdsucph/isds2021',\n",
       " 'homepage': '',\n",
       " 'size': 41495,\n",
       " 'stargazers_count': 12,\n",
       " 'watchers_count': 12,\n",
       " 'language': 'Jupyter Notebook',\n",
       " 'has_issues': True,\n",
       " 'has_projects': True,\n",
       " 'has_downloads': True,\n",
       " 'has_wiki': True,\n",
       " 'has_pages': True,\n",
       " 'forks_count': 30,\n",
       " 'mirror_url': None,\n",
       " 'archived': False,\n",
       " 'disabled': False,\n",
       " 'open_issues_count': 11,\n",
       " 'license': {'key': 'mit',\n",
       "  'name': 'MIT License',\n",
       "  'spdx_id': 'MIT',\n",
       "  'url': 'https://api.github.com/licenses/mit',\n",
       "  'node_id': 'MDc6TGljZW5zZTEz'},\n",
       " 'forks': 30,\n",
       " 'open_issues': 11,\n",
       " 'watchers': 12,\n",
       " 'default_branch': 'main'}"
      ]
     },
     "execution_count": 104,
     "metadata": {},
     "output_type": "execute_result"
    }
   ],
   "source": [
    "response_json = response.json() # convert response to a list of dicts\n",
    "response_json[0]"
   ]
  },
  {
   "cell_type": "markdown",
   "metadata": {},
   "source": [
    "Now it is easier to see that this is in fact a dictionary. Looking more closely at the output, we can also see that the depth of the dictionary is not trivial - it contains dictionaries of dictionaries.\n",
    "\n",
    "In order to make the output more digestable, use the so-called *pretty printer* that, among other things, arranges the output alphabetically and makes the depth of the output more clearly visible. Take a look and compare with what we had above:"
   ]
  },
  {
   "cell_type": "code",
   "execution_count": 108,
   "metadata": {},
   "outputs": [
    {
     "name": "stdout",
     "output_type": "stream",
     "text": [
      "[{'archive_url': 'https://api.github.com/repos/isdsucph/isds2021/{archive_format}{/ref}',\n",
      "  'archived': False,\n",
      "  'assignees_url': 'https://api.github.com/repos/isdsucph/isds2021/assignees{/user}',\n",
      "  'blobs_url': 'https://api.github.com/repos/isdsucph/isds2021/git/blobs{/sha}',\n",
      "  'branches_url': 'https://api.github.com/repos/isdsucph/isds2021/branches{/branch}',\n",
      "  'clone_url': 'https://github.com/isdsucph/isds2021.git',\n",
      "  'collaborators_url': 'https://api.github.com/repos/isdsucph/isds2021/collaborators{/collaborator}',\n",
      "  'comments_url': 'https://api.github.com/repos/isdsucph/isds2021/comments{/number}',\n",
      "  'commits_url': 'https://api.github.com/repos/isdsucph/isds2021/commits{/sha}',\n",
      "  'compare_url': 'https://api.github.com/repos/isdsucph/isds2021/compare/{base}...{head}',\n",
      "  'contents_url': 'https://api.github.com/repos/isdsucph/isds2021/contents/{+path}',\n",
      "  'contributors_url': 'https://api.github.com/repos/isdsucph/isds2021/contributors',\n",
      "  'created_at': '2021-07-01T08:09:57Z',\n",
      "  'default_branch': 'main',\n",
      "  'deployments_url': 'https://api.github.com/repos/isdsucph/isds2021/deployments',\n",
      "  'description': 'Introduction to Social Data Science 2021 - a summer school '\n",
      "                 'course https://isdsucph.github.io/isds2021/',\n",
      "  'disabled': False,\n",
      "  'downloads_url': 'https://api.github.com/repos/isdsucph/isds2021/downloads',\n",
      "  'events_url': 'https://api.github.com/repos/isdsucph/isds2021/events',\n",
      "  'fork': False,\n",
      "  'forks': 30,\n",
      "  'forks_count': 30,\n",
      "  'forks_url': 'https://api.github.com/repos/isdsucph/isds2021/forks',\n",
      "  'full_name': 'isdsucph/isds2021',\n",
      "  'git_commits_url': 'https://api.github.com/repos/isdsucph/isds2021/git/commits{/sha}',\n",
      "  'git_refs_url': 'https://api.github.com/repos/isdsucph/isds2021/git/refs{/sha}',\n",
      "  'git_tags_url': 'https://api.github.com/repos/isdsucph/isds2021/git/tags{/sha}',\n",
      "  'git_url': 'git://github.com/isdsucph/isds2021.git',\n",
      "  'has_downloads': True,\n",
      "  'has_issues': True,\n",
      "  'has_pages': True,\n",
      "  'has_projects': True,\n",
      "  'has_wiki': True,\n",
      "  'homepage': '',\n",
      "  'hooks_url': 'https://api.github.com/repos/isdsucph/isds2021/hooks',\n",
      "  'html_url': 'https://github.com/isdsucph/isds2021',\n",
      "  'id': 381957904,\n",
      "  'issue_comment_url': 'https://api.github.com/repos/isdsucph/isds2021/issues/comments{/number}',\n",
      "  'issue_events_url': 'https://api.github.com/repos/isdsucph/isds2021/issues/events{/number}',\n",
      "  'issues_url': 'https://api.github.com/repos/isdsucph/isds2021/issues{/number}',\n",
      "  'keys_url': 'https://api.github.com/repos/isdsucph/isds2021/keys{/key_id}',\n",
      "  'labels_url': 'https://api.github.com/repos/isdsucph/isds2021/labels{/name}',\n",
      "  'language': 'Jupyter Notebook',\n",
      "  'languages_url': 'https://api.github.com/repos/isdsucph/isds2021/languages',\n",
      "  'license': {'key': 'mit',\n",
      "              'name': 'MIT License',\n",
      "              'node_id': 'MDc6TGljZW5zZTEz',\n",
      "              'spdx_id': 'MIT',\n",
      "              'url': 'https://api.github.com/licenses/mit'},\n",
      "  'merges_url': 'https://api.github.com/repos/isdsucph/isds2021/merges',\n",
      "  'milestones_url': 'https://api.github.com/repos/isdsucph/isds2021/milestones{/number}',\n",
      "  'mirror_url': None,\n",
      "  'name': 'isds2021',\n",
      "  'node_id': 'MDEwOlJlcG9zaXRvcnkzODE5NTc5MDQ=',\n",
      "  'notifications_url': 'https://api.github.com/repos/isdsucph/isds2021/notifications{?since,all,participating}',\n",
      "  'open_issues': 11,\n",
      "  'open_issues_count': 11,\n",
      "  'owner': {'avatar_url': 'https://avatars.githubusercontent.com/u/86770179?v=4',\n",
      "            'events_url': 'https://api.github.com/users/isdsucph/events{/privacy}',\n",
      "            'followers_url': 'https://api.github.com/users/isdsucph/followers',\n",
      "            'following_url': 'https://api.github.com/users/isdsucph/following{/other_user}',\n",
      "            'gists_url': 'https://api.github.com/users/isdsucph/gists{/gist_id}',\n",
      "            'gravatar_id': '',\n",
      "            'html_url': 'https://github.com/isdsucph',\n",
      "            'id': 86770179,\n",
      "            'login': 'isdsucph',\n",
      "            'node_id': 'MDQ6VXNlcjg2NzcwMTc5',\n",
      "            'organizations_url': 'https://api.github.com/users/isdsucph/orgs',\n",
      "            'received_events_url': 'https://api.github.com/users/isdsucph/received_events',\n",
      "            'repos_url': 'https://api.github.com/users/isdsucph/repos',\n",
      "            'site_admin': False,\n",
      "            'starred_url': 'https://api.github.com/users/isdsucph/starred{/owner}{/repo}',\n",
      "            'subscriptions_url': 'https://api.github.com/users/isdsucph/subscriptions',\n",
      "            'type': 'User',\n",
      "            'url': 'https://api.github.com/users/isdsucph'},\n",
      "  'private': False,\n",
      "  'pulls_url': 'https://api.github.com/repos/isdsucph/isds2021/pulls{/number}',\n",
      "  'pushed_at': '2021-08-04T07:12:50Z',\n",
      "  'releases_url': 'https://api.github.com/repos/isdsucph/isds2021/releases{/id}',\n",
      "  'size': 41495,\n",
      "  'ssh_url': 'git@github.com:isdsucph/isds2021.git',\n",
      "  'stargazers_count': 12,\n",
      "  'stargazers_url': 'https://api.github.com/repos/isdsucph/isds2021/stargazers',\n",
      "  'statuses_url': 'https://api.github.com/repos/isdsucph/isds2021/statuses/{sha}',\n",
      "  'subscribers_url': 'https://api.github.com/repos/isdsucph/isds2021/subscribers',\n",
      "  'subscription_url': 'https://api.github.com/repos/isdsucph/isds2021/subscription',\n",
      "  'svn_url': 'https://github.com/isdsucph/isds2021',\n",
      "  'tags_url': 'https://api.github.com/repos/isdsucph/isds2021/tags',\n",
      "  'teams_url': 'https://api.github.com/repos/isdsucph/isds2021/teams',\n",
      "  'trees_url': 'https://api.github.com/repos/isdsucph/isds2021/git/trees{/sha}',\n",
      "  'updated_at': '2021-08-04T07:12:53Z',\n",
      "  'url': 'https://api.github.com/repos/isdsucph/isds2021',\n",
      "  'watchers': 12,\n",
      "  'watchers_count': 12},\n",
      " {'archive_url': 'https://api.github.com/repos/isdsucph/isdsucph.github.io/{archive_format}{/ref}',\n",
      "  'archived': False,\n",
      "  'assignees_url': 'https://api.github.com/repos/isdsucph/isdsucph.github.io/assignees{/user}',\n",
      "  'blobs_url': 'https://api.github.com/repos/isdsucph/isdsucph.github.io/git/blobs{/sha}',\n",
      "  'branches_url': 'https://api.github.com/repos/isdsucph/isdsucph.github.io/branches{/branch}',\n",
      "  'clone_url': 'https://github.com/isdsucph/isdsucph.github.io.git',\n",
      "  'collaborators_url': 'https://api.github.com/repos/isdsucph/isdsucph.github.io/collaborators{/collaborator}',\n",
      "  'comments_url': 'https://api.github.com/repos/isdsucph/isdsucph.github.io/comments{/number}',\n",
      "  'commits_url': 'https://api.github.com/repos/isdsucph/isdsucph.github.io/commits{/sha}',\n",
      "  'compare_url': 'https://api.github.com/repos/isdsucph/isdsucph.github.io/compare/{base}...{head}',\n",
      "  'contents_url': 'https://api.github.com/repos/isdsucph/isdsucph.github.io/contents/{+path}',\n",
      "  'contributors_url': 'https://api.github.com/repos/isdsucph/isdsucph.github.io/contributors',\n",
      "  'created_at': '2021-07-01T08:13:49Z',\n",
      "  'default_branch': 'main',\n",
      "  'deployments_url': 'https://api.github.com/repos/isdsucph/isdsucph.github.io/deployments',\n",
      "  'description': None,\n",
      "  'disabled': False,\n",
      "  'downloads_url': 'https://api.github.com/repos/isdsucph/isdsucph.github.io/downloads',\n",
      "  'events_url': 'https://api.github.com/repos/isdsucph/isdsucph.github.io/events',\n",
      "  'fork': False,\n",
      "  'forks': 0,\n",
      "  'forks_count': 0,\n",
      "  'forks_url': 'https://api.github.com/repos/isdsucph/isdsucph.github.io/forks',\n",
      "  'full_name': 'isdsucph/isdsucph.github.io',\n",
      "  'git_commits_url': 'https://api.github.com/repos/isdsucph/isdsucph.github.io/git/commits{/sha}',\n",
      "  'git_refs_url': 'https://api.github.com/repos/isdsucph/isdsucph.github.io/git/refs{/sha}',\n",
      "  'git_tags_url': 'https://api.github.com/repos/isdsucph/isdsucph.github.io/git/tags{/sha}',\n",
      "  'git_url': 'git://github.com/isdsucph/isdsucph.github.io.git',\n",
      "  'has_downloads': True,\n",
      "  'has_issues': True,\n",
      "  'has_pages': True,\n",
      "  'has_projects': True,\n",
      "  'has_wiki': True,\n",
      "  'homepage': None,\n",
      "  'hooks_url': 'https://api.github.com/repos/isdsucph/isdsucph.github.io/hooks',\n",
      "  'html_url': 'https://github.com/isdsucph/isdsucph.github.io',\n",
      "  'id': 381958923,\n",
      "  'issue_comment_url': 'https://api.github.com/repos/isdsucph/isdsucph.github.io/issues/comments{/number}',\n",
      "  'issue_events_url': 'https://api.github.com/repos/isdsucph/isdsucph.github.io/issues/events{/number}',\n",
      "  'issues_url': 'https://api.github.com/repos/isdsucph/isdsucph.github.io/issues{/number}',\n",
      "  'keys_url': 'https://api.github.com/repos/isdsucph/isdsucph.github.io/keys{/key_id}',\n",
      "  'labels_url': 'https://api.github.com/repos/isdsucph/isdsucph.github.io/labels{/name}',\n",
      "  'language': None,\n",
      "  'languages_url': 'https://api.github.com/repos/isdsucph/isdsucph.github.io/languages',\n",
      "  'license': None,\n",
      "  'merges_url': 'https://api.github.com/repos/isdsucph/isdsucph.github.io/merges',\n",
      "  'milestones_url': 'https://api.github.com/repos/isdsucph/isdsucph.github.io/milestones{/number}',\n",
      "  'mirror_url': None,\n",
      "  'name': 'isdsucph.github.io',\n",
      "  'node_id': 'MDEwOlJlcG9zaXRvcnkzODE5NTg5MjM=',\n",
      "  'notifications_url': 'https://api.github.com/repos/isdsucph/isdsucph.github.io/notifications{?since,all,participating}',\n",
      "  'open_issues': 0,\n",
      "  'open_issues_count': 0,\n",
      "  'owner': {'avatar_url': 'https://avatars.githubusercontent.com/u/86770179?v=4',\n",
      "            'events_url': 'https://api.github.com/users/isdsucph/events{/privacy}',\n",
      "            'followers_url': 'https://api.github.com/users/isdsucph/followers',\n",
      "            'following_url': 'https://api.github.com/users/isdsucph/following{/other_user}',\n",
      "            'gists_url': 'https://api.github.com/users/isdsucph/gists{/gist_id}',\n",
      "            'gravatar_id': '',\n",
      "            'html_url': 'https://github.com/isdsucph',\n",
      "            'id': 86770179,\n",
      "            'login': 'isdsucph',\n",
      "            'node_id': 'MDQ6VXNlcjg2NzcwMTc5',\n",
      "            'organizations_url': 'https://api.github.com/users/isdsucph/orgs',\n",
      "            'received_events_url': 'https://api.github.com/users/isdsucph/received_events',\n",
      "            'repos_url': 'https://api.github.com/users/isdsucph/repos',\n",
      "            'site_admin': False,\n",
      "            'starred_url': 'https://api.github.com/users/isdsucph/starred{/owner}{/repo}',\n",
      "            'subscriptions_url': 'https://api.github.com/users/isdsucph/subscriptions',\n",
      "            'type': 'User',\n",
      "            'url': 'https://api.github.com/users/isdsucph'},\n",
      "  'private': False,\n",
      "  'pulls_url': 'https://api.github.com/repos/isdsucph/isdsucph.github.io/pulls{/number}',\n",
      "  'pushed_at': '2021-07-01T08:13:50Z',\n",
      "  'releases_url': 'https://api.github.com/repos/isdsucph/isdsucph.github.io/releases{/id}',\n",
      "  'size': 0,\n",
      "  'ssh_url': 'git@github.com:isdsucph/isdsucph.github.io.git',\n",
      "  'stargazers_count': 0,\n",
      "  'stargazers_url': 'https://api.github.com/repos/isdsucph/isdsucph.github.io/stargazers',\n",
      "  'statuses_url': 'https://api.github.com/repos/isdsucph/isdsucph.github.io/statuses/{sha}',\n",
      "  'subscribers_url': 'https://api.github.com/repos/isdsucph/isdsucph.github.io/subscribers',\n",
      "  'subscription_url': 'https://api.github.com/repos/isdsucph/isdsucph.github.io/subscription',\n",
      "  'svn_url': 'https://github.com/isdsucph/isdsucph.github.io',\n",
      "  'tags_url': 'https://api.github.com/repos/isdsucph/isdsucph.github.io/tags',\n",
      "  'teams_url': 'https://api.github.com/repos/isdsucph/isdsucph.github.io/teams',\n",
      "  'trees_url': 'https://api.github.com/repos/isdsucph/isdsucph.github.io/git/trees{/sha}',\n",
      "  'updated_at': '2021-07-01T08:13:53Z',\n",
      "  'url': 'https://api.github.com/repos/isdsucph/isdsucph.github.io',\n",
      "  'watchers': 0,\n",
      "  'watchers_count': 0}]\n"
     ]
    }
   ],
   "source": [
    "import pprint #Data pretty printer\n",
    "pprint.pprint(response.json()) #Everything is aranged alphabetically and in appropriate levels"
   ]
  },
  {
   "cell_type": "markdown",
   "metadata": {},
   "source": [
    "## The Punk API\n",
    "\n",
    "Now, it is time for you to request information through an API. First, we will work with the punk API that contains information on a large selection of beers. In this part of exercises, you are going to navigate in the information on these beers. Second, you are going to extract information from the DST (Statistics Denmark) API.\n",
    "\n",
    "The [punk API](https://punkapi.com/) serves information about _beers_. It is a well made and well documented API which makes it great for learning about APIs. \n",
    "\n",
    "> **Ex. 5.4.1:** Read the documentation on the Punk API available [here](https://punkapi.com/documentation/v2). What is the server url (i.e. root endpoint) of the Punk API? Does it require authentication? Then use the Punk API to make a request for the first 80 beers brewed after April, 2004 with an ABV of at least 5."
   ]
  },
  {
   "cell_type": "code",
   "execution_count": null,
   "metadata": {
    "deletable": false,
    "nbgrader": {
     "cell_type": "code",
     "checksum": "0779d90d691b0832d3385b4a1dd546cb",
     "grade": false,
     "grade_id": "cell-d6af29d54fd7ded7",
     "locked": false,
     "schema_version": 3,
     "solution": true,
     "task": false
    }
   },
   "outputs": [],
   "source": [
    "# Rootpoint\n",
    "### https://api.punkapi.com/v2/\n",
    "\n",
    "# The server does not require authentication but it has a limit"
   ]
  },
  {
   "cell_type": "code",
   "execution_count": 120,
   "metadata": {},
   "outputs": [
    {
     "name": "stdout",
     "output_type": "stream",
     "text": [
      "https://api.punkapi.com/v2/beers?brewed_after=04-204&abv_gt=5&per_page=80\n"
     ]
    }
   ],
   "source": [
    "root ='https://api.punkapi.com/v2/beers'\n",
    "params = 'brewed_after=04-204&abv_gt=5&per_page=80'\n",
    "\n",
    "url = root + '?' + params\n",
    "\n",
    "print(url)"
   ]
  },
  {
   "cell_type": "code",
   "execution_count": 121,
   "metadata": {},
   "outputs": [],
   "source": [
    "ex541 = requests.get(url)\n"
   ]
  },
  {
   "cell_type": "code",
   "execution_count": 122,
   "metadata": {},
   "outputs": [
    {
     "name": "stdout",
     "output_type": "stream",
     "text": [
      "158262 \n",
      "\n",
      "[{\"id\":4,\"name\":\"Pilsen Lager\",\"tagline\":\"Unleash the Yeast Series.\",\"first_brewed\":\"09/2013\",\"description\":\"Our Unleash the Yeast series was an epic experiment into the differences in aroma and flavour provided by switching up your yeast. We brewed up a wort with a light caramel note and some toasty biscuit flavour, and hopped it with Amarillo and Centennial for a citrusy bitterness. Everything else is down to the yeast. Pilsner yeast ferments with no fruity esters or spicy phenols, although it can add a hint of butterscotch.\",\"image_url\":\"https://images.punkapi.com/v2/4.png\",\"abv\":6.3,\"ibu\":55,\"target_fg\":1012,\"target_og\":1060,\"ebc\":30,\"srm\":15,\"ph\":4.4,\"attenuation_level\":80,\"volume\":{\"value\":20,\"unit\":\"litres\"},\"boil_volume\":{\"value\":25,\"unit\":\"litres\"},\"method\":{\"mash_temp\":[{\"temp\":{\"value\":65,\"unit\":\"celsius\"},\"duration\":null}],\"fermentation\":{\"temp\":{\"value\":9,\"unit\":\"celsius\"}},\"twist\":null},\"ingredients\":{\"malt\":[{\"name\":\"Extra Pale\",\"amount\":{\"value\":4.58,\"unit\":\"kilograms\"}\n"
     ]
    }
   ],
   "source": [
    "print(len(ex541.text),'\\n')\n",
    "print(ex541.text[:1000]) "
   ]
  },
  {
   "cell_type": "markdown",
   "metadata": {},
   "source": [
    "> **Ex. 5.4.2:** What object type is the API's JSON response? What about the individual items in the container? Convert the response object to a suitable format and answer the following questions:\n",
    "> 1) How many beers are there in the JSON object?\n",
    ">\n",
    "> 2) Print the response with and without the pretty printer. See any difference?\n",
    ">\n",
    "> 3) Now print only the names of the beers in the JSON object using lower case characters.\n",
    ">\n",
    "> 4) Select the beer called Rabiator from the JSON object. What is the suggested food pairing?\n",
    ">\n",
    "> 5) Select the beer called Hello My Name Is Beastie from the JSON object. Which malt ingredients does the Hello My Name Is Beastie contain?\n"
   ]
  },
  {
   "cell_type": "code",
   "execution_count": 123,
   "metadata": {
    "deletable": false,
    "nbgrader": {
     "cell_type": "code",
     "checksum": "09d8a7b769ef0e4201156e70158197be",
     "grade": false,
     "grade_id": "cell-1c6a5eef920b6c70",
     "locked": false,
     "schema_version": 3,
     "solution": true,
     "task": false
    }
   },
   "outputs": [
    {
     "data": {
      "text/plain": [
       "80"
      ]
     },
     "execution_count": 123,
     "metadata": {},
     "output_type": "execute_result"
    }
   ],
   "source": [
    "# Answer 5.4.2 1)\n",
    "resp_json = ex541.json() # convert response to a list of dicts\n",
    "len(resp_json)"
   ]
  },
  {
   "cell_type": "code",
   "execution_count": 125,
   "metadata": {},
   "outputs": [
    {
     "name": "stdout",
     "output_type": "stream",
     "text": [
      "{'id': 4, 'name': 'Pilsen Lager', 'tagline': 'Unleash the Yeast Series.', 'first_brewed': '09/2013', 'description': 'Our Unleash the Yeast series was an epic experiment into the differences in aroma and flavour provided by switching up your yeast. We brewed up a wort with a light caramel note and some toasty biscuit flavour, and hopped it with Amarillo and Centennial for a citrusy bitterness. Everything else is down to the yeast. Pilsner yeast ferments with no fruity esters or spicy phenols, although it can add a hint of butterscotch.', 'image_url': 'https://images.punkapi.com/v2/4.png', 'abv': 6.3, 'ibu': 55, 'target_fg': 1012, 'target_og': 1060, 'ebc': 30, 'srm': 15, 'ph': 4.4, 'attenuation_level': 80, 'volume': {'value': 20, 'unit': 'litres'}, 'boil_volume': {'value': 25, 'unit': 'litres'}, 'method': {'mash_temp': [{'temp': {'value': 65, 'unit': 'celsius'}, 'duration': None}], 'fermentation': {'temp': {'value': 9, 'unit': 'celsius'}}, 'twist': None}, 'ingredients': {'malt': [{'name': 'Extra Pale', 'amount': {'value': 4.58, 'unit': 'kilograms'}}, {'name': 'Caramalt', 'amount': {'value': 0.25, 'unit': 'kilograms'}}, {'name': 'Dark Crystal', 'amount': {'value': 0.06, 'unit': 'kilograms'}}, {'name': 'Munich', 'amount': {'value': 0.25, 'unit': 'kilograms'}}], 'hops': [{'name': 'Centennial', 'amount': {'value': 5, 'unit': 'grams'}, 'add': 'start', 'attribute': 'bitter'}, {'name': 'Amarillo', 'amount': {'value': 5, 'unit': 'grams'}, 'add': 'start', 'attribute': 'bitter'}, {'name': 'Centennial', 'amount': {'value': 10, 'unit': 'grams'}, 'add': 'middle', 'attribute': 'flavour'}, {'name': 'Amarillo', 'amount': {'value': 10, 'unit': 'grams'}, 'add': 'middle', 'attribute': 'flavour'}, {'name': 'Centennial', 'amount': {'value': 17.5, 'unit': 'grams'}, 'add': 'end', 'attribute': 'flavour'}, {'name': 'Amarillo', 'amount': {'value': 17.5, 'unit': 'grams'}, 'add': 'end', 'attribute': 'flavour'}], 'yeast': 'Wyeast 2007 - Pilsen Lager™'}, 'food_pairing': ['Spicy crab cakes', 'Spicy cucumber and carrot Thai salad', 'Sweet filled dumplings'], 'brewers_tips': 'Play around with the fermentation temperature to get the best flavour profile from the individual yeasts.', 'contributed_by': 'Ali Skinner <AliSkinner>'}\n"
     ]
    }
   ],
   "source": [
    "# Answer 5.4.2 2)\n",
    "print(resp_json[0])"
   ]
  },
  {
   "cell_type": "code",
   "execution_count": 127,
   "metadata": {},
   "outputs": [
    {
     "name": "stdout",
     "output_type": "stream",
     "text": [
      "Pilsen Lager\n",
      "Avery Brown Dredge\n",
      "Electric India\n",
      "AB:12\n",
      "AB:07\n",
      "Bramling X\n",
      "Misspent Youth\n",
      "Arcade Nation\n",
      "Mixtape 8\n",
      "Libertine Porter\n",
      "AB:06\n",
      "Russian Doll – India Pale Ale\n",
      "Hello My Name Is Mette-Marit\n",
      "Rabiator\n",
      "Devine Rebel (w/ Mikkeller)\n",
      "Storm\n",
      "The End Of History\n",
      "Dog B\n",
      "HBC 369\n",
      "10 Heads High\n",
      "Dana - IPA Is Dead\n",
      "AB:05\n",
      "Sorachi Ace\n",
      "Bourbon Baby\n",
      "Shipwrecker Circus (w/ Oskar Blues)\n",
      "Zephyr\n",
      "Belgian Trappist\n",
      "Kohatu - IPA Is Dead\n",
      "Hello My Name is Vladimir\n",
      "AB:17\n",
      "Hardcore IPA\n",
      "Dog Wired (w/8 Wired)\n",
      "Anarchist Alchemist\n",
      "AB:15\n",
      "Goldings - IPA Is Dead\n",
      "AB:14\n",
      "Lost Dog (w/Lost Abbey)\n",
      "TM10\n",
      "Paradox Islay\n",
      "Albino Squid Assasin\n",
      "Amarillo - IPA Is Dead\n",
      "Black Eyed King Imp\n",
      "Prototype 27\n",
      "Coffee Imperial Stout\n",
      "Mandarina Bavaria - IPA Is Dead\n",
      "Dogma\n",
      "AB:08\n",
      "Sunk Punk\n",
      "Sub Hop\n",
      "Tokyo Rising Sun - Lowland\n",
      "Hunter Foundation Pale Ale\n",
      "AB:16\n",
      "Sunmaid Stout\n",
      "Whisky Sour - B-Sides\n",
      "Black Eyed King Imp - Vietnamese Coffee Edition\n",
      "Never Mind The Anabolics\n",
      "#Mashtag 2013\n",
      "AB:18\n",
      "Hops Kill Nazis\n",
      "AB:04\n",
      "Hopped-Up Brown Ale - Prototype Challenge\n",
      "Comet\n",
      "Original Dogma (Née Speedball)\n",
      "Bavarian Weizen\n",
      "Citra\n",
      "#Mashtag 2015\n",
      "AB:09\n",
      "Mango Gose - B-Sides\n",
      "Everday Anarchy\n",
      "Lumberjack Stout\n",
      "Bowman's Beard - B-Sides\n",
      "Pumpkin King\n",
      "Hello My Name Is Päivi\n",
      "Elvis Juice V2.0 - Prototype Challenge\n",
      "Riptide\n",
      "Peach Therapy\n",
      "Clown King\n",
      "India Pale Weizen (w/ Weihenstephan)\n",
      "Hello My Name Is Beastie\n",
      "Punk IPA 2010 - Current\n"
     ]
    }
   ],
   "source": [
    "# Answer 5.4.2 3)\n",
    "for i in resp_json:\n",
    "    print(i['name'])"
   ]
  },
  {
   "cell_type": "code",
   "execution_count": 129,
   "metadata": {},
   "outputs": [
    {
     "name": "stdout",
     "output_type": "stream",
     "text": [
      "['Grilled portabello mushroom burger', 'Chicken sausages with creamy mash', 'Caramel and banana meringue pie']\n"
     ]
    }
   ],
   "source": [
    "for i in resp_json:\n",
    "    if i['name'] == 'Rabiator':\n",
    "        print(i['food_pairing'])"
   ]
  },
  {
   "cell_type": "code",
   "execution_count": 134,
   "metadata": {},
   "outputs": [
    {
     "name": "stdout",
     "output_type": "stream",
     "text": [
      "[{'name': 'Maris Otter Extra Pale', 'amount': {'value': 6.86, 'unit': 'kilograms'}}, {'name': 'Caramalt', 'amount': {'value': 0.93, 'unit': 'kilograms'}}]\n"
     ]
    }
   ],
   "source": [
    "for i in resp_json:\n",
    "    if i['name'] == 'Hello My Name Is Beastie':\n",
    "        print(i['ingredients']['malt'])"
   ]
  },
  {
   "cell_type": "markdown",
   "metadata": {},
   "source": [
    "> **Ex. 5.4.3:** Save the beers as a JSON file on your machine.\n",
    "\n",
    "> _Hint:_ If still in doubt about how to do this, you might want to take a look at the [json](https://docs.python.org/3/library/json.html) module.\n"
   ]
  },
  {
   "cell_type": "code",
   "execution_count": 136,
   "metadata": {
    "deletable": false,
    "nbgrader": {
     "cell_type": "code",
     "checksum": "ace20a7b7c09517d1318007ea25c33ec",
     "grade": false,
     "grade_id": "cell-d5feea65f34d4ab1",
     "locked": false,
     "schema_version": 3,
     "solution": true,
     "task": false
    }
   },
   "outputs": [],
   "source": [
    "with open('beers80.JSON', 'w') as f:\n",
    "    my_json_str = json.dumps(resp_json) # convert dictonary to string with JSON formatting\n",
    "    f.write(my_json_str) # write the string to file"
   ]
  },
  {
   "cell_type": "markdown",
   "metadata": {},
   "source": [
    "## The API for Statistics Denmark \n",
    "\n",
    "Statistics Denmark (DST) provide an API access to their aggregate data. For developers, they supply a [console](https://api.statbank.dk/console) for testing. In this exercise, we will code up a simple script which can collect data from the DST API. \n",
    "\n",
    "> **Ex 5.4.4:** Use the API console to construct a GET request which retrieves the table FOLK1A split by quarter. The return should be in JSON format. We want all available dates.\n",
    ">\n",
    ">Then write a function `construct_link()` which takes as inputs: a table ID (e.g. `'FOLK1A'`) and a list of strings like `['var1=*', 'var2=somevalue']`. The function should return the proper URL for getting a dataset with the specified variables (e.g. in this case all levels of var1, but only where var2=somevalue).\n",
    "\n",
    "> _Hint:_ The time variable is called 'tid'. To select all available values, set the value-id to '*'. Spend a little time with the console to get a sense of how the URLs are constructed.\n"
   ]
  },
  {
   "cell_type": "code",
   "execution_count": 145,
   "metadata": {
    "deletable": false,
    "nbgrader": {
     "cell_type": "code",
     "checksum": "6d92606bf5324f19480c040a7c76c3f8",
     "grade": false,
     "grade_id": "cell-d174a99ed0af2f0e",
     "locked": false,
     "schema_version": 3,
     "solution": true,
     "task": false
    }
   },
   "outputs": [],
   "source": [
    "def construct_link(ID, a_list):\n",
    "    root = 'https://api.statbank.dk/v1/data/'\n",
    "    return(root + str(ID) + '/JSONSTAT?' + \"&\".join(a_list))"
   ]
  },
  {
   "cell_type": "markdown",
   "metadata": {},
   "source": [
    "When executing the request in the console, you should get a json file as output. Next, lets write some code to load these json files directly into python. \n",
    "\n",
    "\n",
    "> **Ex. 5.4.5:** Use the `requests` module and `construct_link()` to request home value data from the \"EJDFOE1\" table. Get all available years (variable \"Tid\"), but only for Frederiksberg (BOPKOM=147), apartments (EJENTYP=B), market values (VAERDI=100) and average values in DKK units (ENHED=120). Unpack the json payload and store the result. Wrap the whole thing in a function which takes an url as input and returns the corresponding output.\n",
    "\n",
    "> _Hint:_ The `requests.response` object has a `.json()` method. "
   ]
  },
  {
   "cell_type": "code",
   "execution_count": 164,
   "metadata": {},
   "outputs": [],
   "source": [
    "def construct_json(ID, a_list):\n",
    "    url = construct_link(ID, a_list)\n",
    "    file = requests.get(url)\n",
    "    return file.json()"
   ]
  },
  {
   "cell_type": "code",
   "execution_count": 176,
   "metadata": {
    "deletable": false,
    "nbgrader": {
     "cell_type": "code",
     "checksum": "fa171d0bfbc603977659fd1f56f9b7a2",
     "grade": false,
     "grade_id": "cell-33bba55a2e8d0fc5",
     "locked": false,
     "schema_version": 3,
     "solution": true,
     "task": false
    }
   },
   "outputs": [],
   "source": [
    "boligPriser_json = construct_json('EJDFOE1', ['tid=*', 'BOPKOM=147', 'EJENTYP=B', 'VAERDI=100', 'ENHED=120'])"
   ]
  },
  {
   "cell_type": "markdown",
   "metadata": {},
   "source": [
    "> **Ex. 5.4.6:** Extract the values for Frederiksberg in each year. Store the results as a list."
   ]
  },
  {
   "cell_type": "code",
   "execution_count": 187,
   "metadata": {},
   "outputs": [
    {
     "name": "stdout",
     "output_type": "stream",
     "text": [
      "1831863\n",
      "2432527\n",
      "2967807\n",
      "2689005\n",
      "2411340\n",
      "2169275\n",
      "2404517\n",
      "2476094\n",
      "2603080\n",
      "2780182\n",
      "3043468\n",
      "3360457\n",
      "3514799\n",
      "3671493\n",
      "3744034\n",
      "3762944\n",
      "3802834\n"
     ]
    }
   ],
   "source": [
    "for i in boligPriser_json['dataset']['value']:\n",
    "    print(i)"
   ]
  },
  {
   "cell_type": "code",
   "execution_count": null,
   "metadata": {
    "deletable": false,
    "nbgrader": {
     "cell_type": "code",
     "checksum": "f6bd7935f324dbffbf537f86daa78dde",
     "grade": false,
     "grade_id": "cell-792e1879090acb1f",
     "locked": false,
     "schema_version": 3,
     "solution": true,
     "task": false
    },
    "scrolled": false
   },
   "outputs": [],
   "source": []
  },
  {
   "cell_type": "markdown",
   "metadata": {},
   "source": [
    "> **Ex. 5.4.7:** Repeat 5.4.5 and 5.4.6 but this time only for Copenhagen (BOPKOM=101). Store the numbers in a new list and use the `plot_values` (supplied below) function to plot the (log of) the data. Interpret the plot."
   ]
  },
  {
   "cell_type": "code",
   "execution_count": 209,
   "metadata": {},
   "outputs": [],
   "source": [
    "# Just run this once, do not change it.\n",
    "import matplotlib.pyplot as plt \n",
    "import numpy as np\n",
    "\n",
    "def plot_values(val1, val2):\n",
    "    val1 = val1\n",
    "    val2 = val2\n",
    "    \"\"\" Plots lineplot of the number of births split by gender.\n",
    "    \n",
    "    Args: \n",
    "        boys: a list of boy births by year\n",
    "        girls: a list of girl births by year\n",
    "    \"\"\"\n",
    "    if not len(val1) == len(val2):\n",
    "        raise ValueError('There must be the same number of observations for boys and girls')\n",
    "    \n",
    "    labels = [f'{year}' for year in range(2004,2021)]\n",
    "    \n",
    "    plt.grid(color='black', linestyle='-', linewidth=0.1, axis='x')\n",
    "    \n",
    "    plt.plot(range(len(val1)), val1, color = 'blue', label = 'Frederiksberg')\n",
    "    plt.plot(range(len(val1)), val2, color = 'red', label = 'Copenhagen')\n",
    "    plt.yscale(\"log\")\n",
    "    plt.xticks([i for i in range(len(val1)) if i%2 == 0],\n",
    "               [l for i,l in zip(range(len(val1)),labels) if i%2 == 0],\n",
    "               rotation = 'horizontal')\n",
    "    plt.xlabel('Year')\n",
    "    plt.ylabel('Market Value of Apartments')\n",
    "    \n",
    "    plt.legend()\n",
    "    plt.show()"
   ]
  },
  {
   "cell_type": "code",
   "execution_count": null,
   "metadata": {
    "deletable": false,
    "nbgrader": {
     "cell_type": "code",
     "checksum": "61afe17e8fde46f0afffb8e50c5d6b86",
     "grade": false,
     "grade_id": "cell-0ea2577312192992",
     "locked": false,
     "schema_version": 3,
     "solution": true,
     "task": false
    }
   },
   "outputs": [],
   "source": [
    "# YOUR CODE HERE\n",
    "raise NotImplementedError()"
   ]
  },
  {
   "cell_type": "markdown",
   "metadata": {},
   "source": [
    "# Part 5: Bonus Exercises $-$ Traffic Data in Copenhagen\n",
    "\n",
    "This set of bonus exercises allows you to apply the tools that you have learned in session 2 to 5. Note that they are not mandatory $-$ rather, our hopes are the exercises will provide you with an additional opportunity to (i) strenghten your data structuring skills and (ii) see how you have already learned a series of skills that work nicely together. \n",
    "\n",
    "In this set of bonus exercises, you will be working with traffic data from Copenhagen Municipality.\n",
    "\n",
    "The municipality have made the data openly available through the [opendata.dk](http://www.opendata.dk/) platform. We will use the data from traffic counters to construct a dataset of hourly traffic. We will use this data to get basic insights on the development in traffic over time and relate it to weather. The gist here is to practice a very important skill in Data Science: being able to quickly fetch data from the web and structure it so that you can work with it. Scraping usually gets a bit more advanced than what we will do today, but the following exercises should give you a taste for how it works. The bulk of these exercise, however, revolve around using the Pandas library to structure and analyze data."
   ]
  },
  {
   "cell_type": "markdown",
   "metadata": {},
   "source": [
    "## Part 5.5.A: Getting some data to work with\n",
    "\n",
    "Hence follows a simple scraping exercise where you (1) collect urls for datasets in the webpage listing data on traffic counters and (2) use these urls to load the data into one dataframe.\n",
    "\n",
    "> **Ex. 5.5.1:** *(Bonus)* Using the requests module, extract the html markup of the webpage data.kk.dk/dataset/faste-trafiktaellinger and store it as a string in a new variable."
   ]
  },
  {
   "cell_type": "code",
   "execution_count": 212,
   "metadata": {
    "deletable": false,
    "nbgrader": {
     "cell_type": "code",
     "checksum": "9176d5fa5e602c0cc9a83fc019b5e06c",
     "grade": false,
     "grade_id": "cell-66d30cd4ddd300f6",
     "locked": false,
     "schema_version": 3,
     "solution": true,
     "task": false
    }
   },
   "outputs": [
    {
     "ename": "MissingSchema",
     "evalue": "Invalid URL 'data.kk.dk/dataset/faste-trafiktaellinger': No schema supplied. Perhaps you meant http://data.kk.dk/dataset/faste-trafiktaellinger?",
     "output_type": "error",
     "traceback": [
      "\u001b[1;31m---------------------------------------------------------------------------\u001b[0m",
      "\u001b[1;31mMissingSchema\u001b[0m                             Traceback (most recent call last)",
      "\u001b[1;32m<ipython-input-212-bb55d6bc02cb>\u001b[0m in \u001b[0;36m<module>\u001b[1;34m\u001b[0m\n\u001b[1;32m----> 1\u001b[1;33m \u001b[0mans\u001b[0m \u001b[1;33m=\u001b[0m \u001b[0mrequests\u001b[0m\u001b[1;33m.\u001b[0m\u001b[0mget\u001b[0m\u001b[1;33m(\u001b[0m\u001b[1;34m'data.kk.dk/dataset/faste-trafiktaellinger'\u001b[0m\u001b[1;33m)\u001b[0m\u001b[1;33m\u001b[0m\u001b[1;33m\u001b[0m\u001b[0m\n\u001b[0m\u001b[0;32m      2\u001b[0m \u001b[0mprint\u001b[0m\u001b[1;33m(\u001b[0m\u001b[0mans\u001b[0m\u001b[1;33m)\u001b[0m\u001b[1;33m\u001b[0m\u001b[1;33m\u001b[0m\u001b[0m\n",
      "\u001b[1;32m~\\anaconda3\\lib\\site-packages\\requests\\api.py\u001b[0m in \u001b[0;36mget\u001b[1;34m(url, params, **kwargs)\u001b[0m\n\u001b[0;32m     74\u001b[0m \u001b[1;33m\u001b[0m\u001b[0m\n\u001b[0;32m     75\u001b[0m     \u001b[0mkwargs\u001b[0m\u001b[1;33m.\u001b[0m\u001b[0msetdefault\u001b[0m\u001b[1;33m(\u001b[0m\u001b[1;34m'allow_redirects'\u001b[0m\u001b[1;33m,\u001b[0m \u001b[1;32mTrue\u001b[0m\u001b[1;33m)\u001b[0m\u001b[1;33m\u001b[0m\u001b[1;33m\u001b[0m\u001b[0m\n\u001b[1;32m---> 76\u001b[1;33m     \u001b[1;32mreturn\u001b[0m \u001b[0mrequest\u001b[0m\u001b[1;33m(\u001b[0m\u001b[1;34m'get'\u001b[0m\u001b[1;33m,\u001b[0m \u001b[0murl\u001b[0m\u001b[1;33m,\u001b[0m \u001b[0mparams\u001b[0m\u001b[1;33m=\u001b[0m\u001b[0mparams\u001b[0m\u001b[1;33m,\u001b[0m \u001b[1;33m**\u001b[0m\u001b[0mkwargs\u001b[0m\u001b[1;33m)\u001b[0m\u001b[1;33m\u001b[0m\u001b[1;33m\u001b[0m\u001b[0m\n\u001b[0m\u001b[0;32m     77\u001b[0m \u001b[1;33m\u001b[0m\u001b[0m\n\u001b[0;32m     78\u001b[0m \u001b[1;33m\u001b[0m\u001b[0m\n",
      "\u001b[1;32m~\\anaconda3\\lib\\site-packages\\requests\\api.py\u001b[0m in \u001b[0;36mrequest\u001b[1;34m(method, url, **kwargs)\u001b[0m\n\u001b[0;32m     59\u001b[0m     \u001b[1;31m# cases, and look like a memory leak in others.\u001b[0m\u001b[1;33m\u001b[0m\u001b[1;33m\u001b[0m\u001b[1;33m\u001b[0m\u001b[0m\n\u001b[0;32m     60\u001b[0m     \u001b[1;32mwith\u001b[0m \u001b[0msessions\u001b[0m\u001b[1;33m.\u001b[0m\u001b[0mSession\u001b[0m\u001b[1;33m(\u001b[0m\u001b[1;33m)\u001b[0m \u001b[1;32mas\u001b[0m \u001b[0msession\u001b[0m\u001b[1;33m:\u001b[0m\u001b[1;33m\u001b[0m\u001b[1;33m\u001b[0m\u001b[0m\n\u001b[1;32m---> 61\u001b[1;33m         \u001b[1;32mreturn\u001b[0m \u001b[0msession\u001b[0m\u001b[1;33m.\u001b[0m\u001b[0mrequest\u001b[0m\u001b[1;33m(\u001b[0m\u001b[0mmethod\u001b[0m\u001b[1;33m=\u001b[0m\u001b[0mmethod\u001b[0m\u001b[1;33m,\u001b[0m \u001b[0murl\u001b[0m\u001b[1;33m=\u001b[0m\u001b[0murl\u001b[0m\u001b[1;33m,\u001b[0m \u001b[1;33m**\u001b[0m\u001b[0mkwargs\u001b[0m\u001b[1;33m)\u001b[0m\u001b[1;33m\u001b[0m\u001b[1;33m\u001b[0m\u001b[0m\n\u001b[0m\u001b[0;32m     62\u001b[0m \u001b[1;33m\u001b[0m\u001b[0m\n\u001b[0;32m     63\u001b[0m \u001b[1;33m\u001b[0m\u001b[0m\n",
      "\u001b[1;32m~\\anaconda3\\lib\\site-packages\\requests\\sessions.py\u001b[0m in \u001b[0;36mrequest\u001b[1;34m(self, method, url, params, data, headers, cookies, files, auth, timeout, allow_redirects, proxies, hooks, stream, verify, cert, json)\u001b[0m\n\u001b[0;32m    526\u001b[0m             \u001b[0mhooks\u001b[0m\u001b[1;33m=\u001b[0m\u001b[0mhooks\u001b[0m\u001b[1;33m,\u001b[0m\u001b[1;33m\u001b[0m\u001b[1;33m\u001b[0m\u001b[0m\n\u001b[0;32m    527\u001b[0m         )\n\u001b[1;32m--> 528\u001b[1;33m         \u001b[0mprep\u001b[0m \u001b[1;33m=\u001b[0m \u001b[0mself\u001b[0m\u001b[1;33m.\u001b[0m\u001b[0mprepare_request\u001b[0m\u001b[1;33m(\u001b[0m\u001b[0mreq\u001b[0m\u001b[1;33m)\u001b[0m\u001b[1;33m\u001b[0m\u001b[1;33m\u001b[0m\u001b[0m\n\u001b[0m\u001b[0;32m    529\u001b[0m \u001b[1;33m\u001b[0m\u001b[0m\n\u001b[0;32m    530\u001b[0m         \u001b[0mproxies\u001b[0m \u001b[1;33m=\u001b[0m \u001b[0mproxies\u001b[0m \u001b[1;32mor\u001b[0m \u001b[1;33m{\u001b[0m\u001b[1;33m}\u001b[0m\u001b[1;33m\u001b[0m\u001b[1;33m\u001b[0m\u001b[0m\n",
      "\u001b[1;32m~\\anaconda3\\lib\\site-packages\\requests\\sessions.py\u001b[0m in \u001b[0;36mprepare_request\u001b[1;34m(self, request)\u001b[0m\n\u001b[0;32m    454\u001b[0m \u001b[1;33m\u001b[0m\u001b[0m\n\u001b[0;32m    455\u001b[0m         \u001b[0mp\u001b[0m \u001b[1;33m=\u001b[0m \u001b[0mPreparedRequest\u001b[0m\u001b[1;33m(\u001b[0m\u001b[1;33m)\u001b[0m\u001b[1;33m\u001b[0m\u001b[1;33m\u001b[0m\u001b[0m\n\u001b[1;32m--> 456\u001b[1;33m         p.prepare(\n\u001b[0m\u001b[0;32m    457\u001b[0m             \u001b[0mmethod\u001b[0m\u001b[1;33m=\u001b[0m\u001b[0mrequest\u001b[0m\u001b[1;33m.\u001b[0m\u001b[0mmethod\u001b[0m\u001b[1;33m.\u001b[0m\u001b[0mupper\u001b[0m\u001b[1;33m(\u001b[0m\u001b[1;33m)\u001b[0m\u001b[1;33m,\u001b[0m\u001b[1;33m\u001b[0m\u001b[1;33m\u001b[0m\u001b[0m\n\u001b[0;32m    458\u001b[0m             \u001b[0murl\u001b[0m\u001b[1;33m=\u001b[0m\u001b[0mrequest\u001b[0m\u001b[1;33m.\u001b[0m\u001b[0murl\u001b[0m\u001b[1;33m,\u001b[0m\u001b[1;33m\u001b[0m\u001b[1;33m\u001b[0m\u001b[0m\n",
      "\u001b[1;32m~\\anaconda3\\lib\\site-packages\\requests\\models.py\u001b[0m in \u001b[0;36mprepare\u001b[1;34m(self, method, url, headers, files, data, params, auth, cookies, hooks, json)\u001b[0m\n\u001b[0;32m    314\u001b[0m \u001b[1;33m\u001b[0m\u001b[0m\n\u001b[0;32m    315\u001b[0m         \u001b[0mself\u001b[0m\u001b[1;33m.\u001b[0m\u001b[0mprepare_method\u001b[0m\u001b[1;33m(\u001b[0m\u001b[0mmethod\u001b[0m\u001b[1;33m)\u001b[0m\u001b[1;33m\u001b[0m\u001b[1;33m\u001b[0m\u001b[0m\n\u001b[1;32m--> 316\u001b[1;33m         \u001b[0mself\u001b[0m\u001b[1;33m.\u001b[0m\u001b[0mprepare_url\u001b[0m\u001b[1;33m(\u001b[0m\u001b[0murl\u001b[0m\u001b[1;33m,\u001b[0m \u001b[0mparams\u001b[0m\u001b[1;33m)\u001b[0m\u001b[1;33m\u001b[0m\u001b[1;33m\u001b[0m\u001b[0m\n\u001b[0m\u001b[0;32m    317\u001b[0m         \u001b[0mself\u001b[0m\u001b[1;33m.\u001b[0m\u001b[0mprepare_headers\u001b[0m\u001b[1;33m(\u001b[0m\u001b[0mheaders\u001b[0m\u001b[1;33m)\u001b[0m\u001b[1;33m\u001b[0m\u001b[1;33m\u001b[0m\u001b[0m\n\u001b[0;32m    318\u001b[0m         \u001b[0mself\u001b[0m\u001b[1;33m.\u001b[0m\u001b[0mprepare_cookies\u001b[0m\u001b[1;33m(\u001b[0m\u001b[0mcookies\u001b[0m\u001b[1;33m)\u001b[0m\u001b[1;33m\u001b[0m\u001b[1;33m\u001b[0m\u001b[0m\n",
      "\u001b[1;32m~\\anaconda3\\lib\\site-packages\\requests\\models.py\u001b[0m in \u001b[0;36mprepare_url\u001b[1;34m(self, url, params)\u001b[0m\n\u001b[0;32m    388\u001b[0m             \u001b[0merror\u001b[0m \u001b[1;33m=\u001b[0m \u001b[0merror\u001b[0m\u001b[1;33m.\u001b[0m\u001b[0mformat\u001b[0m\u001b[1;33m(\u001b[0m\u001b[0mto_native_string\u001b[0m\u001b[1;33m(\u001b[0m\u001b[0murl\u001b[0m\u001b[1;33m,\u001b[0m \u001b[1;34m'utf8'\u001b[0m\u001b[1;33m)\u001b[0m\u001b[1;33m)\u001b[0m\u001b[1;33m\u001b[0m\u001b[1;33m\u001b[0m\u001b[0m\n\u001b[0;32m    389\u001b[0m \u001b[1;33m\u001b[0m\u001b[0m\n\u001b[1;32m--> 390\u001b[1;33m             \u001b[1;32mraise\u001b[0m \u001b[0mMissingSchema\u001b[0m\u001b[1;33m(\u001b[0m\u001b[0merror\u001b[0m\u001b[1;33m)\u001b[0m\u001b[1;33m\u001b[0m\u001b[1;33m\u001b[0m\u001b[0m\n\u001b[0m\u001b[0;32m    391\u001b[0m \u001b[1;33m\u001b[0m\u001b[0m\n\u001b[0;32m    392\u001b[0m         \u001b[1;32mif\u001b[0m \u001b[1;32mnot\u001b[0m \u001b[0mhost\u001b[0m\u001b[1;33m:\u001b[0m\u001b[1;33m\u001b[0m\u001b[1;33m\u001b[0m\u001b[0m\n",
      "\u001b[1;31mMissingSchema\u001b[0m: Invalid URL 'data.kk.dk/dataset/faste-trafiktaellinger': No schema supplied. Perhaps you meant http://data.kk.dk/dataset/faste-trafiktaellinger?"
     ]
    }
   ],
   "source": [
    "ans = requests.get('data.kk.dk/dataset/faste-trafiktaellinger')\n",
    "print(ans)"
   ]
  },
  {
   "cell_type": "markdown",
   "metadata": {},
   "source": [
    "> **Ex. 5.5.2:** *(Bonus)* Using the re module, extract a list of all the urls in the html string and store them in a new variable.\n",
    "\n",
    "> _Hint:_ Try using the re.findall method. You may want to Google around to figure out how to do this. Searching for something along the lines of \"extract all links in html regex python\" and hitting the first StackOverflow link will probably get you farther than reading elaborate documentation."
   ]
  },
  {
   "cell_type": "code",
   "execution_count": null,
   "metadata": {
    "deletable": false,
    "nbgrader": {
     "cell_type": "code",
     "checksum": "788530dc03e9f126847d8481b20ed13e",
     "grade": false,
     "grade_id": "cell-b6352a75b3acd612",
     "locked": false,
     "schema_version": 3,
     "solution": true,
     "task": false
    }
   },
   "outputs": [],
   "source": [
    "import re \n",
    "\n",
    "# YOUR CODE HERE\n",
    "raise NotImplementedError()"
   ]
  },
  {
   "cell_type": "markdown",
   "metadata": {},
   "source": [
    "> **Ex. 5.5.3:** *(Bonus)* Create a new variable `datalinks` that only contains the links that point to downloadable traffic data sheets. Some links may be preset more than once on the page. To get the unique links use the `set()` function on `datalinks`.\n",
    "\n",
    "> _Hint:_ You want to filter the results from above. For example to only include urls with the term 'download' in them."
   ]
  },
  {
   "cell_type": "code",
   "execution_count": null,
   "metadata": {
    "deletable": false,
    "nbgrader": {
     "cell_type": "code",
     "checksum": "9c4d2d55e4c1ad109d16434f21f24730",
     "grade": false,
     "grade_id": "cell-474f6f4274f1f6be",
     "locked": false,
     "schema_version": 3,
     "solution": true,
     "task": false
    }
   },
   "outputs": [],
   "source": [
    "# YOUR CODE HERE\n",
    "raise NotImplementedError()"
   ]
  },
  {
   "cell_type": "markdown",
   "metadata": {},
   "source": [
    "> **Ex. 5.5.4:** *(Bonus)* Using pd.read_excel method, load the datasets into a list. Your resulting variable should hold a list of Pandas dataframes.\n",
    "\n",
    "> _Hint:_ you may want to set the `skiprows` keyword argument. "
   ]
  },
  {
   "cell_type": "code",
   "execution_count": null,
   "metadata": {
    "deletable": false,
    "nbgrader": {
     "cell_type": "code",
     "checksum": "ec13a7429665e71ab5b4c23f4ba21f5e",
     "grade": false,
     "grade_id": "cell-da5cce0bcf1ee076",
     "locked": false,
     "schema_version": 3,
     "solution": true,
     "task": false
    }
   },
   "outputs": [],
   "source": [
    "# YOUR CODE HERE\n",
    "raise NotImplementedError()"
   ]
  },
  {
   "cell_type": "markdown",
   "metadata": {},
   "source": [
    "> **Ex. 5.5.5:** *(Bonus)* Merge the list of dataframes into a single dataframe."
   ]
  },
  {
   "cell_type": "code",
   "execution_count": null,
   "metadata": {
    "deletable": false,
    "nbgrader": {
     "cell_type": "code",
     "checksum": "106922ebf7ed30f3a851de6b1dcd847e",
     "grade": false,
     "grade_id": "cell-4526c1736e295f0a",
     "locked": false,
     "schema_version": 3,
     "solution": true,
     "task": false
    }
   },
   "outputs": [],
   "source": [
    "# YOUR CODE HERE\n",
    "raise NotImplementedError()"
   ]
  },
  {
   "cell_type": "markdown",
   "metadata": {},
   "source": [
    "## Part 5.5.B Structuring your data\n",
    "\n",
    "If you successfully completed the previous part, you should now have a dataframe with about 183.397 rows (if your number of rows is close but not the same, worry not—it matters little in the following). Well done! But the data is still in no shape for analysis, so we must clean it up a little.\n",
    "\n",
    "161.236 rows (and 30 columns) is a lot of data. ~3.3 MB by my back-of-the-envelope calculations, so not \"Big Data\", but still enough to make your CPU heat up if you don't use it carefully. Pandas is built to handle fairly large dataframes and has advanced functionality to perform very fast operations even when the size of your data grows huge. So instead of working with basic Python we recommend working pandas built-in procedures as they are constructed to be fast on dataframes.\n",
    "\n",
    "Nerd fact: the reason pandas is much faster than pure Python is that dataframes access a lower level programming languages (namely C, C++) which are multiple times faster than Python. The reason it is faster is that it has a higher level of explicitness and thus is more difficult to learn and navigate.\n",
    "\n",
    "> **Ex. 5.5.6:** *(Bonus)* Reset the row indices of your dataframe so the first index is 0 and the last is whatever the number of rows your dataframe has. Also drop the column named 'index' and the one named `Spor`."
   ]
  },
  {
   "cell_type": "code",
   "execution_count": null,
   "metadata": {
    "deletable": false,
    "nbgrader": {
     "cell_type": "code",
     "checksum": "12b5d377a6d783b26c1fd5280b0a9909",
     "grade": false,
     "grade_id": "cell-bba8d42c26534466",
     "locked": false,
     "schema_version": 3,
     "solution": true,
     "task": false
    }
   },
   "outputs": [],
   "source": [
    "# YOUR CODE HERE\n",
    "raise NotImplementedError()"
   ]
  },
  {
   "cell_type": "markdown",
   "metadata": {},
   "source": [
    "> **Ex. 5.5.7:** *(Bonus)* Rename variables from Danish to English using the dictionary below.\n",
    "\n",
    "```python \n",
    "dk_to_uk = {\n",
    "    'Vejnavn':'road_name',\n",
    "    '(UTM32)':'UTM32_north',\n",
    "    '(UTM32).1':'UTM32_east',\n",
    "    'Dato':'date',\n",
    "    'Vej-Id':'road_id'\n",
    "}\n",
    "```"
   ]
  },
  {
   "cell_type": "code",
   "execution_count": null,
   "metadata": {
    "deletable": false,
    "nbgrader": {
     "cell_type": "code",
     "checksum": "8f9f5484502836bbba3fb542b23b6500",
     "grade": false,
     "grade_id": "cell-70b2cbb8cf1b167a",
     "locked": false,
     "schema_version": 3,
     "solution": true,
     "task": false
    }
   },
   "outputs": [],
   "source": [
    "# YOUR CODE HERE\n",
    "raise NotImplementedError()"
   ]
  },
  {
   "cell_type": "markdown",
   "metadata": {},
   "source": [
    "Python is quite efficient. For example, when you create a new dataframe by manipulating an old one, Python notices that—apart from some minor changes—these two objects are almost the same. Since memory is a precious resource, Python will represent the values in the new dataframe as references to the variables in the old dataset. This is great for performance, but if you for whatever reason change some of the values in your old dataframe, values in the new one will also change—and we don't want that! Luckily, we can break this dependency.\n",
    "\n",
    "> **Ex. 5.5.8:** *(Bonus)* Break the dependencies of the dataframe that resulted from Ex. 5.2.7 using the `.copy` method. Delete all other dataframes."
   ]
  },
  {
   "cell_type": "code",
   "execution_count": null,
   "metadata": {
    "deletable": false,
    "nbgrader": {
     "cell_type": "code",
     "checksum": "16a0e29e5b884701fb033db976d23ca1",
     "grade": false,
     "grade_id": "cell-3bc14837561aaf91",
     "locked": false,
     "schema_version": 3,
     "solution": true,
     "task": false
    }
   },
   "outputs": [],
   "source": [
    "# YOUR CODE HERE\n",
    "raise NotImplementedError()"
   ]
  },
  {
   "cell_type": "markdown",
   "metadata": {},
   "source": [
    "Once you have structured appropriately, something that you will want to do again and again is selecting subsets of the data. Specifically, it means that you select specific rows in the dataset based on some column values.\n",
    "\n",
    ">**Ex. 5.5.9:** *(Bonus)* Create a new column in the dataframe called total that is True when the last letter of road_id is T and otherwise False.\n",
    "\n",
    "> _Hint:_ you will need the `pd.Series.str` attribute for this."
   ]
  },
  {
   "cell_type": "code",
   "execution_count": null,
   "metadata": {
    "deletable": false,
    "nbgrader": {
     "cell_type": "code",
     "checksum": "35f0de63708a3b52e5f8d9939a2d0e37",
     "grade": false,
     "grade_id": "cell-d71c49b56465c6de",
     "locked": false,
     "schema_version": 3,
     "solution": true,
     "task": false
    }
   },
   "outputs": [],
   "source": [
    "# YOUR CODE HERE\n",
    "raise NotImplementedError()"
   ]
  },
  {
   "cell_type": "markdown",
   "metadata": {},
   "source": [
    "> **Ex. 5.5.10:** *(Bonus)* Select rows where total is True. Delete all the remaining observations."
   ]
  },
  {
   "cell_type": "code",
   "execution_count": null,
   "metadata": {
    "deletable": false,
    "nbgrader": {
     "cell_type": "code",
     "checksum": "0ba8a70ca32e46791f0f6412bade1dff",
     "grade": false,
     "grade_id": "cell-be16ff389b3ac550",
     "locked": false,
     "schema_version": 3,
     "solution": true,
     "task": false
    }
   },
   "outputs": [],
   "source": [
    "# YOUR CODE HERE\n",
    "raise NotImplementedError()"
   ]
  },
  {
   "cell_type": "markdown",
   "metadata": {},
   "source": [
    "> **Ex. 5.5.11:** *(Bonus)* Make two datasets based on the lists of columns below. Call the dataset with spatial columns data_geo and the other data.\n",
    "\n",
    "```python\n",
    "# Columns for `geo_data`, stored in `geo_columns`\n",
    "spatial_columns = ['road_name', 'UTM32_north', 'UTM32_east']\n",
    "\n",
    "# Columns for `data`, stored in `select_columns`\n",
    "hours = ['kl.{}-{}'.format(str(h).zfill(2), str(h+1).zfill(2)) for h in range(24)]\n",
    "select_columns = ['road_name', 'date'] + hours\n",
    "```"
   ]
  },
  {
   "cell_type": "code",
   "execution_count": null,
   "metadata": {
    "deletable": false,
    "nbgrader": {
     "cell_type": "code",
     "checksum": "f5f9cccfbf6ea83f71ad566f2ff863fc",
     "grade": false,
     "grade_id": "cell-044260f4552d575c",
     "locked": false,
     "schema_version": 3,
     "solution": true,
     "task": false
    }
   },
   "outputs": [],
   "source": [
    "# YOUR CODE HERE\n",
    "raise NotImplementedError()"
   ]
  },
  {
   "cell_type": "markdown",
   "metadata": {},
   "source": [
    "> **Ex. 5.5.12:** *(Bonus)* Drop the duplicate rows in data_geo."
   ]
  },
  {
   "cell_type": "code",
   "execution_count": null,
   "metadata": {
    "deletable": false,
    "nbgrader": {
     "cell_type": "code",
     "checksum": "62c3d4184c078cc649f4ff73b42a46e5",
     "grade": false,
     "grade_id": "cell-34fc8fa941234a18",
     "locked": false,
     "schema_version": 3,
     "solution": true,
     "task": false
    }
   },
   "outputs": [],
   "source": [
    "# YOUR CODE HERE\n",
    "raise NotImplementedError()"
   ]
  },
  {
   "cell_type": "markdown",
   "metadata": {},
   "source": [
    "**Formatting: wide and narrow format**\n",
    "\n",
    "When talking about two-dimensional data (matrices, tables or dataframes, we can call it many things), we can either say that it is in wide or long format (see explanation here, \"wide\" and \"long\" are used interchangably). In Pandas we can use the commands stack and unstack to move between these formats.\n",
    "\n",
    "The wide format has the advantage that it often requires less storage and is easier to read when printed. On the other hand the long format can be easier for modelling, because each observation has its own row. Turns out that the latter is what we most often need.\n",
    "\n",
    "> **Ex. 5.5.13:** *(Bonus)* Turn the dataset from wide to long so hourly data is now vertically stacked. Store this dataset in a dataframe called data. Name the column with hourly information hour_period. Your resulting dataframe should look something like this.\n",
    "\n",
    "> _Hint:_ pandas' melt function may be of use."
   ]
  },
  {
   "cell_type": "code",
   "execution_count": null,
   "metadata": {
    "deletable": false,
    "nbgrader": {
     "cell_type": "code",
     "checksum": "fdb44532dc5c3121108808b0e192ba73",
     "grade": false,
     "grade_id": "cell-8814dd6f2c675c9e",
     "locked": false,
     "schema_version": 3,
     "solution": true,
     "task": false
    }
   },
   "outputs": [],
   "source": [
    "# YOUR CODE HERE\n",
    "raise NotImplementedError()"
   ]
  },
  {
   "cell_type": "markdown",
   "metadata": {},
   "source": [
    "**Categorical data**\n",
    "\n",
    "Categorical data can contain Python objects, usually strings. These are smart if you have variables with string observations that are long and often repeated, e.g. with road names.\n",
    "\n",
    "> **Ex. 5.5.14:** *(Bonus)* Use the `.astype` method to convert the type of the road_name column to categorical."
   ]
  },
  {
   "cell_type": "code",
   "execution_count": null,
   "metadata": {
    "deletable": false,
    "nbgrader": {
     "cell_type": "code",
     "checksum": "bc8cc582f4ae8fc5699481d4687b7a29",
     "grade": false,
     "grade_id": "cell-d94e7ec1af8fce59",
     "locked": false,
     "schema_version": 3,
     "solution": true,
     "task": false
    }
   },
   "outputs": [],
   "source": [
    "# YOUR CODE HERE\n",
    "raise NotImplementedError()"
   ]
  },
  {
   "cell_type": "markdown",
   "metadata": {},
   "source": [
    "## Part 5.5.C:  Structure temporal data\n",
    "\n",
    "Pandas has native support for working with temporal data. This is handy as much 'big data' often has time stamps which we can make Pandas aware of. Once we have encoded temporal data it can be used to extract information such as the hour, second etc.\n",
    "\n",
    "> **Ex. 5.5.15:** *(Bonus)* Create a new column called hour which contains the hour-of-day for each row. "
   ]
  },
  {
   "cell_type": "code",
   "execution_count": null,
   "metadata": {
    "deletable": false,
    "nbgrader": {
     "cell_type": "code",
     "checksum": "646ddff2743eb9b40e49cb18a566c9b9",
     "grade": false,
     "grade_id": "cell-54d6bbbab97b9bae",
     "locked": false,
     "schema_version": 3,
     "solution": true,
     "task": false
    }
   },
   "outputs": [],
   "source": [
    "# YOUR CODE HERE\n",
    "raise NotImplementedError()"
   ]
  },
  {
   "cell_type": "markdown",
   "metadata": {},
   "source": [
    ">**Ex. 5.5.16:** *(Bonus)* Create a new column called time, that contains the time of the row in datetime format. Delete the old temporal columns (hour, hour_period, date) to save memory.\n",
    "\n",
    "> _Hint:_ try making an intermediary series of strings that has all temporal information for the row; then use pandas to_datetime function where you can specify the format of the date string."
   ]
  },
  {
   "cell_type": "code",
   "execution_count": null,
   "metadata": {
    "deletable": false,
    "nbgrader": {
     "cell_type": "code",
     "checksum": "e0336faad2edaa18a961f7dbd9364a26",
     "grade": false,
     "grade_id": "cell-e8d6d81a5e31cd12",
     "locked": false,
     "schema_version": 3,
     "solution": true,
     "task": false
    }
   },
   "outputs": [],
   "source": [
    "# YOUR CODE HERE\n",
    "raise NotImplementedError()"
   ]
  },
  {
   "cell_type": "markdown",
   "metadata": {},
   "source": [
    "> **Ex. 5.5.17:** *(Bonus)* Using your time column make a new column called weekday which stores the weekday (in values between 0 and 6) of the corresponding datetime.\n",
    "\n",
    "> _Hint:_ try using the dt method for the series called time; dt has some relevant methods itself."
   ]
  },
  {
   "cell_type": "code",
   "execution_count": null,
   "metadata": {
    "deletable": false,
    "nbgrader": {
     "cell_type": "code",
     "checksum": "ec12a51ca78cfcfb010958a3a3f38299",
     "grade": false,
     "grade_id": "cell-eeabee7e17bbc24a",
     "locked": false,
     "schema_version": 3,
     "solution": true,
     "task": false
    }
   },
   "outputs": [],
   "source": [
    "# YOUR CODE HERE\n",
    "raise NotImplementedError()"
   ]
  },
  {
   "cell_type": "markdown",
   "metadata": {},
   "source": [
    "## Part 5.5.D: Statistical descriptions of traffic data\n",
    "\n",
    "> **Ex. 5.5.18:** *(Bonus)* Print the \"descriptive statistics\" of the traffic column. Also show a kernel density estimate of the values.\n",
    "\n",
    "> _Hint:_ Use the describe method of pandas dataframes for the first task. Use seaborn for the second. "
   ]
  },
  {
   "cell_type": "code",
   "execution_count": null,
   "metadata": {
    "deletable": false,
    "nbgrader": {
     "cell_type": "code",
     "checksum": "1c8c5a5e2b98bb1b436ce71ccfedb681",
     "grade": false,
     "grade_id": "cell-5543e5d8d126bc40",
     "locked": false,
     "schema_version": 3,
     "solution": true,
     "task": false
    }
   },
   "outputs": [],
   "source": [
    "import seaborn as sb\n",
    "\n",
    "# YOUR CODE HERE\n",
    "raise NotImplementedError()"
   ]
  },
  {
   "cell_type": "markdown",
   "metadata": {},
   "source": [
    "> **Ex. 5.5.19:** *(Bonus)* Which road has the most average traffic?"
   ]
  },
  {
   "cell_type": "code",
   "execution_count": null,
   "metadata": {
    "deletable": false,
    "nbgrader": {
     "cell_type": "code",
     "checksum": "e44658f7686188ab151c6ad871332bba",
     "grade": false,
     "grade_id": "cell-ed14c5a9519b1a33",
     "locked": false,
     "schema_version": 3,
     "solution": true,
     "task": false
    }
   },
   "outputs": [],
   "source": [
    "# YOUR CODE HERE\n",
    "raise NotImplementedError()"
   ]
  },
  {
   "cell_type": "markdown",
   "metadata": {},
   "source": [
    "> **Ex. 5.5.20:** *(Bonus)* Compute annual, average road traffic during day hours (9-17). Which station had the least traffic in 2013? Which station has seen highest growth in traffic from 2013 to 2014?"
   ]
  },
  {
   "cell_type": "code",
   "execution_count": null,
   "metadata": {
    "deletable": false,
    "nbgrader": {
     "cell_type": "code",
     "checksum": "56dc16997bb791aa9bcbd89cf1f5c64d",
     "grade": false,
     "grade_id": "cell-279831757079d3e0",
     "locked": false,
     "schema_version": 3,
     "solution": true,
     "task": false
    }
   },
   "outputs": [],
   "source": [
    "# YOUR CODE HERE\n",
    "raise NotImplementedError()"
   ]
  }
 ],
 "metadata": {
  "kernelspec": {
   "display_name": "Python 3",
   "language": "python",
   "name": "python3"
  },
  "language_info": {
   "codemirror_mode": {
    "name": "ipython",
    "version": 3
   },
   "file_extension": ".py",
   "mimetype": "text/x-python",
   "name": "python",
   "nbconvert_exporter": "python",
   "pygments_lexer": "ipython3",
   "version": "3.8.8"
  },
  "varInspector": {
   "cols": {
    "lenName": 16,
    "lenType": 16,
    "lenVar": 40
   },
   "kernels_config": {
    "python": {
     "delete_cmd_postfix": "",
     "delete_cmd_prefix": "del ",
     "library": "var_list.py",
     "varRefreshCmd": "print(var_dic_list())"
    },
    "r": {
     "delete_cmd_postfix": ") ",
     "delete_cmd_prefix": "rm(",
     "library": "var_list.r",
     "varRefreshCmd": "cat(var_dic_list()) "
    }
   },
   "types_to_exclude": [
    "module",
    "function",
    "builtin_function_or_method",
    "instance",
    "_Feature"
   ],
   "window_display": false
  }
 },
 "nbformat": 4,
 "nbformat_minor": 4
}
