{
<<<<<<< Updated upstream
 "cells": [
  {
   "cell_type": "code",
   "execution_count": 1,
   "id": "605e738d",
   "metadata": {},
   "outputs": [],
   "source": [
    "import numpy as np\n",
    "import pandas as pd\n",
    "import os\n",
    "import matplotlib.pyplot as plt"
   ]
  },
  {
   "cell_type": "code",
   "execution_count": 2,
   "id": "f0ea181f",
   "metadata": {},
   "outputs": [],
   "source": [
    "df = pd.read_csv('clean_data.csv')"
   ]
  },
  {
   "cell_type": "code",
   "execution_count": 3,
   "id": "84f9e840",
   "metadata": {},
   "outputs": [
    {
     "data": {
      "text/html": [
       "<div>\n",
       "<style scoped>\n",
       "    .dataframe tbody tr th:only-of-type {\n",
       "        vertical-align: middle;\n",
       "    }\n",
       "\n",
       "    .dataframe tbody tr th {\n",
       "        vertical-align: top;\n",
       "    }\n",
       "\n",
       "    .dataframe thead th {\n",
       "        text-align: right;\n",
       "    }\n",
       "</style>\n",
       "<table border=\"1\" class=\"dataframe\">\n",
       "  <thead>\n",
       "    <tr style=\"text-align: right;\">\n",
       "      <th></th>\n",
       "      <th>id</th>\n",
       "      <th>name</th>\n",
       "      <th>age</th>\n",
       "      <th>release_date</th>\n",
       "      <th>developer</th>\n",
       "      <th>price</th>\n",
       "      <th>free to play</th>\n",
       "      <th>Arabic</th>\n",
       "      <th>Bulgarian</th>\n",
       "      <th>Chinese (Simplified)</th>\n",
       "      <th>...</th>\n",
       "      <th>Skiing</th>\n",
       "      <th>Snowboarding</th>\n",
       "      <th>Well-Written</th>\n",
       "      <th>Hardware</th>\n",
       "      <th>8-bit Music</th>\n",
       "      <th>BMX</th>\n",
       "      <th>Steam Machine</th>\n",
       "      <th>Reboot</th>\n",
       "      <th>num_tags</th>\n",
       "      <th>time_delta</th>\n",
       "    </tr>\n",
       "  </thead>\n",
       "  <tbody>\n",
       "    <tr>\n",
       "      <th>0</th>\n",
       "      <td>830580</td>\n",
       "      <td>BattleBeasts</td>\n",
       "      <td>0</td>\n",
       "      <td>2021-05-10</td>\n",
       "      <td>Oleg Shestoperov</td>\n",
       "      <td>4.99</td>\n",
       "      <td>0</td>\n",
       "      <td>0</td>\n",
       "      <td>0</td>\n",
       "      <td>0</td>\n",
       "      <td>...</td>\n",
       "      <td>0</td>\n",
       "      <td>0</td>\n",
       "      <td>0</td>\n",
       "      <td>0</td>\n",
       "      <td>0</td>\n",
       "      <td>0</td>\n",
       "      <td>0</td>\n",
       "      <td>0</td>\n",
       "      <td>17</td>\n",
       "      <td>98</td>\n",
       "    </tr>\n",
       "    <tr>\n",
       "      <th>1</th>\n",
       "      <td>251590</td>\n",
       "      <td>Soul Saga</td>\n",
       "      <td>0</td>\n",
       "      <td>2020-02-28</td>\n",
       "      <td>Disastercake</td>\n",
       "      <td>14.99</td>\n",
       "      <td>0</td>\n",
       "      <td>0</td>\n",
       "      <td>0</td>\n",
       "      <td>0</td>\n",
       "      <td>...</td>\n",
       "      <td>0</td>\n",
       "      <td>0</td>\n",
       "      <td>0</td>\n",
       "      <td>0</td>\n",
       "      <td>0</td>\n",
       "      <td>0</td>\n",
       "      <td>0</td>\n",
       "      <td>0</td>\n",
       "      <td>20</td>\n",
       "      <td>535</td>\n",
       "    </tr>\n",
       "    <tr>\n",
       "      <th>2</th>\n",
       "      <td>914230</td>\n",
       "      <td>Swamp Jump</td>\n",
       "      <td>0</td>\n",
       "      <td>2018-08-21</td>\n",
       "      <td>Bullid Games</td>\n",
       "      <td>1.99</td>\n",
       "      <td>0</td>\n",
       "      <td>0</td>\n",
       "      <td>0</td>\n",
       "      <td>0</td>\n",
       "      <td>...</td>\n",
       "      <td>0</td>\n",
       "      <td>0</td>\n",
       "      <td>0</td>\n",
       "      <td>0</td>\n",
       "      <td>0</td>\n",
       "      <td>0</td>\n",
       "      <td>0</td>\n",
       "      <td>0</td>\n",
       "      <td>2</td>\n",
       "      <td>1091</td>\n",
       "    </tr>\n",
       "    <tr>\n",
       "      <th>3</th>\n",
       "      <td>877260</td>\n",
       "      <td>Retro Snake</td>\n",
       "      <td>0</td>\n",
       "      <td>2018-06-20</td>\n",
       "      <td>Flying potato bread, Wixl</td>\n",
       "      <td>1.99</td>\n",
       "      <td>0</td>\n",
       "      <td>0</td>\n",
       "      <td>0</td>\n",
       "      <td>0</td>\n",
       "      <td>...</td>\n",
       "      <td>0</td>\n",
       "      <td>0</td>\n",
       "      <td>0</td>\n",
       "      <td>0</td>\n",
       "      <td>0</td>\n",
       "      <td>0</td>\n",
       "      <td>0</td>\n",
       "      <td>0</td>\n",
       "      <td>3</td>\n",
       "      <td>1153</td>\n",
       "    </tr>\n",
       "    <tr>\n",
       "      <th>4</th>\n",
       "      <td>893140</td>\n",
       "      <td>Gold Digger Maze</td>\n",
       "      <td>0</td>\n",
       "      <td>2018-07-24</td>\n",
       "      <td>Bullid Games</td>\n",
       "      <td>3.99</td>\n",
       "      <td>0</td>\n",
       "      <td>0</td>\n",
       "      <td>0</td>\n",
       "      <td>0</td>\n",
       "      <td>...</td>\n",
       "      <td>0</td>\n",
       "      <td>0</td>\n",
       "      <td>0</td>\n",
       "      <td>0</td>\n",
       "      <td>0</td>\n",
       "      <td>0</td>\n",
       "      <td>0</td>\n",
       "      <td>0</td>\n",
       "      <td>3</td>\n",
       "      <td>1119</td>\n",
       "    </tr>\n",
       "  </tbody>\n",
       "</table>\n",
       "<p>5 rows × 466 columns</p>\n",
       "</div>"
      ],
      "text/plain": [
       "       id              name  age release_date                  developer  \\\n",
       "0  830580      BattleBeasts    0   2021-05-10           Oleg Shestoperov   \n",
       "1  251590         Soul Saga    0   2020-02-28               Disastercake   \n",
       "2  914230        Swamp Jump    0   2018-08-21               Bullid Games   \n",
       "3  877260       Retro Snake    0   2018-06-20  Flying potato bread, Wixl   \n",
       "4  893140  Gold Digger Maze    0   2018-07-24               Bullid Games   \n",
       "\n",
       "   price  free to play  Arabic  Bulgarian  Chinese (Simplified)  ...  Skiing  \\\n",
       "0   4.99             0       0          0                     0  ...       0   \n",
       "1  14.99             0       0          0                     0  ...       0   \n",
       "2   1.99             0       0          0                     0  ...       0   \n",
       "3   1.99             0       0          0                     0  ...       0   \n",
       "4   3.99             0       0          0                     0  ...       0   \n",
       "\n",
       "   Snowboarding  Well-Written  Hardware  8-bit Music  BMX  Steam Machine  \\\n",
       "0             0             0         0            0    0              0   \n",
       "1             0             0         0            0    0              0   \n",
       "2             0             0         0            0    0              0   \n",
       "3             0             0         0            0    0              0   \n",
       "4             0             0         0            0    0              0   \n",
       "\n",
       "   Reboot  num_tags  time_delta  \n",
       "0       0        17          98  \n",
       "1       0        20         535  \n",
       "2       0         2        1091  \n",
       "3       0         3        1153  \n",
       "4       0         3        1119  \n",
       "\n",
       "[5 rows x 466 columns]"
      ]
     },
     "execution_count": 3,
     "metadata": {},
     "output_type": "execute_result"
    }
   ],
   "source": [
    "df.head()"
   ]
  },
  {
   "cell_type": "code",
   "execution_count": 4,
   "id": "cc34a365",
   "metadata": {},
   "outputs": [],
   "source": [
    "y = df.price\n",
    "\n",
    "#only taking values, where we don't have a zero count across all observations\n",
    "X = df.drop(columns = ['price', 'id', 'name', 'release_date', 'free to play']).loc[:, (df != 0).any(axis=0)]\n",
    "X['developer'] = pd.Categorical(X.developer)"
   ]
  },
  {
   "cell_type": "code",
   "execution_count": 5,
   "id": "25f8f7c9",
   "metadata": {},
   "outputs": [
    {
     "data": {
      "text/plain": [
       "0               Oleg Shestoperov\n",
       "1                   Disastercake\n",
       "2                   Bullid Games\n",
       "3      Flying potato bread, Wixl\n",
       "4                   Bullid Games\n",
       "                 ...            \n",
       "631                 Idea Factory\n",
       "632            Gas Powered Games\n",
       "633                  HOF Studios\n",
       "634                  Hydro Games\n",
       "635           Spiderweb Software\n",
       "Name: developer, Length: 636, dtype: category\n",
       "Categories (476, object): ['10tons Ltd', '2K Australia, Gearbox Software, Aspyr (Linux)', '3-Tricks', '3Division', ..., '▲ Pyramid Games', '△○□× (Miwashiba)', '墨鱼玩游戏', '认真玩工作室']"
      ]
     },
     "execution_count": 5,
     "metadata": {},
     "output_type": "execute_result"
    }
   ],
   "source": [
    "#We see that the number of developers is huge\n",
    "X.developer"
   ]
  },
  {
   "cell_type": "code",
   "execution_count": 6,
   "id": "5c44750c",
   "metadata": {},
   "outputs": [
    {
     "data": {
      "text/plain": [
       "(array([594.,   0.,   0.,   0.,   0.,   3.,   0.,  10.,   0.,  29.]),\n",
       " array([ 0. ,  1.8,  3.6,  5.4,  7.2,  9. , 10.8, 12.6, 14.4, 16.2, 18. ]),\n",
       " <BarContainer object of 10 artists>)"
      ]
     },
     "execution_count": 6,
     "metadata": {},
     "output_type": "execute_result"
    },
    {
     "data": {
      "image/png": "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\n",
      "text/plain": [
       "<Figure size 432x288 with 1 Axes>"
      ]
     },
     "metadata": {
      "needs_background": "light"
     },
     "output_type": "display_data"
    }
   ],
   "source": [
    "# Probably drop this feature?\n",
    "plt.hist(X['age'])"
   ]
  },
  {
   "cell_type": "code",
   "execution_count": 7,
   "id": "bfccfca3",
   "metadata": {},
   "outputs": [
    {
     "data": {
      "image/png": "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\n",
      "text/plain": [
       "<Figure size 432x288 with 1 Axes>"
      ]
     },
     "metadata": {
      "needs_background": "light"
     },
     "output_type": "display_data"
    }
   ],
   "source": [
    "fig = plt.figure()\n",
    "plt.yscale('log')\n",
    "plt.title(' Log price Vs age in days')\n",
    "plt.xlabel('Days old')\n",
    "plt.ylabel('Log price')\n",
    "plt.scatter(X['time_delta'], y)\n",
    "m, b = np.polyfit(X['time_delta'], y, 1)\n",
    "plt.plot(X['time_delta'], m*X['time_delta'] + b, color = 'red')\n",
    "fig.tight_layout()"
   ]
  },
  {
   "cell_type": "code",
   "execution_count": 8,
   "id": "5ad2a605",
   "metadata": {},
   "outputs": [
    {
     "data": {
      "text/plain": [
       "(array([436., 140.,  39.,  11.,   7.,   0.,   1.,   1.,   0.,   1.]),\n",
       " array([  0.49,  20.44,  40.39,  60.34,  80.29, 100.24, 120.19, 140.14,\n",
       "        160.09, 180.04, 199.99]),\n",
       " <BarContainer object of 10 artists>)"
      ]
     },
     "execution_count": 8,
     "metadata": {},
     "output_type": "execute_result"
    },
    {
     "data": {
      "image/png": "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\n",
      "text/plain": [
       "<Figure size 432x288 with 1 Axes>"
      ]
     },
     "metadata": {
      "needs_background": "light"
     },
     "output_type": "display_data"
    }
   ],
   "source": [
    "plt.hist(y)"
   ]
  },
  {
   "cell_type": "code",
   "execution_count": 9,
   "id": "e99a8735",
   "metadata": {},
   "outputs": [
    {
     "data": {
      "text/plain": [
       "<matplotlib.collections.PathCollection at 0x25101298c10>"
      ]
     },
     "execution_count": 9,
     "metadata": {},
     "output_type": "execute_result"
    },
    {
     "data": {
      "image/png": "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\n",
      "text/plain": [
       "<Figure size 432x288 with 1 Axes>"
      ]
     },
     "metadata": {
      "needs_background": "light"
     },
     "output_type": "display_data"
    }
   ],
   "source": [
    "# number of tags against price\n",
    "plt.scatter(x = 'num_tags', y='price', data = df)"
   ]
  },
  {
   "cell_type": "code",
   "execution_count": 10,
   "id": "bfbf6c9a",
   "metadata": {},
   "outputs": [
    {
     "data": {
      "text/plain": [
       "<matplotlib.collections.PathCollection at 0x251012eef70>"
      ]
     },
     "execution_count": 10,
     "metadata": {},
     "output_type": "execute_result"
    },
    {
     "data": {
      "image/png": "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\n",
      "text/plain": [
       "<Figure size 432x288 with 1 Axes>"
      ]
     },
     "metadata": {
      "needs_background": "light"
     },
     "output_type": "display_data"
    }
   ],
   "source": [
    "#number of languages against price\n",
    "plt.scatter(x = 'num_lang', y='price', data = df)"
   ]
  },
  {
   "cell_type": "code",
   "execution_count": 11,
   "id": "9fb69a88",
   "metadata": {},
   "outputs": [],
   "source": [
    "import warnings\n",
    "from sklearn.exceptions import ConvergenceWarning\n",
    "warnings.filterwarnings(action='ignore', category=ConvergenceWarning)\n",
    "from sklearn.pipeline import make_pipeline\n",
    "from sklearn.preprocessing import PolynomialFeatures, StandardScaler\n",
    "from sklearn.metrics import mean_squared_error as mse\n",
    "from sklearn.linear_model import LinearRegression, Lasso, ElasticNet\n",
    "from sklearn.model_selection import train_test_split"
   ]
  },
  {
   "cell_type": "code",
   "execution_count": 12,
   "id": "860b1ae5",
   "metadata": {},
   "outputs": [],
   "source": [
    "# For now we drop developer and age. We might add them again with more data\n",
    "X = X.drop(columns = ['developer', 'age'])"
   ]
  },
  {
   "cell_type": "code",
   "execution_count": 13,
   "id": "b0e65736",
   "metadata": {},
   "outputs": [],
   "source": [
    "# Here we remove columns with less than 3 hits within our observations\n",
    "# This is basically to remove languages with very few observations.\n",
    "X = X.loc[:,X.sum(axis = 0)>3]"
   ]
  },
  {
   "cell_type": "code",
   "execution_count": 14,
   "id": "6bb636e5",
   "metadata": {},
   "outputs": [],
   "source": [
    "X_dev, X_test, y_dev, y_test = train_test_split(X.values, y.values, test_size = 3/10, random_state = 1)"
   ]
  },
  {
   "cell_type": "code",
   "execution_count": 15,
   "id": "2ac7552f",
   "metadata": {},
   "outputs": [
    {
     "ename": "KeyboardInterrupt",
     "evalue": "",
     "output_type": "error",
     "traceback": [
      "\u001b[1;31m---------------------------------------------------------------------------\u001b[0m",
      "\u001b[1;31mKeyboardInterrupt\u001b[0m                         Traceback (most recent call last)",
      "\u001b[1;32m<ipython-input-15-69489d608a34>\u001b[0m in \u001b[0;36m<module>\u001b[1;34m\u001b[0m\n\u001b[0;32m     17\u001b[0m         \u001b[0mX_train\u001b[0m\u001b[1;33m,\u001b[0m \u001b[0my_train\u001b[0m \u001b[1;33m=\u001b[0m \u001b[0mX_dev\u001b[0m\u001b[1;33m[\u001b[0m\u001b[0mtrain_idx\u001b[0m\u001b[1;33m]\u001b[0m\u001b[1;33m,\u001b[0m \u001b[0my_dev\u001b[0m\u001b[1;33m[\u001b[0m\u001b[0mtrain_idx\u001b[0m\u001b[1;33m]\u001b[0m\u001b[1;33m\u001b[0m\u001b[1;33m\u001b[0m\u001b[0m\n\u001b[0;32m     18\u001b[0m         \u001b[0mX_val\u001b[0m\u001b[1;33m,\u001b[0m \u001b[0my_val\u001b[0m \u001b[1;33m=\u001b[0m \u001b[0mX_dev\u001b[0m\u001b[1;33m[\u001b[0m\u001b[0mval_idx\u001b[0m\u001b[1;33m]\u001b[0m\u001b[1;33m,\u001b[0m \u001b[0my_dev\u001b[0m\u001b[1;33m[\u001b[0m\u001b[0mval_idx\u001b[0m\u001b[1;33m]\u001b[0m\u001b[1;33m\u001b[0m\u001b[1;33m\u001b[0m\u001b[0m\n\u001b[1;32m---> 19\u001b[1;33m         \u001b[0mpipe_Lasso\u001b[0m\u001b[1;33m.\u001b[0m\u001b[0mfit\u001b[0m\u001b[1;33m(\u001b[0m\u001b[0mX_train\u001b[0m\u001b[1;33m,\u001b[0m \u001b[0my_train\u001b[0m\u001b[1;33m)\u001b[0m\u001b[1;33m\u001b[0m\u001b[1;33m\u001b[0m\u001b[0m\n\u001b[0m\u001b[0;32m     20\u001b[0m         \u001b[0mMSE_cv\u001b[0m\u001b[1;33m.\u001b[0m\u001b[0mappend\u001b[0m\u001b[1;33m(\u001b[0m\u001b[0mmse\u001b[0m\u001b[1;33m(\u001b[0m\u001b[0mpipe_Lasso\u001b[0m\u001b[1;33m.\u001b[0m\u001b[0mpredict\u001b[0m\u001b[1;33m(\u001b[0m\u001b[0mX_val\u001b[0m\u001b[1;33m)\u001b[0m\u001b[1;33m,\u001b[0m \u001b[0my_val\u001b[0m\u001b[1;33m)\u001b[0m\u001b[1;33m)\u001b[0m\u001b[1;33m\u001b[0m\u001b[1;33m\u001b[0m\u001b[0m\n\u001b[0;32m     21\u001b[0m \u001b[1;33m\u001b[0m\u001b[0m\n",
      "\u001b[1;32m~\\anaconda3\\lib\\site-packages\\sklearn\\pipeline.py\u001b[0m in \u001b[0;36mfit\u001b[1;34m(self, X, y, **fit_params)\u001b[0m\n\u001b[0;32m    344\u001b[0m             \u001b[1;32mif\u001b[0m \u001b[0mself\u001b[0m\u001b[1;33m.\u001b[0m\u001b[0m_final_estimator\u001b[0m \u001b[1;33m!=\u001b[0m \u001b[1;34m'passthrough'\u001b[0m\u001b[1;33m:\u001b[0m\u001b[1;33m\u001b[0m\u001b[1;33m\u001b[0m\u001b[0m\n\u001b[0;32m    345\u001b[0m                 \u001b[0mfit_params_last_step\u001b[0m \u001b[1;33m=\u001b[0m \u001b[0mfit_params_steps\u001b[0m\u001b[1;33m[\u001b[0m\u001b[0mself\u001b[0m\u001b[1;33m.\u001b[0m\u001b[0msteps\u001b[0m\u001b[1;33m[\u001b[0m\u001b[1;33m-\u001b[0m\u001b[1;36m1\u001b[0m\u001b[1;33m]\u001b[0m\u001b[1;33m[\u001b[0m\u001b[1;36m0\u001b[0m\u001b[1;33m]\u001b[0m\u001b[1;33m]\u001b[0m\u001b[1;33m\u001b[0m\u001b[1;33m\u001b[0m\u001b[0m\n\u001b[1;32m--> 346\u001b[1;33m                 \u001b[0mself\u001b[0m\u001b[1;33m.\u001b[0m\u001b[0m_final_estimator\u001b[0m\u001b[1;33m.\u001b[0m\u001b[0mfit\u001b[0m\u001b[1;33m(\u001b[0m\u001b[0mXt\u001b[0m\u001b[1;33m,\u001b[0m \u001b[0my\u001b[0m\u001b[1;33m,\u001b[0m \u001b[1;33m**\u001b[0m\u001b[0mfit_params_last_step\u001b[0m\u001b[1;33m)\u001b[0m\u001b[1;33m\u001b[0m\u001b[1;33m\u001b[0m\u001b[0m\n\u001b[0m\u001b[0;32m    347\u001b[0m \u001b[1;33m\u001b[0m\u001b[0m\n\u001b[0;32m    348\u001b[0m         \u001b[1;32mreturn\u001b[0m \u001b[0mself\u001b[0m\u001b[1;33m\u001b[0m\u001b[1;33m\u001b[0m\u001b[0m\n",
      "\u001b[1;32m~\\anaconda3\\lib\\site-packages\\sklearn\\linear_model\\_coordinate_descent.py\u001b[0m in \u001b[0;36mfit\u001b[1;34m(self, X, y, sample_weight, check_input)\u001b[0m\n\u001b[0;32m    842\u001b[0m                 \u001b[0mthis_Xy\u001b[0m \u001b[1;33m=\u001b[0m \u001b[1;32mNone\u001b[0m\u001b[1;33m\u001b[0m\u001b[1;33m\u001b[0m\u001b[0m\n\u001b[0;32m    843\u001b[0m             \u001b[0m_\u001b[0m\u001b[1;33m,\u001b[0m \u001b[0mthis_coef\u001b[0m\u001b[1;33m,\u001b[0m \u001b[0mthis_dual_gap\u001b[0m\u001b[1;33m,\u001b[0m \u001b[0mthis_iter\u001b[0m \u001b[1;33m=\u001b[0m\u001b[0;31m \u001b[0m\u001b[0;31m\\\u001b[0m\u001b[1;33m\u001b[0m\u001b[1;33m\u001b[0m\u001b[0m\n\u001b[1;32m--> 844\u001b[1;33m                 self.path(X, y[:, k],\n\u001b[0m\u001b[0;32m    845\u001b[0m                           \u001b[0ml1_ratio\u001b[0m\u001b[1;33m=\u001b[0m\u001b[0mself\u001b[0m\u001b[1;33m.\u001b[0m\u001b[0ml1_ratio\u001b[0m\u001b[1;33m,\u001b[0m \u001b[0meps\u001b[0m\u001b[1;33m=\u001b[0m\u001b[1;32mNone\u001b[0m\u001b[1;33m,\u001b[0m\u001b[1;33m\u001b[0m\u001b[1;33m\u001b[0m\u001b[0m\n\u001b[0;32m    846\u001b[0m                           \u001b[0mn_alphas\u001b[0m\u001b[1;33m=\u001b[0m\u001b[1;32mNone\u001b[0m\u001b[1;33m,\u001b[0m \u001b[0malphas\u001b[0m\u001b[1;33m=\u001b[0m\u001b[1;33m[\u001b[0m\u001b[0malpha\u001b[0m\u001b[1;33m]\u001b[0m\u001b[1;33m,\u001b[0m\u001b[1;33m\u001b[0m\u001b[1;33m\u001b[0m\u001b[0m\n",
      "\u001b[1;32m~\\anaconda3\\lib\\site-packages\\sklearn\\utils\\validation.py\u001b[0m in \u001b[0;36minner_f\u001b[1;34m(*args, **kwargs)\u001b[0m\n\u001b[0;32m     61\u001b[0m             \u001b[0mextra_args\u001b[0m \u001b[1;33m=\u001b[0m \u001b[0mlen\u001b[0m\u001b[1;33m(\u001b[0m\u001b[0margs\u001b[0m\u001b[1;33m)\u001b[0m \u001b[1;33m-\u001b[0m \u001b[0mlen\u001b[0m\u001b[1;33m(\u001b[0m\u001b[0mall_args\u001b[0m\u001b[1;33m)\u001b[0m\u001b[1;33m\u001b[0m\u001b[1;33m\u001b[0m\u001b[0m\n\u001b[0;32m     62\u001b[0m             \u001b[1;32mif\u001b[0m \u001b[0mextra_args\u001b[0m \u001b[1;33m<=\u001b[0m \u001b[1;36m0\u001b[0m\u001b[1;33m:\u001b[0m\u001b[1;33m\u001b[0m\u001b[1;33m\u001b[0m\u001b[0m\n\u001b[1;32m---> 63\u001b[1;33m                 \u001b[1;32mreturn\u001b[0m \u001b[0mf\u001b[0m\u001b[1;33m(\u001b[0m\u001b[1;33m*\u001b[0m\u001b[0margs\u001b[0m\u001b[1;33m,\u001b[0m \u001b[1;33m**\u001b[0m\u001b[0mkwargs\u001b[0m\u001b[1;33m)\u001b[0m\u001b[1;33m\u001b[0m\u001b[1;33m\u001b[0m\u001b[0m\n\u001b[0m\u001b[0;32m     64\u001b[0m \u001b[1;33m\u001b[0m\u001b[0m\n\u001b[0;32m     65\u001b[0m             \u001b[1;31m# extra_args > 0\u001b[0m\u001b[1;33m\u001b[0m\u001b[1;33m\u001b[0m\u001b[1;33m\u001b[0m\u001b[0m\n",
      "\u001b[1;32m~\\anaconda3\\lib\\site-packages\\sklearn\\linear_model\\_coordinate_descent.py\u001b[0m in \u001b[0;36menet_path\u001b[1;34m(X, y, l1_ratio, eps, n_alphas, alphas, precompute, Xy, copy_X, coef_init, verbose, return_n_iter, positive, check_input, **params)\u001b[0m\n\u001b[0;32m    528\u001b[0m                 tol, rng, random, positive)\n\u001b[0;32m    529\u001b[0m         \u001b[1;32melif\u001b[0m \u001b[0mprecompute\u001b[0m \u001b[1;32mis\u001b[0m \u001b[1;32mFalse\u001b[0m\u001b[1;33m:\u001b[0m\u001b[1;33m\u001b[0m\u001b[1;33m\u001b[0m\u001b[0m\n\u001b[1;32m--> 530\u001b[1;33m             model = cd_fast.enet_coordinate_descent(\n\u001b[0m\u001b[0;32m    531\u001b[0m                 \u001b[0mcoef_\u001b[0m\u001b[1;33m,\u001b[0m \u001b[0ml1_reg\u001b[0m\u001b[1;33m,\u001b[0m \u001b[0ml2_reg\u001b[0m\u001b[1;33m,\u001b[0m \u001b[0mX\u001b[0m\u001b[1;33m,\u001b[0m \u001b[0my\u001b[0m\u001b[1;33m,\u001b[0m \u001b[0mmax_iter\u001b[0m\u001b[1;33m,\u001b[0m \u001b[0mtol\u001b[0m\u001b[1;33m,\u001b[0m \u001b[0mrng\u001b[0m\u001b[1;33m,\u001b[0m \u001b[0mrandom\u001b[0m\u001b[1;33m,\u001b[0m\u001b[1;33m\u001b[0m\u001b[1;33m\u001b[0m\u001b[0m\n\u001b[0;32m    532\u001b[0m                 positive)\n",
      "\u001b[1;32msklearn\\linear_model\\_cd_fast.pyx\u001b[0m in \u001b[0;36msklearn.linear_model._cd_fast.enet_coordinate_descent\u001b[1;34m()\u001b[0m\n",
      "\u001b[1;31mKeyboardInterrupt\u001b[0m: "
     ]
    }
   ],
   "source": [
    "from sklearn.model_selection import KFold\n",
    "\n",
    "lambdas =  np.logspace(-4, 4, 12)\n",
    "\n",
    "kfolds = KFold(n_splits=5)\n",
    "folds = list(kfolds.split(X_dev, y_dev))\n",
    "\n",
    "MSE_lambda_lasso = []\n",
    "\n",
    "for lambda_ in lambdas:\n",
    "    MSE_cv = []\n",
    "    for train_idx, val_idx in folds:\n",
    "        \n",
    "        pipe_Lasso = make_pipeline(PolynomialFeatures(degree = 2, include_bias = False),\n",
    "                               StandardScaler(),\n",
    "                               Lasso(alpha = lambda_, random_state = 161193))\n",
    "        X_train, y_train = X_dev[train_idx], y_dev[train_idx]\n",
    "        X_val, y_val = X_dev[val_idx], y_dev[val_idx]\n",
    "        pipe_Lasso.fit(X_train, y_train)\n",
    "        MSE_cv.append(mse(pipe_Lasso.predict(X_val), y_val))\n",
    "        \n",
    "    MSE_lambda_lasso.append(np.mean(MSE_cv))"
   ]
  },
  {
   "cell_type": "code",
   "execution_count": null,
   "id": "2481b786",
   "metadata": {},
   "outputs": [],
   "source": [
    "lambdaCV_lasso = pd.Series(MSE_lambda_lasso, index=lambdas)"
   ]
  },
  {
   "cell_type": "code",
   "execution_count": null,
   "id": "cf3c091c",
   "metadata": {},
   "outputs": [],
   "source": [
    "fig = plt.figure()\n",
    "plt.xscale('log')\n",
    "plt.title(' Log lambda VS MSE')\n",
    "plt.xlabel('Lambda')\n",
    "plt.ylabel('MSE')\n",
    "plt.plot(lambdaCV_lasso)\n",
    "fig.tight_layout()"
   ]
  },
  {
   "cell_type": "code",
   "execution_count": null,
   "id": "5299d067",
   "metadata": {},
   "outputs": [],
   "source": [
    "# Now we try an Elastic Net-model with the smallest lambda found in the LASSO-model.\n",
    "lambdaCV_lasso.nsmallest(1)"
   ]
  },
  {
   "cell_type": "code",
   "execution_count": null,
   "id": "f38622aa",
   "metadata": {},
   "outputs": [],
   "source": [
    "ratio = np.linspace(0,1,10)\n",
    "MSE_lambda_EN = []\n",
    "for r_ in ratio:\n",
    "    MSE_cv = []\n",
    "    for train_idx, val_idx in folds:\n",
    "        \n",
    "        pipe_EN = make_pipeline(PolynomialFeatures(degree = 2, include_bias = False),\n",
    "                               StandardScaler(),\n",
    "                               ElasticNet(alpha = lambdaCV_lasso.nsmallest(1).index, l1_ratio = r_, random_state = 161193))\n",
    "        X_train, y_train = X_dev[train_idx], y_dev[train_idx]\n",
    "        X_val, y_val = X_dev[val_idx], y_dev[val_idx]\n",
    "        pipe_EN.fit(X_train, y_train)\n",
    "        MSE_cv.append(mse(pipe_EN.predict(X_val), y_val))\n",
    "        \n",
    "    MSE_lambda_EN.append(np.mean(MSE_cv))"
   ]
  },
  {
   "cell_type": "code",
   "execution_count": null,
   "id": "a8b7437d",
   "metadata": {},
   "outputs": [],
   "source": [
    "lambdaCV_EN = pd.Series(MSE_lambda_EN, index=ratio)"
   ]
  },
  {
   "cell_type": "code",
   "execution_count": null,
   "id": "8f4901ce",
   "metadata": {},
   "outputs": [],
   "source": [
    "fig = plt.figure()\n",
    "plt.title('Elastic Net Ratio VS MSE')\n",
    "plt.xlabel('Elastic Net ratio')\n",
    "plt.ylabel('MSE')\n",
    "plt.plot(lambdaCV_EN)\n",
    "fig.tight_layout()"
   ]
  },
  {
   "cell_type": "code",
   "execution_count": null,
   "id": "d56a10ae",
   "metadata": {},
   "outputs": [],
   "source": [
    "lambdaCV_EN"
   ]
  },
  {
   "cell_type": "code",
   "execution_count": null,
   "id": "af53725d",
   "metadata": {},
   "outputs": [],
   "source": [
    "lambdaCV_EN.nsmallest(1).index"
   ]
  },
  {
   "cell_type": "code",
   "execution_count": null,
   "id": "438a9205",
   "metadata": {},
   "outputs": [],
   "source": [
    "# We see a L1 ratio of 0.111 which means our model should include 0.111 Lasso penalty and 1-0.111 Ridge penalty"
   ]
  },
  {
   "cell_type": "code",
   "execution_count": null,
   "id": "43e01af2",
   "metadata": {},
   "outputs": [],
   "source": [
    "# Testing our models on test data\n",
    "pipe_EN = make_pipeline(PolynomialFeatures(degree = 2, include_bias = False),\n",
    "                               StandardScaler(),\n",
    "                               ElasticNet(alpha = lambdaCV_lasso.nsmallest(1).index,\\\n",
    "                                          l1_ratio = 0.1111, random_state = 161193))\n",
    "pipe_EN.fit(X_dev, y_dev)"
   ]
  },
  {
   "cell_type": "code",
   "execution_count": null,
   "id": "68246140",
   "metadata": {},
   "outputs": [],
   "source": [
    "mse(pipe_EN.predict(X_test), y_test)"
   ]
  },
  {
   "cell_type": "code",
   "execution_count": null,
   "id": "50e9f232",
   "metadata": {},
   "outputs": [],
   "source": [
    "bob = make_pipeline(PolynomialFeatures(degree = 2, include_bias = False),\n",
    "                               StandardScaler(),\n",
    "                               ElasticNet(alpha = lambdaCV_lasso.nsmallest(1).index,\\\n",
    "                                          l1_ratio = 0.5, random_state = 161193))\n",
    "bob.fit(X_dev, y_dev)\n",
    "mse(bob.predict(X_test), y_test)"
   ]
  },
  {
   "cell_type": "code",
   "execution_count": null,
   "id": "6638b531",
   "metadata": {},
   "outputs": [],
   "source": [
    "lambdas =  np.logspace(-4, 4, 12)\n",
    "\n",
    "pipe_Lasso_2 = make_pipeline(PolynomialFeatures(degree = 2, include_bias = False), StandardScaler(), Lasso())\n",
    "train_scores, test_scores = validation_curve(estimator = pipe_Lasso_2, \n",
    "                                            X = X_dev, \n",
    "                                            y = y_dev, \n",
    "                                            param_name = 'lasso__alpha',\n",
    "                                            param_range = lambdas,\n",
    "                                            scoring = 'neg_mean_squared_error',\n",
    "                                            cv = 5)\n",
    "\n",
    "mse_score = pd.DataFrame({'Train':-train_scores.mean(axis=1),\n",
    "                          'Validation':-test_scores.mean(axis=1),\n",
    "                          'lambda':lambdas})\\\n",
    "              .set_index('lambda')  \n",
    "\n",
    "mse_score.plot(logx=True, logy=False, figsize=(10,6))"
   ]
  },
  {
   "cell_type": "code",
   "execution_count": null,
   "id": "6dde69b3",
   "metadata": {},
   "outputs": [],
   "source": [
    "mse_score"
   ]
  }
 ],
 "metadata": {
  "kernelspec": {
   "display_name": "Python 3",
   "language": "python",
   "name": "python3"
  },
  "language_info": {
   "codemirror_mode": {
    "name": "ipython",
    "version": 3
   },
   "file_extension": ".py",
   "mimetype": "text/x-python",
   "name": "python",
   "nbconvert_exporter": "python",
   "pygments_lexer": "ipython3",
   "version": "3.8.8"
  }
 },
=======
 "cells": [],
 "metadata": {},
>>>>>>> Stashed changes
 "nbformat": 4,
 "nbformat_minor": 5
}
