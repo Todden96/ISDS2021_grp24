{
 "cells": [
  {
   "cell_type": "code",
   "execution_count": 1,
   "id": "859e73db",
   "metadata": {},
   "outputs": [],
   "source": [
    "import numpy as np\n",
    "import pandas as pd\n",
    "import os\n",
    "import matplotlib.pyplot as plt\n",
    "import seaborn as sns"
   ]
  },
  {
   "cell_type": "code",
   "execution_count": 2,
   "id": "b7ad68d6",
   "metadata": {},
   "outputs": [],
   "source": [
    "df = pd.read_csv('clean_data.csv')"
   ]
  },
  {
   "cell_type": "code",
   "execution_count": 3,
   "id": "bcb18474",
   "metadata": {},
   "outputs": [
    {
     "data": {
      "text/html": [
       "<div>\n",
       "<style scoped>\n",
       "    .dataframe tbody tr th:only-of-type {\n",
       "        vertical-align: middle;\n",
       "    }\n",
       "\n",
       "    .dataframe tbody tr th {\n",
       "        vertical-align: top;\n",
       "    }\n",
       "\n",
       "    .dataframe thead th {\n",
       "        text-align: right;\n",
       "    }\n",
       "</style>\n",
       "<table border=\"1\" class=\"dataframe\">\n",
       "  <thead>\n",
       "    <tr style=\"text-align: right;\">\n",
       "      <th></th>\n",
       "      <th>id</th>\n",
       "      <th>name</th>\n",
       "      <th>age</th>\n",
       "      <th>release_date</th>\n",
       "      <th>developer</th>\n",
       "      <th>price</th>\n",
       "      <th>free to play</th>\n",
       "      <th>Arabic</th>\n",
       "      <th>Bulgarian</th>\n",
       "      <th>Chinese (Simplified)</th>\n",
       "      <th>...</th>\n",
       "      <th>Skiing</th>\n",
       "      <th>Snowboarding</th>\n",
       "      <th>Well-Written</th>\n",
       "      <th>Hardware</th>\n",
       "      <th>8-bit Music</th>\n",
       "      <th>BMX</th>\n",
       "      <th>Steam Machine</th>\n",
       "      <th>Reboot</th>\n",
       "      <th>num_tags</th>\n",
       "      <th>time_delta</th>\n",
       "    </tr>\n",
       "  </thead>\n",
       "  <tbody>\n",
       "    <tr>\n",
       "      <th>0</th>\n",
       "      <td>830580</td>\n",
       "      <td>BattleBeasts</td>\n",
       "      <td>0</td>\n",
       "      <td>2021-05-10</td>\n",
       "      <td>Oleg Shestoperov</td>\n",
       "      <td>4.99</td>\n",
       "      <td>0</td>\n",
       "      <td>0</td>\n",
       "      <td>0</td>\n",
       "      <td>0</td>\n",
       "      <td>...</td>\n",
       "      <td>0</td>\n",
       "      <td>0</td>\n",
       "      <td>0</td>\n",
       "      <td>0</td>\n",
       "      <td>0</td>\n",
       "      <td>0</td>\n",
       "      <td>0</td>\n",
       "      <td>0</td>\n",
       "      <td>17</td>\n",
       "      <td>98</td>\n",
       "    </tr>\n",
       "    <tr>\n",
       "      <th>1</th>\n",
       "      <td>251590</td>\n",
       "      <td>Soul Saga</td>\n",
       "      <td>0</td>\n",
       "      <td>2020-02-28</td>\n",
       "      <td>Disastercake</td>\n",
       "      <td>14.99</td>\n",
       "      <td>0</td>\n",
       "      <td>0</td>\n",
       "      <td>0</td>\n",
       "      <td>0</td>\n",
       "      <td>...</td>\n",
       "      <td>0</td>\n",
       "      <td>0</td>\n",
       "      <td>0</td>\n",
       "      <td>0</td>\n",
       "      <td>0</td>\n",
       "      <td>0</td>\n",
       "      <td>0</td>\n",
       "      <td>0</td>\n",
       "      <td>20</td>\n",
       "      <td>535</td>\n",
       "    </tr>\n",
       "    <tr>\n",
       "      <th>2</th>\n",
       "      <td>914230</td>\n",
       "      <td>Swamp Jump</td>\n",
       "      <td>0</td>\n",
       "      <td>2018-08-21</td>\n",
       "      <td>Bullid Games</td>\n",
       "      <td>1.99</td>\n",
       "      <td>0</td>\n",
       "      <td>0</td>\n",
       "      <td>0</td>\n",
       "      <td>0</td>\n",
       "      <td>...</td>\n",
       "      <td>0</td>\n",
       "      <td>0</td>\n",
       "      <td>0</td>\n",
       "      <td>0</td>\n",
       "      <td>0</td>\n",
       "      <td>0</td>\n",
       "      <td>0</td>\n",
       "      <td>0</td>\n",
       "      <td>2</td>\n",
       "      <td>1091</td>\n",
       "    </tr>\n",
       "    <tr>\n",
       "      <th>3</th>\n",
       "      <td>877260</td>\n",
       "      <td>Retro Snake</td>\n",
       "      <td>0</td>\n",
       "      <td>2018-06-20</td>\n",
       "      <td>Flying potato bread, Wixl</td>\n",
       "      <td>1.99</td>\n",
       "      <td>0</td>\n",
       "      <td>0</td>\n",
       "      <td>0</td>\n",
       "      <td>0</td>\n",
       "      <td>...</td>\n",
       "      <td>0</td>\n",
       "      <td>0</td>\n",
       "      <td>0</td>\n",
       "      <td>0</td>\n",
       "      <td>0</td>\n",
       "      <td>0</td>\n",
       "      <td>0</td>\n",
       "      <td>0</td>\n",
       "      <td>3</td>\n",
       "      <td>1153</td>\n",
       "    </tr>\n",
       "    <tr>\n",
       "      <th>4</th>\n",
       "      <td>893140</td>\n",
       "      <td>Gold Digger Maze</td>\n",
       "      <td>0</td>\n",
       "      <td>2018-07-24</td>\n",
       "      <td>Bullid Games</td>\n",
       "      <td>3.99</td>\n",
       "      <td>0</td>\n",
       "      <td>0</td>\n",
       "      <td>0</td>\n",
       "      <td>0</td>\n",
       "      <td>...</td>\n",
       "      <td>0</td>\n",
       "      <td>0</td>\n",
       "      <td>0</td>\n",
       "      <td>0</td>\n",
       "      <td>0</td>\n",
       "      <td>0</td>\n",
       "      <td>0</td>\n",
       "      <td>0</td>\n",
       "      <td>3</td>\n",
       "      <td>1119</td>\n",
       "    </tr>\n",
       "  </tbody>\n",
       "</table>\n",
       "<p>5 rows × 466 columns</p>\n",
       "</div>"
      ],
      "text/plain": [
       "       id              name  age release_date                  developer  \\\n",
       "0  830580      BattleBeasts    0   2021-05-10           Oleg Shestoperov   \n",
       "1  251590         Soul Saga    0   2020-02-28               Disastercake   \n",
       "2  914230        Swamp Jump    0   2018-08-21               Bullid Games   \n",
       "3  877260       Retro Snake    0   2018-06-20  Flying potato bread, Wixl   \n",
       "4  893140  Gold Digger Maze    0   2018-07-24               Bullid Games   \n",
       "\n",
       "   price  free to play  Arabic  Bulgarian  Chinese (Simplified)  ...  Skiing  \\\n",
       "0   4.99             0       0          0                     0  ...       0   \n",
       "1  14.99             0       0          0                     0  ...       0   \n",
       "2   1.99             0       0          0                     0  ...       0   \n",
       "3   1.99             0       0          0                     0  ...       0   \n",
       "4   3.99             0       0          0                     0  ...       0   \n",
       "\n",
       "   Snowboarding  Well-Written  Hardware  8-bit Music  BMX  Steam Machine  \\\n",
       "0             0             0         0            0    0              0   \n",
       "1             0             0         0            0    0              0   \n",
       "2             0             0         0            0    0              0   \n",
       "3             0             0         0            0    0              0   \n",
       "4             0             0         0            0    0              0   \n",
       "\n",
       "   Reboot  num_tags  time_delta  \n",
       "0       0        17          98  \n",
       "1       0        20         535  \n",
       "2       0         2        1091  \n",
       "3       0         3        1153  \n",
       "4       0         3        1119  \n",
       "\n",
       "[5 rows x 466 columns]"
      ]
     },
     "execution_count": 3,
     "metadata": {},
     "output_type": "execute_result"
    }
   ],
   "source": [
    "df.head()"
   ]
  },
  {
   "cell_type": "code",
   "execution_count": 24,
   "id": "e82530f3",
   "metadata": {},
   "outputs": [
    {
     "name": "stdout",
     "output_type": "stream",
     "text": [
      "<class 'pandas.core.frame.DataFrame'>\n",
      "RangeIndex: 636 entries, 0 to 635\n",
      "Data columns (total 466 columns):\n",
      " #    Column                             Dtype  \n",
      "---   ------                             -----  \n",
      " 0    id                                 int64  \n",
      " 1    name                               object \n",
      " 2    age                                int64  \n",
      " 3    release_date                       object \n",
      " 4    developer                          object \n",
      " 5    price                              float64\n",
      " 6    free to play                       int64  \n",
      " 7    Arabic                             int64  \n",
      " 8    Bulgarian                          int64  \n",
      " 9    Chinese (Simplified)               int64  \n",
      " 10   Chinese (Traditional)              int64  \n",
      " 11   Czech                              int64  \n",
      " 12   Danish                             int64  \n",
      " 13   Dutch                              int64  \n",
      " 14   English                            int64  \n",
      " 15   Finnish                            int64  \n",
      " 16   French                             int64  \n",
      " 17   German                             int64  \n",
      " 18   Greek                              int64  \n",
      " 19   Hungarian                          int64  \n",
      " 20   Italian                            int64  \n",
      " 21   Japanese                           int64  \n",
      " 22   Korean                             int64  \n",
      " 23   Norwegian                          int64  \n",
      " 24   Polish                             int64  \n",
      " 25   Portuguese                         int64  \n",
      " 26   Portuguese - Brazil                int64  \n",
      " 27   Romanian                           int64  \n",
      " 28   Russian                            int64  \n",
      " 29   Spanish - Spain                    int64  \n",
      " 30   Spanish - Latin America            int64  \n",
      " 31   Swedish                            int64  \n",
      " 32   Thai                               int64  \n",
      " 33   Turkish                            int64  \n",
      " 34   Ukrainian                          int64  \n",
      " 35   Vietnamese                         int64  \n",
      " 36   num_lang                           int64  \n",
      " 37   Indie                              int64  \n",
      " 38   Low Confidence Metric              int64  \n",
      " 39   Action                             int64  \n",
      " 40   Casual                             int64  \n",
      " 41   Adventure                          int64  \n",
      " 42   Singleplayer                       int64  \n",
      " 43   Simulation                         int64  \n",
      " 44   Strategy                           int64  \n",
      " 45   RPG                                int64  \n",
      " 46   2D                                 int64  \n",
      " 47   Atmospheric                        int64  \n",
      " 48   Puzzle                             int64  \n",
      " 49   Free to Play                       int64  \n",
      " 50   Early Access                       int64  \n",
      " 51   Story Rich                         int64  \n",
      " 52   Multiplayer                        int64  \n",
      " 53   Pixel Graphics                     int64  \n",
      " 54   Fantasy                            int64  \n",
      " 55   3D                                 int64  \n",
      " 56   Colorful                           int64  \n",
      " 57   Anime                              int64  \n",
      " 58   First-Person                       int64  \n",
      " 59   Violent                            int64  \n",
      " 60   Cute                               int64  \n",
      " 61   Exploration                        int64  \n",
      " 62   Arcade                             int64  \n",
      " 63   Nudity                             int64  \n",
      " 64   Funny                              int64  \n",
      " 65   Sexual Content                     int64  \n",
      " 66   Sci-fi                             int64  \n",
      " 67   Shooter                            int64  \n",
      " 68   VR                                 int64  \n",
      " 69   Platformer                         int64  \n",
      " 70   Horror                             int64  \n",
      " 71   Great Soundtrack                   int64  \n",
      " 72   Retro                              int64  \n",
      " 73   Gore                               int64  \n",
      " 74   Family Friendly                    int64  \n",
      " 75   Relaxing                           int64  \n",
      " 76   Difficult                          int64  \n",
      " 77   Sports                             int64  \n",
      " 78   Open World                         int64  \n",
      " 79   Female Protagonist                 int64  \n",
      " 80   Action-Adventure                   int64  \n",
      " 81   Survival                           int64  \n",
      " 82   Co-op                              int64  \n",
      " 83   Visual Novel                       int64  \n",
      " 84   Third Person                       int64  \n",
      " 85   Racing                             int64  \n",
      " 86   Comedy                             int64  \n",
      " 87   FPS                                int64  \n",
      " 88   Massively Multiplayer              int64  \n",
      " 89   Stylized                           int64  \n",
      " 90   Realistic                          int64  \n",
      " 91   Old School                         int64  \n",
      " 92   Top-Down                           int64  \n",
      " 93   Sandbox                            int64  \n",
      " 94   Physics                            int64  \n",
      " 95   Turn-Based                         int64  \n",
      " 96   Online Co-Op                       int64  \n",
      " 97   PvP                                int64  \n",
      " 98   Shoot 'Em Up                       int64  \n",
      " 99   Choices Matter                     int64  \n",
      " 100  Mystery                            int64  \n",
      " 101  Point & Click                      int64  \n",
      " 102  Space                              int64  \n",
      " 103  Minimalist                         int64  \n",
      " 104  Cartoony                           int64  \n",
      " 105  2D Platformer                      int64  \n",
      " 106  Dark                               int64  \n",
      " 107  Psychological Horror               int64  \n",
      " 108  Combat                             int64  \n",
      " 109  Management                         int64  \n",
      " 110  Adult Content                      int64  \n",
      " 111  Controller                         int64  \n",
      " 112  Building                           int64  \n",
      " 113  Side Scroller                      int64  \n",
      " 114  Multiple Endings                   int64  \n",
      " 115  Tactical                           int64  \n",
      " 116  Character Customization            int64  \n",
      " 117  Local Multiplayer                  int64  \n",
      " 118  Puzzle-Platformer                  int64  \n",
      " 119  Replay Value                       int64  \n",
      " 120  Hand-drawn                         int64  \n",
      " 121  Design & Illustration              int64  \n",
      " 122  Action RPG                         int64  \n",
      " 123  Linear                             int64  \n",
      " 124  1980s                              int64  \n",
      " 125  Turn-Based Strategy                int64  \n",
      " 126  Education                          int64  \n",
      " 127  Magic                              int64  \n",
      " 128  Rogue-like                         int64  \n",
      " 129  Procedural Generation              int64  \n",
      " 130  Futuristic                         int64  \n",
      " 131  Crafting                           int64  \n",
      " 132  PvE                                int64  \n",
      " 133  Survival Horror                    int64  \n",
      " 134  Party-Based RPG                    int64  \n",
      " 135  Local Co-Op                        int64  \n",
      " 136  Rogue-lite                         int64  \n",
      " 137  Mature                             int64  \n",
      " 138  Turn-Based Combat                  int64  \n",
      " 139  Logic                              int64  \n",
      " 140  Software                           int64  \n",
      " 141  Medieval                           int64  \n",
      " 142  Cartoon                            int64  \n",
      " 143  JRPG                               int64  \n",
      " 144  Zombies                            int64  \n",
      " 145  Hidden Object                      int64  \n",
      " 146  3D Platformer                      int64  \n",
      " 147  Utilities                          int64  \n",
      " 148  Historical                         int64  \n",
      " 149  War                                int64  \n",
      " 150  Romance                            int64  \n",
      " 151  Resource Management                int64  \n",
      " 152  Hack and Slash                     int64  \n",
      " 153  Turn-Based Tactics                 int64  \n",
      " 154  Classic                            int64  \n",
      " 155  Choose Your Own Adventure          int64  \n",
      " 156  Short                              int64  \n",
      " 157  Fast-Paced                         int64  \n",
      " 158  Bullet Hell                        int64  \n",
      " 159  Interactive Fiction                int64  \n",
      " 160  Drama                              int64  \n",
      " 161  Walking Simulator                  int64  \n",
      " 162  Post-apocalyptic                   int64  \n",
      " 163  Movie                              int64  \n",
      " 164  Dark Fantasy                       int64  \n",
      " 165  Dungeon Crawler                    int64  \n",
      " 166  Web Publishing                     int64  \n",
      " 167  Stealth                            int64  \n",
      " 168  RPGMaker                           int64  \n",
      " 169  Surreal                            int64  \n",
      " 170  RTS                                int64  \n",
      " 171  Base Building                      int64  \n",
      " 172  Memes                              int64  \n",
      " 173  Top-Down Shooter                   int64  \n",
      " 174  Dating Sim                         int64  \n",
      " 175  Isometric                          int64  \n",
      " 176  Score Attack                       int64  \n",
      " 177  Experimental                       int64  \n",
      " 178  Military                           int64  \n",
      " 179  1990's                             int64  \n",
      " 180  Music                              int64  \n",
      " 181  Card Game                          int64  \n",
      " 182  Narration                          int64  \n",
      " 183  Cyberpunk                          int64  \n",
      " 184  Text-Based                         int64  \n",
      " 185  Third-Person Shooter               int64  \n",
      " 186  Fighting                           int64  \n",
      " 187  Abstract                           int64  \n",
      " 188  Soundtrack                         int64  \n",
      " 189  Driving                            int64  \n",
      " 190  Hentai                             int64  \n",
      " 191  2.5D                               int64  \n",
      " 192  Emotional                          int64  \n",
      " 193  Robots                             int64  \n",
      " 194  Immersive Sim                      int64  \n",
      " 195  Action Roguelike                   int64  \n",
      " 196  Board Game                         int64  \n",
      " 197  4 Player Local                     int64  \n",
      " 198  Flight                             int64  \n",
      " 199  Tower Defense                      int64  \n",
      " 200  Nature                             int64  \n",
      " 201  Economy                            int64  \n",
      " 202  LGBTQ+                             int64  \n",
      " 203  Aliens                             int64  \n",
      " 204  Dark Humor                         int64  \n",
      " 205  Competitive                        int64  \n",
      " 206  Detective                          int64  \n",
      " 207  Investigation                      int64  \n",
      " 208  Perma Death                        int64  \n",
      " 209  Tabletop                           int64  \n",
      " 210  City Builder                       int64  \n",
      " 211  Beautiful                          int64  \n",
      " 212  Team-Based                         int64  \n",
      " 213  Clicker                            int64  \n",
      " 214  Arena Shooter                      int64  \n",
      " 215  Cinematic                          int64  \n",
      " 216  Precision Platformer               int64  \n",
      " 217  Metroidvania                       int64  \n",
      " 218  Time Management                    int64  \n",
      " 219  Real Time Tactics                  int64  \n",
      " 220  NSFW                               int64  \n",
      " 221  Beat 'em up                        int64  \n",
      " 222  Strategy RPG                       int64  \n",
      " 223  Life Sim                           int64  \n",
      " 224  Conversation                       int64  \n",
      " 225  Thriller                           int64  \n",
      " 226  Wargame                            int64  \n",
      " 227  Moddable                           int64  \n",
      " 228  Psychological                      int64  \n",
      " 229  Psychedelic                        int64  \n",
      " 230  Tactical RPG                       int64  \n",
      " 231  Tutorial                           int64  \n",
      " 232  Demons                             int64  \n",
      " 233  Animation & Modeling               int64  \n",
      " 234  Level Editor                       int64  \n",
      " 235  Character Action Game              int64  \n",
      " 236  Automobile Sim                     int64  \n",
      " 237  Destruction                        int64  \n",
      " 238  Nonlinear                          int64  \n",
      " 239  Twin Stick Shooter                 int64  \n",
      " 240  Modern                             int64  \n",
      " 241  Dystopian                          int64  \n",
      " 242  Runner                             int64  \n",
      " 243  Comic Book                         int64  \n",
      " 244  World War II                       int64  \n",
      " 245  Alternate History                  int64  \n",
      " 246  Lore-Rich                          int64  \n",
      " 247  Crime                              int64  \n",
      " 248  2D Fighter                         int64  \n",
      " 249  Rhythm                             int64  \n",
      " 250  Audio Production                   int64  \n",
      " 251  Loot                               int64  \n",
      " 252  Parkour                            int64  \n",
      " 253  Grand Strategy                     int64  \n",
      " 254  Artificial Intelligence            int64  \n",
      " 255  Game Development                   int64  \n",
      " 256  Supernatural                       int64  \n",
      " 257  Souls-like                         int64  \n",
      " 258  Match 3                            int64  \n",
      " 259  Inventory Management               int64  \n",
      " 260  Space Sim                          int64  \n",
      " 261  Grid-Based Movement                int64  \n",
      " 262  MMORPG                             int64  \n",
      " 263  CRPG                               int64  \n",
      " 264  Science                            int64  \n",
      " 265  Dark Comedy                        int64  \n",
      " 266  Mythology                          int64  \n",
      " 267  Philosophical                      int64  \n",
      " 268  Lovecraftian                       int64  \n",
      " 269  Open World Survival Craft          int64  \n",
      " 270  Collectathon                       int64  \n",
      " 271  Split Screen                       int64  \n",
      " 272  Video Production                   int64  \n",
      " 273  Mouse only                         int64  \n",
      " 274  Cats                               int64  \n",
      " 275  Addictive                          int64  \n",
      " 276  Card Battler                       int64  \n",
      " 277  Deckbuilding                       int64  \n",
      " 278  Noir                               int64  \n",
      " 279  Episodic                           int64  \n",
      " 280  Idler                              int64  \n",
      " 281  Software Training                  int64  \n",
      " 282  Swordplay                          int64  \n",
      " 283  Battle Royale                      int64  \n",
      " 284  eSports                            int64  \n",
      " 285  Voxel                              int64  \n",
      " 286  Dragons                            int64  \n",
      " 287  Real-Time                          int64  \n",
      " 288  Blood                              int64  \n",
      " 289  6DOF                               int64  \n",
      " 290  Steampunk                          int64  \n",
      " 291  Mechs                              int64  \n",
      " 292  Colony Sim                         int64  \n",
      " 293  3D Fighter                         int64  \n",
      " 294  Vehicular Combat                   int64  \n",
      " 295  Tanks                              int64  \n",
      " 296  Parody                             int64  \n",
      " 297  Political                          int64  \n",
      " 298  Bullet Time                        int64  \n",
      " 299  Class-Based                        int64  \n",
      " 300  Farming Sim                        int64  \n",
      " 301  Time Manipulation                  int64  \n",
      " 302  3D Vision                          int64  \n",
      " 303  4X                                 int64  \n",
      " 304  Pirates                            int64  \n",
      " 305  Word Game                          int64  \n",
      " 306  Cult Classic                       int64  \n",
      " 307  Co-op Campaign                     int64  \n",
      " 308  Mystery Dungeon                    int64  \n",
      " 309  Hex Grid                           int64  \n",
      " 310  Capitalism                         int64  \n",
      " 311  Solitaire                          int64  \n",
      " 312  Gun Customization                  int64  \n",
      " 313  America                            int64  \n",
      " 314  Ninja                              int64  \n",
      " 315  Satire                             int64  \n",
      " 316  Trains                             int64  \n",
      " 317  Gothic                             int64  \n",
      " 318  Trading                            int64  \n",
      " 319  Hero Shooter                       int64  \n",
      " 320  Hunting                            int64  \n",
      " 321  Hacking                            int64  \n",
      " 322  Agriculture                        int64  \n",
      " 323  FMV                                int64  \n",
      " 324  Otome                              int64  \n",
      " 325  Time Travel                        int64  \n",
      " 326  Photo Editing                      int64  \n",
      " 327  Real-Time with Pause               int64  \n",
      " 328  Combat Racing                      int64  \n",
      " 329  God Game                           int64  \n",
      " 330  Conspiracy                         int64  \n",
      " 331  Automation                         int64  \n",
      " 332  Remake                             int64  \n",
      " 333  Naval                              int64  \n",
      " 334  Mining                             int64  \n",
      " 335  Martial Arts                       int64  \n",
      " 336  Western                            int64  \n",
      " 337  Dinosaurs                          int64  \n",
      " 338  Spectacle fighter                  int64  \n",
      " 339  Sokoban                            int64  \n",
      " 340  Underwater                         int64  \n",
      " 341  MOBA                               int64  \n",
      " 342  Underground                        int64  \n",
      " 343  Politics                           int64  \n",
      " 344  Programming                        int64  \n",
      " 345  Dog                                int64  \n",
      " 346  Dungeons & Dragons                 int64  \n",
      " 347  Creature Collector                 int64  \n",
      " 348  Trading Card Game                  int64  \n",
      " 349  Touch-Friendly                     int64  \n",
      " 350  Fishing                            int64  \n",
      " 351  Illuminati                         int64  \n",
      " 352  Superhero                          int64  \n",
      " 353  GameMaker                          int64  \n",
      " 354  Vampire                            int64  \n",
      " 355  Cold War                           int64  \n",
      " 356  Political Sim                      int64  \n",
      " 357  Looter Shooter                     int64  \n",
      " 358  Dynamic Narration                  int64  \n",
      " 359  Kickstarter                        int64  \n",
      " 360  Faith                              int64  \n",
      " 361  Minigames                          int64  \n",
      " 362  Quick-Time Events                  int64  \n",
      " 363  Assassin                           int64  \n",
      " 364  Experience                         int64  \n",
      " 365  Documentary                        int64  \n",
      " 366  Asynchronous Multiplayer           int64  \n",
      " 367  Naval Combat                       int64  \n",
      " 368  Music-Based Procedural Generation  int64  \n",
      " 369  Soccer                             int64  \n",
      " 370  Party Game                         int64  \n",
      " 371  Narrative                          int64  \n",
      " 372  Time Attack                        int64  \n",
      " 373  Archery                            int64  \n",
      " 374  Auto Battler                       int64  \n",
      " 375  Heist                              int64  \n",
      " 376  Typing                             int64  \n",
      " 377  On-Rails Shooter                   int64  \n",
      " 378  Football                           int64  \n",
      " 379  Transportation                     int64  \n",
      " 380  Party                              int64  \n",
      " 381  Diplomacy                          int64  \n",
      " 382  Immersive                          int64  \n",
      " 383  Sailing                            int64  \n",
      " 384  Cooking                            int64  \n",
      " 385  Villain Protagonist                int64  \n",
      " 386  Mod                                int64  \n",
      " 387  Chess                              int64  \n",
      " 388  Trivia                             int64  \n",
      " 389  Snow                               int64  \n",
      " 390  Offroad                            int64  \n",
      " 391  Epic                               int64  \n",
      " 392  Foreign                            int64  \n",
      " 393  Mars                               int64  \n",
      " 394  TrackIR                            int64  \n",
      " 395  Sequel                             int64  \n",
      " 396  Horses                             int64  \n",
      " 397  360 Video                          int64  \n",
      " 398  Sniper                             int64  \n",
      " 399  World War I                        int64  \n",
      " 400  Gambling                           int64  \n",
      " 401  Crowdfunded                        int64  \n",
      " 402  Boxing                             int64  \n",
      " 403  Gaming                             int64  \n",
      " 404  LEGO                               int64  \n",
      " 405  Silent Protagonist                 int64  \n",
      " 406  Traditional Roguelike              int64  \n",
      " 407  Roguelike Deckbuilder              int64  \n",
      " 408  Pinball                            int64  \n",
      " 409  Werewolves                         int64  \n",
      " 410  Based On A Novel                   int64  \n",
      " 411  Unforgiving                        int64  \n",
      " 412  Games Workshop                     int64  \n",
      " 413  Transhumanism                      int64  \n",
      " 414  Rome                               int64  \n",
      " 415  Action RTS                         int64  \n",
      " 416  Warhammer 40K                      int64  \n",
      " 417  Nostalgia                          int64  \n",
      " 418  Golf                               int64  \n",
      " 419  Medical Sim                        int64  \n",
      " 420  Motorbike                          int64  \n",
      " 421  Electronic Music                   int64  \n",
      " 422  Ambient                            int64  \n",
      " 423  Farming                            int64  \n",
      " 424  Jet                                int64  \n",
      " 425  Outbreak Sim                       int64  \n",
      " 426  Spelling                           int64  \n",
      " 427  Bikes                              int64  \n",
      " 428  Submarine                          int64  \n",
      " 429  Basketball                         int64  \n",
      " 430  Asymmetric VR                      int64  \n",
      " 431  Social Deduction                   int64  \n",
      " 432  Roguevania                         int64  \n",
      " 433  Mini Golf                          int64  \n",
      " 434  Spaceships                         int64  \n",
      " 435  Escape Room                        int64  \n",
      " 436  Intentionally Awkward Controls     int64  \n",
      " 437  Wrestling                          int64  \n",
      " 438  Lemmings                           int64  \n",
      " 439  Instrumental Music                 int64  \n",
      " 440  Pool                               int64  \n",
      " 441  Baseball                           int64  \n",
      " 442  Tennis                             int64  \n",
      " 443  Hockey                             int64  \n",
      " 444  Skateboarding                      int64  \n",
      " 445  Vikings                            int64  \n",
      " 446  Motocross                          int64  \n",
      " 447  Feature Film                       int64  \n",
      " 448  Skating                            int64  \n",
      " 449  Electronic                         int64  \n",
      " 450  Cycling                            int64  \n",
      " 451  Bowling                            int64  \n",
      " 452  Rock Music                         int64  \n",
      " 453  Voice Control                      int64  \n",
      " 454  Benchmark                          int64  \n",
      " 455  ATV                                int64  \n",
      " 456  Skiing                             int64  \n",
      " 457  Snowboarding                       int64  \n",
      " 458  Well-Written                       int64  \n",
      " 459  Hardware                           int64  \n",
      " 460  8-bit Music                        int64  \n",
      " 461  BMX                                int64  \n",
      " 462  Steam Machine                      int64  \n",
      " 463  Reboot                             int64  \n",
      " 464  num_tags                           int64  \n",
      " 465  time_delta                         int64  \n",
      "dtypes: float64(1), int64(462), object(3)\n",
      "memory usage: 2.3+ MB\n"
     ]
    }
   ],
   "source": [
    "df.info(verbose = True)"
   ]
  },
  {
   "cell_type": "code",
   "execution_count": 4,
   "id": "62f59b91",
   "metadata": {},
   "outputs": [],
   "source": [
    "y = df.price\n",
    "\n",
    "#only taking values, where we don't have a zero count across all observations\n",
    "X = df.drop(columns = ['price', 'id', 'name', 'release_date', 'free to play']).loc[:, (df != 0).any(axis=0)]\n",
    "\n",
    "# Transform to category\n",
    "#X['developer'] = X['developer'].astype('str').astype('category').cat.codes\n",
    "\n"
   ]
  },
  {
   "cell_type": "code",
   "execution_count": 5,
   "id": "5ae99d0f",
   "metadata": {},
   "outputs": [],
   "source": [
    "# Transform to category\n",
    "from sklearn.preprocessing import LabelEncoder\n",
    "\n",
    "LE = LabelEncoder()\n",
    "X['developer'] = LE.fit_transform(X['developer'])"
   ]
  },
  {
   "cell_type": "code",
   "execution_count": 6,
   "id": "3e54e532",
   "metadata": {},
   "outputs": [
    {
     "data": {
      "text/plain": [
       "(array([594.,   0.,   0.,   0.,   0.,   3.,   0.,  10.,   0.,  29.]),\n",
       " array([ 0. ,  1.8,  3.6,  5.4,  7.2,  9. , 10.8, 12.6, 14.4, 16.2, 18. ]),\n",
       " <BarContainer object of 10 artists>)"
      ]
     },
     "execution_count": 6,
     "metadata": {},
     "output_type": "execute_result"
    },
    {
     "data": {
      "image/png": "[encoded data removed]",
      "text/plain": [
       "<Figure size 432x288 with 1 Axes>"
      ]
     },
     "metadata": {
      "needs_background": "light"
     },
     "output_type": "display_data"
    }
   ],
   "source": [
    "# Probably drop this feature?\n",
    "plt.hist(X['age'])"
   ]
  },
  {
   "cell_type": "code",
   "execution_count": 7,
   "id": "9a26efcd",
   "metadata": {},
   "outputs": [
    {
     "data": {
      "image/png": "[encoded data removed]",
      "text/plain": [
       "<Figure size 432x288 with 1 Axes>"
      ]
     },
     "metadata": {
      "needs_background": "light"
     },
     "output_type": "display_data"
    }
   ],
   "source": [
    "fig = plt.figure()\n",
    "plt.yscale('log')\n",
    "plt.title(' Log price Vs age in days')\n",
    "plt.xlabel('Days old')\n",
    "plt.ylabel('Log price')\n",
    "plt.scatter(X['time_delta'], y)\n",
    "m, b = np.polyfit(X['time_delta'], y, 1)\n",
    "plt.plot(X['time_delta'], m*X['time_delta'] + b, color = 'red')\n",
    "fig.tight_layout()"
   ]
  },
  {
   "cell_type": "code",
   "execution_count": 8,
   "id": "74275680",
   "metadata": {},
   "outputs": [
    {
     "data": {
      "text/plain": [
       "(array([436., 140.,  39.,  11.,   7.,   0.,   1.,   1.,   0.,   1.]),\n",
       " array([  0.49,  20.44,  40.39,  60.34,  80.29, 100.24, 120.19, 140.14,\n",
       "        160.09, 180.04, 199.99]),\n",
       " <BarContainer object of 10 artists>)"
      ]
     },
     "execution_count": 8,
     "metadata": {},
     "output_type": "execute_result"
    },
    {
     "data": {
      "image/png": "[encoded data removed]",
      "text/plain": [
       "<Figure size 432x288 with 1 Axes>"
      ]
     },
     "metadata": {
      "needs_background": "light"
     },
     "output_type": "display_data"
    }
   ],
   "source": [
    "plt.hist(y)"
   ]
  },
  {
   "cell_type": "code",
   "execution_count": 9,
   "id": "5a63e026",
   "metadata": {},
   "outputs": [
    {
     "data": {
      "text/plain": [
       "<matplotlib.collections.PathCollection at 0x17ebaed5be0>"
      ]
     },
     "execution_count": 9,
     "metadata": {},
     "output_type": "execute_result"
    },
    {
     "data": {
      "image/png": "[encoded data removed]",
      "text/plain": [
       "<Figure size 432x288 with 1 Axes>"
      ]
     },
     "metadata": {
      "needs_background": "light"
     },
     "output_type": "display_data"
    }
   ],
   "source": [
    "# number of tags against price\n",
    "plt.scatter(x = 'num_tags', y='price', data = df)"
   ]
  },
  {
   "cell_type": "code",
   "execution_count": 10,
   "id": "6d3d32ef",
   "metadata": {},
   "outputs": [
    {
     "data": {
      "text/plain": [
       "<matplotlib.collections.PathCollection at 0x17ebae8b0a0>"
      ]
     },
     "execution_count": 10,
     "metadata": {},
     "output_type": "execute_result"
    },
    {
     "data": {
      "image/png": "[encoded data removed]",
      "text/plain": [
       "<Figure size 432x288 with 1 Axes>"
      ]
     },
     "metadata": {
      "needs_background": "light"
     },
     "output_type": "display_data"
    }
   ],
   "source": [
    "#number of languages against price\n",
    "plt.scatter(x = 'num_lang', y='price', data = df)"
   ]
  },
  {
   "cell_type": "code",
   "execution_count": 11,
   "id": "642ae276",
   "metadata": {},
   "outputs": [],
   "source": [
    "import warnings\n",
    "from sklearn.exceptions import ConvergenceWarning\n",
    "warnings.filterwarnings(action='ignore', category=ConvergenceWarning)\n",
    "from sklearn.pipeline import make_pipeline\n",
    "from sklearn.preprocessing import PolynomialFeatures, StandardScaler\n",
    "from sklearn.metrics import mean_squared_error as mse\n",
    "from sklearn.linear_model import LinearRegression, Lasso, ElasticNet\n",
    "from sklearn.model_selection import train_test_split"
   ]
  },
  {
   "cell_type": "code",
   "execution_count": null,
   "id": "1b865967",
   "metadata": {},
   "outputs": [],
   "source": [
    "# For now we drop developer and age. We might add them again with more data\n",
    "X = X.drop(columns = ['developer', 'age'])"
   ]
  },
  {
   "cell_type": "code",
   "execution_count": null,
   "id": "40f0346f",
   "metadata": {},
   "outputs": [],
   "source": [
    "# Here we remove columns with less than 3 hits within our observations\n",
    "# This is basically to remove languages with very few observations.\n",
    "X = X.loc[:,X.sum(axis = 0)>3]"
   ]
  },
  {
   "cell_type": "code",
   "execution_count": 12,
   "id": "c69e7d2c",
   "metadata": {},
   "outputs": [],
   "source": [
    "X_dev, X_test, y_dev, y_test = train_test_split(X.values, y.values, test_size = 3/10, random_state = 1)"
   ]
  },
  {
   "cell_type": "code",
   "execution_count": 16,
   "id": "da81c892",
   "metadata": {},
   "outputs": [],
   "source": [
    "from sklearn.model_selection import KFold\n",
    "lambdas =  np.logspace(-4, 4, 12)\n",
    "kfolds = KFold(n_splits=5)\n",
    "folds = list(kfolds.split(X_dev, y_dev))\n",
    "MSE_lambda_lasso = []\n",
    "for lambda_ in lambdas:\n",
    "    MSE_cv = []\n",
    "    for train_idx, val_idx in folds:\n",
    "        \n",
    "        pipe_Lasso = make_pipeline(StandardScaler(),\n",
    "                                   PolynomialFeatures(degree = 2, include_bias = False),\n",
    "                                   Lasso(alpha = lambda_, random_state = 161193))\n",
    "        X_train, y_train = X_dev[train_idx], y_dev[train_idx]\n",
    "        X_val, y_val = X_dev[val_idx], y_dev[val_idx]\n",
    "        pipe_Lasso.fit(X_train, y_train)\n",
    "        MSE_cv.append(mse(pipe_Lasso.predict(X_val), y_val))\n",
    "        \n",
    "    MSE_lambda_lasso.append(np.mean(MSE_cv))"
   ]
  },
  {
   "cell_type": "code",
   "execution_count": 17,
   "id": "90f1147e",
   "metadata": {},
   "outputs": [],
   "source": [
    "lambdaCV_lasso = pd.Series(MSE_lambda_lasso, index=lambdas)"
   ]
  },
  {
   "cell_type": "code",
   "execution_count": 18,
   "id": "667e94c4",
   "metadata": {},
   "outputs": [
    {
     "data": {
      "image/png": "[encoded data removed]",
      "text/plain": [
       "<Figure size 432x288 with 1 Axes>"
      ]
     },
     "metadata": {
      "needs_background": "light"
     },
     "output_type": "display_data"
    }
   ],
   "source": [
    "fig = plt.figure()\n",
    "plt.xscale('log')\n",
    "plt.title(' Log lambda VS MSE')\n",
    "plt.xlabel('Lambda')\n",
    "plt.ylabel('MSE')\n",
    "plt.plot(lambdaCV_lasso)\n",
    "fig.tight_layout()"
   ]
  },
  {
   "cell_type": "code",
   "execution_count": null,
   "id": "56b828ef",
   "metadata": {},
   "outputs": [],
   "source": [
    "# Now we try an Elastic Net-model with the smallest lambda found in the LASSO-model.\n",
    "lambdaCV_lasso.nsmallest(1)"
   ]
  },
  {
   "cell_type": "code",
   "execution_count": null,
   "id": "d176afb3",
   "metadata": {},
   "outputs": [],
   "source": [
    "ratio = np.linspace(0,1,10)\n",
    "MSE_lambda_EN = []\n",
    "for r_ in ratio:\n",
    "    MSE_cv = []\n",
    "    for train_idx, val_idx in folds:\n",
    "        \n",
    "        pipe_EN = make_pipeline(PolynomialFeatures(degree = 2, include_bias = False),\n",
    "                               StandardScaler(),\n",
    "                               ElasticNet(alpha = lambdaCV_lasso.nsmallest(1).index, l1_ratio = r_, random_state = 161193))\n",
    "        X_train, y_train = X_dev[train_idx], y_dev[train_idx]\n",
    "        X_val, y_val = X_dev[val_idx], y_dev[val_idx]\n",
    "        pipe_EN.fit(X_train, y_train)\n",
    "        MSE_cv.append(mse(pipe_EN.predict(X_val), y_val))\n",
    "        \n",
    "    MSE_lambda_EN.append(np.mean(MSE_cv))"
   ]
  },
  {
   "cell_type": "code",
   "execution_count": null,
   "id": "6a6d3a49",
   "metadata": {},
   "outputs": [],
   "source": [
    "lambdaCV_EN = pd.Series(MSE_lambda_EN, index=ratio)"
   ]
  },
  {
   "cell_type": "code",
   "execution_count": null,
   "id": "bce5ebe8",
   "metadata": {},
   "outputs": [],
   "source": [
    "fig = plt.figure()\n",
    "plt.title('Elastic Net Ratio VS MSE')\n",
    "plt.xlabel('Elastic Net ratio')\n",
    "plt.ylabel('MSE')\n",
    "plt.plot(lambdaCV_EN)\n",
    "fig.tight_layout()"
   ]
  },
  {
   "cell_type": "code",
   "execution_count": null,
   "id": "4ac8c74e",
   "metadata": {},
   "outputs": [],
   "source": [
    "lambdaCV_EN"
   ]
  },
  {
   "cell_type": "code",
   "execution_count": null,
   "id": "3574091b",
   "metadata": {},
   "outputs": [],
   "source": [
    "lambdaCV_EN.nsmallest(1).index"
   ]
  },
  {
   "cell_type": "code",
   "execution_count": null,
   "id": "c49213fb",
   "metadata": {},
   "outputs": [],
   "source": [
    "# We see a L1 ratio of 0.111 which means our model should include 0.111 Lasso penalty and 1-0.111 Ridge penalty"
   ]
  },
  {
   "cell_type": "code",
   "execution_count": null,
   "id": "a99f42f3",
   "metadata": {},
   "outputs": [],
   "source": [
    "# Testing our models on test data\n",
    "pipe_EN = make_pipeline(PolynomialFeatures(degree = 2, include_bias = False),\n",
    "                               StandardScaler(),\n",
    "                               ElasticNet(alpha = lambdaCV_lasso.nsmallest(1).index,\\\n",
    "                                          l1_ratio = 0.1111, random_state = 161193))\n",
    "pipe_EN.fit(X_dev, y_dev)"
   ]
  },
  {
   "cell_type": "code",
   "execution_count": null,
   "id": "8f916705",
   "metadata": {},
   "outputs": [],
   "source": [
    "mse(pipe_EN.predict(X_test), y_test)"
   ]
  },
  {
   "cell_type": "code",
   "execution_count": null,
   "id": "5a4b86b0",
   "metadata": {},
   "outputs": [],
   "source": [
    "bob = make_pipeline(PolynomialFeatures(degree = 2, include_bias = False),\n",
    "                               StandardScaler(),\n",
    "                               ElasticNet(alpha = lambdaCV_lasso.nsmallest(1).index,\\\n",
    "                                          l1_ratio = 0.5, random_state = 161193))\n",
    "bob.fit(X_dev, y_dev)\n",
    "mse(bob.predict(X_test), y_test)"
   ]
  },
  {
   "cell_type": "code",
   "execution_count": null,
   "id": "2c8f9f89",
   "metadata": {},
   "outputs": [],
   "source": [
    "from sklearn.model_selection import validation_curve"
   ]
  },
  {
   "cell_type": "code",
   "execution_count": null,
   "id": "5de23089",
   "metadata": {},
   "outputs": [],
   "source": [
    "lambdas =  np.logspace(-4, 4, 12)\n",
    "\n",
    "pipe_Lasso_2 = make_pipeline(PolynomialFeatures(degree = 2, include_bias = False), StandardScaler(), Lasso())\n",
    "train_scores, test_scores = validation_curve(estimator = pipe_Lasso_2, \n",
    "                                            X = X_dev, \n",
    "                                            y = y_dev, \n",
    "                                            param_name = 'lasso__alpha',\n",
    "                                            param_range = lambdas,\n",
    "                                            scoring = 'neg_mean_squared_error',\n",
    "                                            cv = 5)\n",
    "\n",
    "mse_score = pd.DataFrame({'Train':-train_scores.mean(axis=1),\n",
    "                          'Validation':-test_scores.mean(axis=1),\n",
    "                          'lambda':lambdas})\\\n",
    "              .set_index('lambda')  \n",
    "\n",
    "mse_score.plot(logx=True, logy=False, figsize=(10,6))"
   ]
  },
  {
   "cell_type": "code",
   "execution_count": null,
   "id": "489e87ed",
   "metadata": {},
   "outputs": [],
   "source": [
    "mse_score"
   ]
  },
  {
   "cell_type": "code",
   "execution_count": 88,
   "id": "bff76c8d",
   "metadata": {},
   "outputs": [
    {
     "data": {
      "text/html": [
       "<div>\n",
       "<style scoped>\n",
       "    .dataframe tbody tr th:only-of-type {\n",
       "        vertical-align: middle;\n",
       "    }\n",
       "\n",
       "    .dataframe tbody tr th {\n",
       "        vertical-align: top;\n",
       "    }\n",
       "\n",
       "    .dataframe thead th {\n",
       "        text-align: right;\n",
       "    }\n",
       "</style>\n",
       "<table border=\"1\" class=\"dataframe\">\n",
       "  <thead>\n",
       "    <tr style=\"text-align: right;\">\n",
       "      <th></th>\n",
       "      <th>age</th>\n",
       "      <th>developer</th>\n",
       "      <th>Arabic</th>\n",
       "      <th>Bulgarian</th>\n",
       "      <th>Czech</th>\n",
       "      <th>Danish</th>\n",
       "      <th>Dutch</th>\n",
       "      <th>English</th>\n",
       "      <th>Finnish</th>\n",
       "      <th>French</th>\n",
       "      <th>...</th>\n",
       "      <th>Intentionally Awkward Controls</th>\n",
       "      <th>Lemmings</th>\n",
       "      <th>Baseball</th>\n",
       "      <th>Tennis</th>\n",
       "      <th>Hockey</th>\n",
       "      <th>Well-Written</th>\n",
       "      <th>Hardware</th>\n",
       "      <th>Steam Machine</th>\n",
       "      <th>num_tags</th>\n",
       "      <th>time_delta</th>\n",
       "    </tr>\n",
       "  </thead>\n",
       "  <tbody>\n",
       "    <tr>\n",
       "      <th>0</th>\n",
       "      <td>0</td>\n",
       "      <td>284</td>\n",
       "      <td>0</td>\n",
       "      <td>0</td>\n",
       "      <td>0</td>\n",
       "      <td>0</td>\n",
       "      <td>0</td>\n",
       "      <td>1</td>\n",
       "      <td>0</td>\n",
       "      <td>0</td>\n",
       "      <td>...</td>\n",
       "      <td>0</td>\n",
       "      <td>0</td>\n",
       "      <td>0</td>\n",
       "      <td>0</td>\n",
       "      <td>0</td>\n",
       "      <td>0</td>\n",
       "      <td>0</td>\n",
       "      <td>0</td>\n",
       "      <td>17</td>\n",
       "      <td>98</td>\n",
       "    </tr>\n",
       "    <tr>\n",
       "      <th>1</th>\n",
       "      <td>0</td>\n",
       "      <td>109</td>\n",
       "      <td>0</td>\n",
       "      <td>0</td>\n",
       "      <td>0</td>\n",
       "      <td>0</td>\n",
       "      <td>0</td>\n",
       "      <td>1</td>\n",
       "      <td>0</td>\n",
       "      <td>0</td>\n",
       "      <td>...</td>\n",
       "      <td>0</td>\n",
       "      <td>0</td>\n",
       "      <td>0</td>\n",
       "      <td>0</td>\n",
       "      <td>0</td>\n",
       "      <td>0</td>\n",
       "      <td>0</td>\n",
       "      <td>0</td>\n",
       "      <td>20</td>\n",
       "      <td>535</td>\n",
       "    </tr>\n",
       "    <tr>\n",
       "      <th>2</th>\n",
       "      <td>0</td>\n",
       "      <td>61</td>\n",
       "      <td>0</td>\n",
       "      <td>0</td>\n",
       "      <td>0</td>\n",
       "      <td>0</td>\n",
       "      <td>0</td>\n",
       "      <td>1</td>\n",
       "      <td>0</td>\n",
       "      <td>0</td>\n",
       "      <td>...</td>\n",
       "      <td>0</td>\n",
       "      <td>0</td>\n",
       "      <td>0</td>\n",
       "      <td>0</td>\n",
       "      <td>0</td>\n",
       "      <td>0</td>\n",
       "      <td>0</td>\n",
       "      <td>0</td>\n",
       "      <td>2</td>\n",
       "      <td>1091</td>\n",
       "    </tr>\n",
       "    <tr>\n",
       "      <th>3</th>\n",
       "      <td>0</td>\n",
       "      <td>140</td>\n",
       "      <td>0</td>\n",
       "      <td>0</td>\n",
       "      <td>0</td>\n",
       "      <td>0</td>\n",
       "      <td>0</td>\n",
       "      <td>1</td>\n",
       "      <td>0</td>\n",
       "      <td>0</td>\n",
       "      <td>...</td>\n",
       "      <td>0</td>\n",
       "      <td>0</td>\n",
       "      <td>0</td>\n",
       "      <td>0</td>\n",
       "      <td>0</td>\n",
       "      <td>0</td>\n",
       "      <td>0</td>\n",
       "      <td>0</td>\n",
       "      <td>3</td>\n",
       "      <td>1153</td>\n",
       "    </tr>\n",
       "    <tr>\n",
       "      <th>4</th>\n",
       "      <td>0</td>\n",
       "      <td>61</td>\n",
       "      <td>0</td>\n",
       "      <td>0</td>\n",
       "      <td>0</td>\n",
       "      <td>0</td>\n",
       "      <td>0</td>\n",
       "      <td>1</td>\n",
       "      <td>0</td>\n",
       "      <td>0</td>\n",
       "      <td>...</td>\n",
       "      <td>0</td>\n",
       "      <td>0</td>\n",
       "      <td>0</td>\n",
       "      <td>0</td>\n",
       "      <td>0</td>\n",
       "      <td>0</td>\n",
       "      <td>0</td>\n",
       "      <td>0</td>\n",
       "      <td>3</td>\n",
       "      <td>1119</td>\n",
       "    </tr>\n",
       "    <tr>\n",
       "      <th>...</th>\n",
       "      <td>...</td>\n",
       "      <td>...</td>\n",
       "      <td>...</td>\n",
       "      <td>...</td>\n",
       "      <td>...</td>\n",
       "      <td>...</td>\n",
       "      <td>...</td>\n",
       "      <td>...</td>\n",
       "      <td>...</td>\n",
       "      <td>...</td>\n",
       "      <td>...</td>\n",
       "      <td>...</td>\n",
       "      <td>...</td>\n",
       "      <td>...</td>\n",
       "      <td>...</td>\n",
       "      <td>...</td>\n",
       "      <td>...</td>\n",
       "      <td>...</td>\n",
       "      <td>...</td>\n",
       "      <td>...</td>\n",
       "      <td>...</td>\n",
       "    </tr>\n",
       "    <tr>\n",
       "      <th>631</th>\n",
       "      <td>0</td>\n",
       "      <td>184</td>\n",
       "      <td>0</td>\n",
       "      <td>0</td>\n",
       "      <td>0</td>\n",
       "      <td>0</td>\n",
       "      <td>0</td>\n",
       "      <td>1</td>\n",
       "      <td>0</td>\n",
       "      <td>0</td>\n",
       "      <td>...</td>\n",
       "      <td>0</td>\n",
       "      <td>0</td>\n",
       "      <td>0</td>\n",
       "      <td>0</td>\n",
       "      <td>0</td>\n",
       "      <td>0</td>\n",
       "      <td>0</td>\n",
       "      <td>0</td>\n",
       "      <td>20</td>\n",
       "      <td>1124</td>\n",
       "    </tr>\n",
       "    <tr>\n",
       "      <th>632</th>\n",
       "      <td>0</td>\n",
       "      <td>154</td>\n",
       "      <td>0</td>\n",
       "      <td>0</td>\n",
       "      <td>0</td>\n",
       "      <td>0</td>\n",
       "      <td>0</td>\n",
       "      <td>1</td>\n",
       "      <td>0</td>\n",
       "      <td>1</td>\n",
       "      <td>...</td>\n",
       "      <td>0</td>\n",
       "      <td>0</td>\n",
       "      <td>0</td>\n",
       "      <td>0</td>\n",
       "      <td>0</td>\n",
       "      <td>0</td>\n",
       "      <td>0</td>\n",
       "      <td>0</td>\n",
       "      <td>17</td>\n",
       "      <td>3786</td>\n",
       "    </tr>\n",
       "    <tr>\n",
       "      <th>633</th>\n",
       "      <td>0</td>\n",
       "      <td>168</td>\n",
       "      <td>0</td>\n",
       "      <td>0</td>\n",
       "      <td>0</td>\n",
       "      <td>0</td>\n",
       "      <td>0</td>\n",
       "      <td>1</td>\n",
       "      <td>0</td>\n",
       "      <td>0</td>\n",
       "      <td>...</td>\n",
       "      <td>0</td>\n",
       "      <td>0</td>\n",
       "      <td>0</td>\n",
       "      <td>0</td>\n",
       "      <td>0</td>\n",
       "      <td>0</td>\n",
       "      <td>0</td>\n",
       "      <td>0</td>\n",
       "      <td>20</td>\n",
       "      <td>1054</td>\n",
       "    </tr>\n",
       "    <tr>\n",
       "      <th>634</th>\n",
       "      <td>0</td>\n",
       "      <td>178</td>\n",
       "      <td>0</td>\n",
       "      <td>0</td>\n",
       "      <td>0</td>\n",
       "      <td>0</td>\n",
       "      <td>0</td>\n",
       "      <td>1</td>\n",
       "      <td>0</td>\n",
       "      <td>1</td>\n",
       "      <td>...</td>\n",
       "      <td>0</td>\n",
       "      <td>0</td>\n",
       "      <td>0</td>\n",
       "      <td>0</td>\n",
       "      <td>0</td>\n",
       "      <td>0</td>\n",
       "      <td>0</td>\n",
       "      <td>0</td>\n",
       "      <td>11</td>\n",
       "      <td>2097</td>\n",
       "    </tr>\n",
       "    <tr>\n",
       "      <th>635</th>\n",
       "      <td>0</td>\n",
       "      <td>364</td>\n",
       "      <td>0</td>\n",
       "      <td>0</td>\n",
       "      <td>0</td>\n",
       "      <td>0</td>\n",
       "      <td>0</td>\n",
       "      <td>1</td>\n",
       "      <td>0</td>\n",
       "      <td>0</td>\n",
       "      <td>...</td>\n",
       "      <td>0</td>\n",
       "      <td>0</td>\n",
       "      <td>0</td>\n",
       "      <td>0</td>\n",
       "      <td>0</td>\n",
       "      <td>0</td>\n",
       "      <td>0</td>\n",
       "      <td>0</td>\n",
       "      <td>19</td>\n",
       "      <td>3414</td>\n",
       "    </tr>\n",
       "  </tbody>\n",
       "</table>\n",
       "<p>636 rows × 408 columns</p>\n",
       "</div>"
      ],
      "text/plain": [
       "     age  developer  Arabic  Bulgarian  Czech  Danish  Dutch  English  \\\n",
       "0      0        284       0          0      0       0      0        1   \n",
       "1      0        109       0          0      0       0      0        1   \n",
       "2      0         61       0          0      0       0      0        1   \n",
       "3      0        140       0          0      0       0      0        1   \n",
       "4      0         61       0          0      0       0      0        1   \n",
       "..   ...        ...     ...        ...    ...     ...    ...      ...   \n",
       "631    0        184       0          0      0       0      0        1   \n",
       "632    0        154       0          0      0       0      0        1   \n",
       "633    0        168       0          0      0       0      0        1   \n",
       "634    0        178       0          0      0       0      0        1   \n",
       "635    0        364       0          0      0       0      0        1   \n",
       "\n",
       "     Finnish  French  ...  Intentionally Awkward Controls  Lemmings  Baseball  \\\n",
       "0          0       0  ...                               0         0         0   \n",
       "1          0       0  ...                               0         0         0   \n",
       "2          0       0  ...                               0         0         0   \n",
       "3          0       0  ...                               0         0         0   \n",
       "4          0       0  ...                               0         0         0   \n",
       "..       ...     ...  ...                             ...       ...       ...   \n",
       "631        0       0  ...                               0         0         0   \n",
       "632        0       1  ...                               0         0         0   \n",
       "633        0       0  ...                               0         0         0   \n",
       "634        0       1  ...                               0         0         0   \n",
       "635        0       0  ...                               0         0         0   \n",
       "\n",
       "     Tennis  Hockey  Well-Written  Hardware  Steam Machine  num_tags  \\\n",
       "0         0       0             0         0              0        17   \n",
       "1         0       0             0         0              0        20   \n",
       "2         0       0             0         0              0         2   \n",
       "3         0       0             0         0              0         3   \n",
       "4         0       0             0         0              0         3   \n",
       "..      ...     ...           ...       ...            ...       ...   \n",
       "631       0       0             0         0              0        20   \n",
       "632       0       0             0         0              0        17   \n",
       "633       0       0             0         0              0        20   \n",
       "634       0       0             0         0              0        11   \n",
       "635       0       0             0         0              0        19   \n",
       "\n",
       "     time_delta  \n",
       "0            98  \n",
       "1           535  \n",
       "2          1091  \n",
       "3          1153  \n",
       "4          1119  \n",
       "..          ...  \n",
       "631        1124  \n",
       "632        3786  \n",
       "633        1054  \n",
       "634        2097  \n",
       "635        3414  \n",
       "\n",
       "[636 rows x 408 columns]"
      ]
     },
     "execution_count": 88,
     "metadata": {},
     "output_type": "execute_result"
    }
   ],
   "source": [
    "X"
   ]
  },
  {
   "cell_type": "code",
   "execution_count": 89,
   "id": "c03834e2",
   "metadata": {},
   "outputs": [],
   "source": [
    "# from sklearn_pandas import DataFrameMapper\n",
    "# import re\n",
    "\n",
    "# #mapper = DataFrameMapper([(X.columns, StandardScaler())], df_out=True)\n",
    "# #scaled_features = mapper.fit_transform(X.copy())\n",
    "# #scaled_features_df = pd.DataFrame(scaled_features, index=df.index, columns=df.columns)\n",
    "\n",
    "# feats = [key for key in X.keys() if re.match('.*feat.*',key)]\n",
    "# mapper = DataFrameMapper([(X,StandardScaler())])\n",
    "# X_map_scaled = mapper.fit_transform(X.copy())\n",
    "# #data_test_scaled = mapper.transform(df_test)\n",
    "# #data_test = df_test[feats]\n",
    "# #data_train =df_train[feats]"
   ]
  },
  {
   "cell_type": "code",
   "execution_count": 90,
   "id": "c57bde4f",
   "metadata": {},
   "outputs": [],
   "source": [
    "X_scaled = StandardScaler().fit_transform(X)"
   ]
  },
  {
   "cell_type": "code",
   "execution_count": 92,
   "id": "84399197",
   "metadata": {},
   "outputs": [
    {
     "data": {
      "text/plain": [
       "(636, 408)"
      ]
     },
     "execution_count": 92,
     "metadata": {},
     "output_type": "execute_result"
    }
   ],
   "source": [
    "X_scaled.shape"
   ]
  },
  {
   "cell_type": "code",
   "execution_count": 105,
   "id": "48b11da8",
   "metadata": {},
   "outputs": [
    {
     "data": {
      "text/plain": [
       "PCA(n_components=408)"
      ]
     },
     "execution_count": 105,
     "metadata": {},
     "output_type": "execute_result"
    }
   ],
   "source": [
    "from sklearn.decomposition import PCA\n",
    "\n",
    "pcamodel = PCA(n_components = 408)\n",
    "pcamodel.fit(X_scaled)"
   ]
  },
  {
   "cell_type": "code",
   "execution_count": 106,
   "id": "c34ca375",
   "metadata": {},
   "outputs": [],
   "source": [
    "eigenvalues = pcamodel.explained_variance_"
   ]
  },
  {
   "cell_type": "code",
   "execution_count": 55,
   "id": "d4561706",
   "metadata": {},
   "outputs": [
    {
     "data": {
      "image/png": "[encoded data removed]",
      "text/plain": [
       "<Figure size 432x288 with 1 Axes>"
      ]
     },
     "metadata": {
      "needs_background": "light"
     },
     "output_type": "display_data"
    }
   ],
   "source": [
    "fig1, ax1 = plt.subplots()\n",
    "ax1.plot(eigenvalues, color = 'green')\n",
    "ax1.set_yscale('log')\n",
    "ax1.set(xlabel = '# Eigenvector', ylabel = 'eigenvalues')\n",
    "plt.show()"
   ]
  },
  {
   "cell_type": "code",
   "execution_count": 109,
   "id": "f066e3b0",
   "metadata": {},
   "outputs": [
    {
     "name": "stdout",
     "output_type": "stream",
     "text": [
      "202\n"
     ]
    }
   ],
   "source": [
    "for i in range(408):\n",
    "    if sum(pcamodel.explained_variance_ratio_[0:i]) >= 0.90:\n",
    "        print(i)\n",
    "        break"
   ]
  },
  {
   "cell_type": "code",
   "execution_count": 110,
   "id": "19682445",
   "metadata": {},
   "outputs": [],
   "source": [
    "pcamodel.set_params(n_components = 202)\n",
    "X_pca = pcamodel.fit_transform(X_scaled)"
   ]
  },
  {
   "cell_type": "code",
   "execution_count": 115,
   "id": "bfc4cd3f",
   "metadata": {},
   "outputs": [
    {
     "data": {
      "text/plain": [
       "<matplotlib.collections.PathCollection at 0x219ec930fd0>"
      ]
     },
     "execution_count": 115,
     "metadata": {},
     "output_type": "execute_result"
    },
    {
     "data": {
      "image/png": "[encoded data removed]",
      "text/plain": [
       "<Figure size 432x288 with 1 Axes>"
      ]
     },
     "metadata": {
      "needs_background": "light"
     },
     "output_type": "display_data"
    }
   ],
   "source": [
    "lr = LinearRegression()\n",
    "lr.fit(X_pca, y)\n",
    "plt.scatter(lr.predict(X_pca), y)"
   ]
  },
  {
   "cell_type": "code",
   "execution_count": 116,
   "id": "42611cba",
   "metadata": {},
   "outputs": [
    {
     "data": {
      "text/plain": [
       "191.5961025063051"
      ]
     },
     "execution_count": 116,
     "metadata": {},
     "output_type": "execute_result"
    }
   ],
   "source": [
    "mse(lr.predict(X_pca), y)"
   ]
  },
  {
   "cell_type": "code",
   "execution_count": 124,
   "id": "134407de",
   "metadata": {},
   "outputs": [],
   "source": [
    "poly_Feat = PolynomialFeatures(degree = 2, include_bias = False)\n",
    "X_poly = poly_Feat.fit_transform(X_pca)"
   ]
  },
  {
   "cell_type": "code",
   "execution_count": 125,
   "id": "0d627056",
   "metadata": {},
   "outputs": [
    {
     "data": {
      "text/plain": [
       "(636, 20705)"
      ]
     },
     "execution_count": 125,
     "metadata": {},
     "output_type": "execute_result"
    }
   ],
   "source": [
    "X_poly.shape"
   ]
  },
  {
   "cell_type": "code",
   "execution_count": 126,
   "id": "d3196205",
   "metadata": {},
   "outputs": [
    {
     "data": {
      "text/plain": [
       "<matplotlib.collections.PathCollection at 0x219f1544f70>"
      ]
     },
     "execution_count": 126,
     "metadata": {},
     "output_type": "execute_result"
    },
    {
     "data": {
      "image/png": "[encoded data removed]",
      "text/plain": [
       "<Figure size 432x288 with 1 Axes>"
      ]
     },
     "metadata": {
      "needs_background": "light"
     },
     "output_type": "display_data"
    }
   ],
   "source": [
    "lr2 = LinearRegression()\n",
    "lr2.fit(X_poly, y)\n",
    "plt.scatter(lr2.predict(X_poly), y)"
   ]
  },
  {
   "cell_type": "code",
   "execution_count": 127,
   "id": "1f49ac29",
   "metadata": {},
   "outputs": [
    {
     "data": {
      "text/plain": [
       "11.279550983201073"
      ]
     },
     "execution_count": 127,
     "metadata": {},
     "output_type": "execute_result"
    }
   ],
   "source": [
    "mse(lr2.predict(X_poly), y)"
   ]
  },
  {
   "cell_type": "code",
   "execution_count": 128,
   "id": "fc0ea699",
   "metadata": {},
   "outputs": [],
   "source": [
    "X_dev, X_test, y_dev, y_test = train_test_split(X.values, y.values, test_size = 3/10, random_state = 1)"
   ]
  },
  {
   "cell_type": "code",
   "execution_count": 129,
   "id": "4600ab13",
   "metadata": {},
   "outputs": [],
   "source": [
    "X_dev_scaled = StandardScaler().fit_transform(X_dev)"
   ]
  },
  {
   "cell_type": "code",
   "execution_count": 130,
   "id": "9b11d847",
   "metadata": {},
   "outputs": [
    {
     "data": {
      "text/plain": [
       "PCA(n_components=408)"
      ]
     },
     "execution_count": 130,
     "metadata": {},
     "output_type": "execute_result"
    }
   ],
   "source": [
    "pcamodel = PCA(n_components = 408)\n",
    "pcamodel.fit(X_dev_scaled)"
   ]
  },
  {
   "cell_type": "code",
   "execution_count": 131,
   "id": "89ef2ad2",
   "metadata": {},
   "outputs": [
    {
     "name": "stdout",
     "output_type": "stream",
     "text": [
      "167\n"
     ]
    }
   ],
   "source": [
    "for i in range(408):\n",
    "    if sum(pcamodel.explained_variance_ratio_[0:i]) >= 0.90:\n",
    "        print(i)\n",
    "        break"
   ]
  },
  {
   "cell_type": "code",
   "execution_count": 132,
   "id": "2d4e6ce4",
   "metadata": {},
   "outputs": [],
   "source": [
    "from sklearn.model_selection import KFold\n",
    "lambdas =  np.logspace(-4, 4, 12)\n",
    "kfolds = KFold(n_splits=5)\n",
    "folds = list(kfolds.split(X_dev, y_dev))\n",
    "MSE_lambda_lasso = []\n",
    "for lambda_ in lambdas:\n",
    "    MSE_cv = []\n",
    "    for train_idx, val_idx in folds:\n",
    "        \n",
    "        pipe_Lasso = make_pipeline(StandardScaler(),\\\n",
    "                                   PCA(n_components = 167),\\\n",
    "                                   PolynomialFeatures(degree = 2, include_bias = False),\\\n",
    "                                   Lasso(alpha = lambda_, random_state = 161193))\n",
    "        X_train, y_train = X_dev[train_idx], y_dev[train_idx]\n",
    "        X_val, y_val = X_dev[val_idx], y_dev[val_idx]\n",
    "        pipe_Lasso.fit(X_train, y_train)\n",
    "        MSE_cv.append(mse(pipe_Lasso.predict(X_val), y_val))\n",
    "        \n",
    "    MSE_lambda_lasso.append(np.mean(MSE_cv))"
   ]
  },
  {
   "cell_type": "code",
   "execution_count": 133,
   "id": "a7ed50ae",
   "metadata": {},
   "outputs": [],
   "source": [
    "lambdaCV_lasso = pd.Series(MSE_lambda_lasso, index=lambdas)"
   ]
  },
  {
   "cell_type": "code",
   "execution_count": 134,
   "id": "79f18901",
   "metadata": {},
   "outputs": [
    {
     "data": {
      "image/png": "[encoded data removed]",
      "text/plain": [
       "<Figure size 432x288 with 1 Axes>"
      ]
     },
     "metadata": {
      "needs_background": "light"
     },
     "output_type": "display_data"
    }
   ],
   "source": [
    "fig = plt.figure()\n",
    "plt.xscale('log')\n",
    "plt.title(' Log lambda VS MSE')\n",
    "plt.xlabel('Lambda')\n",
    "plt.ylabel('MSE')\n",
    "plt.plot(lambdaCV_lasso)\n",
    "fig.tight_layout()"
   ]
  }
 ],
 "metadata": {
  "kernelspec": {
   "display_name": "Python 3",
   "language": "python",
   "name": "python3"
  },
  "language_info": {
   "codemirror_mode": {
    "name": "ipython",
    "version": 3
   },
   "file_extension": ".py",
   "mimetype": "text/x-python",
   "name": "python",
   "nbconvert_exporter": "python",
   "pygments_lexer": "ipython3",
   "version": "3.8.8"
  }
 },
 "nbformat": 4,
 "nbformat_minor": 5
}
