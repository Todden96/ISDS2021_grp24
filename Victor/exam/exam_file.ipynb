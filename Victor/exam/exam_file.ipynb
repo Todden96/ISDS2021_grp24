{
 "cells": [
  {
   "cell_type": "code",
   "execution_count": 1,
   "id": "966c17e9",
   "metadata": {},
   "outputs": [],
   "source": [
    "import numpy as np\n",
    "import pandas as pd\n",
    "import os\n",
    "import matplotlib.pyplot as plt\n",
    "import seaborn as sns"
   ]
  },
  {
   "cell_type": "code",
   "execution_count": 2,
   "id": "85ade367",
   "metadata": {},
   "outputs": [
    {
     "name": "stderr",
     "output_type": "stream",
     "text": [
      "C:\\Users\\vtodd\\anaconda3\\lib\\site-packages\\IPython\\core\\interactiveshell.py:3165: DtypeWarning: Columns (1) have mixed types.Specify dtype option on import or set low_memory=False.\n",
      "  has_raised = await self.run_ast_nodes(code_ast.body, cell_name,\n"
     ]
    }
   ],
   "source": [
    "df = pd.read_csv('final_data_endelig_endelig.csv')"
   ]
  },
  {
   "cell_type": "code",
   "execution_count": 3,
   "id": "0c4b1eb3",
   "metadata": {},
   "outputs": [
    {
     "data": {
      "text/plain": [
       "Index(['name', 'age', 'release_date', 'developer', 'price', 'Arabic',\n",
       "       'Bulgarian', 'Chinese (Simplified)', 'Chinese (Traditional)', 'Czech',\n",
       "       ...\n",
       "       'Well-Written', 'Hardware', '8-bit Music', 'BMX', 'Steam Machine',\n",
       "       'Reboot', 'num_tags', 'id', 'time_delta', 'Shipped'],\n",
       "      dtype='object', length=466)"
      ]
     },
     "execution_count": 3,
     "metadata": {},
     "output_type": "execute_result"
    }
   ],
   "source": [
    "df.columns"
   ]
  },
  {
   "cell_type": "code",
   "execution_count": 4,
   "id": "ba2b1d34",
   "metadata": {},
   "outputs": [
    {
     "name": "stdout",
     "output_type": "stream",
     "text": [
      "name\n",
      "age\n",
      "release_date\n",
      "developer\n",
      "price\n",
      "Arabic\n",
      "Bulgarian\n",
      "Chinese (Simplified)\n",
      "Chinese (Traditional)\n",
      "Czech\n",
      "Danish\n",
      "Dutch\n",
      "English\n",
      "Finnish\n",
      "French\n",
      "German\n",
      "Greek\n",
      "Hungarian\n",
      "Italian\n",
      "Japanese\n",
      "Korean\n",
      "Norwegian\n",
      "Polish\n",
      "Portuguese\n",
      "Portuguese - Brazil\n",
      "Romanian\n",
      "Russian\n",
      "Spanish - Spain\n",
      "Spanish - Latin America\n",
      "Swedish\n",
      "Thai\n",
      "Turkish\n",
      "Ukrainian\n",
      "Vietnamese\n",
      "num_lang\n",
      "Indie\n",
      "Low Confidence Metric\n",
      "Action\n",
      "Casual\n",
      "Adventure\n",
      "Singleplayer\n",
      "Simulation\n",
      "Strategy\n",
      "RPG\n",
      "2D\n",
      "Atmospheric\n",
      "Puzzle\n",
      "Free to Play\n",
      "Early Access\n",
      "Story Rich\n",
      "Multiplayer\n",
      "Pixel Graphics\n",
      "Fantasy\n",
      "3D\n",
      "Colorful\n",
      "Anime\n",
      "First-Person\n",
      "Violent\n",
      "Cute\n",
      "Exploration\n",
      "Arcade\n",
      "Nudity\n",
      "Funny\n",
      "Sexual Content\n",
      "Sci-fi\n",
      "Shooter\n",
      "VR\n",
      "Platformer\n",
      "Horror\n",
      "Great Soundtrack\n",
      "Retro\n",
      "Gore\n",
      "Family Friendly\n",
      "Relaxing\n",
      "Difficult\n",
      "Sports\n",
      "Open World\n",
      "Female Protagonist\n",
      "Action-Adventure\n",
      "Survival\n",
      "Co-op\n",
      "Visual Novel\n",
      "Third Person\n",
      "Racing\n",
      "Comedy\n",
      "FPS\n",
      "Massively Multiplayer\n",
      "Stylized\n",
      "Realistic\n",
      "Old School\n",
      "Top-Down\n",
      "Sandbox\n",
      "Physics\n",
      "Turn-Based\n",
      "Online Co-Op\n",
      "PvP\n",
      "Shoot 'Em Up\n",
      "Choices Matter\n",
      "Mystery\n",
      "Point & Click\n",
      "Space\n",
      "Minimalist\n",
      "Cartoony\n",
      "2D Platformer\n",
      "Dark\n",
      "Psychological Horror\n",
      "Combat\n",
      "Management\n",
      "Adult Content\n",
      "Controller\n",
      "Building\n",
      "Side Scroller\n",
      "Multiple Endings\n",
      "Tactical\n",
      "Character Customization\n",
      "Local Multiplayer\n",
      "Puzzle-Platformer\n",
      "Replay Value\n",
      "Hand-drawn\n",
      "Design & Illustration\n",
      "Action RPG\n",
      "Linear\n",
      "1980s\n",
      "Turn-Based Strategy\n",
      "Education\n",
      "Magic\n",
      "Rogue-like\n",
      "Procedural Generation\n",
      "Futuristic\n",
      "Crafting\n",
      "PvE\n",
      "Survival Horror\n",
      "Party-Based RPG\n",
      "Local Co-Op\n",
      "Rogue-lite\n",
      "Mature\n",
      "Turn-Based Combat\n",
      "Logic\n",
      "Software\n",
      "Medieval\n",
      "Cartoon\n",
      "JRPG\n",
      "Zombies\n",
      "Hidden Object\n",
      "3D Platformer\n",
      "Utilities\n",
      "Historical\n",
      "War\n",
      "Romance\n",
      "Resource Management\n",
      "Hack and Slash\n",
      "Turn-Based Tactics\n",
      "Classic\n",
      "Choose Your Own Adventure\n",
      "Short\n",
      "Fast-Paced\n",
      "Bullet Hell\n",
      "Interactive Fiction\n",
      "Drama\n",
      "Walking Simulator\n",
      "Post-apocalyptic\n",
      "Movie\n",
      "Dark Fantasy\n",
      "Dungeon Crawler\n",
      "Web Publishing\n",
      "Stealth\n",
      "RPGMaker\n",
      "Surreal\n",
      "RTS\n",
      "Base Building\n",
      "Memes\n",
      "Top-Down Shooter\n",
      "Dating Sim\n",
      "Isometric\n",
      "Score Attack\n",
      "Experimental\n",
      "Military\n",
      "1990's\n",
      "Music\n",
      "Card Game\n",
      "Narration\n",
      "Cyberpunk\n",
      "Text-Based\n",
      "Third-Person Shooter\n",
      "Fighting\n",
      "Abstract\n",
      "Soundtrack\n",
      "Driving\n",
      "Hentai\n",
      "2.5D\n",
      "Emotional\n",
      "Robots\n",
      "Immersive Sim\n",
      "Action Roguelike\n",
      "Board Game\n",
      "4 Player Local\n",
      "Flight\n",
      "Tower Defense\n",
      "Nature\n",
      "Economy\n",
      "LGBTQ+\n",
      "Aliens\n",
      "Dark Humor\n",
      "Competitive\n",
      "Detective\n",
      "Investigation\n",
      "Perma Death\n",
      "Tabletop\n",
      "City Builder\n",
      "Beautiful\n",
      "Team-Based\n",
      "Clicker\n",
      "Arena Shooter\n",
      "Cinematic\n",
      "Precision Platformer\n",
      "Metroidvania\n",
      "Time Management\n",
      "Real Time Tactics\n",
      "NSFW\n",
      "Beat 'em up\n",
      "Strategy RPG\n",
      "Life Sim\n",
      "Conversation\n",
      "Thriller\n",
      "Wargame\n",
      "Moddable\n",
      "Psychological\n",
      "Psychedelic\n",
      "Tactical RPG\n",
      "Tutorial\n",
      "Demons\n",
      "Animation & Modeling\n",
      "Level Editor\n",
      "Character Action Game\n",
      "Automobile Sim\n",
      "Destruction\n",
      "Nonlinear\n",
      "Twin Stick Shooter\n",
      "Modern\n",
      "Dystopian\n",
      "Runner\n",
      "Comic Book\n",
      "World War II\n",
      "Alternate History\n",
      "Lore-Rich\n",
      "Crime\n",
      "2D Fighter\n",
      "Rhythm\n",
      "Audio Production\n",
      "Loot\n",
      "Parkour\n",
      "Grand Strategy\n",
      "Artificial Intelligence\n",
      "Game Development\n",
      "Supernatural\n",
      "Souls-like\n",
      "Match 3\n",
      "Inventory Management\n",
      "Space Sim\n",
      "Grid-Based Movement\n",
      "MMORPG\n",
      "CRPG\n",
      "Science\n",
      "Dark Comedy\n",
      "Mythology\n",
      "Philosophical\n",
      "Lovecraftian\n",
      "Open World Survival Craft\n",
      "Collectathon\n",
      "Split Screen\n",
      "Video Production\n",
      "Mouse only\n",
      "Cats\n",
      "Addictive\n",
      "Card Battler\n",
      "Deckbuilding\n",
      "Noir\n",
      "Episodic\n",
      "Idler\n",
      "Software Training\n",
      "Swordplay\n",
      "Battle Royale\n",
      "eSports\n",
      "Voxel\n",
      "Dragons\n",
      "Real-Time\n",
      "Blood\n",
      "6DOF\n",
      "Steampunk\n",
      "Mechs\n",
      "Colony Sim\n",
      "3D Fighter\n",
      "Vehicular Combat\n",
      "Tanks\n",
      "Parody\n",
      "Political\n",
      "Bullet Time\n",
      "Class-Based\n",
      "Farming Sim\n",
      "Time Manipulation\n",
      "3D Vision\n",
      "4X\n",
      "Pirates\n",
      "Word Game\n",
      "Cult Classic\n",
      "Co-op Campaign\n",
      "Mystery Dungeon\n",
      "Hex Grid\n",
      "Capitalism\n",
      "Solitaire\n",
      "Gun Customization\n",
      "America\n",
      "Ninja\n",
      "Satire\n",
      "Trains\n",
      "Gothic\n",
      "Trading\n",
      "Hero Shooter\n",
      "Hunting\n",
      "Hacking\n",
      "Agriculture\n",
      "FMV\n",
      "Otome\n",
      "Time Travel\n",
      "Photo Editing\n",
      "Real-Time with Pause\n",
      "Combat Racing\n",
      "God Game\n",
      "Conspiracy\n",
      "Automation\n",
      "Remake\n",
      "Naval\n",
      "Mining\n",
      "Martial Arts\n",
      "Western\n",
      "Dinosaurs\n",
      "Spectacle fighter\n",
      "Sokoban\n",
      "Underwater\n",
      "MOBA\n",
      "Underground\n",
      "Politics\n",
      "Programming\n",
      "Dog\n",
      "Dungeons & Dragons\n",
      "Creature Collector\n",
      "Trading Card Game\n",
      "Touch-Friendly\n",
      "Fishing\n",
      "Illuminati\n",
      "Superhero\n",
      "GameMaker\n",
      "Vampire\n",
      "Cold War\n",
      "Political Sim\n",
      "Looter Shooter\n",
      "Dynamic Narration\n",
      "Kickstarter\n",
      "Faith\n",
      "Minigames\n",
      "Quick-Time Events\n",
      "Assassin\n",
      "Experience\n",
      "Documentary\n",
      "Asynchronous Multiplayer\n",
      "Naval Combat\n",
      "Music-Based Procedural Generation\n",
      "Soccer\n",
      "Party Game\n",
      "Narrative\n",
      "Time Attack\n",
      "Archery\n",
      "Auto Battler\n",
      "Heist\n",
      "Typing\n",
      "On-Rails Shooter\n",
      "Football\n",
      "Transportation\n",
      "Party\n",
      "Diplomacy\n",
      "Immersive\n",
      "Sailing\n",
      "Cooking\n",
      "Villain Protagonist\n",
      "Mod\n",
      "Chess\n",
      "Trivia\n",
      "Snow\n",
      "Offroad\n",
      "Epic\n",
      "Foreign\n",
      "Mars\n",
      "TrackIR\n",
      "Sequel\n",
      "Horses\n",
      "360 Video\n",
      "Sniper\n",
      "World War I\n",
      "Gambling\n",
      "Crowdfunded\n",
      "Boxing\n",
      "Gaming\n",
      "LEGO\n",
      "Silent Protagonist\n",
      "Traditional Roguelike\n",
      "Roguelike Deckbuilder\n",
      "Pinball\n",
      "Werewolves\n",
      "Based On A Novel\n",
      "Unforgiving\n",
      "Games Workshop\n",
      "Transhumanism\n",
      "Rome\n",
      "Action RTS\n",
      "Warhammer 40K\n",
      "Nostalgia\n",
      "Golf\n",
      "Medical Sim\n",
      "Motorbike\n",
      "Electronic Music\n",
      "Ambient\n",
      "Farming\n",
      "Jet\n",
      "Outbreak Sim\n",
      "Spelling\n",
      "Bikes\n",
      "Submarine\n",
      "Basketball\n",
      "Asymmetric VR\n",
      "Social Deduction\n",
      "Roguevania\n",
      "Mini Golf\n",
      "Spaceships\n",
      "Escape Room\n",
      "Intentionally Awkward Controls\n",
      "Wrestling\n",
      "Lemmings\n",
      "Instrumental Music\n",
      "Pool\n",
      "Baseball\n",
      "Tennis\n",
      "Hockey\n",
      "Skateboarding\n",
      "Vikings\n",
      "Motocross\n",
      "Feature Film\n",
      "Skating\n",
      "Electronic\n",
      "Cycling\n",
      "Bowling\n",
      "Rock Music\n",
      "Voice Control\n",
      "Benchmark\n",
      "ATV\n",
      "Skiing\n",
      "Snowboarding\n",
      "Well-Written\n",
      "Hardware\n",
      "8-bit Music\n",
      "BMX\n",
      "Steam Machine\n",
      "Reboot\n",
      "num_tags\n",
      "id\n",
      "time_delta\n",
      "Shipped\n"
     ]
    }
   ],
   "source": [
    "for i in df.columns:\n",
    "    print(i)"
   ]
  },
  {
   "cell_type": "code",
   "execution_count": 5,
   "id": "998f150c",
   "metadata": {},
   "outputs": [],
   "source": [
    "y = df['price']\n",
    "\n",
    "#only taking values, where we don't have a zero count across all observations\n",
    "X = df.drop(columns = ['name', 'release_date', 'developer','price', 'id']).loc[:, (df != 0).any(axis=0)]"
   ]
  },
  {
   "cell_type": "code",
   "execution_count": 6,
   "id": "8f05b4ae",
   "metadata": {},
   "outputs": [],
   "source": [
    "# from sklearn.preprocessing import LabelEncoder\n",
    "\n",
    "# LE = LabelEncoder()\n",
    "# X['developer'] = LE.fit_transform(X['developer'])\n",
    "X.age = X.age.astype('str').str.rstrip('+').astype(int)"
   ]
  },
  {
   "cell_type": "code",
   "execution_count": 7,
   "id": "71df1dda",
   "metadata": {},
   "outputs": [
    {
     "data": {
      "image/png": "[encoded data removed]",
      "text/plain": [
       "<Figure size 432x288 with 1 Axes>"
      ]
     },
     "metadata": {
      "needs_background": "light"
     },
     "output_type": "display_data"
    }
   ],
   "source": [
    "fig = plt.figure()\n",
    "plt.yscale('log')\n",
    "plt.title(' Log price Vs age in days')\n",
    "plt.xlabel('Days old')\n",
    "plt.ylabel('Log price')\n",
    "plt.scatter(X['time_delta'], y)\n",
    "m, b = np.polyfit(X['time_delta'], y, 1)\n",
    "plt.plot(X['time_delta'], m*X['time_delta'] + b, color = 'red')\n",
    "fig.tight_layout()"
   ]
  },
  {
   "cell_type": "code",
   "execution_count": 8,
   "id": "b1efec30",
   "metadata": {},
   "outputs": [],
   "source": [
    "import warnings\n",
    "from sklearn.exceptions import ConvergenceWarning\n",
    "warnings.filterwarnings(action='ignore', category=ConvergenceWarning)\n",
    "from sklearn.pipeline import make_pipeline\n",
    "from sklearn.preprocessing import PolynomialFeatures, StandardScaler\n",
    "from sklearn.metrics import mean_squared_error as mse\n",
    "from sklearn.linear_model import LinearRegression, Lasso, ElasticNet, Ridge\n",
    "from sklearn.model_selection import train_test_split"
   ]
  },
  {
   "cell_type": "code",
   "execution_count": 9,
   "id": "5099c389",
   "metadata": {},
   "outputs": [],
   "source": [
    "X_dev, X_test, y_dev, y_test = train_test_split(X.values, y.values, test_size = 2/10, random_state = 1337)"
   ]
  },
  {
   "cell_type": "code",
   "execution_count": 10,
   "id": "ebae359c",
   "metadata": {},
   "outputs": [],
   "source": [
    "X_scaled = StandardScaler().fit_transform(X_dev)"
   ]
  },
  {
   "cell_type": "code",
   "execution_count": 11,
   "id": "7385ad94",
   "metadata": {},
   "outputs": [
    {
     "data": {
      "text/plain": [
       "(7581, 453)"
      ]
     },
     "execution_count": 11,
     "metadata": {},
     "output_type": "execute_result"
    }
   ],
   "source": [
    "X_scaled.shape"
   ]
  },
  {
   "cell_type": "code",
   "execution_count": 12,
   "id": "26137b6f",
   "metadata": {},
   "outputs": [
    {
     "data": {
      "text/plain": [
       "PCA(n_components=453)"
      ]
     },
     "execution_count": 12,
     "metadata": {},
     "output_type": "execute_result"
    }
   ],
   "source": [
    "from sklearn.decomposition import PCA\n",
    "\n",
    "pcamodel = PCA(n_components = 453)\n",
    "pcamodel.fit(X_scaled)"
   ]
  },
  {
   "cell_type": "code",
   "execution_count": 13,
   "id": "59f67855",
   "metadata": {},
   "outputs": [
    {
     "name": "stdout",
     "output_type": "stream",
     "text": [
      "333\n"
     ]
    }
   ],
   "source": [
    "for i in range(453):\n",
    "    if sum(pcamodel.explained_variance_ratio_[0:i]) >= 0.90:\n",
    "        print(i)\n",
    "        break"
   ]
  },
  {
   "cell_type": "code",
   "execution_count": 14,
   "id": "d47fe3d7",
   "metadata": {},
   "outputs": [
    {
     "data": {
      "image/png": "[encoded data removed]",
      "text/plain": [
       "<Figure size 432x288 with 1 Axes>"
      ]
     },
     "metadata": {
      "needs_background": "light"
     },
     "output_type": "display_data"
    }
   ],
   "source": [
    "eigenvalues = pcamodel.explained_variance_ratio_\n",
    "fig1, ax1 = plt.subplots()\n",
    "ax1.plot(eigenvalues, color = 'green')\n",
    "#ax1.set_yscale('log')\n",
    "ax1.set(xlabel = '# Eigenvector', ylabel = 'eigenvalues ratio')\n",
    "plt.show()"
   ]
  },
  {
   "cell_type": "code",
   "execution_count": 15,
   "id": "4afde3a3",
   "metadata": {},
   "outputs": [],
   "source": [
    "pcamodel.set_params(n_components = 333)\n",
    "X_pca = pcamodel.fit_transform(X_scaled)"
   ]
  },
  {
   "cell_type": "code",
   "execution_count": 16,
   "id": "870a96ef",
   "metadata": {},
   "outputs": [],
   "source": [
    "# First we perform parameter tuning on the lambda of the lasso model\n",
    "# The first search was done in the space np.logspace(-4, 4, 12)\n",
    "# Here we found that a lambda of 0.0028... was the best, so we narrow the space down in a grid search further below"
   ]
  },
  {
   "cell_type": "code",
   "execution_count": 17,
   "id": "8d97ec11",
   "metadata": {},
   "outputs": [],
   "source": [
    "from sklearn.model_selection import KFold\n",
    "lambdas =  np.logspace(-4, 4, 12)\n",
    "kfolds = KFold(n_splits=10)\n",
    "folds = list(kfolds.split(X_dev, y_dev))\n",
    "MSE_lambda_lasso = []\n",
    "for lambda_ in lambdas:\n",
    "    MSE_cv = []\n",
    "    for train_idx, val_idx in folds:\n",
    "        \n",
    "        pipe_Lasso = make_pipeline(StandardScaler(),\\\n",
    "                                   PCA(n_components = 333),\\\n",
    "                                   #PolynomialFeatures(degree = 2, include_bias = False),\\\n",
    "                                   Lasso(alpha = lambda_, random_state = 1337))\n",
    "        X_train, y_train = X_dev[train_idx], y_dev[train_idx]\n",
    "        X_val, y_val = X_dev[val_idx], y_dev[val_idx]\n",
    "        pipe_Lasso.fit(X_train, y_train)\n",
    "        MSE_cv.append(mse(pipe_Lasso.predict(X_val), y_val))\n",
    "        \n",
    "    MSE_lambda_lasso.append(np.mean(MSE_cv))"
   ]
  },
  {
   "cell_type": "code",
   "execution_count": 18,
   "id": "467aadd4",
   "metadata": {},
   "outputs": [
    {
     "data": {
      "image/png": "[encoded data removed]",
      "text/plain": [
       "<Figure size 432x288 with 1 Axes>"
      ]
     },
     "metadata": {
      "needs_background": "light"
     },
     "output_type": "display_data"
    }
   ],
   "source": [
    "lambdaCV_lasso = pd.Series(MSE_lambda_lasso, index=lambdas)\n",
    "fig = plt.figure()\n",
    "plt.xscale('log')\n",
    "plt.title(' Log lambda VS MSE')\n",
    "plt.xlabel('Lambda')\n",
    "plt.ylabel('MSE')\n",
    "plt.plot(lambdaCV_lasso)\n",
    "fig.tight_layout()"
   ]
  },
  {
   "cell_type": "code",
   "execution_count": 19,
   "id": "b87d339d",
   "metadata": {},
   "outputs": [
    {
     "data": {
      "text/plain": [
       "0.000100        123.571375\n",
       "0.000534        123.503219\n",
       "0.002848        123.365230\n",
       "0.015199        123.513791\n",
       "0.081113        123.327692\n",
       "0.432876        134.775665\n",
       "2.310130        152.277017\n",
       "12.328467       182.803938\n",
       "65.793322       182.803938\n",
       "351.119173      182.803938\n",
       "1873.817423     182.803938\n",
       "10000.000000    182.803938\n",
       "dtype: float64"
      ]
     },
     "execution_count": 19,
     "metadata": {},
     "output_type": "execute_result"
    }
   ],
   "source": [
    "lambdaCV_lasso"
   ]
  },
  {
   "cell_type": "code",
   "execution_count": 20,
   "id": "56182d1f",
   "metadata": {},
   "outputs": [
    {
     "data": {
      "text/plain": [
       "0.081113    123.327692\n",
       "dtype: float64"
      ]
     },
     "execution_count": 20,
     "metadata": {},
     "output_type": "execute_result"
    }
   ],
   "source": [
    "lambdaCV_lasso.nsmallest(1)"
   ]
  },
  {
   "cell_type": "code",
   "execution_count": 21,
   "id": "002fa257",
   "metadata": {},
   "outputs": [
    {
     "data": {
      "text/plain": [
       "array([0.001     , 0.00151991, 0.00231013, 0.00351119, 0.0053367 ,\n",
       "       0.00811131, 0.01232847, 0.01873817, 0.02848036, 0.04328761,\n",
       "       0.06579332, 0.1       ])"
      ]
     },
     "execution_count": 21,
     "metadata": {},
     "output_type": "execute_result"
    }
   ],
   "source": [
    "np.logspace(-3,-1,12)"
   ]
  },
  {
   "cell_type": "code",
   "execution_count": 22,
   "id": "a4cafb31",
   "metadata": {},
   "outputs": [],
   "source": [
    "from sklearn.model_selection import GridSearchCV\n",
    "from sklearn.linear_model import ElasticNet\n",
    "\n",
    "lambdas =  np.logspace(-3, -1, 12)\n",
    "pipe_ElasticNet = make_pipeline(StandardScaler(),\n",
    "                                PCA(n_components = 333),\n",
    "                                #PolynomialFeatures(degree = 2, include_bias = False),\n",
    "                                ElasticNet(random_state = 1337))\n",
    "\n",
    "gs_ElasticNet = GridSearchCV(estimator=pipe_ElasticNet,\n",
    "                             param_grid={'elasticnet__alpha':lambdas,\n",
    "                                         'elasticnet__l1_ratio': np.linspace(0,1,10)},\n",
    "                             scoring='neg_mean_squared_error',\n",
    "                             n_jobs=4,\n",
    "                             cv=10)"
   ]
  },
  {
   "cell_type": "code",
   "execution_count": 23,
   "id": "218b8623",
   "metadata": {},
   "outputs": [
    {
     "data": {
      "text/plain": [
       "{'elasticnet__alpha': 0.06579332246575682, 'elasticnet__l1_ratio': 0.0}"
      ]
     },
     "execution_count": 23,
     "metadata": {},
     "output_type": "execute_result"
    }
   ],
   "source": [
    "gs_ElasticNet.fit(X_dev, y_dev)\n",
    "gs_ElasticNet.best_params_"
   ]
  },
  {
   "cell_type": "code",
   "execution_count": 24,
   "id": "36c7d59c",
   "metadata": {},
   "outputs": [
    {
     "name": "stdout",
     "output_type": "stream",
     "text": [
      "113.79702160845636\n",
      "122.06083772232361\n"
     ]
    }
   ],
   "source": [
    "print(mse(gs_ElasticNet.predict(X_dev), y_dev))\n",
    "print(mse(gs_ElasticNet.predict(X_test), y_test))"
   ]
  },
  {
   "cell_type": "code",
   "execution_count": 52,
   "id": "1c35fca4",
   "metadata": {},
   "outputs": [],
   "source": [
    "# We need same columns as in original data"
   ]
  },
  {
   "cell_type": "code",
   "execution_count": 46,
   "id": "497273ff",
   "metadata": {},
   "outputs": [],
   "source": [
    "upcoming = pd.read_csv('test_data.csv')\n",
    "y_upcoming = upcoming['price']\n",
    "\n",
    "# Same columns as in X - our training data\n",
    "X_upcoming = upcoming.drop(columns = ['row_num', 'name', 'release_date', 'developer','price', 'id',\\\n",
    "                                     #'Chinese (Simplified)', 'Chinese (Traditional)', 'Low Confidence Metric',\\\n",
    "                                     #'Adult Content', 'Base Building', 'Dystopian', 'eSports', 'Parody'\\\n",
    "                                     ])"
   ]
  },
  {
   "cell_type": "code",
   "execution_count": 54,
   "id": "a799826d",
   "metadata": {},
   "outputs": [],
   "source": [
    "#df.loc[:,(df==0).all(axis=0)]\n",
    "#X_upcoming[X.columns]"
   ]
  },
  {
   "cell_type": "code",
   "execution_count": 72,
   "id": "1009224a",
   "metadata": {},
   "outputs": [],
   "source": [
    "final_model = make_pipeline(StandardScaler(),\n",
    "                                PCA(n_components = 333),\n",
    "                                ElasticNet(alpha = gs_ElasticNet.best_params_['elasticnet__alpha'],\\\n",
    "                                           l1_ratio = gs_ElasticNet.best_params_['elasticnet__l1_ratio'],\\\n",
    "                                           random_state = 1337))"
   ]
  },
  {
   "cell_type": "code",
   "execution_count": 73,
   "id": "5c4d5add",
   "metadata": {},
   "outputs": [
    {
     "data": {
      "text/plain": [
       "Pipeline(steps=[('standardscaler', StandardScaler()),\n",
       "                ('pca', PCA(n_components=333)),\n",
       "                ('elasticnet',\n",
       "                 ElasticNet(alpha=0.06579332246575682, l1_ratio=0.0,\n",
       "                            random_state=1337))])"
      ]
     },
     "execution_count": 73,
     "metadata": {},
     "output_type": "execute_result"
    }
   ],
   "source": [
    "final_model.fit(X_dev, y_dev)"
   ]
  },
  {
   "cell_type": "code",
   "execution_count": 77,
   "id": "fa13007b",
   "metadata": {},
   "outputs": [
    {
     "name": "stdout",
     "output_type": "stream",
     "text": [
      "114.00796463914232\n",
      "122.57170997342072\n"
     ]
    }
   ],
   "source": [
    "print(mse(final_model.predict(X_dev), y_dev))\n",
    "print(mse(final_model.predict(X_test), y_test))"
   ]
  }
 ],
 "metadata": {
  "kernelspec": {
   "display_name": "Python 3",
   "language": "python",
   "name": "python3"
  },
  "language_info": {
   "codemirror_mode": {
    "name": "ipython",
    "version": 3
   },
   "file_extension": ".py",
   "mimetype": "text/x-python",
   "name": "python",
   "nbconvert_exporter": "python",
   "pygments_lexer": "ipython3",
   "version": "3.8.8"
  }
 },
 "nbformat": 4,
 "nbformat_minor": 5
}
