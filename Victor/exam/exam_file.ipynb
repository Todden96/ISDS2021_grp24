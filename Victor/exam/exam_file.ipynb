{
 "cells": [
  {
   "cell_type": "code",
   "execution_count": 1,
   "id": "966c17e9",
   "metadata": {},
   "outputs": [],
   "source": [
    "import numpy as np\n",
    "import pandas as pd\n",
    "import os\n",
    "import matplotlib.pyplot as plt\n",
    "import seaborn as sns"
   ]
  },
  {
   "cell_type": "code",
   "execution_count": 108,
   "id": "6d3a0bea",
   "metadata": {},
   "outputs": [],
   "source": [
    "plt.style.use('ggplot')\n",
    "%matplotlib inline\n",
    "\n",
    "SMALL_SIZE = 16\n",
    "MEDIUM_SIZE = 18\n",
    "BIGGER_SIZE = 20\n",
    "\n",
    "plt.rc('font', size=SMALL_SIZE)          # controls default text sizes\n",
    "plt.rc('axes', titlesize=SMALL_SIZE)     # fontsize of the axes title\n",
    "plt.rc('axes', labelsize=MEDIUM_SIZE)    # fontsize of the x and y labels\n",
    "plt.rc('xtick', labelsize=SMALL_SIZE)    # fontsize of the tick labels\n",
    "plt.rc('ytick', labelsize=SMALL_SIZE)    # fontsize of the tick labels\n",
    "plt.rc('legend', fontsize=SMALL_SIZE)    # legend fontsize\n",
    "plt.rc('figure', titlesize=BIGGER_SIZE)  # fontsize of the figure title\n",
    "\n",
    "plt.rcParams['figure.figsize'] = 10, 4 # set default size of plots"
   ]
  },
  {
   "cell_type": "code",
   "execution_count": 2,
   "id": "85ade367",
   "metadata": {},
   "outputs": [
    {
     "name": "stderr",
     "output_type": "stream",
     "text": [
      "C:\\Users\\vtodd\\anaconda3\\lib\\site-packages\\IPython\\core\\interactiveshell.py:3165: DtypeWarning: Columns (1) have mixed types.Specify dtype option on import or set low_memory=False.\n",
      "  has_raised = await self.run_ast_nodes(code_ast.body, cell_name,\n"
     ]
    }
   ],
   "source": [
    "df = pd.read_csv('final_data_endelig_endelig.csv')\n",
    "df_upcoming = pd.read_csv('test_data.csv')"
   ]
  },
  {
   "cell_type": "code",
   "execution_count": 3,
   "id": "353ec5ac",
   "metadata": {},
   "outputs": [
    {
     "data": {
      "text/plain": [
       "(9250, 458)"
      ]
     },
     "execution_count": 3,
     "metadata": {},
     "output_type": "execute_result"
    }
   ],
   "source": [
    "df.shape"
   ]
  },
  {
   "cell_type": "code",
   "execution_count": 4,
   "id": "0879879b",
   "metadata": {},
   "outputs": [
    {
     "data": {
      "text/plain": [
       "(23, 458)"
      ]
     },
     "execution_count": 4,
     "metadata": {},
     "output_type": "execute_result"
    }
   ],
   "source": [
    "df_upcoming.shape"
   ]
  },
  {
   "cell_type": "code",
   "execution_count": 5,
   "id": "998f150c",
   "metadata": {},
   "outputs": [],
   "source": [
    "y = df['price']\n",
    "\n",
    "#only taking values, where we don't have a zero count across all observations\n",
    "X = df.drop(columns = ['name', 'release_date', 'developer','price', 'id'])"
   ]
  },
  {
   "cell_type": "code",
   "execution_count": 6,
   "id": "8f05b4ae",
   "metadata": {},
   "outputs": [],
   "source": [
    "# from sklearn.preprocessing import LabelEncoder\n",
    "\n",
    "# LE = LabelEncoder()\n",
    "# X['developer'] = LE.fit_transform(X['developer'])\n",
    "X.age = X.age.astype('str').str.rstrip('+').astype(int)"
   ]
  },
  {
   "cell_type": "code",
   "execution_count": 110,
   "id": "71df1dda",
   "metadata": {},
   "outputs": [
    {
     "data": {
      "image/png": "[encoded data removed]",
      "text/plain": [
       "<Figure size 720x288 with 1 Axes>"
      ]
     },
     "metadata": {
      "needs_background": "light"
     },
     "output_type": "display_data"
    }
   ],
   "source": [
    "fig = plt.figure()\n",
    "plt.yscale('log')\n",
    "plt.title(' Log price Vs age in days')\n",
    "plt.xlabel('Days old')\n",
    "plt.ylabel('Log price')\n",
    "plt.scatter(X['time_delta'], y)\n",
    "m, b = np.polyfit(X['time_delta'], y, 1)\n",
    "plt.plot(X['time_delta'], m*X['time_delta'] + b, color = 'blue')\n",
    "fig.tight_layout()"
   ]
  },
  {
   "cell_type": "code",
   "execution_count": 9,
   "id": "b1efec30",
   "metadata": {},
   "outputs": [],
   "source": [
    "import warnings\n",
    "from sklearn.exceptions import ConvergenceWarning\n",
    "warnings.filterwarnings(action='ignore', category=ConvergenceWarning)\n",
    "from sklearn.pipeline import Pipeline, make_pipeline\n",
    "from sklearn.preprocessing import PolynomialFeatures, StandardScaler\n",
    "from sklearn.metrics import mean_squared_error as mse\n",
    "from sklearn.linear_model import LinearRegression, Lasso, ElasticNet, Ridge\n",
    "from sklearn.model_selection import train_test_split"
   ]
  },
  {
   "cell_type": "code",
   "execution_count": 10,
   "id": "5099c389",
   "metadata": {},
   "outputs": [],
   "source": [
    "X_dev, X_test, y_dev, y_test = train_test_split(X.values, y.values, test_size = 2/10, random_state = 1337)"
   ]
  },
  {
   "cell_type": "code",
   "execution_count": 11,
   "id": "ebae359c",
   "metadata": {},
   "outputs": [],
   "source": [
    "X_scaled = StandardScaler().fit_transform(X_dev)"
   ]
  },
  {
   "cell_type": "code",
   "execution_count": 12,
   "id": "7385ad94",
   "metadata": {},
   "outputs": [
    {
     "data": {
      "text/plain": [
       "(7400, 453)"
      ]
     },
     "execution_count": 12,
     "metadata": {},
     "output_type": "execute_result"
    }
   ],
   "source": [
    "X_scaled.shape"
   ]
  },
  {
   "cell_type": "code",
   "execution_count": 13,
   "id": "26137b6f",
   "metadata": {},
   "outputs": [
    {
     "data": {
      "text/plain": [
       "PCA(n_components=453)"
      ]
     },
     "execution_count": 13,
     "metadata": {},
     "output_type": "execute_result"
    }
   ],
   "source": [
    "from sklearn.decomposition import PCA\n",
    "\n",
    "pcamodel = PCA(n_components = 453)\n",
    "pcamodel.fit(X_scaled)"
   ]
  },
  {
   "cell_type": "code",
   "execution_count": 14,
   "id": "59f67855",
   "metadata": {},
   "outputs": [
    {
     "name": "stdout",
     "output_type": "stream",
     "text": [
      "334\n"
     ]
    }
   ],
   "source": [
    "for i in range(453):\n",
    "    if sum(pcamodel.explained_variance_ratio_[0:i]) >= 0.90:\n",
    "        print(i)\n",
    "        break"
   ]
  },
  {
   "cell_type": "code",
   "execution_count": 129,
   "id": "d47fe3d7",
   "metadata": {},
   "outputs": [
    {
     "data": {
      "image/png": "[encoded data removed]",
      "text/plain": [
       "<Figure size 720x288 with 1 Axes>"
      ]
     },
     "metadata": {
      "needs_background": "light"
     },
     "output_type": "display_data"
    }
   ],
   "source": [
    "#Maybe plot cumsum instead?\n",
    "eigenvalues = pcamodel.explained_variance_ratio_\n",
    "fig1, ax1 = plt.subplots()\n",
    "ax1.plot(eigenvalues.cumsum(), color = 'green')\n",
    "#ax1.set_yscale('log')\n",
    "ax1.set(xlabel = 'Number of eigenvectors', ylabel = 'Explained variance ratio')\n",
    "plt.savefig('cumsumEigen.png', dpi=300, bbox_inches='tight')\n",
    "plt.show()"
   ]
  },
  {
   "cell_type": "code",
   "execution_count": 16,
   "id": "870a96ef",
   "metadata": {},
   "outputs": [],
   "source": [
    "# First we perform parameter tuning on the lambda of Lasso Regression aka L1 penalty\n",
    "# The search is done in the space np.logspace(-4, 4, 12)"
   ]
  },
  {
   "cell_type": "code",
   "execution_count": 17,
   "id": "8d97ec11",
   "metadata": {},
   "outputs": [],
   "source": [
    "from sklearn.model_selection import KFold\n",
    "lambdas =  np.logspace(-4, 4, 12)\n",
    "kfolds = KFold(n_splits=10)\n",
    "folds = list(kfolds.split(X_dev, y_dev))\n",
    "MSE_lambda_lasso = []\n",
    "for lambda_ in lambdas:\n",
    "    MSE_cv = []\n",
    "    for train_idx, val_idx in folds:\n",
    "        \n",
    "        pipe_Lasso = make_pipeline(StandardScaler(),\\\n",
    "                                   PCA(n_components = 334),\\\n",
    "                                   #PolynomialFeatures(degree = 2, include_bias = False),\\\n",
    "                                   Lasso(alpha = lambda_, random_state = 1337))\n",
    "        X_train, y_train = X_dev[train_idx], y_dev[train_idx]\n",
    "        X_val, y_val = X_dev[val_idx], y_dev[val_idx]\n",
    "        pipe_Lasso.fit(X_train, y_train)\n",
    "        MSE_cv.append(mse(pipe_Lasso.predict(X_val), y_val))\n",
    "        \n",
    "    MSE_lambda_lasso.append(np.mean(MSE_cv))"
   ]
  },
  {
   "cell_type": "code",
   "execution_count": 152,
   "id": "467aadd4",
   "metadata": {},
   "outputs": [
    {
     "data": {
      "image/png": "[encoded data removed]",
      "text/plain": [
       "<Figure size 720x288 with 1 Axes>"
      ]
     },
     "metadata": {
      "needs_background": "light"
     },
     "output_type": "display_data"
    }
   ],
   "source": [
    "lambdaCV_lasso = pd.Series(MSE_lambda_lasso, index=np.logspace(-4, 4, 12))\n",
    "fig = plt.figure()\n",
    "plt.xscale('log')\n",
    "plt.title('Lambda VS MSE - Lasso')\n",
    "plt.xlabel('Lambda')\n",
    "plt.ylabel('MSE')\n",
    "plt.plot(lambdaCV_lasso)\n",
    "plt.savefig('Lasso_MSE.png', dpi=300, bbox_inches='tight')\n",
    "fig.tight_layout()"
   ]
  },
  {
   "cell_type": "code",
   "execution_count": 19,
   "id": "b87d339d",
   "metadata": {},
   "outputs": [
    {
     "data": {
      "text/plain": [
       "0.000100        125.352871\n",
       "0.000534        125.621000\n",
       "0.002848        125.619327\n",
       "0.015199        124.919284\n",
       "0.081113        124.757196\n",
       "0.432876        135.847973\n",
       "2.310130        152.515516\n",
       "12.328467       183.049045\n",
       "65.793322       183.049045\n",
       "351.119173      183.049045\n",
       "1873.817423     183.049045\n",
       "10000.000000    183.049045\n",
       "dtype: float64"
      ]
     },
     "execution_count": 19,
     "metadata": {},
     "output_type": "execute_result"
    }
   ],
   "source": [
    "lambdaCV_lasso"
   ]
  },
  {
   "cell_type": "code",
   "execution_count": 20,
   "id": "56182d1f",
   "metadata": {},
   "outputs": [
    {
     "data": {
      "text/plain": [
       "0.081113    124.757196\n",
       "dtype: float64"
      ]
     },
     "execution_count": 20,
     "metadata": {},
     "output_type": "execute_result"
    }
   ],
   "source": [
    "lambdaCV_lasso.nsmallest(1)"
   ]
  },
  {
   "cell_type": "code",
   "execution_count": 21,
   "id": "5fce0097",
   "metadata": {},
   "outputs": [],
   "source": [
    "#Best lambda is 0.081113\n",
    "# We check the parameters of a fitted model on the whole training data with the optimal parameter"
   ]
  },
  {
   "cell_type": "code",
   "execution_count": 22,
   "id": "d594e342",
   "metadata": {},
   "outputs": [
    {
     "data": {
      "text/plain": [
       "Pipeline(steps=[('scaler', StandardScaler()), ('pca', PCA(n_components=334)),\n",
       "                ('lasso', Lasso(alpha=0.08111308307896872, random_state=1337))])"
      ]
     },
     "execution_count": 22,
     "metadata": {},
     "output_type": "execute_result"
    }
   ],
   "source": [
    "pipe_lasso_whole = Pipeline([('scaler', StandardScaler()),\\\n",
    "                                  ('pca', PCA(n_components = 334)),\\\n",
    "                                  ('lasso', Lasso(alpha = lambdaCV_lasso.idxmin(), random_state = 1337))])\n",
    "pipe_lasso_whole.fit(X_dev, y_dev)"
   ]
  },
  {
   "cell_type": "code",
   "execution_count": 23,
   "id": "2bf134a6",
   "metadata": {},
   "outputs": [],
   "source": [
    "# We check how many zeros"
   ]
  },
  {
   "cell_type": "code",
   "execution_count": 24,
   "id": "873e20c9",
   "metadata": {},
   "outputs": [
    {
     "name": "stdout",
     "output_type": "stream",
     "text": [
      "89\n"
     ]
    }
   ],
   "source": [
    "j = 0\n",
    "for i in pipe_lasso_whole.named_steps['lasso'].coef_:\n",
    "    if i == 0:\n",
    "        j += 1\n",
    "    elif i == -0:\n",
    "        j+= 1\n",
    "\n",
    "print(j)"
   ]
  },
  {
   "cell_type": "code",
   "execution_count": 25,
   "id": "537cb609",
   "metadata": {},
   "outputs": [],
   "source": [
    "# Secondly we perform parameter tuning on the lambda of Ridge Regression - L2 penalty\n",
    "# The search is done in the space np.logspace(-4, 4, 12)"
   ]
  },
  {
   "cell_type": "code",
   "execution_count": 26,
   "id": "2a96031d",
   "metadata": {},
   "outputs": [],
   "source": [
    "lambdas =  np.logspace(-4, 4, 12)\n",
    "kfolds = KFold(n_splits=10)\n",
    "folds = list(kfolds.split(X_dev, y_dev))\n",
    "MSE_lambda_Ridge = []\n",
    "for lambda_ in lambdas:\n",
    "    MSE_cv = []\n",
    "    for train_idx, val_idx in folds:\n",
    "        \n",
    "        pipe_Ridge = make_pipeline(StandardScaler(),\\\n",
    "                                   PCA(n_components = 334),\\\n",
    "                                   #PolynomialFeatures(degree = 2, include_bias = False),\\\n",
    "                                   Ridge(alpha = lambda_, random_state = 1337))\n",
    "        X_train, y_train = X_dev[train_idx], y_dev[train_idx]\n",
    "        X_val, y_val = X_dev[val_idx], y_dev[val_idx]\n",
    "        pipe_Ridge.fit(X_train, y_train)\n",
    "        MSE_cv.append(mse(pipe_Ridge.predict(X_val), y_val))\n",
    "        \n",
    "    MSE_lambda_Ridge.append(np.mean(MSE_cv))"
   ]
  },
  {
   "cell_type": "code",
   "execution_count": 153,
   "id": "b272e2c2",
   "metadata": {},
   "outputs": [
    {
     "data": {
      "image/png": "[encoded data removed]",
      "text/plain": [
       "<Figure size 720x288 with 1 Axes>"
      ]
     },
     "metadata": {
      "needs_background": "light"
     },
     "output_type": "display_data"
    }
   ],
   "source": [
    "lambdaCV_Ridge = pd.Series(MSE_lambda_Ridge, index=np.logspace(-4, 4, 12))\n",
    "fig = plt.figure()\n",
    "plt.xscale('log')\n",
    "plt.title('Lambda VS MSE - Ridge')\n",
    "plt.xlabel('Lambda')\n",
    "plt.ylabel('MSE')\n",
    "plt.plot(lambdaCV_Ridge)\n",
    "plt.savefig('Ridge_MSE.png', dpi=300, bbox_inches='tight')\n",
    "fig.tight_layout()"
   ]
  },
  {
   "cell_type": "code",
   "execution_count": 28,
   "id": "c6469d32",
   "metadata": {},
   "outputs": [
    {
     "data": {
      "text/plain": [
       "1873.817423    124.263792\n",
       "dtype: float64"
      ]
     },
     "execution_count": 28,
     "metadata": {},
     "output_type": "execute_result"
    }
   ],
   "source": [
    "lambdaCV_Ridge.nsmallest(1)"
   ]
  },
  {
   "cell_type": "code",
   "execution_count": 29,
   "id": "0e6a6b7c",
   "metadata": {},
   "outputs": [],
   "source": [
    "# Best lambda is 1873\n",
    "# We check the parameters of a fitted model on the whole training data with the optimal parameter"
   ]
  },
  {
   "cell_type": "code",
   "execution_count": 30,
   "id": "8e773c7e",
   "metadata": {},
   "outputs": [
    {
     "data": {
      "text/plain": [
       "Pipeline(steps=[('scaler', StandardScaler()), ('pca', PCA(n_components=334)),\n",
       "                ('ridge', Ridge(alpha=1873.8174228603868, random_state=1337))])"
      ]
     },
     "execution_count": 30,
     "metadata": {},
     "output_type": "execute_result"
    }
   ],
   "source": [
    "pipe_ridge_whole = Pipeline([('scaler', StandardScaler()),\\\n",
    "                                  ('pca', PCA(n_components = 334)),\\\n",
    "                                  ('ridge', Ridge(alpha = lambdaCV_Ridge.idxmin(), random_state = 1337))])\n",
    "pipe_ridge_whole.fit(X_dev, y_dev)"
   ]
  },
  {
   "cell_type": "code",
   "execution_count": 31,
   "id": "e8c41808",
   "metadata": {},
   "outputs": [
    {
     "name": "stdout",
     "output_type": "stream",
     "text": [
      "0\n"
     ]
    }
   ],
   "source": [
    "#Consider rounding the i's\n",
    "j = 0\n",
    "for i in pipe_ridge_whole.named_steps['ridge'].coef_:\n",
    "    if i == 0:\n",
    "        j += 1\n",
    "    elif i == -0:\n",
    "        j+= 1\n",
    "\n",
    "print(j)"
   ]
  },
  {
   "cell_type": "code",
   "execution_count": 32,
   "id": "002fa257",
   "metadata": {},
   "outputs": [],
   "source": [
    "# We see that the lambda for each model are two very different magnitudes\n",
    "# We now perform a 10-fold cross validation grid search within an elastic net to see how an optimal model would look like"
   ]
  },
  {
   "cell_type": "code",
   "execution_count": 33,
   "id": "a4cafb31",
   "metadata": {},
   "outputs": [],
   "source": [
    "from sklearn.model_selection import GridSearchCV\n",
    "from sklearn.linear_model import ElasticNet\n",
    "\n",
    "lambdas =  np.logspace(-4, -4, 20)\n",
    "pipe_ElasticNet = make_pipeline(StandardScaler(),\n",
    "                                PCA(n_components = 334),\n",
    "                                #PolynomialFeatures(degree = 2, include_bias = False),\n",
    "                                ElasticNet(random_state = 1337))\n",
    "\n",
    "gs_ElasticNet = GridSearchCV(estimator=pipe_ElasticNet,\n",
    "                             param_grid={'elasticnet__alpha':lambdas,\n",
    "                                         'elasticnet__l1_ratio': np.linspace(0,1,20)},\n",
    "                             scoring='neg_mean_squared_error',\n",
    "                             n_jobs=4,\n",
    "                             cv=10)"
   ]
  },
  {
   "cell_type": "code",
   "execution_count": 34,
   "id": "218b8623",
   "metadata": {},
   "outputs": [
    {
     "data": {
      "text/plain": [
       "{'elasticnet__alpha': 0.0001, 'elasticnet__l1_ratio': 0.05263157894736842}"
      ]
     },
     "execution_count": 34,
     "metadata": {},
     "output_type": "execute_result"
    }
   ],
   "source": [
    "gs_ElasticNet.fit(X_dev, y_dev)\n",
    "gs_ElasticNet.best_params_"
   ]
  },
  {
   "cell_type": "code",
   "execution_count": null,
   "id": "62aae31c",
   "metadata": {},
   "outputs": [],
   "source": [
    "parameters = (0.0001, 0.05263157894736842)"
   ]
  },
  {
   "cell_type": "code",
   "execution_count": 76,
   "id": "36c7d59c",
   "metadata": {},
   "outputs": [
    {
     "name": "stdout",
     "output_type": "stream",
     "text": [
      "115.42569836763339\n",
      "97.86415796090888\n"
     ]
    }
   ],
   "source": [
    "print(mse(gs_ElasticNet.predict(X_dev), y_dev))\n",
    "print(mse(gs_ElasticNet.predict(X_test), y_test))"
   ]
  },
  {
   "cell_type": "code",
   "execution_count": null,
   "id": "79217eb6",
   "metadata": {},
   "outputs": [],
   "source": [
    "# We need same columns as in original data"
   ]
  },
  {
   "cell_type": "code",
   "execution_count": 77,
   "id": "c33adeea",
   "metadata": {},
   "outputs": [],
   "source": [
    "y_upcoming = df_upcoming['price']\n",
    "\n",
    "# Same columns as in X - our training data\n",
    "#X_upcoming = df(data = df_upcoming, columns = X.columns)\n",
    "X_upcoming = df_upcoming.drop(columns = ['name', 'release_date', 'developer','price', 'id'])"
   ]
  },
  {
   "cell_type": "code",
   "execution_count": 78,
   "id": "7a9124a4",
   "metadata": {},
   "outputs": [],
   "source": [
    "final_model = make_pipeline(StandardScaler(),\n",
    "                                PCA(n_components = 333),\n",
    "                                ElasticNet(alpha = gs_ElasticNet.best_params_['elasticnet__alpha'],\\\n",
    "                                           l1_ratio = gs_ElasticNet.best_params_['elasticnet__l1_ratio'],\\\n",
    "                                           random_state = 1337))"
   ]
  },
  {
   "cell_type": "code",
   "execution_count": 132,
   "id": "32d042fd",
   "metadata": {},
   "outputs": [
    {
     "data": {
      "text/plain": [
       "Pipeline(steps=[('standardscaler', StandardScaler()),\n",
       "                ('pca', PCA(n_components=333)),\n",
       "                ('elasticnet',\n",
       "                 ElasticNet(alpha=0.0001, l1_ratio=0.05263157894736842,\n",
       "                            random_state=1337))])"
      ]
     },
     "execution_count": 132,
     "metadata": {},
     "output_type": "execute_result"
    }
   ],
   "source": [
    "final_model.fit(X_dev, y_dev)"
   ]
  },
  {
   "cell_type": "code",
   "execution_count": 99,
   "id": "d4a8a59e",
   "metadata": {},
   "outputs": [
    {
     "name": "stdout",
     "output_type": "stream",
     "text": [
      "115.01699642983591\n",
      "98.12595188732716\n"
     ]
    }
   ],
   "source": [
    "print(mse(final_model.predict(X_dev), y_dev))\n",
    "print(mse(final_model.predict(X_test), y_test))"
   ]
  },
  {
   "cell_type": "code",
   "execution_count": 100,
   "id": "efde3639",
   "metadata": {},
   "outputs": [
    {
     "name": "stdout",
     "output_type": "stream",
     "text": [
      "1057.4974259835847\n"
     ]
    }
   ],
   "source": [
    "print(mse(final_model.predict(X_upcoming), y_upcoming))"
   ]
  },
  {
   "cell_type": "code",
   "execution_count": 82,
   "id": "08c9e1c3",
   "metadata": {},
   "outputs": [],
   "source": [
    "final_model_names = Pipeline([('scaler', StandardScaler()),\\\n",
    "                                  ('pca', PCA(n_components = 334)),\\\n",
    "                                  ('EN', ElasticNet(alpha = gs_ElasticNet.best_params_['elasticnet__alpha'],\\\n",
    "                                                    l1_ratio = gs_ElasticNet.best_params_['elasticnet__l1_ratio'],\\\n",
    "                                                    random_state = 1337))])"
   ]
  },
  {
   "cell_type": "code",
   "execution_count": 107,
   "id": "65684787",
   "metadata": {},
   "outputs": [
    {
     "name": "stdout",
     "output_type": "stream",
     "text": [
      "1057.4974259835847\n",
      "1132.5070955297447\n",
      "1114.818127225615\n"
     ]
    }
   ],
   "source": [
    "print(mse(final_model.predict(X_upcoming), y_upcoming))\n",
    "print(mse(pipe_lasso_whole.predict(X_upcoming), y_upcoming))\n",
    "print(mse(pipe_ridge_whole.predict(X_upcoming), y_upcoming))"
   ]
  },
  {
   "cell_type": "code",
   "execution_count": 162,
   "id": "d65f9c5d",
   "metadata": {},
   "outputs": [
    {
     "data": {
      "text/plain": [
       "<matplotlib.collections.PathCollection at 0x268dc591bb0>"
      ]
     },
     "execution_count": 162,
     "metadata": {},
     "output_type": "execute_result"
    },
    {
     "data": {
      "image/png": "[encoded data removed]",
      "text/plain": [
       "<Figure size 720x288 with 1 Axes>"
      ]
     },
     "metadata": {
      "needs_background": "light"
     },
     "output_type": "display_data"
    }
   ],
   "source": [
    "plt.scatter(y_test,(final_model.predict(X_test)-y_test))"
   ]
  },
  {
   "cell_type": "code",
   "execution_count": 150,
   "id": "82f30c7a",
   "metadata": {},
   "outputs": [],
   "source": [
    "residuals = final_model.predict(X_test)-y_test\n",
    "residuals_norm = (residuals-np.mean(residuals))/np.std(residuals)"
   ]
  },
  {
   "cell_type": "code",
   "execution_count": 151,
   "id": "b31b708b",
   "metadata": {},
   "outputs": [
    {
     "data": {
      "text/plain": [
       "<matplotlib.collections.PathCollection at 0x268dfda5e50>"
      ]
     },
     "execution_count": 151,
     "metadata": {},
     "output_type": "execute_result"
    },
    {
     "data": {
      "image/png": "[encoded data removed]",
      "text/plain": [
       "<Figure size 720x288 with 1 Axes>"
      ]
     },
     "metadata": {
      "needs_background": "light"
     },
     "output_type": "display_data"
    }
   ],
   "source": [
    "plt.scatter(y_test, residuals_norm)"
   ]
  }
 ],
 "metadata": {
  "kernelspec": {
   "display_name": "Python 3",
   "language": "python",
   "name": "python3"
  },
  "language_info": {
   "codemirror_mode": {
    "name": "ipython",
    "version": 3
   },
   "file_extension": ".py",
   "mimetype": "text/x-python",
   "name": "python",
   "nbconvert_exporter": "python",
   "pygments_lexer": "ipython3",
   "version": "3.8.8"
  }
 },
 "nbformat": 4,
 "nbformat_minor": 5
}
