{
 "cells": [
  {
   "cell_type": "code",
   "execution_count": 1,
   "id": "bce8d6a5",
   "metadata": {},
   "outputs": [],
   "source": [
    "import numpy as np\n",
    "import pandas as pd\n",
    "import os\n",
    "import matplotlib.pyplot as plt\n",
    "import seaborn as sns"
   ]
  },
  {
   "cell_type": "code",
   "execution_count": 2,
   "id": "92190370",
   "metadata": {},
   "outputs": [
    {
     "name": "stderr",
     "output_type": "stream",
     "text": [
      "C:\\Users\\vtodd\\anaconda3\\lib\\site-packages\\IPython\\core\\interactiveshell.py:3165: DtypeWarning: Columns (1) have mixed types.Specify dtype option on import or set low_memory=False.\n",
      "  has_raised = await self.run_ast_nodes(code_ast.body, cell_name,\n"
     ]
    }
   ],
   "source": [
    "df = pd.read_csv('clean_data.csv')"
   ]
  },
  {
   "cell_type": "code",
   "execution_count": 3,
   "id": "eabda972",
   "metadata": {},
   "outputs": [],
   "source": [
    "y = df.price\n",
    "\n",
    "#only taking values, where we don't have a zero count across all observations\n",
    "X = df.drop(columns = ['price', 'id', 'name', 'release_date']).loc[:, (df != 0).any(axis=0)]\n"
   ]
  },
  {
   "cell_type": "code",
   "execution_count": 4,
   "id": "1a4fce9d",
   "metadata": {},
   "outputs": [],
   "source": [
    "from sklearn.preprocessing import LabelEncoder\n",
    "\n",
    "LE = LabelEncoder()\n",
    "X['developer'] = LE.fit_transform(X['developer'])\n",
    "X.age = X.age.astype('str').str.rstrip('+').astype(int)"
   ]
  },
  {
   "cell_type": "code",
   "execution_count": 5,
   "id": "2bda83b4",
   "metadata": {},
   "outputs": [
    {
     "data": {
      "image/png": "[encoded data removed]",
      "text/plain": [
       "<Figure size 432x288 with 1 Axes>"
      ]
     },
     "metadata": {
      "needs_background": "light"
     },
     "output_type": "display_data"
    }
   ],
   "source": [
    "fig = plt.figure()\n",
    "plt.yscale('log')\n",
    "plt.title(' Log price Vs age in days')\n",
    "plt.xlabel('Days old')\n",
    "plt.ylabel('Log price')\n",
    "plt.scatter(X['time_delta'], y)\n",
    "m, b = np.polyfit(X['time_delta'], y, 1)\n",
    "plt.plot(X['time_delta'], m*X['time_delta'] + b, color = 'red')\n",
    "fig.tight_layout()"
   ]
  },
  {
   "cell_type": "code",
   "execution_count": 6,
   "id": "e68050fb",
   "metadata": {},
   "outputs": [],
   "source": [
    "import warnings\n",
    "from sklearn.exceptions import ConvergenceWarning\n",
    "warnings.filterwarnings(action='ignore', category=ConvergenceWarning)\n",
    "from sklearn.pipeline import make_pipeline\n",
    "from sklearn.preprocessing import PolynomialFeatures, StandardScaler\n",
    "from sklearn.metrics import mean_squared_error as mse\n",
    "from sklearn.linear_model import LinearRegression, Lasso, ElasticNet, Ridge\n",
    "from sklearn.model_selection import train_test_split"
   ]
  },
  {
   "cell_type": "code",
   "execution_count": 7,
   "id": "0686fe65",
   "metadata": {},
   "outputs": [],
   "source": [
    "X_dev, X_test, y_dev, y_test = train_test_split(X.values, y.values, test_size = 2/10, random_state = 1337)"
   ]
  },
  {
   "cell_type": "code",
   "execution_count": 8,
   "id": "e955af85",
   "metadata": {},
   "outputs": [],
   "source": [
    "X_scaled = StandardScaler().fit_transform(X_dev)"
   ]
  },
  {
   "cell_type": "code",
   "execution_count": 9,
   "id": "06f6e69a",
   "metadata": {},
   "outputs": [
    {
     "data": {
      "text/plain": [
       "(7989, 453)"
      ]
     },
     "execution_count": 9,
     "metadata": {},
     "output_type": "execute_result"
    }
   ],
   "source": [
    "X_scaled.shape"
   ]
  },
  {
   "cell_type": "code",
   "execution_count": 10,
   "id": "1eb9cfcb",
   "metadata": {},
   "outputs": [
    {
     "data": {
      "text/plain": [
       "PCA(n_components=453)"
      ]
     },
     "execution_count": 10,
     "metadata": {},
     "output_type": "execute_result"
    }
   ],
   "source": [
    "from sklearn.decomposition import PCA\n",
    "\n",
    "pcamodel = PCA(n_components = 453)\n",
    "pcamodel.fit(X_scaled)"
   ]
  },
  {
   "cell_type": "code",
   "execution_count": 11,
   "id": "600993b1",
   "metadata": {},
   "outputs": [
    {
     "name": "stdout",
     "output_type": "stream",
     "text": [
      "333\n"
     ]
    }
   ],
   "source": [
    "for i in range(453):\n",
    "    if sum(pcamodel.explained_variance_ratio_[0:i]) >= 0.90:\n",
    "        print(i)\n",
    "        break"
   ]
  },
  {
   "cell_type": "code",
   "execution_count": 12,
   "id": "3df996fc",
   "metadata": {},
   "outputs": [
    {
     "data": {
      "image/png": "[encoded data removed]",
      "text/plain": [
       "<Figure size 432x288 with 1 Axes>"
      ]
     },
     "metadata": {
      "needs_background": "light"
     },
     "output_type": "display_data"
    }
   ],
   "source": [
    "eigenvalues = pcamodel.explained_variance_ratio_\n",
    "fig1, ax1 = plt.subplots()\n",
    "ax1.plot(eigenvalues, color = 'green')\n",
    "#ax1.set_yscale('log')\n",
    "ax1.set(xlabel = '# Eigenvector', ylabel = 'eigenvalues')\n",
    "plt.show()"
   ]
  },
  {
   "cell_type": "code",
   "execution_count": 13,
   "id": "d567f9d0",
   "metadata": {},
   "outputs": [],
   "source": [
    "pcamodel.set_params(n_components = 333)\n",
    "X_pca = pcamodel.fit_transform(X_scaled)"
   ]
  },
  {
   "cell_type": "code",
   "execution_count": 14,
   "id": "156e43db",
   "metadata": {},
   "outputs": [],
   "source": [
    "# First we perform parameter tuning on the lambda of the lasso model\n",
    "# The first search was done in the space np.logspace(-4, 4, 12)\n",
    "# Here we found that a lambda of 0.83... was the best, so we narrow the space down in a grid search further below"
   ]
  },
  {
   "cell_type": "code",
   "execution_count": 15,
   "id": "c0cfcb8c",
   "metadata": {},
   "outputs": [],
   "source": [
    "from sklearn.model_selection import KFold\n",
    "lambdas =  np.logspace(-4, 4, 12)\n",
    "kfolds = KFold(n_splits=10)\n",
    "folds = list(kfolds.split(X_dev, y_dev))\n",
    "MSE_lambda_lasso = []\n",
    "for lambda_ in lambdas:\n",
    "    MSE_cv = []\n",
    "    for train_idx, val_idx in folds:\n",
    "        \n",
    "        pipe_Lasso = make_pipeline(StandardScaler(),\\\n",
    "                                   PCA(n_components = 333),\\\n",
    "                                   #PolynomialFeatures(degree = 2, include_bias = False),\\\n",
    "                                   Lasso(alpha = lambda_, random_state = 1337))\n",
    "        X_train, y_train = X_dev[train_idx], y_dev[train_idx]\n",
    "        X_val, y_val = X_dev[val_idx], y_dev[val_idx]\n",
    "        pipe_Lasso.fit(X_train, y_train)\n",
    "        MSE_cv.append(mse(pipe_Lasso.predict(X_val), y_val))\n",
    "        \n",
    "    MSE_lambda_lasso.append(np.mean(MSE_cv))"
   ]
  },
  {
   "cell_type": "code",
   "execution_count": 16,
   "id": "f5f81f6f",
   "metadata": {},
   "outputs": [
    {
     "data": {
      "image/png": "[encoded data removed]",
      "text/plain": [
       "<Figure size 432x288 with 1 Axes>"
      ]
     },
     "metadata": {
      "needs_background": "light"
     },
     "output_type": "display_data"
    }
   ],
   "source": [
    "lambdaCV_lasso = pd.Series(MSE_lambda_lasso, index=lambdas)\n",
    "fig = plt.figure()\n",
    "plt.xscale('log')\n",
    "plt.title(' Log lambda VS MSE')\n",
    "plt.xlabel('Lambda')\n",
    "plt.ylabel('MSE')\n",
    "plt.plot(lambdaCV_lasso)\n",
    "fig.tight_layout()"
   ]
  },
  {
   "cell_type": "code",
   "execution_count": 17,
   "id": "469c50c5",
   "metadata": {},
   "outputs": [
    {
     "data": {
      "text/plain": [
       "0.015199    123.077193\n",
       "dtype: float64"
      ]
     },
     "execution_count": 17,
     "metadata": {},
     "output_type": "execute_result"
    }
   ],
   "source": [
    "lambdaCV_lasso.nsmallest(1)"
   ]
  },
  {
   "cell_type": "code",
   "execution_count": 18,
   "id": "fdf9a87a",
   "metadata": {},
   "outputs": [],
   "source": [
    "from sklearn.model_selection import GridSearchCV\n",
    "from sklearn.linear_model import ElasticNet\n",
    "\n",
    "lambdas =  np.logspace(-3, 0, 12)\n",
    "pipe_ElasticNet = make_pipeline(StandardScaler(),\n",
    "                                PCA(n_components = 333),\n",
    "                                #PolynomialFeatures(degree = 2, include_bias = False),\n",
    "                                ElasticNet(random_state = 1337))\n",
    "\n",
    "gs_ElasticNet = GridSearchCV(estimator=pipe_ElasticNet,\n",
    "                             param_grid={'elasticnet__alpha':lambdas,\n",
    "                                         'elasticnet__l1_ratio': np.linspace(0,1,20)},\n",
    "                             scoring='neg_mean_squared_error',\n",
    "                             n_jobs=4,\n",
    "                             cv=10)"
   ]
  },
  {
   "cell_type": "code",
   "execution_count": null,
   "id": "143a649f",
   "metadata": {},
   "outputs": [],
   "source": [
    "gs_ElasticNet.fit(X_dev, y_dev)\n",
    "gsPCA.best_params_"
   ]
  },
  {
   "cell_type": "code",
   "execution_count": null,
   "id": "33ab43d0",
   "metadata": {},
   "outputs": [],
   "source": [
    "print(mse(gs_ElasticNet.predict(X_dev), y_dev))\n",
    "print(mse(gs_ElasticNet.predict(X_test), y_test))"
   ]
  }
 ],
 "metadata": {
  "kernelspec": {
   "display_name": "Python 3",
   "language": "python",
   "name": "python3"
  },
  "language_info": {
   "codemirror_mode": {
    "name": "ipython",
    "version": 3
   },
   "file_extension": ".py",
   "mimetype": "text/x-python",
   "name": "python",
   "nbconvert_exporter": "python",
   "pygments_lexer": "ipython3",
   "version": "3.8.8"
  }
 },
 "nbformat": 4,
 "nbformat_minor": 5
}
