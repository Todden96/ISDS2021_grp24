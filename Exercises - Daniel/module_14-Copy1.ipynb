{
 "cells": [
  {
   "cell_type": "markdown",
   "metadata": {
    "colab_type": "text",
    "id": "xom1o-ebeBv3"
   },
   "source": [
    "\n",
    "# Introduction to Social Data Science: Text as Data\n",
    "\n",
    "#### Required readings\n",
    "\n",
    "*(PML) Raschka, Sebastian, and Mirjalili, Vahid. Python Machine Learning - Second Edition. Birmingham: Packt Publishing, Limited, 2017. Chapter 8*\n",
    "\n",
    "- PML: following sections from chapter 8:\n",
    "  - Preparing the IMDb movie review data for text processing\n",
    "  - Introducing the bag-of-words model\n",
    "  - Training a logistic regression model for document classification\n",
    " \n",
    "Gentzkow, M., Kelly, B.T. and Taddy, M., 2017. [\"Text as data\"](http://www.nber.org/papers/w23276.pdf) (No. w23276). *National Bureau of Economic Research*.\n",
    "\n",
    "Jurafsky, D., & Martin, J. H. (2019). Vector Semantics and Embeddings. Speech and Language Processing, 3rd ed. draft. https://web.stanford.edu/~jurafsky/slp3/6.pdf\n",
    "\n",
    "\n",
    "\n",
    "\n",
    "#### Inspirational readings\n",
    "\n",
    "Gorrell, Genevieve et al. “Twits, Twats and Twaddle: Trends in Online Abuse towards UK Politicians.” ICWSM (2018). https://gate-socmedia.group.shef.ac.uk/wp-content/uploads/2019/07/Gorrell-Greenwood.pdf\n",
    "\n",
    "Pang, Bo et al. “Thumbs up? Sentiment Classification using Machine Learning Techniques.” EMNLP (2002). https://www.aclweb.org/anthology/W02-1011.pdf \n",
    "\n",
    "\n",
    "\n",
    "\n",
    "\n"
   ]
  },
  {
   "cell_type": "markdown",
   "metadata": {
    "colab_type": "text",
    "id": "MbfuNY1YkeU5"
   },
   "source": [
    "Course page: https://isdsucph.github.io/isds2021/"
   ]
  },
  {
   "cell_type": "markdown",
   "metadata": {},
   "source": [
    "**Agenda**\n",
    "- Preprocessing text\n",
    "- Feature extraction\n",
    "- Text classification with ML and using lexicons"
   ]
  },
  {
   "cell_type": "code",
   "execution_count": 1,
   "metadata": {},
   "outputs": [
    {
     "data": {
      "image/jpeg": "[encoded data removed]",
      "text/html": [
       "\n",
       "        <iframe\n",
       "            width=\"740\"\n",
       "            height=\"460\"\n",
       "            src=\"https://www.youtube.com/embed/XJFB6-qpyTs\"\n",
       "            frameborder=\"0\"\n",
       "            allowfullscreen\n",
       "        ></iframe>\n",
       "        "
      ],
      "text/plain": [
       "<IPython.lib.display.YouTubeVideo at 0x1d0592531c0>"
      ]
     },
     "execution_count": 1,
     "metadata": {},
     "output_type": "execute_result"
    }
   ],
   "source": [
    "from IPython.display import YouTubeVideo\n",
    "YouTubeVideo('XJFB6-qpyTs', width=740, height=460)"
   ]
  },
  {
   "cell_type": "markdown",
   "metadata": {
    "colab_type": "text",
    "id": "lQX-pwV2IHMw"
   },
   "source": [
    "## Import packages"
   ]
  },
  {
   "cell_type": "code",
   "execution_count": 4,
   "metadata": {
    "colab": {
     "base_uri": "https://localhost:8080/",
     "height": 119
    },
    "colab_type": "code",
    "id": "ja2q7_ZrIGdl",
    "outputId": "9fca1081-29bf-4a14-889c-3c207c020c35"
   },
   "outputs": [
    {
     "name": "stderr",
     "output_type": "stream",
     "text": [
      "[nltk_data] Downloading package punkt to\n",
      "[nltk_data]     C:\\Users\\danib\\AppData\\Roaming\\nltk_data...\n",
      "[nltk_data]   Unzipping tokenizers\\punkt.zip.\n",
      "[nltk_data] Downloading package wordnet to\n",
      "[nltk_data]     C:\\Users\\danib\\AppData\\Roaming\\nltk_data...\n",
      "[nltk_data]   Unzipping corpora\\wordnet.zip.\n",
      "[nltk_data] Downloading package stopwords to\n",
      "[nltk_data]     C:\\Users\\danib\\AppData\\Roaming\\nltk_data...\n",
      "[nltk_data]   Unzipping corpora\\stopwords.zip.\n"
     ]
    }
   ],
   "source": [
    "# from the textbook, for printing a process bar.\n",
    "import pyprind\n",
    "\n",
    "# basic packages\n",
    "import pandas as pd\n",
    "import os\n",
    "import numpy as np\n",
    "import re # python regular expressions\n",
    "import string # for efficient operations with strings\n",
    "import matplotlib.pyplot as plt\n",
    "%matplotlib inline\n",
    "\n",
    "# For creating dictionaries that you can fill in a loop\n",
    "from collections import defaultdict\n",
    "\n",
    "# NLTK: A basic, popular NLP package. Find many examples of applications at https://www.nltk.org/book/\n",
    "# Install guide: https://www.nltk.org/install.html\n",
    "import nltk\n",
    "nltk.download('punkt') # you will probably need to do this\n",
    "nltk.download('wordnet') # and this\n",
    "nltk.download('stopwords') # aand this\n",
    "\n",
    "# for vectorization \n",
    "from sklearn.feature_extraction.text import CountVectorizer\n",
    "from sklearn.feature_extraction.text import TfidfVectorizer\n",
    "from sklearn.feature_extraction.text import TfidfTransformer\n",
    "\n",
    "#Vader Lexicon for sentiment analysis\n",
    "from vaderSentiment.vaderSentiment import SentimentIntensityAnalyzer\n",
    "\n",
    "# similarity/distance measures\n",
    "from scipy.spatial import distance\n",
    "from sklearn.metrics.pairwise import linear_kernel, cosine_similarity\n",
    "\n",
    "# for classification\n",
    "from sklearn.linear_model import LogisticRegression\n",
    "from sklearn.metrics import confusion_matrix\n",
    "from sklearn.model_selection import GridSearchCV\n",
    "from sklearn.pipeline import Pipeline\n",
    "\n",
    "# Lexicons for sentiment analysis\n",
    "from vaderSentiment import vaderSentiment\n",
    "from afinn import Afinn\n",
    "\n",
    "# to display images in notebook\n",
    "from IPython.display import Image"
   ]
  },
  {
   "cell_type": "markdown",
   "metadata": {
    "colab_type": "text",
    "id": "c-cRg6Cv0N1k"
   },
   "source": [
    "## Preparing data (following PML chapter 8)"
   ]
  },
  {
   "cell_type": "markdown",
   "metadata": {
    "colab_type": "text",
    "id": "L_b3SdU51T1-"
   },
   "source": [
    "Data source:\n",
    "\n",
    "Andrew L. Maas, Raymond E. Daly, Peter T. Pham, Dan Huang, Andrew Y. Ng, and Christopher Potts. (2011). Learning Word Vectors for Sentiment Analysis. The 49th Annual Meeting of the Association for Computational Linguistics (ACL 2011).\n",
    "\n",
    "Download from http://ai.stanford.edu/~amaas/data/sentiment/\n",
    "\n",
    "\n"
   ]
  },
  {
   "cell_type": "code",
   "execution_count": 5,
   "metadata": {
    "colab": {
     "base_uri": "https://localhost:8080/",
     "height": 204
    },
    "colab_type": "code",
    "id": "dcjbWCcDd8q7",
    "outputId": "25d555af-5442-42f0-d40d-251392fb94c3"
   },
   "outputs": [
    {
     "name": "stdout",
     "output_type": "stream",
     "text": [
      "100% [........................................................................] 84125825 / 84125825"
     ]
    },
    {
     "data": {
      "text/plain": [
       "'aclImdb_v1.tar.gz'"
      ]
     },
     "execution_count": 5,
     "metadata": {},
     "output_type": "execute_result"
    }
   ],
   "source": [
    "# download the data\n",
    "import wget\n",
    "wget.download(\"http://ai.stanford.edu/~amaas/data/sentiment/aclImdb_v1.tar.gz\")\n"
   ]
  },
  {
   "cell_type": "code",
   "execution_count": 6,
   "metadata": {
    "colab": {},
    "colab_type": "code",
    "id": "W1eCVNJD2TRK"
   },
   "outputs": [],
   "source": [
    "# unpack\n",
    "import tarfile\n",
    "with tarfile.open(\"aclImdb_v1.tar.gz\", \"r:gz\") as tar:\n",
    "    tar.extractall()"
   ]
  },
  {
   "cell_type": "code",
   "execution_count": 7,
   "metadata": {
    "colab": {
     "base_uri": "https://localhost:8080/",
     "height": 51
    },
    "colab_type": "code",
    "id": "YAfU_OC0Dl2w",
    "outputId": "bb0d2ce5-9916-4f4e-d5e2-d33d54ae26f7"
   },
   "outputs": [
    {
     "name": "stderr",
     "output_type": "stream",
     "text": [
      "0% [##############################] 100% | ETA: 00:00:00\n",
      "Total time elapsed: 00:02:20\n"
     ]
    }
   ],
   "source": [
    "# load data into a pandas DataFrame\n",
    "\n",
    "basepath = \"aclImdb\"\n",
    "\n",
    "labels = {\"pos\":1, \"neg\":0}\n",
    "pbar = pyprind.ProgBar(50000)\n",
    "df = pd.DataFrame()\n",
    "for s in (\"test\", \"train\"):\n",
    "    for l in (\"pos\", \"neg\"):\n",
    "        path = os.path.join(basepath,s,l)\n",
    "        for file in sorted(os.listdir(path)):\n",
    "            with open(os.path.join(path,file), \"r\", encoding=\"utf-8\") as infile:\n",
    "                txt = infile.read()\n",
    "            # Here I also append s (\"train\" or \"test\") to later use the predefined \n",
    "            # split of the data. They didn't do this in the textbook.\n",
    "            df = df.append([[txt, labels[l], s]], ignore_index=True) \n",
    "            pbar.update()\n",
    "df.columns = [\"review\", \"sentiment\", \"set\"]"
   ]
  },
  {
   "cell_type": "code",
   "execution_count": 8,
   "metadata": {
    "colab": {
     "base_uri": "https://localhost:8080/",
     "height": 419
    },
    "colab_type": "code",
    "id": "nk3K4svoD0T5",
    "outputId": "81656afc-605c-4a9f-a312-bec0a43d6c26",
    "scrolled": true
   },
   "outputs": [
    {
     "data": {
      "text/html": [
       "<div>\n",
       "<style scoped>\n",
       "    .dataframe tbody tr th:only-of-type {\n",
       "        vertical-align: middle;\n",
       "    }\n",
       "\n",
       "    .dataframe tbody tr th {\n",
       "        vertical-align: top;\n",
       "    }\n",
       "\n",
       "    .dataframe thead th {\n",
       "        text-align: right;\n",
       "    }\n",
       "</style>\n",
       "<table border=\"1\" class=\"dataframe\">\n",
       "  <thead>\n",
       "    <tr style=\"text-align: right;\">\n",
       "      <th></th>\n",
       "      <th>review</th>\n",
       "      <th>sentiment</th>\n",
       "      <th>set</th>\n",
       "    </tr>\n",
       "  </thead>\n",
       "  <tbody>\n",
       "    <tr>\n",
       "      <th>0</th>\n",
       "      <td>I went and saw this movie last night after bei...</td>\n",
       "      <td>1</td>\n",
       "      <td>test</td>\n",
       "    </tr>\n",
       "    <tr>\n",
       "      <th>1</th>\n",
       "      <td>Actor turned director Bill Paxton follows up h...</td>\n",
       "      <td>1</td>\n",
       "      <td>test</td>\n",
       "    </tr>\n",
       "    <tr>\n",
       "      <th>2</th>\n",
       "      <td>As a recreational golfer with some knowledge o...</td>\n",
       "      <td>1</td>\n",
       "      <td>test</td>\n",
       "    </tr>\n",
       "    <tr>\n",
       "      <th>3</th>\n",
       "      <td>I saw this film in a sneak preview, and it is ...</td>\n",
       "      <td>1</td>\n",
       "      <td>test</td>\n",
       "    </tr>\n",
       "    <tr>\n",
       "      <th>4</th>\n",
       "      <td>Bill Paxton has taken the true story of the 19...</td>\n",
       "      <td>1</td>\n",
       "      <td>test</td>\n",
       "    </tr>\n",
       "    <tr>\n",
       "      <th>...</th>\n",
       "      <td>...</td>\n",
       "      <td>...</td>\n",
       "      <td>...</td>\n",
       "    </tr>\n",
       "    <tr>\n",
       "      <th>49995</th>\n",
       "      <td>Towards the end of the movie, I felt it was to...</td>\n",
       "      <td>0</td>\n",
       "      <td>train</td>\n",
       "    </tr>\n",
       "    <tr>\n",
       "      <th>49996</th>\n",
       "      <td>This is the kind of movie that my enemies cont...</td>\n",
       "      <td>0</td>\n",
       "      <td>train</td>\n",
       "    </tr>\n",
       "    <tr>\n",
       "      <th>49997</th>\n",
       "      <td>I saw 'Descent' last night at the Stockholm Fi...</td>\n",
       "      <td>0</td>\n",
       "      <td>train</td>\n",
       "    </tr>\n",
       "    <tr>\n",
       "      <th>49998</th>\n",
       "      <td>Some films that you pick up for a pound turn o...</td>\n",
       "      <td>0</td>\n",
       "      <td>train</td>\n",
       "    </tr>\n",
       "    <tr>\n",
       "      <th>49999</th>\n",
       "      <td>This is one of the dumbest films, I've ever se...</td>\n",
       "      <td>0</td>\n",
       "      <td>train</td>\n",
       "    </tr>\n",
       "  </tbody>\n",
       "</table>\n",
       "<p>50000 rows × 3 columns</p>\n",
       "</div>"
      ],
      "text/plain": [
       "                                                  review  sentiment    set\n",
       "0      I went and saw this movie last night after bei...          1   test\n",
       "1      Actor turned director Bill Paxton follows up h...          1   test\n",
       "2      As a recreational golfer with some knowledge o...          1   test\n",
       "3      I saw this film in a sneak preview, and it is ...          1   test\n",
       "4      Bill Paxton has taken the true story of the 19...          1   test\n",
       "...                                                  ...        ...    ...\n",
       "49995  Towards the end of the movie, I felt it was to...          0  train\n",
       "49996  This is the kind of movie that my enemies cont...          0  train\n",
       "49997  I saw 'Descent' last night at the Stockholm Fi...          0  train\n",
       "49998  Some films that you pick up for a pound turn o...          0  train\n",
       "49999  This is one of the dumbest films, I've ever se...          0  train\n",
       "\n",
       "[50000 rows x 3 columns]"
      ]
     },
     "execution_count": 8,
     "metadata": {},
     "output_type": "execute_result"
    }
   ],
   "source": [
    "df # look at the dataframe"
   ]
  },
  {
   "cell_type": "code",
   "execution_count": 9,
   "metadata": {
    "colab": {},
    "colab_type": "code",
    "id": "-X7lKhZcHzPD"
   },
   "outputs": [],
   "source": [
    "# dividing into train and test set again.\n",
    "df_train = df[df.set==\"train\"]\n",
    "df_test = df[df.set==\"test\"]\n",
    "\n",
    "# Permute data such that pos and neg samples are mixed\n",
    "\n",
    "np.random.seed(0)\n",
    "df_train = df.reindex(np.random.permutation(df_train.index))\n",
    "df_test = df.reindex(np.random.permutation(df_test.index))\n",
    "\n",
    "# save dataframes:\n",
    "df_train.to_csv(\"train.csv\", index=False)\n",
    "df_test.to_csv(\"test.csv\", index=False)"
   ]
  },
  {
   "cell_type": "code",
   "execution_count": 10,
   "metadata": {},
   "outputs": [
    {
     "data": {
      "text/html": [
       "<div>\n",
       "<style scoped>\n",
       "    .dataframe tbody tr th:only-of-type {\n",
       "        vertical-align: middle;\n",
       "    }\n",
       "\n",
       "    .dataframe tbody tr th {\n",
       "        vertical-align: top;\n",
       "    }\n",
       "\n",
       "    .dataframe thead th {\n",
       "        text-align: right;\n",
       "    }\n",
       "</style>\n",
       "<table border=\"1\" class=\"dataframe\">\n",
       "  <thead>\n",
       "    <tr style=\"text-align: right;\">\n",
       "      <th></th>\n",
       "      <th>review</th>\n",
       "      <th>sentiment</th>\n",
       "      <th>set</th>\n",
       "    </tr>\n",
       "  </thead>\n",
       "  <tbody>\n",
       "    <tr>\n",
       "      <th>0</th>\n",
       "      <td>Forbidden Siren is based upon the Siren 2 Play...</td>\n",
       "      <td>0</td>\n",
       "      <td>train</td>\n",
       "    </tr>\n",
       "    <tr>\n",
       "      <th>1</th>\n",
       "      <td>You better see this episode from the beginning...</td>\n",
       "      <td>1</td>\n",
       "      <td>train</td>\n",
       "    </tr>\n",
       "    <tr>\n",
       "      <th>2</th>\n",
       "      <td>This is one of those movies that's trying to b...</td>\n",
       "      <td>0</td>\n",
       "      <td>train</td>\n",
       "    </tr>\n",
       "    <tr>\n",
       "      <th>3</th>\n",
       "      <td>I have seen this film numerous times and for t...</td>\n",
       "      <td>1</td>\n",
       "      <td>train</td>\n",
       "    </tr>\n",
       "    <tr>\n",
       "      <th>4</th>\n",
       "      <td>Let's face it: the final season (#8) was one o...</td>\n",
       "      <td>1</td>\n",
       "      <td>train</td>\n",
       "    </tr>\n",
       "  </tbody>\n",
       "</table>\n",
       "</div>"
      ],
      "text/plain": [
       "                                              review  sentiment    set\n",
       "0  Forbidden Siren is based upon the Siren 2 Play...          0  train\n",
       "1  You better see this episode from the beginning...          1  train\n",
       "2  This is one of those movies that's trying to b...          0  train\n",
       "3  I have seen this film numerous times and for t...          1  train\n",
       "4  Let's face it: the final season (#8) was one o...          1  train"
      ]
     },
     "execution_count": 10,
     "metadata": {},
     "output_type": "execute_result"
    }
   ],
   "source": [
    "# load saved dataframes:\n",
    "df_train = pd.read_csv(\"train.csv\")\n",
    "df_test = pd.read_csv(\"test.csv\")\n",
    "df_train.head()"
   ]
  },
  {
   "cell_type": "markdown",
   "metadata": {},
   "source": [
    "# Preprocessing"
   ]
  },
  {
   "cell_type": "code",
   "execution_count": 11,
   "metadata": {},
   "outputs": [
    {
     "data": {
      "image/jpeg": "[encoded data removed]",
      "text/html": [
       "\n",
       "        <iframe\n",
       "            width=\"740\"\n",
       "            height=\"460\"\n",
       "            src=\"https://www.youtube.com/embed/mz9uPDsOER8\"\n",
       "            frameborder=\"0\"\n",
       "            allowfullscreen\n",
       "        ></iframe>\n",
       "        "
      ],
      "text/plain": [
       "<IPython.lib.display.YouTubeVideo at 0x1d0662e0a60>"
      ]
     },
     "execution_count": 11,
     "metadata": {},
     "output_type": "execute_result"
    }
   ],
   "source": [
    "YouTubeVideo('mz9uPDsOER8', width=740, height=460)"
   ]
  },
  {
   "cell_type": "markdown",
   "metadata": {
    "colab_type": "text",
    "id": "ZHoRouz1XfWn"
   },
   "source": [
    "We preprocess text data to standardize the format and to define what a unique \"feature\" is.\n",
    " \n",
    " \n",
    " *What is a feature?* \n",
    " Features are the independent variables. A flower may have features such as color and leaf length, and you can use such features to classify flowers into species. \n",
    " With text data, a feature is commonly a word (or a character in some special cases). If we have a small collection of texts where 2500 *unique* words are used, we commonly say that the *vocabulary* is of size 2500 and the number of features is equal to the size of the vocabulary.\n",
    " \n",
    " For most types of analysis, we have to represent each feature with some numerical values. But, this is where the importance of preprocessing comes in: Should the words \"try\" and \"trying\" have different values or do they convey the same basic information? What about \"USA\" and \"usa\"? And are punctuations important? \n",
    "\n",
    " \n",
    "When working with text as data, the number of features is much larger than when working with most other types as data. Preproccessing is therefore both about standardizing the data and about trying to reduce the number of features to relieve the computation cost.\n",
    "\n",
    "The most standard preprocessing steps are:\n",
    "\n",
    "- Segmentation (dividing a string into reasonable sentences and words)\n",
    "- Lowercasing (standardizing)\n",
    "- Stemming or lemmatizing (standardizing)\n",
    "- Removing so-called stopwords and punctuation and other potentially disrupting text patterns (reducing \"noise\" and feature dimensionality)\n",
    "\n",
    "\n",
    "What features are important, and hence which preprocessing steps should be included/excluded, depends on the task / research question.\n",
    " "
   ]
  },
  {
   "cell_type": "markdown",
   "metadata": {
    "colab_type": "text",
    "id": "y6ylK3UlFnUV"
   },
   "source": [
    "## Tokenization (segmentation)"
   ]
  },
  {
   "cell_type": "code",
   "execution_count": 12,
   "metadata": {
    "colab": {
     "base_uri": "https://localhost:8080/",
     "height": 105
    },
    "colab_type": "code",
    "id": "6QLQRZD-FzAw",
    "outputId": "cd63fff3-7c26-4f4c-d7d6-ad577cd538dd",
    "scrolled": true
   },
   "outputs": [
    {
     "name": "stdout",
     "output_type": "stream",
     "text": [
      "Forbidden Siren is based upon the Siren 2 Playstation 2 (so many 2s) game. Like most video game turned movies, I would say the majority don't translate into a different medium really well. And that goes for this one too, painfully.<br /><br />There's a pretty long prologue which explains and sets the premise for the story, and the mysterious island on which a writer (Leo Morimoto) and his children, daughter Yuki (Yui Ichikawa) and son Hideo (Jun Nishiyama) come to move into. The villagers don't look all too friendly, and soon enough, sound advice is given about the siren on the island, to stay indoors once the siren starts wailing.<br /><br />Naturally and slowly, things start to go bump, and our siblings go on a mission beating around the bush to discover exactly what is happening on this unfriendly island with its strange inhabitants. But in truth, you will not bother with what's going on, as folklore and fairy tales get thrown in to convolute the plot even more. What was really pushing it into the realm of bad comedy are its unwittingly ill-placed-out-of-the-norm moments which just drew pitiful giggles at its sheer stupidity, until it's explained much later. It's one thing trying to come up and present something smart, but another thing doing it convincingly and with loopholes covered.<br /><br />Despite it clocking in under 90 minutes - I think it's a horror movie phenomenon to have that as a runtime benchmark - it gives that almost two hour feel with its slow buildup to tell what it wants to. Things begin to pick up toward the last 20 minutes, but it's a classic case of too little too late.<br /><br />What saves the movie is how it changes tack and its revelation at the end. Again this is a common device used to try and elevate a seemingly simple horror movie into something a little bit extra in the hope of wowing an audience. It turned out rather satisfactorily, but leaves a bad aftertaste as you'll feel cheated somewhat. There are two ways a twist will make you feel - it either elevates the movie to a memorable level, or provides you with that hokey feeling. Unfortunately Forbidden Siren belonged more to the latter.<br /><br />The saving grace will be its cinematography with its use of light, shadows and mirrors, but I will be that explicit - it's still not worth the time, so better to avoid this.\n",
      "['Forbidden', 'Siren', 'is', 'based', 'upon', 'the', 'Siren', '2', 'Playstation', '2', '(so', 'many', '2s)', 'game.', 'Like', 'most', 'video', 'game', 'turned', 'movies,', 'I', 'would', 'say', 'the', 'majority', \"don't\", 'translate', 'into', 'a', 'different', 'medium', 'really', 'well.', 'And', 'that', 'goes', 'for', 'this', 'one', 'too,', 'painfully.<br', '/><br', \"/>There's\", 'a', 'pretty', 'long', 'prologue', 'which', 'explains', 'and', 'sets', 'the', 'premise', 'for', 'the', 'story,', 'and', 'the', 'mysterious', 'island', 'on', 'which', 'a', 'writer', '(Leo', 'Morimoto)', 'and', 'his', 'children,', 'daughter', 'Yuki', '(Yui', 'Ichikawa)', 'and', 'son', 'Hideo', '(Jun', 'Nishiyama)', 'come', 'to', 'move', 'into.', 'The', 'villagers', \"don't\", 'look', 'all', 'too', 'friendly,', 'and', 'soon', 'enough,', 'sound', 'advice', 'is', 'given', 'about', 'the', 'siren', 'on', 'the', 'island,', 'to', 'stay', 'indoors', 'once', 'the', 'siren', 'starts', 'wailing.<br', '/><br', '/>Naturally', 'and', 'slowly,', 'things', 'start', 'to', 'go', 'bump,', 'and', 'our', 'siblings', 'go', 'on', 'a', 'mission', 'beating', 'around', 'the', 'bush', 'to', 'discover', 'exactly', 'what', 'is', 'happening', 'on', 'this', 'unfriendly', 'island', 'with', 'its', 'strange', 'inhabitants.', 'But', 'in', 'truth,', 'you', 'will', 'not', 'bother', 'with', \"what's\", 'going', 'on,', 'as', 'folklore', 'and', 'fairy', 'tales', 'get', 'thrown', 'in', 'to', 'convolute', 'the', 'plot', 'even', 'more.', 'What', 'was', 'really', 'pushing', 'it', 'into', 'the', 'realm', 'of', 'bad', 'comedy', 'are', 'its', 'unwittingly', 'ill-placed-out-of-the-norm', 'moments', 'which', 'just', 'drew', 'pitiful', 'giggles', 'at', 'its', 'sheer', 'stupidity,', 'until', \"it's\", 'explained', 'much', 'later.', \"It's\", 'one', 'thing', 'trying', 'to', 'come', 'up', 'and', 'present', 'something', 'smart,', 'but', 'another', 'thing', 'doing', 'it', 'convincingly', 'and', 'with', 'loopholes', 'covered.<br', '/><br', '/>Despite', 'it', 'clocking', 'in', 'under', '90', 'minutes', '-', 'I', 'think', \"it's\", 'a', 'horror', 'movie', 'phenomenon', 'to', 'have', 'that', 'as', 'a', 'runtime', 'benchmark', '-', 'it', 'gives', 'that', 'almost', 'two', 'hour', 'feel', 'with', 'its', 'slow', 'buildup', 'to', 'tell', 'what', 'it', 'wants', 'to.', 'Things', 'begin', 'to', 'pick', 'up', 'toward', 'the', 'last', '20', 'minutes,', 'but', \"it's\", 'a', 'classic', 'case', 'of', 'too', 'little', 'too', 'late.<br', '/><br', '/>What', 'saves', 'the', 'movie', 'is', 'how', 'it', 'changes', 'tack', 'and', 'its', 'revelation', 'at', 'the', 'end.', 'Again', 'this', 'is', 'a', 'common', 'device', 'used', 'to', 'try', 'and', 'elevate', 'a', 'seemingly', 'simple', 'horror', 'movie', 'into', 'something', 'a', 'little', 'bit', 'extra', 'in', 'the', 'hope', 'of', 'wowing', 'an', 'audience.', 'It', 'turned', 'out', 'rather', 'satisfactorily,', 'but', 'leaves', 'a', 'bad', 'aftertaste', 'as', \"you'll\", 'feel', 'cheated', 'somewhat.', 'There', 'are', 'two', 'ways', 'a', 'twist', 'will', 'make', 'you', 'feel', '-', 'it', 'either', 'elevates', 'the', 'movie', 'to', 'a', 'memorable', 'level,', 'or', 'provides', 'you', 'with', 'that', 'hokey', 'feeling.', 'Unfortunately', 'Forbidden', 'Siren', 'belonged', 'more', 'to', 'the', 'latter.<br', '/><br', '/>The', 'saving', 'grace', 'will', 'be', 'its', 'cinematography', 'with', 'its', 'use', 'of', 'light,', 'shadows', 'and', 'mirrors,', 'but', 'I', 'will', 'be', 'that', 'explicit', '-', \"it's\", 'still', 'not', 'worth', 'the', 'time,', 'so', 'better', 'to', 'avoid', 'this.']\n",
      "['Forbidden', 'Siren', 'is', 'based', 'upon', 'the', 'Siren', '2', 'Playstation', '2', '(', 'so', 'many', '2s', ')', 'game', '.', 'Like', 'most', 'video', 'game', 'turned', 'movies', ',', 'I', 'would', 'say', 'the', 'majority', 'do', \"n't\", 'translate', 'into', 'a', 'different', 'medium', 'really', 'well', '.', 'And', 'that', 'goes', 'for', 'this', 'one', 'too', ',', 'painfully.', '<', 'br', '/', '>', '<', 'br', '/', '>', 'There', \"'s\", 'a', 'pretty', 'long', 'prologue', 'which', 'explains', 'and', 'sets', 'the', 'premise', 'for', 'the', 'story', ',', 'and', 'the', 'mysterious', 'island', 'on', 'which', 'a', 'writer', '(', 'Leo', 'Morimoto', ')', 'and', 'his', 'children', ',', 'daughter', 'Yuki', '(', 'Yui', 'Ichikawa', ')', 'and', 'son', 'Hideo', '(', 'Jun', 'Nishiyama', ')', 'come', 'to', 'move', 'into', '.', 'The', 'villagers', 'do', \"n't\", 'look', 'all', 'too', 'friendly', ',', 'and', 'soon', 'enough', ',', 'sound', 'advice', 'is', 'given', 'about', 'the', 'siren', 'on', 'the', 'island', ',', 'to', 'stay', 'indoors', 'once', 'the', 'siren', 'starts', 'wailing.', '<', 'br', '/', '>', '<', 'br', '/', '>', 'Naturally', 'and', 'slowly', ',', 'things', 'start', 'to', 'go', 'bump', ',', 'and', 'our', 'siblings', 'go', 'on', 'a', 'mission', 'beating', 'around', 'the', 'bush', 'to', 'discover', 'exactly', 'what', 'is', 'happening', 'on', 'this', 'unfriendly', 'island', 'with', 'its', 'strange', 'inhabitants', '.', 'But', 'in', 'truth', ',', 'you', 'will', 'not', 'bother', 'with', 'what', \"'s\", 'going', 'on', ',', 'as', 'folklore', 'and', 'fairy', 'tales', 'get', 'thrown', 'in', 'to', 'convolute', 'the', 'plot', 'even', 'more', '.', 'What', 'was', 'really', 'pushing', 'it', 'into', 'the', 'realm', 'of', 'bad', 'comedy', 'are', 'its', 'unwittingly', 'ill-placed-out-of-the-norm', 'moments', 'which', 'just', 'drew', 'pitiful', 'giggles', 'at', 'its', 'sheer', 'stupidity', ',', 'until', 'it', \"'s\", 'explained', 'much', 'later', '.', 'It', \"'s\", 'one', 'thing', 'trying', 'to', 'come', 'up', 'and', 'present', 'something', 'smart', ',', 'but', 'another', 'thing', 'doing', 'it', 'convincingly', 'and', 'with', 'loopholes', 'covered.', '<', 'br', '/', '>', '<', 'br', '/', '>', 'Despite', 'it', 'clocking', 'in', 'under', '90', 'minutes', '-', 'I', 'think', 'it', \"'s\", 'a', 'horror', 'movie', 'phenomenon', 'to', 'have', 'that', 'as', 'a', 'runtime', 'benchmark', '-', 'it', 'gives', 'that', 'almost', 'two', 'hour', 'feel', 'with', 'its', 'slow', 'buildup', 'to', 'tell', 'what', 'it', 'wants', 'to', '.', 'Things', 'begin', 'to', 'pick', 'up', 'toward', 'the', 'last', '20', 'minutes', ',', 'but', 'it', \"'s\", 'a', 'classic', 'case', 'of', 'too', 'little', 'too', 'late.', '<', 'br', '/', '>', '<', 'br', '/', '>', 'What', 'saves', 'the', 'movie', 'is', 'how', 'it', 'changes', 'tack', 'and', 'its', 'revelation', 'at', 'the', 'end', '.', 'Again', 'this', 'is', 'a', 'common', 'device', 'used', 'to', 'try', 'and', 'elevate', 'a', 'seemingly', 'simple', 'horror', 'movie', 'into', 'something', 'a', 'little', 'bit', 'extra', 'in', 'the', 'hope', 'of', 'wowing', 'an', 'audience', '.', 'It', 'turned', 'out', 'rather', 'satisfactorily', ',', 'but', 'leaves', 'a', 'bad', 'aftertaste', 'as', 'you', \"'ll\", 'feel', 'cheated', 'somewhat', '.', 'There', 'are', 'two', 'ways', 'a', 'twist', 'will', 'make', 'you', 'feel', '-', 'it', 'either', 'elevates', 'the', 'movie', 'to', 'a', 'memorable', 'level', ',', 'or', 'provides', 'you', 'with', 'that', 'hokey', 'feeling', '.', 'Unfortunately', 'Forbidden', 'Siren', 'belonged', 'more', 'to', 'the', 'latter.', '<', 'br', '/', '>', '<', 'br', '/', '>', 'The', 'saving', 'grace', 'will', 'be', 'its', 'cinematography', 'with', 'its', 'use', 'of', 'light', ',', 'shadows', 'and', 'mirrors', ',', 'but', 'I', 'will', 'be', 'that', 'explicit', '-', 'it', \"'s\", 'still', 'not', 'worth', 'the', 'time', ',', 'so', 'better', 'to', 'avoid', 'this', '.']\n",
      "['Forbidden Siren is based upon the Siren 2 Playstation 2 (so many 2s) game.', \"Like most video game turned movies, I would say the majority don't translate into a different medium really well.\", \"And that goes for this one too, painfully.<br /><br />There's a pretty long prologue which explains and sets the premise for the story, and the mysterious island on which a writer (Leo Morimoto) and his children, daughter Yuki (Yui Ichikawa) and son Hideo (Jun Nishiyama) come to move into.\", \"The villagers don't look all too friendly, and soon enough, sound advice is given about the siren on the island, to stay indoors once the siren starts wailing.<br /><br />Naturally and slowly, things start to go bump, and our siblings go on a mission beating around the bush to discover exactly what is happening on this unfriendly island with its strange inhabitants.\", \"But in truth, you will not bother with what's going on, as folklore and fairy tales get thrown in to convolute the plot even more.\", \"What was really pushing it into the realm of bad comedy are its unwittingly ill-placed-out-of-the-norm moments which just drew pitiful giggles at its sheer stupidity, until it's explained much later.\", \"It's one thing trying to come up and present something smart, but another thing doing it convincingly and with loopholes covered.<br /><br />Despite it clocking in under 90 minutes - I think it's a horror movie phenomenon to have that as a runtime benchmark - it gives that almost two hour feel with its slow buildup to tell what it wants to.\", \"Things begin to pick up toward the last 20 minutes, but it's a classic case of too little too late.<br /><br />What saves the movie is how it changes tack and its revelation at the end.\", 'Again this is a common device used to try and elevate a seemingly simple horror movie into something a little bit extra in the hope of wowing an audience.', \"It turned out rather satisfactorily, but leaves a bad aftertaste as you'll feel cheated somewhat.\", 'There are two ways a twist will make you feel - it either elevates the movie to a memorable level, or provides you with that hokey feeling.', \"Unfortunately Forbidden Siren belonged more to the latter.<br /><br />The saving grace will be its cinematography with its use of light, shadows and mirrors, but I will be that explicit - it's still not worth the time, so better to avoid this.\"]\n"
     ]
    }
   ],
   "source": [
    "sentence = df_train.review.values[0]\n",
    "print(sentence)\n",
    " \n",
    "# word tokenization (segmentation)\n",
    "# by blank space (crude)\n",
    "sent = sentence.split(\" \")\n",
    "print(sent)\n",
    "# by using a package such as NLTK.\n",
    "sent = nltk.tokenize.word_tokenize(sentence)\n",
    "print(sent)\n",
    "# nltk.tokenize.TweetTokenizer() is another option, and good for social media text.\n",
    "\n",
    "# Sentence segmentation (sentence splitting)\n",
    "sents = nltk.tokenize.sent_tokenize(sentence)\n",
    "print(sents)\n",
    "\n",
    "# There are many other more complex versions used for specific cases/tasks/models and sometime you may want to costumize the segmentation.\n",
    "# Learn more: https://web.stanford.edu/~jurafsky/slp3/2.pdf"
   ]
  },
  {
   "cell_type": "markdown",
   "metadata": {
    "colab_type": "text",
    "id": "fW2XjFinGrDr"
   },
   "source": [
    "## Stemming or lemmatising"
   ]
  },
  {
   "cell_type": "markdown",
   "metadata": {
    "colab_type": "text",
    "id": "_2ZmB0lrO7YW"
   },
   "source": [
    "**Stemming**: Stripping the word down to it's central meaning (it's stem) by removing affixes. Stemming usually only removes suffixes (i.e. affixes at the end of the words).\n",
    "\n",
    "E.g.: \n",
    "\n",
    "sings --> sing\n",
    "\n",
    "laughing --> laugh\n",
    "\n",
    "wonderful --> wonder\n",
    "\n",
    "\n",
    "**Lemmatizing**: \"the task of determining that two words have the same root, despite their surface differences. For example, the words sang, sung, and sings are forms of the verb sing. The word sing is the common lemma of these words, and a lemmatizer maps from all of these to sing.\" (Jurafsky, D., & Martin, J. H., 2019. Chap. 2, p. 2)\n"
   ]
  },
  {
   "cell_type": "code",
   "execution_count": 13,
   "metadata": {
    "colab": {
     "base_uri": "https://localhost:8080/",
     "height": 71
    },
    "colab_type": "code",
    "id": "eYVlrxLPG_bo",
    "outputId": "10866ba8-d268-4285-fe1a-784418aa71bc",
    "scrolled": true
   },
   "outputs": [
    {
     "name": "stdout",
     "output_type": "stream",
     "text": [
      "['Forbidden', 'Siren', 'is', 'based', 'upon', 'the', 'Siren', '2', 'Playstation', '2', '(', 'so', 'many', '2s', ')', 'game', '.', 'Like', 'most', 'video', 'game', 'turned', 'movies', ',', 'I', 'would', 'say', 'the', 'majority', 'do', \"n't\", 'translate', 'into', 'a', 'different', 'medium', 'really', 'well', '.', 'And', 'that', 'goes', 'for', 'this', 'one', 'too', ',', 'painfully.', '<', 'br', '/', '>', '<', 'br', '/', '>', 'There', \"'s\", 'a', 'pretty', 'long', 'prologue', 'which', 'explains', 'and', 'sets', 'the', 'premise', 'for', 'the', 'story', ',', 'and', 'the', 'mysterious', 'island', 'on', 'which', 'a', 'writer', '(', 'Leo', 'Morimoto', ')', 'and', 'his', 'children', ',', 'daughter', 'Yuki', '(', 'Yui', 'Ichikawa', ')', 'and', 'son', 'Hideo', '(', 'Jun', 'Nishiyama', ')', 'come', 'to', 'move', 'into', '.', 'The', 'villagers', 'do', \"n't\", 'look', 'all', 'too', 'friendly', ',', 'and', 'soon', 'enough', ',', 'sound', 'advice', 'is', 'given', 'about', 'the', 'siren', 'on', 'the', 'island', ',', 'to', 'stay', 'indoors', 'once', 'the', 'siren', 'starts', 'wailing.', '<', 'br', '/', '>', '<', 'br', '/', '>', 'Naturally', 'and', 'slowly', ',', 'things', 'start', 'to', 'go', 'bump', ',', 'and', 'our', 'siblings', 'go', 'on', 'a', 'mission', 'beating', 'around', 'the', 'bush', 'to', 'discover', 'exactly', 'what', 'is', 'happening', 'on', 'this', 'unfriendly', 'island', 'with', 'its', 'strange', 'inhabitants', '.', 'But', 'in', 'truth', ',', 'you', 'will', 'not', 'bother', 'with', 'what', \"'s\", 'going', 'on', ',', 'as', 'folklore', 'and', 'fairy', 'tales', 'get', 'thrown', 'in', 'to', 'convolute', 'the', 'plot', 'even', 'more', '.', 'What', 'was', 'really', 'pushing', 'it', 'into', 'the', 'realm', 'of', 'bad', 'comedy', 'are', 'its', 'unwittingly', 'ill-placed-out-of-the-norm', 'moments', 'which', 'just', 'drew', 'pitiful', 'giggles', 'at', 'its', 'sheer', 'stupidity', ',', 'until', 'it', \"'s\", 'explained', 'much', 'later', '.', 'It', \"'s\", 'one', 'thing', 'trying', 'to', 'come', 'up', 'and', 'present', 'something', 'smart', ',', 'but', 'another', 'thing', 'doing', 'it', 'convincingly', 'and', 'with', 'loopholes', 'covered.', '<', 'br', '/', '>', '<', 'br', '/', '>', 'Despite', 'it', 'clocking', 'in', 'under', '90', 'minutes', '-', 'I', 'think', 'it', \"'s\", 'a', 'horror', 'movie', 'phenomenon', 'to', 'have', 'that', 'as', 'a', 'runtime', 'benchmark', '-', 'it', 'gives', 'that', 'almost', 'two', 'hour', 'feel', 'with', 'its', 'slow', 'buildup', 'to', 'tell', 'what', 'it', 'wants', 'to', '.', 'Things', 'begin', 'to', 'pick', 'up', 'toward', 'the', 'last', '20', 'minutes', ',', 'but', 'it', \"'s\", 'a', 'classic', 'case', 'of', 'too', 'little', 'too', 'late.', '<', 'br', '/', '>', '<', 'br', '/', '>', 'What', 'saves', 'the', 'movie', 'is', 'how', 'it', 'changes', 'tack', 'and', 'its', 'revelation', 'at', 'the', 'end', '.', 'Again', 'this', 'is', 'a', 'common', 'device', 'used', 'to', 'try', 'and', 'elevate', 'a', 'seemingly', 'simple', 'horror', 'movie', 'into', 'something', 'a', 'little', 'bit', 'extra', 'in', 'the', 'hope', 'of', 'wowing', 'an', 'audience', '.', 'It', 'turned', 'out', 'rather', 'satisfactorily', ',', 'but', 'leaves', 'a', 'bad', 'aftertaste', 'as', 'you', \"'ll\", 'feel', 'cheated', 'somewhat', '.', 'There', 'are', 'two', 'ways', 'a', 'twist', 'will', 'make', 'you', 'feel', '-', 'it', 'either', 'elevates', 'the', 'movie', 'to', 'a', 'memorable', 'level', ',', 'or', 'provides', 'you', 'with', 'that', 'hokey', 'feeling', '.', 'Unfortunately', 'Forbidden', 'Siren', 'belonged', 'more', 'to', 'the', 'latter.', '<', 'br', '/', '>', '<', 'br', '/', '>', 'The', 'saving', 'grace', 'will', 'be', 'its', 'cinematography', 'with', 'its', 'use', 'of', 'light', ',', 'shadows', 'and', 'mirrors', ',', 'but', 'I', 'will', 'be', 'that', 'explicit', '-', 'it', \"'s\", 'still', 'not', 'worth', 'the', 'time', ',', 'so', 'better', 'to', 'avoid', 'this', '.']\n",
      "['Forbidden', 'Siren', 'i', 'bas', 'upon', 'the', 'Siren', '2', 'Playstation', '2', '(', 'so', 'many', '2', ')', 'game', '.', 'Like', 'most', 'video', 'game', 'turn', 'mov', ',', 'I', 'would', 'say', 'the', 'majority', 'do', \"n't\", 'translate', 'into', 'a', 'different', 'medium', 'real', 'well', '.', 'And', 'that', 'go', 'for', 'thi', 'one', 'too', ',', 'painfully.', '<', 'br', '/', '>', '<', 'br', '/', '>', 'There', \"'\", 'a', 'pretty', 'long', 'prologue', 'which', 'explain', 'and', 'set', 'the', 'premise', 'for', 'the', 'story', ',', 'and', 'the', 'myster', 'island', 'on', 'which', 'a', 'writer', '(', 'Leo', 'Morimoto', ')', 'and', 'hi', 'children', ',', 'daughter', 'Yuki', '(', 'Yui', 'Ichikawa', ')', 'and', 'son', 'Hideo', '(', 'Jun', 'Nishiyama', ')', 'come', 'to', 'move', 'into', '.', 'The', 'villager', 'do', \"n't\", 'look', 'all', 'too', 'friend', ',', 'and', 'soon', 'enough', ',', 'sound', 'advice', 'i', 'given', 'about', 'the', 'siren', 'on', 'the', 'island', ',', 'to', 'stay', 'indoor', 'once', 'the', 'siren', 'start', 'wailing.', '<', 'br', '/', '>', '<', 'br', '/', '>', 'Natural', 'and', 'slow', ',', 'thing', 'start', 'to', 'go', 'bump', ',', 'and', 'our', 'sibling', 'go', 'on', 'a', 'mission', 'beat', 'around', 'the', 'bush', 'to', 'discover', 'exact', 'what', 'i', 'happen', 'on', 'thi', 'unfriend', 'island', 'with', 'it', 'strange', 'inhabitant', '.', 'But', 'in', 'truth', ',', 'you', 'will', 'not', 'bother', 'with', 'what', \"'\", 'go', 'on', ',', 'a', 'folklore', 'and', 'fairy', 'tal', 'get', 'thrown', 'in', 'to', 'convolute', 'the', 'plot', 'even', 'more', '.', 'What', 'wa', 'real', 'push', 'it', 'into', 'the', 'realm', 'of', 'bad', 'comedy', 'are', 'it', 'unwitting', 'ill-placed-out-of-the-norm', 'moment', 'which', 'just', 'drew', 'pitiful', 'giggl', 'at', 'it', 'sheer', 'stupidity', ',', 'until', 'it', \"'\", 'explain', 'much', 'later', '.', 'It', \"'\", 'one', 'th', 'try', 'to', 'come', 'up', 'and', 'present', 'someth', 'smart', ',', 'but', 'another', 'th', 'do', 'it', 'convincing', 'and', 'with', 'loophol', 'covered.', '<', 'br', '/', '>', '<', 'br', '/', '>', 'Despite', 'it', 'clock', 'in', 'under', '90', 'minut', '-', 'I', 'think', 'it', \"'\", 'a', 'horror', 'movie', 'phenomenon', 'to', 'have', 'that', 'a', 'a', 'runtime', 'benchmark', '-', 'it', 'giv', 'that', 'almost', 'two', 'hour', 'feel', 'with', 'it', 'slow', 'buildup', 'to', 'tell', 'what', 'it', 'want', 'to', '.', 'Thing', 'begin', 'to', 'pick', 'up', 'toward', 'the', 'last', '20', 'minut', ',', 'but', 'it', \"'\", 'a', 'classic', 'case', 'of', 'too', 'little', 'too', 'late.', '<', 'br', '/', '>', '<', 'br', '/', '>', 'What', 'sav', 'the', 'movie', 'i', 'how', 'it', 'chang', 'tack', 'and', 'it', 'revelation', 'at', 'the', 'end', '.', 'Again', 'thi', 'i', 'a', 'common', 'device', 'us', 'to', 'try', 'and', 'elevate', 'a', 'seeming', 'simple', 'horror', 'movie', 'into', 'someth', 'a', 'little', 'bit', 'extra', 'in', 'the', 'hope', 'of', 'wow', 'an', 'audience', '.', 'It', 'turn', 'out', 'rather', 'satisfactori', ',', 'but', 'leav', 'a', 'bad', 'aftertaste', 'a', 'you', \"'ll\", 'feel', 'cheat', 'somewhat', '.', 'There', 'are', 'two', 'way', 'a', 'twist', 'will', 'make', 'you', 'feel', '-', 'it', 'either', 'elevat', 'the', 'movie', 'to', 'a', 'memorable', 'level', ',', 'or', 'provid', 'you', 'with', 'that', 'hokey', 'feel', '.', 'Unfortunate', 'Forbidden', 'Siren', 'belong', 'more', 'to', 'the', 'latter.', '<', 'br', '/', '>', '<', 'br', '/', '>', 'The', 'sav', 'grace', 'will', 'be', 'it', 'cinematography', 'with', 'it', 'use', 'of', 'light', ',', 'shadow', 'and', 'mirror', ',', 'but', 'I', 'will', 'be', 'that', 'explicit', '-', 'it', \"'\", 'still', 'not', 'worth', 'the', 'time', ',', 'so', 'better', 'to', 'avoid', 'thi', '.']\n"
     ]
    }
   ],
   "source": [
    "def stem(word):\n",
    "    # find suffixes and return stems\n",
    "    # (.*?) matches any character in front of a word (non greedy version)\n",
    "    regexp = r'^(.*?)(ing|ly|ed|ious|ies|ive|es|s|ment)?$'\n",
    "    stem, suffix = re.findall(regexp, word)[0]\n",
    "    return stem\n",
    "\n",
    "# Tokenize the text first\n",
    "tokens = nltk.word_tokenize(sentence)\n",
    "print(tokens)\n",
    "\n",
    "print([stem(t) for t in tokens]) # hmm not so good"
   ]
  },
  {
   "cell_type": "code",
   "execution_count": 14,
   "metadata": {
    "colab": {
     "base_uri": "https://localhost:8080/",
     "height": 71
    },
    "colab_type": "code",
    "id": "xhdCmmadOP9e",
    "outputId": "4c4fd319-61a3-437a-8c14-64d407642355",
    "scrolled": false
   },
   "outputs": [
    {
     "name": "stdout",
     "output_type": "stream",
     "text": [
      "['forbidden', 'siren', 'is', 'base', 'upon', 'the', 'siren', '2', 'playstat', '2', '(', 'so', 'mani', '2s', ')', 'game', '.', 'like', 'most', 'video', 'game', 'turn', 'movi', ',', 'i', 'would', 'say', 'the', 'major', 'do', \"n't\", 'translat', 'into', 'a', 'differ', 'medium', 'realli', 'well', '.', 'and', 'that', 'goe', 'for', 'thi', 'one', 'too', ',', 'painfully.', '<', 'br', '/', '>', '<', 'br', '/', '>', 'there', \"'s\", 'a', 'pretti', 'long', 'prologu', 'which', 'explain', 'and', 'set', 'the', 'premis', 'for', 'the', 'stori', ',', 'and', 'the', 'mysteri', 'island', 'on', 'which', 'a', 'writer', '(', 'leo', 'morimoto', ')', 'and', 'hi', 'children', ',', 'daughter', 'yuki', '(', 'yui', 'ichikawa', ')', 'and', 'son', 'hideo', '(', 'jun', 'nishiyama', ')', 'come', 'to', 'move', 'into', '.', 'the', 'villag', 'do', \"n't\", 'look', 'all', 'too', 'friendli', ',', 'and', 'soon', 'enough', ',', 'sound', 'advic', 'is', 'given', 'about', 'the', 'siren', 'on', 'the', 'island', ',', 'to', 'stay', 'indoor', 'onc', 'the', 'siren', 'start', 'wailing.', '<', 'br', '/', '>', '<', 'br', '/', '>', 'natur', 'and', 'slowli', ',', 'thing', 'start', 'to', 'go', 'bump', ',', 'and', 'our', 'sibl', 'go', 'on', 'a', 'mission', 'beat', 'around', 'the', 'bush', 'to', 'discov', 'exactli', 'what', 'is', 'happen', 'on', 'thi', 'unfriendli', 'island', 'with', 'it', 'strang', 'inhabit', '.', 'but', 'in', 'truth', ',', 'you', 'will', 'not', 'bother', 'with', 'what', \"'s\", 'go', 'on', ',', 'as', 'folklor', 'and', 'fairi', 'tale', 'get', 'thrown', 'in', 'to', 'convolut', 'the', 'plot', 'even', 'more', '.', 'what', 'wa', 'realli', 'push', 'it', 'into', 'the', 'realm', 'of', 'bad', 'comedi', 'are', 'it', 'unwittingli', 'ill-placed-out-of-the-norm', 'moment', 'which', 'just', 'drew', 'piti', 'giggl', 'at', 'it', 'sheer', 'stupid', ',', 'until', 'it', \"'s\", 'explain', 'much', 'later', '.', 'it', \"'s\", 'one', 'thing', 'tri', 'to', 'come', 'up', 'and', 'present', 'someth', 'smart', ',', 'but', 'anoth', 'thing', 'do', 'it', 'convincingli', 'and', 'with', 'loophol', 'covered.', '<', 'br', '/', '>', '<', 'br', '/', '>', 'despit', 'it', 'clock', 'in', 'under', '90', 'minut', '-', 'i', 'think', 'it', \"'s\", 'a', 'horror', 'movi', 'phenomenon', 'to', 'have', 'that', 'as', 'a', 'runtim', 'benchmark', '-', 'it', 'give', 'that', 'almost', 'two', 'hour', 'feel', 'with', 'it', 'slow', 'buildup', 'to', 'tell', 'what', 'it', 'want', 'to', '.', 'thing', 'begin', 'to', 'pick', 'up', 'toward', 'the', 'last', '20', 'minut', ',', 'but', 'it', \"'s\", 'a', 'classic', 'case', 'of', 'too', 'littl', 'too', 'late.', '<', 'br', '/', '>', '<', 'br', '/', '>', 'what', 'save', 'the', 'movi', 'is', 'how', 'it', 'chang', 'tack', 'and', 'it', 'revel', 'at', 'the', 'end', '.', 'again', 'thi', 'is', 'a', 'common', 'devic', 'use', 'to', 'tri', 'and', 'elev', 'a', 'seemingli', 'simpl', 'horror', 'movi', 'into', 'someth', 'a', 'littl', 'bit', 'extra', 'in', 'the', 'hope', 'of', 'wow', 'an', 'audienc', '.', 'it', 'turn', 'out', 'rather', 'satisfactorili', ',', 'but', 'leav', 'a', 'bad', 'aftertast', 'as', 'you', \"'ll\", 'feel', 'cheat', 'somewhat', '.', 'there', 'are', 'two', 'way', 'a', 'twist', 'will', 'make', 'you', 'feel', '-', 'it', 'either', 'elev', 'the', 'movi', 'to', 'a', 'memor', 'level', ',', 'or', 'provid', 'you', 'with', 'that', 'hokey', 'feel', '.', 'unfortun', 'forbidden', 'siren', 'belong', 'more', 'to', 'the', 'latter.', '<', 'br', '/', '>', '<', 'br', '/', '>', 'the', 'save', 'grace', 'will', 'be', 'it', 'cinematographi', 'with', 'it', 'use', 'of', 'light', ',', 'shadow', 'and', 'mirror', ',', 'but', 'i', 'will', 'be', 'that', 'explicit', '-', 'it', \"'s\", 'still', 'not', 'worth', 'the', 'time', ',', 'so', 'better', 'to', 'avoid', 'thi', '.']\n"
     ]
    }
   ],
   "source": [
    "# using NLTK's Porter stemmer\n",
    "porter = nltk.PorterStemmer()\n",
    "#print(sentence)\n",
    "print([porter.stem(t) for t in tokens])"
   ]
  },
  {
   "cell_type": "code",
   "execution_count": 15,
   "metadata": {
    "colab": {
     "base_uri": "https://localhost:8080/",
     "height": 71
    },
    "colab_type": "code",
    "id": "0AFQaZQxOwtn",
    "outputId": "ae113ba5-d288-4afa-da40-68532d904b1d",
    "scrolled": true
   },
   "outputs": [
    {
     "name": "stdout",
     "output_type": "stream",
     "text": [
      "['Forbidden', 'Siren', 'is', 'based', 'upon', 'the', 'Siren', '2', 'Playstation', '2', '(', 'so', 'many', '2s', ')', 'game', '.', 'Like', 'most', 'video', 'game', 'turned', 'movies', ',', 'I', 'would', 'say', 'the', 'majority', 'do', \"n't\", 'translate', 'into', 'a', 'different', 'medium', 'really', 'well', '.', 'And', 'that', 'goes', 'for', 'this', 'one', 'too', ',', 'painfully.', '<', 'br', '/', '>', '<', 'br', '/', '>', 'There', \"'s\", 'a', 'pretty', 'long', 'prologue', 'which', 'explains', 'and', 'sets', 'the', 'premise', 'for', 'the', 'story', ',', 'and', 'the', 'mysterious', 'island', 'on', 'which', 'a', 'writer', '(', 'Leo', 'Morimoto', ')', 'and', 'his', 'children', ',', 'daughter', 'Yuki', '(', 'Yui', 'Ichikawa', ')', 'and', 'son', 'Hideo', '(', 'Jun', 'Nishiyama', ')', 'come', 'to', 'move', 'into', '.', 'The', 'villagers', 'do', \"n't\", 'look', 'all', 'too', 'friendly', ',', 'and', 'soon', 'enough', ',', 'sound', 'advice', 'is', 'given', 'about', 'the', 'siren', 'on', 'the', 'island', ',', 'to', 'stay', 'indoors', 'once', 'the', 'siren', 'starts', 'wailing.', '<', 'br', '/', '>', '<', 'br', '/', '>', 'Naturally', 'and', 'slowly', ',', 'things', 'start', 'to', 'go', 'bump', ',', 'and', 'our', 'siblings', 'go', 'on', 'a', 'mission', 'beating', 'around', 'the', 'bush', 'to', 'discover', 'exactly', 'what', 'is', 'happening', 'on', 'this', 'unfriendly', 'island', 'with', 'its', 'strange', 'inhabitants', '.', 'But', 'in', 'truth', ',', 'you', 'will', 'not', 'bother', 'with', 'what', \"'s\", 'going', 'on', ',', 'as', 'folklore', 'and', 'fairy', 'tales', 'get', 'thrown', 'in', 'to', 'convolute', 'the', 'plot', 'even', 'more', '.', 'What', 'was', 'really', 'pushing', 'it', 'into', 'the', 'realm', 'of', 'bad', 'comedy', 'are', 'its', 'unwittingly', 'ill-placed-out-of-the-norm', 'moments', 'which', 'just', 'drew', 'pitiful', 'giggles', 'at', 'its', 'sheer', 'stupidity', ',', 'until', 'it', \"'s\", 'explained', 'much', 'later', '.', 'It', \"'s\", 'one', 'thing', 'trying', 'to', 'come', 'up', 'and', 'present', 'something', 'smart', ',', 'but', 'another', 'thing', 'doing', 'it', 'convincingly', 'and', 'with', 'loopholes', 'covered.', '<', 'br', '/', '>', '<', 'br', '/', '>', 'Despite', 'it', 'clocking', 'in', 'under', '90', 'minutes', '-', 'I', 'think', 'it', \"'s\", 'a', 'horror', 'movie', 'phenomenon', 'to', 'have', 'that', 'as', 'a', 'runtime', 'benchmark', '-', 'it', 'gives', 'that', 'almost', 'two', 'hour', 'feel', 'with', 'its', 'slow', 'buildup', 'to', 'tell', 'what', 'it', 'wants', 'to', '.', 'Things', 'begin', 'to', 'pick', 'up', 'toward', 'the', 'last', '20', 'minutes', ',', 'but', 'it', \"'s\", 'a', 'classic', 'case', 'of', 'too', 'little', 'too', 'late.', '<', 'br', '/', '>', '<', 'br', '/', '>', 'What', 'saves', 'the', 'movie', 'is', 'how', 'it', 'changes', 'tack', 'and', 'its', 'revelation', 'at', 'the', 'end', '.', 'Again', 'this', 'is', 'a', 'common', 'device', 'used', 'to', 'try', 'and', 'elevate', 'a', 'seemingly', 'simple', 'horror', 'movie', 'into', 'something', 'a', 'little', 'bit', 'extra', 'in', 'the', 'hope', 'of', 'wowing', 'an', 'audience', '.', 'It', 'turned', 'out', 'rather', 'satisfactorily', ',', 'but', 'leaves', 'a', 'bad', 'aftertaste', 'as', 'you', \"'ll\", 'feel', 'cheated', 'somewhat', '.', 'There', 'are', 'two', 'ways', 'a', 'twist', 'will', 'make', 'you', 'feel', '-', 'it', 'either', 'elevates', 'the', 'movie', 'to', 'a', 'memorable', 'level', ',', 'or', 'provides', 'you', 'with', 'that', 'hokey', 'feeling', '.', 'Unfortunately', 'Forbidden', 'Siren', 'belonged', 'more', 'to', 'the', 'latter.', '<', 'br', '/', '>', '<', 'br', '/', '>', 'The', 'saving', 'grace', 'will', 'be', 'its', 'cinematography', 'with', 'its', 'use', 'of', 'light', ',', 'shadows', 'and', 'mirrors', ',', 'but', 'I', 'will', 'be', 'that', 'explicit', '-', 'it', \"'s\", 'still', 'not', 'worth', 'the', 'time', ',', 'so', 'better', 'to', 'avoid', 'this', '.']\n",
      "['Forbidden', 'Siren', 'is', 'based', 'upon', 'the', 'Siren', '2', 'Playstation', '2', '(', 'so', 'many', '2', ')', 'game', '.', 'Like', 'most', 'video', 'game', 'turned', 'movie', ',', 'I', 'would', 'say', 'the', 'majority', 'do', \"n't\", 'translate', 'into', 'a', 'different', 'medium', 'really', 'well', '.', 'And', 'that', 'go', 'for', 'this', 'one', 'too', ',', 'painfully.', '<', 'br', '/', '>', '<', 'br', '/', '>', 'There', \"'s\", 'a', 'pretty', 'long', 'prologue', 'which', 'explains', 'and', 'set', 'the', 'premise', 'for', 'the', 'story', ',', 'and', 'the', 'mysterious', 'island', 'on', 'which', 'a', 'writer', '(', 'Leo', 'Morimoto', ')', 'and', 'his', 'child', ',', 'daughter', 'Yuki', '(', 'Yui', 'Ichikawa', ')', 'and', 'son', 'Hideo', '(', 'Jun', 'Nishiyama', ')', 'come', 'to', 'move', 'into', '.', 'The', 'villager', 'do', \"n't\", 'look', 'all', 'too', 'friendly', ',', 'and', 'soon', 'enough', ',', 'sound', 'advice', 'is', 'given', 'about', 'the', 'siren', 'on', 'the', 'island', ',', 'to', 'stay', 'indoors', 'once', 'the', 'siren', 'start', 'wailing.', '<', 'br', '/', '>', '<', 'br', '/', '>', 'Naturally', 'and', 'slowly', ',', 'thing', 'start', 'to', 'go', 'bump', ',', 'and', 'our', 'sibling', 'go', 'on', 'a', 'mission', 'beating', 'around', 'the', 'bush', 'to', 'discover', 'exactly', 'what', 'is', 'happening', 'on', 'this', 'unfriendly', 'island', 'with', 'it', 'strange', 'inhabitant', '.', 'But', 'in', 'truth', ',', 'you', 'will', 'not', 'bother', 'with', 'what', \"'s\", 'going', 'on', ',', 'a', 'folklore', 'and', 'fairy', 'tale', 'get', 'thrown', 'in', 'to', 'convolute', 'the', 'plot', 'even', 'more', '.', 'What', 'wa', 'really', 'pushing', 'it', 'into', 'the', 'realm', 'of', 'bad', 'comedy', 'are', 'it', 'unwittingly', 'ill-placed-out-of-the-norm', 'moment', 'which', 'just', 'drew', 'pitiful', 'giggle', 'at', 'it', 'sheer', 'stupidity', ',', 'until', 'it', \"'s\", 'explained', 'much', 'later', '.', 'It', \"'s\", 'one', 'thing', 'trying', 'to', 'come', 'up', 'and', 'present', 'something', 'smart', ',', 'but', 'another', 'thing', 'doing', 'it', 'convincingly', 'and', 'with', 'loophole', 'covered.', '<', 'br', '/', '>', '<', 'br', '/', '>', 'Despite', 'it', 'clocking', 'in', 'under', '90', 'minute', '-', 'I', 'think', 'it', \"'s\", 'a', 'horror', 'movie', 'phenomenon', 'to', 'have', 'that', 'a', 'a', 'runtime', 'benchmark', '-', 'it', 'give', 'that', 'almost', 'two', 'hour', 'feel', 'with', 'it', 'slow', 'buildup', 'to', 'tell', 'what', 'it', 'want', 'to', '.', 'Things', 'begin', 'to', 'pick', 'up', 'toward', 'the', 'last', '20', 'minute', ',', 'but', 'it', \"'s\", 'a', 'classic', 'case', 'of', 'too', 'little', 'too', 'late.', '<', 'br', '/', '>', '<', 'br', '/', '>', 'What', 'save', 'the', 'movie', 'is', 'how', 'it', 'change', 'tack', 'and', 'it', 'revelation', 'at', 'the', 'end', '.', 'Again', 'this', 'is', 'a', 'common', 'device', 'used', 'to', 'try', 'and', 'elevate', 'a', 'seemingly', 'simple', 'horror', 'movie', 'into', 'something', 'a', 'little', 'bit', 'extra', 'in', 'the', 'hope', 'of', 'wowing', 'an', 'audience', '.', 'It', 'turned', 'out', 'rather', 'satisfactorily', ',', 'but', 'leaf', 'a', 'bad', 'aftertaste', 'a', 'you', \"'ll\", 'feel', 'cheated', 'somewhat', '.', 'There', 'are', 'two', 'way', 'a', 'twist', 'will', 'make', 'you', 'feel', '-', 'it', 'either', 'elevates', 'the', 'movie', 'to', 'a', 'memorable', 'level', ',', 'or', 'provides', 'you', 'with', 'that', 'hokey', 'feeling', '.', 'Unfortunately', 'Forbidden', 'Siren', 'belonged', 'more', 'to', 'the', 'latter.', '<', 'br', '/', '>', '<', 'br', '/', '>', 'The', 'saving', 'grace', 'will', 'be', 'it', 'cinematography', 'with', 'it', 'use', 'of', 'light', ',', 'shadow', 'and', 'mirror', ',', 'but', 'I', 'will', 'be', 'that', 'explicit', '-', 'it', \"'s\", 'still', 'not', 'worth', 'the', 'time', ',', 'so', 'better', 'to', 'avoid', 'this', '.']\n"
     ]
    }
   ],
   "source": [
    "# using the WordNet lemmatizer through NLTK\n",
    "# WordNet is a large lexical database of English (think \"lexicon\")\n",
    "wnl = nltk.WordNetLemmatizer()\n",
    "print(tokens)\n",
    "print([wnl.lemmatize(t) for t in tokens])\n",
    "# note the differences.. this lemmatizer knows that the word \"based\" does not have the same meaning as \"base\" here. \n",
    "# Seems more comprehensible. Or lot less has actually changed. (examples: \"goes\" became \"go\" and \"villagers\" became \"villager\")"
   ]
  },
  {
   "cell_type": "markdown",
   "metadata": {
    "colab_type": "text",
    "id": "aQKMQ2f0HBk0"
   },
   "source": [
    "## Casing, stopwords, punctuation etc."
   ]
  },
  {
   "cell_type": "code",
   "execution_count": 16,
   "metadata": {
    "colab": {
     "base_uri": "https://localhost:8080/",
     "height": 71
    },
    "colab_type": "code",
    "id": "uJ70y0WhJakr",
    "outputId": "8be7fe9b-05f3-4f23-b63c-377a671448ad",
    "scrolled": true
   },
   "outputs": [
    {
     "name": "stdout",
     "output_type": "stream",
     "text": [
      "forbidden siren is based upon the siren 2 playstation 2 (so many 2s) game. like most video game turned movies, i would say the majority don't translate into a different medium really well. and that goes for this one too, painfully.<br /><br />there's a pretty long prologue which explains and sets the premise for the story, and the mysterious island on which a writer (leo morimoto) and his children, daughter yuki (yui ichikawa) and son hideo (jun nishiyama) come to move into. the villagers don't look all too friendly, and soon enough, sound advice is given about the siren on the island, to stay indoors once the siren starts wailing.<br /><br />naturally and slowly, things start to go bump, and our siblings go on a mission beating around the bush to discover exactly what is happening on this unfriendly island with its strange inhabitants. but in truth, you will not bother with what's going on, as folklore and fairy tales get thrown in to convolute the plot even more. what was really pushing it into the realm of bad comedy are its unwittingly ill-placed-out-of-the-norm moments which just drew pitiful giggles at its sheer stupidity, until it's explained much later. it's one thing trying to come up and present something smart, but another thing doing it convincingly and with loopholes covered.<br /><br />despite it clocking in under 90 minutes - i think it's a horror movie phenomenon to have that as a runtime benchmark - it gives that almost two hour feel with its slow buildup to tell what it wants to. things begin to pick up toward the last 20 minutes, but it's a classic case of too little too late.<br /><br />what saves the movie is how it changes tack and its revelation at the end. again this is a common device used to try and elevate a seemingly simple horror movie into something a little bit extra in the hope of wowing an audience. it turned out rather satisfactorily, but leaves a bad aftertaste as you'll feel cheated somewhat. there are two ways a twist will make you feel - it either elevates the movie to a memorable level, or provides you with that hokey feeling. unfortunately forbidden siren belonged more to the latter.<br /><br />the saving grace will be its cinematography with its use of light, shadows and mirrors, but i will be that explicit - it's still not worth the time, so better to avoid this.\n",
      "['forbidden', 'siren', 'is', 'based', 'upon', 'the', 'siren', '2', 'playstation', '2', '(', 'so', 'many', '2s', ')', 'game', '.', 'like', 'most', 'video', 'game', 'turned', 'movies', ',', 'i', 'would', 'say', 'the', 'majority', 'do', \"n't\", 'translate', 'into', 'a', 'different', 'medium', 'really', 'well', '.', 'and', 'that', 'goes', 'for', 'this', 'one', 'too', ',', 'painfully.', '<', 'br', '/', '>', '<', 'br', '/', '>', 'there', \"'s\", 'a', 'pretty', 'long', 'prologue', 'which', 'explains', 'and', 'sets', 'the', 'premise', 'for', 'the', 'story', ',', 'and', 'the', 'mysterious', 'island', 'on', 'which', 'a', 'writer', '(', 'leo', 'morimoto', ')', 'and', 'his', 'children', ',', 'daughter', 'yuki', '(', 'yui', 'ichikawa', ')', 'and', 'son', 'hideo', '(', 'jun', 'nishiyama', ')', 'come', 'to', 'move', 'into', '.', 'the', 'villagers', 'do', \"n't\", 'look', 'all', 'too', 'friendly', ',', 'and', 'soon', 'enough', ',', 'sound', 'advice', 'is', 'given', 'about', 'the', 'siren', 'on', 'the', 'island', ',', 'to', 'stay', 'indoors', 'once', 'the', 'siren', 'starts', 'wailing.', '<', 'br', '/', '>', '<', 'br', '/', '>', 'naturally', 'and', 'slowly', ',', 'things', 'start', 'to', 'go', 'bump', ',', 'and', 'our', 'siblings', 'go', 'on', 'a', 'mission', 'beating', 'around', 'the', 'bush', 'to', 'discover', 'exactly', 'what', 'is', 'happening', 'on', 'this', 'unfriendly', 'island', 'with', 'its', 'strange', 'inhabitants', '.', 'but', 'in', 'truth', ',', 'you', 'will', 'not', 'bother', 'with', 'what', \"'s\", 'going', 'on', ',', 'as', 'folklore', 'and', 'fairy', 'tales', 'get', 'thrown', 'in', 'to', 'convolute', 'the', 'plot', 'even', 'more', '.', 'what', 'was', 'really', 'pushing', 'it', 'into', 'the', 'realm', 'of', 'bad', 'comedy', 'are', 'its', 'unwittingly', 'ill-placed-out-of-the-norm', 'moments', 'which', 'just', 'drew', 'pitiful', 'giggles', 'at', 'its', 'sheer', 'stupidity', ',', 'until', 'it', \"'s\", 'explained', 'much', 'later', '.', 'it', \"'s\", 'one', 'thing', 'trying', 'to', 'come', 'up', 'and', 'present', 'something', 'smart', ',', 'but', 'another', 'thing', 'doing', 'it', 'convincingly', 'and', 'with', 'loopholes', 'covered.', '<', 'br', '/', '>', '<', 'br', '/', '>', 'despite', 'it', 'clocking', 'in', 'under', '90', 'minutes', '-', 'i', 'think', 'it', \"'s\", 'a', 'horror', 'movie', 'phenomenon', 'to', 'have', 'that', 'as', 'a', 'runtime', 'benchmark', '-', 'it', 'gives', 'that', 'almost', 'two', 'hour', 'feel', 'with', 'its', 'slow', 'buildup', 'to', 'tell', 'what', 'it', 'wants', 'to', '.', 'things', 'begin', 'to', 'pick', 'up', 'toward', 'the', 'last', '20', 'minutes', ',', 'but', 'it', \"'s\", 'a', 'classic', 'case', 'of', 'too', 'little', 'too', 'late.', '<', 'br', '/', '>', '<', 'br', '/', '>', 'what', 'saves', 'the', 'movie', 'is', 'how', 'it', 'changes', 'tack', 'and', 'its', 'revelation', 'at', 'the', 'end', '.', 'again', 'this', 'is', 'a', 'common', 'device', 'used', 'to', 'try', 'and', 'elevate', 'a', 'seemingly', 'simple', 'horror', 'movie', 'into', 'something', 'a', 'little', 'bit', 'extra', 'in', 'the', 'hope', 'of', 'wowing', 'an', 'audience', '.', 'it', 'turned', 'out', 'rather', 'satisfactorily', ',', 'but', 'leaves', 'a', 'bad', 'aftertaste', 'as', 'you', \"'ll\", 'feel', 'cheated', 'somewhat', '.', 'there', 'are', 'two', 'ways', 'a', 'twist', 'will', 'make', 'you', 'feel', '-', 'it', 'either', 'elevates', 'the', 'movie', 'to', 'a', 'memorable', 'level', ',', 'or', 'provides', 'you', 'with', 'that', 'hokey', 'feeling', '.', 'unfortunately', 'forbidden', 'siren', 'belonged', 'more', 'to', 'the', 'latter.', '<', 'br', '/', '>', '<', 'br', '/', '>', 'the', 'saving', 'grace', 'will', 'be', 'its', 'cinematography', 'with', 'its', 'use', 'of', 'light', ',', 'shadows', 'and', 'mirrors', ',', 'but', 'i', 'will', 'be', 'that', 'explicit', '-', 'it', \"'s\", 'still', 'not', 'worth', 'the', 'time', ',', 'so', 'better', 'to', 'avoid', 'this', '.']\n"
     ]
    }
   ],
   "source": [
    "# Casing (lower casing is normal procedure such that the word \". That\", after a punctuation, and \"that\" are not treated as two seperate features.\n",
    "sent = sentence.lower()\n",
    "print(sent)\n",
    "# Note: you may want some exceptions, e.g. distinction between US and us can be important for some tasks.\n",
    "\n",
    "\n",
    "# lowercase and then tokenize all texts in the training set – in one list comprehension (takes a minute or two):\n",
    "train_sents = [nltk.word_tokenize(i.lower()) for i in df_train.review.values]\n",
    "print(train_sents[0])\n",
    "# And do the same with the test set\n",
    "test_sents = [nltk.word_tokenize(i.lower()) for i in df_test.review.values]\n"
   ]
  },
  {
   "cell_type": "code",
   "execution_count": 17,
   "metadata": {
    "colab": {
     "base_uri": "https://localhost:8080/",
     "height": 71
    },
    "colab_type": "code",
    "id": "OebDZy9nqBi0",
    "outputId": "7393e23d-23bb-46f5-9c33-27a2291d7249",
    "scrolled": true
   },
   "outputs": [
    {
     "name": "stdout",
     "output_type": "stream",
     "text": [
      "['i', 'me', 'my', 'myself', 'we', 'our', 'ours', 'ourselves', 'you', \"you're\", \"you've\", \"you'll\", \"you'd\", 'your', 'yours', 'yourself', 'yourselves', 'he', 'him', 'his', 'himself', 'she', \"she's\", 'her', 'hers', 'herself', 'it', \"it's\", 'its', 'itself', 'they', 'them', 'their', 'theirs', 'themselves', 'what', 'which', 'who', 'whom', 'this', 'that', \"that'll\", 'these', 'those', 'am', 'is', 'are', 'was', 'were', 'be', 'been', 'being', 'have', 'has', 'had', 'having', 'do', 'does', 'did', 'doing', 'a', 'an', 'the', 'and', 'but', 'if', 'or', 'because', 'as', 'until', 'while', 'of', 'at', 'by', 'for', 'with', 'about', 'against', 'between', 'into', 'through', 'during', 'before', 'after', 'above', 'below', 'to', 'from', 'up', 'down', 'in', 'out', 'on', 'off', 'over', 'under', 'again', 'further', 'then', 'once', 'here', 'there', 'when', 'where', 'why', 'how', 'all', 'any', 'both', 'each', 'few', 'more', 'most', 'other', 'some', 'such', 'no', 'nor', 'not', 'only', 'own', 'same', 'so', 'than', 'too', 'very', 's', 't', 'can', 'will', 'just', 'don', \"don't\", 'should', \"should've\", 'now', 'd', 'll', 'm', 'o', 're', 've', 'y', 'ain', 'aren', \"aren't\", 'couldn', \"couldn't\", 'didn', \"didn't\", 'doesn', \"doesn't\", 'hadn', \"hadn't\", 'hasn', \"hasn't\", 'haven', \"haven't\", 'isn', \"isn't\", 'ma', 'mightn', \"mightn't\", 'mustn', \"mustn't\", 'needn', \"needn't\", 'shan', \"shan't\", 'shouldn', \"shouldn't\", 'wasn', \"wasn't\", 'weren', \"weren't\", 'won', \"won't\", 'wouldn', \"wouldn't\"]\n",
      "\n",
      "['forbidden', 'siren', 'based', 'upon', 'siren', '2', 'playstation', '2', '(', 'many', '2s', ')', 'game', '.', 'like', 'video', 'game', 'turned', 'movies', ',', 'would', 'say', 'majority', \"n't\", 'translate', 'different', 'medium', 'really', 'well', '.', 'goes', 'one', ',', 'painfully.', '<', 'br', '/', '>', '<', 'br', '/', '>', \"'s\", 'pretty', 'long', 'prologue', 'explains', 'sets', 'premise', 'story', ',', 'mysterious', 'island', 'writer', '(', 'leo', 'morimoto', ')', 'children', ',', 'daughter', 'yuki', '(', 'yui', 'ichikawa', ')', 'son', 'hideo', '(', 'jun', 'nishiyama', ')', 'come', 'move', '.', 'villagers', \"n't\", 'look', 'friendly', ',', 'soon', 'enough', ',', 'sound', 'advice', 'given', 'siren', 'island', ',', 'stay', 'indoors', 'siren', 'starts', 'wailing.', '<', 'br', '/', '>', '<', 'br', '/', '>', 'naturally', 'slowly', ',', 'things', 'start', 'go', 'bump', ',', 'siblings', 'go', 'mission', 'beating', 'around', 'bush', 'discover', 'exactly', 'happening', 'unfriendly', 'island', 'strange', 'inhabitants', '.', 'truth', ',', 'bother', \"'s\", 'going', ',', 'folklore', 'fairy', 'tales', 'get', 'thrown', 'convolute', 'plot', 'even', '.', 'really', 'pushing', 'realm', 'bad', 'comedy', 'unwittingly', 'ill-placed-out-of-the-norm', 'moments', 'drew', 'pitiful', 'giggles', 'sheer', 'stupidity', ',', \"'s\", 'explained', 'much', 'later', '.', \"'s\", 'one', 'thing', 'trying', 'come', 'present', 'something', 'smart', ',', 'another', 'thing', 'convincingly', 'loopholes', 'covered.', '<', 'br', '/', '>', '<', 'br', '/', '>', 'despite', 'clocking', '90', 'minutes', '-', 'think', \"'s\", 'horror', 'movie', 'phenomenon', 'runtime', 'benchmark', '-', 'gives', 'almost', 'two', 'hour', 'feel', 'slow', 'buildup', 'tell', 'wants', '.', 'things', 'begin', 'pick', 'toward', 'last', '20', 'minutes', ',', \"'s\", 'classic', 'case', 'little', 'late.', '<', 'br', '/', '>', '<', 'br', '/', '>', 'saves', 'movie', 'changes', 'tack', 'revelation', 'end', '.', 'common', 'device', 'used', 'try', 'elevate', 'seemingly', 'simple', 'horror', 'movie', 'something', 'little', 'bit', 'extra', 'hope', 'wowing', 'audience', '.', 'turned', 'rather', 'satisfactorily', ',', 'leaves', 'bad', 'aftertaste', \"'ll\", 'feel', 'cheated', 'somewhat', '.', 'two', 'ways', 'twist', 'make', 'feel', '-', 'either', 'elevates', 'movie', 'memorable', 'level', ',', 'provides', 'hokey', 'feeling', '.', 'unfortunately', 'forbidden', 'siren', 'belonged', 'latter.', '<', 'br', '/', '>', '<', 'br', '/', '>', 'saving', 'grace', 'cinematography', 'use', 'light', ',', 'shadows', 'mirrors', ',', 'explicit', '-', \"'s\", 'still', 'worth', 'time', ',', 'better', 'avoid', '.']\n"
     ]
    }
   ],
   "source": [
    "# Removing certain words (stopwords)\n",
    "stop_words_list = nltk.corpus.stopwords.words(\"english\")\n",
    "print(stop_words_list)\n",
    "print()\n",
    "sent_sw_removed = [i for i in nltk.word_tokenize(sentence.lower()) if i not in stop_words_list]\n",
    "print(sent_sw_removed)\n",
    "#train_sents_sw_removed = [[i for i in sent if i not in stop_words_list] for sent in train_sents] # nested list comprehension; lists in list.\n",
    "#test_sents_sw_removed = [[i for i in sent if i not in stop_words_list] for sent in test_sents]\n",
    "#print(train_sents_sw_removed[0])\n",
    "\n",
    "# unfortunately the tokenization does not totally align with the stopwords – the simple split at whitespace may be more appropiate before stopword removal.\n"
   ]
  },
  {
   "cell_type": "code",
   "execution_count": 18,
   "metadata": {
    "colab": {
     "base_uri": "https://localhost:8080/",
     "height": 71
    },
    "colab_type": "code",
    "id": "2caJ50E80Bw-",
    "outputId": "3fe72a41-e266-4f11-f0da-dee2d3c61880",
    "scrolled": true
   },
   "outputs": [
    {
     "name": "stdout",
     "output_type": "stream",
     "text": [
      "Forbidden Siren is based upon the Siren 2 Playstation 2 so many 2s game Like most video game turned movies I would say the majority dont translate into a different medium really well And that goes for this one too painfullybr br Theres a pretty long prologue which explains and sets the premise for the story and the mysterious island on which a writer Leo Morimoto and his children daughter Yuki Yui Ichikawa and son Hideo Jun Nishiyama come to move into The villagers dont look all too friendly and soon enough sound advice is given about the siren on the island to stay indoors once the siren starts wailingbr br Naturally and slowly things start to go bump and our siblings go on a mission beating around the bush to discover exactly what is happening on this unfriendly island with its strange inhabitants But in truth you will not bother with whats going on as folklore and fairy tales get thrown in to convolute the plot even more What was really pushing it into the realm of bad comedy are its unwittingly illplacedoutofthenorm moments which just drew pitiful giggles at its sheer stupidity until its explained much later Its one thing trying to come up and present something smart but another thing doing it convincingly and with loopholes coveredbr br Despite it clocking in under 90 minutes  I think its a horror movie phenomenon to have that as a runtime benchmark  it gives that almost two hour feel with its slow buildup to tell what it wants to Things begin to pick up toward the last 20 minutes but its a classic case of too little too latebr br What saves the movie is how it changes tack and its revelation at the end Again this is a common device used to try and elevate a seemingly simple horror movie into something a little bit extra in the hope of wowing an audience It turned out rather satisfactorily but leaves a bad aftertaste as youll feel cheated somewhat There are two ways a twist will make you feel  it either elevates the movie to a memorable level or provides you with that hokey feeling Unfortunately Forbidden Siren belonged more to the latterbr br The saving grace will be its cinematography with its use of light shadows and mirrors but I will be that explicit  its still not worth the time so better to avoid this\n",
      "Forbidden Siren is based upon the Siren 2 Playstation 2 so many 2s game Like most video game turned movies I would say the majority dont translate into a different medium really well And that goes for this one too painfullybr br Theres a pretty long prologue which explains and sets the premise for the story and the mysterious island on which a writer Leo Morimoto and his children daughter Yuki Yui Ichikawa and son Hideo Jun Nishiyama come to move into The villagers dont look all too friendly and soon enough sound advice is given about the siren on the island to stay indoors once the siren starts wailingbr br Naturally and slowly things start to go bump and our siblings go on a mission beating around the bush to discover exactly what is happening on this unfriendly island with its strange inhabitants But in truth you will not bother with whats going on as folklore and fairy tales get thrown in to convolute the plot even more What was really pushing it into the realm of bad comedy are its unwittingly illplacedoutofthenorm moments which just drew pitiful giggles at its sheer stupidity until its explained much later Its one thing trying to come up and present something smart but another thing doing it convincingly and with loopholes coveredbr br Despite it clocking in under 90 minutes  I think its a horror movie phenomenon to have that as a runtime benchmark  it gives that almost two hour feel with its slow buildup to tell what it wants to Things begin to pick up toward the last 20 minutes but its a classic case of too little too latebr br What saves the movie is how it changes tack and its revelation at the end Again this is a common device used to try and elevate a seemingly simple horror movie into something a little bit extra in the hope of wowing an audience It turned out rather satisfactorily but leaves a bad aftertaste as youll feel cheated somewhat There are two ways a twist will make you feel  it either elevates the movie to a memorable level or provides you with that hokey feeling Unfortunately Forbidden Siren belonged more to the latterbr br The saving grace will be its cinematography with its use of light shadows and mirrors but I will be that explicit  its still not worth the time so better to avoid this\n"
     ]
    }
   ],
   "source": [
    "# Removing punctuation, two ways:\n",
    "\n",
    "punct_removed_1 = sentence.translate(str.maketrans('', '', string.punctuation))\n",
    "print(punct_removed_1)\n",
    "\n",
    "#def removePunctuation (word):\n",
    "#    return re.sub(\"[^\\w\\s\\-\\']\", \"\", word)\n",
    "\n",
    "punct_removed_2 = re.sub(r'[^\\w\\s]','',sentence) # learn more about regex at https://www.datacamp.com/community/tutorials/python-regular-expression-tutorial or find a cheat sheet.\n",
    "print(punct_removed_2)"
   ]
  },
  {
   "cell_type": "markdown",
   "metadata": {
    "colab_type": "text",
    "id": "Fqo9iqZnogVQ"
   },
   "source": [
    "## Exercise 1: preprocessing\n",
    "Make a preprocessing function that takes a single string and \n",
    " 1) Lowercase the words,\n",
    " 2) split the text into words (tokenize), \n",
    " 3) either stem or lemmatize words.\n",
    "Feel free to add more steps of preprocessing. For example stopword removal or removal of what seems to be HTML elements (such as \"< br/>\") in the text, and removal of punctuation, and handling of emoticons as in the textbook."
   ]
  },
  {
   "cell_type": "code",
   "execution_count": 19,
   "metadata": {
    "colab": {
     "base_uri": "https://localhost:8080/",
     "height": 54
    },
    "colab_type": "code",
    "id": "kQ9i04yboff0",
    "outputId": "43959584-3fd1-4155-a56a-e992c3b972d6",
    "scrolled": true
   },
   "outputs": [
    {
     "name": "stdout",
     "output_type": "stream",
     "text": [
      "['forbidden', 'siren', 'based', 'upon', 'siren', '2', 'playstation', '2', 'many', '2', 'game', 'like', 'video', 'game', 'turned', 'movie', 'would', 'say', 'majority', 'dont', 'translate', 'different', 'medium', 'really', 'well', 'go', 'one', 'painfully', 'there', 'pretty', 'long', 'prologue', 'explains', 'set', 'premise', 'story', 'mysterious', 'island', 'writer', 'leo', 'morimoto', 'child', 'daughter', 'yuki', 'yui', 'ichikawa', 'son', 'hideo', 'jun', 'nishiyama', 'come', 'move', 'villager', 'dont', 'look', 'friendly', 'soon', 'enough', 'sound', 'advice', 'given', 'siren', 'island', 'stay', 'indoors', 'siren', 'start', 'wailing', 'naturally', 'slowly', 'thing', 'start', 'go', 'bump', 'sibling', 'go', 'mission', 'beating', 'around', 'bush', 'discover', 'exactly', 'happening', 'unfriendly', 'island', 'strange', 'inhabitant', 'truth', 'bother', 'whats', 'going', 'folklore', 'fairy', 'tale', 'get', 'thrown', 'convolute', 'plot', 'even', 'really', 'pushing', 'realm', 'bad', 'comedy', 'unwittingly', 'illplacedoutofthenorm', 'moment', 'drew', 'pitiful', 'giggle', 'sheer', 'stupidity', 'explained', 'much', 'later', 'one', 'thing', 'trying', 'come', 'present', 'something', 'smart', 'another', 'thing', 'convincingly', 'loophole', 'covered', 'despite', 'clocking', '90', 'minute', 'think', 'horror', 'movie', 'phenomenon', 'runtime', 'benchmark', 'give', 'almost', 'two', 'hour', 'feel', 'slow', 'buildup', 'tell', 'want', 'thing', 'begin', 'pick', 'toward', 'last', '20', 'minute', 'classic', 'case', 'little', 'late', 'save', 'movie', 'change', 'tack', 'revelation', 'end', 'common', 'device', 'used', 'try', 'elevate', 'seemingly', 'simple', 'horror', 'movie', 'something', 'little', 'bit', 'extra', 'hope', 'wowing', 'audience', 'turned', 'rather', 'satisfactorily', 'leaf', 'bad', 'aftertaste', 'youll', 'feel', 'cheated', 'somewhat', 'two', 'way', 'twist', 'make', 'feel', 'either', 'elevates', 'movie', 'memorable', 'level', 'provides', 'hokey', 'feeling', 'unfortunately', 'forbidden', 'siren', 'belonged', 'latter', 'saving', 'grace', 'cinematography', 'use', 'light', 'shadow', 'mirror', 'explicit', 'still', 'worth', 'time', 'better', 'avoid']\n"
     ]
    }
   ],
   "source": [
    "def preprocess(text):\n",
    "    \n",
    "    # YOUR CODE HERE\n",
    "    #1. lowercase the words\n",
    "    text = text.lower()\n",
    "    \n",
    "    #(opt.: remove HTML elements)\n",
    "    text = re.sub(r'<br /><br />',' ', text)\n",
    "           \n",
    "    #(opt.: remove \",\" and \".\")\n",
    "    text = re.sub(r'[^\\w\\s]','', text)\n",
    "    \n",
    "    #print(text)\n",
    "    \n",
    "    #2. tokenize (aka split the text-string into individual words)\n",
    "    tokens = nltk.tokenize.word_tokenize(text)\n",
    "    \n",
    "    #(optional: remove stopwords)\n",
    "    stop_words_list = nltk.corpus.stopwords.words(\"english\")\n",
    "    tokens_wo_sw = [t for t in tokens if t not in stop_words_list]\n",
    "\n",
    "    #print(tokens_wo_sw)\n",
    "    \n",
    "    #3. stem or lemmatize words\n",
    "    wnl = nltk.WordNetLemmatizer()\n",
    "    lemmas = [wnl.lemmatize(t) for t in tokens_wo_sw]\n",
    "    \n",
    "    #(opt.: handle emoticons)\n",
    "    \n",
    "    return lemmas # return a list of stems/lemmas\n",
    "\n",
    "sentence = df_train.review.values[0]\n",
    "print(preprocess(sentence))\n"
   ]
  },
  {
   "cell_type": "code",
   "execution_count": 20,
   "metadata": {
    "colab": {
     "base_uri": "https://localhost:8080/",
     "height": 85
    },
    "colab_type": "code",
    "id": "PTj5j8xEsDPq",
    "outputId": "78c2fd64-f925-4891-848e-6ac76e0a6aa1"
   },
   "outputs": [
    {
     "name": "stdout",
     "output_type": "stream",
     "text": [
      "Vocabulary size: 111836\n"
     ]
    },
    {
     "data": {
      "text/plain": [
       "{'the': 334838,\n",
       " ',': 275887,\n",
       " '.': 234798,\n",
       " 'and': 163477,\n",
       " 'a': 162292,\n",
       " 'of': 145404,\n",
       " 'to': 135153,\n",
       " 'is': 110284,\n",
       " '/': 102115,\n",
       " '>': 102036}"
      ]
     },
     "execution_count": 20,
     "metadata": {},
     "output_type": "execute_result"
    }
   ],
   "source": [
    "# Have a look at the size of the vocabulary of the train data that \n",
    "# has only been lower-cased and tokenized (a few cells above).\n",
    "\n",
    "d = defaultdict(int)\n",
    "for i in train_sents:\n",
    "    for w in i:\n",
    "        d[w]+=1\n",
    "V = d.keys()\n",
    "print(\"Vocabulary size:\",len(V))\n",
    "\n",
    "# inspect the 10 most frequent tokens:\n",
    "{k: v for k, v in sorted(d.items(), key=lambda item: item[1], reverse=True)[:10]}\n"
   ]
  },
  {
   "cell_type": "code",
   "execution_count": 21,
   "metadata": {},
   "outputs": [
    {
     "data": {
      "text/plain": [
       "25000"
      ]
     },
     "execution_count": 21,
     "metadata": {},
     "output_type": "execute_result"
    }
   ],
   "source": [
    "len(df_train.review.values)"
   ]
  },
  {
   "cell_type": "code",
   "execution_count": 22,
   "metadata": {},
   "outputs": [
    {
     "name": "stdout",
     "output_type": "stream",
     "text": [
      "Vocabulary size: 7738\n"
     ]
    },
    {
     "data": {
      "text/plain": [
       "{'movie': 494,\n",
       " 'film': 452,\n",
       " 'one': 290,\n",
       " 'like': 178,\n",
       " 'even': 149,\n",
       " 'time': 147,\n",
       " 'character': 136,\n",
       " 'would': 135,\n",
       " 'good': 134,\n",
       " 'story': 127,\n",
       " 'see': 124,\n",
       " 'get': 123,\n",
       " 'scene': 114,\n",
       " 'much': 103,\n",
       " 'really': 102,\n",
       " 'think': 100,\n",
       " 'make': 98,\n",
       " 'also': 95,\n",
       " 'end': 94,\n",
       " 'thing': 92}"
      ]
     },
     "execution_count": 22,
     "metadata": {},
     "output_type": "execute_result"
    }
   ],
   "source": [
    "# Now do it yourself with your train data after preprocessing:\n",
    "\n",
    "# YOUR CODE HERE\n",
    "\n",
    "sentences = df_train.review.values[:250] #Expanding to look through the first 250 reviews in the sample.\n",
    "\n",
    "pro_sent = [preprocess(s) for s in sentences]\n",
    "\n",
    "#print(preprocess(sentence))\n",
    "\n",
    "d = defaultdict(int)\n",
    "for i in pro_sent:\n",
    "    for w in i:\n",
    "        d[w]+=1\n",
    "V = d.keys()\n",
    "print(\"Vocabulary size:\",len(V))\n",
    "\n",
    "\n",
    "# inspect the N most frequent tokens (you decide which N to use):\n",
    "{k: v for k, v in sorted(d.items(), key=lambda item: item[1], reverse=True)[:20]}"
   ]
  },
  {
   "cell_type": "code",
   "execution_count": 23,
   "metadata": {},
   "outputs": [],
   "source": [
    "# Optional: Look at the content of V in some way, and comment on what you could do to improve your preproccessing.\n"
   ]
  },
  {
   "cell_type": "markdown",
   "metadata": {},
   "source": [
    "# Feature representation/extraction"
   ]
  },
  {
   "cell_type": "code",
   "execution_count": 24,
   "metadata": {},
   "outputs": [
    {
     "data": {
      "image/jpeg": "[encoded data removed]",
      "text/html": [
       "\n",
       "        <iframe\n",
       "            width=\"740\"\n",
       "            height=\"460\"\n",
       "            src=\"https://www.youtube.com/embed/xvvkx49HuuU\"\n",
       "            frameborder=\"0\"\n",
       "            allowfullscreen\n",
       "        ></iframe>\n",
       "        "
      ],
      "text/plain": [
       "<IPython.lib.display.YouTubeVideo at 0x1d0631c69d0>"
      ]
     },
     "execution_count": 24,
     "metadata": {},
     "output_type": "execute_result"
    }
   ],
   "source": [
    "YouTubeVideo('xvvkx49HuuU', width=740, height=460)"
   ]
  },
  {
   "cell_type": "markdown",
   "metadata": {
    "colab_type": "text",
    "id": "8gLIFQzihZZ-"
   },
   "source": [
    "In this notebook, the goal is to make a sentiment classification model trained on the movie review data. \n",
    "\n",
    "No matter whether we want to make a (supervised) classification model or (unsupervised) clustering of texts and other analyses of text similarities, we will have to transform our features, that are currently strings, into a numerical representation, that will convey the content of a sentence or document in some way. There are many approaches one can take, ranging from very simple representations (such as vectors with binary values for each feature, stating wether the feature/word appears in the given document or not) to very complex representations learned from a seperate prediction model.\n",
    "\n",
    "One standard, simple approach is called Bag of Words:"
   ]
  },
  {
   "cell_type": "markdown",
   "metadata": {
    "colab_type": "text",
    "id": "CignHk3ALBPb"
   },
   "source": [
    "## BoW (Bag of Words)\n",
    "\n",
    "- Represent the texts with a **Term-Document frequency matrix** where each text is represented by a vector of word counts. \n",
    "- The creats a matrix with size n_samples x n_features. (n_features = size of vocabulary)"
   ]
  },
  {
   "cell_type": "code",
   "execution_count": 12,
   "metadata": {},
   "outputs": [
    {
     "data": {
      "image/png": "[encoded data removed]",
      "text/plain": [
       "<IPython.core.display.Image object>"
      ]
     },
     "execution_count": 12,
     "metadata": {},
     "output_type": "execute_result"
    }
   ],
   "source": [
    "Image(\"term_document.png\") # (Jurafsky, D., & Martin, J. H., 2019. Chap. 6, p. 7)"
   ]
  },
  {
   "cell_type": "code",
   "execution_count": 25,
   "metadata": {
    "colab": {},
    "colab_type": "code",
    "id": "kWjW40BsJa0v"
   },
   "outputs": [],
   "source": [
    "# CountVectorizer (from sklearn.feature_extraction.text) has a build-in tokenizer and lowercases by default. It also has an option to remove stopwords (look at the documentation).\n",
    "vectorizer = CountVectorizer()\n",
    "\n",
    "# You can override the default tokenization with your own defined function, like so:\n",
    "#vectorizer = CountVectorizer(tokenizer=preprocess)\n",
    "\n",
    "# you can also restrict the number of features to the top N most frequent features:\n",
    "#vectorizer = CountVectorizer(max_features=N)\n",
    "\n",
    "# fit and transform train set\n",
    "X_train_bow = vectorizer.fit_transform(df_train.review.values)\n",
    "\n",
    "# Only tranform test set: never fit your vectorizer on the test set (it is cheating). Out-of-Vocabulary words are handled automatically be sklearn's vectorizer.\n",
    "X_test_bow = vectorizer.transform(df_test.review.values)"
   ]
  },
  {
   "cell_type": "code",
   "execution_count": 26,
   "metadata": {
    "colab": {
     "base_uri": "https://localhost:8080/",
     "height": 68
    },
    "colab_type": "code",
    "id": "qD-cXAT4s9jB",
    "outputId": "c0b7fd90-93ca-449a-cdf3-51aea72bdf82"
   },
   "outputs": [
    {
     "name": "stdout",
     "output_type": "stream",
     "text": [
      "(25000, 74849)\n",
      "74849\n"
     ]
    },
    {
     "data": {
      "text/plain": [
       "<1x74849 sparse matrix of type '<class 'numpy.int64'>'\n",
       "\twith 238 stored elements in Compressed Sparse Row format>"
      ]
     },
     "execution_count": 26,
     "metadata": {},
     "output_type": "execute_result"
    }
   ],
   "source": [
    "print(X_train_bow.shape)\n",
    "print(len(vectorizer.vocabulary_))\n",
    "X_train_bow[0]"
   ]
  },
  {
   "cell_type": "markdown",
   "metadata": {},
   "source": [
    "Only 238 nonzero elements in the vector of the first text, i.e. 238 unique features/words out of 74,849."
   ]
  },
  {
   "cell_type": "code",
   "execution_count": 27,
   "metadata": {
    "colab": {
     "base_uri": "https://localhost:8080/",
     "height": 34
    },
    "colab_type": "code",
    "id": "R-iHjUpktdr1",
    "outputId": "d0bf4e38-efe9-45af-8c11-6d9e05dcb6d8"
   },
   "outputs": [
    {
     "data": {
      "text/plain": [
       "array([[0, 0, 0, ..., 0, 0, 0]], dtype=int64)"
      ]
     },
     "execution_count": 27,
     "metadata": {},
     "output_type": "execute_result"
    }
   ],
   "source": [
    "X_train_bow[0].toarray() # the vector is very sparse.."
   ]
  },
  {
   "cell_type": "code",
   "execution_count": 28,
   "metadata": {},
   "outputs": [
    {
     "name": "stdout",
     "output_type": "stream",
     "text": [
      "  (0, 25459)\t2\n",
      "  (0, 60440)\t5\n",
      "  (0, 34585)\t5\n",
      "  (0, 6117)\t1\n",
      "  (0, 70377)\t1\n",
      "  (0, 66339)\t21\n",
      "  (0, 50339)\t1\n",
      "  (0, 61380)\t2\n",
      "  (0, 40829)\t1\n",
      "  (0, 605)\t1\n",
      "  (0, 26692)\t2\n",
      "  (0, 38755)\t1\n",
      "  (0, 43995)\t1\n",
      "  (0, 71281)\t1\n",
      "  (0, 68619)\t2\n",
      "  (0, 44164)\t1\n",
      "  (0, 73714)\t1\n",
      "  (0, 57715)\t1\n",
      "  (0, 40413)\t1\n",
      "  (0, 19563)\t2\n",
      "  (0, 67832)\t1\n",
      "  (0, 34255)\t4\n",
      "  (0, 18336)\t1\n",
      "  (0, 41950)\t1\n",
      "  (0, 53839)\t2\n",
      "  :\t:\n",
      "  (0, 21162)\t1\n",
      "  (0, 21289)\t1\n",
      "  (0, 42134)\t1\n",
      "  (0, 38507)\t1\n",
      "  (0, 47142)\t1\n",
      "  (0, 52227)\t1\n",
      "  (0, 31289)\t1\n",
      "  (0, 24125)\t1\n",
      "  (0, 69622)\t1\n",
      "  (0, 6771)\t1\n",
      "  (0, 37895)\t1\n",
      "  (0, 57675)\t1\n",
      "  (0, 28314)\t1\n",
      "  (0, 6334)\t2\n",
      "  (0, 12480)\t1\n",
      "  (0, 70505)\t1\n",
      "  (0, 38720)\t1\n",
      "  (0, 59184)\t1\n",
      "  (0, 43010)\t1\n",
      "  (0, 23199)\t1\n",
      "  (0, 63226)\t1\n",
      "  (0, 73702)\t1\n",
      "  (0, 66925)\t1\n",
      "  (0, 7095)\t1\n",
      "  (0, 5208)\t1\n"
     ]
    }
   ],
   "source": [
    "print(X_train_bow[0]) # here we take a look at the non-zero elements. \n",
    "#The first element is the word with ID 25459, which appears two times in the text."
   ]
  },
  {
   "cell_type": "code",
   "execution_count": 29,
   "metadata": {},
   "outputs": [
    {
     "name": "stdout",
     "output_type": "stream",
     "text": [
      "forbidden\n"
     ]
    }
   ],
   "source": [
    "print(vectorizer.get_feature_names()[25459]) # this is one way to get the word with the ID 25459"
   ]
  },
  {
   "cell_type": "code",
   "execution_count": 30,
   "metadata": {},
   "outputs": [],
   "source": [
    "#df_train.review.values[0] # you can check that the word \"forbidden\" appears two times in the first text"
   ]
  },
  {
   "cell_type": "markdown",
   "metadata": {
    "colab_type": "text",
    "id": "spPzY15wh381"
   },
   "source": [
    "### N-grams \n",
    "\n",
    "- Collection of 1 or more tokens.\n",
    "\n",
    "- Bag of words lacks word order and context (semantics). n-grams to the rescue!"
   ]
  },
  {
   "cell_type": "code",
   "execution_count": 31,
   "metadata": {},
   "outputs": [],
   "source": [
    "example = \"The cat in the hat\""
   ]
  },
  {
   "cell_type": "code",
   "execution_count": 32,
   "metadata": {},
   "outputs": [
    {
     "name": "stdout",
     "output_type": "stream",
     "text": [
      "Unigrams: ['The', 'cat', 'in', 'the', 'hat']\n",
      "Bigrams: ['The cat', 'cat in', 'in the', 'the hat']\n",
      "Trigrams: ['The cat in', 'cat in the', 'in the hat']\n",
      "4-grams: ['The cat in the', 'cat in the hat']\n",
      "5-grams: ['The cat in the hat']\n"
     ]
    }
   ],
   "source": [
    "def make_ngrams(sentence,n):\n",
    "    tokens = sentence.split(\" \")\n",
    "    ngrams = zip(*[tokens[i:] for i in range(n)])\n",
    "    return [\" \".join(ngram) for ngram in ngrams]\n",
    "\n",
    "print(\"Unigrams:\",make_ngrams(example,1))\n",
    "print(\"Bigrams:\",make_ngrams(example,2))\n",
    "print(\"Trigrams:\",make_ngrams(example,3))\n",
    "print(\"4-grams:\",make_ngrams(example,4))\n",
    "print(\"5-grams:\",make_ngrams(example,5))"
   ]
  },
  {
   "cell_type": "markdown",
   "metadata": {},
   "source": [
    "### BoW with ngrams using CountVectorizer"
   ]
  },
  {
   "cell_type": "code",
   "execution_count": 33,
   "metadata": {
    "colab": {},
    "colab_type": "code",
    "id": "hikCoI04iPn1"
   },
   "outputs": [],
   "source": [
    "# this block can take a few minutes to run\n",
    "\n",
    "# n=1-5\n",
    "vectorizer = CountVectorizer(ngram_range=(1,5))\n",
    "\n",
    "X_train_5gram = vectorizer.fit_transform(df_train.review.values[:2500])"
   ]
  },
  {
   "cell_type": "code",
   "execution_count": 34,
   "metadata": {
    "colab": {
     "base_uri": "https://localhost:8080/",
     "height": 68
    },
    "colab_type": "code",
    "id": "4E5cs2uSxkN-",
    "outputId": "74789b75-a6a6-448a-9056-382c197da22e"
   },
   "outputs": [
    {
     "name": "stdout",
     "output_type": "stream",
     "text": [
      "(2500, 1829059)\n"
     ]
    },
    {
     "data": {
      "text/plain": [
       "<1x1829059 sparse matrix of type '<class 'numpy.int64'>'\n",
       "\twith 1811 stored elements in Compressed Sparse Row format>"
      ]
     },
     "execution_count": 34,
     "metadata": {},
     "output_type": "execute_result"
    }
   ],
   "source": [
    "print(X_train_5gram.shape)\n",
    "X_train_5gram[0]"
   ]
  },
  {
   "cell_type": "markdown",
   "metadata": {},
   "source": [
    "- But now we have problems with high dimensionalty and uniqeness of features!\n",
    "\n",
    "- N-grams are used for many applications but are especially known from **Language Models**: In short, probalistic models that learn to predict the next word in a sequence of words, given the \"history\" (the previous words), simply by storing the probability of this event occuring in the given text, e.g. P(hat|The cat in the). But instead of using ALL previous word (which would be a combination of words unique to the given text), the history is approximated by a few previous words (n-grams), e.g. P(hat|the). This is the n-gram language model.\n",
    "\n"
   ]
  },
  {
   "cell_type": "markdown",
   "metadata": {},
   "source": [
    "## Exercise 2: Inspect most frequent bigrams\n",
    "\n",
    "Inspection of word collocations (bigrams, trigrams etc.) can be a good first step in exploring a new text dataset, or a single document for that matter. Such collocations will be very indicative of what the texts are about.\n",
    "\n",
    "Make a new CountVectorizer that only includes bigrams and with max_features=1000. Fit it on the train set.\n",
    "\n",
    "Then, practise you Googling and find a way to print the most frequent bigrams in the train set. Print the bigrams along with their frequencies in a descending order. What do you see?"
   ]
  },
  {
   "cell_type": "code",
   "execution_count": 35,
   "metadata": {},
   "outputs": [],
   "source": [
    "# YOUR CODE HERE\n",
    "\n",
    "vectorizer = CountVectorizer(ngram_range=(2, 2), max_features=1000, stop_words={'english'})\n",
    "\n",
    "X_train_onlybigram = vectorizer.fit_transform(df_train.review.values[:5000])"
   ]
  },
  {
   "cell_type": "code",
   "execution_count": 36,
   "metadata": {},
   "outputs": [
    {
     "name": "stdout",
     "output_type": "stream",
     "text": [
      "10431 ; br br\n",
      "8146 ; of the\n",
      "5203 ; in the\n",
      "3061 ; this movie\n",
      "2723 ; the film\n",
      "2716 ; and the\n",
      "2482 ; the movie\n",
      "2426 ; to be\n",
      "2395 ; to the\n",
      "2252 ; this film\n",
      "2130 ; it is\n",
      "1863 ; this is\n",
      "1810 ; on the\n",
      "1798 ; it was\n",
      "1639 ; one of\n",
      "1637 ; for the\n",
      "1584 ; br the\n",
      "1562 ; with the\n",
      "1437 ; at the\n",
      "1377 ; if you\n",
      "1360 ; is the\n",
      "1235 ; from the\n",
      "1234 ; in this\n",
      "1178 ; as the\n",
      "1155 ; that the\n",
      "1120 ; the story\n",
      "1074 ; out of\n",
      "1073 ; to see\n",
      "992 ; by the\n",
      "925 ; movie is\n",
      "901 ; the first\n",
      "900 ; there is\n",
      "899 ; have been\n",
      "884 ; all the\n",
      "858 ; of this\n",
      "854 ; film is\n",
      "823 ; the end\n",
      "815 ; is not\n",
      "811 ; but it\n",
      "803 ; there are\n",
      "776 ; and it\n",
      "759 ; the most\n",
      "758 ; that it\n",
      "740 ; the same\n",
      "718 ; the best\n",
      "709 ; but the\n",
      "688 ; of his\n",
      "682 ; about the\n",
      "672 ; the plot\n",
      "672 ; he is\n",
      "644 ; to make\n",
      "633 ; this one\n",
      "625 ; that is\n",
      "615 ; the only\n",
      "612 ; to watch\n",
      "569 ; the characters\n",
      "559 ; some of\n",
      "544 ; was the\n",
      "542 ; to get\n",
      "541 ; they are\n",
      "529 ; the way\n",
      "527 ; have to\n",
      "521 ; is that\n",
      "513 ; would have\n",
      "513 ; want to\n",
      "510 ; you can\n",
      "499 ; into the\n",
      "498 ; the acting\n",
      "494 ; the other\n",
      "486 ; lot of\n",
      "482 ; as well\n",
      "481 ; to do\n",
      "480 ; most of\n",
      "473 ; this was\n",
      "471 ; at least\n",
      "464 ; kind of\n",
      "463 ; trying to\n",
      "463 ; and his\n",
      "457 ; that he\n",
      "455 ; would be\n",
      "453 ; is one\n",
      "451 ; movie was\n",
      "448 ; is very\n",
      "447 ; of course\n",
      "446 ; to have\n",
      "445 ; who is\n",
      "445 ; the original\n",
      "442 ; br this\n",
      "441 ; the whole\n",
      "435 ; the worst\n",
      "429 ; like the\n",
      "426 ; at all\n",
      "423 ; in his\n",
      "420 ; he was\n",
      "419 ; going to\n",
      "419 ; could have\n",
      "414 ; that this\n",
      "412 ; more than\n",
      "401 ; to say\n",
      "397 ; which is\n",
      "396 ; of it\n",
      "392 ; the time\n",
      "390 ; when the\n",
      "386 ; you re\n",
      "381 ; is an\n",
      "378 ; and that\n",
      "374 ; with his\n",
      "374 ; of all\n",
      "368 ; all of\n",
      "356 ; the world\n",
      "356 ; the show\n",
      "355 ; is so\n",
      "354 ; like this\n",
      "353 ; it not\n",
      "350 ; she is\n",
      "350 ; of them\n",
      "350 ; and then\n",
      "346 ; the rest\n",
      "346 ; br it\n",
      "344 ; and he\n",
      "343 ; is just\n",
      "342 ; it the\n",
      "340 ; but this\n",
      "339 ; seems to\n",
      "337 ; that was\n",
      "335 ; the fact\n",
      "335 ; part of\n",
      "334 ; movie and\n",
      "333 ; it just\n",
      "333 ; in my\n",
      "333 ; as it\n",
      "330 ; through the\n",
      "321 ; they were\n",
      "320 ; you have\n",
      "320 ; it has\n",
      "318 ; film and\n",
      "317 ; the last\n",
      "313 ; can be\n",
      "310 ; in fact\n",
      "308 ; it to\n",
      "307 ; that they\n",
      "306 ; of her\n",
      "305 ; because it\n",
      "304 ; he has\n",
      "303 ; over the\n",
      "302 ; fact that\n",
      "301 ; there was\n",
      "301 ; it and\n",
      "300 ; the two\n",
      "300 ; the main\n",
      "299 ; you are\n",
      "298 ; to find\n",
      "298 ; see the\n",
      "294 ; rest of\n",
      "294 ; film was\n",
      "291 ; will be\n",
      "290 ; it would\n",
      "290 ; about this\n",
      "288 ; the director\n",
      "288 ; the actors\n",
      "287 ; for this\n",
      "284 ; the cast\n",
      "283 ; be the\n",
      "282 ; the script\n",
      "279 ; the book\n",
      "279 ; of my\n",
      "279 ; has been\n",
      "278 ; not to\n",
      "277 ; sort of\n",
      "276 ; movie that\n",
      "275 ; the audience\n",
      "271 ; is in\n",
      "270 ; see it\n",
      "268 ; was not\n",
      "268 ; and is\n",
      "267 ; to his\n",
      "267 ; to go\n",
      "267 ; story is\n",
      "267 ; so much\n",
      "267 ; film that\n",
      "265 ; it br\n",
      "265 ; and this\n",
      "264 ; is no\n",
      "263 ; and not\n",
      "262 ; end of\n",
      "261 ; when it\n",
      "261 ; hard to\n",
      "258 ; should be\n",
      "258 ; have seen\n",
      "257 ; is also\n",
      "257 ; has to\n",
      "257 ; for me\n",
      "257 ; and they\n",
      "256 ; with this\n",
      "255 ; when he\n",
      "255 ; watch it\n",
      "255 ; ve seen\n",
      "254 ; it all\n",
      "254 ; ever seen\n",
      "254 ; each other\n",
      "253 ; than the\n",
      "250 ; you ll\n",
      "249 ; in it\n",
      "249 ; able to\n",
      "248 ; up to\n",
      "248 ; because of\n",
      "247 ; seem to\n",
      "245 ; you will\n",
      "245 ; not the\n",
      "244 ; that you\n",
      "243 ; of their\n",
      "243 ; did not\n",
      "242 ; watch this\n",
      "242 ; acting is\n",
      "240 ; supposed to\n",
      "239 ; enough to\n",
      "239 ; and there\n",
      "238 ; and you\n",
      "237 ; does not\n",
      "236 ; they re\n",
      "236 ; in which\n",
      "236 ; after the\n",
      "234 ; well as\n",
      "234 ; to me\n",
      "233 ; very good\n",
      "233 ; such as\n",
      "233 ; should have\n",
      "232 ; with her\n",
      "232 ; as an\n",
      "232 ; and even\n",
      "230 ; of those\n",
      "229 ; are the\n",
      "229 ; about it\n",
      "228 ; see this\n",
      "228 ; do not\n",
      "228 ; but he\n",
      "227 ; the series\n",
      "227 ; the entire\n",
      "227 ; so many\n",
      "224 ; where the\n",
      "224 ; she was\n",
      "224 ; in an\n",
      "222 ; you want\n",
      "222 ; the ending\n",
      "222 ; special effects\n",
      "221 ; during the\n",
      "221 ; back to\n",
      "219 ; what the\n",
      "219 ; of an\n",
      "219 ; and was\n",
      "218 ; tries to\n",
      "218 ; in all\n",
      "218 ; even though\n",
      "218 ; as he\n",
      "217 ; wanted to\n",
      "217 ; up in\n",
      "217 ; say that\n",
      "217 ; on this\n",
      "217 ; not only\n",
      "216 ; but not\n",
      "216 ; br in\n",
      "216 ; are not\n",
      "215 ; was so\n",
      "215 ; story of\n",
      "215 ; is great\n",
      "214 ; sense of\n",
      "214 ; even the\n",
      "213 ; up with\n",
      "213 ; film the\n",
      "213 ; better than\n",
      "212 ; br there\n",
      "212 ; based on\n",
      "209 ; was in\n",
      "209 ; to this\n",
      "209 ; if it\n",
      "208 ; the beginning\n",
      "208 ; but that\n",
      "207 ; who has\n",
      "207 ; watching this\n",
      "207 ; to take\n",
      "207 ; the scene\n",
      "207 ; the music\n",
      "207 ; his wife\n",
      "206 ; in their\n",
      "205 ; had to\n",
      "204 ; if the\n",
      "203 ; what is\n",
      "203 ; movie it\n",
      "203 ; is about\n",
      "202 ; that are\n",
      "202 ; played by\n",
      "202 ; instead of\n",
      "201 ; try to\n",
      "200 ; this show\n",
      "200 ; saw this\n",
      "200 ; is good\n",
      "198 ; was just\n",
      "198 ; too much\n",
      "198 ; don know\n",
      "197 ; movie br\n",
      "196 ; was very\n",
      "196 ; the very\n",
      "196 ; the one\n",
      "196 ; out the\n",
      "196 ; of these\n",
      "195 ; movie the\n",
      "195 ; like it\n",
      "193 ; could be\n",
      "193 ; as if\n",
      "193 ; and in\n",
      "192 ; his own\n",
      "191 ; that she\n",
      "191 ; or the\n",
      "191 ; it in\n",
      "191 ; for his\n",
      "191 ; film it\n",
      "190 ; time and\n",
      "190 ; people who\n",
      "190 ; out to\n",
      "190 ; lack of\n",
      "189 ; off the\n",
      "189 ; get the\n",
      "188 ; much more\n",
      "188 ; look at\n",
      "188 ; and she\n",
      "187 ; in love\n",
      "187 ; between the\n",
      "187 ; because the\n",
      "186 ; those who\n",
      "186 ; the second\n",
      "186 ; in her\n",
      "186 ; br if\n",
      "185 ; the viewer\n",
      "185 ; but they\n",
      "184 ; the man\n",
      "184 ; need to\n",
      "184 ; low budget\n",
      "184 ; fan of\n",
      "184 ; all in\n",
      "183 ; up the\n",
      "183 ; piece of\n",
      "183 ; much of\n",
      "182 ; year old\n",
      "182 ; way to\n",
      "182 ; is really\n",
      "181 ; of 10\n",
      "181 ; it for\n",
      "181 ; film br\n",
      "181 ; and her\n",
      "180 ; think that\n",
      "180 ; may be\n",
      "180 ; it seems\n",
      "180 ; it as\n",
      "179 ; the house\n",
      "179 ; characters are\n",
      "178 ; with an\n",
      "178 ; plot is\n",
      "177 ; very well\n",
      "177 ; throughout the\n",
      "176 ; on his\n",
      "176 ; film but\n",
      "175 ; think it\n",
      "175 ; the real\n",
      "175 ; if they\n",
      "175 ; have the\n",
      "175 ; and some\n",
      "174 ; when you\n",
      "174 ; wants to\n",
      "174 ; of what\n",
      "174 ; no one\n",
      "174 ; it doesn\n",
      "174 ; br and\n",
      "173 ; we are\n",
      "173 ; they have\n",
      "173 ; the character\n",
      "173 ; is it\n",
      "172 ; there were\n",
      "172 ; is still\n",
      "171 ; to it\n",
      "171 ; to her\n",
      "171 ; the final\n",
      "171 ; away from\n",
      "169 ; when they\n",
      "169 ; to give\n",
      "169 ; of its\n",
      "169 ; movie to\n",
      "169 ; looking for\n",
      "169 ; for it\n",
      "169 ; any of\n",
      "168 ; man who\n",
      "168 ; is to\n",
      "168 ; in that\n",
      "168 ; but in\n",
      "167 ; what it\n",
      "167 ; full of\n",
      "166 ; we have\n",
      "166 ; br as\n",
      "165 ; movie but\n",
      "165 ; due to\n",
      "164 ; the top\n",
      "164 ; as they\n",
      "163 ; watch the\n",
      "163 ; make it\n",
      "163 ; couple of\n",
      "162 ; to keep\n",
      "162 ; the people\n",
      "162 ; movie with\n",
      "162 ; movie has\n",
      "162 ; looks like\n",
      "161 ; of that\n",
      "161 ; not even\n",
      "161 ; had the\n",
      "160 ; who was\n",
      "160 ; that there\n",
      "159 ; up and\n",
      "159 ; the camera\n",
      "159 ; that would\n",
      "159 ; br but\n",
      "158 ; the new\n",
      "157 ; you know\n",
      "157 ; story and\n",
      "157 ; and what\n",
      "157 ; and have\n",
      "156 ; what was\n",
      "156 ; version of\n",
      "156 ; new york\n",
      "156 ; it but\n",
      "156 ; he can\n",
      "156 ; has the\n",
      "155 ; the screen\n",
      "155 ; like to\n",
      "154 ; many of\n",
      "154 ; have ever\n",
      "154 ; at times\n",
      "153 ; you don\n",
      "153 ; the idea\n",
      "153 ; the great\n",
      "153 ; go to\n",
      "153 ; and all\n",
      "152 ; with some\n",
      "152 ; to know\n",
      "152 ; the point\n",
      "152 ; the action\n",
      "152 ; other than\n",
      "152 ; him to\n",
      "152 ; all that\n",
      "151 ; the next\n",
      "151 ; rather than\n",
      "151 ; one is\n",
      "151 ; of time\n",
      "151 ; in some\n",
      "151 ; for some\n",
      "151 ; but there\n",
      "150 ; first time\n",
      "149 ; ve ever\n",
      "149 ; my favorite\n",
      "149 ; know what\n",
      "148 ; was one\n",
      "148 ; might be\n",
      "147 ; who are\n",
      "147 ; while the\n",
      "147 ; to show\n",
      "147 ; the big\n",
      "146 ; so bad\n",
      "146 ; read the\n",
      "146 ; none of\n",
      "146 ; give it\n",
      "146 ; along with\n",
      "145 ; waste of\n",
      "145 ; use of\n",
      "145 ; the old\n",
      "145 ; for her\n",
      "145 ; film to\n",
      "144 ; what he\n",
      "144 ; to kill\n",
      "144 ; much better\n",
      "143 ; you ve\n",
      "143 ; the scenes\n",
      "143 ; is quite\n",
      "142 ; it really\n",
      "142 ; it does\n",
      "142 ; film with\n",
      "142 ; film in\n",
      "141 ; when she\n",
      "141 ; it wasn\n",
      "141 ; in one\n",
      "141 ; if he\n",
      "141 ; had been\n",
      "141 ; going on\n",
      "141 ; bit of\n",
      "140 ; watching the\n",
      "140 ; the role\n",
      "140 ; get to\n",
      "140 ; film has\n",
      "140 ; don think\n",
      "139 ; seen in\n",
      "139 ; point of\n",
      "139 ; not be\n",
      "139 ; it also\n",
      "138 ; made me\n",
      "137 ; of film\n",
      "137 ; it had\n",
      "137 ; can see\n",
      "136 ; the good\n",
      "136 ; the dvd\n",
      "136 ; minutes of\n",
      "136 ; make the\n",
      "136 ; life and\n",
      "136 ; it on\n",
      "136 ; characters and\n",
      "136 ; bunch of\n",
      "136 ; are so\n",
      "135 ; used to\n",
      "135 ; to play\n",
      "135 ; must have\n",
      "135 ; is more\n",
      "135 ; and we\n",
      "135 ; and so\n",
      "134 ; with it\n",
      "134 ; the title\n",
      "134 ; more of\n",
      "134 ; for all\n",
      "134 ; even more\n",
      "133 ; we see\n",
      "133 ; watching it\n",
      "133 ; know that\n",
      "133 ; his life\n",
      "133 ; even if\n",
      "132 ; you get\n",
      "132 ; seen the\n",
      "132 ; or even\n",
      "132 ; how the\n",
      "132 ; for example\n",
      "132 ; are some\n",
      "131 ; good movie\n",
      "131 ; for those\n",
      "131 ; and if\n",
      "130 ; to come\n",
      "130 ; think of\n",
      "130 ; the right\n",
      "130 ; look like\n",
      "130 ; but then\n",
      "130 ; before the\n",
      "130 ; and has\n",
      "129 ; thought it\n",
      "129 ; is pretty\n",
      "129 ; have no\n",
      "129 ; and just\n",
      "128 ; what they\n",
      "128 ; the young\n",
      "128 ; of movie\n",
      "128 ; me to\n",
      "128 ; as much\n",
      "127 ; of people\n",
      "127 ; lots of\n",
      "127 ; it will\n",
      "126 ; you see\n",
      "126 ; was made\n",
      "126 ; the family\n",
      "126 ; that have\n",
      "126 ; sci fi\n",
      "126 ; on screen\n",
      "126 ; it it\n",
      "126 ; and more\n",
      "126 ; and how\n",
      "125 ; years ago\n",
      "125 ; the middle\n",
      "125 ; not have\n",
      "125 ; him and\n",
      "125 ; but if\n",
      "124 ; the bad\n",
      "124 ; pretty much\n",
      "124 ; just as\n",
      "124 ; in order\n",
      "124 ; in its\n",
      "124 ; how to\n",
      "124 ; him in\n",
      "124 ; as to\n",
      "124 ; all time\n",
      "123 ; where he\n",
      "123 ; to believe\n",
      "123 ; time to\n",
      "123 ; seen it\n",
      "123 ; he does\n",
      "123 ; and of\n",
      "122 ; with no\n",
      "122 ; to tell\n",
      "122 ; recommend this\n",
      "122 ; my opinion\n",
      "122 ; love with\n",
      "122 ; it could\n",
      "122 ; for an\n",
      "122 ; do with\n",
      "122 ; character is\n",
      "122 ; and their\n",
      "121 ; was really\n",
      "121 ; that we\n",
      "121 ; movie for\n",
      "121 ; group of\n",
      "121 ; believe that\n",
      "121 ; because he\n",
      "121 ; and to\n",
      "120 ; watched it\n",
      "120 ; think the\n",
      "120 ; their own\n",
      "120 ; seemed to\n",
      "120 ; movie in\n",
      "120 ; in any\n",
      "120 ; high school\n",
      "120 ; br so\n",
      "120 ; as for\n",
      "120 ; as far\n",
      "120 ; around the\n",
      "120 ; are all\n",
      "119 ; the opening\n",
      "119 ; on and\n",
      "119 ; good and\n",
      "119 ; far as\n",
      "118 ; out there\n",
      "118 ; is this\n",
      "118 ; decided to\n",
      "117 ; to think\n",
      "117 ; then the\n",
      "117 ; pretty good\n",
      "117 ; plenty of\n",
      "117 ; like that\n",
      "117 ; for that\n",
      "117 ; back in\n",
      "116 ; you think\n",
      "116 ; they had\n",
      "116 ; of any\n",
      "116 ; has no\n",
      "116 ; br what\n",
      "115 ; with him\n",
      "115 ; which was\n",
      "115 ; the dialogue\n",
      "115 ; from this\n",
      "115 ; come to\n",
      "115 ; and when\n",
      "115 ; and as\n",
      "114 ; up for\n",
      "114 ; can say\n",
      "113 ; to look\n",
      "113 ; the more\n",
      "113 ; might have\n",
      "113 ; may have\n",
      "113 ; an excellent\n",
      "113 ; acting was\n",
      "112 ; who have\n",
      "112 ; was an\n",
      "112 ; so it\n",
      "112 ; order to\n",
      "112 ; movie as\n",
      "112 ; made it\n",
      "112 ; and an\n",
      "111 ; you like\n",
      "111 ; well done\n",
      "111 ; though it\n",
      "111 ; the past\n",
      "111 ; the guy\n",
      "111 ; the girl\n",
      "111 ; she has\n",
      "111 ; same time\n",
      "111 ; real life\n",
      "111 ; or not\n",
      "111 ; only one\n",
      "111 ; his character\n",
      "111 ; for him\n",
      "110 ; we re\n",
      "110 ; was good\n",
      "110 ; to work\n",
      "110 ; the day\n",
      "110 ; manages to\n",
      "110 ; made in\n",
      "110 ; is what\n",
      "110 ; good as\n",
      "110 ; funny and\n",
      "110 ; and for\n",
      "109 ; the lead\n",
      "109 ; also the\n",
      "108 ; that has\n",
      "108 ; so that\n",
      "108 ; place in\n",
      "108 ; over and\n",
      "108 ; nothing to\n",
      "108 ; makes the\n",
      "108 ; he had\n",
      "108 ; ever made\n",
      "108 ; close to\n",
      "108 ; attempt to\n",
      "107 ; out and\n",
      "107 ; is all\n",
      "107 ; comes to\n",
      "107 ; an interesting\n",
      "106 ; type of\n",
      "106 ; that will\n",
      "106 ; that one\n",
      "106 ; not that\n",
      "106 ; it so\n",
      "106 ; his father\n",
      "106 ; goes to\n",
      "106 ; find out\n",
      "106 ; at first\n",
      "105 ; this time\n",
      "105 ; the late\n",
      "105 ; that can\n",
      "105 ; scene where\n",
      "105 ; on dvd\n",
      "105 ; is only\n",
      "105 ; and very\n",
      "104 ; was going\n",
      "104 ; tried to\n",
      "104 ; the early\n",
      "104 ; of being\n",
      "104 ; it should\n",
      "104 ; is as\n",
      "104 ; idea of\n",
      "104 ; her to\n",
      "104 ; guy who\n",
      "104 ; go on\n",
      "104 ; for you\n",
      "104 ; as one\n",
      "104 ; an hour\n",
      "103 ; until the\n",
      "103 ; though the\n",
      "103 ; that in\n",
      "103 ; that could\n",
      "103 ; since the\n",
      "103 ; movies that\n",
      "103 ; is nothing\n",
      "103 ; directed by\n",
      "103 ; as you\n",
      "103 ; as good\n",
      "103 ; anyone who\n",
      "102 ; your time\n",
      "102 ; ve been\n",
      "102 ; time the\n",
      "102 ; the special\n",
      "102 ; so the\n",
      "102 ; my life\n",
      "102 ; main character\n",
      "102 ; made the\n",
      "102 ; is actually\n",
      "102 ; good but\n",
      "102 ; film as\n",
      "101 ; the future\n",
      "101 ; scene in\n",
      "101 ; on it\n",
      "101 ; on her\n",
      "101 ; me the\n",
      "101 ; for their\n",
      "101 ; can only\n",
      "101 ; all this\n",
      "100 ; with all\n",
      "100 ; thing that\n",
      "100 ; people in\n",
      "100 ; it that\n",
      "100 ; here is\n",
      "100 ; but when\n",
      "99 ; you to\n",
      "99 ; not as\n",
      "99 ; it out\n",
      "99 ; is going\n",
      "99 ; example of\n",
      "99 ; and don\n",
      "99 ; and at\n",
      "98 ; wife and\n",
      "98 ; watched this\n",
      "98 ; to mention\n",
      "98 ; to create\n",
      "98 ; the three\n",
      "98 ; the production\n",
      "98 ; saw it\n",
      "98 ; role of\n",
      "98 ; is on\n",
      "98 ; film for\n",
      "98 ; and one\n",
      "97 ; was that\n",
      "97 ; to their\n",
      "97 ; to save\n",
      "97 ; thought that\n",
      "97 ; this story\n",
      "97 ; seen this\n",
      "97 ; of your\n",
      "97 ; movies and\n",
      "97 ; makes it\n",
      "97 ; found it\n",
      "97 ; because they\n",
      "96 ; too bad\n",
      "96 ; to my\n",
      "96 ; out in\n",
      "96 ; made for\n",
      "96 ; his best\n",
      "96 ; half of\n",
      "96 ; acting and\n",
      "95 ; you could\n",
      "95 ; with their\n",
      "95 ; who can\n",
      "95 ; to help\n",
      "95 ; the part\n",
      "95 ; the killer\n",
      "95 ; of us\n",
      "95 ; number of\n",
      "95 ; must be\n",
      "95 ; it again\n",
      "95 ; and over\n",
      "94 ; was great\n",
      "94 ; too many\n",
      "94 ; the kind\n",
      "94 ; that makes\n",
      "94 ; saw the\n",
      "94 ; make up\n",
      "94 ; horror film\n",
      "94 ; he doesn\n",
      "94 ; down to\n",
      "94 ; are just\n",
      "93 ; you would\n",
      "93 ; woman who\n",
      "93 ; we get\n",
      "93 ; to use\n",
      "93 ; they can\n",
      "93 ; the police\n",
      "93 ; of which\n",
      "93 ; of one\n",
      "93 ; is probably\n",
      "93 ; horror movie\n",
      "93 ; got to\n",
      "93 ; from his\n",
      "93 ; as this\n",
      "93 ; and most\n",
      "93 ; and its\n",
      "93 ; an old\n",
      "93 ; actors and\n",
      "92 ; way the\n",
      "92 ; the novel\n",
      "92 ; only to\n",
      "92 ; it still\n",
      "92 ; is definitely\n",
      "92 ; first of\n",
      "92 ; after all\n",
      "91 ; will not\n",
      "91 ; very much\n",
      "91 ; to an\n",
      "91 ; them to\n",
      "91 ; the movies\n",
      "91 ; only thing\n",
      "91 ; on to\n",
      "91 ; make you\n",
      "91 ; let me\n",
      "91 ; is too\n",
      "91 ; here and\n",
      "91 ; her and\n",
      "91 ; could not\n",
      "91 ; as his\n",
      "91 ; and no\n",
      "90 ; to him\n",
      "90 ; think this\n",
      "90 ; series of\n",
      "90 ; scenes are\n",
      "90 ; not so\n",
      "90 ; not in\n",
      "90 ; movie about\n",
      "90 ; meant to\n",
      "90 ; love the\n",
      "90 ; has some\n",
      "90 ; fans of\n",
      "90 ; and with\n",
      "90 ; and can\n",
      "90 ; am not\n",
      "90 ; although the\n",
      "89 ; with that\n",
      "89 ; up on\n",
      "89 ; time it\n",
      "89 ; the problem\n",
      "89 ; the greatest\n",
      "89 ; that all\n",
      "89 ; something that\n",
      "89 ; it can\n",
      "89 ; is well\n",
      "89 ; have never\n",
      "89 ; give this\n",
      "89 ; decides to\n",
      "89 ; br all\n",
      "89 ; as she\n",
      "89 ; amount of\n",
      "88 ; to put\n",
      "88 ; the war\n",
      "88 ; the performances\n",
      "88 ; the kids\n",
      "88 ; the game\n",
      "88 ; than this\n",
      "88 ; show is\n",
      "88 ; recommend it\n",
      "88 ; of how\n",
      "88 ; middle of\n",
      "88 ; it at\n",
      "88 ; it an\n",
      "88 ; get it\n",
      "88 ; fun to\n",
      "88 ; do it\n",
      "88 ; bad it\n",
      "88 ; and are\n",
      "87 ; what you\n",
      "87 ; the american\n",
      "87 ; probably the\n",
      "87 ; one thing\n",
      "87 ; on tv\n",
      "87 ; much to\n",
      "87 ; it very\n",
      "87 ; it like\n",
      "87 ; is much\n",
      "87 ; is bad\n",
      "87 ; down the\n",
      "87 ; but you\n",
      "87 ; but she\n",
      "87 ; but is\n",
      "87 ; br my\n",
      "87 ; as in\n",
      "87 ; and think\n",
      "86 ; way through\n",
      "86 ; then you\n",
      "86 ; the theater\n",
      "86 ; see how\n",
      "86 ; me and\n",
      "86 ; managed to\n",
      "86 ; liked the\n",
      "86 ; like they\n",
      "86 ; just plain\n",
      "86 ; it up\n",
      "86 ; it may\n",
      "86 ; interested in\n",
      "86 ; if this\n",
      "86 ; great movie\n",
      "86 ; films that\n",
      "86 ; ends up\n",
      "86 ; compared to\n",
      "86 ; can get\n",
      "86 ; being the\n",
      "86 ; be in\n",
      "86 ; again and\n",
      "85 ; were the\n",
      "85 ; the name\n",
      "85 ; plot and\n",
      "85 ; on their\n",
      "85 ; not just\n",
      "85 ; many people\n",
      "85 ; just like\n",
      "85 ; it might\n",
      "85 ; it comes\n",
      "85 ; in film\n",
      "85 ; chance to\n",
      "85 ; an actor\n",
      "84 ; was also\n",
      "84 ; under the\n",
      "84 ; to bring\n",
      "84 ; this and\n",
      "84 ; thing about\n",
      "84 ; they could\n",
      "84 ; that what\n",
      "84 ; that his\n",
      "84 ; or so\n",
      "84 ; only the\n",
      "84 ; once again\n",
      "84 ; make this\n",
      "84 ; long time\n",
      "84 ; came out\n",
      "84 ; but as\n",
      "83 ; worth watching\n",
      "83 ; world of\n",
      "83 ; they do\n",
      "83 ; story line\n",
      "83 ; set in\n",
      "83 ; plays the\n",
      "83 ; of our\n",
      "83 ; of life\n",
      "83 ; more like\n",
      "83 ; know the\n",
      "83 ; he would\n",
      "83 ; did the\n",
      "83 ; despite the\n",
      "83 ; character and\n",
      "83 ; by his\n",
      "83 ; but what\n",
      "83 ; br don\n",
      "83 ; best of\n",
      "83 ; behind the\n",
      "83 ; against the\n",
      "82 ; what we\n",
      "82 ; very little\n",
      "82 ; to become\n",
      "82 ; the dead\n",
      "82 ; than that\n",
      "82 ; so far\n",
      "82 ; may not\n",
      "82 ; it didn\n",
      "82 ; if not\n",
      "82 ; every time\n",
      "82 ; do you\n",
      "82 ; br 10\n",
      "82 ; and on\n"
     ]
    }
   ],
   "source": [
    "\n",
    "vocab = vectorizer.vocabulary_\n",
    "\n",
    "count_values = X_train_onlybigram.toarray().sum(axis=0)\n",
    "\n",
    "# output n-grams\n",
    "for count, text in sorted([(count_values[i],k) for k,i in vocab.items()], reverse=True):\n",
    "    print(str(count), \";\", text)"
   ]
  },
  {
   "cell_type": "markdown",
   "metadata": {
    "colab_type": "text",
    "id": "n5oAIE_suXQb"
   },
   "source": [
    "## Term Frequency–Inverse Document Frequency (TF-IDF)\n",
    "\n",
    "The tf-idf value of term t in document d is:\n",
    "\n",
    "TF-IDF(t,d) = tf(t,d) x idf(t)\n",
    "\n",
    "where,\n",
    "\n",
    "tf(t,d) = count of term t in document d\n",
    "\n",
    "N = total number of documents\n",
    "\n",
    "df(t) = number of documents that term t occurs in\n",
    "\n",
    "idf(t) = N/df(t)\n",
    "\n",
    "A \"term\" is a token in our case."
   ]
  },
  {
   "cell_type": "code",
   "execution_count": 42,
   "metadata": {},
   "outputs": [],
   "source": [
    "#Image(\"tf_idf.png\") # (Jurafsky, D., & Martin, J. H., 2019. Chap. 6, p. 14)"
   ]
  },
  {
   "cell_type": "code",
   "execution_count": 43,
   "metadata": {
    "colab": {},
    "colab_type": "code",
    "id": "0kpyX2wKuWxY"
   },
   "outputs": [],
   "source": [
    "tfidf = TfidfVectorizer()\n",
    "X_train_tfidf = tfidf.fit_transform(df_train.review.values)"
   ]
  },
  {
   "cell_type": "markdown",
   "metadata": {},
   "source": [
    "### Document similarity with tf-idf vectors"
   ]
  },
  {
   "cell_type": "code",
   "execution_count": 39,
   "metadata": {},
   "outputs": [
    {
     "data": {
      "text/plain": [
       "(1, 74849)"
      ]
     },
     "execution_count": 39,
     "metadata": {},
     "output_type": "execute_result"
    }
   ],
   "source": [
    "X_train_tfidf[0].shape"
   ]
  },
  {
   "cell_type": "code",
   "execution_count": 40,
   "metadata": {},
   "outputs": [
    {
     "name": "stdout",
     "output_type": "stream",
     "text": [
      "most similar: [    0 23558 23470 17790  4719 24385 20550  6001  6096 20886]\n",
      "least similar [14867 11975 17497  5623  9340 14494 18802 16480 23603]\n"
     ]
    }
   ],
   "source": [
    "# https://scikit-learn.org/stable/modules/metrics.html#cosine-similarity\n",
    "cosine_similarities = cosine_similarity(X_train_tfidf[0], X_train_tfidf).flatten()\n",
    "\n",
    "indices = cosine_similarities.argsort()[::-1] # in descending order \n",
    "print(\"most similar:\",indices[:10])\n",
    "print(\"least similar\", indices[-9:])"
   ]
  },
  {
   "cell_type": "code",
   "execution_count": 41,
   "metadata": {},
   "outputs": [
    {
     "name": "stdout",
     "output_type": "stream",
     "text": [
      "Forbidden Siren is based upon the Siren 2 Playstation 2 (so many 2s) game. Like most video game turned movies, I would say the majority don't translate into a different medium really well. And that goes for this one too, painfully.<br /><br />There's a pretty long prologue which explains and sets the premise for the story, and the mysterious island on which a writer (Leo Morimoto) and his children, daughter Yuki (Yui Ichikawa) and son Hideo (Jun Nishiyama) come to move into. The villagers don't look all too friendly, and soon enough, sound advice is given about the siren on the island, to stay indoors once the siren starts wailing.<br /><br />Naturally and slowly, things start to go bump, and our siblings go on a mission beating around the bush to discover exactly what is happening on this unfriendly island with its strange inhabitants. But in truth, you will not bother with what's going on, as folklore and fairy tales get thrown in to convolute the plot even more. What was really pushing it into the realm of bad comedy are its unwittingly ill-placed-out-of-the-norm moments which just drew pitiful giggles at its sheer stupidity, until it's explained much later. It's one thing trying to come up and present something smart, but another thing doing it convincingly and with loopholes covered.<br /><br />Despite it clocking in under 90 minutes - I think it's a horror movie phenomenon to have that as a runtime benchmark - it gives that almost two hour feel with its slow buildup to tell what it wants to. Things begin to pick up toward the last 20 minutes, but it's a classic case of too little too late.<br /><br />What saves the movie is how it changes tack and its revelation at the end. Again this is a common device used to try and elevate a seemingly simple horror movie into something a little bit extra in the hope of wowing an audience. It turned out rather satisfactorily, but leaves a bad aftertaste as you'll feel cheated somewhat. There are two ways a twist will make you feel - it either elevates the movie to a memorable level, or provides you with that hokey feeling. Unfortunately Forbidden Siren belonged more to the latter.<br /><br />The saving grace will be its cinematography with its use of light, shadows and mirrors, but I will be that explicit - it's still not worth the time, so better to avoid this.\n",
      "\n",
      "most similar:  Okay, so I'm not a big video game buff, but was the game House of the Dead really famous enough to make a movie from? Sure, they went as far as to actually put in quick video game clips throughout the movie, as though justifying any particular scene of violence, but there are dozens and dozens of games that look exactly the same, with the hand in the bottom on the screen, supposedly your own, holding whatever weapon and goo-ing all kinds of aliens or walking dead or snipers or whatever the case may be.<br /><br />It's an interesting premise in House of the Dead, with a lot of college kids (LOADED college kids, as it were, kids who are able to pay some fisherman something like $1,500 just for a ride after they miss their boat) trying to get out to this island for what is supposed to be the rave of the year. The first thing that comes to mind about House of the Dead after watching it is that it has become increasingly clear that modern horror movies have become nothing more than an exercise in coming up with creative ways to get a lot of scantily clad teenagers into exactly the same situations. At least in this case, the fact that they were on their way to a rave excuses the way the girls are dressed. They look badly out of place running around the woods in cute little halter-tops, but at least they THOUGHT they were dressed for the occasion.<br /><br />Clint Howard, tellingly the most interesting character in the film by far, delivers an absolutely awful performance, the greatness of which overshadows every other actor in the movie. I can't stand it when well-known actors change their accents in movies, it is so rarely effective, and Howard here shows that it is equally flat to have an well-known actor pretend that he's this hardened fisherman with a raspy voice from years of breathing salty air. He didn't even rasp well. It sounded like he was eating a cinnamon roll before shooting and accidentally inhaled some powdered sugar or something. Real tough there, Clint! I expected more from him, but then again, he did agree to a part in this mess.<br /><br />Once we get to the island, the movie temporarily turns into any one of the Friday the 13th movies that took place at Camp Crystal Lake. Lots of teenagers played by actors who were way too old for their parts getting naked and then killed. The nudity was impressive, I guess, but let's consider something for a minute. These kids pay almost two grand to get out to this island to go to the Rave Of The Year, find NO ONE, and say, well, who wants a beer! Even the guy who pulled that stack of hundreds out of his wallet to get them all over there didn't think anything of it that they found a full bar and not a single solitary person in sight. Here you have the input from director Uwe Boll - There's alcohol! They won't notice that the party they came for consists of no one but themselves!<br /><br />So not only do they start drinking, not minding the fact that the whole party seems to have vacated the island, but when one of the girls goes off into the dark woods to find out where everyone is (dragging one other girl and one of the guys reluctantly along), the guy and the girl who stay behind to get smashed decide that it would be a great idea to strip down for a quickie now that they're alone. It's like they expected to find the island empty, and now that they rest of the people that they came over with were gone for a little while, they would have some privacy since there's no one else around. Brilliant!<br /><br />Now for the things that everyone hated, judging by the reviews that I've read about the movie. Yes, intersplicing shots from the video game into the movie, mostly in order to show that, yes, the movie was being faithful to/directly copying the video game. Sure, it was a stupid idea. I can't imagine who thought up that little nugget, but worse than that is the Matrix-style bullet time scenes that were thrown in over and over and over and over. After the first time (at which point I found it pretentious and cheesy for a movie like this to have a shot like that as though it was something original) it is noticeable more for the technique of the shot itself rather than any dramatic meaning or creation of any kind of tension for the film.<br /><br />One of the things that makes a zombie film scary and gets you on the edge of your seat is to have them slowly but relentlessly coming after the living humans, who are much faster but getting tired, running out of places to run, and with a terrifying shortage of things with which to fight the zombies off with. The first two are done right in the movie, the kids are terrified and don't have a lot of places to run since they're on an island, but since they caught a ride over with a smuggler, they find themselves heavily armed. And I mean that very strongly. I mean, these people have everything from machine guns to hand grenades, which removes most of the tension of the impending walking dead.<br /><br />Then you have what I call the techno-slasher scene. Since the rave never happened, and I guess since Uwe Boll thought people were going to be disappointed at not hearing any techno music in the movie, there's one scene right in the middle where all the humans are fighting off the living dead, and amazingly enough it turns into something of a music video. There's techno music blasting as the shots are edited together faster and faster until it's nothing but a blur of gory shot, mostly only about 5 frames long (which is about 1/6 of a second) flashing across the screen in time with the speed techno music. Clever, I guess, but it has no place in a horror movie because it completely removes any sense of scariness or tension of even the gross-out effect because you can't see any one thing for long enough to react to it. You're just watching these shots fly across the screen and wondering what the hell the director was thinking when he decided that it would be a good idea to put something like this in the movie.<br /><br />I've seen a lot of people compare this movie to Resident Evil, mostly claiming that it copies the premise of it, and they're exactly right. I appreciate that at least here, as was not the case in Resident Evil, it wasn't some man-made virus that turned people into walking dead that were able to infect other people, changing them the way vampires turn others into vampires. 28 Days Later was also clearly an inspiration for this movie, it's just too bad that House of the Dead didn't do a single original thing, except for the somewhat moronic idea of putting in quick shots of the video game on which it is based, just in case you forget. I really think that this should have been a much better movie. While obviously I can't say that I know much about the game it's based on, just the title and the movie poster deserve a much better movie, but unfortunately I think that's more often the case than not with horror movies. It's really kind of sad when a movie comes out that is so obviously advertised as a no-holds-barred horror film, and the scariest thing in the entire movie is the closing shot, which suggests the possibility of a sequel.\n",
      "\n",
      "least similar:  Cool idea... botched writing, botched directing, botched editing, botched acting. Sorta makes me wish I could play God and strike everyone involved in making this film with several bolts of lightning.\n"
     ]
    }
   ],
   "source": [
    "print(df_train.review.values[0])\n",
    "print()\n",
    "print(\"most similar: \", df_train.review.values[23558])\n",
    "print()\n",
    "print(\"least similar: \", df_train.review.values[23603])"
   ]
  },
  {
   "cell_type": "markdown",
   "metadata": {},
   "source": [
    "The similar text is also about a movie based on a video games! Also notice the similarity of lengths and that the least similar review is very short."
   ]
  },
  {
   "cell_type": "markdown",
   "metadata": {},
   "source": [
    "## Vector semantics / Vector Space Models / (word) embeddings"
   ]
  },
  {
   "cell_type": "code",
   "execution_count": 44,
   "metadata": {},
   "outputs": [
    {
     "data": {
      "image/jpeg": "[encoded data removed]",
      "text/html": [
       "\n",
       "        <iframe\n",
       "            width=\"740\"\n",
       "            height=\"460\"\n",
       "            src=\"https://www.youtube.com/embed/hcfgqgGHF4M\"\n",
       "            frameborder=\"0\"\n",
       "            allowfullscreen\n",
       "        ></iframe>\n",
       "        "
      ],
      "text/plain": [
       "<IPython.lib.display.YouTubeVideo at 0x1d068424c70>"
      ]
     },
     "execution_count": 44,
     "metadata": {},
     "output_type": "execute_result"
    }
   ],
   "source": [
    "YouTubeVideo('hcfgqgGHF4M', width=740, height=460)"
   ]
  },
  {
   "cell_type": "markdown",
   "metadata": {
    "colab_type": "text",
    "id": "LxxVF50zJSbF"
   },
   "source": [
    "Semantics: The *meaning* or catagory of a word.\n",
    "\n",
    "Context is important to understand a word and give it a descriptive representation (to encoding it's meaning). \n",
    "\n",
    "Assumption/intution: Two words are similar if they appear in similar contexts.\n",
    "\n",
    "Now, instead just counting the words, we use a seperate model that should learn good feature vectors based on the above assumption. A popular model is called Word2Vec, which can learn feature vectors (i.e. word embeddings) in two different ways:\n",
    "\n",
    "\n",
    "Word2Vec architectures:\n",
    "\n",
    "- CBOW: Learn word embeddings by predicting a focus word given a context. \"The _ in the hat\".\n",
    "\n",
    "- Skip-gram: Learn word embeddings by predicting context words given focus word. \"_ cat _ _ _\".\n",
    "\n",
    "(https://arxiv.org/pdf/1301.3781.pdf ,\n",
    "https://papers.nips.cc/paper/5021-distributed-representations-of-words-and-phrases-and-their-compositionality.pdf, https://radimrehurek.com/gensim/models/word2vec.html)"
   ]
  },
  {
   "cell_type": "code",
   "execution_count": 47,
   "metadata": {
    "colab": {},
    "colab_type": "code",
    "id": "yYhUesNDJZJd"
   },
   "outputs": [
    {
     "name": "stderr",
     "output_type": "stream",
     "text": [
      "C:\\Users\\danib\\anaconda3\\lib\\site-packages\\gensim\\similarities\\__init__.py:15: UserWarning: The gensim.similarities.levenshtein submodule is disabled, because the optional Levenshtein package <https://pypi.org/project/python-Levenshtein/> is unavailable. Install Levenhstein (e.g. `pip install python-Levenshtein`) to suppress this warning.\n",
      "  warnings.warn(msg)\n"
     ]
    }
   ],
   "source": [
    "from gensim.models import Word2Vec\n",
    "\n",
    "# using the train_sents from earlier (the lowercased and tokenized sentences)\n",
    "model = Word2Vec(train_sents, vector_size=50)#the default learning algorithm is CBOW. To use skip-gram use the paramter sg=1.\n",
    "\n",
    "# You can load pretrained embeddings downloaded from: https://drive.google.com/file/d/0B7XkCwpI5KDYNlNUTTlSS21pQmM/edit?usp=sharing \n",
    "# BUT this takes up a lot of space (the file is over 1 GB) and a lot of RAM when you try to use it.\n",
    "# If you want to try it, write this:\n",
    "#model = gensim.models.KeyedVectors.load_word2vec_format(directory_path+'GoogleNews-vectors-negative300.bin', binary=True)\n"
   ]
  },
  {
   "cell_type": "code",
   "execution_count": 48,
   "metadata": {},
   "outputs": [
    {
     "name": "stdout",
     "output_type": "stream",
     "text": [
      "[ 0.71270806 -0.31769142 -1.4951129   0.8117136  -0.30582118  4.768937\n",
      "  0.65136933 -1.4646083  -2.8920631   2.4352632   1.6365921   1.3991555\n",
      "  1.2314132  -4.2850885   0.12885392  0.45901167 -2.4860027   1.2170495\n",
      " -0.585563    1.7488027  -1.1196803  -1.9225163   0.38394094  3.2242901\n",
      " -2.342125   -1.6705306   1.2655326  -2.3950536   0.27393886 -2.4314296\n",
      " -1.9280926  -0.765239    2.0888648  -1.7141681   1.4703386  -6.6484036\n",
      "  0.3249095  -0.9029476  -1.3360982   0.4280918   4.8129597  -1.7365242\n",
      " -3.646814   -1.4186025   0.3239006  -0.70414984  0.4201299  -0.99568295\n",
      " -1.3297943  -2.3665621 ]\n"
     ]
    }
   ],
   "source": [
    "print(model.wv['good'])"
   ]
  },
  {
   "cell_type": "code",
   "execution_count": 49,
   "metadata": {
    "scrolled": false
   },
   "outputs": [
    {
     "data": {
      "image/png": "[encoded data removed]",
      "text/plain": [
       "<Figure size 432x432 with 1 Axes>"
      ]
     },
     "metadata": {
      "needs_background": "light"
     },
     "output_type": "display_data"
    }
   ],
   "source": [
    "# Reducing the 50-dimensional vectors to 2 dimensions in order to visualise selected words.\n",
    "from sklearn.decomposition import PCA\n",
    "\n",
    "words = [\"drama\",\"comedy\", \"good\", \"great\", \"bad\", \"horrible\", \"cat\", \"dog\"]\n",
    "\n",
    "X = [model.wv['drama'], model.wv['comedy'], \n",
    "     model.wv['good'], model.wv['great'], \n",
    "     model.wv['bad'], model.wv['horrible'], \n",
    "     model.wv['cat'], model.wv['dog']]\n",
    "\n",
    "pca = PCA(n_components=2)\n",
    "X_r = pca.fit(X).transform(X)\n",
    "\n",
    "plt.figure(figsize=(6,6))\n",
    "plt.scatter(X_r[:,0], X_r[:,1], edgecolors='k', c='r')\n",
    "for word, (x,y) in zip(words, X_r):\n",
    "    plt.text(x+0.2, y+0.1, word)"
   ]
  },
  {
   "cell_type": "markdown",
   "metadata": {},
   "source": [
    "We now have a unique embedding vector mapped to each word. But what if we want to work with sentences/documents that contain many words and with a variying number of words in them? If you are doing machine learning (and are not using some fancy model that can handle varying lengts), the input vectors for your model have to be of same length. And the input of one element (for example one document), should preferably be a vector rather than a matrix (i.e. having an array with arrays of word embeddings as input will not work in most cases). So you need to make a decision of how to to use word embeddings for such cases. \n",
    "\n",
    "You could, for example, concatenate the vectors and choose a cut-off point for a given maximum number of words, where every sentence longer than that will be cut short, and every sentence shorter will be appended vectors containing zeroes. Or you can simply take the mean at axis 0, such that each document is represented by a single vector of length 50. I show the latter here:"
   ]
  },
  {
   "cell_type": "code",
   "execution_count": 50,
   "metadata": {},
   "outputs": [],
   "source": [
    "# Take the mean of the word vectors to get one vector for each text \n",
    "# (rather than a list of word vectors for each text)\n",
    "\n",
    "embedded_text = np.array([np.mean([model.wv[w] if w in model.wv.key_to_index.keys() else np.zeros(50) for w in words], axis=0) for words in train_sents])"
   ]
  },
  {
   "cell_type": "code",
   "execution_count": 51,
   "metadata": {},
   "outputs": [
    {
     "data": {
      "text/plain": [
       "(25000, 50)"
      ]
     },
     "execution_count": 51,
     "metadata": {},
     "output_type": "execute_result"
    }
   ],
   "source": [
    "embedded_text.shape"
   ]
  },
  {
   "cell_type": "markdown",
   "metadata": {},
   "source": [
    "You can now check similarities between documents/reviews again and see how the results differ. You can also you the document embeddings in a Machine Learning model or for some type of clustering.\n",
    "\n",
    "Optional: Check whether increasing the vector_size for the word2vec model makes the similarites more meaningful."
   ]
  },
  {
   "cell_type": "code",
   "execution_count": 52,
   "metadata": {
    "scrolled": true
   },
   "outputs": [
    {
     "name": "stdout",
     "output_type": "stream",
     "text": [
      "most similar: [    0 13599 22472  2360  5853  3280  5052  9144 17951 24254]\n",
      "least similar [16452 12780 10288  9527 22666 18819  7270 19309 22007]\n",
      "Forbidden Siren is based upon the Siren 2 Playstation 2 (so many 2s) game. Like most video game turned movies, I would say the majority don't translate into a different medium really well. And that goes for this one too, painfully.<br /><br />There's a pretty long prologue which explains and sets the premise for the story, and the mysterious island on which a writer (Leo Morimoto) and his children, daughter Yuki (Yui Ichikawa) and son Hideo (Jun Nishiyama) come to move into. The villagers don't look all too friendly, and soon enough, sound advice is given about the siren on the island, to stay indoors once the siren starts wailing.<br /><br />Naturally and slowly, things start to go bump, and our siblings go on a mission beating around the bush to discover exactly what is happening on this unfriendly island with its strange inhabitants. But in truth, you will not bother with what's going on, as folklore and fairy tales get thrown in to convolute the plot even more. What was really pushing it into the realm of bad comedy are its unwittingly ill-placed-out-of-the-norm moments which just drew pitiful giggles at its sheer stupidity, until it's explained much later. It's one thing trying to come up and present something smart, but another thing doing it convincingly and with loopholes covered.<br /><br />Despite it clocking in under 90 minutes - I think it's a horror movie phenomenon to have that as a runtime benchmark - it gives that almost two hour feel with its slow buildup to tell what it wants to. Things begin to pick up toward the last 20 minutes, but it's a classic case of too little too late.<br /><br />What saves the movie is how it changes tack and its revelation at the end. Again this is a common device used to try and elevate a seemingly simple horror movie into something a little bit extra in the hope of wowing an audience. It turned out rather satisfactorily, but leaves a bad aftertaste as you'll feel cheated somewhat. There are two ways a twist will make you feel - it either elevates the movie to a memorable level, or provides you with that hokey feeling. Unfortunately Forbidden Siren belonged more to the latter.<br /><br />The saving grace will be its cinematography with its use of light, shadows and mirrors, but I will be that explicit - it's still not worth the time, so better to avoid this.\n",
      "\n",
      "most similar:  Before the regular comments, my main curiosity about THIS IS NOT A LOVE SONG is that while there's a running time listed on IMDb of 94 minutes, the DVD from Wellspring Media in the United States runs 88 minutes. Any input on this is appreciated!<br /><br />Two friends with very rough lives take on the road for an adventure. What they wind up in is just that, with one accidentally shooting a girl and the two escaping by foot into the countryside. Rather than just a big chase, the film is complicated by the the daft and rather childlike Spike behaving inappropriately, and clutching his boom box like a teddy bear. Some viewers may dislike the story based solely upon the character Spike, but without a bit of frustration added to the story, the film would have been too easy. You'll notice the way the more stable character Heaton refers to Spike as \"big man\" in contrast to Spike's \"kid out of control\" attitude and behavior. Frankly, I too was aggravated by Spike's ridiculous actions, especially the spray can sniffing, but in a desperate situation it's apparent someone of his mentality would choose an temporary escape. But, Heaton was there to keep things in check up until things get way over his head as well.<br /><br />Kenny Glenaan as Heaton is a marvel, and after a while I quit wondering why in the heck he would want to pick Spike up from prison and continue a friendship, due to Glenaan's great performance. After all, there are many many reasons during their run that would be a good idea for Heaton to just ditch Spike and try to save himself. I suppose Heaton felt like a protective older brother to Spike, and the loyalty between the two is hard to break -- until things get too desperate.<br /><br />While some of the cinematography is indeed artsy, it does offer more flavor to story instead of just shots of the men running through the wilderness. The beautiful landscapes, rain, and vast gray skies offer a somber tone that increases the feel of the tragic circumstances. The score is unusual as well, and the use of Public Image Ltd.'s song \"This Is Not A Love Song\" and as the title of the film is quite smart.<br /><br />Overall, it's understandable if you don't care for THIS IS NOT A LOVE SONG as it's focused on two contrasting personalities escaping from another man determined to hunt them down (played by a cool, quiet David Bradley). It's not big-budget action entertainment. For the rest of us that enjoy seeking out something minimal and dramatic, it's time worthwhile spent, and it DOES offer some extremely tense moments that have you holding your breath a bit.<br /><br />I'm really enjoying the films coming out of Scotland recently, with the likes of this one, Dog Soldiers, and The Devil's Tattoo. I'm also a bit thankful for the subtitles offered on this DVD, as the accents are sometimes lightning fast and difficult for some viewers like me to understand. <br /><br />Frustrating, dark, and often tense, THIS IS NOT A LOVE SONG is very tragic yet engrossing storytelling.<br /><br />\n",
      "\n",
      "least similar:  Creative use of modern and mystical elements: 1956 Cadillac convertible to transport evil stepmother Kathleen Turner (John Waters' \"Serial Mom\") and the 2 twisted sisters; Queen Mab as the faerie godmother; David Warner (Evil in \"Time Bandits\") in redcoat at court; Cinderella (she's a babe) shovelling coal into an insatiable furnace; Cinderella and her prince charming both look like (and act like) rock stars. Isle of Man locations.\n"
     ]
    }
   ],
   "source": [
    "# Using the averaged word2vec document embeddings to find similar documents:\n",
    "cosine_similarities = cosine_similarity(embedded_text[0].reshape(1,50), embedded_text[:]).flatten()\n",
    "indices = cosine_similarities.argsort()[::-1] # in descending order \n",
    "print(\"most similar:\",indices[:10])\n",
    "print(\"least similar\", indices[-9:])\n",
    "print(df_train.review.values[0])\n",
    "print()\n",
    "print(\"most similar: \", df_train.review.values[5052])\n",
    "print()\n",
    "print(\"least similar: \", df_train.review.values[22007])"
   ]
  },
  {
   "cell_type": "markdown",
   "metadata": {},
   "source": [
    "There exists many methods for learning good word embeddings, and a lot of pre-trained options as well, but these a primarily available for English text. Here are three other popular options besides Word2Vec, for those who are interested in diving more into that (but I do not expect you to do so for this course):\n",
    "- FastText\n",
    "- Glove\n",
    "- BERT\n",
    "\n",
    "BERT is currently the most widely used model for representing text, especially it's large pretrained embeddings. But it is perhaps also more complex to get started with, and definetly less interpretable."
   ]
  },
  {
   "cell_type": "markdown",
   "metadata": {
    "colab_type": "text",
    "id": "G6VqM8OkhssH"
   },
   "source": [
    "# Text classification\n",
    "\n",
    "We will now build a classifier that will classify text as having a positive (1) or negative (0) sentiment!"
   ]
  },
  {
   "cell_type": "code",
   "execution_count": 45,
   "metadata": {},
   "outputs": [
    {
     "data": {
      "image/jpeg": "[encoded data removed]",
      "text/html": [
       "\n",
       "        <iframe\n",
       "            width=\"740\"\n",
       "            height=\"460\"\n",
       "            src=\"https://www.youtube.com/embed/1OFSYHkecbA\"\n",
       "            frameborder=\"0\"\n",
       "            allowfullscreen\n",
       "        ></iframe>\n",
       "        "
      ],
      "text/plain": [
       "<IPython.lib.display.YouTubeVideo at 0x1d068424c40>"
      ]
     },
     "execution_count": 45,
     "metadata": {},
     "output_type": "execute_result"
    }
   ],
   "source": [
    "YouTubeVideo('1OFSYHkecbA', width=740, height=460)"
   ]
  },
  {
   "cell_type": "markdown",
   "metadata": {
    "colab_type": "text",
    "id": "AVSmfjPKbmkG"
   },
   "source": [
    "## Text classification with logistic regression"
   ]
  },
  {
   "cell_type": "code",
   "execution_count": 53,
   "metadata": {
    "colab": {},
    "colab_type": "code",
    "id": "R3E28RXfbiR3"
   },
   "outputs": [
    {
     "name": "stdout",
     "output_type": "stream",
     "text": [
      "training accuracy: 0.93328\n",
      "testing accuracy: 0.88316\n"
     ]
    }
   ],
   "source": [
    "# Get feature vectors\n",
    "tfidf = TfidfVectorizer()\n",
    "# use your own preprocessing function in the vectorizer when you've finished that exercise:\n",
    "#tfidf = TfidfVectorizer(tokenizer=preprocess)\n",
    "X_train_tfidf = tfidf.fit_transform(df_train.review.values)\n",
    "X_test_tfidf = tfidf.transform(df_test.review.values)\n",
    "\n",
    "# labels\n",
    "y_train = df_train.sentiment.values\n",
    "y_test = df_test.sentiment.values\n",
    "\n",
    "# classifier\n",
    "lr = LogisticRegression(random_state=0)\n",
    "\n",
    "#training\n",
    "lr.fit(X_train_tfidf,y_train)\n",
    "\n",
    "#testing\n",
    "train_preds = lr.predict(X_train_tfidf)\n",
    "test_preds = lr.predict(X_test_tfidf)\n",
    "print(\"training accuracy:\", np.mean([(train_preds==y_train)]))\n",
    "print(\"testing accuracy:\", np.mean([(test_preds==y_test)]))"
   ]
  },
  {
   "cell_type": "markdown",
   "metadata": {},
   "source": [
    "### Let's look at the features' coeffiecients\n",
    "\n",
    "Training a logistic regression classifier and inspecting the coefficients is a great - and simple - way to learn what words are important for a class/category. You can use the result in a word cloud! Or if you have texts written by, for example, two political parties and with sentiment labels (or some other labels) you can train a model on each party and compare most important words - this can tell you something about the language use in different parties, and if using higher orders of n-grams, you may see which subjects are more often talked about in a positive/negative manner."
   ]
  },
  {
   "cell_type": "code",
   "execution_count": 54,
   "metadata": {},
   "outputs": [
    {
     "data": {
      "text/html": [
       "<div>\n",
       "<style scoped>\n",
       "    .dataframe tbody tr th:only-of-type {\n",
       "        vertical-align: middle;\n",
       "    }\n",
       "\n",
       "    .dataframe tbody tr th {\n",
       "        vertical-align: top;\n",
       "    }\n",
       "\n",
       "    .dataframe thead th {\n",
       "        text-align: right;\n",
       "    }\n",
       "</style>\n",
       "<table border=\"1\" class=\"dataframe\">\n",
       "  <thead>\n",
       "    <tr style=\"text-align: right;\">\n",
       "      <th></th>\n",
       "      <th>00</th>\n",
       "      <th>000</th>\n",
       "      <th>0000000000001</th>\n",
       "      <th>00001</th>\n",
       "      <th>00015</th>\n",
       "      <th>000s</th>\n",
       "      <th>001</th>\n",
       "      <th>003830</th>\n",
       "      <th>006</th>\n",
       "      <th>007</th>\n",
       "      <th>...</th>\n",
       "      <th>était</th>\n",
       "      <th>état</th>\n",
       "      <th>étc</th>\n",
       "      <th>évery</th>\n",
       "      <th>êxtase</th>\n",
       "      <th>ís</th>\n",
       "      <th>ísnt</th>\n",
       "      <th>østbye</th>\n",
       "      <th>über</th>\n",
       "      <th>üvegtigris</th>\n",
       "    </tr>\n",
       "  </thead>\n",
       "  <tbody>\n",
       "    <tr>\n",
       "      <th>0</th>\n",
       "      <td>-0.096569</td>\n",
       "      <td>-0.305337</td>\n",
       "      <td>-0.033966</td>\n",
       "      <td>-0.038521</td>\n",
       "      <td>-0.005573</td>\n",
       "      <td>0.024453</td>\n",
       "      <td>-0.032348</td>\n",
       "      <td>0.031637</td>\n",
       "      <td>0.013828</td>\n",
       "      <td>0.056278</td>\n",
       "      <td>...</td>\n",
       "      <td>0.041276</td>\n",
       "      <td>0.047509</td>\n",
       "      <td>0.034055</td>\n",
       "      <td>-0.081397</td>\n",
       "      <td>0.016038</td>\n",
       "      <td>0.002182</td>\n",
       "      <td>-0.035297</td>\n",
       "      <td>0.01018</td>\n",
       "      <td>-0.084577</td>\n",
       "      <td>-0.053029</td>\n",
       "    </tr>\n",
       "  </tbody>\n",
       "</table>\n",
       "<p>1 rows × 74849 columns</p>\n",
       "</div>"
      ],
      "text/plain": [
       "         00       000  0000000000001     00001     00015      000s       001  \\\n",
       "0 -0.096569 -0.305337      -0.033966 -0.038521 -0.005573  0.024453 -0.032348   \n",
       "\n",
       "     003830       006       007  ...     était      état       étc     évery  \\\n",
       "0  0.031637  0.013828  0.056278  ...  0.041276  0.047509  0.034055 -0.081397   \n",
       "\n",
       "     êxtase        ís      ísnt   østbye      über  üvegtigris  \n",
       "0  0.016038  0.002182 -0.035297  0.01018 -0.084577   -0.053029  \n",
       "\n",
       "[1 rows x 74849 columns]"
      ]
     },
     "execution_count": 54,
     "metadata": {},
     "output_type": "execute_result"
    }
   ],
   "source": [
    "features = ['_'.join(s.split()) for s in tfidf.get_feature_names()]\n",
    "coefficients = lr.coef_\n",
    "coefs_df = pd.DataFrame.from_records(coefficients, columns=features)\n",
    "coefs_df"
   ]
  },
  {
   "cell_type": "code",
   "execution_count": 55,
   "metadata": {},
   "outputs": [
    {
     "name": "stdout",
     "output_type": "stream",
     "text": [
      "                   0\n",
      "great       7.597993\n",
      "excellent   6.185474\n",
      "best        5.127967\n",
      "perfect     4.818600\n",
      "wonderful   4.676444\n",
      "amazing     4.164898\n",
      "well        4.061736\n",
      "loved       3.835260\n",
      "fun         3.805573\n",
      "today       3.782701\n",
      "love        3.782314\n",
      "favorite    3.743822\n",
      "enjoyed     3.513010\n",
      "highly      3.390157\n",
      "brilliant   3.353821\n",
      "it          3.330147\n",
      "superb      3.321679\n",
      "and         3.176546\n",
      "definitely  3.031838\n",
      "still       2.983629\n",
      "\n",
      "                      0\n",
      "worst         -9.242321\n",
      "bad           -7.956060\n",
      "awful         -6.493183\n",
      "waste         -6.278238\n",
      "boring        -6.020011\n",
      "poor          -5.448303\n",
      "terrible      -4.848693\n",
      "nothing       -4.761642\n",
      "worse         -4.577197\n",
      "no            -4.394958\n",
      "horrible      -4.208934\n",
      "poorly        -4.167156\n",
      "dull          -4.155190\n",
      "unfortunately -3.984436\n",
      "script        -3.871557\n",
      "annoying      -3.827654\n",
      "stupid        -3.818522\n",
      "ridiculous    -3.668310\n",
      "minutes       -3.600162\n",
      "instead       -3.526372\n"
     ]
    }
   ],
   "source": [
    "print(coefs_df.T.sort_values(by=[0], ascending=False).head(20))\n",
    "print()\n",
    "print(coefs_df.T.sort_values(by=[0], ascending=True).head(20))"
   ]
  },
  {
   "cell_type": "markdown",
   "metadata": {
    "colab_type": "text",
    "id": "X7x4TpmbcHHk"
   },
   "source": [
    "Earlier during this course, you have been taught how to do cross-validation. If you want to develop a good model for sentiment classification, it is good practice to use cross-validation and experiment with different vectorizers and classifiers. We will not be doing it in this notebook, but in the PML textbook page 268 you will find an example of how to use sklearn's GridSearchCV to experiment with the count and tfidf vectorizer and with different hyperparamters for both the vectorizers (such as the ngram_range) and the logistic regression classifier, to find the best model."
   ]
  },
  {
   "cell_type": "markdown",
   "metadata": {
    "colab_type": "text",
    "id": "jHLDsg-Cvo8o"
   },
   "source": [
    "### Exercise 3: Cross-domain evaluation (to assess generalizability)\n",
    "\n",
    "This is a larger exercise where you will put together what you have learned above and start doing an error analysis to become familiar with some limitations of text classification. In this exercise we are including a new dataset, and we will be reusing the vectorizer and classifier defined above (tfidf and lr, respectively) - if you haven't yet run the cells above, containing this code, then do that now. Then follow these steps:\n",
    "\n",
    "1. Download the Airline sentiment dataset from Kaggle (you may need to login to download it): https://www.kaggle.com/crowdflower/twitter-airline-sentiment\n",
    "\n",
    "General note on tweets: Tweets are messy (generally require a lot a of preproccesing if used to train a ML model).\n",
    "\n",
    "2. Load the data into a dataframe named tweet_df. \n",
    "\n",
    "3. As you can see, the samples have three labels (neg, pos, neutral). You have to either relabel neutral tweets as positive or remove neutral tweets from the dataframe entirely.\n",
    "\n",
    "4. Extract features from the tweets using the tf-idf vectorizer previously fitted on the Imdb review training data -- meaning, you should NOT use fit_transform(), but only use .transform().\n",
    "\n",
    "5. Use the previously trained logistic regression classifier and make predictions over your vectorized tweets -- meaning, you should NOT use .fit(), but only use .predict(). Report testing accuracy.\n",
    "\n",
    "6. Finally, answer these questions:\n",
    "\n",
    "    A) How well does your model perform in this other domain? \n",
    "    \n",
    "    B) Can you identify the types of errors it makes? (hint: you can make a confusion matrix and you can look at the words, and their respective coefficients, of relevant examples of misclassification). If you don't know what to do, just skip this.\n",
    "    \n",
    "    C) Now, **fit a new vectorizer and logistic regression classifier** on the airline tweets (remove mentions, @user, as the very least amount of preprocessing. To do this, you can write ```[re.sub(\"@[A-Za-z0-9]+\",\"\",sent) for sent in tweet_df.text.values]```). What are the difference between most important features (high and low coeffiecients) between this model and your original model trained on the Imdb reviews? And what does this mean for the models' ability to generalize to new data?"
   ]
  },
  {
   "cell_type": "code",
   "execution_count": null,
   "metadata": {
    "colab": {},
    "colab_type": "code",
    "id": "PH1DuKA5cq6Q"
   },
   "outputs": [],
   "source": [
    "# YOUR CODE HERE"
   ]
  },
  {
   "cell_type": "markdown",
   "metadata": {},
   "source": [
    "## Lexicons for sentiment analysis "
   ]
  },
  {
   "cell_type": "markdown",
   "metadata": {},
   "source": [
    "### Vader "
   ]
  },
  {
   "cell_type": "code",
   "execution_count": null,
   "metadata": {},
   "outputs": [],
   "source": [
    "# Vader lexicon\n",
    "analyser = vaderSentiment.SentimentIntensityAnalyzer()\n",
    "snt = analyser.polarity_scores(sentence)\n",
    "#print(sentence)\n",
    "print(snt)\n",
    "compound = snt[\"compound\"] # how to scoring works: https://github.com/cjhutto/vaderSentiment#about-the-scoring"
   ]
  },
  {
   "cell_type": "markdown",
   "metadata": {},
   "source": [
    "### Afinn "
   ]
  },
  {
   "cell_type": "code",
   "execution_count": null,
   "metadata": {},
   "outputs": [],
   "source": [
    "# Afinn lexicon\n",
    "afn = Afinn(emoticons=True)\n",
    "print(afn.score(sentence))"
   ]
  },
  {
   "cell_type": "code",
   "execution_count": null,
   "metadata": {},
   "outputs": [],
   "source": [
    "example_neg = \"congrats on making an all-together predictable movie\"\n",
    "example_pos = \"OMG I literally died!\"\n",
    "\n",
    "print(afn.score(example_neg))\n",
    "print(afn.score(example_pos))"
   ]
  },
  {
   "cell_type": "markdown",
   "metadata": {},
   "source": [
    "### SentiWordNet "
   ]
  },
  {
   "cell_type": "code",
   "execution_count": null,
   "metadata": {},
   "outputs": [],
   "source": [
    "# lexicon can be accessed with NLTK:\n",
    "nltk.download('sentiwordnet')\n",
    "good = nltk.corpus.sentiwordnet.senti_synsets('good', 'a') # a=adjective\n",
    "for i in good:\n",
    "    print(i)\n",
    "print()\n",
    "\n",
    "print(\"good.a.01 Definition: \", nltk.corpus.wordnet.synset('good.a.01').definition())\n",
    "print(\"good.a.03 Definition: \", nltk.corpus.wordnet.synset('good.a.03').definition())"
   ]
  },
  {
   "cell_type": "markdown",
   "metadata": {
    "colab_type": "text",
    "id": "tUvd_GflbPfz"
   },
   "source": [
    "### Exercise 4: Lexicon-based sentiment classification (no Machine Learning)\n",
    "Use the Vader lexicon to classify each review in the test set. Use the \"compound\" score where compound<=0 = negative review (0) and compound>0=positive review (1). Report the classification accuracy."
   ]
  },
  {
   "cell_type": "code",
   "execution_count": null,
   "metadata": {
    "colab": {},
    "colab_type": "code",
    "id": "0insarXzbO9v"
   },
   "outputs": [],
   "source": [
    "#Your code here"
   ]
  },
  {
   "cell_type": "markdown",
   "metadata": {},
   "source": [
    "# EXTRA \n",
    "\n",
    "### Topic Modelling example\n",
    "\n",
    "See https://www.machinelearningplus.com/nlp/topic-modeling-gensim-python/ "
   ]
  },
  {
   "cell_type": "code",
   "execution_count": null,
   "metadata": {},
   "outputs": [],
   "source": [
    "from gensim.models import ldamodel\n",
    "import gensim.corpora as corpora\n",
    "\n",
    "# Create Dictionary\n",
    "id2word = corpora.Dictionary(train_sents)\n",
    "\n",
    "# Create Corpus\n",
    "texts = train_sents\n",
    "\n",
    "# Term Document Frequency\n",
    "corpus = [id2word.doc2bow(text) for text in texts]\n",
    "\n",
    "lda_model = ldamodel.LdaModel(corpus=corpus,\n",
    "                               id2word=id2word,\n",
    "                                           num_topics=20,\n",
    "                                           random_state=100,\n",
    "                                           update_every=1,\n",
    "                                           passes=10,\n",
    "                                           alpha='auto',\n",
    "                                           per_word_topics=True)"
   ]
  },
  {
   "cell_type": "code",
   "execution_count": null,
   "metadata": {
    "scrolled": true
   },
   "outputs": [],
   "source": [
    "lda_model.print_topics()"
   ]
  },
  {
   "cell_type": "markdown",
   "metadata": {},
   "source": [
    "## Some NLP resources\n",
    "\n",
    "**NLTK** (as we have seen): Basic NLP tools such as tokenization, stemming, lemmatization, part-of-speech tagging (though not as good as the one from stanfordNLP), dependency parsing. https://www.nltk.org. Good introductory material here: https://www.nltk.org/book/\n",
    "\n",
    "**Wordnet**: A large lexicon of \"synsets\"; groups of words that are semantically closely related (synonyms). It can be used to infer word senses/meanings among other things https://wordnet.princeton.edu. \n",
    "\n",
    "**StanfordNLP (stanza)**: Tokenization, part-of-speech tagging, dependency parsing, named entity recognition, and more. https://stanfordnlp.github.io/stanza/.\n",
    "\n",
    "**Spacy**: More advanced NLP pipelines for feature extraction and more https://spacy.io\n",
    "\n",
    "**Gensim**: Popular models for word embeddings, e.g. word2vec and fastText, and more. https://radimrehurek.com/gensim/auto_examples/index.html\n"
   ]
  },
  {
   "cell_type": "markdown",
   "metadata": {},
   "source": [
    "## Project ideas\n",
    "\n",
    "- Predicting election outcomes or market trends from sentiment\n",
    "- Stance or sentiment towards political parties\n",
    "- Hate speech detection\n",
    "- Analysing overaching topics in a debate\n"
   ]
  },
  {
   "cell_type": "markdown",
   "metadata": {},
   "source": [
    "# Summary\n",
    "\n",
    "\n",
    "You've learned:\n",
    "- What to consider when preprocessing text\n",
    "- How to represent texts with numerical vectors\n",
    "- That you can find similar texts by calculating the distance between their vectors.\n",
    "- What word embeddings are and the basic intuition of it\n",
    "- Text classification\n",
    "- Possibilities with lexicons"
   ]
  },
  {
   "cell_type": "code",
   "execution_count": null,
   "metadata": {},
   "outputs": [],
   "source": []
  }
 ],
 "metadata": {
  "colab": {
   "collapsed_sections": [],
   "name": "Introduction to Social Data Science: Text as Data.ipynb",
   "provenance": []
  },
  "kernelspec": {
   "display_name": "Python 3",
   "language": "python",
   "name": "python3"
  },
  "language_info": {
   "codemirror_mode": {
    "name": "ipython",
    "version": 3
   },
   "file_extension": ".py",
   "mimetype": "text/x-python",
   "name": "python",
   "nbconvert_exporter": "python",
   "pygments_lexer": "ipython3",
   "version": "3.8.8"
  }
 },
 "nbformat": 4,
 "nbformat_minor": 1
}
